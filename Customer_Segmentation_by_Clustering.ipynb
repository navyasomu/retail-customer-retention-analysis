{
 "cells": [
  {
   "cell_type": "code",
   "execution_count": 1,
   "metadata": {},
   "outputs": [],
   "source": [
    "import warnings\n",
    "warnings.filterwarnings('ignore')"
   ]
  },
  {
   "cell_type": "code",
   "execution_count": 2,
   "metadata": {},
   "outputs": [],
   "source": [
    "import numpy as np\n",
    "import pandas as pd"
   ]
  },
  {
   "cell_type": "code",
   "execution_count": 3,
   "metadata": {},
   "outputs": [
    {
     "data": {
      "text/plain": [
       "['.ipynb_checkpoints',\n",
       " 'Customerdata_Test.csv',\n",
       " 'Customerdata_Train.csv',\n",
       " 'Customer_Segmentation by Clustering.ipynb',\n",
       " 'Customer_Segmentation.ipynb',\n",
       " 'Emaildata_Test.csv',\n",
       " 'Emaildata_Train.csv',\n",
       " 'final.csv',\n",
       " 'Maramreddy Chethan Krishna reddy.ipynb',\n",
       " 'merged.ipynb',\n",
       " 'Predicting the Retention Potential(MultiClass Classification).ipynb',\n",
       " 'Test.csv',\n",
       " 'Test_Data.ipynb',\n",
       " 'Train data-Copy1.ipynb',\n",
       " 'Train data-Copy2.ipynb',\n",
       " 'Train data-Copy3.ipynb',\n",
       " 'Train data.ipynb',\n",
       " 'Train.csv',\n",
       " 'Train_data_Copy1_(1)_(1).ipynb',\n",
       " 'transactionsdata_Test.csv',\n",
       " 'transactionsdata_Train.csv',\n",
       " 'Untitled.ipynb',\n",
       " 'Untitled1.ipynb',\n",
       " 'Untitled47.ipynb']"
      ]
     },
     "execution_count": 3,
     "metadata": {},
     "output_type": "execute_result"
    }
   ],
   "source": [
    "import os\n",
    "os.listdir('./')"
   ]
  },
  {
   "cell_type": "code",
   "execution_count": 4,
   "metadata": {},
   "outputs": [],
   "source": [
    "df1 = pd.read_csv('./Train.csv')\n",
    "df2 = pd.read_csv('./Customerdata_Train.csv')\n",
    "df3 = pd.read_csv('./transactionsdata_Train.csv')\n",
    "df4 = pd.read_csv('./Emaildata_Train.csv')"
   ]
  },
  {
   "cell_type": "code",
   "execution_count": 5,
   "metadata": {},
   "outputs": [
    {
     "data": {
      "text/plain": [
       "((23820, 2), (23820, 7), (104755, 4), (517672, 6))"
      ]
     },
     "execution_count": 5,
     "metadata": {},
     "output_type": "execute_result"
    }
   ],
   "source": [
    "df1.shape , df2.shape , df3.shape , df4.shape"
   ]
  },
  {
   "cell_type": "code",
   "execution_count": 6,
   "metadata": {},
   "outputs": [
    {
     "name": "stdout",
     "output_type": "stream",
     "text": [
      "Index(['CustomerID', 'RetentionPotential'], dtype='object')\n",
      "Index(['CustomerID', 'City', 'DateOfRegistration', 'OnlineCommunication',\n",
      "       'AutomaticRefill', 'DoorstepDelivery', 'PreferredDeliveryDay'],\n",
      "      dtype='object')\n",
      "Index(['CustomerID', 'DateOfOrder', 'timestamp', 'OrderQuantity'], dtype='object')\n",
      "Index(['CustomerID', 'DateOfemail', 'EmailType', 'timestamp', 'MailOpened',\n",
      "       'MailClicked'],\n",
      "      dtype='object')\n"
     ]
    }
   ],
   "source": [
    "print(df1.columns)\n",
    "print(df2.columns)\n",
    "print(df3.columns)\n",
    "print(df4.columns)"
   ]
  },
  {
   "cell_type": "code",
   "execution_count": 7,
   "metadata": {},
   "outputs": [
    {
     "data": {
      "text/plain": [
       "CustomerID            23820\n",
       "RetentionPotential        3\n",
       "dtype: int64"
      ]
     },
     "execution_count": 7,
     "metadata": {},
     "output_type": "execute_result"
    }
   ],
   "source": [
    "df1.nunique()"
   ]
  },
  {
   "cell_type": "code",
   "execution_count": 8,
   "metadata": {},
   "outputs": [
    {
     "data": {
      "text/plain": [
       "CustomerID              23820\n",
       "City                        4\n",
       "DateOfRegistration       2673\n",
       "OnlineCommunication         2\n",
       "AutomaticRefill             2\n",
       "DoorstepDelivery            2\n",
       "PreferredDeliveryDay        7\n",
       "dtype: int64"
      ]
     },
     "execution_count": 8,
     "metadata": {},
     "output_type": "execute_result"
    }
   ],
   "source": [
    "df2.nunique()"
   ]
  },
  {
   "cell_type": "code",
   "execution_count": 9,
   "metadata": {},
   "outputs": [
    {
     "data": {
      "text/plain": [
       "CustomerID       23820\n",
       "DateOfOrder       3151\n",
       "timestamp        21399\n",
       "OrderQuantity      451\n",
       "dtype: int64"
      ]
     },
     "execution_count": 9,
     "metadata": {},
     "output_type": "execute_result"
    }
   ],
   "source": [
    "df3.nunique()"
   ]
  },
  {
   "cell_type": "code",
   "execution_count": 10,
   "metadata": {},
   "outputs": [
    {
     "data": {
      "text/plain": [
       "CustomerID     23820\n",
       "DateOfemail     3382\n",
       "EmailType          2\n",
       "timestamp      14369\n",
       "MailOpened         2\n",
       "MailClicked        3\n",
       "dtype: int64"
      ]
     },
     "execution_count": 10,
     "metadata": {},
     "output_type": "execute_result"
    }
   ],
   "source": [
    "df4.nunique()"
   ]
  },
  {
   "cell_type": "code",
   "execution_count": 11,
   "metadata": {},
   "outputs": [],
   "source": [
    "data1 = pd.merge(df1,df2,on=['CustomerID'],how = 'inner')"
   ]
  },
  {
   "cell_type": "code",
   "execution_count": 12,
   "metadata": {},
   "outputs": [
    {
     "data": {
      "text/plain": [
       "(23820, 8)"
      ]
     },
     "execution_count": 12,
     "metadata": {},
     "output_type": "execute_result"
    }
   ],
   "source": [
    "data1.shape"
   ]
  },
  {
   "cell_type": "code",
   "execution_count": 13,
   "metadata": {},
   "outputs": [
    {
     "data": {
      "text/plain": [
       "CustomerID              23820\n",
       "RetentionPotential          3\n",
       "City                        4\n",
       "DateOfRegistration       2673\n",
       "OnlineCommunication         2\n",
       "AutomaticRefill             2\n",
       "DoorstepDelivery            2\n",
       "PreferredDeliveryDay        7\n",
       "dtype: int64"
      ]
     },
     "execution_count": 13,
     "metadata": {},
     "output_type": "execute_result"
    }
   ],
   "source": [
    "data1.nunique()"
   ]
  },
  {
   "cell_type": "code",
   "execution_count": 14,
   "metadata": {},
   "outputs": [
    {
     "data": {
      "text/html": [
       "<div>\n",
       "<style scoped>\n",
       "    .dataframe tbody tr th:only-of-type {\n",
       "        vertical-align: middle;\n",
       "    }\n",
       "\n",
       "    .dataframe tbody tr th {\n",
       "        vertical-align: top;\n",
       "    }\n",
       "\n",
       "    .dataframe thead th {\n",
       "        text-align: right;\n",
       "    }\n",
       "</style>\n",
       "<table border=\"1\" class=\"dataframe\">\n",
       "  <thead>\n",
       "    <tr style=\"text-align: right;\">\n",
       "      <th></th>\n",
       "      <th>CustomerID</th>\n",
       "      <th>RetentionPotential</th>\n",
       "      <th>City</th>\n",
       "      <th>DateOfRegistration</th>\n",
       "      <th>OnlineCommunication</th>\n",
       "      <th>AutomaticRefill</th>\n",
       "      <th>DoorstepDelivery</th>\n",
       "      <th>PreferredDeliveryDay</th>\n",
       "    </tr>\n",
       "  </thead>\n",
       "  <tbody>\n",
       "    <tr>\n",
       "      <th>0</th>\n",
       "      <td>C37869</td>\n",
       "      <td>Low</td>\n",
       "      <td>CITY4</td>\n",
       "      <td>7/27/2011</td>\n",
       "      <td>0</td>\n",
       "      <td>0</td>\n",
       "      <td>0</td>\n",
       "      <td>Thursday</td>\n",
       "    </tr>\n",
       "    <tr>\n",
       "      <th>1</th>\n",
       "      <td>C33841</td>\n",
       "      <td>Low</td>\n",
       "      <td>CITY1</td>\n",
       "      <td>11/19/2013</td>\n",
       "      <td>1</td>\n",
       "      <td>0</td>\n",
       "      <td>1</td>\n",
       "      <td>Thursday</td>\n",
       "    </tr>\n",
       "    <tr>\n",
       "      <th>2</th>\n",
       "      <td>C29464</td>\n",
       "      <td>Low</td>\n",
       "      <td>CITY2</td>\n",
       "      <td>5/24/2010</td>\n",
       "      <td>0</td>\n",
       "      <td>0</td>\n",
       "      <td>0</td>\n",
       "      <td>Tuesday</td>\n",
       "    </tr>\n",
       "    <tr>\n",
       "      <th>3</th>\n",
       "      <td>C28158</td>\n",
       "      <td>Low</td>\n",
       "      <td>CITY1</td>\n",
       "      <td>6/19/2017</td>\n",
       "      <td>1</td>\n",
       "      <td>0</td>\n",
       "      <td>0</td>\n",
       "      <td>Saturday</td>\n",
       "    </tr>\n",
       "    <tr>\n",
       "      <th>4</th>\n",
       "      <td>C22785</td>\n",
       "      <td>High</td>\n",
       "      <td>CITY2</td>\n",
       "      <td>12/13/2013</td>\n",
       "      <td>1</td>\n",
       "      <td>0</td>\n",
       "      <td>0</td>\n",
       "      <td>Thursday</td>\n",
       "    </tr>\n",
       "  </tbody>\n",
       "</table>\n",
       "</div>"
      ],
      "text/plain": [
       "  CustomerID RetentionPotential   City DateOfRegistration  \\\n",
       "0     C37869                Low  CITY4          7/27/2011   \n",
       "1     C33841                Low  CITY1         11/19/2013   \n",
       "2     C29464                Low  CITY2          5/24/2010   \n",
       "3     C28158                Low  CITY1          6/19/2017   \n",
       "4     C22785               High  CITY2         12/13/2013   \n",
       "\n",
       "   OnlineCommunication  AutomaticRefill  DoorstepDelivery PreferredDeliveryDay  \n",
       "0                    0                0                 0             Thursday  \n",
       "1                    1                0                 1             Thursday  \n",
       "2                    0                0                 0              Tuesday  \n",
       "3                    1                0                 0             Saturday  \n",
       "4                    1                0                 0             Thursday  "
      ]
     },
     "execution_count": 14,
     "metadata": {},
     "output_type": "execute_result"
    }
   ],
   "source": [
    "data1.head()"
   ]
  },
  {
   "cell_type": "code",
   "execution_count": 15,
   "metadata": {},
   "outputs": [
    {
     "data": {
      "text/plain": [
       "CustomerID              0\n",
       "RetentionPotential      0\n",
       "City                    0\n",
       "DateOfRegistration      0\n",
       "OnlineCommunication     0\n",
       "AutomaticRefill         0\n",
       "DoorstepDelivery        0\n",
       "PreferredDeliveryDay    0\n",
       "dtype: int64"
      ]
     },
     "execution_count": 15,
     "metadata": {},
     "output_type": "execute_result"
    }
   ],
   "source": [
    "data1.isna().sum()"
   ]
  },
  {
   "cell_type": "code",
   "execution_count": 16,
   "metadata": {},
   "outputs": [
    {
     "data": {
      "text/plain": [
       "23820"
      ]
     },
     "execution_count": 16,
     "metadata": {},
     "output_type": "execute_result"
    }
   ],
   "source": [
    "len(data1)"
   ]
  },
  {
   "cell_type": "code",
   "execution_count": 17,
   "metadata": {},
   "outputs": [],
   "source": [
    "#data1['Year'] = pd.to_datetime(data1['DateOfRegistration']).dt.year\n",
    "#data1 = data1.drop(['DateOfRegistration'],axis=1)"
   ]
  },
  {
   "cell_type": "code",
   "execution_count": 18,
   "metadata": {},
   "outputs": [
    {
     "data": {
      "text/html": [
       "<div>\n",
       "<style scoped>\n",
       "    .dataframe tbody tr th:only-of-type {\n",
       "        vertical-align: middle;\n",
       "    }\n",
       "\n",
       "    .dataframe tbody tr th {\n",
       "        vertical-align: top;\n",
       "    }\n",
       "\n",
       "    .dataframe thead th {\n",
       "        text-align: right;\n",
       "    }\n",
       "</style>\n",
       "<table border=\"1\" class=\"dataframe\">\n",
       "  <thead>\n",
       "    <tr style=\"text-align: right;\">\n",
       "      <th></th>\n",
       "      <th>CustomerID</th>\n",
       "      <th>RetentionPotential</th>\n",
       "      <th>City</th>\n",
       "      <th>DateOfRegistration</th>\n",
       "      <th>OnlineCommunication</th>\n",
       "      <th>AutomaticRefill</th>\n",
       "      <th>DoorstepDelivery</th>\n",
       "      <th>PreferredDeliveryDay</th>\n",
       "    </tr>\n",
       "  </thead>\n",
       "  <tbody>\n",
       "    <tr>\n",
       "      <th>0</th>\n",
       "      <td>C37869</td>\n",
       "      <td>Low</td>\n",
       "      <td>CITY4</td>\n",
       "      <td>7/27/2011</td>\n",
       "      <td>0</td>\n",
       "      <td>0</td>\n",
       "      <td>0</td>\n",
       "      <td>Thursday</td>\n",
       "    </tr>\n",
       "    <tr>\n",
       "      <th>1</th>\n",
       "      <td>C33841</td>\n",
       "      <td>Low</td>\n",
       "      <td>CITY1</td>\n",
       "      <td>11/19/2013</td>\n",
       "      <td>1</td>\n",
       "      <td>0</td>\n",
       "      <td>1</td>\n",
       "      <td>Thursday</td>\n",
       "    </tr>\n",
       "    <tr>\n",
       "      <th>2</th>\n",
       "      <td>C29464</td>\n",
       "      <td>Low</td>\n",
       "      <td>CITY2</td>\n",
       "      <td>5/24/2010</td>\n",
       "      <td>0</td>\n",
       "      <td>0</td>\n",
       "      <td>0</td>\n",
       "      <td>Tuesday</td>\n",
       "    </tr>\n",
       "    <tr>\n",
       "      <th>3</th>\n",
       "      <td>C28158</td>\n",
       "      <td>Low</td>\n",
       "      <td>CITY1</td>\n",
       "      <td>6/19/2017</td>\n",
       "      <td>1</td>\n",
       "      <td>0</td>\n",
       "      <td>0</td>\n",
       "      <td>Saturday</td>\n",
       "    </tr>\n",
       "    <tr>\n",
       "      <th>4</th>\n",
       "      <td>C22785</td>\n",
       "      <td>High</td>\n",
       "      <td>CITY2</td>\n",
       "      <td>12/13/2013</td>\n",
       "      <td>1</td>\n",
       "      <td>0</td>\n",
       "      <td>0</td>\n",
       "      <td>Thursday</td>\n",
       "    </tr>\n",
       "  </tbody>\n",
       "</table>\n",
       "</div>"
      ],
      "text/plain": [
       "  CustomerID RetentionPotential   City DateOfRegistration  \\\n",
       "0     C37869                Low  CITY4          7/27/2011   \n",
       "1     C33841                Low  CITY1         11/19/2013   \n",
       "2     C29464                Low  CITY2          5/24/2010   \n",
       "3     C28158                Low  CITY1          6/19/2017   \n",
       "4     C22785               High  CITY2         12/13/2013   \n",
       "\n",
       "   OnlineCommunication  AutomaticRefill  DoorstepDelivery PreferredDeliveryDay  \n",
       "0                    0                0                 0             Thursday  \n",
       "1                    1                0                 1             Thursday  \n",
       "2                    0                0                 0              Tuesday  \n",
       "3                    1                0                 0             Saturday  \n",
       "4                    1                0                 0             Thursday  "
      ]
     },
     "execution_count": 18,
     "metadata": {},
     "output_type": "execute_result"
    }
   ],
   "source": [
    "data1.head()"
   ]
  },
  {
   "cell_type": "code",
   "execution_count": 19,
   "metadata": {},
   "outputs": [
    {
     "data": {
      "text/plain": [
       "CustomerID              23820\n",
       "RetentionPotential          3\n",
       "City                        4\n",
       "DateOfRegistration       2673\n",
       "OnlineCommunication         2\n",
       "AutomaticRefill             2\n",
       "DoorstepDelivery            2\n",
       "PreferredDeliveryDay        7\n",
       "dtype: int64"
      ]
     },
     "execution_count": 19,
     "metadata": {},
     "output_type": "execute_result"
    }
   ],
   "source": [
    "data1.nunique()"
   ]
  },
  {
   "cell_type": "code",
   "execution_count": 20,
   "metadata": {},
   "outputs": [],
   "source": [
    "data1 = data1.drop('RetentionPotential',axis=1)"
   ]
  },
  {
   "cell_type": "code",
   "execution_count": 21,
   "metadata": {},
   "outputs": [],
   "source": [
    "#df3['Year'] = pd.to_datetime(df3['DateOfOrder']).dt.year\n",
    "#df3 = df3.drop(['DateOfOrder','timestamp'],axis=1)\n",
    "df3 = df3.drop('timestamp',axis=1)"
   ]
  },
  {
   "cell_type": "code",
   "execution_count": 22,
   "metadata": {},
   "outputs": [
    {
     "data": {
      "text/plain": [
       "CustomerID       23820\n",
       "DateOfOrder       3151\n",
       "OrderQuantity      451\n",
       "dtype: int64"
      ]
     },
     "execution_count": 22,
     "metadata": {},
     "output_type": "execute_result"
    }
   ],
   "source": [
    "df3.nunique()"
   ]
  },
  {
   "cell_type": "code",
   "execution_count": 23,
   "metadata": {},
   "outputs": [],
   "source": [
    "#df4['Year'] = pd.to_datetime(df4['DateOfemail']).dt.year\n",
    "#df4 = df4.drop(['DateOfemail','timestamp'],axis=1)\n",
    "df4 = df4.drop(['timestamp'],axis=1)"
   ]
  },
  {
   "cell_type": "code",
   "execution_count": 24,
   "metadata": {},
   "outputs": [
    {
     "data": {
      "text/plain": [
       "CustomerID     23820\n",
       "DateOfemail     3382\n",
       "EmailType          2\n",
       "MailOpened         2\n",
       "MailClicked        3\n",
       "dtype: int64"
      ]
     },
     "execution_count": 24,
     "metadata": {},
     "output_type": "execute_result"
    }
   ],
   "source": [
    "df4.nunique()"
   ]
  },
  {
   "cell_type": "code",
   "execution_count": 25,
   "metadata": {},
   "outputs": [
    {
     "data": {
      "text/plain": [
       "CustomizedEmail    493852\n",
       "WelcomeEmail        23820\n",
       "Name: EmailType, dtype: int64"
      ]
     },
     "execution_count": 25,
     "metadata": {},
     "output_type": "execute_result"
    }
   ],
   "source": [
    "df4['EmailType'].value_counts()"
   ]
  },
  {
   "cell_type": "code",
   "execution_count": 26,
   "metadata": {},
   "outputs": [
    {
     "name": "stdout",
     "output_type": "stream",
     "text": [
      "Index(['CustomerID', 'City', 'DateOfRegistration', 'OnlineCommunication',\n",
      "       'AutomaticRefill', 'DoorstepDelivery', 'PreferredDeliveryDay'],\n",
      "      dtype='object')\n",
      "Index(['CustomerID', 'DateOfOrder', 'OrderQuantity'], dtype='object')\n",
      "Index(['CustomerID', 'DateOfemail', 'EmailType', 'MailOpened', 'MailClicked'], dtype='object')\n"
     ]
    }
   ],
   "source": [
    "print(data1.columns)\n",
    "print(df3.columns)\n",
    "print(df4.columns)"
   ]
  },
  {
   "cell_type": "code",
   "execution_count": 27,
   "metadata": {},
   "outputs": [
    {
     "data": {
      "text/plain": [
       "Index(['CustomerID', 'City', 'DateOfRegistration', 'OnlineCommunication',\n",
       "       'AutomaticRefill', 'DoorstepDelivery', 'PreferredDeliveryDay'],\n",
       "      dtype='object')"
      ]
     },
     "execution_count": 27,
     "metadata": {},
     "output_type": "execute_result"
    }
   ],
   "source": [
    "data1.columns"
   ]
  },
  {
   "cell_type": "code",
   "execution_count": 28,
   "metadata": {},
   "outputs": [],
   "source": [
    "data2 = pd.merge(data1,df3,on=['CustomerID'],how='right')"
   ]
  },
  {
   "cell_type": "code",
   "execution_count": 29,
   "metadata": {},
   "outputs": [
    {
     "data": {
      "text/plain": [
       "(104755, 9)"
      ]
     },
     "execution_count": 29,
     "metadata": {},
     "output_type": "execute_result"
    }
   ],
   "source": [
    "data2.shape"
   ]
  },
  {
   "cell_type": "code",
   "execution_count": 30,
   "metadata": {},
   "outputs": [
    {
     "data": {
      "text/html": [
       "<div>\n",
       "<style scoped>\n",
       "    .dataframe tbody tr th:only-of-type {\n",
       "        vertical-align: middle;\n",
       "    }\n",
       "\n",
       "    .dataframe tbody tr th {\n",
       "        vertical-align: top;\n",
       "    }\n",
       "\n",
       "    .dataframe thead th {\n",
       "        text-align: right;\n",
       "    }\n",
       "</style>\n",
       "<table border=\"1\" class=\"dataframe\">\n",
       "  <thead>\n",
       "    <tr style=\"text-align: right;\">\n",
       "      <th></th>\n",
       "      <th>CustomerID</th>\n",
       "      <th>City</th>\n",
       "      <th>DateOfRegistration</th>\n",
       "      <th>OnlineCommunication</th>\n",
       "      <th>AutomaticRefill</th>\n",
       "      <th>DoorstepDelivery</th>\n",
       "      <th>PreferredDeliveryDay</th>\n",
       "      <th>DateOfOrder</th>\n",
       "      <th>OrderQuantity</th>\n",
       "    </tr>\n",
       "  </thead>\n",
       "  <tbody>\n",
       "    <tr>\n",
       "      <th>0</th>\n",
       "      <td>C37869</td>\n",
       "      <td>CITY4</td>\n",
       "      <td>7/27/2011</td>\n",
       "      <td>0</td>\n",
       "      <td>0</td>\n",
       "      <td>0</td>\n",
       "      <td>Thursday</td>\n",
       "      <td>2011-07-27</td>\n",
       "      <td>119</td>\n",
       "    </tr>\n",
       "    <tr>\n",
       "      <th>1</th>\n",
       "      <td>C37869</td>\n",
       "      <td>CITY4</td>\n",
       "      <td>7/27/2011</td>\n",
       "      <td>0</td>\n",
       "      <td>0</td>\n",
       "      <td>0</td>\n",
       "      <td>Thursday</td>\n",
       "      <td>2013-05-22</td>\n",
       "      <td>111</td>\n",
       "    </tr>\n",
       "    <tr>\n",
       "      <th>2</th>\n",
       "      <td>C37869</td>\n",
       "      <td>CITY4</td>\n",
       "      <td>7/27/2011</td>\n",
       "      <td>0</td>\n",
       "      <td>0</td>\n",
       "      <td>0</td>\n",
       "      <td>Thursday</td>\n",
       "      <td>2012-06-16</td>\n",
       "      <td>128</td>\n",
       "    </tr>\n",
       "    <tr>\n",
       "      <th>3</th>\n",
       "      <td>C37869</td>\n",
       "      <td>CITY4</td>\n",
       "      <td>7/27/2011</td>\n",
       "      <td>0</td>\n",
       "      <td>0</td>\n",
       "      <td>0</td>\n",
       "      <td>Thursday</td>\n",
       "      <td>2013-05-06</td>\n",
       "      <td>120</td>\n",
       "    </tr>\n",
       "    <tr>\n",
       "      <th>4</th>\n",
       "      <td>C37869</td>\n",
       "      <td>CITY4</td>\n",
       "      <td>7/27/2011</td>\n",
       "      <td>0</td>\n",
       "      <td>0</td>\n",
       "      <td>0</td>\n",
       "      <td>Thursday</td>\n",
       "      <td>2012-04-02</td>\n",
       "      <td>110</td>\n",
       "    </tr>\n",
       "  </tbody>\n",
       "</table>\n",
       "</div>"
      ],
      "text/plain": [
       "  CustomerID   City DateOfRegistration  OnlineCommunication  AutomaticRefill  \\\n",
       "0     C37869  CITY4          7/27/2011                    0                0   \n",
       "1     C37869  CITY4          7/27/2011                    0                0   \n",
       "2     C37869  CITY4          7/27/2011                    0                0   \n",
       "3     C37869  CITY4          7/27/2011                    0                0   \n",
       "4     C37869  CITY4          7/27/2011                    0                0   \n",
       "\n",
       "   DoorstepDelivery PreferredDeliveryDay DateOfOrder  OrderQuantity  \n",
       "0                 0             Thursday  2011-07-27            119  \n",
       "1                 0             Thursday  2013-05-22            111  \n",
       "2                 0             Thursday  2012-06-16            128  \n",
       "3                 0             Thursday  2013-05-06            120  \n",
       "4                 0             Thursday  2012-04-02            110  "
      ]
     },
     "execution_count": 30,
     "metadata": {},
     "output_type": "execute_result"
    }
   ],
   "source": [
    "data2.head()"
   ]
  },
  {
   "cell_type": "code",
   "execution_count": 31,
   "metadata": {},
   "outputs": [
    {
     "data": {
      "text/plain": [
       "CustomerID              23820\n",
       "City                        4\n",
       "DateOfRegistration       2673\n",
       "OnlineCommunication         2\n",
       "AutomaticRefill             2\n",
       "DoorstepDelivery            2\n",
       "PreferredDeliveryDay        7\n",
       "DateOfOrder              3151\n",
       "OrderQuantity             451\n",
       "dtype: int64"
      ]
     },
     "execution_count": 31,
     "metadata": {},
     "output_type": "execute_result"
    }
   ],
   "source": [
    "data2.nunique()"
   ]
  },
  {
   "cell_type": "code",
   "execution_count": 32,
   "metadata": {},
   "outputs": [
    {
     "data": {
      "text/plain": [
       "Index(['CustomerID', 'DateOfemail', 'EmailType', 'MailOpened', 'MailClicked'], dtype='object')"
      ]
     },
     "execution_count": 32,
     "metadata": {},
     "output_type": "execute_result"
    }
   ],
   "source": [
    "df4.columns"
   ]
  },
  {
   "cell_type": "code",
   "execution_count": 33,
   "metadata": {},
   "outputs": [
    {
     "data": {
      "text/plain": [
       "(517672, 5)"
      ]
     },
     "execution_count": 33,
     "metadata": {},
     "output_type": "execute_result"
    }
   ],
   "source": [
    "df4.shape"
   ]
  },
  {
   "cell_type": "code",
   "execution_count": 34,
   "metadata": {},
   "outputs": [
    {
     "data": {
      "text/plain": [
       "CustomerID     23820\n",
       "DateOfemail     3382\n",
       "EmailType          2\n",
       "MailOpened         2\n",
       "MailClicked        3\n",
       "dtype: int64"
      ]
     },
     "execution_count": 34,
     "metadata": {},
     "output_type": "execute_result"
    }
   ],
   "source": [
    "df4.nunique()"
   ]
  },
  {
   "cell_type": "code",
   "execution_count": 35,
   "metadata": {},
   "outputs": [
    {
     "data": {
      "text/plain": [
       "CustomizedEmail    493852\n",
       "WelcomeEmail        23820\n",
       "Name: EmailType, dtype: int64"
      ]
     },
     "execution_count": 35,
     "metadata": {},
     "output_type": "execute_result"
    }
   ],
   "source": [
    "df4['EmailType'].value_counts()"
   ]
  },
  {
   "cell_type": "code",
   "execution_count": 36,
   "metadata": {},
   "outputs": [],
   "source": [
    "data = pd.merge(data2,df4,on=['CustomerID'],how='right')"
   ]
  },
  {
   "cell_type": "code",
   "execution_count": 37,
   "metadata": {},
   "outputs": [
    {
     "data": {
      "text/plain": [
       "(3883469, 13)"
      ]
     },
     "execution_count": 37,
     "metadata": {},
     "output_type": "execute_result"
    }
   ],
   "source": [
    "data.shape"
   ]
  },
  {
   "cell_type": "code",
   "execution_count": 38,
   "metadata": {},
   "outputs": [
    {
     "data": {
      "text/html": [
       "<div>\n",
       "<style scoped>\n",
       "    .dataframe tbody tr th:only-of-type {\n",
       "        vertical-align: middle;\n",
       "    }\n",
       "\n",
       "    .dataframe tbody tr th {\n",
       "        vertical-align: top;\n",
       "    }\n",
       "\n",
       "    .dataframe thead th {\n",
       "        text-align: right;\n",
       "    }\n",
       "</style>\n",
       "<table border=\"1\" class=\"dataframe\">\n",
       "  <thead>\n",
       "    <tr style=\"text-align: right;\">\n",
       "      <th></th>\n",
       "      <th>CustomerID</th>\n",
       "      <th>City</th>\n",
       "      <th>DateOfRegistration</th>\n",
       "      <th>OnlineCommunication</th>\n",
       "      <th>AutomaticRefill</th>\n",
       "      <th>DoorstepDelivery</th>\n",
       "      <th>PreferredDeliveryDay</th>\n",
       "      <th>DateOfOrder</th>\n",
       "      <th>OrderQuantity</th>\n",
       "      <th>DateOfemail</th>\n",
       "      <th>EmailType</th>\n",
       "      <th>MailOpened</th>\n",
       "      <th>MailClicked</th>\n",
       "    </tr>\n",
       "  </thead>\n",
       "  <tbody>\n",
       "    <tr>\n",
       "      <th>3883464</th>\n",
       "      <td>C26055</td>\n",
       "      <td>CITY4</td>\n",
       "      <td>11/23/2013</td>\n",
       "      <td>1</td>\n",
       "      <td>0</td>\n",
       "      <td>0</td>\n",
       "      <td>Friday</td>\n",
       "      <td>2013-12-01</td>\n",
       "      <td>55</td>\n",
       "      <td>2013-11-29</td>\n",
       "      <td>CustomizedEmail</td>\n",
       "      <td>no</td>\n",
       "      <td>no</td>\n",
       "    </tr>\n",
       "    <tr>\n",
       "      <th>3883465</th>\n",
       "      <td>C26055</td>\n",
       "      <td>CITY4</td>\n",
       "      <td>11/23/2013</td>\n",
       "      <td>1</td>\n",
       "      <td>0</td>\n",
       "      <td>0</td>\n",
       "      <td>Friday</td>\n",
       "      <td>2013-12-01</td>\n",
       "      <td>55</td>\n",
       "      <td>2013-11-29</td>\n",
       "      <td>CustomizedEmail</td>\n",
       "      <td>no</td>\n",
       "      <td>no</td>\n",
       "    </tr>\n",
       "    <tr>\n",
       "      <th>3883466</th>\n",
       "      <td>C26055</td>\n",
       "      <td>CITY4</td>\n",
       "      <td>11/23/2013</td>\n",
       "      <td>1</td>\n",
       "      <td>0</td>\n",
       "      <td>0</td>\n",
       "      <td>Friday</td>\n",
       "      <td>2013-12-01</td>\n",
       "      <td>55</td>\n",
       "      <td>2013-11-24</td>\n",
       "      <td>CustomizedEmail</td>\n",
       "      <td>no</td>\n",
       "      <td>no</td>\n",
       "    </tr>\n",
       "    <tr>\n",
       "      <th>3883467</th>\n",
       "      <td>C26055</td>\n",
       "      <td>CITY4</td>\n",
       "      <td>11/23/2013</td>\n",
       "      <td>1</td>\n",
       "      <td>0</td>\n",
       "      <td>0</td>\n",
       "      <td>Friday</td>\n",
       "      <td>2013-12-01</td>\n",
       "      <td>55</td>\n",
       "      <td>2013-11-26</td>\n",
       "      <td>CustomizedEmail</td>\n",
       "      <td>no</td>\n",
       "      <td>no</td>\n",
       "    </tr>\n",
       "    <tr>\n",
       "      <th>3883468</th>\n",
       "      <td>C25058</td>\n",
       "      <td>CITY4</td>\n",
       "      <td>11/16/2011</td>\n",
       "      <td>0</td>\n",
       "      <td>0</td>\n",
       "      <td>0</td>\n",
       "      <td>Tuesday</td>\n",
       "      <td>2011-11-16</td>\n",
       "      <td>52</td>\n",
       "      <td>2011-11-16</td>\n",
       "      <td>WelcomeEmail</td>\n",
       "      <td>yes</td>\n",
       "      <td>NotApplicable</td>\n",
       "    </tr>\n",
       "  </tbody>\n",
       "</table>\n",
       "</div>"
      ],
      "text/plain": [
       "        CustomerID   City DateOfRegistration  OnlineCommunication  \\\n",
       "3883464     C26055  CITY4         11/23/2013                    1   \n",
       "3883465     C26055  CITY4         11/23/2013                    1   \n",
       "3883466     C26055  CITY4         11/23/2013                    1   \n",
       "3883467     C26055  CITY4         11/23/2013                    1   \n",
       "3883468     C25058  CITY4         11/16/2011                    0   \n",
       "\n",
       "         AutomaticRefill  DoorstepDelivery PreferredDeliveryDay DateOfOrder  \\\n",
       "3883464                0                 0               Friday  2013-12-01   \n",
       "3883465                0                 0               Friday  2013-12-01   \n",
       "3883466                0                 0               Friday  2013-12-01   \n",
       "3883467                0                 0               Friday  2013-12-01   \n",
       "3883468                0                 0              Tuesday  2011-11-16   \n",
       "\n",
       "         OrderQuantity DateOfemail        EmailType MailOpened    MailClicked  \n",
       "3883464             55  2013-11-29  CustomizedEmail         no             no  \n",
       "3883465             55  2013-11-29  CustomizedEmail         no             no  \n",
       "3883466             55  2013-11-24  CustomizedEmail         no             no  \n",
       "3883467             55  2013-11-26  CustomizedEmail         no             no  \n",
       "3883468             52  2011-11-16     WelcomeEmail        yes  NotApplicable  "
      ]
     },
     "execution_count": 38,
     "metadata": {},
     "output_type": "execute_result"
    }
   ],
   "source": [
    "data.tail()"
   ]
  },
  {
   "cell_type": "code",
   "execution_count": 39,
   "metadata": {},
   "outputs": [
    {
     "data": {
      "text/plain": [
       "CustomizedEmail    3778714\n",
       "WelcomeEmail        104755\n",
       "Name: EmailType, dtype: int64"
      ]
     },
     "execution_count": 39,
     "metadata": {},
     "output_type": "execute_result"
    }
   ],
   "source": [
    "data['EmailType'].value_counts()"
   ]
  },
  {
   "cell_type": "code",
   "execution_count": 40,
   "metadata": {},
   "outputs": [
    {
     "data": {
      "text/plain": [
       "CustomerID              0\n",
       "City                    0\n",
       "DateOfRegistration      0\n",
       "OnlineCommunication     0\n",
       "AutomaticRefill         0\n",
       "DoorstepDelivery        0\n",
       "PreferredDeliveryDay    0\n",
       "DateOfOrder             0\n",
       "OrderQuantity           0\n",
       "DateOfemail             0\n",
       "EmailType               0\n",
       "MailOpened              0\n",
       "MailClicked             0\n",
       "dtype: int64"
      ]
     },
     "execution_count": 40,
     "metadata": {},
     "output_type": "execute_result"
    }
   ],
   "source": [
    "data.isna().sum()"
   ]
  },
  {
   "cell_type": "code",
   "execution_count": 41,
   "metadata": {},
   "outputs": [
    {
     "name": "stdout",
     "output_type": "stream",
     "text": [
      "Entrées duplicates: 290001\n"
     ]
    }
   ],
   "source": [
    "print('Entrées duplicates: {}'.format(data.duplicated().sum()))\n",
    "data.drop_duplicates(inplace = True)"
   ]
  },
  {
   "cell_type": "code",
   "execution_count": 42,
   "metadata": {},
   "outputs": [
    {
     "data": {
      "text/html": [
       "<div>\n",
       "<style scoped>\n",
       "    .dataframe tbody tr th:only-of-type {\n",
       "        vertical-align: middle;\n",
       "    }\n",
       "\n",
       "    .dataframe tbody tr th {\n",
       "        vertical-align: top;\n",
       "    }\n",
       "\n",
       "    .dataframe thead th {\n",
       "        text-align: right;\n",
       "    }\n",
       "</style>\n",
       "<table border=\"1\" class=\"dataframe\">\n",
       "  <thead>\n",
       "    <tr style=\"text-align: right;\">\n",
       "      <th></th>\n",
       "      <th>City</th>\n",
       "      <th>CustomerID</th>\n",
       "    </tr>\n",
       "  </thead>\n",
       "  <tbody>\n",
       "    <tr>\n",
       "      <th>3</th>\n",
       "      <td>CITY4</td>\n",
       "      <td>9143</td>\n",
       "    </tr>\n",
       "    <tr>\n",
       "      <th>1</th>\n",
       "      <td>CITY2</td>\n",
       "      <td>6879</td>\n",
       "    </tr>\n",
       "    <tr>\n",
       "      <th>2</th>\n",
       "      <td>CITY3</td>\n",
       "      <td>6490</td>\n",
       "    </tr>\n",
       "    <tr>\n",
       "      <th>0</th>\n",
       "      <td>CITY1</td>\n",
       "      <td>1308</td>\n",
       "    </tr>\n",
       "  </tbody>\n",
       "</table>\n",
       "</div>"
      ],
      "text/plain": [
       "    City  CustomerID\n",
       "3  CITY4        9143\n",
       "1  CITY2        6879\n",
       "2  CITY3        6490\n",
       "0  CITY1        1308"
      ]
     },
     "execution_count": 42,
     "metadata": {},
     "output_type": "execute_result"
    }
   ],
   "source": [
    "customers_per_city=data[['City','CustomerID']].drop_duplicates()\n",
    "customers_per_city.groupby(['City'])['CustomerID'].agg('count').reset_index().sort_values('CustomerID', ascending=False)"
   ]
  },
  {
   "cell_type": "code",
   "execution_count": 43,
   "metadata": {},
   "outputs": [
    {
     "data": {
      "text/html": [
       "<div>\n",
       "<style scoped>\n",
       "    .dataframe tbody tr th:only-of-type {\n",
       "        vertical-align: middle;\n",
       "    }\n",
       "\n",
       "    .dataframe tbody tr th {\n",
       "        vertical-align: top;\n",
       "    }\n",
       "\n",
       "    .dataframe thead th {\n",
       "        text-align: right;\n",
       "    }\n",
       "</style>\n",
       "<table border=\"1\" class=\"dataframe\">\n",
       "  <thead>\n",
       "    <tr style=\"text-align: right;\">\n",
       "      <th></th>\n",
       "      <th>count</th>\n",
       "      <th>mean</th>\n",
       "      <th>std</th>\n",
       "      <th>min</th>\n",
       "      <th>25%</th>\n",
       "      <th>50%</th>\n",
       "      <th>75%</th>\n",
       "      <th>max</th>\n",
       "    </tr>\n",
       "  </thead>\n",
       "  <tbody>\n",
       "    <tr>\n",
       "      <th>OnlineCommunication</th>\n",
       "      <td>3593468.0</td>\n",
       "      <td>0.559300</td>\n",
       "      <td>0.496471</td>\n",
       "      <td>0.0</td>\n",
       "      <td>0.0</td>\n",
       "      <td>1.0</td>\n",
       "      <td>1.0</td>\n",
       "      <td>1.0</td>\n",
       "    </tr>\n",
       "    <tr>\n",
       "      <th>AutomaticRefill</th>\n",
       "      <td>3593468.0</td>\n",
       "      <td>0.205726</td>\n",
       "      <td>0.404231</td>\n",
       "      <td>0.0</td>\n",
       "      <td>0.0</td>\n",
       "      <td>0.0</td>\n",
       "      <td>0.0</td>\n",
       "      <td>1.0</td>\n",
       "    </tr>\n",
       "    <tr>\n",
       "      <th>DoorstepDelivery</th>\n",
       "      <td>3593468.0</td>\n",
       "      <td>0.110968</td>\n",
       "      <td>0.314092</td>\n",
       "      <td>0.0</td>\n",
       "      <td>0.0</td>\n",
       "      <td>0.0</td>\n",
       "      <td>0.0</td>\n",
       "      <td>1.0</td>\n",
       "    </tr>\n",
       "    <tr>\n",
       "      <th>OrderQuantity</th>\n",
       "      <td>3593468.0</td>\n",
       "      <td>87.480507</td>\n",
       "      <td>46.704506</td>\n",
       "      <td>0.0</td>\n",
       "      <td>56.0</td>\n",
       "      <td>78.0</td>\n",
       "      <td>107.0</td>\n",
       "      <td>1501.0</td>\n",
       "    </tr>\n",
       "  </tbody>\n",
       "</table>\n",
       "</div>"
      ],
      "text/plain": [
       "                         count       mean        std  min   25%   50%    75%  \\\n",
       "OnlineCommunication  3593468.0   0.559300   0.496471  0.0   0.0   1.0    1.0   \n",
       "AutomaticRefill      3593468.0   0.205726   0.404231  0.0   0.0   0.0    0.0   \n",
       "DoorstepDelivery     3593468.0   0.110968   0.314092  0.0   0.0   0.0    0.0   \n",
       "OrderQuantity        3593468.0  87.480507  46.704506  0.0  56.0  78.0  107.0   \n",
       "\n",
       "                        max  \n",
       "OnlineCommunication     1.0  \n",
       "AutomaticRefill         1.0  \n",
       "DoorstepDelivery        1.0  \n",
       "OrderQuantity        1501.0  "
      ]
     },
     "execution_count": 43,
     "metadata": {},
     "output_type": "execute_result"
    }
   ],
   "source": [
    "data.describe().T"
   ]
  },
  {
   "cell_type": "code",
   "execution_count": 44,
   "metadata": {},
   "outputs": [
    {
     "name": "stdout",
     "output_type": "stream",
     "text": [
      "2018-01-21\n",
      "2008-06-17\n"
     ]
    }
   ],
   "source": [
    "print(data['DateOfemail'].max())\n",
    "print(data['DateOfemail'].min())"
   ]
  },
  {
   "cell_type": "code",
   "execution_count": 45,
   "metadata": {},
   "outputs": [
    {
     "name": "stdout",
     "output_type": "stream",
     "text": [
      "2018-01-21\n",
      "2008-07-29\n"
     ]
    }
   ],
   "source": [
    "print(data['DateOfOrder'].max())\n",
    "print(data['DateOfOrder'].min())"
   ]
  },
  {
   "cell_type": "code",
   "execution_count": 46,
   "metadata": {},
   "outputs": [
    {
     "data": {
      "text/plain": [
       "datetime.date(2018, 1, 22)"
      ]
     },
     "execution_count": 46,
     "metadata": {},
     "output_type": "execute_result"
    }
   ],
   "source": [
    "import datetime as dt\n",
    "fix = dt.date(2018,1,22)\n",
    "fix"
   ]
  },
  {
   "cell_type": "code",
   "execution_count": 47,
   "metadata": {},
   "outputs": [],
   "source": [
    "data['Date_Of_email'] = pd.DatetimeIndex(data['DateOfemail']).date"
   ]
  },
  {
   "cell_type": "code",
   "execution_count": 48,
   "metadata": {},
   "outputs": [
    {
     "data": {
      "text/html": [
       "<div>\n",
       "<style scoped>\n",
       "    .dataframe tbody tr th:only-of-type {\n",
       "        vertical-align: middle;\n",
       "    }\n",
       "\n",
       "    .dataframe tbody tr th {\n",
       "        vertical-align: top;\n",
       "    }\n",
       "\n",
       "    .dataframe thead th {\n",
       "        text-align: right;\n",
       "    }\n",
       "</style>\n",
       "<table border=\"1\" class=\"dataframe\">\n",
       "  <thead>\n",
       "    <tr style=\"text-align: right;\">\n",
       "      <th></th>\n",
       "      <th>CustomerID</th>\n",
       "      <th>City</th>\n",
       "      <th>DateOfRegistration</th>\n",
       "      <th>OnlineCommunication</th>\n",
       "      <th>AutomaticRefill</th>\n",
       "      <th>DoorstepDelivery</th>\n",
       "      <th>PreferredDeliveryDay</th>\n",
       "      <th>DateOfOrder</th>\n",
       "      <th>OrderQuantity</th>\n",
       "      <th>DateOfemail</th>\n",
       "      <th>EmailType</th>\n",
       "      <th>MailOpened</th>\n",
       "      <th>MailClicked</th>\n",
       "      <th>Date_Of_email</th>\n",
       "    </tr>\n",
       "  </thead>\n",
       "  <tbody>\n",
       "    <tr>\n",
       "      <th>0</th>\n",
       "      <td>C37869</td>\n",
       "      <td>CITY4</td>\n",
       "      <td>7/27/2011</td>\n",
       "      <td>0</td>\n",
       "      <td>0</td>\n",
       "      <td>0</td>\n",
       "      <td>Thursday</td>\n",
       "      <td>2011-07-27</td>\n",
       "      <td>119</td>\n",
       "      <td>2011-07-27</td>\n",
       "      <td>WelcomeEmail</td>\n",
       "      <td>yes</td>\n",
       "      <td>NotApplicable</td>\n",
       "      <td>2011-07-27</td>\n",
       "    </tr>\n",
       "    <tr>\n",
       "      <th>1</th>\n",
       "      <td>C37869</td>\n",
       "      <td>CITY4</td>\n",
       "      <td>7/27/2011</td>\n",
       "      <td>0</td>\n",
       "      <td>0</td>\n",
       "      <td>0</td>\n",
       "      <td>Thursday</td>\n",
       "      <td>2013-05-22</td>\n",
       "      <td>111</td>\n",
       "      <td>2011-07-27</td>\n",
       "      <td>WelcomeEmail</td>\n",
       "      <td>yes</td>\n",
       "      <td>NotApplicable</td>\n",
       "      <td>2011-07-27</td>\n",
       "    </tr>\n",
       "    <tr>\n",
       "      <th>2</th>\n",
       "      <td>C37869</td>\n",
       "      <td>CITY4</td>\n",
       "      <td>7/27/2011</td>\n",
       "      <td>0</td>\n",
       "      <td>0</td>\n",
       "      <td>0</td>\n",
       "      <td>Thursday</td>\n",
       "      <td>2012-06-16</td>\n",
       "      <td>128</td>\n",
       "      <td>2011-07-27</td>\n",
       "      <td>WelcomeEmail</td>\n",
       "      <td>yes</td>\n",
       "      <td>NotApplicable</td>\n",
       "      <td>2011-07-27</td>\n",
       "    </tr>\n",
       "    <tr>\n",
       "      <th>3</th>\n",
       "      <td>C37869</td>\n",
       "      <td>CITY4</td>\n",
       "      <td>7/27/2011</td>\n",
       "      <td>0</td>\n",
       "      <td>0</td>\n",
       "      <td>0</td>\n",
       "      <td>Thursday</td>\n",
       "      <td>2013-05-06</td>\n",
       "      <td>120</td>\n",
       "      <td>2011-07-27</td>\n",
       "      <td>WelcomeEmail</td>\n",
       "      <td>yes</td>\n",
       "      <td>NotApplicable</td>\n",
       "      <td>2011-07-27</td>\n",
       "    </tr>\n",
       "    <tr>\n",
       "      <th>4</th>\n",
       "      <td>C37869</td>\n",
       "      <td>CITY4</td>\n",
       "      <td>7/27/2011</td>\n",
       "      <td>0</td>\n",
       "      <td>0</td>\n",
       "      <td>0</td>\n",
       "      <td>Thursday</td>\n",
       "      <td>2012-04-02</td>\n",
       "      <td>110</td>\n",
       "      <td>2011-07-27</td>\n",
       "      <td>WelcomeEmail</td>\n",
       "      <td>yes</td>\n",
       "      <td>NotApplicable</td>\n",
       "      <td>2011-07-27</td>\n",
       "    </tr>\n",
       "  </tbody>\n",
       "</table>\n",
       "</div>"
      ],
      "text/plain": [
       "  CustomerID   City DateOfRegistration  OnlineCommunication  AutomaticRefill  \\\n",
       "0     C37869  CITY4          7/27/2011                    0                0   \n",
       "1     C37869  CITY4          7/27/2011                    0                0   \n",
       "2     C37869  CITY4          7/27/2011                    0                0   \n",
       "3     C37869  CITY4          7/27/2011                    0                0   \n",
       "4     C37869  CITY4          7/27/2011                    0                0   \n",
       "\n",
       "   DoorstepDelivery PreferredDeliveryDay DateOfOrder  OrderQuantity  \\\n",
       "0                 0             Thursday  2011-07-27            119   \n",
       "1                 0             Thursday  2013-05-22            111   \n",
       "2                 0             Thursday  2012-06-16            128   \n",
       "3                 0             Thursday  2013-05-06            120   \n",
       "4                 0             Thursday  2012-04-02            110   \n",
       "\n",
       "  DateOfemail     EmailType MailOpened    MailClicked Date_Of_email  \n",
       "0  2011-07-27  WelcomeEmail        yes  NotApplicable    2011-07-27  \n",
       "1  2011-07-27  WelcomeEmail        yes  NotApplicable    2011-07-27  \n",
       "2  2011-07-27  WelcomeEmail        yes  NotApplicable    2011-07-27  \n",
       "3  2011-07-27  WelcomeEmail        yes  NotApplicable    2011-07-27  \n",
       "4  2011-07-27  WelcomeEmail        yes  NotApplicable    2011-07-27  "
      ]
     },
     "execution_count": 48,
     "metadata": {},
     "output_type": "execute_result"
    }
   ],
   "source": [
    "data.head()"
   ]
  },
  {
   "cell_type": "code",
   "execution_count": 49,
   "metadata": {},
   "outputs": [
    {
     "data": {
      "text/html": [
       "<div>\n",
       "<style scoped>\n",
       "    .dataframe tbody tr th:only-of-type {\n",
       "        vertical-align: middle;\n",
       "    }\n",
       "\n",
       "    .dataframe tbody tr th {\n",
       "        vertical-align: top;\n",
       "    }\n",
       "\n",
       "    .dataframe thead th {\n",
       "        text-align: right;\n",
       "    }\n",
       "</style>\n",
       "<table border=\"1\" class=\"dataframe\">\n",
       "  <thead>\n",
       "    <tr style=\"text-align: right;\">\n",
       "      <th></th>\n",
       "      <th>CustomerID</th>\n",
       "      <th>City</th>\n",
       "      <th>DateOfRegistration</th>\n",
       "      <th>OnlineCommunication</th>\n",
       "      <th>AutomaticRefill</th>\n",
       "      <th>DoorstepDelivery</th>\n",
       "      <th>PreferredDeliveryDay</th>\n",
       "      <th>DateOfOrder</th>\n",
       "      <th>OrderQuantity</th>\n",
       "      <th>DateOfemail</th>\n",
       "      <th>EmailType</th>\n",
       "      <th>MailOpened</th>\n",
       "      <th>MailClicked</th>\n",
       "      <th>Date_Of_email</th>\n",
       "    </tr>\n",
       "  </thead>\n",
       "  <tbody>\n",
       "    <tr>\n",
       "      <th>2393216</th>\n",
       "      <td>C12116</td>\n",
       "      <td>CITY3</td>\n",
       "      <td>9/23/2013</td>\n",
       "      <td>0</td>\n",
       "      <td>0</td>\n",
       "      <td>0</td>\n",
       "      <td>Friday</td>\n",
       "      <td>2013-10-03</td>\n",
       "      <td>38</td>\n",
       "      <td>2013-09-23</td>\n",
       "      <td>WelcomeEmail</td>\n",
       "      <td>yes</td>\n",
       "      <td>NotApplicable</td>\n",
       "      <td>2013-09-23</td>\n",
       "    </tr>\n",
       "    <tr>\n",
       "      <th>2393217</th>\n",
       "      <td>C12116</td>\n",
       "      <td>CITY3</td>\n",
       "      <td>9/23/2013</td>\n",
       "      <td>0</td>\n",
       "      <td>0</td>\n",
       "      <td>0</td>\n",
       "      <td>Friday</td>\n",
       "      <td>2013-10-08</td>\n",
       "      <td>44</td>\n",
       "      <td>2013-09-23</td>\n",
       "      <td>WelcomeEmail</td>\n",
       "      <td>yes</td>\n",
       "      <td>NotApplicable</td>\n",
       "      <td>2013-09-23</td>\n",
       "    </tr>\n",
       "    <tr>\n",
       "      <th>2393218</th>\n",
       "      <td>C12116</td>\n",
       "      <td>CITY3</td>\n",
       "      <td>9/23/2013</td>\n",
       "      <td>0</td>\n",
       "      <td>0</td>\n",
       "      <td>0</td>\n",
       "      <td>Friday</td>\n",
       "      <td>2013-10-10</td>\n",
       "      <td>33</td>\n",
       "      <td>2013-09-23</td>\n",
       "      <td>WelcomeEmail</td>\n",
       "      <td>yes</td>\n",
       "      <td>NotApplicable</td>\n",
       "      <td>2013-09-23</td>\n",
       "    </tr>\n",
       "    <tr>\n",
       "      <th>2393219</th>\n",
       "      <td>C12116</td>\n",
       "      <td>CITY3</td>\n",
       "      <td>9/23/2013</td>\n",
       "      <td>0</td>\n",
       "      <td>0</td>\n",
       "      <td>0</td>\n",
       "      <td>Friday</td>\n",
       "      <td>2013-10-03</td>\n",
       "      <td>38</td>\n",
       "      <td>2013-10-09</td>\n",
       "      <td>CustomizedEmail</td>\n",
       "      <td>no</td>\n",
       "      <td>no</td>\n",
       "      <td>2013-10-09</td>\n",
       "    </tr>\n",
       "    <tr>\n",
       "      <th>2393220</th>\n",
       "      <td>C12116</td>\n",
       "      <td>CITY3</td>\n",
       "      <td>9/23/2013</td>\n",
       "      <td>0</td>\n",
       "      <td>0</td>\n",
       "      <td>0</td>\n",
       "      <td>Friday</td>\n",
       "      <td>2013-10-08</td>\n",
       "      <td>44</td>\n",
       "      <td>2013-10-09</td>\n",
       "      <td>CustomizedEmail</td>\n",
       "      <td>no</td>\n",
       "      <td>no</td>\n",
       "      <td>2013-10-09</td>\n",
       "    </tr>\n",
       "  </tbody>\n",
       "</table>\n",
       "</div>"
      ],
      "text/plain": [
       "        CustomerID   City DateOfRegistration  OnlineCommunication  \\\n",
       "2393216     C12116  CITY3          9/23/2013                    0   \n",
       "2393217     C12116  CITY3          9/23/2013                    0   \n",
       "2393218     C12116  CITY3          9/23/2013                    0   \n",
       "2393219     C12116  CITY3          9/23/2013                    0   \n",
       "2393220     C12116  CITY3          9/23/2013                    0   \n",
       "\n",
       "         AutomaticRefill  DoorstepDelivery PreferredDeliveryDay DateOfOrder  \\\n",
       "2393216                0                 0               Friday  2013-10-03   \n",
       "2393217                0                 0               Friday  2013-10-08   \n",
       "2393218                0                 0               Friday  2013-10-10   \n",
       "2393219                0                 0               Friday  2013-10-03   \n",
       "2393220                0                 0               Friday  2013-10-08   \n",
       "\n",
       "         OrderQuantity DateOfemail        EmailType MailOpened    MailClicked  \\\n",
       "2393216             38  2013-09-23     WelcomeEmail        yes  NotApplicable   \n",
       "2393217             44  2013-09-23     WelcomeEmail        yes  NotApplicable   \n",
       "2393218             33  2013-09-23     WelcomeEmail        yes  NotApplicable   \n",
       "2393219             38  2013-10-09  CustomizedEmail         no             no   \n",
       "2393220             44  2013-10-09  CustomizedEmail         no             no   \n",
       "\n",
       "        Date_Of_email  \n",
       "2393216    2013-09-23  \n",
       "2393217    2013-09-23  \n",
       "2393218    2013-09-23  \n",
       "2393219    2013-10-09  \n",
       "2393220    2013-10-09  "
      ]
     },
     "execution_count": 49,
     "metadata": {},
     "output_type": "execute_result"
    }
   ],
   "source": [
    "data.loc[data['CustomerID'] == 'C12116'][:5]"
   ]
  },
  {
   "cell_type": "markdown",
   "metadata": {},
   "source": [
    "# Recency Table "
   ]
  },
  {
   "cell_type": "code",
   "execution_count": 50,
   "metadata": {},
   "outputs": [],
   "source": [
    "data_r = data.drop_duplicates(subset=['Date_Of_email', 'CustomerID'], keep=\"first\")"
   ]
  },
  {
   "cell_type": "code",
   "execution_count": 51,
   "metadata": {},
   "outputs": [
    {
     "data": {
      "text/html": [
       "<div>\n",
       "<style scoped>\n",
       "    .dataframe tbody tr th:only-of-type {\n",
       "        vertical-align: middle;\n",
       "    }\n",
       "\n",
       "    .dataframe tbody tr th {\n",
       "        vertical-align: top;\n",
       "    }\n",
       "\n",
       "    .dataframe thead th {\n",
       "        text-align: right;\n",
       "    }\n",
       "</style>\n",
       "<table border=\"1\" class=\"dataframe\">\n",
       "  <thead>\n",
       "    <tr style=\"text-align: right;\">\n",
       "      <th></th>\n",
       "      <th>CustomerID</th>\n",
       "      <th>LastPurchaseDate</th>\n",
       "    </tr>\n",
       "  </thead>\n",
       "  <tbody>\n",
       "    <tr>\n",
       "      <th>0</th>\n",
       "      <td>C12116</td>\n",
       "      <td>2013-10-09</td>\n",
       "    </tr>\n",
       "    <tr>\n",
       "      <th>1</th>\n",
       "      <td>C12117</td>\n",
       "      <td>2013-12-05</td>\n",
       "    </tr>\n",
       "    <tr>\n",
       "      <th>2</th>\n",
       "      <td>C12118</td>\n",
       "      <td>2013-09-10</td>\n",
       "    </tr>\n",
       "    <tr>\n",
       "      <th>3</th>\n",
       "      <td>C12119</td>\n",
       "      <td>2013-10-21</td>\n",
       "    </tr>\n",
       "    <tr>\n",
       "      <th>4</th>\n",
       "      <td>C12120</td>\n",
       "      <td>2014-01-10</td>\n",
       "    </tr>\n",
       "  </tbody>\n",
       "</table>\n",
       "</div>"
      ],
      "text/plain": [
       "  CustomerID LastPurchaseDate\n",
       "0     C12116       2013-10-09\n",
       "1     C12117       2013-12-05\n",
       "2     C12118       2013-09-10\n",
       "3     C12119       2013-10-21\n",
       "4     C12120       2014-01-10"
      ]
     },
     "execution_count": 51,
     "metadata": {},
     "output_type": "execute_result"
    }
   ],
   "source": [
    "Recency_tbl = data_r.groupby(by='CustomerID', as_index=False)['Date_Of_email'].max()\n",
    "Recency_tbl.columns = ['CustomerID','LastPurchaseDate']\n",
    "Recency_tbl.head()"
   ]
  },
  {
   "cell_type": "code",
   "execution_count": 52,
   "metadata": {},
   "outputs": [],
   "source": [
    "Recency_tbl['Recency'] = Recency_tbl['LastPurchaseDate'].apply(lambda x: (fix - x).days)"
   ]
  },
  {
   "cell_type": "code",
   "execution_count": 53,
   "metadata": {},
   "outputs": [
    {
     "data": {
      "text/html": [
       "<div>\n",
       "<style scoped>\n",
       "    .dataframe tbody tr th:only-of-type {\n",
       "        vertical-align: middle;\n",
       "    }\n",
       "\n",
       "    .dataframe tbody tr th {\n",
       "        vertical-align: top;\n",
       "    }\n",
       "\n",
       "    .dataframe thead th {\n",
       "        text-align: right;\n",
       "    }\n",
       "</style>\n",
       "<table border=\"1\" class=\"dataframe\">\n",
       "  <thead>\n",
       "    <tr style=\"text-align: right;\">\n",
       "      <th></th>\n",
       "      <th>CustomerID</th>\n",
       "      <th>LastPurchaseDate</th>\n",
       "      <th>Recency</th>\n",
       "    </tr>\n",
       "  </thead>\n",
       "  <tbody>\n",
       "    <tr>\n",
       "      <th>0</th>\n",
       "      <td>C12116</td>\n",
       "      <td>2013-10-09</td>\n",
       "      <td>1566</td>\n",
       "    </tr>\n",
       "    <tr>\n",
       "      <th>1</th>\n",
       "      <td>C12117</td>\n",
       "      <td>2013-12-05</td>\n",
       "      <td>1509</td>\n",
       "    </tr>\n",
       "    <tr>\n",
       "      <th>2</th>\n",
       "      <td>C12118</td>\n",
       "      <td>2013-09-10</td>\n",
       "      <td>1595</td>\n",
       "    </tr>\n",
       "    <tr>\n",
       "      <th>3</th>\n",
       "      <td>C12119</td>\n",
       "      <td>2013-10-21</td>\n",
       "      <td>1554</td>\n",
       "    </tr>\n",
       "    <tr>\n",
       "      <th>4</th>\n",
       "      <td>C12120</td>\n",
       "      <td>2014-01-10</td>\n",
       "      <td>1473</td>\n",
       "    </tr>\n",
       "  </tbody>\n",
       "</table>\n",
       "</div>"
      ],
      "text/plain": [
       "  CustomerID LastPurchaseDate  Recency\n",
       "0     C12116       2013-10-09     1566\n",
       "1     C12117       2013-12-05     1509\n",
       "2     C12118       2013-09-10     1595\n",
       "3     C12119       2013-10-21     1554\n",
       "4     C12120       2014-01-10     1473"
      ]
     },
     "execution_count": 53,
     "metadata": {},
     "output_type": "execute_result"
    }
   ],
   "source": [
    "Recency_tbl.head()"
   ]
  },
  {
   "cell_type": "code",
   "execution_count": 54,
   "metadata": {},
   "outputs": [],
   "source": [
    "Recency_tbl = Recency_tbl.drop('LastPurchaseDate',axis=1)"
   ]
  },
  {
   "cell_type": "code",
   "execution_count": 55,
   "metadata": {},
   "outputs": [
    {
     "data": {
      "text/plain": [
       "(23820, 2)"
      ]
     },
     "execution_count": 55,
     "metadata": {},
     "output_type": "execute_result"
    }
   ],
   "source": [
    "Recency_tbl.shape"
   ]
  },
  {
   "cell_type": "markdown",
   "metadata": {},
   "source": [
    "# Frequency Table"
   ]
  },
  {
   "cell_type": "code",
   "execution_count": 56,
   "metadata": {},
   "outputs": [],
   "source": [
    "data_f = data.drop_duplicates(subset=['CustomerID','OrderQuantity'],keep='first')"
   ]
  },
  {
   "cell_type": "code",
   "execution_count": 57,
   "metadata": {},
   "outputs": [
    {
     "data": {
      "text/html": [
       "<div>\n",
       "<style scoped>\n",
       "    .dataframe tbody tr th:only-of-type {\n",
       "        vertical-align: middle;\n",
       "    }\n",
       "\n",
       "    .dataframe tbody tr th {\n",
       "        vertical-align: top;\n",
       "    }\n",
       "\n",
       "    .dataframe thead th {\n",
       "        text-align: right;\n",
       "    }\n",
       "</style>\n",
       "<table border=\"1\" class=\"dataframe\">\n",
       "  <thead>\n",
       "    <tr style=\"text-align: right;\">\n",
       "      <th></th>\n",
       "      <th>CustomerID</th>\n",
       "      <th>Frequency</th>\n",
       "    </tr>\n",
       "  </thead>\n",
       "  <tbody>\n",
       "    <tr>\n",
       "      <th>0</th>\n",
       "      <td>C12116</td>\n",
       "      <td>3</td>\n",
       "    </tr>\n",
       "    <tr>\n",
       "      <th>1</th>\n",
       "      <td>C12117</td>\n",
       "      <td>1</td>\n",
       "    </tr>\n",
       "    <tr>\n",
       "      <th>2</th>\n",
       "      <td>C12118</td>\n",
       "      <td>1</td>\n",
       "    </tr>\n",
       "    <tr>\n",
       "      <th>3</th>\n",
       "      <td>C12119</td>\n",
       "      <td>1</td>\n",
       "    </tr>\n",
       "    <tr>\n",
       "      <th>4</th>\n",
       "      <td>C12120</td>\n",
       "      <td>1</td>\n",
       "    </tr>\n",
       "  </tbody>\n",
       "</table>\n",
       "</div>"
      ],
      "text/plain": [
       "  CustomerID  Frequency\n",
       "0     C12116          3\n",
       "1     C12117          1\n",
       "2     C12118          1\n",
       "3     C12119          1\n",
       "4     C12120          1"
      ]
     },
     "execution_count": 57,
     "metadata": {},
     "output_type": "execute_result"
    }
   ],
   "source": [
    "Frequency_tbl = data_f.groupby(by=['CustomerID'],as_index=False)['OrderQuantity'].count()\n",
    "Frequency_tbl.columns = ['CustomerID','Frequency']\n",
    "Frequency_tbl.head()"
   ]
  },
  {
   "cell_type": "code",
   "execution_count": 58,
   "metadata": {},
   "outputs": [
    {
     "data": {
      "text/plain": [
       "(23820, 2)"
      ]
     },
     "execution_count": 58,
     "metadata": {},
     "output_type": "execute_result"
    }
   ],
   "source": [
    "Frequency_tbl.shape"
   ]
  },
  {
   "cell_type": "markdown",
   "metadata": {},
   "source": [
    "# Monetary Table"
   ]
  },
  {
   "cell_type": "code",
   "execution_count": 59,
   "metadata": {},
   "outputs": [
    {
     "data": {
      "text/html": [
       "<div>\n",
       "<style scoped>\n",
       "    .dataframe tbody tr th:only-of-type {\n",
       "        vertical-align: middle;\n",
       "    }\n",
       "\n",
       "    .dataframe tbody tr th {\n",
       "        vertical-align: top;\n",
       "    }\n",
       "\n",
       "    .dataframe thead th {\n",
       "        text-align: right;\n",
       "    }\n",
       "</style>\n",
       "<table border=\"1\" class=\"dataframe\">\n",
       "  <thead>\n",
       "    <tr style=\"text-align: right;\">\n",
       "      <th></th>\n",
       "      <th>CustomerID</th>\n",
       "      <th>Monetary</th>\n",
       "    </tr>\n",
       "  </thead>\n",
       "  <tbody>\n",
       "    <tr>\n",
       "      <th>0</th>\n",
       "      <td>C12116</td>\n",
       "      <td>115</td>\n",
       "    </tr>\n",
       "    <tr>\n",
       "      <th>1</th>\n",
       "      <td>C12117</td>\n",
       "      <td>41</td>\n",
       "    </tr>\n",
       "    <tr>\n",
       "      <th>2</th>\n",
       "      <td>C12118</td>\n",
       "      <td>41</td>\n",
       "    </tr>\n",
       "    <tr>\n",
       "      <th>3</th>\n",
       "      <td>C12119</td>\n",
       "      <td>52</td>\n",
       "    </tr>\n",
       "    <tr>\n",
       "      <th>4</th>\n",
       "      <td>C12120</td>\n",
       "      <td>31</td>\n",
       "    </tr>\n",
       "  </tbody>\n",
       "</table>\n",
       "</div>"
      ],
      "text/plain": [
       "  CustomerID  Monetary\n",
       "0     C12116       115\n",
       "1     C12117        41\n",
       "2     C12118        41\n",
       "3     C12119        52\n",
       "4     C12120        31"
      ]
     },
     "execution_count": 59,
     "metadata": {},
     "output_type": "execute_result"
    }
   ],
   "source": [
    "Monetary_tbl = data_f.groupby(by=['CustomerID'], as_index=False)['OrderQuantity'].agg({'OrderQuantity':'sum'})\n",
    "Monetary_tbl.columns = ['CustomerID','Monetary']\n",
    "Monetary_tbl.head()"
   ]
  },
  {
   "cell_type": "code",
   "execution_count": 60,
   "metadata": {},
   "outputs": [
    {
     "data": {
      "text/html": [
       "<div>\n",
       "<style scoped>\n",
       "    .dataframe tbody tr th:only-of-type {\n",
       "        vertical-align: middle;\n",
       "    }\n",
       "\n",
       "    .dataframe tbody tr th {\n",
       "        vertical-align: top;\n",
       "    }\n",
       "\n",
       "    .dataframe thead th {\n",
       "        text-align: right;\n",
       "    }\n",
       "</style>\n",
       "<table border=\"1\" class=\"dataframe\">\n",
       "  <thead>\n",
       "    <tr style=\"text-align: right;\">\n",
       "      <th></th>\n",
       "      <th>CustomerID</th>\n",
       "      <th>Recency</th>\n",
       "      <th>Frequency</th>\n",
       "    </tr>\n",
       "  </thead>\n",
       "  <tbody>\n",
       "    <tr>\n",
       "      <th>0</th>\n",
       "      <td>C12116</td>\n",
       "      <td>1566</td>\n",
       "      <td>3</td>\n",
       "    </tr>\n",
       "    <tr>\n",
       "      <th>1</th>\n",
       "      <td>C12117</td>\n",
       "      <td>1509</td>\n",
       "      <td>1</td>\n",
       "    </tr>\n",
       "    <tr>\n",
       "      <th>2</th>\n",
       "      <td>C12118</td>\n",
       "      <td>1595</td>\n",
       "      <td>1</td>\n",
       "    </tr>\n",
       "    <tr>\n",
       "      <th>3</th>\n",
       "      <td>C12119</td>\n",
       "      <td>1554</td>\n",
       "      <td>1</td>\n",
       "    </tr>\n",
       "    <tr>\n",
       "      <th>4</th>\n",
       "      <td>C12120</td>\n",
       "      <td>1473</td>\n",
       "      <td>1</td>\n",
       "    </tr>\n",
       "  </tbody>\n",
       "</table>\n",
       "</div>"
      ],
      "text/plain": [
       "  CustomerID  Recency  Frequency\n",
       "0     C12116     1566          3\n",
       "1     C12117     1509          1\n",
       "2     C12118     1595          1\n",
       "3     C12119     1554          1\n",
       "4     C12120     1473          1"
      ]
     },
     "execution_count": 60,
     "metadata": {},
     "output_type": "execute_result"
    }
   ],
   "source": [
    "rf_table = Recency_tbl.merge(Frequency_tbl,on=['CustomerID'])\n",
    "rf_table.head()"
   ]
  },
  {
   "cell_type": "code",
   "execution_count": 61,
   "metadata": {},
   "outputs": [
    {
     "data": {
      "text/html": [
       "<div>\n",
       "<style scoped>\n",
       "    .dataframe tbody tr th:only-of-type {\n",
       "        vertical-align: middle;\n",
       "    }\n",
       "\n",
       "    .dataframe tbody tr th {\n",
       "        vertical-align: top;\n",
       "    }\n",
       "\n",
       "    .dataframe thead th {\n",
       "        text-align: right;\n",
       "    }\n",
       "</style>\n",
       "<table border=\"1\" class=\"dataframe\">\n",
       "  <thead>\n",
       "    <tr style=\"text-align: right;\">\n",
       "      <th></th>\n",
       "      <th>CustomerID</th>\n",
       "      <th>Recency</th>\n",
       "      <th>Frequency</th>\n",
       "      <th>Monetary</th>\n",
       "    </tr>\n",
       "  </thead>\n",
       "  <tbody>\n",
       "    <tr>\n",
       "      <th>0</th>\n",
       "      <td>C12116</td>\n",
       "      <td>1566</td>\n",
       "      <td>3</td>\n",
       "      <td>115</td>\n",
       "    </tr>\n",
       "    <tr>\n",
       "      <th>1</th>\n",
       "      <td>C12117</td>\n",
       "      <td>1509</td>\n",
       "      <td>1</td>\n",
       "      <td>41</td>\n",
       "    </tr>\n",
       "    <tr>\n",
       "      <th>2</th>\n",
       "      <td>C12118</td>\n",
       "      <td>1595</td>\n",
       "      <td>1</td>\n",
       "      <td>41</td>\n",
       "    </tr>\n",
       "    <tr>\n",
       "      <th>3</th>\n",
       "      <td>C12119</td>\n",
       "      <td>1554</td>\n",
       "      <td>1</td>\n",
       "      <td>52</td>\n",
       "    </tr>\n",
       "    <tr>\n",
       "      <th>4</th>\n",
       "      <td>C12120</td>\n",
       "      <td>1473</td>\n",
       "      <td>1</td>\n",
       "      <td>31</td>\n",
       "    </tr>\n",
       "  </tbody>\n",
       "</table>\n",
       "</div>"
      ],
      "text/plain": [
       "  CustomerID  Recency  Frequency  Monetary\n",
       "0     C12116     1566          3       115\n",
       "1     C12117     1509          1        41\n",
       "2     C12118     1595          1        41\n",
       "3     C12119     1554          1        52\n",
       "4     C12120     1473          1        31"
      ]
     },
     "execution_count": 61,
     "metadata": {},
     "output_type": "execute_result"
    }
   ],
   "source": [
    "RFM_table = rf_table.merge(Monetary_tbl,on=['CustomerID'])\n",
    "RFM_table.head()"
   ]
  },
  {
   "cell_type": "code",
   "execution_count": 62,
   "metadata": {},
   "outputs": [
    {
     "data": {
      "text/plain": [
       "(23820, 4)"
      ]
     },
     "execution_count": 62,
     "metadata": {},
     "output_type": "execute_result"
    }
   ],
   "source": [
    "RFM_table.shape"
   ]
  },
  {
   "cell_type": "code",
   "execution_count": 63,
   "metadata": {},
   "outputs": [
    {
     "data": {
      "text/html": [
       "<div>\n",
       "<style scoped>\n",
       "    .dataframe tbody tr th:only-of-type {\n",
       "        vertical-align: middle;\n",
       "    }\n",
       "\n",
       "    .dataframe tbody tr th {\n",
       "        vertical-align: top;\n",
       "    }\n",
       "\n",
       "    .dataframe thead th {\n",
       "        text-align: right;\n",
       "    }\n",
       "</style>\n",
       "<table border=\"1\" class=\"dataframe\">\n",
       "  <thead>\n",
       "    <tr style=\"text-align: right;\">\n",
       "      <th></th>\n",
       "      <th>count</th>\n",
       "      <th>mean</th>\n",
       "      <th>std</th>\n",
       "      <th>min</th>\n",
       "      <th>25%</th>\n",
       "      <th>50%</th>\n",
       "      <th>75%</th>\n",
       "      <th>max</th>\n",
       "    </tr>\n",
       "  </thead>\n",
       "  <tbody>\n",
       "    <tr>\n",
       "      <th>Recency</th>\n",
       "      <td>23820.0</td>\n",
       "      <td>1446.573174</td>\n",
       "      <td>687.400676</td>\n",
       "      <td>1.0</td>\n",
       "      <td>1473.0</td>\n",
       "      <td>1548.0</td>\n",
       "      <td>1677.0</td>\n",
       "      <td>3506.0</td>\n",
       "    </tr>\n",
       "    <tr>\n",
       "      <th>Frequency</th>\n",
       "      <td>23820.0</td>\n",
       "      <td>3.126910</td>\n",
       "      <td>5.358179</td>\n",
       "      <td>1.0</td>\n",
       "      <td>1.0</td>\n",
       "      <td>1.0</td>\n",
       "      <td>2.0</td>\n",
       "      <td>66.0</td>\n",
       "    </tr>\n",
       "    <tr>\n",
       "      <th>Monetary</th>\n",
       "      <td>23820.0</td>\n",
       "      <td>246.572124</td>\n",
       "      <td>649.594358</td>\n",
       "      <td>0.0</td>\n",
       "      <td>41.0</td>\n",
       "      <td>64.0</td>\n",
       "      <td>163.0</td>\n",
       "      <td>16658.0</td>\n",
       "    </tr>\n",
       "  </tbody>\n",
       "</table>\n",
       "</div>"
      ],
      "text/plain": [
       "             count         mean         std  min     25%     50%     75%  \\\n",
       "Recency    23820.0  1446.573174  687.400676  1.0  1473.0  1548.0  1677.0   \n",
       "Frequency  23820.0     3.126910    5.358179  1.0     1.0     1.0     2.0   \n",
       "Monetary   23820.0   246.572124  649.594358  0.0    41.0    64.0   163.0   \n",
       "\n",
       "               max  \n",
       "Recency     3506.0  \n",
       "Frequency     66.0  \n",
       "Monetary   16658.0  "
      ]
     },
     "execution_count": 63,
     "metadata": {},
     "output_type": "execute_result"
    }
   ],
   "source": [
    "RFM_table.describe().T"
   ]
  },
  {
   "cell_type": "code",
   "execution_count": 64,
   "metadata": {},
   "outputs": [
    {
     "data": {
      "text/plain": [
       "array([[0.44650499, 0.00690359],\n",
       "       [0.43024251, 0.00246128],\n",
       "       [0.45477889, 0.00246128],\n",
       "       ...,\n",
       "       [0.45335235, 0.00246128],\n",
       "       [0.65649073, 0.00306159],\n",
       "       [0.43880171, 0.01080562]])"
      ]
     },
     "execution_count": 64,
     "metadata": {},
     "output_type": "execute_result"
    }
   ],
   "source": [
    "df_1 = RFM_table[['Recency','Monetary']]\n",
    "from sklearn.preprocessing import MinMaxScaler\n",
    "scaler = MinMaxScaler().fit(df_1)\n",
    "\n",
    "df_1 = scaler.transform(df_1)\n",
    "df_1"
   ]
  },
  {
   "cell_type": "code",
   "execution_count": 65,
   "metadata": {},
   "outputs": [
    {
     "data": {
      "text/plain": [
       "[952.3728499071996,\n",
       " 269.9685994115756,\n",
       " 100.2736872837309,\n",
       " 80.98724553934889,\n",
       " 63.41569002026155,\n",
       " 46.13056101058237,\n",
       " 36.137194810656766,\n",
       " 30.565933110867796,\n",
       " 27.037201401354196,\n",
       " 24.324511918851467]"
      ]
     },
     "execution_count": 65,
     "metadata": {},
     "output_type": "execute_result"
    }
   ],
   "source": [
    "from sklearn.cluster import KMeans\n",
    "wcss = []\n",
    "\n",
    "for i in range(1,11):\n",
    "    kmeans= KMeans(n_clusters = i, init = 'k-means++')\n",
    "    kmeans.fit(df_1) #Finds the Kmeans to our data\n",
    "    wcss.append(kmeans.inertia_)\n",
    "    \n",
    "wcss"
   ]
  },
  {
   "cell_type": "code",
   "execution_count": 66,
   "metadata": {},
   "outputs": [
    {
     "data": {
      "text/plain": [
       "<Figure size 640x480 with 1 Axes>"
      ]
     },
     "metadata": {},
     "output_type": "display_data"
    }
   ],
   "source": [
    "import matplotlib.pyplot as plt\n",
    "import seaborn as sns\n",
    "#plt.figure(figsize = (10,10))\n",
    "plt.grid()\n",
    "plt.plot(range(1,11),wcss, color='blue', linestyle='dashdot', linewidth = 3,\n",
    "         marker='o', markerfacecolor='red', markersize=10)\n",
    "plt.title('The Elbow Point Graph')\n",
    "plt.xlabel('Number of Clusters')\n",
    "plt.ylabel('WCSS')\n",
    "plt.show()"
   ]
  },
  {
   "cell_type": "code",
   "execution_count": 67,
   "metadata": {},
   "outputs": [
    {
     "name": "stdout",
     "output_type": "stream",
     "text": [
      "[2 2 2 ... 2 0 2]\n"
     ]
    }
   ],
   "source": [
    "kmeans1 = KMeans(n_clusters = 3, init = 'k-means++') #initialize the class object\n",
    "labels = kmeans1.fit_predict(df_1) #returns a cluster number for each of the data points\n",
    "print(labels)"
   ]
  },
  {
   "cell_type": "code",
   "execution_count": 68,
   "metadata": {},
   "outputs": [
    {
     "data": {
      "text/plain": [
       "2    15963\n",
       "1     4291\n",
       "0     3566\n",
       "Name: labels, dtype: int64"
      ]
     },
     "execution_count": 68,
     "metadata": {},
     "output_type": "execute_result"
    }
   ],
   "source": [
    "RFM_table['labels'] = labels\n",
    "RFM_table['labels'].value_counts()"
   ]
  },
  {
   "cell_type": "code",
   "execution_count": 69,
   "metadata": {},
   "outputs": [
    {
     "name": "stdout",
     "output_type": "stream",
     "text": [
      "Cluster Centroids:\n",
      "[[0.68940641 0.01400569]\n",
      " [0.05162369 0.01461657]\n",
      " [0.44748577 0.01503003]]\n"
     ]
    }
   ],
   "source": [
    "print('Cluster Centroids:')\n",
    "print(kmeans1.cluster_centers_)"
   ]
  },
  {
   "cell_type": "code",
   "execution_count": 70,
   "metadata": {},
   "outputs": [
    {
     "data": {
      "image/png": "[encoded data removed]",
      "text/plain": [
       "<Figure size 432x288 with 1 Axes>"
      ]
     },
     "metadata": {},
     "output_type": "display_data"
    }
   ],
   "source": [
    "# Visualizing Labels\n",
    "plt.grid()\n",
    "sns.scatterplot(y='Recency',x='Monetary',hue='labels',palette=['green','dodgerblue','red'],data=RFM_table,s=60)\n",
    "plt.title('Customer Groups')\n",
    "plt.xlabel('Recency')\n",
    "plt.ylabel('Frequency')\n",
    "plt.show()"
   ]
  },
  {
   "cell_type": "code",
   "execution_count": 71,
   "metadata": {},
   "outputs": [],
   "source": [
    "def segments(data,column1,column2):\n",
    "    test = data[[column1,column2]]\n",
    "    from sklearn.preprocessing import MinMaxScaler\n",
    "    scaler = MinMaxScaler().fit(test)\n",
    "    test = scaler.transform(test)\n",
    "    from sklearn.cluster import KMeans\n",
    "    wcss = []\n",
    "    for i in range(1,11):\n",
    "        kmeans= KMeans(n_clusters = i, init = 'k-means++')\n",
    "        kmeans.fit(test) #Finds the Kmeans to our data\n",
    "        wcss.append(kmeans.inertia_)\n",
    "    print(wcss)\n",
    "    #Plot Clustering Graph\n",
    "    plt.grid()\n",
    "    plt.plot(range(1,11),wcss, color='green', linestyle='dashed', linewidth = 3,\n",
    "         marker='o', markerfacecolor='blue', markersize=10)\n",
    "    plt.title('The Elbow Point Graph')\n",
    "    plt.xlabel('Number of Clusters')\n",
    "    plt.ylabel('WCSS')\n",
    "    plt.show()\n",
    "    \n",
    "    kmeans= KMeans(n_clusters = 3, init = 'k-means++') #initialize the class object\n",
    "    labels = kmeans.fit_predict(test) #returns a cluster number for each of the data points\n",
    "    print(labels)\n",
    "    data['labels'] = labels\n",
    "    print(data['labels'].value_counts())\n",
    "    # Visualizing Labels\n",
    "    plt.grid()\n",
    "    sns.scatterplot(x=column1,y=column2,hue='labels',palette=['green','dodgerblue','red'],data=data,s=60)\n",
    "    plt.title('Customer Groups')\n",
    "    plt.xlabel(column1)\n",
    "    plt.ylabel(column2)\n",
    "    plt.show()"
   ]
  },
  {
   "cell_type": "code",
   "execution_count": 72,
   "metadata": {},
   "outputs": [
    {
     "name": "stdout",
     "output_type": "stream",
     "text": [
      "[198.0780428977925, 63.13452222080422, 34.62843774744724, 22.07108726959607, 16.39623144133325, 12.637323541399812, 10.137074701778033, 8.864220653684805, 7.9273533604551805, 7.047208105345354]\n"
     ]
    },
    {
     "data": {
      "image/png": "[encoded data removed]",
      "text/plain": [
       "<Figure size 432x288 with 1 Axes>"
      ]
     },
     "metadata": {},
     "output_type": "display_data"
    },
    {
     "name": "stdout",
     "output_type": "stream",
     "text": [
      "[0 0 0 ... 0 0 0]\n",
      "0    21194\n",
      "2     2080\n",
      "1      546\n",
      "Name: labels, dtype: int64\n"
     ]
    },
    {
     "data": {
      "image/png": "[encoded data removed]",
      "text/plain": [
       "<Figure size 432x288 with 1 Axes>"
      ]
     },
     "metadata": {},
     "output_type": "display_data"
    }
   ],
   "source": [
    "segments(RFM_table,'Monetary','Frequency')"
   ]
  },
  {
   "cell_type": "code",
   "execution_count": 73,
   "metadata": {},
   "outputs": [],
   "source": [
    "low_cust = RFM_table[RFM_table['labels'] == 0]\n",
    "med_cust = RFM_table[RFM_table['labels'] == 2]\n",
    "high_cust = RFM_table[RFM_table['labels'] == 1]"
   ]
  },
  {
   "cell_type": "code",
   "execution_count": 74,
   "metadata": {},
   "outputs": [
    {
     "data": {
      "text/html": [
       "<div>\n",
       "<style scoped>\n",
       "    .dataframe tbody tr th:only-of-type {\n",
       "        vertical-align: middle;\n",
       "    }\n",
       "\n",
       "    .dataframe tbody tr th {\n",
       "        vertical-align: top;\n",
       "    }\n",
       "\n",
       "    .dataframe thead th {\n",
       "        text-align: right;\n",
       "    }\n",
       "</style>\n",
       "<table border=\"1\" class=\"dataframe\">\n",
       "  <thead>\n",
       "    <tr style=\"text-align: right;\">\n",
       "      <th></th>\n",
       "      <th>CustomerID</th>\n",
       "      <th>Recency</th>\n",
       "      <th>Frequency</th>\n",
       "      <th>Monetary</th>\n",
       "      <th>labels</th>\n",
       "    </tr>\n",
       "  </thead>\n",
       "  <tbody>\n",
       "    <tr>\n",
       "      <th>41</th>\n",
       "      <td>C12169</td>\n",
       "      <td>1493</td>\n",
       "      <td>43</td>\n",
       "      <td>5631</td>\n",
       "      <td>1</td>\n",
       "    </tr>\n",
       "    <tr>\n",
       "      <th>60</th>\n",
       "      <td>C12190</td>\n",
       "      <td>1469</td>\n",
       "      <td>36</td>\n",
       "      <td>2934</td>\n",
       "      <td>1</td>\n",
       "    </tr>\n",
       "    <tr>\n",
       "      <th>66</th>\n",
       "      <td>C12196</td>\n",
       "      <td>1920</td>\n",
       "      <td>36</td>\n",
       "      <td>3619</td>\n",
       "      <td>1</td>\n",
       "    </tr>\n",
       "    <tr>\n",
       "      <th>81</th>\n",
       "      <td>C12215</td>\n",
       "      <td>24</td>\n",
       "      <td>44</td>\n",
       "      <td>5267</td>\n",
       "      <td>1</td>\n",
       "    </tr>\n",
       "    <tr>\n",
       "      <th>168</th>\n",
       "      <td>C12321</td>\n",
       "      <td>1503</td>\n",
       "      <td>37</td>\n",
       "      <td>4027</td>\n",
       "      <td>1</td>\n",
       "    </tr>\n",
       "  </tbody>\n",
       "</table>\n",
       "</div>"
      ],
      "text/plain": [
       "    CustomerID  Recency  Frequency  Monetary  labels\n",
       "41      C12169     1493         43      5631       1\n",
       "60      C12190     1469         36      2934       1\n",
       "66      C12196     1920         36      3619       1\n",
       "81      C12215       24         44      5267       1\n",
       "168     C12321     1503         37      4027       1"
      ]
     },
     "execution_count": 74,
     "metadata": {},
     "output_type": "execute_result"
    }
   ],
   "source": [
    "high_cust.head()"
   ]
  },
  {
   "cell_type": "code",
   "execution_count": 75,
   "metadata": {},
   "outputs": [],
   "source": [
    "low_patterns = low_cust.quantile(q=[0.25,0.5,0.75])\n",
    "med_patterns = med_cust.quantile(q=[0.25,0.5,0.75])\n",
    "high_patterns = high_cust.quantile(q=[0.25,0.5,0.75])"
   ]
  },
  {
   "cell_type": "code",
   "execution_count": 76,
   "metadata": {},
   "outputs": [
    {
     "data": {
      "text/html": [
       "<div>\n",
       "<style scoped>\n",
       "    .dataframe tbody tr th:only-of-type {\n",
       "        vertical-align: middle;\n",
       "    }\n",
       "\n",
       "    .dataframe tbody tr th {\n",
       "        vertical-align: top;\n",
       "    }\n",
       "\n",
       "    .dataframe thead th {\n",
       "        text-align: right;\n",
       "    }\n",
       "</style>\n",
       "<table border=\"1\" class=\"dataframe\">\n",
       "  <thead>\n",
       "    <tr style=\"text-align: right;\">\n",
       "      <th></th>\n",
       "      <th>Recency</th>\n",
       "      <th>Frequency</th>\n",
       "      <th>Monetary</th>\n",
       "      <th>labels</th>\n",
       "    </tr>\n",
       "  </thead>\n",
       "  <tbody>\n",
       "    <tr>\n",
       "      <th>0.25</th>\n",
       "      <td>1470.00</td>\n",
       "      <td>24.0</td>\n",
       "      <td>2063.0</td>\n",
       "      <td>1.0</td>\n",
       "    </tr>\n",
       "    <tr>\n",
       "      <th>0.50</th>\n",
       "      <td>1493.00</td>\n",
       "      <td>28.0</td>\n",
       "      <td>2744.5</td>\n",
       "      <td>1.0</td>\n",
       "    </tr>\n",
       "    <tr>\n",
       "      <th>0.75</th>\n",
       "      <td>1585.75</td>\n",
       "      <td>34.0</td>\n",
       "      <td>3974.0</td>\n",
       "      <td>1.0</td>\n",
       "    </tr>\n",
       "  </tbody>\n",
       "</table>\n",
       "</div>"
      ],
      "text/plain": [
       "      Recency  Frequency  Monetary  labels\n",
       "0.25  1470.00       24.0    2063.0     1.0\n",
       "0.50  1493.00       28.0    2744.5     1.0\n",
       "0.75  1585.75       34.0    3974.0     1.0"
      ]
     },
     "execution_count": 76,
     "metadata": {},
     "output_type": "execute_result"
    }
   ],
   "source": [
    "high_patterns"
   ]
  },
  {
   "cell_type": "code",
   "execution_count": 77,
   "metadata": {},
   "outputs": [],
   "source": [
    "# Arguments (x = value, p = recency, monetary_value, frequency, s = quartiles dict)\n",
    "def RScore(x,p,s):\n",
    "    if x <= s[p][0.25]:\n",
    "        return 4\n",
    "    elif x <= s[p][0.50]:\n",
    "        return 3\n",
    "    elif x <= s[p][0.75]: \n",
    "        return 2\n",
    "    else:\n",
    "        return 1\n",
    "# Arguments (x = value, p = recency, monetary_value, frequency, k = quartiles dict)\n",
    "def FMScore(x,p,k):\n",
    "    if x <= k[p][0.25]:\n",
    "        return 1\n",
    "    elif x <= k[p][0.50]:\n",
    "        return 2\n",
    "    elif x <= k[p][0.75]: \n",
    "        return 3\n",
    "    else:\n",
    "        return 4"
   ]
  },
  {
   "cell_type": "code",
   "execution_count": 78,
   "metadata": {},
   "outputs": [],
   "source": [
    "#create rfm low_patternsation table\n",
    "low_cust['R_Score'] = low_cust['Recency'].apply(RScore, args=('Recency',low_patterns,))\n",
    "low_cust['F_Score'] = low_cust['Frequency'].apply(FMScore, args=('Frequency',low_patterns,))\n",
    "low_cust['M_Score'] = low_cust['Monetary'].apply(FMScore, args=('Monetary',low_patterns,))"
   ]
  },
  {
   "cell_type": "code",
   "execution_count": 79,
   "metadata": {},
   "outputs": [
    {
     "data": {
      "text/html": [
       "<div>\n",
       "<style scoped>\n",
       "    .dataframe tbody tr th:only-of-type {\n",
       "        vertical-align: middle;\n",
       "    }\n",
       "\n",
       "    .dataframe tbody tr th {\n",
       "        vertical-align: top;\n",
       "    }\n",
       "\n",
       "    .dataframe thead th {\n",
       "        text-align: right;\n",
       "    }\n",
       "</style>\n",
       "<table border=\"1\" class=\"dataframe\">\n",
       "  <thead>\n",
       "    <tr style=\"text-align: right;\">\n",
       "      <th></th>\n",
       "      <th>CustomerID</th>\n",
       "      <th>Recency</th>\n",
       "      <th>Frequency</th>\n",
       "      <th>Monetary</th>\n",
       "      <th>labels</th>\n",
       "      <th>R_Score</th>\n",
       "      <th>F_Score</th>\n",
       "      <th>M_Score</th>\n",
       "      <th>RFM_Value</th>\n",
       "    </tr>\n",
       "  </thead>\n",
       "  <tbody>\n",
       "    <tr>\n",
       "      <th>0</th>\n",
       "      <td>C12116</td>\n",
       "      <td>1566</td>\n",
       "      <td>3</td>\n",
       "      <td>115</td>\n",
       "      <td>0</td>\n",
       "      <td>2</td>\n",
       "      <td>4</td>\n",
       "      <td>4</td>\n",
       "      <td>244</td>\n",
       "    </tr>\n",
       "    <tr>\n",
       "      <th>1</th>\n",
       "      <td>C12117</td>\n",
       "      <td>1509</td>\n",
       "      <td>1</td>\n",
       "      <td>41</td>\n",
       "      <td>0</td>\n",
       "      <td>3</td>\n",
       "      <td>1</td>\n",
       "      <td>1</td>\n",
       "      <td>311</td>\n",
       "    </tr>\n",
       "    <tr>\n",
       "      <th>2</th>\n",
       "      <td>C12118</td>\n",
       "      <td>1595</td>\n",
       "      <td>1</td>\n",
       "      <td>41</td>\n",
       "      <td>0</td>\n",
       "      <td>2</td>\n",
       "      <td>1</td>\n",
       "      <td>1</td>\n",
       "      <td>211</td>\n",
       "    </tr>\n",
       "    <tr>\n",
       "      <th>3</th>\n",
       "      <td>C12119</td>\n",
       "      <td>1554</td>\n",
       "      <td>1</td>\n",
       "      <td>52</td>\n",
       "      <td>0</td>\n",
       "      <td>2</td>\n",
       "      <td>1</td>\n",
       "      <td>2</td>\n",
       "      <td>212</td>\n",
       "    </tr>\n",
       "    <tr>\n",
       "      <th>4</th>\n",
       "      <td>C12120</td>\n",
       "      <td>1473</td>\n",
       "      <td>1</td>\n",
       "      <td>31</td>\n",
       "      <td>0</td>\n",
       "      <td>4</td>\n",
       "      <td>1</td>\n",
       "      <td>1</td>\n",
       "      <td>411</td>\n",
       "    </tr>\n",
       "  </tbody>\n",
       "</table>\n",
       "</div>"
      ],
      "text/plain": [
       "  CustomerID  Recency  Frequency  Monetary  labels  R_Score  F_Score  M_Score  \\\n",
       "0     C12116     1566          3       115       0        2        4        4   \n",
       "1     C12117     1509          1        41       0        3        1        1   \n",
       "2     C12118     1595          1        41       0        2        1        1   \n",
       "3     C12119     1554          1        52       0        2        1        2   \n",
       "4     C12120     1473          1        31       0        4        1        1   \n",
       "\n",
       "  RFM_Value  \n",
       "0       244  \n",
       "1       311  \n",
       "2       211  \n",
       "3       212  \n",
       "4       411  "
      ]
     },
     "execution_count": 79,
     "metadata": {},
     "output_type": "execute_result"
    }
   ],
   "source": [
    "low_cust['RFM_Value'] = low_cust.R_Score.map(str) \\\n",
    "                        + low_cust.F_Score.map(str) \\\n",
    "                         + low_cust.M_Score.map(str)\n",
    "\n",
    "low_cust.head()"
   ]
  },
  {
   "cell_type": "code",
   "execution_count": 80,
   "metadata": {
    "scrolled": true
   },
   "outputs": [
    {
     "data": {
      "text/plain": [
       "211    2472\n",
       "311    2429\n",
       "411    1849\n",
       "113    1232\n",
       "112    1072\n",
       "144    1062\n",
       "213     964\n",
       "444     927\n",
       "413     854\n",
       "212     784\n",
       "344     757\n",
       "111     698\n",
       "412     694\n",
       "313     635\n",
       "312     614\n",
       "134     496\n",
       "333     386\n",
       "244     370\n",
       "433     369\n",
       "434     353\n",
       "133     317\n",
       "114     303\n",
       "334     292\n",
       "234     219\n",
       "233     217\n",
       "214     192\n",
       "414     182\n",
       "314     120\n",
       "143      57\n",
       "343      45\n",
       "443      44\n",
       "432      29\n",
       "131      26\n",
       "132      25\n",
       "332      25\n",
       "243      21\n",
       "231      13\n",
       "331      12\n",
       "232      12\n",
       "431       9\n",
       "442       7\n",
       "142       5\n",
       "141       2\n",
       "441       1\n",
       "241       1\n",
       "242       1\n",
       "Name: RFM_Value, dtype: int64"
      ]
     },
     "execution_count": 80,
     "metadata": {},
     "output_type": "execute_result"
    }
   ],
   "source": [
    "low_cust['RFM_Value'].value_counts(ascending=False)"
   ]
  },
  {
   "cell_type": "code",
   "execution_count": null,
   "metadata": {},
   "outputs": [],
   "source": []
  },
  {
   "cell_type": "code",
   "execution_count": null,
   "metadata": {},
   "outputs": [],
   "source": []
  },
  {
   "cell_type": "code",
   "execution_count": null,
   "metadata": {},
   "outputs": [],
   "source": []
  },
  {
   "cell_type": "code",
   "execution_count": 81,
   "metadata": {},
   "outputs": [],
   "source": [
    "#create rfm med_patternsation table\n",
    "med_cust['R_Score'] = med_cust['Recency'].apply(RScore, args=('Recency',med_patterns,))\n",
    "med_cust['F_Score'] = med_cust['Frequency'].apply(FMScore, args=('Frequency',med_patterns,))\n",
    "med_cust['M_Score'] = med_cust['Monetary'].apply(FMScore, args=('Monetary',med_patterns,))"
   ]
  },
  {
   "cell_type": "code",
   "execution_count": 82,
   "metadata": {},
   "outputs": [
    {
     "data": {
      "text/html": [
       "<div>\n",
       "<style scoped>\n",
       "    .dataframe tbody tr th:only-of-type {\n",
       "        vertical-align: middle;\n",
       "    }\n",
       "\n",
       "    .dataframe tbody tr th {\n",
       "        vertical-align: top;\n",
       "    }\n",
       "\n",
       "    .dataframe thead th {\n",
       "        text-align: right;\n",
       "    }\n",
       "</style>\n",
       "<table border=\"1\" class=\"dataframe\">\n",
       "  <thead>\n",
       "    <tr style=\"text-align: right;\">\n",
       "      <th></th>\n",
       "      <th>CustomerID</th>\n",
       "      <th>Recency</th>\n",
       "      <th>Frequency</th>\n",
       "      <th>Monetary</th>\n",
       "      <th>labels</th>\n",
       "      <th>R_Score</th>\n",
       "      <th>F_Score</th>\n",
       "      <th>M_Score</th>\n",
       "      <th>RFM_Value</th>\n",
       "    </tr>\n",
       "  </thead>\n",
       "  <tbody>\n",
       "    <tr>\n",
       "      <th>14</th>\n",
       "      <td>C12131</td>\n",
       "      <td>1531</td>\n",
       "      <td>19</td>\n",
       "      <td>2452</td>\n",
       "      <td>2</td>\n",
       "      <td>2</td>\n",
       "      <td>4</td>\n",
       "      <td>4</td>\n",
       "      <td>244</td>\n",
       "    </tr>\n",
       "    <tr>\n",
       "      <th>18</th>\n",
       "      <td>C12140</td>\n",
       "      <td>1469</td>\n",
       "      <td>10</td>\n",
       "      <td>677</td>\n",
       "      <td>2</td>\n",
       "      <td>3</td>\n",
       "      <td>2</td>\n",
       "      <td>2</td>\n",
       "      <td>322</td>\n",
       "    </tr>\n",
       "    <tr>\n",
       "      <th>19</th>\n",
       "      <td>C12141</td>\n",
       "      <td>1472</td>\n",
       "      <td>11</td>\n",
       "      <td>640</td>\n",
       "      <td>2</td>\n",
       "      <td>3</td>\n",
       "      <td>3</td>\n",
       "      <td>2</td>\n",
       "      <td>332</td>\n",
       "    </tr>\n",
       "    <tr>\n",
       "      <th>25</th>\n",
       "      <td>C12150</td>\n",
       "      <td>1482</td>\n",
       "      <td>12</td>\n",
       "      <td>578</td>\n",
       "      <td>2</td>\n",
       "      <td>3</td>\n",
       "      <td>3</td>\n",
       "      <td>2</td>\n",
       "      <td>332</td>\n",
       "    </tr>\n",
       "    <tr>\n",
       "      <th>36</th>\n",
       "      <td>C12162</td>\n",
       "      <td>1469</td>\n",
       "      <td>12</td>\n",
       "      <td>750</td>\n",
       "      <td>2</td>\n",
       "      <td>3</td>\n",
       "      <td>3</td>\n",
       "      <td>2</td>\n",
       "      <td>332</td>\n",
       "    </tr>\n",
       "  </tbody>\n",
       "</table>\n",
       "</div>"
      ],
      "text/plain": [
       "   CustomerID  Recency  Frequency  Monetary  labels  R_Score  F_Score  \\\n",
       "14     C12131     1531         19      2452       2        2        4   \n",
       "18     C12140     1469         10       677       2        3        2   \n",
       "19     C12141     1472         11       640       2        3        3   \n",
       "25     C12150     1482         12       578       2        3        3   \n",
       "36     C12162     1469         12       750       2        3        3   \n",
       "\n",
       "    M_Score RFM_Value  \n",
       "14        4       244  \n",
       "18        2       322  \n",
       "19        2       332  \n",
       "25        2       332  \n",
       "36        2       332  "
      ]
     },
     "execution_count": 82,
     "metadata": {},
     "output_type": "execute_result"
    }
   ],
   "source": [
    "med_cust['RFM_Value'] = med_cust.R_Score.map(str) \\\n",
    "                        + med_cust.F_Score.map(str) \\\n",
    "                         + med_cust.M_Score.map(str)\n",
    "\n",
    "med_cust.head()"
   ]
  },
  {
   "cell_type": "code",
   "execution_count": 83,
   "metadata": {},
   "outputs": [
    {
     "data": {
      "text/plain": [
       "111    94\n",
       "244    77\n",
       "344    77\n",
       "311    73\n",
       "411    72\n",
       "211    67\n",
       "412    61\n",
       "444    58\n",
       "133    57\n",
       "144    51\n",
       "434    50\n",
       "234    50\n",
       "433    47\n",
       "312    47\n",
       "233    46\n",
       "112    45\n",
       "212    44\n",
       "333    41\n",
       "422    41\n",
       "232    40\n",
       "122    40\n",
       "432    36\n",
       "132    34\n",
       "321    34\n",
       "343    34\n",
       "332    34\n",
       "243    33\n",
       "222    33\n",
       "134    32\n",
       "334    32\n",
       "       ..\n",
       "221    28\n",
       "143    28\n",
       "421    27\n",
       "121    27\n",
       "131    26\n",
       "123    26\n",
       "113    24\n",
       "213    24\n",
       "423    24\n",
       "313    24\n",
       "331    23\n",
       "443    23\n",
       "431    18\n",
       "424    17\n",
       "124    14\n",
       "314    14\n",
       "214    12\n",
       "324    11\n",
       "242    11\n",
       "224    10\n",
       "342    10\n",
       "114    10\n",
       "231    10\n",
       "442     9\n",
       "142     7\n",
       "341     7\n",
       "141     5\n",
       "414     5\n",
       "241     5\n",
       "441     4\n",
       "Name: RFM_Value, Length: 64, dtype: int64"
      ]
     },
     "execution_count": 83,
     "metadata": {},
     "output_type": "execute_result"
    }
   ],
   "source": [
    "med_cust['RFM_Value'].value_counts(ascending=False)"
   ]
  },
  {
   "cell_type": "code",
   "execution_count": 84,
   "metadata": {},
   "outputs": [],
   "source": [
    "#create rfm high_patternsation table\n",
    "high_cust['R_Score'] = high_cust['Recency'].apply(RScore, args=('Recency',high_patterns,))\n",
    "high_cust['F_Score'] = high_cust['Frequency'].apply(FMScore, args=('Frequency',high_patterns,))\n",
    "high_cust['M_Score'] = high_cust['Monetary'].apply(FMScore, args=('Monetary',high_patterns,))\n"
   ]
  },
  {
   "cell_type": "code",
   "execution_count": 85,
   "metadata": {},
   "outputs": [
    {
     "data": {
      "text/html": [
       "<div>\n",
       "<style scoped>\n",
       "    .dataframe tbody tr th:only-of-type {\n",
       "        vertical-align: middle;\n",
       "    }\n",
       "\n",
       "    .dataframe tbody tr th {\n",
       "        vertical-align: top;\n",
       "    }\n",
       "\n",
       "    .dataframe thead th {\n",
       "        text-align: right;\n",
       "    }\n",
       "</style>\n",
       "<table border=\"1\" class=\"dataframe\">\n",
       "  <thead>\n",
       "    <tr style=\"text-align: right;\">\n",
       "      <th></th>\n",
       "      <th>CustomerID</th>\n",
       "      <th>Recency</th>\n",
       "      <th>Frequency</th>\n",
       "      <th>Monetary</th>\n",
       "      <th>labels</th>\n",
       "      <th>R_Score</th>\n",
       "      <th>F_Score</th>\n",
       "      <th>M_Score</th>\n",
       "      <th>RFM_Value</th>\n",
       "    </tr>\n",
       "  </thead>\n",
       "  <tbody>\n",
       "    <tr>\n",
       "      <th>41</th>\n",
       "      <td>C12169</td>\n",
       "      <td>1493</td>\n",
       "      <td>43</td>\n",
       "      <td>5631</td>\n",
       "      <td>1</td>\n",
       "      <td>3</td>\n",
       "      <td>4</td>\n",
       "      <td>4</td>\n",
       "      <td>344</td>\n",
       "    </tr>\n",
       "    <tr>\n",
       "      <th>60</th>\n",
       "      <td>C12190</td>\n",
       "      <td>1469</td>\n",
       "      <td>36</td>\n",
       "      <td>2934</td>\n",
       "      <td>1</td>\n",
       "      <td>4</td>\n",
       "      <td>4</td>\n",
       "      <td>3</td>\n",
       "      <td>443</td>\n",
       "    </tr>\n",
       "    <tr>\n",
       "      <th>66</th>\n",
       "      <td>C12196</td>\n",
       "      <td>1920</td>\n",
       "      <td>36</td>\n",
       "      <td>3619</td>\n",
       "      <td>1</td>\n",
       "      <td>1</td>\n",
       "      <td>4</td>\n",
       "      <td>3</td>\n",
       "      <td>143</td>\n",
       "    </tr>\n",
       "    <tr>\n",
       "      <th>81</th>\n",
       "      <td>C12215</td>\n",
       "      <td>24</td>\n",
       "      <td>44</td>\n",
       "      <td>5267</td>\n",
       "      <td>1</td>\n",
       "      <td>4</td>\n",
       "      <td>4</td>\n",
       "      <td>4</td>\n",
       "      <td>444</td>\n",
       "    </tr>\n",
       "    <tr>\n",
       "      <th>168</th>\n",
       "      <td>C12321</td>\n",
       "      <td>1503</td>\n",
       "      <td>37</td>\n",
       "      <td>4027</td>\n",
       "      <td>1</td>\n",
       "      <td>2</td>\n",
       "      <td>4</td>\n",
       "      <td>4</td>\n",
       "      <td>244</td>\n",
       "    </tr>\n",
       "  </tbody>\n",
       "</table>\n",
       "</div>"
      ],
      "text/plain": [
       "    CustomerID  Recency  Frequency  Monetary  labels  R_Score  F_Score  \\\n",
       "41      C12169     1493         43      5631       1        3        4   \n",
       "60      C12190     1469         36      2934       1        4        4   \n",
       "66      C12196     1920         36      3619       1        1        4   \n",
       "81      C12215       24         44      5267       1        4        4   \n",
       "168     C12321     1503         37      4027       1        2        4   \n",
       "\n",
       "     M_Score RFM_Value  \n",
       "41         4       344  \n",
       "60         3       443  \n",
       "66         3       143  \n",
       "81         4       444  \n",
       "168        4       244  "
      ]
     },
     "execution_count": 85,
     "metadata": {},
     "output_type": "execute_result"
    }
   ],
   "source": [
    "high_cust['RFM_Value'] = high_cust.R_Score.map(str) \\\n",
    "                        + high_cust.F_Score.map(str) \\\n",
    "                         + high_cust.M_Score.map(str)\n",
    "\n",
    "high_cust.head()"
   ]
  },
  {
   "cell_type": "code",
   "execution_count": 86,
   "metadata": {},
   "outputs": [
    {
     "data": {
      "text/plain": [
       "244    23\n",
       "444    23\n",
       "344    21\n",
       "221    17\n",
       "144    17\n",
       "111    17\n",
       "421    17\n",
       "321    16\n",
       "121    15\n",
       "433    14\n",
       "112    14\n",
       "332    13\n",
       "311    13\n",
       "211    13\n",
       "232    13\n",
       "134    13\n",
       "413    12\n",
       "222    12\n",
       "443    12\n",
       "412    12\n",
       "243    11\n",
       "432    11\n",
       "411    11\n",
       "213    10\n",
       "133    10\n",
       "212    10\n",
       "322    10\n",
       "422     9\n",
       "343     9\n",
       "123     9\n",
       "333     8\n",
       "312     8\n",
       "334     8\n",
       "233     8\n",
       "122     7\n",
       "234     7\n",
       "131     7\n",
       "323     7\n",
       "113     7\n",
       "313     7\n",
       "331     6\n",
       "132     6\n",
       "114     6\n",
       "434     5\n",
       "423     5\n",
       "124     5\n",
       "223     4\n",
       "442     4\n",
       "431     4\n",
       "342     3\n",
       "143     3\n",
       "242     3\n",
       "314     3\n",
       "324     2\n",
       "414     2\n",
       "241     1\n",
       "424     1\n",
       "142     1\n",
       "224     1\n",
       "Name: RFM_Value, dtype: int64"
      ]
     },
     "execution_count": 86,
     "metadata": {},
     "output_type": "execute_result"
    }
   ],
   "source": [
    "high_cust['RFM_Value'].value_counts(ascending=False)"
   ]
  },
  {
   "cell_type": "code",
   "execution_count": null,
   "metadata": {},
   "outputs": [],
   "source": []
  },
  {
   "cell_type": "code",
   "execution_count": 87,
   "metadata": {},
   "outputs": [],
   "source": [
    "dt1 = pd.read_csv('./Test.csv')\n",
    "dt2 = pd.read_csv('./Customerdata_Test.csv')\n",
    "dt3 = pd.read_csv('./transactionsdata_Test.csv')\n",
    "dt4 = pd.read_csv('./Emaildata_Test.csv')"
   ]
  },
  {
   "cell_type": "code",
   "execution_count": 88,
   "metadata": {},
   "outputs": [
    {
     "data": {
      "text/plain": [
       "((5955, 1), (5955, 7), (26768, 4), (129074, 6))"
      ]
     },
     "execution_count": 88,
     "metadata": {},
     "output_type": "execute_result"
    }
   ],
   "source": [
    "dt1.shape , dt2.shape , dt3.shape , dt4.shape"
   ]
  },
  {
   "cell_type": "code",
   "execution_count": 89,
   "metadata": {},
   "outputs": [
    {
     "name": "stdout",
     "output_type": "stream",
     "text": [
      "Index(['CustomerID'], dtype='object')\n",
      "Index(['CustomerID', 'City', 'DateOfRegistration', 'OnlineCommunication',\n",
      "       'AutomaticRefill', 'DoorstepDelivery', 'PreferredDeliveryDay'],\n",
      "      dtype='object')\n",
      "Index(['CustomerID', 'DateOfOrder', 'timestamp', 'OrderQuantity'], dtype='object')\n",
      "Index(['CustomerID', 'DateOfemail', 'EmailType', 'timestamp', 'MailOpened',\n",
      "       'MailClicked'],\n",
      "      dtype='object')\n"
     ]
    }
   ],
   "source": [
    "print(dt1.columns)\n",
    "print(dt2.columns)\n",
    "print(dt3.columns)\n",
    "print(dt4.columns)"
   ]
  },
  {
   "cell_type": "code",
   "execution_count": 90,
   "metadata": {},
   "outputs": [
    {
     "data": {
      "text/plain": [
       "CustomerID    5955\n",
       "dtype: int64"
      ]
     },
     "execution_count": 90,
     "metadata": {},
     "output_type": "execute_result"
    }
   ],
   "source": [
    "dt1.nunique()"
   ]
  },
  {
   "cell_type": "code",
   "execution_count": 91,
   "metadata": {},
   "outputs": [
    {
     "data": {
      "text/plain": [
       "CustomerID              5955\n",
       "City                       4\n",
       "DateOfRegistration      1631\n",
       "OnlineCommunication        2\n",
       "AutomaticRefill            2\n",
       "DoorstepDelivery           2\n",
       "PreferredDeliveryDay       7\n",
       "dtype: int64"
      ]
     },
     "execution_count": 91,
     "metadata": {},
     "output_type": "execute_result"
    }
   ],
   "source": [
    "dt2.nunique()"
   ]
  },
  {
   "cell_type": "code",
   "execution_count": 92,
   "metadata": {},
   "outputs": [
    {
     "data": {
      "text/plain": [
       "CustomerID        5955\n",
       "DateOfOrder       2771\n",
       "timestamp        15326\n",
       "OrderQuantity      372\n",
       "dtype: int64"
      ]
     },
     "execution_count": 92,
     "metadata": {},
     "output_type": "execute_result"
    }
   ],
   "source": [
    "dt3.nunique()"
   ]
  },
  {
   "cell_type": "code",
   "execution_count": 93,
   "metadata": {},
   "outputs": [
    {
     "data": {
      "text/plain": [
       "CustomerID      5955\n",
       "DateOfemail     3149\n",
       "EmailType          2\n",
       "timestamp      14366\n",
       "MailOpened         2\n",
       "MailClicked        3\n",
       "dtype: int64"
      ]
     },
     "execution_count": 93,
     "metadata": {},
     "output_type": "execute_result"
    }
   ],
   "source": [
    "dt4.nunique()"
   ]
  },
  {
   "cell_type": "code",
   "execution_count": 94,
   "metadata": {},
   "outputs": [],
   "source": [
    "dtest1 = pd.merge(dt1,dt2,on=['CustomerID'],how = 'inner')"
   ]
  },
  {
   "cell_type": "code",
   "execution_count": 95,
   "metadata": {},
   "outputs": [
    {
     "data": {
      "text/plain": [
       "(5955, 7)"
      ]
     },
     "execution_count": 95,
     "metadata": {},
     "output_type": "execute_result"
    }
   ],
   "source": [
    "dtest1.shape"
   ]
  },
  {
   "cell_type": "code",
   "execution_count": 96,
   "metadata": {},
   "outputs": [
    {
     "data": {
      "text/plain": [
       "CustomerID              5955\n",
       "City                       4\n",
       "DateOfRegistration      1631\n",
       "OnlineCommunication        2\n",
       "AutomaticRefill            2\n",
       "DoorstepDelivery           2\n",
       "PreferredDeliveryDay       7\n",
       "dtype: int64"
      ]
     },
     "execution_count": 96,
     "metadata": {},
     "output_type": "execute_result"
    }
   ],
   "source": [
    "dtest1.nunique()"
   ]
  },
  {
   "cell_type": "code",
   "execution_count": 97,
   "metadata": {},
   "outputs": [
    {
     "data": {
      "text/html": [
       "<div>\n",
       "<style scoped>\n",
       "    .dataframe tbody tr th:only-of-type {\n",
       "        vertical-align: middle;\n",
       "    }\n",
       "\n",
       "    .dataframe tbody tr th {\n",
       "        vertical-align: top;\n",
       "    }\n",
       "\n",
       "    .dataframe thead th {\n",
       "        text-align: right;\n",
       "    }\n",
       "</style>\n",
       "<table border=\"1\" class=\"dataframe\">\n",
       "  <thead>\n",
       "    <tr style=\"text-align: right;\">\n",
       "      <th></th>\n",
       "      <th>CustomerID</th>\n",
       "      <th>City</th>\n",
       "      <th>DateOfRegistration</th>\n",
       "      <th>OnlineCommunication</th>\n",
       "      <th>AutomaticRefill</th>\n",
       "      <th>DoorstepDelivery</th>\n",
       "      <th>PreferredDeliveryDay</th>\n",
       "    </tr>\n",
       "  </thead>\n",
       "  <tbody>\n",
       "    <tr>\n",
       "      <th>0</th>\n",
       "      <td>C12121</td>\n",
       "      <td>CITY1</td>\n",
       "      <td>12/4/2017</td>\n",
       "      <td>1</td>\n",
       "      <td>0</td>\n",
       "      <td>0</td>\n",
       "      <td>Friday</td>\n",
       "    </tr>\n",
       "    <tr>\n",
       "      <th>1</th>\n",
       "      <td>C12132</td>\n",
       "      <td>CITY3</td>\n",
       "      <td>10/20/2013</td>\n",
       "      <td>1</td>\n",
       "      <td>0</td>\n",
       "      <td>0</td>\n",
       "      <td>Tuesday</td>\n",
       "    </tr>\n",
       "    <tr>\n",
       "      <th>2</th>\n",
       "      <td>C12134</td>\n",
       "      <td>CITY3</td>\n",
       "      <td>9/18/2013</td>\n",
       "      <td>1</td>\n",
       "      <td>0</td>\n",
       "      <td>0</td>\n",
       "      <td>Monday</td>\n",
       "    </tr>\n",
       "    <tr>\n",
       "      <th>3</th>\n",
       "      <td>C12135</td>\n",
       "      <td>CITY3</td>\n",
       "      <td>11/1/2017</td>\n",
       "      <td>1</td>\n",
       "      <td>0</td>\n",
       "      <td>1</td>\n",
       "      <td>Wednesday</td>\n",
       "    </tr>\n",
       "    <tr>\n",
       "      <th>4</th>\n",
       "      <td>C12136</td>\n",
       "      <td>CITY2</td>\n",
       "      <td>9/28/2013</td>\n",
       "      <td>1</td>\n",
       "      <td>0</td>\n",
       "      <td>0</td>\n",
       "      <td>Thursday</td>\n",
       "    </tr>\n",
       "  </tbody>\n",
       "</table>\n",
       "</div>"
      ],
      "text/plain": [
       "  CustomerID   City DateOfRegistration  OnlineCommunication  AutomaticRefill  \\\n",
       "0     C12121  CITY1          12/4/2017                    1                0   \n",
       "1     C12132  CITY3         10/20/2013                    1                0   \n",
       "2     C12134  CITY3          9/18/2013                    1                0   \n",
       "3     C12135  CITY3          11/1/2017                    1                0   \n",
       "4     C12136  CITY2          9/28/2013                    1                0   \n",
       "\n",
       "   DoorstepDelivery PreferredDeliveryDay  \n",
       "0                 0               Friday  \n",
       "1                 0              Tuesday  \n",
       "2                 0               Monday  \n",
       "3                 1            Wednesday  \n",
       "4                 0             Thursday  "
      ]
     },
     "execution_count": 97,
     "metadata": {},
     "output_type": "execute_result"
    }
   ],
   "source": [
    "dtest1.head()"
   ]
  },
  {
   "cell_type": "code",
   "execution_count": 98,
   "metadata": {},
   "outputs": [
    {
     "data": {
      "text/plain": [
       "CustomerID              0\n",
       "City                    0\n",
       "DateOfRegistration      0\n",
       "OnlineCommunication     0\n",
       "AutomaticRefill         0\n",
       "DoorstepDelivery        0\n",
       "PreferredDeliveryDay    0\n",
       "dtype: int64"
      ]
     },
     "execution_count": 98,
     "metadata": {},
     "output_type": "execute_result"
    }
   ],
   "source": [
    "dtest1.isna().sum()"
   ]
  },
  {
   "cell_type": "code",
   "execution_count": 99,
   "metadata": {},
   "outputs": [
    {
     "data": {
      "text/plain": [
       "5955"
      ]
     },
     "execution_count": 99,
     "metadata": {},
     "output_type": "execute_result"
    }
   ],
   "source": [
    "len(dtest1)"
   ]
  },
  {
   "cell_type": "code",
   "execution_count": 100,
   "metadata": {},
   "outputs": [
    {
     "data": {
      "text/html": [
       "<div>\n",
       "<style scoped>\n",
       "    .dataframe tbody tr th:only-of-type {\n",
       "        vertical-align: middle;\n",
       "    }\n",
       "\n",
       "    .dataframe tbody tr th {\n",
       "        vertical-align: top;\n",
       "    }\n",
       "\n",
       "    .dataframe thead th {\n",
       "        text-align: right;\n",
       "    }\n",
       "</style>\n",
       "<table border=\"1\" class=\"dataframe\">\n",
       "  <thead>\n",
       "    <tr style=\"text-align: right;\">\n",
       "      <th></th>\n",
       "      <th>CustomerID</th>\n",
       "      <th>City</th>\n",
       "      <th>DateOfRegistration</th>\n",
       "      <th>OnlineCommunication</th>\n",
       "      <th>AutomaticRefill</th>\n",
       "      <th>DoorstepDelivery</th>\n",
       "      <th>PreferredDeliveryDay</th>\n",
       "    </tr>\n",
       "  </thead>\n",
       "  <tbody>\n",
       "    <tr>\n",
       "      <th>0</th>\n",
       "      <td>C12121</td>\n",
       "      <td>CITY1</td>\n",
       "      <td>12/4/2017</td>\n",
       "      <td>1</td>\n",
       "      <td>0</td>\n",
       "      <td>0</td>\n",
       "      <td>Friday</td>\n",
       "    </tr>\n",
       "    <tr>\n",
       "      <th>1</th>\n",
       "      <td>C12132</td>\n",
       "      <td>CITY3</td>\n",
       "      <td>10/20/2013</td>\n",
       "      <td>1</td>\n",
       "      <td>0</td>\n",
       "      <td>0</td>\n",
       "      <td>Tuesday</td>\n",
       "    </tr>\n",
       "    <tr>\n",
       "      <th>2</th>\n",
       "      <td>C12134</td>\n",
       "      <td>CITY3</td>\n",
       "      <td>9/18/2013</td>\n",
       "      <td>1</td>\n",
       "      <td>0</td>\n",
       "      <td>0</td>\n",
       "      <td>Monday</td>\n",
       "    </tr>\n",
       "    <tr>\n",
       "      <th>3</th>\n",
       "      <td>C12135</td>\n",
       "      <td>CITY3</td>\n",
       "      <td>11/1/2017</td>\n",
       "      <td>1</td>\n",
       "      <td>0</td>\n",
       "      <td>1</td>\n",
       "      <td>Wednesday</td>\n",
       "    </tr>\n",
       "    <tr>\n",
       "      <th>4</th>\n",
       "      <td>C12136</td>\n",
       "      <td>CITY2</td>\n",
       "      <td>9/28/2013</td>\n",
       "      <td>1</td>\n",
       "      <td>0</td>\n",
       "      <td>0</td>\n",
       "      <td>Thursday</td>\n",
       "    </tr>\n",
       "  </tbody>\n",
       "</table>\n",
       "</div>"
      ],
      "text/plain": [
       "  CustomerID   City DateOfRegistration  OnlineCommunication  AutomaticRefill  \\\n",
       "0     C12121  CITY1          12/4/2017                    1                0   \n",
       "1     C12132  CITY3         10/20/2013                    1                0   \n",
       "2     C12134  CITY3          9/18/2013                    1                0   \n",
       "3     C12135  CITY3          11/1/2017                    1                0   \n",
       "4     C12136  CITY2          9/28/2013                    1                0   \n",
       "\n",
       "   DoorstepDelivery PreferredDeliveryDay  \n",
       "0                 0               Friday  \n",
       "1                 0              Tuesday  \n",
       "2                 0               Monday  \n",
       "3                 1            Wednesday  \n",
       "4                 0             Thursday  "
      ]
     },
     "execution_count": 100,
     "metadata": {},
     "output_type": "execute_result"
    }
   ],
   "source": [
    "dtest1.head()"
   ]
  },
  {
   "cell_type": "code",
   "execution_count": 101,
   "metadata": {},
   "outputs": [
    {
     "data": {
      "text/plain": [
       "CustomerID              5955\n",
       "City                       4\n",
       "DateOfRegistration      1631\n",
       "OnlineCommunication        2\n",
       "AutomaticRefill            2\n",
       "DoorstepDelivery           2\n",
       "PreferredDeliveryDay       7\n",
       "dtype: int64"
      ]
     },
     "execution_count": 101,
     "metadata": {},
     "output_type": "execute_result"
    }
   ],
   "source": [
    "dtest1.nunique()"
   ]
  },
  {
   "cell_type": "code",
   "execution_count": 102,
   "metadata": {},
   "outputs": [],
   "source": [
    "\n",
    "dt3 = dt3.drop('timestamp',axis=1)"
   ]
  },
  {
   "cell_type": "code",
   "execution_count": 103,
   "metadata": {},
   "outputs": [
    {
     "data": {
      "text/plain": [
       "CustomerID       5955\n",
       "DateOfOrder      2771\n",
       "OrderQuantity     372\n",
       "dtype: int64"
      ]
     },
     "execution_count": 103,
     "metadata": {},
     "output_type": "execute_result"
    }
   ],
   "source": [
    "dt3.nunique()"
   ]
  },
  {
   "cell_type": "code",
   "execution_count": 104,
   "metadata": {},
   "outputs": [],
   "source": [
    "\n",
    "dt4 = dt4.drop(['timestamp'],axis=1)"
   ]
  },
  {
   "cell_type": "code",
   "execution_count": 105,
   "metadata": {},
   "outputs": [
    {
     "data": {
      "text/plain": [
       "CustomerID     5955\n",
       "DateOfemail    3149\n",
       "EmailType         2\n",
       "MailOpened        2\n",
       "MailClicked       3\n",
       "dtype: int64"
      ]
     },
     "execution_count": 105,
     "metadata": {},
     "output_type": "execute_result"
    }
   ],
   "source": [
    "dt4.nunique()"
   ]
  },
  {
   "cell_type": "code",
   "execution_count": 106,
   "metadata": {},
   "outputs": [
    {
     "data": {
      "text/plain": [
       "CustomizedEmail    123119\n",
       "WelcomeEmail         5955\n",
       "Name: EmailType, dtype: int64"
      ]
     },
     "execution_count": 106,
     "metadata": {},
     "output_type": "execute_result"
    }
   ],
   "source": [
    "dt4['EmailType'].value_counts()"
   ]
  },
  {
   "cell_type": "code",
   "execution_count": 107,
   "metadata": {},
   "outputs": [
    {
     "name": "stdout",
     "output_type": "stream",
     "text": [
      "Index(['CustomerID', 'City', 'DateOfRegistration', 'OnlineCommunication',\n",
      "       'AutomaticRefill', 'DoorstepDelivery', 'PreferredDeliveryDay'],\n",
      "      dtype='object')\n",
      "Index(['CustomerID', 'DateOfOrder', 'OrderQuantity'], dtype='object')\n",
      "Index(['CustomerID', 'DateOfemail', 'EmailType', 'MailOpened', 'MailClicked'], dtype='object')\n"
     ]
    }
   ],
   "source": [
    "print(dtest1.columns)\n",
    "print(dt3.columns)\n",
    "print(dt4.columns)"
   ]
  },
  {
   "cell_type": "code",
   "execution_count": 108,
   "metadata": {},
   "outputs": [
    {
     "data": {
      "text/plain": [
       "Index(['CustomerID', 'City', 'DateOfRegistration', 'OnlineCommunication',\n",
       "       'AutomaticRefill', 'DoorstepDelivery', 'PreferredDeliveryDay'],\n",
       "      dtype='object')"
      ]
     },
     "execution_count": 108,
     "metadata": {},
     "output_type": "execute_result"
    }
   ],
   "source": [
    "dtest1.columns"
   ]
  },
  {
   "cell_type": "code",
   "execution_count": 109,
   "metadata": {},
   "outputs": [],
   "source": [
    "dtest2 = pd.merge(dtest1,dt3,on=['CustomerID'],how='right')"
   ]
  },
  {
   "cell_type": "code",
   "execution_count": 110,
   "metadata": {},
   "outputs": [
    {
     "data": {
      "text/plain": [
       "(26768, 9)"
      ]
     },
     "execution_count": 110,
     "metadata": {},
     "output_type": "execute_result"
    }
   ],
   "source": [
    "dtest2.shape"
   ]
  },
  {
   "cell_type": "code",
   "execution_count": 111,
   "metadata": {},
   "outputs": [
    {
     "data": {
      "text/html": [
       "<div>\n",
       "<style scoped>\n",
       "    .dataframe tbody tr th:only-of-type {\n",
       "        vertical-align: middle;\n",
       "    }\n",
       "\n",
       "    .dataframe tbody tr th {\n",
       "        vertical-align: top;\n",
       "    }\n",
       "\n",
       "    .dataframe thead th {\n",
       "        text-align: right;\n",
       "    }\n",
       "</style>\n",
       "<table border=\"1\" class=\"dataframe\">\n",
       "  <thead>\n",
       "    <tr style=\"text-align: right;\">\n",
       "      <th></th>\n",
       "      <th>CustomerID</th>\n",
       "      <th>City</th>\n",
       "      <th>DateOfRegistration</th>\n",
       "      <th>OnlineCommunication</th>\n",
       "      <th>AutomaticRefill</th>\n",
       "      <th>DoorstepDelivery</th>\n",
       "      <th>PreferredDeliveryDay</th>\n",
       "      <th>DateOfOrder</th>\n",
       "      <th>OrderQuantity</th>\n",
       "    </tr>\n",
       "  </thead>\n",
       "  <tbody>\n",
       "    <tr>\n",
       "      <th>0</th>\n",
       "      <td>C12121</td>\n",
       "      <td>CITY1</td>\n",
       "      <td>12/4/2017</td>\n",
       "      <td>1</td>\n",
       "      <td>0</td>\n",
       "      <td>0</td>\n",
       "      <td>Friday</td>\n",
       "      <td>2017-12-14</td>\n",
       "      <td>52</td>\n",
       "    </tr>\n",
       "    <tr>\n",
       "      <th>1</th>\n",
       "      <td>C12132</td>\n",
       "      <td>CITY3</td>\n",
       "      <td>10/20/2013</td>\n",
       "      <td>1</td>\n",
       "      <td>0</td>\n",
       "      <td>0</td>\n",
       "      <td>Tuesday</td>\n",
       "      <td>2013-10-20</td>\n",
       "      <td>40</td>\n",
       "    </tr>\n",
       "    <tr>\n",
       "      <th>2</th>\n",
       "      <td>C12134</td>\n",
       "      <td>CITY3</td>\n",
       "      <td>9/18/2013</td>\n",
       "      <td>1</td>\n",
       "      <td>0</td>\n",
       "      <td>0</td>\n",
       "      <td>Monday</td>\n",
       "      <td>2013-09-18</td>\n",
       "      <td>40</td>\n",
       "    </tr>\n",
       "    <tr>\n",
       "      <th>3</th>\n",
       "      <td>C12135</td>\n",
       "      <td>CITY3</td>\n",
       "      <td>11/1/2017</td>\n",
       "      <td>1</td>\n",
       "      <td>0</td>\n",
       "      <td>1</td>\n",
       "      <td>Wednesday</td>\n",
       "      <td>2018-01-10</td>\n",
       "      <td>41</td>\n",
       "    </tr>\n",
       "    <tr>\n",
       "      <th>4</th>\n",
       "      <td>C12136</td>\n",
       "      <td>CITY2</td>\n",
       "      <td>9/28/2013</td>\n",
       "      <td>1</td>\n",
       "      <td>0</td>\n",
       "      <td>0</td>\n",
       "      <td>Thursday</td>\n",
       "      <td>2013-10-19</td>\n",
       "      <td>79</td>\n",
       "    </tr>\n",
       "  </tbody>\n",
       "</table>\n",
       "</div>"
      ],
      "text/plain": [
       "  CustomerID   City DateOfRegistration  OnlineCommunication  AutomaticRefill  \\\n",
       "0     C12121  CITY1          12/4/2017                    1                0   \n",
       "1     C12132  CITY3         10/20/2013                    1                0   \n",
       "2     C12134  CITY3          9/18/2013                    1                0   \n",
       "3     C12135  CITY3          11/1/2017                    1                0   \n",
       "4     C12136  CITY2          9/28/2013                    1                0   \n",
       "\n",
       "   DoorstepDelivery PreferredDeliveryDay DateOfOrder  OrderQuantity  \n",
       "0                 0               Friday  2017-12-14             52  \n",
       "1                 0              Tuesday  2013-10-20             40  \n",
       "2                 0               Monday  2013-09-18             40  \n",
       "3                 1            Wednesday  2018-01-10             41  \n",
       "4                 0             Thursday  2013-10-19             79  "
      ]
     },
     "execution_count": 111,
     "metadata": {},
     "output_type": "execute_result"
    }
   ],
   "source": [
    "dtest2.head()"
   ]
  },
  {
   "cell_type": "code",
   "execution_count": 112,
   "metadata": {},
   "outputs": [
    {
     "data": {
      "text/plain": [
       "CustomerID              5955\n",
       "City                       4\n",
       "DateOfRegistration      1631\n",
       "OnlineCommunication        2\n",
       "AutomaticRefill            2\n",
       "DoorstepDelivery           2\n",
       "PreferredDeliveryDay       7\n",
       "DateOfOrder             2771\n",
       "OrderQuantity            372\n",
       "dtype: int64"
      ]
     },
     "execution_count": 112,
     "metadata": {},
     "output_type": "execute_result"
    }
   ],
   "source": [
    "dtest2.nunique()"
   ]
  },
  {
   "cell_type": "code",
   "execution_count": 113,
   "metadata": {},
   "outputs": [
    {
     "data": {
      "text/plain": [
       "Index(['CustomerID', 'DateOfemail', 'EmailType', 'MailOpened', 'MailClicked'], dtype='object')"
      ]
     },
     "execution_count": 113,
     "metadata": {},
     "output_type": "execute_result"
    }
   ],
   "source": [
    "dt4.columns"
   ]
  },
  {
   "cell_type": "code",
   "execution_count": 114,
   "metadata": {},
   "outputs": [
    {
     "data": {
      "text/plain": [
       "(129074, 5)"
      ]
     },
     "execution_count": 114,
     "metadata": {},
     "output_type": "execute_result"
    }
   ],
   "source": [
    "dt4.shape"
   ]
  },
  {
   "cell_type": "code",
   "execution_count": 115,
   "metadata": {},
   "outputs": [
    {
     "data": {
      "text/plain": [
       "CustomerID     5955\n",
       "DateOfemail    3149\n",
       "EmailType         2\n",
       "MailOpened        2\n",
       "MailClicked       3\n",
       "dtype: int64"
      ]
     },
     "execution_count": 115,
     "metadata": {},
     "output_type": "execute_result"
    }
   ],
   "source": [
    "dt4.nunique()"
   ]
  },
  {
   "cell_type": "code",
   "execution_count": 116,
   "metadata": {},
   "outputs": [
    {
     "data": {
      "text/plain": [
       "CustomizedEmail    123119\n",
       "WelcomeEmail         5955\n",
       "Name: EmailType, dtype: int64"
      ]
     },
     "execution_count": 116,
     "metadata": {},
     "output_type": "execute_result"
    }
   ],
   "source": [
    "dt4['EmailType'].value_counts()"
   ]
  },
  {
   "cell_type": "code",
   "execution_count": 117,
   "metadata": {},
   "outputs": [],
   "source": [
    "dtest = pd.merge(dtest2,dt4,on=['CustomerID'],how='right')"
   ]
  },
  {
   "cell_type": "code",
   "execution_count": 118,
   "metadata": {},
   "outputs": [
    {
     "data": {
      "text/plain": [
       "(1013740, 13)"
      ]
     },
     "execution_count": 118,
     "metadata": {},
     "output_type": "execute_result"
    }
   ],
   "source": [
    "dtest.shape"
   ]
  },
  {
   "cell_type": "code",
   "execution_count": 119,
   "metadata": {},
   "outputs": [
    {
     "data": {
      "text/html": [
       "<div>\n",
       "<style scoped>\n",
       "    .dataframe tbody tr th:only-of-type {\n",
       "        vertical-align: middle;\n",
       "    }\n",
       "\n",
       "    .dataframe tbody tr th {\n",
       "        vertical-align: top;\n",
       "    }\n",
       "\n",
       "    .dataframe thead th {\n",
       "        text-align: right;\n",
       "    }\n",
       "</style>\n",
       "<table border=\"1\" class=\"dataframe\">\n",
       "  <thead>\n",
       "    <tr style=\"text-align: right;\">\n",
       "      <th></th>\n",
       "      <th>CustomerID</th>\n",
       "      <th>City</th>\n",
       "      <th>DateOfRegistration</th>\n",
       "      <th>OnlineCommunication</th>\n",
       "      <th>AutomaticRefill</th>\n",
       "      <th>DoorstepDelivery</th>\n",
       "      <th>PreferredDeliveryDay</th>\n",
       "      <th>DateOfOrder</th>\n",
       "      <th>OrderQuantity</th>\n",
       "      <th>DateOfemail</th>\n",
       "      <th>EmailType</th>\n",
       "      <th>MailOpened</th>\n",
       "      <th>MailClicked</th>\n",
       "    </tr>\n",
       "  </thead>\n",
       "  <tbody>\n",
       "    <tr>\n",
       "      <th>1013735</th>\n",
       "      <td>C42167</td>\n",
       "      <td>CITY2</td>\n",
       "      <td>10/28/2016</td>\n",
       "      <td>0</td>\n",
       "      <td>0</td>\n",
       "      <td>0</td>\n",
       "      <td>Monday</td>\n",
       "      <td>2017-04-17</td>\n",
       "      <td>74</td>\n",
       "      <td>2017-08-02</td>\n",
       "      <td>CustomizedEmail</td>\n",
       "      <td>no</td>\n",
       "      <td>no</td>\n",
       "    </tr>\n",
       "    <tr>\n",
       "      <th>1013736</th>\n",
       "      <td>C42167</td>\n",
       "      <td>CITY2</td>\n",
       "      <td>10/28/2016</td>\n",
       "      <td>0</td>\n",
       "      <td>0</td>\n",
       "      <td>0</td>\n",
       "      <td>Monday</td>\n",
       "      <td>2017-10-26</td>\n",
       "      <td>103</td>\n",
       "      <td>2017-08-02</td>\n",
       "      <td>CustomizedEmail</td>\n",
       "      <td>no</td>\n",
       "      <td>no</td>\n",
       "    </tr>\n",
       "    <tr>\n",
       "      <th>1013737</th>\n",
       "      <td>C42167</td>\n",
       "      <td>CITY2</td>\n",
       "      <td>10/28/2016</td>\n",
       "      <td>0</td>\n",
       "      <td>0</td>\n",
       "      <td>0</td>\n",
       "      <td>Monday</td>\n",
       "      <td>2016-11-08</td>\n",
       "      <td>85</td>\n",
       "      <td>2017-08-02</td>\n",
       "      <td>CustomizedEmail</td>\n",
       "      <td>no</td>\n",
       "      <td>no</td>\n",
       "    </tr>\n",
       "    <tr>\n",
       "      <th>1013738</th>\n",
       "      <td>C42167</td>\n",
       "      <td>CITY2</td>\n",
       "      <td>10/28/2016</td>\n",
       "      <td>0</td>\n",
       "      <td>0</td>\n",
       "      <td>0</td>\n",
       "      <td>Monday</td>\n",
       "      <td>2017-11-06</td>\n",
       "      <td>66</td>\n",
       "      <td>2017-08-02</td>\n",
       "      <td>CustomizedEmail</td>\n",
       "      <td>no</td>\n",
       "      <td>no</td>\n",
       "    </tr>\n",
       "    <tr>\n",
       "      <th>1013739</th>\n",
       "      <td>C42190</td>\n",
       "      <td>CITY3</td>\n",
       "      <td>9/6/2013</td>\n",
       "      <td>1</td>\n",
       "      <td>0</td>\n",
       "      <td>0</td>\n",
       "      <td>Monday</td>\n",
       "      <td>2013-09-06</td>\n",
       "      <td>40</td>\n",
       "      <td>2013-09-06</td>\n",
       "      <td>WelcomeEmail</td>\n",
       "      <td>yes</td>\n",
       "      <td>NotApplicable</td>\n",
       "    </tr>\n",
       "  </tbody>\n",
       "</table>\n",
       "</div>"
      ],
      "text/plain": [
       "        CustomerID   City DateOfRegistration  OnlineCommunication  \\\n",
       "1013735     C42167  CITY2         10/28/2016                    0   \n",
       "1013736     C42167  CITY2         10/28/2016                    0   \n",
       "1013737     C42167  CITY2         10/28/2016                    0   \n",
       "1013738     C42167  CITY2         10/28/2016                    0   \n",
       "1013739     C42190  CITY3           9/6/2013                    1   \n",
       "\n",
       "         AutomaticRefill  DoorstepDelivery PreferredDeliveryDay DateOfOrder  \\\n",
       "1013735                0                 0               Monday  2017-04-17   \n",
       "1013736                0                 0               Monday  2017-10-26   \n",
       "1013737                0                 0               Monday  2016-11-08   \n",
       "1013738                0                 0               Monday  2017-11-06   \n",
       "1013739                0                 0               Monday  2013-09-06   \n",
       "\n",
       "         OrderQuantity DateOfemail        EmailType MailOpened    MailClicked  \n",
       "1013735             74  2017-08-02  CustomizedEmail         no             no  \n",
       "1013736            103  2017-08-02  CustomizedEmail         no             no  \n",
       "1013737             85  2017-08-02  CustomizedEmail         no             no  \n",
       "1013738             66  2017-08-02  CustomizedEmail         no             no  \n",
       "1013739             40  2013-09-06     WelcomeEmail        yes  NotApplicable  "
      ]
     },
     "execution_count": 119,
     "metadata": {},
     "output_type": "execute_result"
    }
   ],
   "source": [
    "dtest.tail()"
   ]
  },
  {
   "cell_type": "code",
   "execution_count": 120,
   "metadata": {},
   "outputs": [
    {
     "data": {
      "text/plain": [
       "CustomizedEmail    986972\n",
       "WelcomeEmail        26768\n",
       "Name: EmailType, dtype: int64"
      ]
     },
     "execution_count": 120,
     "metadata": {},
     "output_type": "execute_result"
    }
   ],
   "source": [
    "dtest['EmailType'].value_counts()"
   ]
  },
  {
   "cell_type": "code",
   "execution_count": 121,
   "metadata": {},
   "outputs": [
    {
     "data": {
      "text/plain": [
       "CustomerID              0\n",
       "City                    0\n",
       "DateOfRegistration      0\n",
       "OnlineCommunication     0\n",
       "AutomaticRefill         0\n",
       "DoorstepDelivery        0\n",
       "PreferredDeliveryDay    0\n",
       "DateOfOrder             0\n",
       "OrderQuantity           0\n",
       "DateOfemail             0\n",
       "EmailType               0\n",
       "MailOpened              0\n",
       "MailClicked             0\n",
       "dtype: int64"
      ]
     },
     "execution_count": 121,
     "metadata": {},
     "output_type": "execute_result"
    }
   ],
   "source": [
    "dtest.isna().sum()"
   ]
  },
  {
   "cell_type": "code",
   "execution_count": 122,
   "metadata": {},
   "outputs": [
    {
     "name": "stdout",
     "output_type": "stream",
     "text": [
      "Entrées duplicates: 76978\n"
     ]
    }
   ],
   "source": [
    "print('Entrées duplicates: {}'.format(dtest.duplicated().sum()))\n",
    "dtest.drop_duplicates(inplace = True)"
   ]
  },
  {
   "cell_type": "code",
   "execution_count": 123,
   "metadata": {},
   "outputs": [
    {
     "data": {
      "text/html": [
       "<div>\n",
       "<style scoped>\n",
       "    .dataframe tbody tr th:only-of-type {\n",
       "        vertical-align: middle;\n",
       "    }\n",
       "\n",
       "    .dataframe tbody tr th {\n",
       "        vertical-align: top;\n",
       "    }\n",
       "\n",
       "    .dataframe thead th {\n",
       "        text-align: right;\n",
       "    }\n",
       "</style>\n",
       "<table border=\"1\" class=\"dataframe\">\n",
       "  <thead>\n",
       "    <tr style=\"text-align: right;\">\n",
       "      <th></th>\n",
       "      <th>City</th>\n",
       "      <th>CustomerID</th>\n",
       "    </tr>\n",
       "  </thead>\n",
       "  <tbody>\n",
       "    <tr>\n",
       "      <th>3</th>\n",
       "      <td>CITY4</td>\n",
       "      <td>2278</td>\n",
       "    </tr>\n",
       "    <tr>\n",
       "      <th>1</th>\n",
       "      <td>CITY2</td>\n",
       "      <td>1700</td>\n",
       "    </tr>\n",
       "    <tr>\n",
       "      <th>2</th>\n",
       "      <td>CITY3</td>\n",
       "      <td>1657</td>\n",
       "    </tr>\n",
       "    <tr>\n",
       "      <th>0</th>\n",
       "      <td>CITY1</td>\n",
       "      <td>320</td>\n",
       "    </tr>\n",
       "  </tbody>\n",
       "</table>\n",
       "</div>"
      ],
      "text/plain": [
       "    City  CustomerID\n",
       "3  CITY4        2278\n",
       "1  CITY2        1700\n",
       "2  CITY3        1657\n",
       "0  CITY1         320"
      ]
     },
     "execution_count": 123,
     "metadata": {},
     "output_type": "execute_result"
    }
   ],
   "source": [
    "customers_per_city=dtest[['City','CustomerID']].drop_duplicates()\n",
    "customers_per_city.groupby(['City'])['CustomerID'].agg('count').reset_index().sort_values('CustomerID', ascending=False)"
   ]
  },
  {
   "cell_type": "code",
   "execution_count": 124,
   "metadata": {},
   "outputs": [
    {
     "data": {
      "text/html": [
       "<div>\n",
       "<style scoped>\n",
       "    .dataframe tbody tr th:only-of-type {\n",
       "        vertical-align: middle;\n",
       "    }\n",
       "\n",
       "    .dataframe tbody tr th {\n",
       "        vertical-align: top;\n",
       "    }\n",
       "\n",
       "    .dataframe thead th {\n",
       "        text-align: right;\n",
       "    }\n",
       "</style>\n",
       "<table border=\"1\" class=\"dataframe\">\n",
       "  <thead>\n",
       "    <tr style=\"text-align: right;\">\n",
       "      <th></th>\n",
       "      <th>count</th>\n",
       "      <th>mean</th>\n",
       "      <th>std</th>\n",
       "      <th>min</th>\n",
       "      <th>25%</th>\n",
       "      <th>50%</th>\n",
       "      <th>75%</th>\n",
       "      <th>max</th>\n",
       "    </tr>\n",
       "  </thead>\n",
       "  <tbody>\n",
       "    <tr>\n",
       "      <th>OnlineCommunication</th>\n",
       "      <td>936762.0</td>\n",
       "      <td>0.551845</td>\n",
       "      <td>0.497305</td>\n",
       "      <td>0.0</td>\n",
       "      <td>0.0</td>\n",
       "      <td>1.0</td>\n",
       "      <td>1.0</td>\n",
       "      <td>1.0</td>\n",
       "    </tr>\n",
       "    <tr>\n",
       "      <th>AutomaticRefill</th>\n",
       "      <td>936762.0</td>\n",
       "      <td>0.295091</td>\n",
       "      <td>0.456084</td>\n",
       "      <td>0.0</td>\n",
       "      <td>0.0</td>\n",
       "      <td>0.0</td>\n",
       "      <td>1.0</td>\n",
       "      <td>1.0</td>\n",
       "    </tr>\n",
       "    <tr>\n",
       "      <th>DoorstepDelivery</th>\n",
       "      <td>936762.0</td>\n",
       "      <td>0.115358</td>\n",
       "      <td>0.319454</td>\n",
       "      <td>0.0</td>\n",
       "      <td>0.0</td>\n",
       "      <td>0.0</td>\n",
       "      <td>0.0</td>\n",
       "      <td>1.0</td>\n",
       "    </tr>\n",
       "    <tr>\n",
       "      <th>OrderQuantity</th>\n",
       "      <td>936762.0</td>\n",
       "      <td>91.543871</td>\n",
       "      <td>52.183729</td>\n",
       "      <td>1.0</td>\n",
       "      <td>58.0</td>\n",
       "      <td>80.0</td>\n",
       "      <td>108.0</td>\n",
       "      <td>501.0</td>\n",
       "    </tr>\n",
       "  </tbody>\n",
       "</table>\n",
       "</div>"
      ],
      "text/plain": [
       "                        count       mean        std  min   25%   50%    75%  \\\n",
       "OnlineCommunication  936762.0   0.551845   0.497305  0.0   0.0   1.0    1.0   \n",
       "AutomaticRefill      936762.0   0.295091   0.456084  0.0   0.0   0.0    1.0   \n",
       "DoorstepDelivery     936762.0   0.115358   0.319454  0.0   0.0   0.0    0.0   \n",
       "OrderQuantity        936762.0  91.543871  52.183729  1.0  58.0  80.0  108.0   \n",
       "\n",
       "                       max  \n",
       "OnlineCommunication    1.0  \n",
       "AutomaticRefill        1.0  \n",
       "DoorstepDelivery       1.0  \n",
       "OrderQuantity        501.0  "
      ]
     },
     "execution_count": 124,
     "metadata": {},
     "output_type": "execute_result"
    }
   ],
   "source": [
    "dtest.describe().T"
   ]
  },
  {
   "cell_type": "code",
   "execution_count": 125,
   "metadata": {},
   "outputs": [
    {
     "name": "stdout",
     "output_type": "stream",
     "text": [
      "2018-01-21\n",
      "2008-07-17\n"
     ]
    }
   ],
   "source": [
    "print(dtest['DateOfemail'].max())\n",
    "print(dtest['DateOfemail'].min())"
   ]
  },
  {
   "cell_type": "code",
   "execution_count": 126,
   "metadata": {},
   "outputs": [
    {
     "name": "stdout",
     "output_type": "stream",
     "text": [
      "2018-01-21\n",
      "2008-08-05\n"
     ]
    }
   ],
   "source": [
    "print(dtest['DateOfOrder'].max())\n",
    "print(dtest['DateOfOrder'].min())"
   ]
  },
  {
   "cell_type": "code",
   "execution_count": 127,
   "metadata": {},
   "outputs": [
    {
     "data": {
      "text/plain": [
       "datetime.date(2018, 1, 22)"
      ]
     },
     "execution_count": 127,
     "metadata": {},
     "output_type": "execute_result"
    }
   ],
   "source": [
    "import datetime as dt\n",
    "fix = dt.date(2018,1,22)\n",
    "fix"
   ]
  },
  {
   "cell_type": "code",
   "execution_count": 128,
   "metadata": {},
   "outputs": [],
   "source": [
    "dtest['Date_Of_email'] = pd.DatetimeIndex(dtest['DateOfemail']).date"
   ]
  },
  {
   "cell_type": "code",
   "execution_count": 129,
   "metadata": {},
   "outputs": [
    {
     "data": {
      "text/html": [
       "<div>\n",
       "<style scoped>\n",
       "    .dataframe tbody tr th:only-of-type {\n",
       "        vertical-align: middle;\n",
       "    }\n",
       "\n",
       "    .dataframe tbody tr th {\n",
       "        vertical-align: top;\n",
       "    }\n",
       "\n",
       "    .dataframe thead th {\n",
       "        text-align: right;\n",
       "    }\n",
       "</style>\n",
       "<table border=\"1\" class=\"dataframe\">\n",
       "  <thead>\n",
       "    <tr style=\"text-align: right;\">\n",
       "      <th></th>\n",
       "      <th>CustomerID</th>\n",
       "      <th>City</th>\n",
       "      <th>DateOfRegistration</th>\n",
       "      <th>OnlineCommunication</th>\n",
       "      <th>AutomaticRefill</th>\n",
       "      <th>DoorstepDelivery</th>\n",
       "      <th>PreferredDeliveryDay</th>\n",
       "      <th>DateOfOrder</th>\n",
       "      <th>OrderQuantity</th>\n",
       "      <th>DateOfemail</th>\n",
       "      <th>EmailType</th>\n",
       "      <th>MailOpened</th>\n",
       "      <th>MailClicked</th>\n",
       "      <th>Date_Of_email</th>\n",
       "    </tr>\n",
       "  </thead>\n",
       "  <tbody>\n",
       "    <tr>\n",
       "      <th>0</th>\n",
       "      <td>C12121</td>\n",
       "      <td>CITY1</td>\n",
       "      <td>12/4/2017</td>\n",
       "      <td>1</td>\n",
       "      <td>0</td>\n",
       "      <td>0</td>\n",
       "      <td>Friday</td>\n",
       "      <td>2017-12-14</td>\n",
       "      <td>52</td>\n",
       "      <td>2017-12-04</td>\n",
       "      <td>WelcomeEmail</td>\n",
       "      <td>yes</td>\n",
       "      <td>NotApplicable</td>\n",
       "      <td>2017-12-04</td>\n",
       "    </tr>\n",
       "    <tr>\n",
       "      <th>1</th>\n",
       "      <td>C12121</td>\n",
       "      <td>CITY1</td>\n",
       "      <td>12/4/2017</td>\n",
       "      <td>1</td>\n",
       "      <td>0</td>\n",
       "      <td>0</td>\n",
       "      <td>Friday</td>\n",
       "      <td>2017-12-14</td>\n",
       "      <td>52</td>\n",
       "      <td>2017-12-13</td>\n",
       "      <td>CustomizedEmail</td>\n",
       "      <td>yes</td>\n",
       "      <td>no</td>\n",
       "      <td>2017-12-13</td>\n",
       "    </tr>\n",
       "    <tr>\n",
       "      <th>2</th>\n",
       "      <td>C12121</td>\n",
       "      <td>CITY1</td>\n",
       "      <td>12/4/2017</td>\n",
       "      <td>1</td>\n",
       "      <td>0</td>\n",
       "      <td>0</td>\n",
       "      <td>Friday</td>\n",
       "      <td>2017-12-14</td>\n",
       "      <td>52</td>\n",
       "      <td>2017-12-13</td>\n",
       "      <td>CustomizedEmail</td>\n",
       "      <td>no</td>\n",
       "      <td>no</td>\n",
       "      <td>2017-12-13</td>\n",
       "    </tr>\n",
       "    <tr>\n",
       "      <th>3</th>\n",
       "      <td>C12121</td>\n",
       "      <td>CITY1</td>\n",
       "      <td>12/4/2017</td>\n",
       "      <td>1</td>\n",
       "      <td>0</td>\n",
       "      <td>0</td>\n",
       "      <td>Friday</td>\n",
       "      <td>2017-12-14</td>\n",
       "      <td>52</td>\n",
       "      <td>2017-12-09</td>\n",
       "      <td>CustomizedEmail</td>\n",
       "      <td>no</td>\n",
       "      <td>no</td>\n",
       "      <td>2017-12-09</td>\n",
       "    </tr>\n",
       "    <tr>\n",
       "      <th>6</th>\n",
       "      <td>C12121</td>\n",
       "      <td>CITY1</td>\n",
       "      <td>12/4/2017</td>\n",
       "      <td>1</td>\n",
       "      <td>0</td>\n",
       "      <td>0</td>\n",
       "      <td>Friday</td>\n",
       "      <td>2017-12-14</td>\n",
       "      <td>52</td>\n",
       "      <td>2017-12-09</td>\n",
       "      <td>CustomizedEmail</td>\n",
       "      <td>yes</td>\n",
       "      <td>yes</td>\n",
       "      <td>2017-12-09</td>\n",
       "    </tr>\n",
       "  </tbody>\n",
       "</table>\n",
       "</div>"
      ],
      "text/plain": [
       "  CustomerID   City DateOfRegistration  OnlineCommunication  AutomaticRefill  \\\n",
       "0     C12121  CITY1          12/4/2017                    1                0   \n",
       "1     C12121  CITY1          12/4/2017                    1                0   \n",
       "2     C12121  CITY1          12/4/2017                    1                0   \n",
       "3     C12121  CITY1          12/4/2017                    1                0   \n",
       "6     C12121  CITY1          12/4/2017                    1                0   \n",
       "\n",
       "   DoorstepDelivery PreferredDeliveryDay DateOfOrder  OrderQuantity  \\\n",
       "0                 0               Friday  2017-12-14             52   \n",
       "1                 0               Friday  2017-12-14             52   \n",
       "2                 0               Friday  2017-12-14             52   \n",
       "3                 0               Friday  2017-12-14             52   \n",
       "6                 0               Friday  2017-12-14             52   \n",
       "\n",
       "  DateOfemail        EmailType MailOpened    MailClicked Date_Of_email  \n",
       "0  2017-12-04     WelcomeEmail        yes  NotApplicable    2017-12-04  \n",
       "1  2017-12-13  CustomizedEmail        yes             no    2017-12-13  \n",
       "2  2017-12-13  CustomizedEmail         no             no    2017-12-13  \n",
       "3  2017-12-09  CustomizedEmail         no             no    2017-12-09  \n",
       "6  2017-12-09  CustomizedEmail        yes            yes    2017-12-09  "
      ]
     },
     "execution_count": 129,
     "metadata": {},
     "output_type": "execute_result"
    }
   ],
   "source": [
    "dtest.head()"
   ]
  },
  {
   "cell_type": "code",
   "execution_count": 130,
   "metadata": {},
   "outputs": [
    {
     "data": {
      "text/html": [
       "<div>\n",
       "<style scoped>\n",
       "    .dataframe tbody tr th:only-of-type {\n",
       "        vertical-align: middle;\n",
       "    }\n",
       "\n",
       "    .dataframe tbody tr th {\n",
       "        vertical-align: top;\n",
       "    }\n",
       "\n",
       "    .dataframe thead th {\n",
       "        text-align: right;\n",
       "    }\n",
       "</style>\n",
       "<table border=\"1\" class=\"dataframe\">\n",
       "  <thead>\n",
       "    <tr style=\"text-align: right;\">\n",
       "      <th></th>\n",
       "      <th>CustomerID</th>\n",
       "      <th>City</th>\n",
       "      <th>DateOfRegistration</th>\n",
       "      <th>OnlineCommunication</th>\n",
       "      <th>AutomaticRefill</th>\n",
       "      <th>DoorstepDelivery</th>\n",
       "      <th>PreferredDeliveryDay</th>\n",
       "      <th>DateOfOrder</th>\n",
       "      <th>OrderQuantity</th>\n",
       "      <th>DateOfemail</th>\n",
       "      <th>EmailType</th>\n",
       "      <th>MailOpened</th>\n",
       "      <th>MailClicked</th>\n",
       "      <th>Date_Of_email</th>\n",
       "    </tr>\n",
       "  </thead>\n",
       "  <tbody>\n",
       "    <tr>\n",
       "      <th>0</th>\n",
       "      <td>C12121</td>\n",
       "      <td>CITY1</td>\n",
       "      <td>12/4/2017</td>\n",
       "      <td>1</td>\n",
       "      <td>0</td>\n",
       "      <td>0</td>\n",
       "      <td>Friday</td>\n",
       "      <td>2017-12-14</td>\n",
       "      <td>52</td>\n",
       "      <td>2017-12-04</td>\n",
       "      <td>WelcomeEmail</td>\n",
       "      <td>yes</td>\n",
       "      <td>NotApplicable</td>\n",
       "      <td>2017-12-04</td>\n",
       "    </tr>\n",
       "    <tr>\n",
       "      <th>1</th>\n",
       "      <td>C12121</td>\n",
       "      <td>CITY1</td>\n",
       "      <td>12/4/2017</td>\n",
       "      <td>1</td>\n",
       "      <td>0</td>\n",
       "      <td>0</td>\n",
       "      <td>Friday</td>\n",
       "      <td>2017-12-14</td>\n",
       "      <td>52</td>\n",
       "      <td>2017-12-13</td>\n",
       "      <td>CustomizedEmail</td>\n",
       "      <td>yes</td>\n",
       "      <td>no</td>\n",
       "      <td>2017-12-13</td>\n",
       "    </tr>\n",
       "    <tr>\n",
       "      <th>2</th>\n",
       "      <td>C12121</td>\n",
       "      <td>CITY1</td>\n",
       "      <td>12/4/2017</td>\n",
       "      <td>1</td>\n",
       "      <td>0</td>\n",
       "      <td>0</td>\n",
       "      <td>Friday</td>\n",
       "      <td>2017-12-14</td>\n",
       "      <td>52</td>\n",
       "      <td>2017-12-13</td>\n",
       "      <td>CustomizedEmail</td>\n",
       "      <td>no</td>\n",
       "      <td>no</td>\n",
       "      <td>2017-12-13</td>\n",
       "    </tr>\n",
       "    <tr>\n",
       "      <th>3</th>\n",
       "      <td>C12121</td>\n",
       "      <td>CITY1</td>\n",
       "      <td>12/4/2017</td>\n",
       "      <td>1</td>\n",
       "      <td>0</td>\n",
       "      <td>0</td>\n",
       "      <td>Friday</td>\n",
       "      <td>2017-12-14</td>\n",
       "      <td>52</td>\n",
       "      <td>2017-12-09</td>\n",
       "      <td>CustomizedEmail</td>\n",
       "      <td>no</td>\n",
       "      <td>no</td>\n",
       "      <td>2017-12-09</td>\n",
       "    </tr>\n",
       "    <tr>\n",
       "      <th>6</th>\n",
       "      <td>C12121</td>\n",
       "      <td>CITY1</td>\n",
       "      <td>12/4/2017</td>\n",
       "      <td>1</td>\n",
       "      <td>0</td>\n",
       "      <td>0</td>\n",
       "      <td>Friday</td>\n",
       "      <td>2017-12-14</td>\n",
       "      <td>52</td>\n",
       "      <td>2017-12-09</td>\n",
       "      <td>CustomizedEmail</td>\n",
       "      <td>yes</td>\n",
       "      <td>yes</td>\n",
       "      <td>2017-12-09</td>\n",
       "    </tr>\n",
       "  </tbody>\n",
       "</table>\n",
       "</div>"
      ],
      "text/plain": [
       "  CustomerID   City DateOfRegistration  OnlineCommunication  AutomaticRefill  \\\n",
       "0     C12121  CITY1          12/4/2017                    1                0   \n",
       "1     C12121  CITY1          12/4/2017                    1                0   \n",
       "2     C12121  CITY1          12/4/2017                    1                0   \n",
       "3     C12121  CITY1          12/4/2017                    1                0   \n",
       "6     C12121  CITY1          12/4/2017                    1                0   \n",
       "\n",
       "   DoorstepDelivery PreferredDeliveryDay DateOfOrder  OrderQuantity  \\\n",
       "0                 0               Friday  2017-12-14             52   \n",
       "1                 0               Friday  2017-12-14             52   \n",
       "2                 0               Friday  2017-12-14             52   \n",
       "3                 0               Friday  2017-12-14             52   \n",
       "6                 0               Friday  2017-12-14             52   \n",
       "\n",
       "  DateOfemail        EmailType MailOpened    MailClicked Date_Of_email  \n",
       "0  2017-12-04     WelcomeEmail        yes  NotApplicable    2017-12-04  \n",
       "1  2017-12-13  CustomizedEmail        yes             no    2017-12-13  \n",
       "2  2017-12-13  CustomizedEmail         no             no    2017-12-13  \n",
       "3  2017-12-09  CustomizedEmail         no             no    2017-12-09  \n",
       "6  2017-12-09  CustomizedEmail        yes            yes    2017-12-09  "
      ]
     },
     "execution_count": 130,
     "metadata": {},
     "output_type": "execute_result"
    }
   ],
   "source": [
    "dtest.loc[dtest['CustomerID'] == 'C12121'][:5]"
   ]
  },
  {
   "cell_type": "markdown",
   "metadata": {},
   "source": [
    "# Recency Table Test"
   ]
  },
  {
   "cell_type": "code",
   "execution_count": 131,
   "metadata": {},
   "outputs": [],
   "source": [
    "dtest_r = dtest.drop_duplicates(subset=['Date_Of_email', 'CustomerID'], keep=\"first\")"
   ]
  },
  {
   "cell_type": "code",
   "execution_count": 132,
   "metadata": {},
   "outputs": [
    {
     "data": {
      "text/html": [
       "<div>\n",
       "<style scoped>\n",
       "    .dataframe tbody tr th:only-of-type {\n",
       "        vertical-align: middle;\n",
       "    }\n",
       "\n",
       "    .dataframe tbody tr th {\n",
       "        vertical-align: top;\n",
       "    }\n",
       "\n",
       "    .dataframe thead th {\n",
       "        text-align: right;\n",
       "    }\n",
       "</style>\n",
       "<table border=\"1\" class=\"dataframe\">\n",
       "  <thead>\n",
       "    <tr style=\"text-align: right;\">\n",
       "      <th></th>\n",
       "      <th>CustomerID</th>\n",
       "      <th>LastPurchaseDate</th>\n",
       "    </tr>\n",
       "  </thead>\n",
       "  <tbody>\n",
       "    <tr>\n",
       "      <th>0</th>\n",
       "      <td>C12121</td>\n",
       "      <td>2017-12-13</td>\n",
       "    </tr>\n",
       "    <tr>\n",
       "      <th>1</th>\n",
       "      <td>C12132</td>\n",
       "      <td>2013-10-20</td>\n",
       "    </tr>\n",
       "    <tr>\n",
       "      <th>2</th>\n",
       "      <td>C12134</td>\n",
       "      <td>2013-09-18</td>\n",
       "    </tr>\n",
       "    <tr>\n",
       "      <th>3</th>\n",
       "      <td>C12135</td>\n",
       "      <td>2018-01-10</td>\n",
       "    </tr>\n",
       "    <tr>\n",
       "      <th>4</th>\n",
       "      <td>C12136</td>\n",
       "      <td>2013-10-19</td>\n",
       "    </tr>\n",
       "  </tbody>\n",
       "</table>\n",
       "</div>"
      ],
      "text/plain": [
       "  CustomerID LastPurchaseDate\n",
       "0     C12121       2017-12-13\n",
       "1     C12132       2013-10-20\n",
       "2     C12134       2013-09-18\n",
       "3     C12135       2018-01-10\n",
       "4     C12136       2013-10-19"
      ]
     },
     "execution_count": 132,
     "metadata": {},
     "output_type": "execute_result"
    }
   ],
   "source": [
    "Recency_test = dtest_r.groupby(by='CustomerID', as_index=False)['Date_Of_email'].max()\n",
    "Recency_test.columns = ['CustomerID','LastPurchaseDate']\n",
    "Recency_test.head()"
   ]
  },
  {
   "cell_type": "code",
   "execution_count": 133,
   "metadata": {},
   "outputs": [],
   "source": [
    "Recency_test['Recency'] = Recency_test['LastPurchaseDate'].apply(lambda x: (fix - x).days)"
   ]
  },
  {
   "cell_type": "code",
   "execution_count": 134,
   "metadata": {},
   "outputs": [
    {
     "data": {
      "text/html": [
       "<div>\n",
       "<style scoped>\n",
       "    .dataframe tbody tr th:only-of-type {\n",
       "        vertical-align: middle;\n",
       "    }\n",
       "\n",
       "    .dataframe tbody tr th {\n",
       "        vertical-align: top;\n",
       "    }\n",
       "\n",
       "    .dataframe thead th {\n",
       "        text-align: right;\n",
       "    }\n",
       "</style>\n",
       "<table border=\"1\" class=\"dataframe\">\n",
       "  <thead>\n",
       "    <tr style=\"text-align: right;\">\n",
       "      <th></th>\n",
       "      <th>CustomerID</th>\n",
       "      <th>LastPurchaseDate</th>\n",
       "      <th>Recency</th>\n",
       "    </tr>\n",
       "  </thead>\n",
       "  <tbody>\n",
       "    <tr>\n",
       "      <th>0</th>\n",
       "      <td>C12121</td>\n",
       "      <td>2017-12-13</td>\n",
       "      <td>40</td>\n",
       "    </tr>\n",
       "    <tr>\n",
       "      <th>1</th>\n",
       "      <td>C12132</td>\n",
       "      <td>2013-10-20</td>\n",
       "      <td>1555</td>\n",
       "    </tr>\n",
       "    <tr>\n",
       "      <th>2</th>\n",
       "      <td>C12134</td>\n",
       "      <td>2013-09-18</td>\n",
       "      <td>1587</td>\n",
       "    </tr>\n",
       "    <tr>\n",
       "      <th>3</th>\n",
       "      <td>C12135</td>\n",
       "      <td>2018-01-10</td>\n",
       "      <td>12</td>\n",
       "    </tr>\n",
       "    <tr>\n",
       "      <th>4</th>\n",
       "      <td>C12136</td>\n",
       "      <td>2013-10-19</td>\n",
       "      <td>1556</td>\n",
       "    </tr>\n",
       "  </tbody>\n",
       "</table>\n",
       "</div>"
      ],
      "text/plain": [
       "  CustomerID LastPurchaseDate  Recency\n",
       "0     C12121       2017-12-13       40\n",
       "1     C12132       2013-10-20     1555\n",
       "2     C12134       2013-09-18     1587\n",
       "3     C12135       2018-01-10       12\n",
       "4     C12136       2013-10-19     1556"
      ]
     },
     "execution_count": 134,
     "metadata": {},
     "output_type": "execute_result"
    }
   ],
   "source": [
    "Recency_test.head()"
   ]
  },
  {
   "cell_type": "code",
   "execution_count": 135,
   "metadata": {},
   "outputs": [],
   "source": [
    "Recency_test = Recency_test.drop('LastPurchaseDate',axis=1)"
   ]
  },
  {
   "cell_type": "code",
   "execution_count": 136,
   "metadata": {},
   "outputs": [
    {
     "data": {
      "text/plain": [
       "(5955, 2)"
      ]
     },
     "execution_count": 136,
     "metadata": {},
     "output_type": "execute_result"
    }
   ],
   "source": [
    "Recency_test.shape"
   ]
  },
  {
   "cell_type": "markdown",
   "metadata": {},
   "source": [
    "# Frequency Table Test"
   ]
  },
  {
   "cell_type": "code",
   "execution_count": 137,
   "metadata": {},
   "outputs": [],
   "source": [
    "dtest_f = dtest.drop_duplicates(subset=['CustomerID','OrderQuantity'],keep='first')"
   ]
  },
  {
   "cell_type": "code",
   "execution_count": 138,
   "metadata": {},
   "outputs": [
    {
     "data": {
      "text/html": [
       "<div>\n",
       "<style scoped>\n",
       "    .dataframe tbody tr th:only-of-type {\n",
       "        vertical-align: middle;\n",
       "    }\n",
       "\n",
       "    .dataframe tbody tr th {\n",
       "        vertical-align: top;\n",
       "    }\n",
       "\n",
       "    .dataframe thead th {\n",
       "        text-align: right;\n",
       "    }\n",
       "</style>\n",
       "<table border=\"1\" class=\"dataframe\">\n",
       "  <thead>\n",
       "    <tr style=\"text-align: right;\">\n",
       "      <th></th>\n",
       "      <th>CustomerID</th>\n",
       "      <th>Frequency</th>\n",
       "    </tr>\n",
       "  </thead>\n",
       "  <tbody>\n",
       "    <tr>\n",
       "      <th>0</th>\n",
       "      <td>C12121</td>\n",
       "      <td>1</td>\n",
       "    </tr>\n",
       "    <tr>\n",
       "      <th>1</th>\n",
       "      <td>C12132</td>\n",
       "      <td>1</td>\n",
       "    </tr>\n",
       "    <tr>\n",
       "      <th>2</th>\n",
       "      <td>C12134</td>\n",
       "      <td>1</td>\n",
       "    </tr>\n",
       "    <tr>\n",
       "      <th>3</th>\n",
       "      <td>C12135</td>\n",
       "      <td>1</td>\n",
       "    </tr>\n",
       "    <tr>\n",
       "      <th>4</th>\n",
       "      <td>C12136</td>\n",
       "      <td>1</td>\n",
       "    </tr>\n",
       "  </tbody>\n",
       "</table>\n",
       "</div>"
      ],
      "text/plain": [
       "  CustomerID  Frequency\n",
       "0     C12121          1\n",
       "1     C12132          1\n",
       "2     C12134          1\n",
       "3     C12135          1\n",
       "4     C12136          1"
      ]
     },
     "execution_count": 138,
     "metadata": {},
     "output_type": "execute_result"
    }
   ],
   "source": [
    "Frequency_test = dtest_f.groupby(by=['CustomerID'],as_index=False)['OrderQuantity'].count()\n",
    "Frequency_test.columns = ['CustomerID','Frequency']\n",
    "Frequency_test.head()"
   ]
  },
  {
   "cell_type": "code",
   "execution_count": 139,
   "metadata": {},
   "outputs": [
    {
     "data": {
      "text/plain": [
       "(5955, 2)"
      ]
     },
     "execution_count": 139,
     "metadata": {},
     "output_type": "execute_result"
    }
   ],
   "source": [
    "Frequency_test.shape"
   ]
  },
  {
   "cell_type": "markdown",
   "metadata": {},
   "source": [
    "# Monetary Table Test"
   ]
  },
  {
   "cell_type": "code",
   "execution_count": 140,
   "metadata": {},
   "outputs": [
    {
     "data": {
      "text/html": [
       "<div>\n",
       "<style scoped>\n",
       "    .dataframe tbody tr th:only-of-type {\n",
       "        vertical-align: middle;\n",
       "    }\n",
       "\n",
       "    .dataframe tbody tr th {\n",
       "        vertical-align: top;\n",
       "    }\n",
       "\n",
       "    .dataframe thead th {\n",
       "        text-align: right;\n",
       "    }\n",
       "</style>\n",
       "<table border=\"1\" class=\"dataframe\">\n",
       "  <thead>\n",
       "    <tr style=\"text-align: right;\">\n",
       "      <th></th>\n",
       "      <th>CustomerID</th>\n",
       "      <th>Monetary</th>\n",
       "    </tr>\n",
       "  </thead>\n",
       "  <tbody>\n",
       "    <tr>\n",
       "      <th>0</th>\n",
       "      <td>C12121</td>\n",
       "      <td>52</td>\n",
       "    </tr>\n",
       "    <tr>\n",
       "      <th>1</th>\n",
       "      <td>C12132</td>\n",
       "      <td>40</td>\n",
       "    </tr>\n",
       "    <tr>\n",
       "      <th>2</th>\n",
       "      <td>C12134</td>\n",
       "      <td>40</td>\n",
       "    </tr>\n",
       "    <tr>\n",
       "      <th>3</th>\n",
       "      <td>C12135</td>\n",
       "      <td>41</td>\n",
       "    </tr>\n",
       "    <tr>\n",
       "      <th>4</th>\n",
       "      <td>C12136</td>\n",
       "      <td>79</td>\n",
       "    </tr>\n",
       "  </tbody>\n",
       "</table>\n",
       "</div>"
      ],
      "text/plain": [
       "  CustomerID  Monetary\n",
       "0     C12121        52\n",
       "1     C12132        40\n",
       "2     C12134        40\n",
       "3     C12135        41\n",
       "4     C12136        79"
      ]
     },
     "execution_count": 140,
     "metadata": {},
     "output_type": "execute_result"
    }
   ],
   "source": [
    "Monetary_test = dtest_f.groupby(by=['CustomerID'], as_index=False)['OrderQuantity'].agg({'OrderQuantity':'sum'})\n",
    "Monetary_test.columns = ['CustomerID','Monetary']\n",
    "Monetary_test.head()"
   ]
  },
  {
   "cell_type": "code",
   "execution_count": 141,
   "metadata": {},
   "outputs": [
    {
     "data": {
      "text/html": [
       "<div>\n",
       "<style scoped>\n",
       "    .dataframe tbody tr th:only-of-type {\n",
       "        vertical-align: middle;\n",
       "    }\n",
       "\n",
       "    .dataframe tbody tr th {\n",
       "        vertical-align: top;\n",
       "    }\n",
       "\n",
       "    .dataframe thead th {\n",
       "        text-align: right;\n",
       "    }\n",
       "</style>\n",
       "<table border=\"1\" class=\"dataframe\">\n",
       "  <thead>\n",
       "    <tr style=\"text-align: right;\">\n",
       "      <th></th>\n",
       "      <th>CustomerID</th>\n",
       "      <th>Recency</th>\n",
       "      <th>Frequency</th>\n",
       "    </tr>\n",
       "  </thead>\n",
       "  <tbody>\n",
       "    <tr>\n",
       "      <th>0</th>\n",
       "      <td>C12121</td>\n",
       "      <td>40</td>\n",
       "      <td>1</td>\n",
       "    </tr>\n",
       "    <tr>\n",
       "      <th>1</th>\n",
       "      <td>C12132</td>\n",
       "      <td>1555</td>\n",
       "      <td>1</td>\n",
       "    </tr>\n",
       "    <tr>\n",
       "      <th>2</th>\n",
       "      <td>C12134</td>\n",
       "      <td>1587</td>\n",
       "      <td>1</td>\n",
       "    </tr>\n",
       "    <tr>\n",
       "      <th>3</th>\n",
       "      <td>C12135</td>\n",
       "      <td>12</td>\n",
       "      <td>1</td>\n",
       "    </tr>\n",
       "    <tr>\n",
       "      <th>4</th>\n",
       "      <td>C12136</td>\n",
       "      <td>1556</td>\n",
       "      <td>1</td>\n",
       "    </tr>\n",
       "  </tbody>\n",
       "</table>\n",
       "</div>"
      ],
      "text/plain": [
       "  CustomerID  Recency  Frequency\n",
       "0     C12121       40          1\n",
       "1     C12132     1555          1\n",
       "2     C12134     1587          1\n",
       "3     C12135       12          1\n",
       "4     C12136     1556          1"
      ]
     },
     "execution_count": 141,
     "metadata": {},
     "output_type": "execute_result"
    }
   ],
   "source": [
    "rf_table = Recency_test.merge(Frequency_test,on=['CustomerID'])\n",
    "rf_table.head()"
   ]
  },
  {
   "cell_type": "code",
   "execution_count": 142,
   "metadata": {},
   "outputs": [
    {
     "data": {
      "text/html": [
       "<div>\n",
       "<style scoped>\n",
       "    .dataframe tbody tr th:only-of-type {\n",
       "        vertical-align: middle;\n",
       "    }\n",
       "\n",
       "    .dataframe tbody tr th {\n",
       "        vertical-align: top;\n",
       "    }\n",
       "\n",
       "    .dataframe thead th {\n",
       "        text-align: right;\n",
       "    }\n",
       "</style>\n",
       "<table border=\"1\" class=\"dataframe\">\n",
       "  <thead>\n",
       "    <tr style=\"text-align: right;\">\n",
       "      <th></th>\n",
       "      <th>CustomerID</th>\n",
       "      <th>Recency</th>\n",
       "      <th>Frequency</th>\n",
       "      <th>Monetary</th>\n",
       "    </tr>\n",
       "  </thead>\n",
       "  <tbody>\n",
       "    <tr>\n",
       "      <th>0</th>\n",
       "      <td>C12121</td>\n",
       "      <td>40</td>\n",
       "      <td>1</td>\n",
       "      <td>52</td>\n",
       "    </tr>\n",
       "    <tr>\n",
       "      <th>1</th>\n",
       "      <td>C12132</td>\n",
       "      <td>1555</td>\n",
       "      <td>1</td>\n",
       "      <td>40</td>\n",
       "    </tr>\n",
       "    <tr>\n",
       "      <th>2</th>\n",
       "      <td>C12134</td>\n",
       "      <td>1587</td>\n",
       "      <td>1</td>\n",
       "      <td>40</td>\n",
       "    </tr>\n",
       "    <tr>\n",
       "      <th>3</th>\n",
       "      <td>C12135</td>\n",
       "      <td>12</td>\n",
       "      <td>1</td>\n",
       "      <td>41</td>\n",
       "    </tr>\n",
       "    <tr>\n",
       "      <th>4</th>\n",
       "      <td>C12136</td>\n",
       "      <td>1556</td>\n",
       "      <td>1</td>\n",
       "      <td>79</td>\n",
       "    </tr>\n",
       "  </tbody>\n",
       "</table>\n",
       "</div>"
      ],
      "text/plain": [
       "  CustomerID  Recency  Frequency  Monetary\n",
       "0     C12121       40          1        52\n",
       "1     C12132     1555          1        40\n",
       "2     C12134     1587          1        40\n",
       "3     C12135       12          1        41\n",
       "4     C12136     1556          1        79"
      ]
     },
     "execution_count": 142,
     "metadata": {},
     "output_type": "execute_result"
    }
   ],
   "source": [
    "RFM_test = rf_table.merge(Monetary_test,on=['CustomerID'])\n",
    "RFM_test.head()"
   ]
  },
  {
   "cell_type": "code",
   "execution_count": 143,
   "metadata": {},
   "outputs": [
    {
     "data": {
      "text/plain": [
       "(5955, 4)"
      ]
     },
     "execution_count": 143,
     "metadata": {},
     "output_type": "execute_result"
    }
   ],
   "source": [
    "RFM_test.shape"
   ]
  },
  {
   "cell_type": "code",
   "execution_count": 144,
   "metadata": {},
   "outputs": [
    {
     "data": {
      "text/html": [
       "<div>\n",
       "<style scoped>\n",
       "    .dataframe tbody tr th:only-of-type {\n",
       "        vertical-align: middle;\n",
       "    }\n",
       "\n",
       "    .dataframe tbody tr th {\n",
       "        vertical-align: top;\n",
       "    }\n",
       "\n",
       "    .dataframe thead th {\n",
       "        text-align: right;\n",
       "    }\n",
       "</style>\n",
       "<table border=\"1\" class=\"dataframe\">\n",
       "  <thead>\n",
       "    <tr style=\"text-align: right;\">\n",
       "      <th></th>\n",
       "      <th>count</th>\n",
       "      <th>mean</th>\n",
       "      <th>std</th>\n",
       "      <th>min</th>\n",
       "      <th>25%</th>\n",
       "      <th>50%</th>\n",
       "      <th>75%</th>\n",
       "      <th>max</th>\n",
       "    </tr>\n",
       "  </thead>\n",
       "  <tbody>\n",
       "    <tr>\n",
       "      <th>Recency</th>\n",
       "      <td>5955.0</td>\n",
       "      <td>1446.607725</td>\n",
       "      <td>692.668095</td>\n",
       "      <td>1.0</td>\n",
       "      <td>1474.0</td>\n",
       "      <td>1546.0</td>\n",
       "      <td>1675.0</td>\n",
       "      <td>3472.0</td>\n",
       "    </tr>\n",
       "    <tr>\n",
       "      <th>Frequency</th>\n",
       "      <td>5955.0</td>\n",
       "      <td>3.160537</td>\n",
       "      <td>5.596566</td>\n",
       "      <td>1.0</td>\n",
       "      <td>1.0</td>\n",
       "      <td>1.0</td>\n",
       "      <td>2.0</td>\n",
       "      <td>65.0</td>\n",
       "    </tr>\n",
       "    <tr>\n",
       "      <th>Monetary</th>\n",
       "      <td>5955.0</td>\n",
       "      <td>251.645004</td>\n",
       "      <td>737.549359</td>\n",
       "      <td>1.0</td>\n",
       "      <td>41.0</td>\n",
       "      <td>62.0</td>\n",
       "      <td>155.0</td>\n",
       "      <td>21610.0</td>\n",
       "    </tr>\n",
       "  </tbody>\n",
       "</table>\n",
       "</div>"
      ],
      "text/plain": [
       "            count         mean         std  min     25%     50%     75%  \\\n",
       "Recency    5955.0  1446.607725  692.668095  1.0  1474.0  1546.0  1675.0   \n",
       "Frequency  5955.0     3.160537    5.596566  1.0     1.0     1.0     2.0   \n",
       "Monetary   5955.0   251.645004  737.549359  1.0    41.0    62.0   155.0   \n",
       "\n",
       "               max  \n",
       "Recency     3472.0  \n",
       "Frequency     65.0  \n",
       "Monetary   21610.0  "
      ]
     },
     "execution_count": 144,
     "metadata": {},
     "output_type": "execute_result"
    }
   ],
   "source": [
    "RFM_test.describe().T"
   ]
  },
  {
   "cell_type": "code",
   "execution_count": 145,
   "metadata": {},
   "outputs": [
    {
     "name": "stdout",
     "output_type": "stream",
     "text": [
      "[52.465626391840175, 16.728155556513144, 8.5354004220522, 5.825539879124688, 4.003037063488733, 2.8599770930763166, 2.27091428251548, 1.8850541822364975, 1.6211994077304661, 1.392397528349501]\n"
     ]
    },
    {
     "data": {
      "image/png": "[encoded data removed]",
      "text/plain": [
       "<Figure size 432x288 with 1 Axes>"
      ]
     },
     "metadata": {},
     "output_type": "display_data"
    },
    {
     "name": "stdout",
     "output_type": "stream",
     "text": [
      "[2 2 2 ... 2 2 2]\n",
      "2    5305\n",
      "0     500\n",
      "1     150\n",
      "Name: labels, dtype: int64\n"
     ]
    },
    {
     "data": {
      "image/png": "[encoded data removed]",
      "text/plain": [
       "<Figure size 432x288 with 1 Axes>"
      ]
     },
     "metadata": {},
     "output_type": "display_data"
    }
   ],
   "source": [
    "segments(RFM_test,'Frequency','Monetary')"
   ]
  },
  {
   "cell_type": "code",
   "execution_count": 146,
   "metadata": {},
   "outputs": [],
   "source": [
    "low_test = RFM_test[RFM_test['labels'] == 0]\n",
    "med_test = RFM_test[RFM_test['labels'] == 2]\n",
    "high_test = RFM_test[RFM_test['labels'] == 1]"
   ]
  },
  {
   "cell_type": "code",
   "execution_count": 147,
   "metadata": {},
   "outputs": [
    {
     "data": {
      "text/html": [
       "<div>\n",
       "<style scoped>\n",
       "    .dataframe tbody tr th:only-of-type {\n",
       "        vertical-align: middle;\n",
       "    }\n",
       "\n",
       "    .dataframe tbody tr th {\n",
       "        vertical-align: top;\n",
       "    }\n",
       "\n",
       "    .dataframe thead th {\n",
       "        text-align: right;\n",
       "    }\n",
       "</style>\n",
       "<table border=\"1\" class=\"dataframe\">\n",
       "  <thead>\n",
       "    <tr style=\"text-align: right;\">\n",
       "      <th></th>\n",
       "      <th>CustomerID</th>\n",
       "      <th>Recency</th>\n",
       "      <th>Frequency</th>\n",
       "      <th>Monetary</th>\n",
       "      <th>labels</th>\n",
       "    </tr>\n",
       "  </thead>\n",
       "  <tbody>\n",
       "    <tr>\n",
       "      <th>19</th>\n",
       "      <td>C12219</td>\n",
       "      <td>1465</td>\n",
       "      <td>25</td>\n",
       "      <td>2413</td>\n",
       "      <td>1</td>\n",
       "    </tr>\n",
       "    <tr>\n",
       "      <th>43</th>\n",
       "      <td>C12374</td>\n",
       "      <td>1515</td>\n",
       "      <td>32</td>\n",
       "      <td>5772</td>\n",
       "      <td>1</td>\n",
       "    </tr>\n",
       "    <tr>\n",
       "      <th>51</th>\n",
       "      <td>C12403</td>\n",
       "      <td>1485</td>\n",
       "      <td>53</td>\n",
       "      <td>9438</td>\n",
       "      <td>1</td>\n",
       "    </tr>\n",
       "    <tr>\n",
       "      <th>89</th>\n",
       "      <td>C12594</td>\n",
       "      <td>1833</td>\n",
       "      <td>26</td>\n",
       "      <td>1552</td>\n",
       "      <td>1</td>\n",
       "    </tr>\n",
       "    <tr>\n",
       "      <th>201</th>\n",
       "      <td>C13143</td>\n",
       "      <td>1666</td>\n",
       "      <td>26</td>\n",
       "      <td>2576</td>\n",
       "      <td>1</td>\n",
       "    </tr>\n",
       "  </tbody>\n",
       "</table>\n",
       "</div>"
      ],
      "text/plain": [
       "    CustomerID  Recency  Frequency  Monetary  labels\n",
       "19      C12219     1465         25      2413       1\n",
       "43      C12374     1515         32      5772       1\n",
       "51      C12403     1485         53      9438       1\n",
       "89      C12594     1833         26      1552       1\n",
       "201     C13143     1666         26      2576       1"
      ]
     },
     "execution_count": 147,
     "metadata": {},
     "output_type": "execute_result"
    }
   ],
   "source": [
    "high_test.head()"
   ]
  },
  {
   "cell_type": "code",
   "execution_count": 148,
   "metadata": {},
   "outputs": [],
   "source": [
    "low_ptrn = low_test.quantile(q=[0.25,0.5,0.75])\n",
    "med_ptrn = med_test.quantile(q=[0.25,0.5,0.75])\n",
    "high_ptrn = high_test.quantile(q=[0.25,0.5,0.75])"
   ]
  },
  {
   "cell_type": "code",
   "execution_count": 149,
   "metadata": {},
   "outputs": [
    {
     "data": {
      "text/html": [
       "<div>\n",
       "<style scoped>\n",
       "    .dataframe tbody tr th:only-of-type {\n",
       "        vertical-align: middle;\n",
       "    }\n",
       "\n",
       "    .dataframe tbody tr th {\n",
       "        vertical-align: top;\n",
       "    }\n",
       "\n",
       "    .dataframe thead th {\n",
       "        text-align: right;\n",
       "    }\n",
       "</style>\n",
       "<table border=\"1\" class=\"dataframe\">\n",
       "  <thead>\n",
       "    <tr style=\"text-align: right;\">\n",
       "      <th></th>\n",
       "      <th>Recency</th>\n",
       "      <th>Frequency</th>\n",
       "      <th>Monetary</th>\n",
       "      <th>labels</th>\n",
       "    </tr>\n",
       "  </thead>\n",
       "  <tbody>\n",
       "    <tr>\n",
       "      <th>0.25</th>\n",
       "      <td>1465.00</td>\n",
       "      <td>25.0</td>\n",
       "      <td>1920.25</td>\n",
       "      <td>1.0</td>\n",
       "    </tr>\n",
       "    <tr>\n",
       "      <th>0.50</th>\n",
       "      <td>1483.50</td>\n",
       "      <td>29.0</td>\n",
       "      <td>2760.00</td>\n",
       "      <td>1.0</td>\n",
       "    </tr>\n",
       "    <tr>\n",
       "      <th>0.75</th>\n",
       "      <td>1541.75</td>\n",
       "      <td>35.0</td>\n",
       "      <td>3946.00</td>\n",
       "      <td>1.0</td>\n",
       "    </tr>\n",
       "  </tbody>\n",
       "</table>\n",
       "</div>"
      ],
      "text/plain": [
       "      Recency  Frequency  Monetary  labels\n",
       "0.25  1465.00       25.0   1920.25     1.0\n",
       "0.50  1483.50       29.0   2760.00     1.0\n",
       "0.75  1541.75       35.0   3946.00     1.0"
      ]
     },
     "execution_count": 149,
     "metadata": {},
     "output_type": "execute_result"
    }
   ],
   "source": [
    "high_ptrn"
   ]
  },
  {
   "cell_type": "code",
   "execution_count": 150,
   "metadata": {},
   "outputs": [],
   "source": [
    "#create rfm low_ptrnation table\n",
    "low_test['R_Score'] = low_test['Recency'].apply(RScore, args=('Recency',low_ptrn,))\n",
    "low_test['F_Score'] = low_test['Frequency'].apply(FMScore, args=('Frequency',low_ptrn,))\n",
    "low_test['M_Score'] = low_test['Monetary'].apply(FMScore, args=('Monetary',low_ptrn,))"
   ]
  },
  {
   "cell_type": "code",
   "execution_count": 151,
   "metadata": {},
   "outputs": [
    {
     "data": {
      "text/html": [
       "<div>\n",
       "<style scoped>\n",
       "    .dataframe tbody tr th:only-of-type {\n",
       "        vertical-align: middle;\n",
       "    }\n",
       "\n",
       "    .dataframe tbody tr th {\n",
       "        vertical-align: top;\n",
       "    }\n",
       "\n",
       "    .dataframe thead th {\n",
       "        text-align: right;\n",
       "    }\n",
       "</style>\n",
       "<table border=\"1\" class=\"dataframe\">\n",
       "  <thead>\n",
       "    <tr style=\"text-align: right;\">\n",
       "      <th></th>\n",
       "      <th>CustomerID</th>\n",
       "      <th>Recency</th>\n",
       "      <th>Frequency</th>\n",
       "      <th>Monetary</th>\n",
       "      <th>labels</th>\n",
       "      <th>R_Score</th>\n",
       "      <th>F_Score</th>\n",
       "      <th>M_Score</th>\n",
       "      <th>RFM_Value</th>\n",
       "    </tr>\n",
       "  </thead>\n",
       "  <tbody>\n",
       "    <tr>\n",
       "      <th>20</th>\n",
       "      <td>C12222</td>\n",
       "      <td>1779</td>\n",
       "      <td>15</td>\n",
       "      <td>1922</td>\n",
       "      <td>0</td>\n",
       "      <td>2</td>\n",
       "      <td>4</td>\n",
       "      <td>4</td>\n",
       "      <td>244</td>\n",
       "    </tr>\n",
       "    <tr>\n",
       "      <th>26</th>\n",
       "      <td>C12258</td>\n",
       "      <td>1472</td>\n",
       "      <td>19</td>\n",
       "      <td>1724</td>\n",
       "      <td>0</td>\n",
       "      <td>3</td>\n",
       "      <td>4</td>\n",
       "      <td>4</td>\n",
       "      <td>344</td>\n",
       "    </tr>\n",
       "    <tr>\n",
       "      <th>61</th>\n",
       "      <td>C12450</td>\n",
       "      <td>6</td>\n",
       "      <td>7</td>\n",
       "      <td>484</td>\n",
       "      <td>0</td>\n",
       "      <td>4</td>\n",
       "      <td>1</td>\n",
       "      <td>1</td>\n",
       "      <td>411</td>\n",
       "    </tr>\n",
       "    <tr>\n",
       "      <th>65</th>\n",
       "      <td>C12481</td>\n",
       "      <td>73</td>\n",
       "      <td>9</td>\n",
       "      <td>1063</td>\n",
       "      <td>0</td>\n",
       "      <td>4</td>\n",
       "      <td>2</td>\n",
       "      <td>3</td>\n",
       "      <td>423</td>\n",
       "    </tr>\n",
       "    <tr>\n",
       "      <th>82</th>\n",
       "      <td>C12581</td>\n",
       "      <td>1629</td>\n",
       "      <td>14</td>\n",
       "      <td>696</td>\n",
       "      <td>0</td>\n",
       "      <td>2</td>\n",
       "      <td>3</td>\n",
       "      <td>2</td>\n",
       "      <td>232</td>\n",
       "    </tr>\n",
       "  </tbody>\n",
       "</table>\n",
       "</div>"
      ],
      "text/plain": [
       "   CustomerID  Recency  Frequency  Monetary  labels  R_Score  F_Score  \\\n",
       "20     C12222     1779         15      1922       0        2        4   \n",
       "26     C12258     1472         19      1724       0        3        4   \n",
       "61     C12450        6          7       484       0        4        1   \n",
       "65     C12481       73          9      1063       0        4        2   \n",
       "82     C12581     1629         14       696       0        2        3   \n",
       "\n",
       "    M_Score RFM_Value  \n",
       "20        4       244  \n",
       "26        4       344  \n",
       "61        1       411  \n",
       "65        3       423  \n",
       "82        2       232  "
      ]
     },
     "execution_count": 151,
     "metadata": {},
     "output_type": "execute_result"
    }
   ],
   "source": [
    "low_test['RFM_Value'] = low_test.R_Score.map(str) \\\n",
    "                        + low_test.F_Score.map(str) \\\n",
    "                         + low_test.M_Score.map(str)\n",
    "\n",
    "low_test.head()"
   ]
  },
  {
   "cell_type": "code",
   "execution_count": 152,
   "metadata": {
    "scrolled": true
   },
   "outputs": [
    {
     "data": {
      "text/plain": [
       "211    27\n",
       "344    23\n",
       "411    21\n",
       "311    15\n",
       "111    15\n",
       "122    15\n",
       "244    15\n",
       "144    14\n",
       "422    13\n",
       "444    13\n",
       "243    13\n",
       "222    12\n",
       "112    11\n",
       "133    11\n",
       "443    10\n",
       "132    10\n",
       "312    10\n",
       "134    10\n",
       "321    10\n",
       "322     9\n",
       "433     9\n",
       "333     9\n",
       "234     8\n",
       "343     8\n",
       "423     8\n",
       "432     8\n",
       "323     8\n",
       "223     8\n",
       "413     8\n",
       "421     8\n",
       "       ..\n",
       "121     7\n",
       "113     6\n",
       "431     6\n",
       "342     6\n",
       "212     6\n",
       "233     6\n",
       "224     5\n",
       "434     5\n",
       "213     5\n",
       "324     5\n",
       "412     5\n",
       "221     5\n",
       "332     5\n",
       "313     5\n",
       "334     5\n",
       "114     5\n",
       "143     4\n",
       "131     4\n",
       "442     4\n",
       "414     3\n",
       "124     3\n",
       "214     2\n",
       "331     2\n",
       "142     2\n",
       "242     2\n",
       "314     2\n",
       "231     2\n",
       "441     1\n",
       "341     1\n",
       "141     1\n",
       "Name: RFM_Value, Length: 63, dtype: int64"
      ]
     },
     "execution_count": 152,
     "metadata": {},
     "output_type": "execute_result"
    }
   ],
   "source": [
    "low_test['RFM_Value'].value_counts(ascending=False)"
   ]
  },
  {
   "cell_type": "code",
   "execution_count": 153,
   "metadata": {},
   "outputs": [],
   "source": [
    "#create rfm med_ptrnation table\n",
    "med_test['R_Score'] = med_test['Recency'].apply(RScore, args=('Recency',med_ptrn,))\n",
    "med_test['F_Score'] = med_test['Frequency'].apply(FMScore, args=('Frequency',med_ptrn,))\n",
    "med_test['M_Score'] = med_test['Monetary'].apply(FMScore, args=('Monetary',med_ptrn,))"
   ]
  },
  {
   "cell_type": "code",
   "execution_count": 154,
   "metadata": {},
   "outputs": [
    {
     "data": {
      "text/html": [
       "<div>\n",
       "<style scoped>\n",
       "    .dataframe tbody tr th:only-of-type {\n",
       "        vertical-align: middle;\n",
       "    }\n",
       "\n",
       "    .dataframe tbody tr th {\n",
       "        vertical-align: top;\n",
       "    }\n",
       "\n",
       "    .dataframe thead th {\n",
       "        text-align: right;\n",
       "    }\n",
       "</style>\n",
       "<table border=\"1\" class=\"dataframe\">\n",
       "  <thead>\n",
       "    <tr style=\"text-align: right;\">\n",
       "      <th></th>\n",
       "      <th>CustomerID</th>\n",
       "      <th>Recency</th>\n",
       "      <th>Frequency</th>\n",
       "      <th>Monetary</th>\n",
       "      <th>labels</th>\n",
       "      <th>R_Score</th>\n",
       "      <th>F_Score</th>\n",
       "      <th>M_Score</th>\n",
       "      <th>RFM_Value</th>\n",
       "    </tr>\n",
       "  </thead>\n",
       "  <tbody>\n",
       "    <tr>\n",
       "      <th>0</th>\n",
       "      <td>C12121</td>\n",
       "      <td>40</td>\n",
       "      <td>1</td>\n",
       "      <td>52</td>\n",
       "      <td>2</td>\n",
       "      <td>4</td>\n",
       "      <td>1</td>\n",
       "      <td>2</td>\n",
       "      <td>412</td>\n",
       "    </tr>\n",
       "    <tr>\n",
       "      <th>1</th>\n",
       "      <td>C12132</td>\n",
       "      <td>1555</td>\n",
       "      <td>1</td>\n",
       "      <td>40</td>\n",
       "      <td>2</td>\n",
       "      <td>2</td>\n",
       "      <td>1</td>\n",
       "      <td>1</td>\n",
       "      <td>211</td>\n",
       "    </tr>\n",
       "    <tr>\n",
       "      <th>2</th>\n",
       "      <td>C12134</td>\n",
       "      <td>1587</td>\n",
       "      <td>1</td>\n",
       "      <td>40</td>\n",
       "      <td>2</td>\n",
       "      <td>2</td>\n",
       "      <td>1</td>\n",
       "      <td>1</td>\n",
       "      <td>211</td>\n",
       "    </tr>\n",
       "    <tr>\n",
       "      <th>3</th>\n",
       "      <td>C12135</td>\n",
       "      <td>12</td>\n",
       "      <td>1</td>\n",
       "      <td>41</td>\n",
       "      <td>2</td>\n",
       "      <td>4</td>\n",
       "      <td>1</td>\n",
       "      <td>1</td>\n",
       "      <td>411</td>\n",
       "    </tr>\n",
       "    <tr>\n",
       "      <th>4</th>\n",
       "      <td>C12136</td>\n",
       "      <td>1556</td>\n",
       "      <td>1</td>\n",
       "      <td>79</td>\n",
       "      <td>2</td>\n",
       "      <td>2</td>\n",
       "      <td>1</td>\n",
       "      <td>3</td>\n",
       "      <td>213</td>\n",
       "    </tr>\n",
       "  </tbody>\n",
       "</table>\n",
       "</div>"
      ],
      "text/plain": [
       "  CustomerID  Recency  Frequency  Monetary  labels  R_Score  F_Score  M_Score  \\\n",
       "0     C12121       40          1        52       2        4        1        2   \n",
       "1     C12132     1555          1        40       2        2        1        1   \n",
       "2     C12134     1587          1        40       2        2        1        1   \n",
       "3     C12135       12          1        41       2        4        1        1   \n",
       "4     C12136     1556          1        79       2        2        1        3   \n",
       "\n",
       "  RFM_Value  \n",
       "0       412  \n",
       "1       211  \n",
       "2       211  \n",
       "3       411  \n",
       "4       213  "
      ]
     },
     "execution_count": 154,
     "metadata": {},
     "output_type": "execute_result"
    }
   ],
   "source": [
    "med_test['RFM_Value'] = med_test.R_Score.map(str) \\\n",
    "                        + med_test.F_Score.map(str) \\\n",
    "                         + med_test.M_Score.map(str)\n",
    "\n",
    "med_test.head()"
   ]
  },
  {
   "cell_type": "code",
   "execution_count": 155,
   "metadata": {},
   "outputs": [
    {
     "data": {
      "text/plain": [
       "311    628\n",
       "211    586\n",
       "411    485\n",
       "113    342\n",
       "144    250\n",
       "213    249\n",
       "112    242\n",
       "444    230\n",
       "212    199\n",
       "413    188\n",
       "111    184\n",
       "344    172\n",
       "313    170\n",
       "412    167\n",
       "312    140\n",
       "134    125\n",
       "244    108\n",
       "434    100\n",
       "333     87\n",
       "433     82\n",
       "133     79\n",
       "334     75\n",
       "114     71\n",
       "233     71\n",
       "234     65\n",
       "414     50\n",
       "214     41\n",
       "314     26\n",
       "143     16\n",
       "443     16\n",
       "343     11\n",
       "131      9\n",
       "332      8\n",
       "331      8\n",
       "132      5\n",
       "432      4\n",
       "431      4\n",
       "231      4\n",
       "232      3\n",
       "141      1\n",
       "142      1\n",
       "242      1\n",
       "442      1\n",
       "341      1\n",
       "Name: RFM_Value, dtype: int64"
      ]
     },
     "execution_count": 155,
     "metadata": {},
     "output_type": "execute_result"
    }
   ],
   "source": [
    "med_test['RFM_Value'].value_counts(ascending=False)"
   ]
  },
  {
   "cell_type": "code",
   "execution_count": 156,
   "metadata": {},
   "outputs": [],
   "source": [
    "#create rfm high_ptrnation table\n",
    "high_test['R_Score'] = high_test['Recency'].apply(RScore, args=('Recency',high_ptrn,))\n",
    "high_test['F_Score'] = high_test['Frequency'].apply(FMScore, args=('Frequency',high_ptrn,))\n",
    "high_test['M_Score'] = high_test['Monetary'].apply(FMScore, args=('Monetary',high_ptrn,))\n"
   ]
  },
  {
   "cell_type": "code",
   "execution_count": 157,
   "metadata": {},
   "outputs": [
    {
     "data": {
      "text/html": [
       "<div>\n",
       "<style scoped>\n",
       "    .dataframe tbody tr th:only-of-type {\n",
       "        vertical-align: middle;\n",
       "    }\n",
       "\n",
       "    .dataframe tbody tr th {\n",
       "        vertical-align: top;\n",
       "    }\n",
       "\n",
       "    .dataframe thead th {\n",
       "        text-align: right;\n",
       "    }\n",
       "</style>\n",
       "<table border=\"1\" class=\"dataframe\">\n",
       "  <thead>\n",
       "    <tr style=\"text-align: right;\">\n",
       "      <th></th>\n",
       "      <th>CustomerID</th>\n",
       "      <th>Recency</th>\n",
       "      <th>Frequency</th>\n",
       "      <th>Monetary</th>\n",
       "      <th>labels</th>\n",
       "      <th>R_Score</th>\n",
       "      <th>F_Score</th>\n",
       "      <th>M_Score</th>\n",
       "      <th>RFM_Value</th>\n",
       "    </tr>\n",
       "  </thead>\n",
       "  <tbody>\n",
       "    <tr>\n",
       "      <th>19</th>\n",
       "      <td>C12219</td>\n",
       "      <td>1465</td>\n",
       "      <td>25</td>\n",
       "      <td>2413</td>\n",
       "      <td>1</td>\n",
       "      <td>4</td>\n",
       "      <td>1</td>\n",
       "      <td>2</td>\n",
       "      <td>412</td>\n",
       "    </tr>\n",
       "    <tr>\n",
       "      <th>43</th>\n",
       "      <td>C12374</td>\n",
       "      <td>1515</td>\n",
       "      <td>32</td>\n",
       "      <td>5772</td>\n",
       "      <td>1</td>\n",
       "      <td>2</td>\n",
       "      <td>3</td>\n",
       "      <td>4</td>\n",
       "      <td>234</td>\n",
       "    </tr>\n",
       "    <tr>\n",
       "      <th>51</th>\n",
       "      <td>C12403</td>\n",
       "      <td>1485</td>\n",
       "      <td>53</td>\n",
       "      <td>9438</td>\n",
       "      <td>1</td>\n",
       "      <td>2</td>\n",
       "      <td>4</td>\n",
       "      <td>4</td>\n",
       "      <td>244</td>\n",
       "    </tr>\n",
       "    <tr>\n",
       "      <th>89</th>\n",
       "      <td>C12594</td>\n",
       "      <td>1833</td>\n",
       "      <td>26</td>\n",
       "      <td>1552</td>\n",
       "      <td>1</td>\n",
       "      <td>1</td>\n",
       "      <td>2</td>\n",
       "      <td>1</td>\n",
       "      <td>121</td>\n",
       "    </tr>\n",
       "    <tr>\n",
       "      <th>201</th>\n",
       "      <td>C13143</td>\n",
       "      <td>1666</td>\n",
       "      <td>26</td>\n",
       "      <td>2576</td>\n",
       "      <td>1</td>\n",
       "      <td>1</td>\n",
       "      <td>2</td>\n",
       "      <td>2</td>\n",
       "      <td>122</td>\n",
       "    </tr>\n",
       "  </tbody>\n",
       "</table>\n",
       "</div>"
      ],
      "text/plain": [
       "    CustomerID  Recency  Frequency  Monetary  labels  R_Score  F_Score  \\\n",
       "19      C12219     1465         25      2413       1        4        1   \n",
       "43      C12374     1515         32      5772       1        2        3   \n",
       "51      C12403     1485         53      9438       1        2        4   \n",
       "89      C12594     1833         26      1552       1        1        2   \n",
       "201     C13143     1666         26      2576       1        1        2   \n",
       "\n",
       "     M_Score RFM_Value  \n",
       "19         2       412  \n",
       "43         4       234  \n",
       "51         4       244  \n",
       "89         1       121  \n",
       "201        2       122  "
      ]
     },
     "execution_count": 157,
     "metadata": {},
     "output_type": "execute_result"
    }
   ],
   "source": [
    "high_test['RFM_Value'] = high_test.R_Score.map(str) \\\n",
    "                        + high_test.F_Score.map(str) \\\n",
    "                         + high_test.M_Score.map(str)\n",
    "\n",
    "high_test.head()"
   ]
  },
  {
   "cell_type": "code",
   "execution_count": 158,
   "metadata": {},
   "outputs": [
    {
     "data": {
      "text/plain": [
       "244    9\n",
       "111    8\n",
       "444    7\n",
       "344    6\n",
       "411    6\n",
       "211    5\n",
       "112    5\n",
       "233    5\n",
       "333    5\n",
       "412    5\n",
       "321    5\n",
       "343    4\n",
       "133    4\n",
       "311    4\n",
       "422    4\n",
       "434    4\n",
       "124    3\n",
       "121    3\n",
       "432    3\n",
       "222    3\n",
       "223    3\n",
       "144    3\n",
       "312    3\n",
       "212    3\n",
       "232    3\n",
       "443    3\n",
       "243    2\n",
       "421    2\n",
       "123    2\n",
       "332    2\n",
       "122    2\n",
       "423    2\n",
       "113    2\n",
       "224    2\n",
       "143    2\n",
       "331    2\n",
       "131    2\n",
       "322    2\n",
       "424    1\n",
       "323    1\n",
       "431    1\n",
       "234    1\n",
       "413    1\n",
       "114    1\n",
       "242    1\n",
       "334    1\n",
       "313    1\n",
       "132    1\n",
       "Name: RFM_Value, dtype: int64"
      ]
     },
     "execution_count": 158,
     "metadata": {},
     "output_type": "execute_result"
    }
   ],
   "source": [
    "high_test['RFM_Value'].value_counts(ascending=False)"
   ]
  },
  {
   "cell_type": "code",
   "execution_count": null,
   "metadata": {},
   "outputs": [],
   "source": []
  },
  {
   "cell_type": "code",
   "execution_count": null,
   "metadata": {},
   "outputs": [],
   "source": []
  },
  {
   "cell_type": "code",
   "execution_count": null,
   "metadata": {},
   "outputs": [],
   "source": []
  }
 ],
 "metadata": {
  "kernelspec": {
   "display_name": "Python 3",
   "language": "python",
   "name": "python3"
  },
  "language_info": {
   "codemirror_mode": {
    "name": "ipython",
    "version": 3
   },
   "file_extension": ".py",
   "mimetype": "text/x-python",
   "name": "python",
   "nbconvert_exporter": "python",
   "pygments_lexer": "ipython3",
   "version": "3.6.5"
  }
 },
 "nbformat": 4,
 "nbformat_minor": 2
}
