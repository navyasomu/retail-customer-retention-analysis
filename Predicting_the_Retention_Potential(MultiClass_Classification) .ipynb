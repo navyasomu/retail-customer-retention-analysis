{
  "cells": [
    {
      "cell_type": "markdown",
      "metadata": {
        "id": "aUM_7k-kHoJh"
      },
      "source": [
        "# Importing Required Libraries"
      ]
    },
    {
      "cell_type": "code",
      "execution_count": 1,
      "metadata": {
        "id": "ipsqZb8BHoJi"
      },
      "outputs": [],
      "source": [
        "import warnings\n",
        "warnings.filterwarnings('ignore')"
      ]
    },
    {
      "cell_type": "code",
      "execution_count": 2,
      "metadata": {
        "id": "XN8gxs3uHoJk"
      },
      "outputs": [],
      "source": [
        "import numpy as np                  #Importing libraries for data analysis and Visualizations\n",
        "import pandas as pd\n",
        "import matplotlib.pyplot as plt\n",
        "import seaborn as sns"
      ]
    },
    {
      "cell_type": "code",
      "execution_count": 3,
      "metadata": {
        "colab": {
          "base_uri": "https://localhost:8080/"
        },
        "id": "4zVO6vwRHoJk",
        "outputId": "b3796fb9-58fb-47d0-ecf0-66ec55236fdf"
      },
      "outputs": [
        {
          "output_type": "execute_result",
          "data": {
            "text/plain": [
              "['.config',\n",
              " 'Emaildata_Test.csv',\n",
              " 'Test.csv',\n",
              " 'transactionsdata_Train.csv',\n",
              " 'Train.csv',\n",
              " 'Customerdata_Test.csv',\n",
              " 'Emaildata_Train.csv',\n",
              " 'Customerdata_Train.csv',\n",
              " 'SravanKumar_Venigalla_RPL_FinalHack.csv',\n",
              " 'transactionsdata_Test.csv',\n",
              " 'sample_data']"
            ]
          },
          "metadata": {},
          "execution_count": 3
        }
      ],
      "source": [
        "import os                          #uploading windows to read the files\n",
        "os.listdir('./')"
      ]
    },
    {
      "cell_type": "markdown",
      "metadata": {
        "id": "DdbyiVX-HoJl"
      },
      "source": [
        "# Data Cleaning"
      ]
    },
    {
      "cell_type": "markdown",
      "metadata": {
        "id": "k5011j8NHoJl"
      },
      "source": [
        "Reading the data files for data Analysis"
      ]
    },
    {
      "cell_type": "code",
      "execution_count": 4,
      "metadata": {
        "id": "pdHny1IHHoJl"
      },
      "outputs": [],
      "source": [
        "df1 = pd.read_csv('./Train.csv')\n",
        "df2 = pd.read_csv('./Customerdata_Train.csv')\n",
        "df3 = pd.read_csv('./transactionsdata_Train.csv')\n",
        "df4 = pd.read_csv('./Emaildata_Train.csv')"
      ]
    },
    {
      "cell_type": "markdown",
      "metadata": {
        "id": "zoZpwTB-HoJl"
      },
      "source": [
        "Dimensions for all the files"
      ]
    },
    {
      "cell_type": "code",
      "execution_count": 5,
      "metadata": {
        "colab": {
          "base_uri": "https://localhost:8080/"
        },
        "id": "Wo8vtgRVHoJm",
        "outputId": "3e3816ed-24e6-4c0e-e0a9-70ca89f17917"
      },
      "outputs": [
        {
          "output_type": "execute_result",
          "data": {
            "text/plain": [
              "((23820, 2), (23820, 7), (104755, 4), (517672, 6))"
            ]
          },
          "metadata": {},
          "execution_count": 5
        }
      ],
      "source": [
        "df1.shape , df2.shape , df3.shape , df4.shape  "
      ]
    },
    {
      "cell_type": "markdown",
      "metadata": {
        "id": "0vkZFXp7HoJm"
      },
      "source": [
        "Checking the columns in the files"
      ]
    },
    {
      "cell_type": "code",
      "execution_count": 6,
      "metadata": {
        "colab": {
          "base_uri": "https://localhost:8080/"
        },
        "id": "VmLO3joWHoJm",
        "outputId": "b79ac953-d55e-43ff-c4f2-6b91bfa3c802"
      },
      "outputs": [
        {
          "output_type": "stream",
          "name": "stdout",
          "text": [
            "Index(['CustomerID', 'RetentionPotential'], dtype='object')\n",
            "Index(['CustomerID', 'City', 'DateOfRegistration', 'OnlineCommunication',\n",
            "       'AutomaticRefill', 'DoorstepDelivery', 'PreferredDeliveryDay'],\n",
            "      dtype='object')\n",
            "Index(['CustomerID', 'DateOfOrder', 'timestamp', 'OrderQuantity'], dtype='object')\n",
            "Index(['CustomerID', 'DateOfemail', 'EmailType', 'timestamp', 'MailOpened',\n",
            "       'MailClicked'],\n",
            "      dtype='object')\n"
          ]
        }
      ],
      "source": [
        "print(df1.columns)\n",
        "print(df2.columns)\n",
        "print(df3.columns)\n",
        "print(df4.columns)"
      ]
    },
    {
      "cell_type": "markdown",
      "metadata": {
        "id": "Ejx3Ni5LHoJm"
      },
      "source": [
        "Checking the unique values "
      ]
    },
    {
      "cell_type": "code",
      "execution_count": 7,
      "metadata": {
        "colab": {
          "base_uri": "https://localhost:8080/"
        },
        "id": "jeRWg-xTHoJm",
        "outputId": "83480ee6-9c68-4c1f-dfec-88e31b36da33"
      },
      "outputs": [
        {
          "output_type": "execute_result",
          "data": {
            "text/plain": [
              "CustomerID            23820\n",
              "RetentionPotential        3\n",
              "dtype: int64"
            ]
          },
          "metadata": {},
          "execution_count": 7
        }
      ],
      "source": [
        "df1.nunique()"
      ]
    },
    {
      "cell_type": "code",
      "execution_count": 8,
      "metadata": {
        "colab": {
          "base_uri": "https://localhost:8080/"
        },
        "id": "aprMnX_tHoJm",
        "outputId": "3379d3eb-078a-473d-c732-399729629ad6"
      },
      "outputs": [
        {
          "output_type": "execute_result",
          "data": {
            "text/plain": [
              "CustomerID              23820\n",
              "City                        4\n",
              "DateOfRegistration       2673\n",
              "OnlineCommunication         2\n",
              "AutomaticRefill             2\n",
              "DoorstepDelivery            2\n",
              "PreferredDeliveryDay        7\n",
              "dtype: int64"
            ]
          },
          "metadata": {},
          "execution_count": 8
        }
      ],
      "source": [
        "df2.nunique()"
      ]
    },
    {
      "cell_type": "code",
      "execution_count": 9,
      "metadata": {
        "colab": {
          "base_uri": "https://localhost:8080/"
        },
        "id": "H1COeHM1HoJm",
        "outputId": "22f4adc3-7742-44ad-fd0f-ee6933548e7b"
      },
      "outputs": [
        {
          "output_type": "execute_result",
          "data": {
            "text/plain": [
              "CustomerID       23820\n",
              "DateOfOrder       3151\n",
              "timestamp        21399\n",
              "OrderQuantity      451\n",
              "dtype: int64"
            ]
          },
          "metadata": {},
          "execution_count": 9
        }
      ],
      "source": [
        "df3.nunique()"
      ]
    },
    {
      "cell_type": "code",
      "execution_count": 10,
      "metadata": {
        "colab": {
          "base_uri": "https://localhost:8080/"
        },
        "id": "awGETIxuHoJn",
        "outputId": "4af98f6d-25ad-4f3f-ad48-986f0cb69104"
      },
      "outputs": [
        {
          "output_type": "execute_result",
          "data": {
            "text/plain": [
              "CustomerID     23820\n",
              "DateOfemail     3382\n",
              "EmailType          2\n",
              "timestamp      14369\n",
              "MailOpened         2\n",
              "MailClicked        3\n",
              "dtype: int64"
            ]
          },
          "metadata": {},
          "execution_count": 10
        }
      ],
      "source": [
        "df4.nunique()"
      ]
    },
    {
      "cell_type": "markdown",
      "metadata": {
        "id": "QOftsMEpHoJn"
      },
      "source": [
        "Merging the datasets df1 and df2 based on CustomerId"
      ]
    },
    {
      "cell_type": "code",
      "execution_count": 11,
      "metadata": {
        "id": "PpDkOC_DHoJn"
      },
      "outputs": [],
      "source": [
        "data1 = pd.merge(df1,df2,on=['CustomerID'],how = 'inner')"
      ]
    },
    {
      "cell_type": "code",
      "execution_count": 12,
      "metadata": {
        "colab": {
          "base_uri": "https://localhost:8080/"
        },
        "id": "MxowWXADHoJn",
        "outputId": "61bd325f-5258-4311-a5dc-64e1b4681eca"
      },
      "outputs": [
        {
          "output_type": "execute_result",
          "data": {
            "text/plain": [
              "(23820, 8)"
            ]
          },
          "metadata": {},
          "execution_count": 12
        }
      ],
      "source": [
        "data1.shape                #Dimension of new dataset"
      ]
    },
    {
      "cell_type": "code",
      "execution_count": 13,
      "metadata": {
        "colab": {
          "base_uri": "https://localhost:8080/"
        },
        "id": "qghDpQrKHoJn",
        "outputId": "914cda18-0209-494e-e02c-dfb02670c7e4"
      },
      "outputs": [
        {
          "output_type": "execute_result",
          "data": {
            "text/plain": [
              "CustomerID              23820\n",
              "RetentionPotential          3\n",
              "City                        4\n",
              "DateOfRegistration       2673\n",
              "OnlineCommunication         2\n",
              "AutomaticRefill             2\n",
              "DoorstepDelivery            2\n",
              "PreferredDeliveryDay        7\n",
              "dtype: int64"
            ]
          },
          "metadata": {},
          "execution_count": 13
        }
      ],
      "source": [
        "data1.nunique()           #Unique values for new dataset"
      ]
    },
    {
      "cell_type": "code",
      "execution_count": 14,
      "metadata": {
        "colab": {
          "base_uri": "https://localhost:8080/",
          "height": 250
        },
        "id": "dig4QYWKHoJn",
        "outputId": "b34cf6a2-d464-4309-ac0f-84be9875dec6"
      },
      "outputs": [
        {
          "output_type": "execute_result",
          "data": {
            "text/plain": [
              "  CustomerID RetentionPotential   City DateOfRegistration  \\\n",
              "0     C37869                Low  CITY4          7/27/2011   \n",
              "1     C33841                Low  CITY1         11/19/2013   \n",
              "2     C29464                Low  CITY2          5/24/2010   \n",
              "3     C28158                Low  CITY1          6/19/2017   \n",
              "4     C22785               High  CITY2         12/13/2013   \n",
              "\n",
              "   OnlineCommunication  AutomaticRefill  DoorstepDelivery PreferredDeliveryDay  \n",
              "0                    0                0                 0             Thursday  \n",
              "1                    1                0                 1             Thursday  \n",
              "2                    0                0                 0              Tuesday  \n",
              "3                    1                0                 0             Saturday  \n",
              "4                    1                0                 0             Thursday  "
            ],
            "text/html": [
              "\n",
              "  <div id=\"df-60bdf918-7108-4ffc-96cd-2fa8de86890e\">\n",
              "    <div class=\"colab-df-container\">\n",
              "      <div>\n",
              "<style scoped>\n",
              "    .dataframe tbody tr th:only-of-type {\n",
              "        vertical-align: middle;\n",
              "    }\n",
              "\n",
              "    .dataframe tbody tr th {\n",
              "        vertical-align: top;\n",
              "    }\n",
              "\n",
              "    .dataframe thead th {\n",
              "        text-align: right;\n",
              "    }\n",
              "</style>\n",
              "<table border=\"1\" class=\"dataframe\">\n",
              "  <thead>\n",
              "    <tr style=\"text-align: right;\">\n",
              "      <th></th>\n",
              "      <th>CustomerID</th>\n",
              "      <th>RetentionPotential</th>\n",
              "      <th>City</th>\n",
              "      <th>DateOfRegistration</th>\n",
              "      <th>OnlineCommunication</th>\n",
              "      <th>AutomaticRefill</th>\n",
              "      <th>DoorstepDelivery</th>\n",
              "      <th>PreferredDeliveryDay</th>\n",
              "    </tr>\n",
              "  </thead>\n",
              "  <tbody>\n",
              "    <tr>\n",
              "      <th>0</th>\n",
              "      <td>C37869</td>\n",
              "      <td>Low</td>\n",
              "      <td>CITY4</td>\n",
              "      <td>7/27/2011</td>\n",
              "      <td>0</td>\n",
              "      <td>0</td>\n",
              "      <td>0</td>\n",
              "      <td>Thursday</td>\n",
              "    </tr>\n",
              "    <tr>\n",
              "      <th>1</th>\n",
              "      <td>C33841</td>\n",
              "      <td>Low</td>\n",
              "      <td>CITY1</td>\n",
              "      <td>11/19/2013</td>\n",
              "      <td>1</td>\n",
              "      <td>0</td>\n",
              "      <td>1</td>\n",
              "      <td>Thursday</td>\n",
              "    </tr>\n",
              "    <tr>\n",
              "      <th>2</th>\n",
              "      <td>C29464</td>\n",
              "      <td>Low</td>\n",
              "      <td>CITY2</td>\n",
              "      <td>5/24/2010</td>\n",
              "      <td>0</td>\n",
              "      <td>0</td>\n",
              "      <td>0</td>\n",
              "      <td>Tuesday</td>\n",
              "    </tr>\n",
              "    <tr>\n",
              "      <th>3</th>\n",
              "      <td>C28158</td>\n",
              "      <td>Low</td>\n",
              "      <td>CITY1</td>\n",
              "      <td>6/19/2017</td>\n",
              "      <td>1</td>\n",
              "      <td>0</td>\n",
              "      <td>0</td>\n",
              "      <td>Saturday</td>\n",
              "    </tr>\n",
              "    <tr>\n",
              "      <th>4</th>\n",
              "      <td>C22785</td>\n",
              "      <td>High</td>\n",
              "      <td>CITY2</td>\n",
              "      <td>12/13/2013</td>\n",
              "      <td>1</td>\n",
              "      <td>0</td>\n",
              "      <td>0</td>\n",
              "      <td>Thursday</td>\n",
              "    </tr>\n",
              "  </tbody>\n",
              "</table>\n",
              "</div>\n",
              "      <button class=\"colab-df-convert\" onclick=\"convertToInteractive('df-60bdf918-7108-4ffc-96cd-2fa8de86890e')\"\n",
              "              title=\"Convert this dataframe to an interactive table.\"\n",
              "              style=\"display:none;\">\n",
              "        \n",
              "  <svg xmlns=\"http://www.w3.org/2000/svg\" height=\"24px\"viewBox=\"0 0 24 24\"\n",
              "       width=\"24px\">\n",
              "    <path d=\"M0 0h24v24H0V0z\" fill=\"none\"/>\n",
              "    <path d=\"M18.56 5.44l.94 2.06.94-2.06 2.06-.94-2.06-.94-.94-2.06-.94 2.06-2.06.94zm-11 1L8.5 8.5l.94-2.06 2.06-.94-2.06-.94L8.5 2.5l-.94 2.06-2.06.94zm10 10l.94 2.06.94-2.06 2.06-.94-2.06-.94-.94-2.06-.94 2.06-2.06.94z\"/><path d=\"M17.41 7.96l-1.37-1.37c-.4-.4-.92-.59-1.43-.59-.52 0-1.04.2-1.43.59L10.3 9.45l-7.72 7.72c-.78.78-.78 2.05 0 2.83L4 21.41c.39.39.9.59 1.41.59.51 0 1.02-.2 1.41-.59l7.78-7.78 2.81-2.81c.8-.78.8-2.07 0-2.86zM5.41 20L4 18.59l7.72-7.72 1.47 1.35L5.41 20z\"/>\n",
              "  </svg>\n",
              "      </button>\n",
              "      \n",
              "  <style>\n",
              "    .colab-df-container {\n",
              "      display:flex;\n",
              "      flex-wrap:wrap;\n",
              "      gap: 12px;\n",
              "    }\n",
              "\n",
              "    .colab-df-convert {\n",
              "      background-color: #E8F0FE;\n",
              "      border: none;\n",
              "      border-radius: 50%;\n",
              "      cursor: pointer;\n",
              "      display: none;\n",
              "      fill: #1967D2;\n",
              "      height: 32px;\n",
              "      padding: 0 0 0 0;\n",
              "      width: 32px;\n",
              "    }\n",
              "\n",
              "    .colab-df-convert:hover {\n",
              "      background-color: #E2EBFA;\n",
              "      box-shadow: 0px 1px 2px rgba(60, 64, 67, 0.3), 0px 1px 3px 1px rgba(60, 64, 67, 0.15);\n",
              "      fill: #174EA6;\n",
              "    }\n",
              "\n",
              "    [theme=dark] .colab-df-convert {\n",
              "      background-color: #3B4455;\n",
              "      fill: #D2E3FC;\n",
              "    }\n",
              "\n",
              "    [theme=dark] .colab-df-convert:hover {\n",
              "      background-color: #434B5C;\n",
              "      box-shadow: 0px 1px 3px 1px rgba(0, 0, 0, 0.15);\n",
              "      filter: drop-shadow(0px 1px 2px rgba(0, 0, 0, 0.3));\n",
              "      fill: #FFFFFF;\n",
              "    }\n",
              "  </style>\n",
              "\n",
              "      <script>\n",
              "        const buttonEl =\n",
              "          document.querySelector('#df-60bdf918-7108-4ffc-96cd-2fa8de86890e button.colab-df-convert');\n",
              "        buttonEl.style.display =\n",
              "          google.colab.kernel.accessAllowed ? 'block' : 'none';\n",
              "\n",
              "        async function convertToInteractive(key) {\n",
              "          const element = document.querySelector('#df-60bdf918-7108-4ffc-96cd-2fa8de86890e');\n",
              "          const dataTable =\n",
              "            await google.colab.kernel.invokeFunction('convertToInteractive',\n",
              "                                                     [key], {});\n",
              "          if (!dataTable) return;\n",
              "\n",
              "          const docLinkHtml = 'Like what you see? Visit the ' +\n",
              "            '<a target=\"_blank\" href=https://colab.research.google.com/notebooks/data_table.ipynb>data table notebook</a>'\n",
              "            + ' to learn more about interactive tables.';\n",
              "          element.innerHTML = '';\n",
              "          dataTable['output_type'] = 'display_data';\n",
              "          await google.colab.output.renderOutput(dataTable, element);\n",
              "          const docLink = document.createElement('div');\n",
              "          docLink.innerHTML = docLinkHtml;\n",
              "          element.appendChild(docLink);\n",
              "        }\n",
              "      </script>\n",
              "    </div>\n",
              "  </div>\n",
              "  "
            ]
          },
          "metadata": {},
          "execution_count": 14
        }
      ],
      "source": [
        "data1.head()              #to see first five records"
      ]
    },
    {
      "cell_type": "code",
      "execution_count": 15,
      "metadata": {
        "colab": {
          "base_uri": "https://localhost:8080/"
        },
        "id": "sgbcfAK1HoJn",
        "outputId": "315fd52e-37f1-426d-eede-7710021c2e32"
      },
      "outputs": [
        {
          "output_type": "execute_result",
          "data": {
            "text/plain": [
              "CustomerID              0\n",
              "RetentionPotential      0\n",
              "City                    0\n",
              "DateOfRegistration      0\n",
              "OnlineCommunication     0\n",
              "AutomaticRefill         0\n",
              "DoorstepDelivery        0\n",
              "PreferredDeliveryDay    0\n",
              "dtype: int64"
            ]
          },
          "metadata": {},
          "execution_count": 15
        }
      ],
      "source": [
        "data1.isna().sum()         # Cheking whether there are missing values or not"
      ]
    },
    {
      "cell_type": "code",
      "execution_count": 16,
      "metadata": {
        "colab": {
          "base_uri": "https://localhost:8080/",
          "height": 250
        },
        "id": "7D6dQ-djHoJn",
        "outputId": "dc108c3e-fa49-41ff-9f5b-5f0d90b50830"
      },
      "outputs": [
        {
          "output_type": "execute_result",
          "data": {
            "text/plain": [
              "  CustomerID RetentionPotential   City DateOfRegistration  \\\n",
              "0     C37869                Low  CITY4          7/27/2011   \n",
              "1     C33841                Low  CITY1         11/19/2013   \n",
              "2     C29464                Low  CITY2          5/24/2010   \n",
              "3     C28158                Low  CITY1          6/19/2017   \n",
              "4     C22785               High  CITY2         12/13/2013   \n",
              "\n",
              "   OnlineCommunication  AutomaticRefill  DoorstepDelivery PreferredDeliveryDay  \n",
              "0                    0                0                 0             Thursday  \n",
              "1                    1                0                 1             Thursday  \n",
              "2                    0                0                 0              Tuesday  \n",
              "3                    1                0                 0             Saturday  \n",
              "4                    1                0                 0             Thursday  "
            ],
            "text/html": [
              "\n",
              "  <div id=\"df-edcfc8ca-5c54-4bbb-9491-b82a700088a9\">\n",
              "    <div class=\"colab-df-container\">\n",
              "      <div>\n",
              "<style scoped>\n",
              "    .dataframe tbody tr th:only-of-type {\n",
              "        vertical-align: middle;\n",
              "    }\n",
              "\n",
              "    .dataframe tbody tr th {\n",
              "        vertical-align: top;\n",
              "    }\n",
              "\n",
              "    .dataframe thead th {\n",
              "        text-align: right;\n",
              "    }\n",
              "</style>\n",
              "<table border=\"1\" class=\"dataframe\">\n",
              "  <thead>\n",
              "    <tr style=\"text-align: right;\">\n",
              "      <th></th>\n",
              "      <th>CustomerID</th>\n",
              "      <th>RetentionPotential</th>\n",
              "      <th>City</th>\n",
              "      <th>DateOfRegistration</th>\n",
              "      <th>OnlineCommunication</th>\n",
              "      <th>AutomaticRefill</th>\n",
              "      <th>DoorstepDelivery</th>\n",
              "      <th>PreferredDeliveryDay</th>\n",
              "    </tr>\n",
              "  </thead>\n",
              "  <tbody>\n",
              "    <tr>\n",
              "      <th>0</th>\n",
              "      <td>C37869</td>\n",
              "      <td>Low</td>\n",
              "      <td>CITY4</td>\n",
              "      <td>7/27/2011</td>\n",
              "      <td>0</td>\n",
              "      <td>0</td>\n",
              "      <td>0</td>\n",
              "      <td>Thursday</td>\n",
              "    </tr>\n",
              "    <tr>\n",
              "      <th>1</th>\n",
              "      <td>C33841</td>\n",
              "      <td>Low</td>\n",
              "      <td>CITY1</td>\n",
              "      <td>11/19/2013</td>\n",
              "      <td>1</td>\n",
              "      <td>0</td>\n",
              "      <td>1</td>\n",
              "      <td>Thursday</td>\n",
              "    </tr>\n",
              "    <tr>\n",
              "      <th>2</th>\n",
              "      <td>C29464</td>\n",
              "      <td>Low</td>\n",
              "      <td>CITY2</td>\n",
              "      <td>5/24/2010</td>\n",
              "      <td>0</td>\n",
              "      <td>0</td>\n",
              "      <td>0</td>\n",
              "      <td>Tuesday</td>\n",
              "    </tr>\n",
              "    <tr>\n",
              "      <th>3</th>\n",
              "      <td>C28158</td>\n",
              "      <td>Low</td>\n",
              "      <td>CITY1</td>\n",
              "      <td>6/19/2017</td>\n",
              "      <td>1</td>\n",
              "      <td>0</td>\n",
              "      <td>0</td>\n",
              "      <td>Saturday</td>\n",
              "    </tr>\n",
              "    <tr>\n",
              "      <th>4</th>\n",
              "      <td>C22785</td>\n",
              "      <td>High</td>\n",
              "      <td>CITY2</td>\n",
              "      <td>12/13/2013</td>\n",
              "      <td>1</td>\n",
              "      <td>0</td>\n",
              "      <td>0</td>\n",
              "      <td>Thursday</td>\n",
              "    </tr>\n",
              "  </tbody>\n",
              "</table>\n",
              "</div>\n",
              "      <button class=\"colab-df-convert\" onclick=\"convertToInteractive('df-edcfc8ca-5c54-4bbb-9491-b82a700088a9')\"\n",
              "              title=\"Convert this dataframe to an interactive table.\"\n",
              "              style=\"display:none;\">\n",
              "        \n",
              "  <svg xmlns=\"http://www.w3.org/2000/svg\" height=\"24px\"viewBox=\"0 0 24 24\"\n",
              "       width=\"24px\">\n",
              "    <path d=\"M0 0h24v24H0V0z\" fill=\"none\"/>\n",
              "    <path d=\"M18.56 5.44l.94 2.06.94-2.06 2.06-.94-2.06-.94-.94-2.06-.94 2.06-2.06.94zm-11 1L8.5 8.5l.94-2.06 2.06-.94-2.06-.94L8.5 2.5l-.94 2.06-2.06.94zm10 10l.94 2.06.94-2.06 2.06-.94-2.06-.94-.94-2.06-.94 2.06-2.06.94z\"/><path d=\"M17.41 7.96l-1.37-1.37c-.4-.4-.92-.59-1.43-.59-.52 0-1.04.2-1.43.59L10.3 9.45l-7.72 7.72c-.78.78-.78 2.05 0 2.83L4 21.41c.39.39.9.59 1.41.59.51 0 1.02-.2 1.41-.59l7.78-7.78 2.81-2.81c.8-.78.8-2.07 0-2.86zM5.41 20L4 18.59l7.72-7.72 1.47 1.35L5.41 20z\"/>\n",
              "  </svg>\n",
              "      </button>\n",
              "      \n",
              "  <style>\n",
              "    .colab-df-container {\n",
              "      display:flex;\n",
              "      flex-wrap:wrap;\n",
              "      gap: 12px;\n",
              "    }\n",
              "\n",
              "    .colab-df-convert {\n",
              "      background-color: #E8F0FE;\n",
              "      border: none;\n",
              "      border-radius: 50%;\n",
              "      cursor: pointer;\n",
              "      display: none;\n",
              "      fill: #1967D2;\n",
              "      height: 32px;\n",
              "      padding: 0 0 0 0;\n",
              "      width: 32px;\n",
              "    }\n",
              "\n",
              "    .colab-df-convert:hover {\n",
              "      background-color: #E2EBFA;\n",
              "      box-shadow: 0px 1px 2px rgba(60, 64, 67, 0.3), 0px 1px 3px 1px rgba(60, 64, 67, 0.15);\n",
              "      fill: #174EA6;\n",
              "    }\n",
              "\n",
              "    [theme=dark] .colab-df-convert {\n",
              "      background-color: #3B4455;\n",
              "      fill: #D2E3FC;\n",
              "    }\n",
              "\n",
              "    [theme=dark] .colab-df-convert:hover {\n",
              "      background-color: #434B5C;\n",
              "      box-shadow: 0px 1px 3px 1px rgba(0, 0, 0, 0.15);\n",
              "      filter: drop-shadow(0px 1px 2px rgba(0, 0, 0, 0.3));\n",
              "      fill: #FFFFFF;\n",
              "    }\n",
              "  </style>\n",
              "\n",
              "      <script>\n",
              "        const buttonEl =\n",
              "          document.querySelector('#df-edcfc8ca-5c54-4bbb-9491-b82a700088a9 button.colab-df-convert');\n",
              "        buttonEl.style.display =\n",
              "          google.colab.kernel.accessAllowed ? 'block' : 'none';\n",
              "\n",
              "        async function convertToInteractive(key) {\n",
              "          const element = document.querySelector('#df-edcfc8ca-5c54-4bbb-9491-b82a700088a9');\n",
              "          const dataTable =\n",
              "            await google.colab.kernel.invokeFunction('convertToInteractive',\n",
              "                                                     [key], {});\n",
              "          if (!dataTable) return;\n",
              "\n",
              "          const docLinkHtml = 'Like what you see? Visit the ' +\n",
              "            '<a target=\"_blank\" href=https://colab.research.google.com/notebooks/data_table.ipynb>data table notebook</a>'\n",
              "            + ' to learn more about interactive tables.';\n",
              "          element.innerHTML = '';\n",
              "          dataTable['output_type'] = 'display_data';\n",
              "          await google.colab.output.renderOutput(dataTable, element);\n",
              "          const docLink = document.createElement('div');\n",
              "          docLink.innerHTML = docLinkHtml;\n",
              "          element.appendChild(docLink);\n",
              "        }\n",
              "      </script>\n",
              "    </div>\n",
              "  </div>\n",
              "  "
            ]
          },
          "metadata": {},
          "execution_count": 16
        }
      ],
      "source": [
        "data1.head()"
      ]
    },
    {
      "cell_type": "code",
      "execution_count": 17,
      "metadata": {
        "colab": {
          "base_uri": "https://localhost:8080/"
        },
        "id": "guCtOEZUHoJo",
        "outputId": "67be3ead-eed6-402d-fc1b-b7578b333335"
      },
      "outputs": [
        {
          "output_type": "execute_result",
          "data": {
            "text/plain": [
              "CustomerID              23820\n",
              "RetentionPotential          3\n",
              "City                        4\n",
              "DateOfRegistration       2673\n",
              "OnlineCommunication         2\n",
              "AutomaticRefill             2\n",
              "DoorstepDelivery            2\n",
              "PreferredDeliveryDay        7\n",
              "dtype: int64"
            ]
          },
          "metadata": {},
          "execution_count": 17
        }
      ],
      "source": [
        "data1.nunique()"
      ]
    },
    {
      "cell_type": "code",
      "execution_count": 18,
      "metadata": {
        "colab": {
          "base_uri": "https://localhost:8080/"
        },
        "id": "J4aiWLlOHoJo",
        "outputId": "cac6f05b-9ed9-4f0a-f270-35a1f88bf7a0"
      },
      "outputs": [
        {
          "output_type": "execute_result",
          "data": {
            "text/plain": [
              "Low       19185\n",
              "High       3756\n",
              "Medium      879\n",
              "Name: RetentionPotential, dtype: int64"
            ]
          },
          "metadata": {},
          "execution_count": 18
        }
      ],
      "source": [
        "data1['RetentionPotential'].value_counts()"
      ]
    },
    {
      "cell_type": "markdown",
      "metadata": {
        "id": "JNrQLN8wHoJo"
      },
      "source": [
        "Since timestamp is not required so we can drop from files in df3 and df4"
      ]
    },
    {
      "cell_type": "code",
      "execution_count": 19,
      "metadata": {
        "id": "yWhOKU2IHoJo"
      },
      "outputs": [],
      "source": [
        "df3 = df3.drop('timestamp',axis=1)"
      ]
    },
    {
      "cell_type": "code",
      "execution_count": 20,
      "metadata": {
        "colab": {
          "base_uri": "https://localhost:8080/"
        },
        "id": "Kz3YDKdTHoJo",
        "outputId": "97512a97-e204-4f87-8997-2d5e8e19fcc0"
      },
      "outputs": [
        {
          "output_type": "execute_result",
          "data": {
            "text/plain": [
              "CustomerID       23820\n",
              "DateOfOrder       3151\n",
              "OrderQuantity      451\n",
              "dtype: int64"
            ]
          },
          "metadata": {},
          "execution_count": 20
        }
      ],
      "source": [
        "df3.nunique()"
      ]
    },
    {
      "cell_type": "code",
      "execution_count": 21,
      "metadata": {
        "id": "ypnOOvtcHoJo"
      },
      "outputs": [],
      "source": [
        "df4 = df4.drop(['timestamp'],axis=1)"
      ]
    },
    {
      "cell_type": "code",
      "execution_count": 22,
      "metadata": {
        "colab": {
          "base_uri": "https://localhost:8080/"
        },
        "id": "1RVaSc-FHoJo",
        "outputId": "8af8f690-6d88-49cb-b705-71dd74e0c6d0"
      },
      "outputs": [
        {
          "output_type": "execute_result",
          "data": {
            "text/plain": [
              "CustomerID     23820\n",
              "DateOfemail     3382\n",
              "EmailType          2\n",
              "MailOpened         2\n",
              "MailClicked        3\n",
              "dtype: int64"
            ]
          },
          "metadata": {},
          "execution_count": 22
        }
      ],
      "source": [
        "df4.nunique()"
      ]
    },
    {
      "cell_type": "code",
      "execution_count": 23,
      "metadata": {
        "colab": {
          "base_uri": "https://localhost:8080/"
        },
        "id": "A_e7SlYAHoJo",
        "outputId": "0f63c339-3ff9-47eb-959a-cc8777862898"
      },
      "outputs": [
        {
          "output_type": "execute_result",
          "data": {
            "text/plain": [
              "CustomizedEmail    493852\n",
              "WelcomeEmail        23820\n",
              "Name: EmailType, dtype: int64"
            ]
          },
          "metadata": {},
          "execution_count": 23
        }
      ],
      "source": [
        "df4['EmailType'].value_counts()"
      ]
    },
    {
      "cell_type": "markdown",
      "metadata": {
        "id": "_uD6FswMHoJo"
      },
      "source": [
        "Here we observed the no of customers are having one welcome mail and customized mail"
      ]
    },
    {
      "cell_type": "code",
      "execution_count": 24,
      "metadata": {
        "colab": {
          "base_uri": "https://localhost:8080/"
        },
        "id": "V0dhUYlBHoJp",
        "outputId": "bbd21838-f5e1-4d3c-b32e-95641294a8d8"
      },
      "outputs": [
        {
          "output_type": "stream",
          "name": "stdout",
          "text": [
            "Index(['CustomerID', 'RetentionPotential', 'City', 'DateOfRegistration',\n",
            "       'OnlineCommunication', 'AutomaticRefill', 'DoorstepDelivery',\n",
            "       'PreferredDeliveryDay'],\n",
            "      dtype='object')\n",
            "Index(['CustomerID', 'DateOfOrder', 'OrderQuantity'], dtype='object')\n",
            "Index(['CustomerID', 'DateOfemail', 'EmailType', 'MailOpened', 'MailClicked'], dtype='object')\n"
          ]
        }
      ],
      "source": [
        "print(data1.columns)\n",
        "print(df3.columns)\n",
        "print(df4.columns)"
      ]
    },
    {
      "cell_type": "markdown",
      "metadata": {
        "id": "rKrDVKP4HoJp"
      },
      "source": [
        "Taking sum of order quantity for all customers to see total orderquantity\n",
        "Count for order quantity "
      ]
    },
    {
      "cell_type": "code",
      "execution_count": 25,
      "metadata": {
        "id": "WyChrJJIHoJp"
      },
      "outputs": [],
      "source": [
        "d1 = df3.groupby(['CustomerID'])['OrderQuantity'].agg(sum).reset_index()"
      ]
    },
    {
      "cell_type": "code",
      "execution_count": 26,
      "metadata": {
        "id": "U3RB7P3zHoJp"
      },
      "outputs": [],
      "source": [
        "new = df3.groupby(['CustomerID'])['OrderQuantity'].count().reset_index()\n",
        "new = new.rename(columns={'OrderQuantity':'No_Of_Orders'})"
      ]
    },
    {
      "cell_type": "code",
      "execution_count": 27,
      "metadata": {
        "id": "Ve8eCYtfHoJp"
      },
      "outputs": [],
      "source": [
        "d1 = d1.merge(new,on='CustomerID')"
      ]
    },
    {
      "cell_type": "code",
      "execution_count": 28,
      "metadata": {
        "colab": {
          "base_uri": "https://localhost:8080/",
          "height": 206
        },
        "id": "MK2Io7kdHoJp",
        "outputId": "ff364f1e-d3cc-4163-cb64-6c90628b9e86"
      },
      "outputs": [
        {
          "output_type": "execute_result",
          "data": {
            "text/plain": [
              "  CustomerID  OrderQuantity  No_Of_Orders\n",
              "0     C12116            115             3\n",
              "1     C12117             41             1\n",
              "2     C12118             41             1\n",
              "3     C12119             52             1\n",
              "4     C12120             31             1"
            ],
            "text/html": [
              "\n",
              "  <div id=\"df-0edf1d68-b1d7-41be-8ae0-e58d3e43a48f\">\n",
              "    <div class=\"colab-df-container\">\n",
              "      <div>\n",
              "<style scoped>\n",
              "    .dataframe tbody tr th:only-of-type {\n",
              "        vertical-align: middle;\n",
              "    }\n",
              "\n",
              "    .dataframe tbody tr th {\n",
              "        vertical-align: top;\n",
              "    }\n",
              "\n",
              "    .dataframe thead th {\n",
              "        text-align: right;\n",
              "    }\n",
              "</style>\n",
              "<table border=\"1\" class=\"dataframe\">\n",
              "  <thead>\n",
              "    <tr style=\"text-align: right;\">\n",
              "      <th></th>\n",
              "      <th>CustomerID</th>\n",
              "      <th>OrderQuantity</th>\n",
              "      <th>No_Of_Orders</th>\n",
              "    </tr>\n",
              "  </thead>\n",
              "  <tbody>\n",
              "    <tr>\n",
              "      <th>0</th>\n",
              "      <td>C12116</td>\n",
              "      <td>115</td>\n",
              "      <td>3</td>\n",
              "    </tr>\n",
              "    <tr>\n",
              "      <th>1</th>\n",
              "      <td>C12117</td>\n",
              "      <td>41</td>\n",
              "      <td>1</td>\n",
              "    </tr>\n",
              "    <tr>\n",
              "      <th>2</th>\n",
              "      <td>C12118</td>\n",
              "      <td>41</td>\n",
              "      <td>1</td>\n",
              "    </tr>\n",
              "    <tr>\n",
              "      <th>3</th>\n",
              "      <td>C12119</td>\n",
              "      <td>52</td>\n",
              "      <td>1</td>\n",
              "    </tr>\n",
              "    <tr>\n",
              "      <th>4</th>\n",
              "      <td>C12120</td>\n",
              "      <td>31</td>\n",
              "      <td>1</td>\n",
              "    </tr>\n",
              "  </tbody>\n",
              "</table>\n",
              "</div>\n",
              "      <button class=\"colab-df-convert\" onclick=\"convertToInteractive('df-0edf1d68-b1d7-41be-8ae0-e58d3e43a48f')\"\n",
              "              title=\"Convert this dataframe to an interactive table.\"\n",
              "              style=\"display:none;\">\n",
              "        \n",
              "  <svg xmlns=\"http://www.w3.org/2000/svg\" height=\"24px\"viewBox=\"0 0 24 24\"\n",
              "       width=\"24px\">\n",
              "    <path d=\"M0 0h24v24H0V0z\" fill=\"none\"/>\n",
              "    <path d=\"M18.56 5.44l.94 2.06.94-2.06 2.06-.94-2.06-.94-.94-2.06-.94 2.06-2.06.94zm-11 1L8.5 8.5l.94-2.06 2.06-.94-2.06-.94L8.5 2.5l-.94 2.06-2.06.94zm10 10l.94 2.06.94-2.06 2.06-.94-2.06-.94-.94-2.06-.94 2.06-2.06.94z\"/><path d=\"M17.41 7.96l-1.37-1.37c-.4-.4-.92-.59-1.43-.59-.52 0-1.04.2-1.43.59L10.3 9.45l-7.72 7.72c-.78.78-.78 2.05 0 2.83L4 21.41c.39.39.9.59 1.41.59.51 0 1.02-.2 1.41-.59l7.78-7.78 2.81-2.81c.8-.78.8-2.07 0-2.86zM5.41 20L4 18.59l7.72-7.72 1.47 1.35L5.41 20z\"/>\n",
              "  </svg>\n",
              "      </button>\n",
              "      \n",
              "  <style>\n",
              "    .colab-df-container {\n",
              "      display:flex;\n",
              "      flex-wrap:wrap;\n",
              "      gap: 12px;\n",
              "    }\n",
              "\n",
              "    .colab-df-convert {\n",
              "      background-color: #E8F0FE;\n",
              "      border: none;\n",
              "      border-radius: 50%;\n",
              "      cursor: pointer;\n",
              "      display: none;\n",
              "      fill: #1967D2;\n",
              "      height: 32px;\n",
              "      padding: 0 0 0 0;\n",
              "      width: 32px;\n",
              "    }\n",
              "\n",
              "    .colab-df-convert:hover {\n",
              "      background-color: #E2EBFA;\n",
              "      box-shadow: 0px 1px 2px rgba(60, 64, 67, 0.3), 0px 1px 3px 1px rgba(60, 64, 67, 0.15);\n",
              "      fill: #174EA6;\n",
              "    }\n",
              "\n",
              "    [theme=dark] .colab-df-convert {\n",
              "      background-color: #3B4455;\n",
              "      fill: #D2E3FC;\n",
              "    }\n",
              "\n",
              "    [theme=dark] .colab-df-convert:hover {\n",
              "      background-color: #434B5C;\n",
              "      box-shadow: 0px 1px 3px 1px rgba(0, 0, 0, 0.15);\n",
              "      filter: drop-shadow(0px 1px 2px rgba(0, 0, 0, 0.3));\n",
              "      fill: #FFFFFF;\n",
              "    }\n",
              "  </style>\n",
              "\n",
              "      <script>\n",
              "        const buttonEl =\n",
              "          document.querySelector('#df-0edf1d68-b1d7-41be-8ae0-e58d3e43a48f button.colab-df-convert');\n",
              "        buttonEl.style.display =\n",
              "          google.colab.kernel.accessAllowed ? 'block' : 'none';\n",
              "\n",
              "        async function convertToInteractive(key) {\n",
              "          const element = document.querySelector('#df-0edf1d68-b1d7-41be-8ae0-e58d3e43a48f');\n",
              "          const dataTable =\n",
              "            await google.colab.kernel.invokeFunction('convertToInteractive',\n",
              "                                                     [key], {});\n",
              "          if (!dataTable) return;\n",
              "\n",
              "          const docLinkHtml = 'Like what you see? Visit the ' +\n",
              "            '<a target=\"_blank\" href=https://colab.research.google.com/notebooks/data_table.ipynb>data table notebook</a>'\n",
              "            + ' to learn more about interactive tables.';\n",
              "          element.innerHTML = '';\n",
              "          dataTable['output_type'] = 'display_data';\n",
              "          await google.colab.output.renderOutput(dataTable, element);\n",
              "          const docLink = document.createElement('div');\n",
              "          docLink.innerHTML = docLinkHtml;\n",
              "          element.appendChild(docLink);\n",
              "        }\n",
              "      </script>\n",
              "    </div>\n",
              "  </div>\n",
              "  "
            ]
          },
          "metadata": {},
          "execution_count": 28
        }
      ],
      "source": [
        "d1.head()"
      ]
    },
    {
      "cell_type": "code",
      "execution_count": 29,
      "metadata": {
        "colab": {
          "base_uri": "https://localhost:8080/"
        },
        "id": "uXTghG6SHoJp",
        "outputId": "a60a6848-8d59-484d-fc9e-7332c8b14fd3"
      },
      "outputs": [
        {
          "output_type": "execute_result",
          "data": {
            "text/plain": [
              "(23820, 3)"
            ]
          },
          "metadata": {},
          "execution_count": 29
        }
      ],
      "source": [
        "d1.shape"
      ]
    },
    {
      "cell_type": "code",
      "execution_count": 30,
      "metadata": {
        "colab": {
          "base_uri": "https://localhost:8080/"
        },
        "id": "sMabcOuIHoJp",
        "outputId": "8f7b455a-6385-49cc-873f-2843d90d57a5"
      },
      "outputs": [
        {
          "output_type": "execute_result",
          "data": {
            "text/plain": [
              "(23820, 3)"
            ]
          },
          "metadata": {},
          "execution_count": 30
        }
      ],
      "source": [
        "d1.shape"
      ]
    },
    {
      "cell_type": "code",
      "execution_count": 31,
      "metadata": {
        "colab": {
          "base_uri": "https://localhost:8080/"
        },
        "id": "IHnK1NYkHoJp",
        "outputId": "fc3f2c7a-e8af-47b3-aa15-eaa261294148"
      },
      "outputs": [
        {
          "output_type": "execute_result",
          "data": {
            "text/plain": [
              "CustomerID       23820\n",
              "OrderQuantity     2206\n",
              "No_Of_Orders       150\n",
              "dtype: int64"
            ]
          },
          "metadata": {},
          "execution_count": 31
        }
      ],
      "source": [
        "d1.nunique()"
      ]
    },
    {
      "cell_type": "code",
      "execution_count": 32,
      "metadata": {
        "colab": {
          "base_uri": "https://localhost:8080/"
        },
        "id": "rShXbGN-HoJq",
        "outputId": "14d92a7e-7152-4f9f-96ec-e3507c1fd827"
      },
      "outputs": [
        {
          "output_type": "execute_result",
          "data": {
            "text/plain": [
              "Index(['CustomerID', 'RetentionPotential', 'City', 'DateOfRegistration',\n",
              "       'OnlineCommunication', 'AutomaticRefill', 'DoorstepDelivery',\n",
              "       'PreferredDeliveryDay'],\n",
              "      dtype='object')"
            ]
          },
          "metadata": {},
          "execution_count": 32
        }
      ],
      "source": [
        "data1.columns"
      ]
    },
    {
      "cell_type": "code",
      "execution_count": 33,
      "metadata": {
        "id": "gHKuLTHkHoJq"
      },
      "outputs": [],
      "source": [
        "data2 = pd.merge(data1,d1,on=['CustomerID'],how='inner') #Merging the data1 and d1 file based on customers"
      ]
    },
    {
      "cell_type": "code",
      "execution_count": 34,
      "metadata": {
        "colab": {
          "base_uri": "https://localhost:8080/"
        },
        "id": "sa7YWi6XHoJq",
        "outputId": "4f721858-bebd-451b-97d9-7f592171d856"
      },
      "outputs": [
        {
          "output_type": "execute_result",
          "data": {
            "text/plain": [
              "(23820, 10)"
            ]
          },
          "metadata": {},
          "execution_count": 34
        }
      ],
      "source": [
        "data2.shape"
      ]
    },
    {
      "cell_type": "code",
      "execution_count": 35,
      "metadata": {
        "colab": {
          "base_uri": "https://localhost:8080/",
          "height": 270
        },
        "id": "kMEgMJWZHoJq",
        "outputId": "0bf0d584-18eb-45eb-de84-a28865f92e57"
      },
      "outputs": [
        {
          "output_type": "execute_result",
          "data": {
            "text/plain": [
              "  CustomerID RetentionPotential   City DateOfRegistration  \\\n",
              "0     C37869                Low  CITY4          7/27/2011   \n",
              "1     C33841                Low  CITY1         11/19/2013   \n",
              "2     C29464                Low  CITY2          5/24/2010   \n",
              "3     C28158                Low  CITY1          6/19/2017   \n",
              "4     C22785               High  CITY2         12/13/2013   \n",
              "\n",
              "   OnlineCommunication  AutomaticRefill  DoorstepDelivery  \\\n",
              "0                    0                0                 0   \n",
              "1                    1                0                 1   \n",
              "2                    0                0                 0   \n",
              "3                    1                0                 0   \n",
              "4                    1                0                 0   \n",
              "\n",
              "  PreferredDeliveryDay  OrderQuantity  No_Of_Orders  \n",
              "0             Thursday            982             8  \n",
              "1             Thursday             43             1  \n",
              "2              Tuesday             51             1  \n",
              "3             Saturday             60             1  \n",
              "4             Thursday             41             1  "
            ],
            "text/html": [
              "\n",
              "  <div id=\"df-a5e50686-3758-4dca-81c2-79b6df216eb9\">\n",
              "    <div class=\"colab-df-container\">\n",
              "      <div>\n",
              "<style scoped>\n",
              "    .dataframe tbody tr th:only-of-type {\n",
              "        vertical-align: middle;\n",
              "    }\n",
              "\n",
              "    .dataframe tbody tr th {\n",
              "        vertical-align: top;\n",
              "    }\n",
              "\n",
              "    .dataframe thead th {\n",
              "        text-align: right;\n",
              "    }\n",
              "</style>\n",
              "<table border=\"1\" class=\"dataframe\">\n",
              "  <thead>\n",
              "    <tr style=\"text-align: right;\">\n",
              "      <th></th>\n",
              "      <th>CustomerID</th>\n",
              "      <th>RetentionPotential</th>\n",
              "      <th>City</th>\n",
              "      <th>DateOfRegistration</th>\n",
              "      <th>OnlineCommunication</th>\n",
              "      <th>AutomaticRefill</th>\n",
              "      <th>DoorstepDelivery</th>\n",
              "      <th>PreferredDeliveryDay</th>\n",
              "      <th>OrderQuantity</th>\n",
              "      <th>No_Of_Orders</th>\n",
              "    </tr>\n",
              "  </thead>\n",
              "  <tbody>\n",
              "    <tr>\n",
              "      <th>0</th>\n",
              "      <td>C37869</td>\n",
              "      <td>Low</td>\n",
              "      <td>CITY4</td>\n",
              "      <td>7/27/2011</td>\n",
              "      <td>0</td>\n",
              "      <td>0</td>\n",
              "      <td>0</td>\n",
              "      <td>Thursday</td>\n",
              "      <td>982</td>\n",
              "      <td>8</td>\n",
              "    </tr>\n",
              "    <tr>\n",
              "      <th>1</th>\n",
              "      <td>C33841</td>\n",
              "      <td>Low</td>\n",
              "      <td>CITY1</td>\n",
              "      <td>11/19/2013</td>\n",
              "      <td>1</td>\n",
              "      <td>0</td>\n",
              "      <td>1</td>\n",
              "      <td>Thursday</td>\n",
              "      <td>43</td>\n",
              "      <td>1</td>\n",
              "    </tr>\n",
              "    <tr>\n",
              "      <th>2</th>\n",
              "      <td>C29464</td>\n",
              "      <td>Low</td>\n",
              "      <td>CITY2</td>\n",
              "      <td>5/24/2010</td>\n",
              "      <td>0</td>\n",
              "      <td>0</td>\n",
              "      <td>0</td>\n",
              "      <td>Tuesday</td>\n",
              "      <td>51</td>\n",
              "      <td>1</td>\n",
              "    </tr>\n",
              "    <tr>\n",
              "      <th>3</th>\n",
              "      <td>C28158</td>\n",
              "      <td>Low</td>\n",
              "      <td>CITY1</td>\n",
              "      <td>6/19/2017</td>\n",
              "      <td>1</td>\n",
              "      <td>0</td>\n",
              "      <td>0</td>\n",
              "      <td>Saturday</td>\n",
              "      <td>60</td>\n",
              "      <td>1</td>\n",
              "    </tr>\n",
              "    <tr>\n",
              "      <th>4</th>\n",
              "      <td>C22785</td>\n",
              "      <td>High</td>\n",
              "      <td>CITY2</td>\n",
              "      <td>12/13/2013</td>\n",
              "      <td>1</td>\n",
              "      <td>0</td>\n",
              "      <td>0</td>\n",
              "      <td>Thursday</td>\n",
              "      <td>41</td>\n",
              "      <td>1</td>\n",
              "    </tr>\n",
              "  </tbody>\n",
              "</table>\n",
              "</div>\n",
              "      <button class=\"colab-df-convert\" onclick=\"convertToInteractive('df-a5e50686-3758-4dca-81c2-79b6df216eb9')\"\n",
              "              title=\"Convert this dataframe to an interactive table.\"\n",
              "              style=\"display:none;\">\n",
              "        \n",
              "  <svg xmlns=\"http://www.w3.org/2000/svg\" height=\"24px\"viewBox=\"0 0 24 24\"\n",
              "       width=\"24px\">\n",
              "    <path d=\"M0 0h24v24H0V0z\" fill=\"none\"/>\n",
              "    <path d=\"M18.56 5.44l.94 2.06.94-2.06 2.06-.94-2.06-.94-.94-2.06-.94 2.06-2.06.94zm-11 1L8.5 8.5l.94-2.06 2.06-.94-2.06-.94L8.5 2.5l-.94 2.06-2.06.94zm10 10l.94 2.06.94-2.06 2.06-.94-2.06-.94-.94-2.06-.94 2.06-2.06.94z\"/><path d=\"M17.41 7.96l-1.37-1.37c-.4-.4-.92-.59-1.43-.59-.52 0-1.04.2-1.43.59L10.3 9.45l-7.72 7.72c-.78.78-.78 2.05 0 2.83L4 21.41c.39.39.9.59 1.41.59.51 0 1.02-.2 1.41-.59l7.78-7.78 2.81-2.81c.8-.78.8-2.07 0-2.86zM5.41 20L4 18.59l7.72-7.72 1.47 1.35L5.41 20z\"/>\n",
              "  </svg>\n",
              "      </button>\n",
              "      \n",
              "  <style>\n",
              "    .colab-df-container {\n",
              "      display:flex;\n",
              "      flex-wrap:wrap;\n",
              "      gap: 12px;\n",
              "    }\n",
              "\n",
              "    .colab-df-convert {\n",
              "      background-color: #E8F0FE;\n",
              "      border: none;\n",
              "      border-radius: 50%;\n",
              "      cursor: pointer;\n",
              "      display: none;\n",
              "      fill: #1967D2;\n",
              "      height: 32px;\n",
              "      padding: 0 0 0 0;\n",
              "      width: 32px;\n",
              "    }\n",
              "\n",
              "    .colab-df-convert:hover {\n",
              "      background-color: #E2EBFA;\n",
              "      box-shadow: 0px 1px 2px rgba(60, 64, 67, 0.3), 0px 1px 3px 1px rgba(60, 64, 67, 0.15);\n",
              "      fill: #174EA6;\n",
              "    }\n",
              "\n",
              "    [theme=dark] .colab-df-convert {\n",
              "      background-color: #3B4455;\n",
              "      fill: #D2E3FC;\n",
              "    }\n",
              "\n",
              "    [theme=dark] .colab-df-convert:hover {\n",
              "      background-color: #434B5C;\n",
              "      box-shadow: 0px 1px 3px 1px rgba(0, 0, 0, 0.15);\n",
              "      filter: drop-shadow(0px 1px 2px rgba(0, 0, 0, 0.3));\n",
              "      fill: #FFFFFF;\n",
              "    }\n",
              "  </style>\n",
              "\n",
              "      <script>\n",
              "        const buttonEl =\n",
              "          document.querySelector('#df-a5e50686-3758-4dca-81c2-79b6df216eb9 button.colab-df-convert');\n",
              "        buttonEl.style.display =\n",
              "          google.colab.kernel.accessAllowed ? 'block' : 'none';\n",
              "\n",
              "        async function convertToInteractive(key) {\n",
              "          const element = document.querySelector('#df-a5e50686-3758-4dca-81c2-79b6df216eb9');\n",
              "          const dataTable =\n",
              "            await google.colab.kernel.invokeFunction('convertToInteractive',\n",
              "                                                     [key], {});\n",
              "          if (!dataTable) return;\n",
              "\n",
              "          const docLinkHtml = 'Like what you see? Visit the ' +\n",
              "            '<a target=\"_blank\" href=https://colab.research.google.com/notebooks/data_table.ipynb>data table notebook</a>'\n",
              "            + ' to learn more about interactive tables.';\n",
              "          element.innerHTML = '';\n",
              "          dataTable['output_type'] = 'display_data';\n",
              "          await google.colab.output.renderOutput(dataTable, element);\n",
              "          const docLink = document.createElement('div');\n",
              "          docLink.innerHTML = docLinkHtml;\n",
              "          element.appendChild(docLink);\n",
              "        }\n",
              "      </script>\n",
              "    </div>\n",
              "  </div>\n",
              "  "
            ]
          },
          "metadata": {},
          "execution_count": 35
        }
      ],
      "source": [
        "data2.head()"
      ]
    },
    {
      "cell_type": "code",
      "execution_count": 36,
      "metadata": {
        "colab": {
          "base_uri": "https://localhost:8080/"
        },
        "id": "nZET8s6bHoJq",
        "outputId": "2cb6c944-b236-4348-828b-960a708a2d3f"
      },
      "outputs": [
        {
          "output_type": "execute_result",
          "data": {
            "text/plain": [
              "CustomerID              23820\n",
              "RetentionPotential          3\n",
              "City                        4\n",
              "DateOfRegistration       2673\n",
              "OnlineCommunication         2\n",
              "AutomaticRefill             2\n",
              "DoorstepDelivery            2\n",
              "PreferredDeliveryDay        7\n",
              "OrderQuantity            2206\n",
              "No_Of_Orders              150\n",
              "dtype: int64"
            ]
          },
          "metadata": {},
          "execution_count": 36
        }
      ],
      "source": [
        "data2.nunique()"
      ]
    },
    {
      "cell_type": "code",
      "execution_count": 37,
      "metadata": {
        "colab": {
          "base_uri": "https://localhost:8080/"
        },
        "id": "Ivn9mvb1HoJq",
        "outputId": "ec1513d5-5cbc-4636-830d-5fca6f91f383"
      },
      "outputs": [
        {
          "output_type": "execute_result",
          "data": {
            "text/plain": [
              "Index(['CustomerID', 'DateOfemail', 'EmailType', 'MailOpened', 'MailClicked'], dtype='object')"
            ]
          },
          "metadata": {},
          "execution_count": 37
        }
      ],
      "source": [
        "df4.columns"
      ]
    },
    {
      "cell_type": "code",
      "execution_count": 38,
      "metadata": {
        "colab": {
          "base_uri": "https://localhost:8080/"
        },
        "id": "d0vznGPbHoJq",
        "outputId": "016c8199-d0f7-4e11-c375-acf5a8c35fd4"
      },
      "outputs": [
        {
          "output_type": "execute_result",
          "data": {
            "text/plain": [
              "(517672, 5)"
            ]
          },
          "metadata": {},
          "execution_count": 38
        }
      ],
      "source": [
        "df4.shape"
      ]
    },
    {
      "cell_type": "markdown",
      "metadata": {
        "id": "5SbaOjM3HoJq"
      },
      "source": [
        "Since the dimension for df4 is very high becasue the data is given for every instance \n",
        "so we have to reduce the dimension according to unique customers"
      ]
    },
    {
      "cell_type": "code",
      "execution_count": 39,
      "metadata": {
        "colab": {
          "base_uri": "https://localhost:8080/"
        },
        "id": "aK9qOXcbHoJq",
        "outputId": "6f4baa55-c5f4-4c08-b72c-713e972ff7f4"
      },
      "outputs": [
        {
          "output_type": "execute_result",
          "data": {
            "text/plain": [
              "CustomerID     23820\n",
              "DateOfemail     3382\n",
              "EmailType          2\n",
              "MailOpened         2\n",
              "MailClicked        3\n",
              "dtype: int64"
            ]
          },
          "metadata": {},
          "execution_count": 39
        }
      ],
      "source": [
        "df4.nunique()"
      ]
    },
    {
      "cell_type": "code",
      "execution_count": 40,
      "metadata": {
        "colab": {
          "base_uri": "https://localhost:8080/"
        },
        "id": "k0IqNu92HoJq",
        "outputId": "6fe7f4f9-326f-44a6-8040-d93ae16d535f"
      },
      "outputs": [
        {
          "output_type": "execute_result",
          "data": {
            "text/plain": [
              "CustomizedEmail    493852\n",
              "WelcomeEmail        23820\n",
              "Name: EmailType, dtype: int64"
            ]
          },
          "metadata": {},
          "execution_count": 40
        }
      ],
      "source": [
        "df4['EmailType'].value_counts()  #Checking the counts for Emailtype column"
      ]
    },
    {
      "cell_type": "markdown",
      "metadata": {
        "id": "q_IHSRm5HoJr"
      },
      "source": [
        "Separated the Customers accoding to WelcomeEmail"
      ]
    },
    {
      "cell_type": "code",
      "execution_count": 41,
      "metadata": {
        "id": "MuzS7UQvHoJr"
      },
      "outputs": [],
      "source": [
        "df4_1 = df4.loc[df4['EmailType'] == 'WelcomeEmail']"
      ]
    },
    {
      "cell_type": "code",
      "execution_count": 42,
      "metadata": {
        "colab": {
          "base_uri": "https://localhost:8080/",
          "height": 424
        },
        "id": "UYjKlG2bHoJr",
        "outputId": "1c045168-8724-40f2-e312-592e10789cdb"
      },
      "outputs": [
        {
          "output_type": "execute_result",
          "data": {
            "text/plain": [
              "      CustomerID DateOfemail     EmailType MailOpened    MailClicked\n",
              "0         C16368  2012-09-28  WelcomeEmail        yes  NotApplicable\n",
              "1         C20345  2010-12-19  WelcomeEmail        yes  NotApplicable\n",
              "2         C17683  2010-10-03  WelcomeEmail        yes  NotApplicable\n",
              "3         C18647  2010-11-27  WelcomeEmail        yes  NotApplicable\n",
              "4         C36692  2009-12-04  WelcomeEmail        yes  NotApplicable\n",
              "...          ...         ...           ...        ...            ...\n",
              "23815     C23511  2018-01-17  WelcomeEmail        yes  NotApplicable\n",
              "23816     C12197  2018-01-17  WelcomeEmail        yes  NotApplicable\n",
              "23817     C40967  2018-01-17  WelcomeEmail        yes  NotApplicable\n",
              "23818     C36140  2018-01-17  WelcomeEmail        yes  NotApplicable\n",
              "23819     C42003  2018-01-17  WelcomeEmail        yes  NotApplicable\n",
              "\n",
              "[23820 rows x 5 columns]"
            ],
            "text/html": [
              "\n",
              "  <div id=\"df-d3a680eb-2729-4c38-8868-ef179d18b393\">\n",
              "    <div class=\"colab-df-container\">\n",
              "      <div>\n",
              "<style scoped>\n",
              "    .dataframe tbody tr th:only-of-type {\n",
              "        vertical-align: middle;\n",
              "    }\n",
              "\n",
              "    .dataframe tbody tr th {\n",
              "        vertical-align: top;\n",
              "    }\n",
              "\n",
              "    .dataframe thead th {\n",
              "        text-align: right;\n",
              "    }\n",
              "</style>\n",
              "<table border=\"1\" class=\"dataframe\">\n",
              "  <thead>\n",
              "    <tr style=\"text-align: right;\">\n",
              "      <th></th>\n",
              "      <th>CustomerID</th>\n",
              "      <th>DateOfemail</th>\n",
              "      <th>EmailType</th>\n",
              "      <th>MailOpened</th>\n",
              "      <th>MailClicked</th>\n",
              "    </tr>\n",
              "  </thead>\n",
              "  <tbody>\n",
              "    <tr>\n",
              "      <th>0</th>\n",
              "      <td>C16368</td>\n",
              "      <td>2012-09-28</td>\n",
              "      <td>WelcomeEmail</td>\n",
              "      <td>yes</td>\n",
              "      <td>NotApplicable</td>\n",
              "    </tr>\n",
              "    <tr>\n",
              "      <th>1</th>\n",
              "      <td>C20345</td>\n",
              "      <td>2010-12-19</td>\n",
              "      <td>WelcomeEmail</td>\n",
              "      <td>yes</td>\n",
              "      <td>NotApplicable</td>\n",
              "    </tr>\n",
              "    <tr>\n",
              "      <th>2</th>\n",
              "      <td>C17683</td>\n",
              "      <td>2010-10-03</td>\n",
              "      <td>WelcomeEmail</td>\n",
              "      <td>yes</td>\n",
              "      <td>NotApplicable</td>\n",
              "    </tr>\n",
              "    <tr>\n",
              "      <th>3</th>\n",
              "      <td>C18647</td>\n",
              "      <td>2010-11-27</td>\n",
              "      <td>WelcomeEmail</td>\n",
              "      <td>yes</td>\n",
              "      <td>NotApplicable</td>\n",
              "    </tr>\n",
              "    <tr>\n",
              "      <th>4</th>\n",
              "      <td>C36692</td>\n",
              "      <td>2009-12-04</td>\n",
              "      <td>WelcomeEmail</td>\n",
              "      <td>yes</td>\n",
              "      <td>NotApplicable</td>\n",
              "    </tr>\n",
              "    <tr>\n",
              "      <th>...</th>\n",
              "      <td>...</td>\n",
              "      <td>...</td>\n",
              "      <td>...</td>\n",
              "      <td>...</td>\n",
              "      <td>...</td>\n",
              "    </tr>\n",
              "    <tr>\n",
              "      <th>23815</th>\n",
              "      <td>C23511</td>\n",
              "      <td>2018-01-17</td>\n",
              "      <td>WelcomeEmail</td>\n",
              "      <td>yes</td>\n",
              "      <td>NotApplicable</td>\n",
              "    </tr>\n",
              "    <tr>\n",
              "      <th>23816</th>\n",
              "      <td>C12197</td>\n",
              "      <td>2018-01-17</td>\n",
              "      <td>WelcomeEmail</td>\n",
              "      <td>yes</td>\n",
              "      <td>NotApplicable</td>\n",
              "    </tr>\n",
              "    <tr>\n",
              "      <th>23817</th>\n",
              "      <td>C40967</td>\n",
              "      <td>2018-01-17</td>\n",
              "      <td>WelcomeEmail</td>\n",
              "      <td>yes</td>\n",
              "      <td>NotApplicable</td>\n",
              "    </tr>\n",
              "    <tr>\n",
              "      <th>23818</th>\n",
              "      <td>C36140</td>\n",
              "      <td>2018-01-17</td>\n",
              "      <td>WelcomeEmail</td>\n",
              "      <td>yes</td>\n",
              "      <td>NotApplicable</td>\n",
              "    </tr>\n",
              "    <tr>\n",
              "      <th>23819</th>\n",
              "      <td>C42003</td>\n",
              "      <td>2018-01-17</td>\n",
              "      <td>WelcomeEmail</td>\n",
              "      <td>yes</td>\n",
              "      <td>NotApplicable</td>\n",
              "    </tr>\n",
              "  </tbody>\n",
              "</table>\n",
              "<p>23820 rows × 5 columns</p>\n",
              "</div>\n",
              "      <button class=\"colab-df-convert\" onclick=\"convertToInteractive('df-d3a680eb-2729-4c38-8868-ef179d18b393')\"\n",
              "              title=\"Convert this dataframe to an interactive table.\"\n",
              "              style=\"display:none;\">\n",
              "        \n",
              "  <svg xmlns=\"http://www.w3.org/2000/svg\" height=\"24px\"viewBox=\"0 0 24 24\"\n",
              "       width=\"24px\">\n",
              "    <path d=\"M0 0h24v24H0V0z\" fill=\"none\"/>\n",
              "    <path d=\"M18.56 5.44l.94 2.06.94-2.06 2.06-.94-2.06-.94-.94-2.06-.94 2.06-2.06.94zm-11 1L8.5 8.5l.94-2.06 2.06-.94-2.06-.94L8.5 2.5l-.94 2.06-2.06.94zm10 10l.94 2.06.94-2.06 2.06-.94-2.06-.94-.94-2.06-.94 2.06-2.06.94z\"/><path d=\"M17.41 7.96l-1.37-1.37c-.4-.4-.92-.59-1.43-.59-.52 0-1.04.2-1.43.59L10.3 9.45l-7.72 7.72c-.78.78-.78 2.05 0 2.83L4 21.41c.39.39.9.59 1.41.59.51 0 1.02-.2 1.41-.59l7.78-7.78 2.81-2.81c.8-.78.8-2.07 0-2.86zM5.41 20L4 18.59l7.72-7.72 1.47 1.35L5.41 20z\"/>\n",
              "  </svg>\n",
              "      </button>\n",
              "      \n",
              "  <style>\n",
              "    .colab-df-container {\n",
              "      display:flex;\n",
              "      flex-wrap:wrap;\n",
              "      gap: 12px;\n",
              "    }\n",
              "\n",
              "    .colab-df-convert {\n",
              "      background-color: #E8F0FE;\n",
              "      border: none;\n",
              "      border-radius: 50%;\n",
              "      cursor: pointer;\n",
              "      display: none;\n",
              "      fill: #1967D2;\n",
              "      height: 32px;\n",
              "      padding: 0 0 0 0;\n",
              "      width: 32px;\n",
              "    }\n",
              "\n",
              "    .colab-df-convert:hover {\n",
              "      background-color: #E2EBFA;\n",
              "      box-shadow: 0px 1px 2px rgba(60, 64, 67, 0.3), 0px 1px 3px 1px rgba(60, 64, 67, 0.15);\n",
              "      fill: #174EA6;\n",
              "    }\n",
              "\n",
              "    [theme=dark] .colab-df-convert {\n",
              "      background-color: #3B4455;\n",
              "      fill: #D2E3FC;\n",
              "    }\n",
              "\n",
              "    [theme=dark] .colab-df-convert:hover {\n",
              "      background-color: #434B5C;\n",
              "      box-shadow: 0px 1px 3px 1px rgba(0, 0, 0, 0.15);\n",
              "      filter: drop-shadow(0px 1px 2px rgba(0, 0, 0, 0.3));\n",
              "      fill: #FFFFFF;\n",
              "    }\n",
              "  </style>\n",
              "\n",
              "      <script>\n",
              "        const buttonEl =\n",
              "          document.querySelector('#df-d3a680eb-2729-4c38-8868-ef179d18b393 button.colab-df-convert');\n",
              "        buttonEl.style.display =\n",
              "          google.colab.kernel.accessAllowed ? 'block' : 'none';\n",
              "\n",
              "        async function convertToInteractive(key) {\n",
              "          const element = document.querySelector('#df-d3a680eb-2729-4c38-8868-ef179d18b393');\n",
              "          const dataTable =\n",
              "            await google.colab.kernel.invokeFunction('convertToInteractive',\n",
              "                                                     [key], {});\n",
              "          if (!dataTable) return;\n",
              "\n",
              "          const docLinkHtml = 'Like what you see? Visit the ' +\n",
              "            '<a target=\"_blank\" href=https://colab.research.google.com/notebooks/data_table.ipynb>data table notebook</a>'\n",
              "            + ' to learn more about interactive tables.';\n",
              "          element.innerHTML = '';\n",
              "          dataTable['output_type'] = 'display_data';\n",
              "          await google.colab.output.renderOutput(dataTable, element);\n",
              "          const docLink = document.createElement('div');\n",
              "          docLink.innerHTML = docLinkHtml;\n",
              "          element.appendChild(docLink);\n",
              "        }\n",
              "      </script>\n",
              "    </div>\n",
              "  </div>\n",
              "  "
            ]
          },
          "metadata": {},
          "execution_count": 42
        }
      ],
      "source": [
        "df4_1"
      ]
    },
    {
      "cell_type": "code",
      "execution_count": 43,
      "metadata": {
        "colab": {
          "base_uri": "https://localhost:8080/"
        },
        "id": "e8YjZWH7HoJr",
        "outputId": "58193503-38e7-4b7b-de2d-15bbd63c06af"
      },
      "outputs": [
        {
          "output_type": "execute_result",
          "data": {
            "text/plain": [
              "NotApplicable    23820\n",
              "Name: MailClicked, dtype: int64"
            ]
          },
          "metadata": {},
          "execution_count": 43
        }
      ],
      "source": [
        "df4_1['MailClicked'].value_counts() "
      ]
    },
    {
      "cell_type": "markdown",
      "metadata": {
        "id": "60nHtOA3JFnl"
      },
      "source": [
        "Similarly for Customized mails"
      ]
    },
    {
      "cell_type": "code",
      "execution_count": 44,
      "metadata": {
        "colab": {
          "base_uri": "https://localhost:8080/",
          "height": 424
        },
        "id": "GuFxmhi6HoJr",
        "outputId": "3c4f5ddf-c376-454b-d6f8-5989643315c7"
      },
      "outputs": [
        {
          "output_type": "execute_result",
          "data": {
            "text/plain": [
              "       CustomerID DateOfemail        EmailType MailOpened MailClicked\n",
              "23820      C16368  2013-05-20  CustomizedEmail        yes          no\n",
              "23821      C16368  2013-02-05  CustomizedEmail        yes          no\n",
              "23822      C16368  2012-11-26  CustomizedEmail        yes          no\n",
              "23823      C16368  2013-05-30  CustomizedEmail        yes          no\n",
              "23824      C16368  2013-05-18  CustomizedEmail        yes          no\n",
              "...           ...         ...              ...        ...         ...\n",
              "517667     C36140  2018-01-18  CustomizedEmail        yes         yes\n",
              "517668     C36140  2018-01-21  CustomizedEmail         no          no\n",
              "517669     C36140  2018-01-20  CustomizedEmail        yes         yes\n",
              "517670     C36140  2018-01-20  CustomizedEmail        yes          no\n",
              "517671     C36140  2018-01-21  CustomizedEmail        yes         yes\n",
              "\n",
              "[493852 rows x 5 columns]"
            ],
            "text/html": [
              "\n",
              "  <div id=\"df-bca351cf-8b46-4e68-b411-98f7c203b135\">\n",
              "    <div class=\"colab-df-container\">\n",
              "      <div>\n",
              "<style scoped>\n",
              "    .dataframe tbody tr th:only-of-type {\n",
              "        vertical-align: middle;\n",
              "    }\n",
              "\n",
              "    .dataframe tbody tr th {\n",
              "        vertical-align: top;\n",
              "    }\n",
              "\n",
              "    .dataframe thead th {\n",
              "        text-align: right;\n",
              "    }\n",
              "</style>\n",
              "<table border=\"1\" class=\"dataframe\">\n",
              "  <thead>\n",
              "    <tr style=\"text-align: right;\">\n",
              "      <th></th>\n",
              "      <th>CustomerID</th>\n",
              "      <th>DateOfemail</th>\n",
              "      <th>EmailType</th>\n",
              "      <th>MailOpened</th>\n",
              "      <th>MailClicked</th>\n",
              "    </tr>\n",
              "  </thead>\n",
              "  <tbody>\n",
              "    <tr>\n",
              "      <th>23820</th>\n",
              "      <td>C16368</td>\n",
              "      <td>2013-05-20</td>\n",
              "      <td>CustomizedEmail</td>\n",
              "      <td>yes</td>\n",
              "      <td>no</td>\n",
              "    </tr>\n",
              "    <tr>\n",
              "      <th>23821</th>\n",
              "      <td>C16368</td>\n",
              "      <td>2013-02-05</td>\n",
              "      <td>CustomizedEmail</td>\n",
              "      <td>yes</td>\n",
              "      <td>no</td>\n",
              "    </tr>\n",
              "    <tr>\n",
              "      <th>23822</th>\n",
              "      <td>C16368</td>\n",
              "      <td>2012-11-26</td>\n",
              "      <td>CustomizedEmail</td>\n",
              "      <td>yes</td>\n",
              "      <td>no</td>\n",
              "    </tr>\n",
              "    <tr>\n",
              "      <th>23823</th>\n",
              "      <td>C16368</td>\n",
              "      <td>2013-05-30</td>\n",
              "      <td>CustomizedEmail</td>\n",
              "      <td>yes</td>\n",
              "      <td>no</td>\n",
              "    </tr>\n",
              "    <tr>\n",
              "      <th>23824</th>\n",
              "      <td>C16368</td>\n",
              "      <td>2013-05-18</td>\n",
              "      <td>CustomizedEmail</td>\n",
              "      <td>yes</td>\n",
              "      <td>no</td>\n",
              "    </tr>\n",
              "    <tr>\n",
              "      <th>...</th>\n",
              "      <td>...</td>\n",
              "      <td>...</td>\n",
              "      <td>...</td>\n",
              "      <td>...</td>\n",
              "      <td>...</td>\n",
              "    </tr>\n",
              "    <tr>\n",
              "      <th>517667</th>\n",
              "      <td>C36140</td>\n",
              "      <td>2018-01-18</td>\n",
              "      <td>CustomizedEmail</td>\n",
              "      <td>yes</td>\n",
              "      <td>yes</td>\n",
              "    </tr>\n",
              "    <tr>\n",
              "      <th>517668</th>\n",
              "      <td>C36140</td>\n",
              "      <td>2018-01-21</td>\n",
              "      <td>CustomizedEmail</td>\n",
              "      <td>no</td>\n",
              "      <td>no</td>\n",
              "    </tr>\n",
              "    <tr>\n",
              "      <th>517669</th>\n",
              "      <td>C36140</td>\n",
              "      <td>2018-01-20</td>\n",
              "      <td>CustomizedEmail</td>\n",
              "      <td>yes</td>\n",
              "      <td>yes</td>\n",
              "    </tr>\n",
              "    <tr>\n",
              "      <th>517670</th>\n",
              "      <td>C36140</td>\n",
              "      <td>2018-01-20</td>\n",
              "      <td>CustomizedEmail</td>\n",
              "      <td>yes</td>\n",
              "      <td>no</td>\n",
              "    </tr>\n",
              "    <tr>\n",
              "      <th>517671</th>\n",
              "      <td>C36140</td>\n",
              "      <td>2018-01-21</td>\n",
              "      <td>CustomizedEmail</td>\n",
              "      <td>yes</td>\n",
              "      <td>yes</td>\n",
              "    </tr>\n",
              "  </tbody>\n",
              "</table>\n",
              "<p>493852 rows × 5 columns</p>\n",
              "</div>\n",
              "      <button class=\"colab-df-convert\" onclick=\"convertToInteractive('df-bca351cf-8b46-4e68-b411-98f7c203b135')\"\n",
              "              title=\"Convert this dataframe to an interactive table.\"\n",
              "              style=\"display:none;\">\n",
              "        \n",
              "  <svg xmlns=\"http://www.w3.org/2000/svg\" height=\"24px\"viewBox=\"0 0 24 24\"\n",
              "       width=\"24px\">\n",
              "    <path d=\"M0 0h24v24H0V0z\" fill=\"none\"/>\n",
              "    <path d=\"M18.56 5.44l.94 2.06.94-2.06 2.06-.94-2.06-.94-.94-2.06-.94 2.06-2.06.94zm-11 1L8.5 8.5l.94-2.06 2.06-.94-2.06-.94L8.5 2.5l-.94 2.06-2.06.94zm10 10l.94 2.06.94-2.06 2.06-.94-2.06-.94-.94-2.06-.94 2.06-2.06.94z\"/><path d=\"M17.41 7.96l-1.37-1.37c-.4-.4-.92-.59-1.43-.59-.52 0-1.04.2-1.43.59L10.3 9.45l-7.72 7.72c-.78.78-.78 2.05 0 2.83L4 21.41c.39.39.9.59 1.41.59.51 0 1.02-.2 1.41-.59l7.78-7.78 2.81-2.81c.8-.78.8-2.07 0-2.86zM5.41 20L4 18.59l7.72-7.72 1.47 1.35L5.41 20z\"/>\n",
              "  </svg>\n",
              "      </button>\n",
              "      \n",
              "  <style>\n",
              "    .colab-df-container {\n",
              "      display:flex;\n",
              "      flex-wrap:wrap;\n",
              "      gap: 12px;\n",
              "    }\n",
              "\n",
              "    .colab-df-convert {\n",
              "      background-color: #E8F0FE;\n",
              "      border: none;\n",
              "      border-radius: 50%;\n",
              "      cursor: pointer;\n",
              "      display: none;\n",
              "      fill: #1967D2;\n",
              "      height: 32px;\n",
              "      padding: 0 0 0 0;\n",
              "      width: 32px;\n",
              "    }\n",
              "\n",
              "    .colab-df-convert:hover {\n",
              "      background-color: #E2EBFA;\n",
              "      box-shadow: 0px 1px 2px rgba(60, 64, 67, 0.3), 0px 1px 3px 1px rgba(60, 64, 67, 0.15);\n",
              "      fill: #174EA6;\n",
              "    }\n",
              "\n",
              "    [theme=dark] .colab-df-convert {\n",
              "      background-color: #3B4455;\n",
              "      fill: #D2E3FC;\n",
              "    }\n",
              "\n",
              "    [theme=dark] .colab-df-convert:hover {\n",
              "      background-color: #434B5C;\n",
              "      box-shadow: 0px 1px 3px 1px rgba(0, 0, 0, 0.15);\n",
              "      filter: drop-shadow(0px 1px 2px rgba(0, 0, 0, 0.3));\n",
              "      fill: #FFFFFF;\n",
              "    }\n",
              "  </style>\n",
              "\n",
              "      <script>\n",
              "        const buttonEl =\n",
              "          document.querySelector('#df-bca351cf-8b46-4e68-b411-98f7c203b135 button.colab-df-convert');\n",
              "        buttonEl.style.display =\n",
              "          google.colab.kernel.accessAllowed ? 'block' : 'none';\n",
              "\n",
              "        async function convertToInteractive(key) {\n",
              "          const element = document.querySelector('#df-bca351cf-8b46-4e68-b411-98f7c203b135');\n",
              "          const dataTable =\n",
              "            await google.colab.kernel.invokeFunction('convertToInteractive',\n",
              "                                                     [key], {});\n",
              "          if (!dataTable) return;\n",
              "\n",
              "          const docLinkHtml = 'Like what you see? Visit the ' +\n",
              "            '<a target=\"_blank\" href=https://colab.research.google.com/notebooks/data_table.ipynb>data table notebook</a>'\n",
              "            + ' to learn more about interactive tables.';\n",
              "          element.innerHTML = '';\n",
              "          dataTable['output_type'] = 'display_data';\n",
              "          await google.colab.output.renderOutput(dataTable, element);\n",
              "          const docLink = document.createElement('div');\n",
              "          docLink.innerHTML = docLinkHtml;\n",
              "          element.appendChild(docLink);\n",
              "        }\n",
              "      </script>\n",
              "    </div>\n",
              "  </div>\n",
              "  "
            ]
          },
          "metadata": {},
          "execution_count": 44
        }
      ],
      "source": [
        "df4_2 = df4.loc[df4['EmailType'] == 'CustomizedEmail']\n",
        "df4_2"
      ]
    },
    {
      "cell_type": "code",
      "execution_count": 45,
      "metadata": {
        "colab": {
          "base_uri": "https://localhost:8080/"
        },
        "id": "tI7G6AEtHoJr",
        "outputId": "96552cbb-4de1-4474-d7da-669b5ce3bb81"
      },
      "outputs": [
        {
          "output_type": "execute_result",
          "data": {
            "text/plain": [
              "no     466011\n",
              "yes     27841\n",
              "Name: MailClicked, dtype: int64"
            ]
          },
          "metadata": {},
          "execution_count": 45
        }
      ],
      "source": [
        "df4_2['MailClicked'].value_counts()"
      ]
    },
    {
      "cell_type": "markdown",
      "metadata": {
        "id": "fTA5BWhsHoJr"
      },
      "source": [
        "Taking the count of customized mails to reduce the dimension"
      ]
    },
    {
      "cell_type": "code",
      "execution_count": 46,
      "metadata": {
        "id": "XEzTJm61HoJr"
      },
      "outputs": [],
      "source": [
        "d2 = df4_2.groupby(['CustomerID'])['EmailType'].agg('count').reset_index()"
      ]
    },
    {
      "cell_type": "code",
      "execution_count": 47,
      "metadata": {
        "colab": {
          "base_uri": "https://localhost:8080/",
          "height": 424
        },
        "id": "3KK1X0CDHoJr",
        "outputId": "7a0e4d9b-d906-4c50-a5d5-e16cacee1a20"
      },
      "outputs": [
        {
          "output_type": "execute_result",
          "data": {
            "text/plain": [
              "      CustomerID  EmailType\n",
              "0         C12116         31\n",
              "1         C12119         41\n",
              "2         C12122         45\n",
              "3         C12123         28\n",
              "4         C12124         32\n",
              "...          ...        ...\n",
              "14106     C42181         47\n",
              "14107     C42182         49\n",
              "14108     C42183         41\n",
              "14109     C42185         43\n",
              "14110     C42189         50\n",
              "\n",
              "[14111 rows x 2 columns]"
            ],
            "text/html": [
              "\n",
              "  <div id=\"df-dd2d6bc4-017e-4cfd-8bf3-65cf8a66d94f\">\n",
              "    <div class=\"colab-df-container\">\n",
              "      <div>\n",
              "<style scoped>\n",
              "    .dataframe tbody tr th:only-of-type {\n",
              "        vertical-align: middle;\n",
              "    }\n",
              "\n",
              "    .dataframe tbody tr th {\n",
              "        vertical-align: top;\n",
              "    }\n",
              "\n",
              "    .dataframe thead th {\n",
              "        text-align: right;\n",
              "    }\n",
              "</style>\n",
              "<table border=\"1\" class=\"dataframe\">\n",
              "  <thead>\n",
              "    <tr style=\"text-align: right;\">\n",
              "      <th></th>\n",
              "      <th>CustomerID</th>\n",
              "      <th>EmailType</th>\n",
              "    </tr>\n",
              "  </thead>\n",
              "  <tbody>\n",
              "    <tr>\n",
              "      <th>0</th>\n",
              "      <td>C12116</td>\n",
              "      <td>31</td>\n",
              "    </tr>\n",
              "    <tr>\n",
              "      <th>1</th>\n",
              "      <td>C12119</td>\n",
              "      <td>41</td>\n",
              "    </tr>\n",
              "    <tr>\n",
              "      <th>2</th>\n",
              "      <td>C12122</td>\n",
              "      <td>45</td>\n",
              "    </tr>\n",
              "    <tr>\n",
              "      <th>3</th>\n",
              "      <td>C12123</td>\n",
              "      <td>28</td>\n",
              "    </tr>\n",
              "    <tr>\n",
              "      <th>4</th>\n",
              "      <td>C12124</td>\n",
              "      <td>32</td>\n",
              "    </tr>\n",
              "    <tr>\n",
              "      <th>...</th>\n",
              "      <td>...</td>\n",
              "      <td>...</td>\n",
              "    </tr>\n",
              "    <tr>\n",
              "      <th>14106</th>\n",
              "      <td>C42181</td>\n",
              "      <td>47</td>\n",
              "    </tr>\n",
              "    <tr>\n",
              "      <th>14107</th>\n",
              "      <td>C42182</td>\n",
              "      <td>49</td>\n",
              "    </tr>\n",
              "    <tr>\n",
              "      <th>14108</th>\n",
              "      <td>C42183</td>\n",
              "      <td>41</td>\n",
              "    </tr>\n",
              "    <tr>\n",
              "      <th>14109</th>\n",
              "      <td>C42185</td>\n",
              "      <td>43</td>\n",
              "    </tr>\n",
              "    <tr>\n",
              "      <th>14110</th>\n",
              "      <td>C42189</td>\n",
              "      <td>50</td>\n",
              "    </tr>\n",
              "  </tbody>\n",
              "</table>\n",
              "<p>14111 rows × 2 columns</p>\n",
              "</div>\n",
              "      <button class=\"colab-df-convert\" onclick=\"convertToInteractive('df-dd2d6bc4-017e-4cfd-8bf3-65cf8a66d94f')\"\n",
              "              title=\"Convert this dataframe to an interactive table.\"\n",
              "              style=\"display:none;\">\n",
              "        \n",
              "  <svg xmlns=\"http://www.w3.org/2000/svg\" height=\"24px\"viewBox=\"0 0 24 24\"\n",
              "       width=\"24px\">\n",
              "    <path d=\"M0 0h24v24H0V0z\" fill=\"none\"/>\n",
              "    <path d=\"M18.56 5.44l.94 2.06.94-2.06 2.06-.94-2.06-.94-.94-2.06-.94 2.06-2.06.94zm-11 1L8.5 8.5l.94-2.06 2.06-.94-2.06-.94L8.5 2.5l-.94 2.06-2.06.94zm10 10l.94 2.06.94-2.06 2.06-.94-2.06-.94-.94-2.06-.94 2.06-2.06.94z\"/><path d=\"M17.41 7.96l-1.37-1.37c-.4-.4-.92-.59-1.43-.59-.52 0-1.04.2-1.43.59L10.3 9.45l-7.72 7.72c-.78.78-.78 2.05 0 2.83L4 21.41c.39.39.9.59 1.41.59.51 0 1.02-.2 1.41-.59l7.78-7.78 2.81-2.81c.8-.78.8-2.07 0-2.86zM5.41 20L4 18.59l7.72-7.72 1.47 1.35L5.41 20z\"/>\n",
              "  </svg>\n",
              "      </button>\n",
              "      \n",
              "  <style>\n",
              "    .colab-df-container {\n",
              "      display:flex;\n",
              "      flex-wrap:wrap;\n",
              "      gap: 12px;\n",
              "    }\n",
              "\n",
              "    .colab-df-convert {\n",
              "      background-color: #E8F0FE;\n",
              "      border: none;\n",
              "      border-radius: 50%;\n",
              "      cursor: pointer;\n",
              "      display: none;\n",
              "      fill: #1967D2;\n",
              "      height: 32px;\n",
              "      padding: 0 0 0 0;\n",
              "      width: 32px;\n",
              "    }\n",
              "\n",
              "    .colab-df-convert:hover {\n",
              "      background-color: #E2EBFA;\n",
              "      box-shadow: 0px 1px 2px rgba(60, 64, 67, 0.3), 0px 1px 3px 1px rgba(60, 64, 67, 0.15);\n",
              "      fill: #174EA6;\n",
              "    }\n",
              "\n",
              "    [theme=dark] .colab-df-convert {\n",
              "      background-color: #3B4455;\n",
              "      fill: #D2E3FC;\n",
              "    }\n",
              "\n",
              "    [theme=dark] .colab-df-convert:hover {\n",
              "      background-color: #434B5C;\n",
              "      box-shadow: 0px 1px 3px 1px rgba(0, 0, 0, 0.15);\n",
              "      filter: drop-shadow(0px 1px 2px rgba(0, 0, 0, 0.3));\n",
              "      fill: #FFFFFF;\n",
              "    }\n",
              "  </style>\n",
              "\n",
              "      <script>\n",
              "        const buttonEl =\n",
              "          document.querySelector('#df-dd2d6bc4-017e-4cfd-8bf3-65cf8a66d94f button.colab-df-convert');\n",
              "        buttonEl.style.display =\n",
              "          google.colab.kernel.accessAllowed ? 'block' : 'none';\n",
              "\n",
              "        async function convertToInteractive(key) {\n",
              "          const element = document.querySelector('#df-dd2d6bc4-017e-4cfd-8bf3-65cf8a66d94f');\n",
              "          const dataTable =\n",
              "            await google.colab.kernel.invokeFunction('convertToInteractive',\n",
              "                                                     [key], {});\n",
              "          if (!dataTable) return;\n",
              "\n",
              "          const docLinkHtml = 'Like what you see? Visit the ' +\n",
              "            '<a target=\"_blank\" href=https://colab.research.google.com/notebooks/data_table.ipynb>data table notebook</a>'\n",
              "            + ' to learn more about interactive tables.';\n",
              "          element.innerHTML = '';\n",
              "          dataTable['output_type'] = 'display_data';\n",
              "          await google.colab.output.renderOutput(dataTable, element);\n",
              "          const docLink = document.createElement('div');\n",
              "          docLink.innerHTML = docLinkHtml;\n",
              "          element.appendChild(docLink);\n",
              "        }\n",
              "      </script>\n",
              "    </div>\n",
              "  </div>\n",
              "  "
            ]
          },
          "metadata": {},
          "execution_count": 47
        }
      ],
      "source": [
        "d2"
      ]
    },
    {
      "cell_type": "markdown",
      "metadata": {
        "id": "sjnqUrZmHoJr"
      },
      "source": [
        "Merging this dataset with welcomemails"
      ]
    },
    {
      "cell_type": "code",
      "execution_count": 48,
      "metadata": {
        "colab": {
          "base_uri": "https://localhost:8080/",
          "height": 206
        },
        "id": "6fpIj01wHoJs",
        "outputId": "8d03e430-8538-4033-c771-b2fe87793579"
      },
      "outputs": [
        {
          "output_type": "execute_result",
          "data": {
            "text/plain": [
              "  CustomerID DateOfemail   EmailType_x MailOpened    MailClicked  EmailType_y\n",
              "0     C16368  2012-09-28  WelcomeEmail        yes  NotApplicable         29.0\n",
              "1     C20345  2010-12-19  WelcomeEmail        yes  NotApplicable         95.0\n",
              "2     C17683  2010-10-03  WelcomeEmail        yes  NotApplicable          NaN\n",
              "3     C18647  2010-11-27  WelcomeEmail        yes  NotApplicable         30.0\n",
              "4     C36692  2009-12-04  WelcomeEmail        yes  NotApplicable         64.0"
            ],
            "text/html": [
              "\n",
              "  <div id=\"df-b8ae94c2-cc16-480f-9a65-d9d30554c212\">\n",
              "    <div class=\"colab-df-container\">\n",
              "      <div>\n",
              "<style scoped>\n",
              "    .dataframe tbody tr th:only-of-type {\n",
              "        vertical-align: middle;\n",
              "    }\n",
              "\n",
              "    .dataframe tbody tr th {\n",
              "        vertical-align: top;\n",
              "    }\n",
              "\n",
              "    .dataframe thead th {\n",
              "        text-align: right;\n",
              "    }\n",
              "</style>\n",
              "<table border=\"1\" class=\"dataframe\">\n",
              "  <thead>\n",
              "    <tr style=\"text-align: right;\">\n",
              "      <th></th>\n",
              "      <th>CustomerID</th>\n",
              "      <th>DateOfemail</th>\n",
              "      <th>EmailType_x</th>\n",
              "      <th>MailOpened</th>\n",
              "      <th>MailClicked</th>\n",
              "      <th>EmailType_y</th>\n",
              "    </tr>\n",
              "  </thead>\n",
              "  <tbody>\n",
              "    <tr>\n",
              "      <th>0</th>\n",
              "      <td>C16368</td>\n",
              "      <td>2012-09-28</td>\n",
              "      <td>WelcomeEmail</td>\n",
              "      <td>yes</td>\n",
              "      <td>NotApplicable</td>\n",
              "      <td>29.0</td>\n",
              "    </tr>\n",
              "    <tr>\n",
              "      <th>1</th>\n",
              "      <td>C20345</td>\n",
              "      <td>2010-12-19</td>\n",
              "      <td>WelcomeEmail</td>\n",
              "      <td>yes</td>\n",
              "      <td>NotApplicable</td>\n",
              "      <td>95.0</td>\n",
              "    </tr>\n",
              "    <tr>\n",
              "      <th>2</th>\n",
              "      <td>C17683</td>\n",
              "      <td>2010-10-03</td>\n",
              "      <td>WelcomeEmail</td>\n",
              "      <td>yes</td>\n",
              "      <td>NotApplicable</td>\n",
              "      <td>NaN</td>\n",
              "    </tr>\n",
              "    <tr>\n",
              "      <th>3</th>\n",
              "      <td>C18647</td>\n",
              "      <td>2010-11-27</td>\n",
              "      <td>WelcomeEmail</td>\n",
              "      <td>yes</td>\n",
              "      <td>NotApplicable</td>\n",
              "      <td>30.0</td>\n",
              "    </tr>\n",
              "    <tr>\n",
              "      <th>4</th>\n",
              "      <td>C36692</td>\n",
              "      <td>2009-12-04</td>\n",
              "      <td>WelcomeEmail</td>\n",
              "      <td>yes</td>\n",
              "      <td>NotApplicable</td>\n",
              "      <td>64.0</td>\n",
              "    </tr>\n",
              "  </tbody>\n",
              "</table>\n",
              "</div>\n",
              "      <button class=\"colab-df-convert\" onclick=\"convertToInteractive('df-b8ae94c2-cc16-480f-9a65-d9d30554c212')\"\n",
              "              title=\"Convert this dataframe to an interactive table.\"\n",
              "              style=\"display:none;\">\n",
              "        \n",
              "  <svg xmlns=\"http://www.w3.org/2000/svg\" height=\"24px\"viewBox=\"0 0 24 24\"\n",
              "       width=\"24px\">\n",
              "    <path d=\"M0 0h24v24H0V0z\" fill=\"none\"/>\n",
              "    <path d=\"M18.56 5.44l.94 2.06.94-2.06 2.06-.94-2.06-.94-.94-2.06-.94 2.06-2.06.94zm-11 1L8.5 8.5l.94-2.06 2.06-.94-2.06-.94L8.5 2.5l-.94 2.06-2.06.94zm10 10l.94 2.06.94-2.06 2.06-.94-2.06-.94-.94-2.06-.94 2.06-2.06.94z\"/><path d=\"M17.41 7.96l-1.37-1.37c-.4-.4-.92-.59-1.43-.59-.52 0-1.04.2-1.43.59L10.3 9.45l-7.72 7.72c-.78.78-.78 2.05 0 2.83L4 21.41c.39.39.9.59 1.41.59.51 0 1.02-.2 1.41-.59l7.78-7.78 2.81-2.81c.8-.78.8-2.07 0-2.86zM5.41 20L4 18.59l7.72-7.72 1.47 1.35L5.41 20z\"/>\n",
              "  </svg>\n",
              "      </button>\n",
              "      \n",
              "  <style>\n",
              "    .colab-df-container {\n",
              "      display:flex;\n",
              "      flex-wrap:wrap;\n",
              "      gap: 12px;\n",
              "    }\n",
              "\n",
              "    .colab-df-convert {\n",
              "      background-color: #E8F0FE;\n",
              "      border: none;\n",
              "      border-radius: 50%;\n",
              "      cursor: pointer;\n",
              "      display: none;\n",
              "      fill: #1967D2;\n",
              "      height: 32px;\n",
              "      padding: 0 0 0 0;\n",
              "      width: 32px;\n",
              "    }\n",
              "\n",
              "    .colab-df-convert:hover {\n",
              "      background-color: #E2EBFA;\n",
              "      box-shadow: 0px 1px 2px rgba(60, 64, 67, 0.3), 0px 1px 3px 1px rgba(60, 64, 67, 0.15);\n",
              "      fill: #174EA6;\n",
              "    }\n",
              "\n",
              "    [theme=dark] .colab-df-convert {\n",
              "      background-color: #3B4455;\n",
              "      fill: #D2E3FC;\n",
              "    }\n",
              "\n",
              "    [theme=dark] .colab-df-convert:hover {\n",
              "      background-color: #434B5C;\n",
              "      box-shadow: 0px 1px 3px 1px rgba(0, 0, 0, 0.15);\n",
              "      filter: drop-shadow(0px 1px 2px rgba(0, 0, 0, 0.3));\n",
              "      fill: #FFFFFF;\n",
              "    }\n",
              "  </style>\n",
              "\n",
              "      <script>\n",
              "        const buttonEl =\n",
              "          document.querySelector('#df-b8ae94c2-cc16-480f-9a65-d9d30554c212 button.colab-df-convert');\n",
              "        buttonEl.style.display =\n",
              "          google.colab.kernel.accessAllowed ? 'block' : 'none';\n",
              "\n",
              "        async function convertToInteractive(key) {\n",
              "          const element = document.querySelector('#df-b8ae94c2-cc16-480f-9a65-d9d30554c212');\n",
              "          const dataTable =\n",
              "            await google.colab.kernel.invokeFunction('convertToInteractive',\n",
              "                                                     [key], {});\n",
              "          if (!dataTable) return;\n",
              "\n",
              "          const docLinkHtml = 'Like what you see? Visit the ' +\n",
              "            '<a target=\"_blank\" href=https://colab.research.google.com/notebooks/data_table.ipynb>data table notebook</a>'\n",
              "            + ' to learn more about interactive tables.';\n",
              "          element.innerHTML = '';\n",
              "          dataTable['output_type'] = 'display_data';\n",
              "          await google.colab.output.renderOutput(dataTable, element);\n",
              "          const docLink = document.createElement('div');\n",
              "          docLink.innerHTML = docLinkHtml;\n",
              "          element.appendChild(docLink);\n",
              "        }\n",
              "      </script>\n",
              "    </div>\n",
              "  </div>\n",
              "  "
            ]
          },
          "metadata": {},
          "execution_count": 48
        }
      ],
      "source": [
        "data3 = pd.merge(df4_1,d2,on=['CustomerID'],how='outer') \n",
        "data3.head()"
      ]
    },
    {
      "cell_type": "markdown",
      "metadata": {
        "id": "IOY5PBDDHoJs"
      },
      "source": [
        "Renaming the columns for our understanding"
      ]
    },
    {
      "cell_type": "code",
      "execution_count": 49,
      "metadata": {
        "id": "LrJj4RHhHoJs"
      },
      "outputs": [],
      "source": [
        "data3 = data3.rename(columns={'EmailType_x':'EmailType','EmailType_y':'CustomMails'})"
      ]
    },
    {
      "cell_type": "code",
      "execution_count": 50,
      "metadata": {
        "colab": {
          "base_uri": "https://localhost:8080/",
          "height": 206
        },
        "id": "6qSUXb0RHoJs",
        "outputId": "1acc4554-afaf-4946-d820-2fd228c75b76"
      },
      "outputs": [
        {
          "output_type": "execute_result",
          "data": {
            "text/plain": [
              "  CustomerID DateOfemail     EmailType MailOpened    MailClicked  CustomMails\n",
              "0     C16368  2012-09-28  WelcomeEmail        yes  NotApplicable         29.0\n",
              "1     C20345  2010-12-19  WelcomeEmail        yes  NotApplicable         95.0\n",
              "2     C17683  2010-10-03  WelcomeEmail        yes  NotApplicable          NaN\n",
              "3     C18647  2010-11-27  WelcomeEmail        yes  NotApplicable         30.0\n",
              "4     C36692  2009-12-04  WelcomeEmail        yes  NotApplicable         64.0"
            ],
            "text/html": [
              "\n",
              "  <div id=\"df-1e6b7658-6929-4404-934d-4b373fda7016\">\n",
              "    <div class=\"colab-df-container\">\n",
              "      <div>\n",
              "<style scoped>\n",
              "    .dataframe tbody tr th:only-of-type {\n",
              "        vertical-align: middle;\n",
              "    }\n",
              "\n",
              "    .dataframe tbody tr th {\n",
              "        vertical-align: top;\n",
              "    }\n",
              "\n",
              "    .dataframe thead th {\n",
              "        text-align: right;\n",
              "    }\n",
              "</style>\n",
              "<table border=\"1\" class=\"dataframe\">\n",
              "  <thead>\n",
              "    <tr style=\"text-align: right;\">\n",
              "      <th></th>\n",
              "      <th>CustomerID</th>\n",
              "      <th>DateOfemail</th>\n",
              "      <th>EmailType</th>\n",
              "      <th>MailOpened</th>\n",
              "      <th>MailClicked</th>\n",
              "      <th>CustomMails</th>\n",
              "    </tr>\n",
              "  </thead>\n",
              "  <tbody>\n",
              "    <tr>\n",
              "      <th>0</th>\n",
              "      <td>C16368</td>\n",
              "      <td>2012-09-28</td>\n",
              "      <td>WelcomeEmail</td>\n",
              "      <td>yes</td>\n",
              "      <td>NotApplicable</td>\n",
              "      <td>29.0</td>\n",
              "    </tr>\n",
              "    <tr>\n",
              "      <th>1</th>\n",
              "      <td>C20345</td>\n",
              "      <td>2010-12-19</td>\n",
              "      <td>WelcomeEmail</td>\n",
              "      <td>yes</td>\n",
              "      <td>NotApplicable</td>\n",
              "      <td>95.0</td>\n",
              "    </tr>\n",
              "    <tr>\n",
              "      <th>2</th>\n",
              "      <td>C17683</td>\n",
              "      <td>2010-10-03</td>\n",
              "      <td>WelcomeEmail</td>\n",
              "      <td>yes</td>\n",
              "      <td>NotApplicable</td>\n",
              "      <td>NaN</td>\n",
              "    </tr>\n",
              "    <tr>\n",
              "      <th>3</th>\n",
              "      <td>C18647</td>\n",
              "      <td>2010-11-27</td>\n",
              "      <td>WelcomeEmail</td>\n",
              "      <td>yes</td>\n",
              "      <td>NotApplicable</td>\n",
              "      <td>30.0</td>\n",
              "    </tr>\n",
              "    <tr>\n",
              "      <th>4</th>\n",
              "      <td>C36692</td>\n",
              "      <td>2009-12-04</td>\n",
              "      <td>WelcomeEmail</td>\n",
              "      <td>yes</td>\n",
              "      <td>NotApplicable</td>\n",
              "      <td>64.0</td>\n",
              "    </tr>\n",
              "  </tbody>\n",
              "</table>\n",
              "</div>\n",
              "      <button class=\"colab-df-convert\" onclick=\"convertToInteractive('df-1e6b7658-6929-4404-934d-4b373fda7016')\"\n",
              "              title=\"Convert this dataframe to an interactive table.\"\n",
              "              style=\"display:none;\">\n",
              "        \n",
              "  <svg xmlns=\"http://www.w3.org/2000/svg\" height=\"24px\"viewBox=\"0 0 24 24\"\n",
              "       width=\"24px\">\n",
              "    <path d=\"M0 0h24v24H0V0z\" fill=\"none\"/>\n",
              "    <path d=\"M18.56 5.44l.94 2.06.94-2.06 2.06-.94-2.06-.94-.94-2.06-.94 2.06-2.06.94zm-11 1L8.5 8.5l.94-2.06 2.06-.94-2.06-.94L8.5 2.5l-.94 2.06-2.06.94zm10 10l.94 2.06.94-2.06 2.06-.94-2.06-.94-.94-2.06-.94 2.06-2.06.94z\"/><path d=\"M17.41 7.96l-1.37-1.37c-.4-.4-.92-.59-1.43-.59-.52 0-1.04.2-1.43.59L10.3 9.45l-7.72 7.72c-.78.78-.78 2.05 0 2.83L4 21.41c.39.39.9.59 1.41.59.51 0 1.02-.2 1.41-.59l7.78-7.78 2.81-2.81c.8-.78.8-2.07 0-2.86zM5.41 20L4 18.59l7.72-7.72 1.47 1.35L5.41 20z\"/>\n",
              "  </svg>\n",
              "      </button>\n",
              "      \n",
              "  <style>\n",
              "    .colab-df-container {\n",
              "      display:flex;\n",
              "      flex-wrap:wrap;\n",
              "      gap: 12px;\n",
              "    }\n",
              "\n",
              "    .colab-df-convert {\n",
              "      background-color: #E8F0FE;\n",
              "      border: none;\n",
              "      border-radius: 50%;\n",
              "      cursor: pointer;\n",
              "      display: none;\n",
              "      fill: #1967D2;\n",
              "      height: 32px;\n",
              "      padding: 0 0 0 0;\n",
              "      width: 32px;\n",
              "    }\n",
              "\n",
              "    .colab-df-convert:hover {\n",
              "      background-color: #E2EBFA;\n",
              "      box-shadow: 0px 1px 2px rgba(60, 64, 67, 0.3), 0px 1px 3px 1px rgba(60, 64, 67, 0.15);\n",
              "      fill: #174EA6;\n",
              "    }\n",
              "\n",
              "    [theme=dark] .colab-df-convert {\n",
              "      background-color: #3B4455;\n",
              "      fill: #D2E3FC;\n",
              "    }\n",
              "\n",
              "    [theme=dark] .colab-df-convert:hover {\n",
              "      background-color: #434B5C;\n",
              "      box-shadow: 0px 1px 3px 1px rgba(0, 0, 0, 0.15);\n",
              "      filter: drop-shadow(0px 1px 2px rgba(0, 0, 0, 0.3));\n",
              "      fill: #FFFFFF;\n",
              "    }\n",
              "  </style>\n",
              "\n",
              "      <script>\n",
              "        const buttonEl =\n",
              "          document.querySelector('#df-1e6b7658-6929-4404-934d-4b373fda7016 button.colab-df-convert');\n",
              "        buttonEl.style.display =\n",
              "          google.colab.kernel.accessAllowed ? 'block' : 'none';\n",
              "\n",
              "        async function convertToInteractive(key) {\n",
              "          const element = document.querySelector('#df-1e6b7658-6929-4404-934d-4b373fda7016');\n",
              "          const dataTable =\n",
              "            await google.colab.kernel.invokeFunction('convertToInteractive',\n",
              "                                                     [key], {});\n",
              "          if (!dataTable) return;\n",
              "\n",
              "          const docLinkHtml = 'Like what you see? Visit the ' +\n",
              "            '<a target=\"_blank\" href=https://colab.research.google.com/notebooks/data_table.ipynb>data table notebook</a>'\n",
              "            + ' to learn more about interactive tables.';\n",
              "          element.innerHTML = '';\n",
              "          dataTable['output_type'] = 'display_data';\n",
              "          await google.colab.output.renderOutput(dataTable, element);\n",
              "          const docLink = document.createElement('div');\n",
              "          docLink.innerHTML = docLinkHtml;\n",
              "          element.appendChild(docLink);\n",
              "        }\n",
              "      </script>\n",
              "    </div>\n",
              "  </div>\n",
              "  "
            ]
          },
          "metadata": {},
          "execution_count": 50
        }
      ],
      "source": [
        "data3.head()"
      ]
    },
    {
      "cell_type": "code",
      "execution_count": 51,
      "metadata": {
        "colab": {
          "base_uri": "https://localhost:8080/",
          "height": 206
        },
        "id": "PyH3G9MsHoJs",
        "outputId": "3f5a2c09-5e7c-4c2d-c82e-74266a2a6d99"
      },
      "outputs": [
        {
          "output_type": "execute_result",
          "data": {
            "text/plain": [
              "      CustomerID DateOfemail        EmailType MailOpened MailClicked\n",
              "23820     C16368  2013-05-20  CustomizedEmail        yes          no\n",
              "23821     C16368  2013-02-05  CustomizedEmail        yes          no\n",
              "23822     C16368  2012-11-26  CustomizedEmail        yes          no\n",
              "23823     C16368  2013-05-30  CustomizedEmail        yes          no\n",
              "23824     C16368  2013-05-18  CustomizedEmail        yes          no"
            ],
            "text/html": [
              "\n",
              "  <div id=\"df-1c5eae3d-4267-438c-bdca-78adfa7f215c\">\n",
              "    <div class=\"colab-df-container\">\n",
              "      <div>\n",
              "<style scoped>\n",
              "    .dataframe tbody tr th:only-of-type {\n",
              "        vertical-align: middle;\n",
              "    }\n",
              "\n",
              "    .dataframe tbody tr th {\n",
              "        vertical-align: top;\n",
              "    }\n",
              "\n",
              "    .dataframe thead th {\n",
              "        text-align: right;\n",
              "    }\n",
              "</style>\n",
              "<table border=\"1\" class=\"dataframe\">\n",
              "  <thead>\n",
              "    <tr style=\"text-align: right;\">\n",
              "      <th></th>\n",
              "      <th>CustomerID</th>\n",
              "      <th>DateOfemail</th>\n",
              "      <th>EmailType</th>\n",
              "      <th>MailOpened</th>\n",
              "      <th>MailClicked</th>\n",
              "    </tr>\n",
              "  </thead>\n",
              "  <tbody>\n",
              "    <tr>\n",
              "      <th>23820</th>\n",
              "      <td>C16368</td>\n",
              "      <td>2013-05-20</td>\n",
              "      <td>CustomizedEmail</td>\n",
              "      <td>yes</td>\n",
              "      <td>no</td>\n",
              "    </tr>\n",
              "    <tr>\n",
              "      <th>23821</th>\n",
              "      <td>C16368</td>\n",
              "      <td>2013-02-05</td>\n",
              "      <td>CustomizedEmail</td>\n",
              "      <td>yes</td>\n",
              "      <td>no</td>\n",
              "    </tr>\n",
              "    <tr>\n",
              "      <th>23822</th>\n",
              "      <td>C16368</td>\n",
              "      <td>2012-11-26</td>\n",
              "      <td>CustomizedEmail</td>\n",
              "      <td>yes</td>\n",
              "      <td>no</td>\n",
              "    </tr>\n",
              "    <tr>\n",
              "      <th>23823</th>\n",
              "      <td>C16368</td>\n",
              "      <td>2013-05-30</td>\n",
              "      <td>CustomizedEmail</td>\n",
              "      <td>yes</td>\n",
              "      <td>no</td>\n",
              "    </tr>\n",
              "    <tr>\n",
              "      <th>23824</th>\n",
              "      <td>C16368</td>\n",
              "      <td>2013-05-18</td>\n",
              "      <td>CustomizedEmail</td>\n",
              "      <td>yes</td>\n",
              "      <td>no</td>\n",
              "    </tr>\n",
              "  </tbody>\n",
              "</table>\n",
              "</div>\n",
              "      <button class=\"colab-df-convert\" onclick=\"convertToInteractive('df-1c5eae3d-4267-438c-bdca-78adfa7f215c')\"\n",
              "              title=\"Convert this dataframe to an interactive table.\"\n",
              "              style=\"display:none;\">\n",
              "        \n",
              "  <svg xmlns=\"http://www.w3.org/2000/svg\" height=\"24px\"viewBox=\"0 0 24 24\"\n",
              "       width=\"24px\">\n",
              "    <path d=\"M0 0h24v24H0V0z\" fill=\"none\"/>\n",
              "    <path d=\"M18.56 5.44l.94 2.06.94-2.06 2.06-.94-2.06-.94-.94-2.06-.94 2.06-2.06.94zm-11 1L8.5 8.5l.94-2.06 2.06-.94-2.06-.94L8.5 2.5l-.94 2.06-2.06.94zm10 10l.94 2.06.94-2.06 2.06-.94-2.06-.94-.94-2.06-.94 2.06-2.06.94z\"/><path d=\"M17.41 7.96l-1.37-1.37c-.4-.4-.92-.59-1.43-.59-.52 0-1.04.2-1.43.59L10.3 9.45l-7.72 7.72c-.78.78-.78 2.05 0 2.83L4 21.41c.39.39.9.59 1.41.59.51 0 1.02-.2 1.41-.59l7.78-7.78 2.81-2.81c.8-.78.8-2.07 0-2.86zM5.41 20L4 18.59l7.72-7.72 1.47 1.35L5.41 20z\"/>\n",
              "  </svg>\n",
              "      </button>\n",
              "      \n",
              "  <style>\n",
              "    .colab-df-container {\n",
              "      display:flex;\n",
              "      flex-wrap:wrap;\n",
              "      gap: 12px;\n",
              "    }\n",
              "\n",
              "    .colab-df-convert {\n",
              "      background-color: #E8F0FE;\n",
              "      border: none;\n",
              "      border-radius: 50%;\n",
              "      cursor: pointer;\n",
              "      display: none;\n",
              "      fill: #1967D2;\n",
              "      height: 32px;\n",
              "      padding: 0 0 0 0;\n",
              "      width: 32px;\n",
              "    }\n",
              "\n",
              "    .colab-df-convert:hover {\n",
              "      background-color: #E2EBFA;\n",
              "      box-shadow: 0px 1px 2px rgba(60, 64, 67, 0.3), 0px 1px 3px 1px rgba(60, 64, 67, 0.15);\n",
              "      fill: #174EA6;\n",
              "    }\n",
              "\n",
              "    [theme=dark] .colab-df-convert {\n",
              "      background-color: #3B4455;\n",
              "      fill: #D2E3FC;\n",
              "    }\n",
              "\n",
              "    [theme=dark] .colab-df-convert:hover {\n",
              "      background-color: #434B5C;\n",
              "      box-shadow: 0px 1px 3px 1px rgba(0, 0, 0, 0.15);\n",
              "      filter: drop-shadow(0px 1px 2px rgba(0, 0, 0, 0.3));\n",
              "      fill: #FFFFFF;\n",
              "    }\n",
              "  </style>\n",
              "\n",
              "      <script>\n",
              "        const buttonEl =\n",
              "          document.querySelector('#df-1c5eae3d-4267-438c-bdca-78adfa7f215c button.colab-df-convert');\n",
              "        buttonEl.style.display =\n",
              "          google.colab.kernel.accessAllowed ? 'block' : 'none';\n",
              "\n",
              "        async function convertToInteractive(key) {\n",
              "          const element = document.querySelector('#df-1c5eae3d-4267-438c-bdca-78adfa7f215c');\n",
              "          const dataTable =\n",
              "            await google.colab.kernel.invokeFunction('convertToInteractive',\n",
              "                                                     [key], {});\n",
              "          if (!dataTable) return;\n",
              "\n",
              "          const docLinkHtml = 'Like what you see? Visit the ' +\n",
              "            '<a target=\"_blank\" href=https://colab.research.google.com/notebooks/data_table.ipynb>data table notebook</a>'\n",
              "            + ' to learn more about interactive tables.';\n",
              "          element.innerHTML = '';\n",
              "          dataTable['output_type'] = 'display_data';\n",
              "          await google.colab.output.renderOutput(dataTable, element);\n",
              "          const docLink = document.createElement('div');\n",
              "          docLink.innerHTML = docLinkHtml;\n",
              "          element.appendChild(docLink);\n",
              "        }\n",
              "      </script>\n",
              "    </div>\n",
              "  </div>\n",
              "  "
            ]
          },
          "metadata": {},
          "execution_count": 51
        }
      ],
      "source": [
        "df4_2.head()"
      ]
    },
    {
      "cell_type": "markdown",
      "metadata": {
        "id": "ofVrJs93HoJs"
      },
      "source": [
        "Dividing the df4_2 based on Mailopend yes and no"
      ]
    },
    {
      "cell_type": "code",
      "execution_count": 52,
      "metadata": {
        "id": "tfZA0wV1HoJs"
      },
      "outputs": [],
      "source": [
        "df4_3 = df4_2.loc[df4_2['MailOpened']=='yes']\n",
        "df4_4 = df4_2.loc[df4_2['MailOpened']=='no']"
      ]
    },
    {
      "cell_type": "markdown",
      "metadata": {
        "id": "229z56CoHoJs"
      },
      "source": [
        "Taking the count for yes and no for mailopend "
      ]
    },
    {
      "cell_type": "code",
      "execution_count": 53,
      "metadata": {
        "id": "Y5pzAuQyHoJs"
      },
      "outputs": [],
      "source": [
        "d3 = df4_3.groupby(['CustomerID'])['MailOpened'].agg('count').reset_index()\n",
        "d4 = df4_4.groupby(['CustomerID'])['MailOpened'].agg('count').reset_index()"
      ]
    },
    {
      "cell_type": "code",
      "execution_count": 54,
      "metadata": {
        "colab": {
          "base_uri": "https://localhost:8080/",
          "height": 424
        },
        "id": "B1JgV1WeHoJs",
        "outputId": "30623ac3-295e-475e-d5ca-ab11739b24f8"
      },
      "outputs": [
        {
          "output_type": "execute_result",
          "data": {
            "text/plain": [
              "      CustomerID  MailOpened\n",
              "0         C12116           4\n",
              "1         C12119          13\n",
              "2         C12123           6\n",
              "3         C12124           4\n",
              "4         C12125           1\n",
              "...          ...         ...\n",
              "12177     C42181           3\n",
              "12178     C42182           2\n",
              "12179     C42183           4\n",
              "12180     C42185           9\n",
              "12181     C42189          18\n",
              "\n",
              "[12182 rows x 2 columns]"
            ],
            "text/html": [
              "\n",
              "  <div id=\"df-395aec29-5614-473f-ad77-04e5fdea0932\">\n",
              "    <div class=\"colab-df-container\">\n",
              "      <div>\n",
              "<style scoped>\n",
              "    .dataframe tbody tr th:only-of-type {\n",
              "        vertical-align: middle;\n",
              "    }\n",
              "\n",
              "    .dataframe tbody tr th {\n",
              "        vertical-align: top;\n",
              "    }\n",
              "\n",
              "    .dataframe thead th {\n",
              "        text-align: right;\n",
              "    }\n",
              "</style>\n",
              "<table border=\"1\" class=\"dataframe\">\n",
              "  <thead>\n",
              "    <tr style=\"text-align: right;\">\n",
              "      <th></th>\n",
              "      <th>CustomerID</th>\n",
              "      <th>MailOpened</th>\n",
              "    </tr>\n",
              "  </thead>\n",
              "  <tbody>\n",
              "    <tr>\n",
              "      <th>0</th>\n",
              "      <td>C12116</td>\n",
              "      <td>4</td>\n",
              "    </tr>\n",
              "    <tr>\n",
              "      <th>1</th>\n",
              "      <td>C12119</td>\n",
              "      <td>13</td>\n",
              "    </tr>\n",
              "    <tr>\n",
              "      <th>2</th>\n",
              "      <td>C12123</td>\n",
              "      <td>6</td>\n",
              "    </tr>\n",
              "    <tr>\n",
              "      <th>3</th>\n",
              "      <td>C12124</td>\n",
              "      <td>4</td>\n",
              "    </tr>\n",
              "    <tr>\n",
              "      <th>4</th>\n",
              "      <td>C12125</td>\n",
              "      <td>1</td>\n",
              "    </tr>\n",
              "    <tr>\n",
              "      <th>...</th>\n",
              "      <td>...</td>\n",
              "      <td>...</td>\n",
              "    </tr>\n",
              "    <tr>\n",
              "      <th>12177</th>\n",
              "      <td>C42181</td>\n",
              "      <td>3</td>\n",
              "    </tr>\n",
              "    <tr>\n",
              "      <th>12178</th>\n",
              "      <td>C42182</td>\n",
              "      <td>2</td>\n",
              "    </tr>\n",
              "    <tr>\n",
              "      <th>12179</th>\n",
              "      <td>C42183</td>\n",
              "      <td>4</td>\n",
              "    </tr>\n",
              "    <tr>\n",
              "      <th>12180</th>\n",
              "      <td>C42185</td>\n",
              "      <td>9</td>\n",
              "    </tr>\n",
              "    <tr>\n",
              "      <th>12181</th>\n",
              "      <td>C42189</td>\n",
              "      <td>18</td>\n",
              "    </tr>\n",
              "  </tbody>\n",
              "</table>\n",
              "<p>12182 rows × 2 columns</p>\n",
              "</div>\n",
              "      <button class=\"colab-df-convert\" onclick=\"convertToInteractive('df-395aec29-5614-473f-ad77-04e5fdea0932')\"\n",
              "              title=\"Convert this dataframe to an interactive table.\"\n",
              "              style=\"display:none;\">\n",
              "        \n",
              "  <svg xmlns=\"http://www.w3.org/2000/svg\" height=\"24px\"viewBox=\"0 0 24 24\"\n",
              "       width=\"24px\">\n",
              "    <path d=\"M0 0h24v24H0V0z\" fill=\"none\"/>\n",
              "    <path d=\"M18.56 5.44l.94 2.06.94-2.06 2.06-.94-2.06-.94-.94-2.06-.94 2.06-2.06.94zm-11 1L8.5 8.5l.94-2.06 2.06-.94-2.06-.94L8.5 2.5l-.94 2.06-2.06.94zm10 10l.94 2.06.94-2.06 2.06-.94-2.06-.94-.94-2.06-.94 2.06-2.06.94z\"/><path d=\"M17.41 7.96l-1.37-1.37c-.4-.4-.92-.59-1.43-.59-.52 0-1.04.2-1.43.59L10.3 9.45l-7.72 7.72c-.78.78-.78 2.05 0 2.83L4 21.41c.39.39.9.59 1.41.59.51 0 1.02-.2 1.41-.59l7.78-7.78 2.81-2.81c.8-.78.8-2.07 0-2.86zM5.41 20L4 18.59l7.72-7.72 1.47 1.35L5.41 20z\"/>\n",
              "  </svg>\n",
              "      </button>\n",
              "      \n",
              "  <style>\n",
              "    .colab-df-container {\n",
              "      display:flex;\n",
              "      flex-wrap:wrap;\n",
              "      gap: 12px;\n",
              "    }\n",
              "\n",
              "    .colab-df-convert {\n",
              "      background-color: #E8F0FE;\n",
              "      border: none;\n",
              "      border-radius: 50%;\n",
              "      cursor: pointer;\n",
              "      display: none;\n",
              "      fill: #1967D2;\n",
              "      height: 32px;\n",
              "      padding: 0 0 0 0;\n",
              "      width: 32px;\n",
              "    }\n",
              "\n",
              "    .colab-df-convert:hover {\n",
              "      background-color: #E2EBFA;\n",
              "      box-shadow: 0px 1px 2px rgba(60, 64, 67, 0.3), 0px 1px 3px 1px rgba(60, 64, 67, 0.15);\n",
              "      fill: #174EA6;\n",
              "    }\n",
              "\n",
              "    [theme=dark] .colab-df-convert {\n",
              "      background-color: #3B4455;\n",
              "      fill: #D2E3FC;\n",
              "    }\n",
              "\n",
              "    [theme=dark] .colab-df-convert:hover {\n",
              "      background-color: #434B5C;\n",
              "      box-shadow: 0px 1px 3px 1px rgba(0, 0, 0, 0.15);\n",
              "      filter: drop-shadow(0px 1px 2px rgba(0, 0, 0, 0.3));\n",
              "      fill: #FFFFFF;\n",
              "    }\n",
              "  </style>\n",
              "\n",
              "      <script>\n",
              "        const buttonEl =\n",
              "          document.querySelector('#df-395aec29-5614-473f-ad77-04e5fdea0932 button.colab-df-convert');\n",
              "        buttonEl.style.display =\n",
              "          google.colab.kernel.accessAllowed ? 'block' : 'none';\n",
              "\n",
              "        async function convertToInteractive(key) {\n",
              "          const element = document.querySelector('#df-395aec29-5614-473f-ad77-04e5fdea0932');\n",
              "          const dataTable =\n",
              "            await google.colab.kernel.invokeFunction('convertToInteractive',\n",
              "                                                     [key], {});\n",
              "          if (!dataTable) return;\n",
              "\n",
              "          const docLinkHtml = 'Like what you see? Visit the ' +\n",
              "            '<a target=\"_blank\" href=https://colab.research.google.com/notebooks/data_table.ipynb>data table notebook</a>'\n",
              "            + ' to learn more about interactive tables.';\n",
              "          element.innerHTML = '';\n",
              "          dataTable['output_type'] = 'display_data';\n",
              "          await google.colab.output.renderOutput(dataTable, element);\n",
              "          const docLink = document.createElement('div');\n",
              "          docLink.innerHTML = docLinkHtml;\n",
              "          element.appendChild(docLink);\n",
              "        }\n",
              "      </script>\n",
              "    </div>\n",
              "  </div>\n",
              "  "
            ]
          },
          "metadata": {},
          "execution_count": 54
        }
      ],
      "source": [
        "d3"
      ]
    },
    {
      "cell_type": "code",
      "execution_count": 55,
      "metadata": {
        "colab": {
          "base_uri": "https://localhost:8080/",
          "height": 424
        },
        "id": "h9FkKSRlHoJs",
        "outputId": "c4c4926b-82fa-4705-8bb2-c7fd26ba0bc4"
      },
      "outputs": [
        {
          "output_type": "execute_result",
          "data": {
            "text/plain": [
              "      CustomerID  MailOpened\n",
              "0         C12116          27\n",
              "1         C12119          28\n",
              "2         C12122          45\n",
              "3         C12123          22\n",
              "4         C12124          28\n",
              "...          ...         ...\n",
              "13616     C42181          44\n",
              "13617     C42182          47\n",
              "13618     C42183          37\n",
              "13619     C42185          34\n",
              "13620     C42189          32\n",
              "\n",
              "[13621 rows x 2 columns]"
            ],
            "text/html": [
              "\n",
              "  <div id=\"df-3baa8c5b-38a4-42df-ae15-039433f44ef0\">\n",
              "    <div class=\"colab-df-container\">\n",
              "      <div>\n",
              "<style scoped>\n",
              "    .dataframe tbody tr th:only-of-type {\n",
              "        vertical-align: middle;\n",
              "    }\n",
              "\n",
              "    .dataframe tbody tr th {\n",
              "        vertical-align: top;\n",
              "    }\n",
              "\n",
              "    .dataframe thead th {\n",
              "        text-align: right;\n",
              "    }\n",
              "</style>\n",
              "<table border=\"1\" class=\"dataframe\">\n",
              "  <thead>\n",
              "    <tr style=\"text-align: right;\">\n",
              "      <th></th>\n",
              "      <th>CustomerID</th>\n",
              "      <th>MailOpened</th>\n",
              "    </tr>\n",
              "  </thead>\n",
              "  <tbody>\n",
              "    <tr>\n",
              "      <th>0</th>\n",
              "      <td>C12116</td>\n",
              "      <td>27</td>\n",
              "    </tr>\n",
              "    <tr>\n",
              "      <th>1</th>\n",
              "      <td>C12119</td>\n",
              "      <td>28</td>\n",
              "    </tr>\n",
              "    <tr>\n",
              "      <th>2</th>\n",
              "      <td>C12122</td>\n",
              "      <td>45</td>\n",
              "    </tr>\n",
              "    <tr>\n",
              "      <th>3</th>\n",
              "      <td>C12123</td>\n",
              "      <td>22</td>\n",
              "    </tr>\n",
              "    <tr>\n",
              "      <th>4</th>\n",
              "      <td>C12124</td>\n",
              "      <td>28</td>\n",
              "    </tr>\n",
              "    <tr>\n",
              "      <th>...</th>\n",
              "      <td>...</td>\n",
              "      <td>...</td>\n",
              "    </tr>\n",
              "    <tr>\n",
              "      <th>13616</th>\n",
              "      <td>C42181</td>\n",
              "      <td>44</td>\n",
              "    </tr>\n",
              "    <tr>\n",
              "      <th>13617</th>\n",
              "      <td>C42182</td>\n",
              "      <td>47</td>\n",
              "    </tr>\n",
              "    <tr>\n",
              "      <th>13618</th>\n",
              "      <td>C42183</td>\n",
              "      <td>37</td>\n",
              "    </tr>\n",
              "    <tr>\n",
              "      <th>13619</th>\n",
              "      <td>C42185</td>\n",
              "      <td>34</td>\n",
              "    </tr>\n",
              "    <tr>\n",
              "      <th>13620</th>\n",
              "      <td>C42189</td>\n",
              "      <td>32</td>\n",
              "    </tr>\n",
              "  </tbody>\n",
              "</table>\n",
              "<p>13621 rows × 2 columns</p>\n",
              "</div>\n",
              "      <button class=\"colab-df-convert\" onclick=\"convertToInteractive('df-3baa8c5b-38a4-42df-ae15-039433f44ef0')\"\n",
              "              title=\"Convert this dataframe to an interactive table.\"\n",
              "              style=\"display:none;\">\n",
              "        \n",
              "  <svg xmlns=\"http://www.w3.org/2000/svg\" height=\"24px\"viewBox=\"0 0 24 24\"\n",
              "       width=\"24px\">\n",
              "    <path d=\"M0 0h24v24H0V0z\" fill=\"none\"/>\n",
              "    <path d=\"M18.56 5.44l.94 2.06.94-2.06 2.06-.94-2.06-.94-.94-2.06-.94 2.06-2.06.94zm-11 1L8.5 8.5l.94-2.06 2.06-.94-2.06-.94L8.5 2.5l-.94 2.06-2.06.94zm10 10l.94 2.06.94-2.06 2.06-.94-2.06-.94-.94-2.06-.94 2.06-2.06.94z\"/><path d=\"M17.41 7.96l-1.37-1.37c-.4-.4-.92-.59-1.43-.59-.52 0-1.04.2-1.43.59L10.3 9.45l-7.72 7.72c-.78.78-.78 2.05 0 2.83L4 21.41c.39.39.9.59 1.41.59.51 0 1.02-.2 1.41-.59l7.78-7.78 2.81-2.81c.8-.78.8-2.07 0-2.86zM5.41 20L4 18.59l7.72-7.72 1.47 1.35L5.41 20z\"/>\n",
              "  </svg>\n",
              "      </button>\n",
              "      \n",
              "  <style>\n",
              "    .colab-df-container {\n",
              "      display:flex;\n",
              "      flex-wrap:wrap;\n",
              "      gap: 12px;\n",
              "    }\n",
              "\n",
              "    .colab-df-convert {\n",
              "      background-color: #E8F0FE;\n",
              "      border: none;\n",
              "      border-radius: 50%;\n",
              "      cursor: pointer;\n",
              "      display: none;\n",
              "      fill: #1967D2;\n",
              "      height: 32px;\n",
              "      padding: 0 0 0 0;\n",
              "      width: 32px;\n",
              "    }\n",
              "\n",
              "    .colab-df-convert:hover {\n",
              "      background-color: #E2EBFA;\n",
              "      box-shadow: 0px 1px 2px rgba(60, 64, 67, 0.3), 0px 1px 3px 1px rgba(60, 64, 67, 0.15);\n",
              "      fill: #174EA6;\n",
              "    }\n",
              "\n",
              "    [theme=dark] .colab-df-convert {\n",
              "      background-color: #3B4455;\n",
              "      fill: #D2E3FC;\n",
              "    }\n",
              "\n",
              "    [theme=dark] .colab-df-convert:hover {\n",
              "      background-color: #434B5C;\n",
              "      box-shadow: 0px 1px 3px 1px rgba(0, 0, 0, 0.15);\n",
              "      filter: drop-shadow(0px 1px 2px rgba(0, 0, 0, 0.3));\n",
              "      fill: #FFFFFF;\n",
              "    }\n",
              "  </style>\n",
              "\n",
              "      <script>\n",
              "        const buttonEl =\n",
              "          document.querySelector('#df-3baa8c5b-38a4-42df-ae15-039433f44ef0 button.colab-df-convert');\n",
              "        buttonEl.style.display =\n",
              "          google.colab.kernel.accessAllowed ? 'block' : 'none';\n",
              "\n",
              "        async function convertToInteractive(key) {\n",
              "          const element = document.querySelector('#df-3baa8c5b-38a4-42df-ae15-039433f44ef0');\n",
              "          const dataTable =\n",
              "            await google.colab.kernel.invokeFunction('convertToInteractive',\n",
              "                                                     [key], {});\n",
              "          if (!dataTable) return;\n",
              "\n",
              "          const docLinkHtml = 'Like what you see? Visit the ' +\n",
              "            '<a target=\"_blank\" href=https://colab.research.google.com/notebooks/data_table.ipynb>data table notebook</a>'\n",
              "            + ' to learn more about interactive tables.';\n",
              "          element.innerHTML = '';\n",
              "          dataTable['output_type'] = 'display_data';\n",
              "          await google.colab.output.renderOutput(dataTable, element);\n",
              "          const docLink = document.createElement('div');\n",
              "          docLink.innerHTML = docLinkHtml;\n",
              "          element.appendChild(docLink);\n",
              "        }\n",
              "      </script>\n",
              "    </div>\n",
              "  </div>\n",
              "  "
            ]
          },
          "metadata": {},
          "execution_count": 55
        }
      ],
      "source": [
        "d4"
      ]
    },
    {
      "cell_type": "markdown",
      "metadata": {
        "id": "AazCeEa-HoJt"
      },
      "source": [
        "Again merging the datasets according to customer ids"
      ]
    },
    {
      "cell_type": "code",
      "execution_count": 56,
      "metadata": {
        "colab": {
          "base_uri": "https://localhost:8080/",
          "height": 424
        },
        "id": "IZNHdKwJHoJt",
        "outputId": "a4cb56b4-1dcd-4107-8bd3-bfdfd05fd547"
      },
      "outputs": [
        {
          "output_type": "execute_result",
          "data": {
            "text/plain": [
              "      CustomerID DateOfemail     EmailType MailOpened_x    MailClicked  \\\n",
              "0         C16368  2012-09-28  WelcomeEmail          yes  NotApplicable   \n",
              "1         C20345  2010-12-19  WelcomeEmail          yes  NotApplicable   \n",
              "2         C17683  2010-10-03  WelcomeEmail          yes  NotApplicable   \n",
              "3         C18647  2010-11-27  WelcomeEmail          yes  NotApplicable   \n",
              "4         C36692  2009-12-04  WelcomeEmail          yes  NotApplicable   \n",
              "...          ...         ...           ...          ...            ...   \n",
              "23815     C23511  2018-01-17  WelcomeEmail          yes  NotApplicable   \n",
              "23816     C12197  2018-01-17  WelcomeEmail          yes  NotApplicable   \n",
              "23817     C40967  2018-01-17  WelcomeEmail          yes  NotApplicable   \n",
              "23818     C36140  2018-01-17  WelcomeEmail          yes  NotApplicable   \n",
              "23819     C42003  2018-01-17  WelcomeEmail          yes  NotApplicable   \n",
              "\n",
              "       CustomMails  MailOpened_y  \n",
              "0             29.0          29.0  \n",
              "1             95.0          88.0  \n",
              "2              NaN           NaN  \n",
              "3             30.0          27.0  \n",
              "4             64.0          18.0  \n",
              "...            ...           ...  \n",
              "23815          NaN           NaN  \n",
              "23816          NaN           NaN  \n",
              "23817          NaN           NaN  \n",
              "23818          8.0           6.0  \n",
              "23819          NaN           NaN  \n",
              "\n",
              "[23820 rows x 7 columns]"
            ],
            "text/html": [
              "\n",
              "  <div id=\"df-d32bb1e4-7b32-488c-8bd8-10f39585b137\">\n",
              "    <div class=\"colab-df-container\">\n",
              "      <div>\n",
              "<style scoped>\n",
              "    .dataframe tbody tr th:only-of-type {\n",
              "        vertical-align: middle;\n",
              "    }\n",
              "\n",
              "    .dataframe tbody tr th {\n",
              "        vertical-align: top;\n",
              "    }\n",
              "\n",
              "    .dataframe thead th {\n",
              "        text-align: right;\n",
              "    }\n",
              "</style>\n",
              "<table border=\"1\" class=\"dataframe\">\n",
              "  <thead>\n",
              "    <tr style=\"text-align: right;\">\n",
              "      <th></th>\n",
              "      <th>CustomerID</th>\n",
              "      <th>DateOfemail</th>\n",
              "      <th>EmailType</th>\n",
              "      <th>MailOpened_x</th>\n",
              "      <th>MailClicked</th>\n",
              "      <th>CustomMails</th>\n",
              "      <th>MailOpened_y</th>\n",
              "    </tr>\n",
              "  </thead>\n",
              "  <tbody>\n",
              "    <tr>\n",
              "      <th>0</th>\n",
              "      <td>C16368</td>\n",
              "      <td>2012-09-28</td>\n",
              "      <td>WelcomeEmail</td>\n",
              "      <td>yes</td>\n",
              "      <td>NotApplicable</td>\n",
              "      <td>29.0</td>\n",
              "      <td>29.0</td>\n",
              "    </tr>\n",
              "    <tr>\n",
              "      <th>1</th>\n",
              "      <td>C20345</td>\n",
              "      <td>2010-12-19</td>\n",
              "      <td>WelcomeEmail</td>\n",
              "      <td>yes</td>\n",
              "      <td>NotApplicable</td>\n",
              "      <td>95.0</td>\n",
              "      <td>88.0</td>\n",
              "    </tr>\n",
              "    <tr>\n",
              "      <th>2</th>\n",
              "      <td>C17683</td>\n",
              "      <td>2010-10-03</td>\n",
              "      <td>WelcomeEmail</td>\n",
              "      <td>yes</td>\n",
              "      <td>NotApplicable</td>\n",
              "      <td>NaN</td>\n",
              "      <td>NaN</td>\n",
              "    </tr>\n",
              "    <tr>\n",
              "      <th>3</th>\n",
              "      <td>C18647</td>\n",
              "      <td>2010-11-27</td>\n",
              "      <td>WelcomeEmail</td>\n",
              "      <td>yes</td>\n",
              "      <td>NotApplicable</td>\n",
              "      <td>30.0</td>\n",
              "      <td>27.0</td>\n",
              "    </tr>\n",
              "    <tr>\n",
              "      <th>4</th>\n",
              "      <td>C36692</td>\n",
              "      <td>2009-12-04</td>\n",
              "      <td>WelcomeEmail</td>\n",
              "      <td>yes</td>\n",
              "      <td>NotApplicable</td>\n",
              "      <td>64.0</td>\n",
              "      <td>18.0</td>\n",
              "    </tr>\n",
              "    <tr>\n",
              "      <th>...</th>\n",
              "      <td>...</td>\n",
              "      <td>...</td>\n",
              "      <td>...</td>\n",
              "      <td>...</td>\n",
              "      <td>...</td>\n",
              "      <td>...</td>\n",
              "      <td>...</td>\n",
              "    </tr>\n",
              "    <tr>\n",
              "      <th>23815</th>\n",
              "      <td>C23511</td>\n",
              "      <td>2018-01-17</td>\n",
              "      <td>WelcomeEmail</td>\n",
              "      <td>yes</td>\n",
              "      <td>NotApplicable</td>\n",
              "      <td>NaN</td>\n",
              "      <td>NaN</td>\n",
              "    </tr>\n",
              "    <tr>\n",
              "      <th>23816</th>\n",
              "      <td>C12197</td>\n",
              "      <td>2018-01-17</td>\n",
              "      <td>WelcomeEmail</td>\n",
              "      <td>yes</td>\n",
              "      <td>NotApplicable</td>\n",
              "      <td>NaN</td>\n",
              "      <td>NaN</td>\n",
              "    </tr>\n",
              "    <tr>\n",
              "      <th>23817</th>\n",
              "      <td>C40967</td>\n",
              "      <td>2018-01-17</td>\n",
              "      <td>WelcomeEmail</td>\n",
              "      <td>yes</td>\n",
              "      <td>NotApplicable</td>\n",
              "      <td>NaN</td>\n",
              "      <td>NaN</td>\n",
              "    </tr>\n",
              "    <tr>\n",
              "      <th>23818</th>\n",
              "      <td>C36140</td>\n",
              "      <td>2018-01-17</td>\n",
              "      <td>WelcomeEmail</td>\n",
              "      <td>yes</td>\n",
              "      <td>NotApplicable</td>\n",
              "      <td>8.0</td>\n",
              "      <td>6.0</td>\n",
              "    </tr>\n",
              "    <tr>\n",
              "      <th>23819</th>\n",
              "      <td>C42003</td>\n",
              "      <td>2018-01-17</td>\n",
              "      <td>WelcomeEmail</td>\n",
              "      <td>yes</td>\n",
              "      <td>NotApplicable</td>\n",
              "      <td>NaN</td>\n",
              "      <td>NaN</td>\n",
              "    </tr>\n",
              "  </tbody>\n",
              "</table>\n",
              "<p>23820 rows × 7 columns</p>\n",
              "</div>\n",
              "      <button class=\"colab-df-convert\" onclick=\"convertToInteractive('df-d32bb1e4-7b32-488c-8bd8-10f39585b137')\"\n",
              "              title=\"Convert this dataframe to an interactive table.\"\n",
              "              style=\"display:none;\">\n",
              "        \n",
              "  <svg xmlns=\"http://www.w3.org/2000/svg\" height=\"24px\"viewBox=\"0 0 24 24\"\n",
              "       width=\"24px\">\n",
              "    <path d=\"M0 0h24v24H0V0z\" fill=\"none\"/>\n",
              "    <path d=\"M18.56 5.44l.94 2.06.94-2.06 2.06-.94-2.06-.94-.94-2.06-.94 2.06-2.06.94zm-11 1L8.5 8.5l.94-2.06 2.06-.94-2.06-.94L8.5 2.5l-.94 2.06-2.06.94zm10 10l.94 2.06.94-2.06 2.06-.94-2.06-.94-.94-2.06-.94 2.06-2.06.94z\"/><path d=\"M17.41 7.96l-1.37-1.37c-.4-.4-.92-.59-1.43-.59-.52 0-1.04.2-1.43.59L10.3 9.45l-7.72 7.72c-.78.78-.78 2.05 0 2.83L4 21.41c.39.39.9.59 1.41.59.51 0 1.02-.2 1.41-.59l7.78-7.78 2.81-2.81c.8-.78.8-2.07 0-2.86zM5.41 20L4 18.59l7.72-7.72 1.47 1.35L5.41 20z\"/>\n",
              "  </svg>\n",
              "      </button>\n",
              "      \n",
              "  <style>\n",
              "    .colab-df-container {\n",
              "      display:flex;\n",
              "      flex-wrap:wrap;\n",
              "      gap: 12px;\n",
              "    }\n",
              "\n",
              "    .colab-df-convert {\n",
              "      background-color: #E8F0FE;\n",
              "      border: none;\n",
              "      border-radius: 50%;\n",
              "      cursor: pointer;\n",
              "      display: none;\n",
              "      fill: #1967D2;\n",
              "      height: 32px;\n",
              "      padding: 0 0 0 0;\n",
              "      width: 32px;\n",
              "    }\n",
              "\n",
              "    .colab-df-convert:hover {\n",
              "      background-color: #E2EBFA;\n",
              "      box-shadow: 0px 1px 2px rgba(60, 64, 67, 0.3), 0px 1px 3px 1px rgba(60, 64, 67, 0.15);\n",
              "      fill: #174EA6;\n",
              "    }\n",
              "\n",
              "    [theme=dark] .colab-df-convert {\n",
              "      background-color: #3B4455;\n",
              "      fill: #D2E3FC;\n",
              "    }\n",
              "\n",
              "    [theme=dark] .colab-df-convert:hover {\n",
              "      background-color: #434B5C;\n",
              "      box-shadow: 0px 1px 3px 1px rgba(0, 0, 0, 0.15);\n",
              "      filter: drop-shadow(0px 1px 2px rgba(0, 0, 0, 0.3));\n",
              "      fill: #FFFFFF;\n",
              "    }\n",
              "  </style>\n",
              "\n",
              "      <script>\n",
              "        const buttonEl =\n",
              "          document.querySelector('#df-d32bb1e4-7b32-488c-8bd8-10f39585b137 button.colab-df-convert');\n",
              "        buttonEl.style.display =\n",
              "          google.colab.kernel.accessAllowed ? 'block' : 'none';\n",
              "\n",
              "        async function convertToInteractive(key) {\n",
              "          const element = document.querySelector('#df-d32bb1e4-7b32-488c-8bd8-10f39585b137');\n",
              "          const dataTable =\n",
              "            await google.colab.kernel.invokeFunction('convertToInteractive',\n",
              "                                                     [key], {});\n",
              "          if (!dataTable) return;\n",
              "\n",
              "          const docLinkHtml = 'Like what you see? Visit the ' +\n",
              "            '<a target=\"_blank\" href=https://colab.research.google.com/notebooks/data_table.ipynb>data table notebook</a>'\n",
              "            + ' to learn more about interactive tables.';\n",
              "          element.innerHTML = '';\n",
              "          dataTable['output_type'] = 'display_data';\n",
              "          await google.colab.output.renderOutput(dataTable, element);\n",
              "          const docLink = document.createElement('div');\n",
              "          docLink.innerHTML = docLinkHtml;\n",
              "          element.appendChild(docLink);\n",
              "        }\n",
              "      </script>\n",
              "    </div>\n",
              "  </div>\n",
              "  "
            ]
          },
          "metadata": {},
          "execution_count": 56
        }
      ],
      "source": [
        "data4 = pd.merge(data3,d3,on=['CustomerID'],how='outer')\n",
        "data4"
      ]
    },
    {
      "cell_type": "code",
      "execution_count": 57,
      "metadata": {
        "colab": {
          "base_uri": "https://localhost:8080/",
          "height": 206
        },
        "id": "2roqAfzQHoJt",
        "outputId": "71703570-3bfc-442a-a07d-2c39b75a971c"
      },
      "outputs": [
        {
          "output_type": "execute_result",
          "data": {
            "text/plain": [
              "  CustomerID DateOfemail     EmailType MailOpened_x    MailClicked  \\\n",
              "0     C16368  2012-09-28  WelcomeEmail          yes  NotApplicable   \n",
              "1     C20345  2010-12-19  WelcomeEmail          yes  NotApplicable   \n",
              "2     C17683  2010-10-03  WelcomeEmail          yes  NotApplicable   \n",
              "3     C18647  2010-11-27  WelcomeEmail          yes  NotApplicable   \n",
              "4     C36692  2009-12-04  WelcomeEmail          yes  NotApplicable   \n",
              "\n",
              "   CustomMails  MailOpened_y  MailOpened  \n",
              "0         29.0          29.0         NaN  \n",
              "1         95.0          88.0         7.0  \n",
              "2          NaN           NaN         NaN  \n",
              "3         30.0          27.0         3.0  \n",
              "4         64.0          18.0        46.0  "
            ],
            "text/html": [
              "\n",
              "  <div id=\"df-c157c717-5b74-4e01-b673-35f522bf8587\">\n",
              "    <div class=\"colab-df-container\">\n",
              "      <div>\n",
              "<style scoped>\n",
              "    .dataframe tbody tr th:only-of-type {\n",
              "        vertical-align: middle;\n",
              "    }\n",
              "\n",
              "    .dataframe tbody tr th {\n",
              "        vertical-align: top;\n",
              "    }\n",
              "\n",
              "    .dataframe thead th {\n",
              "        text-align: right;\n",
              "    }\n",
              "</style>\n",
              "<table border=\"1\" class=\"dataframe\">\n",
              "  <thead>\n",
              "    <tr style=\"text-align: right;\">\n",
              "      <th></th>\n",
              "      <th>CustomerID</th>\n",
              "      <th>DateOfemail</th>\n",
              "      <th>EmailType</th>\n",
              "      <th>MailOpened_x</th>\n",
              "      <th>MailClicked</th>\n",
              "      <th>CustomMails</th>\n",
              "      <th>MailOpened_y</th>\n",
              "      <th>MailOpened</th>\n",
              "    </tr>\n",
              "  </thead>\n",
              "  <tbody>\n",
              "    <tr>\n",
              "      <th>0</th>\n",
              "      <td>C16368</td>\n",
              "      <td>2012-09-28</td>\n",
              "      <td>WelcomeEmail</td>\n",
              "      <td>yes</td>\n",
              "      <td>NotApplicable</td>\n",
              "      <td>29.0</td>\n",
              "      <td>29.0</td>\n",
              "      <td>NaN</td>\n",
              "    </tr>\n",
              "    <tr>\n",
              "      <th>1</th>\n",
              "      <td>C20345</td>\n",
              "      <td>2010-12-19</td>\n",
              "      <td>WelcomeEmail</td>\n",
              "      <td>yes</td>\n",
              "      <td>NotApplicable</td>\n",
              "      <td>95.0</td>\n",
              "      <td>88.0</td>\n",
              "      <td>7.0</td>\n",
              "    </tr>\n",
              "    <tr>\n",
              "      <th>2</th>\n",
              "      <td>C17683</td>\n",
              "      <td>2010-10-03</td>\n",
              "      <td>WelcomeEmail</td>\n",
              "      <td>yes</td>\n",
              "      <td>NotApplicable</td>\n",
              "      <td>NaN</td>\n",
              "      <td>NaN</td>\n",
              "      <td>NaN</td>\n",
              "    </tr>\n",
              "    <tr>\n",
              "      <th>3</th>\n",
              "      <td>C18647</td>\n",
              "      <td>2010-11-27</td>\n",
              "      <td>WelcomeEmail</td>\n",
              "      <td>yes</td>\n",
              "      <td>NotApplicable</td>\n",
              "      <td>30.0</td>\n",
              "      <td>27.0</td>\n",
              "      <td>3.0</td>\n",
              "    </tr>\n",
              "    <tr>\n",
              "      <th>4</th>\n",
              "      <td>C36692</td>\n",
              "      <td>2009-12-04</td>\n",
              "      <td>WelcomeEmail</td>\n",
              "      <td>yes</td>\n",
              "      <td>NotApplicable</td>\n",
              "      <td>64.0</td>\n",
              "      <td>18.0</td>\n",
              "      <td>46.0</td>\n",
              "    </tr>\n",
              "  </tbody>\n",
              "</table>\n",
              "</div>\n",
              "      <button class=\"colab-df-convert\" onclick=\"convertToInteractive('df-c157c717-5b74-4e01-b673-35f522bf8587')\"\n",
              "              title=\"Convert this dataframe to an interactive table.\"\n",
              "              style=\"display:none;\">\n",
              "        \n",
              "  <svg xmlns=\"http://www.w3.org/2000/svg\" height=\"24px\"viewBox=\"0 0 24 24\"\n",
              "       width=\"24px\">\n",
              "    <path d=\"M0 0h24v24H0V0z\" fill=\"none\"/>\n",
              "    <path d=\"M18.56 5.44l.94 2.06.94-2.06 2.06-.94-2.06-.94-.94-2.06-.94 2.06-2.06.94zm-11 1L8.5 8.5l.94-2.06 2.06-.94-2.06-.94L8.5 2.5l-.94 2.06-2.06.94zm10 10l.94 2.06.94-2.06 2.06-.94-2.06-.94-.94-2.06-.94 2.06-2.06.94z\"/><path d=\"M17.41 7.96l-1.37-1.37c-.4-.4-.92-.59-1.43-.59-.52 0-1.04.2-1.43.59L10.3 9.45l-7.72 7.72c-.78.78-.78 2.05 0 2.83L4 21.41c.39.39.9.59 1.41.59.51 0 1.02-.2 1.41-.59l7.78-7.78 2.81-2.81c.8-.78.8-2.07 0-2.86zM5.41 20L4 18.59l7.72-7.72 1.47 1.35L5.41 20z\"/>\n",
              "  </svg>\n",
              "      </button>\n",
              "      \n",
              "  <style>\n",
              "    .colab-df-container {\n",
              "      display:flex;\n",
              "      flex-wrap:wrap;\n",
              "      gap: 12px;\n",
              "    }\n",
              "\n",
              "    .colab-df-convert {\n",
              "      background-color: #E8F0FE;\n",
              "      border: none;\n",
              "      border-radius: 50%;\n",
              "      cursor: pointer;\n",
              "      display: none;\n",
              "      fill: #1967D2;\n",
              "      height: 32px;\n",
              "      padding: 0 0 0 0;\n",
              "      width: 32px;\n",
              "    }\n",
              "\n",
              "    .colab-df-convert:hover {\n",
              "      background-color: #E2EBFA;\n",
              "      box-shadow: 0px 1px 2px rgba(60, 64, 67, 0.3), 0px 1px 3px 1px rgba(60, 64, 67, 0.15);\n",
              "      fill: #174EA6;\n",
              "    }\n",
              "\n",
              "    [theme=dark] .colab-df-convert {\n",
              "      background-color: #3B4455;\n",
              "      fill: #D2E3FC;\n",
              "    }\n",
              "\n",
              "    [theme=dark] .colab-df-convert:hover {\n",
              "      background-color: #434B5C;\n",
              "      box-shadow: 0px 1px 3px 1px rgba(0, 0, 0, 0.15);\n",
              "      filter: drop-shadow(0px 1px 2px rgba(0, 0, 0, 0.3));\n",
              "      fill: #FFFFFF;\n",
              "    }\n",
              "  </style>\n",
              "\n",
              "      <script>\n",
              "        const buttonEl =\n",
              "          document.querySelector('#df-c157c717-5b74-4e01-b673-35f522bf8587 button.colab-df-convert');\n",
              "        buttonEl.style.display =\n",
              "          google.colab.kernel.accessAllowed ? 'block' : 'none';\n",
              "\n",
              "        async function convertToInteractive(key) {\n",
              "          const element = document.querySelector('#df-c157c717-5b74-4e01-b673-35f522bf8587');\n",
              "          const dataTable =\n",
              "            await google.colab.kernel.invokeFunction('convertToInteractive',\n",
              "                                                     [key], {});\n",
              "          if (!dataTable) return;\n",
              "\n",
              "          const docLinkHtml = 'Like what you see? Visit the ' +\n",
              "            '<a target=\"_blank\" href=https://colab.research.google.com/notebooks/data_table.ipynb>data table notebook</a>'\n",
              "            + ' to learn more about interactive tables.';\n",
              "          element.innerHTML = '';\n",
              "          dataTable['output_type'] = 'display_data';\n",
              "          await google.colab.output.renderOutput(dataTable, element);\n",
              "          const docLink = document.createElement('div');\n",
              "          docLink.innerHTML = docLinkHtml;\n",
              "          element.appendChild(docLink);\n",
              "        }\n",
              "      </script>\n",
              "    </div>\n",
              "  </div>\n",
              "  "
            ]
          },
          "metadata": {},
          "execution_count": 57
        }
      ],
      "source": [
        "data5 = pd.merge(data4,d4,on=['CustomerID'],how='outer')\n",
        "data5.head()"
      ]
    },
    {
      "cell_type": "markdown",
      "metadata": {
        "id": "zsSHhR3AHoJt"
      },
      "source": [
        "Renaming the columns"
      ]
    },
    {
      "cell_type": "code",
      "execution_count": 58,
      "metadata": {
        "id": "sZz-O0HLHoJt"
      },
      "outputs": [],
      "source": [
        "data5 = data5.rename(columns={'MailOpened_x':'MailOpened','MailOpened_y':'CustomMail_Open','MailOpened':'CustomMail_No'})"
      ]
    },
    {
      "cell_type": "code",
      "execution_count": 59,
      "metadata": {
        "colab": {
          "base_uri": "https://localhost:8080/",
          "height": 206
        },
        "id": "ovZgszEoHoJt",
        "outputId": "fe9dc6e4-c979-4d98-ebf6-109d66cafedd"
      },
      "outputs": [
        {
          "output_type": "execute_result",
          "data": {
            "text/plain": [
              "  CustomerID DateOfemail     EmailType MailOpened    MailClicked  CustomMails  \\\n",
              "0     C16368  2012-09-28  WelcomeEmail        yes  NotApplicable         29.0   \n",
              "1     C20345  2010-12-19  WelcomeEmail        yes  NotApplicable         95.0   \n",
              "2     C17683  2010-10-03  WelcomeEmail        yes  NotApplicable          NaN   \n",
              "3     C18647  2010-11-27  WelcomeEmail        yes  NotApplicable         30.0   \n",
              "4     C36692  2009-12-04  WelcomeEmail        yes  NotApplicable         64.0   \n",
              "\n",
              "   CustomMail_Open  CustomMail_No  \n",
              "0             29.0            NaN  \n",
              "1             88.0            7.0  \n",
              "2              NaN            NaN  \n",
              "3             27.0            3.0  \n",
              "4             18.0           46.0  "
            ],
            "text/html": [
              "\n",
              "  <div id=\"df-1af81e88-1e06-444a-b203-b0947cd1606e\">\n",
              "    <div class=\"colab-df-container\">\n",
              "      <div>\n",
              "<style scoped>\n",
              "    .dataframe tbody tr th:only-of-type {\n",
              "        vertical-align: middle;\n",
              "    }\n",
              "\n",
              "    .dataframe tbody tr th {\n",
              "        vertical-align: top;\n",
              "    }\n",
              "\n",
              "    .dataframe thead th {\n",
              "        text-align: right;\n",
              "    }\n",
              "</style>\n",
              "<table border=\"1\" class=\"dataframe\">\n",
              "  <thead>\n",
              "    <tr style=\"text-align: right;\">\n",
              "      <th></th>\n",
              "      <th>CustomerID</th>\n",
              "      <th>DateOfemail</th>\n",
              "      <th>EmailType</th>\n",
              "      <th>MailOpened</th>\n",
              "      <th>MailClicked</th>\n",
              "      <th>CustomMails</th>\n",
              "      <th>CustomMail_Open</th>\n",
              "      <th>CustomMail_No</th>\n",
              "    </tr>\n",
              "  </thead>\n",
              "  <tbody>\n",
              "    <tr>\n",
              "      <th>0</th>\n",
              "      <td>C16368</td>\n",
              "      <td>2012-09-28</td>\n",
              "      <td>WelcomeEmail</td>\n",
              "      <td>yes</td>\n",
              "      <td>NotApplicable</td>\n",
              "      <td>29.0</td>\n",
              "      <td>29.0</td>\n",
              "      <td>NaN</td>\n",
              "    </tr>\n",
              "    <tr>\n",
              "      <th>1</th>\n",
              "      <td>C20345</td>\n",
              "      <td>2010-12-19</td>\n",
              "      <td>WelcomeEmail</td>\n",
              "      <td>yes</td>\n",
              "      <td>NotApplicable</td>\n",
              "      <td>95.0</td>\n",
              "      <td>88.0</td>\n",
              "      <td>7.0</td>\n",
              "    </tr>\n",
              "    <tr>\n",
              "      <th>2</th>\n",
              "      <td>C17683</td>\n",
              "      <td>2010-10-03</td>\n",
              "      <td>WelcomeEmail</td>\n",
              "      <td>yes</td>\n",
              "      <td>NotApplicable</td>\n",
              "      <td>NaN</td>\n",
              "      <td>NaN</td>\n",
              "      <td>NaN</td>\n",
              "    </tr>\n",
              "    <tr>\n",
              "      <th>3</th>\n",
              "      <td>C18647</td>\n",
              "      <td>2010-11-27</td>\n",
              "      <td>WelcomeEmail</td>\n",
              "      <td>yes</td>\n",
              "      <td>NotApplicable</td>\n",
              "      <td>30.0</td>\n",
              "      <td>27.0</td>\n",
              "      <td>3.0</td>\n",
              "    </tr>\n",
              "    <tr>\n",
              "      <th>4</th>\n",
              "      <td>C36692</td>\n",
              "      <td>2009-12-04</td>\n",
              "      <td>WelcomeEmail</td>\n",
              "      <td>yes</td>\n",
              "      <td>NotApplicable</td>\n",
              "      <td>64.0</td>\n",
              "      <td>18.0</td>\n",
              "      <td>46.0</td>\n",
              "    </tr>\n",
              "  </tbody>\n",
              "</table>\n",
              "</div>\n",
              "      <button class=\"colab-df-convert\" onclick=\"convertToInteractive('df-1af81e88-1e06-444a-b203-b0947cd1606e')\"\n",
              "              title=\"Convert this dataframe to an interactive table.\"\n",
              "              style=\"display:none;\">\n",
              "        \n",
              "  <svg xmlns=\"http://www.w3.org/2000/svg\" height=\"24px\"viewBox=\"0 0 24 24\"\n",
              "       width=\"24px\">\n",
              "    <path d=\"M0 0h24v24H0V0z\" fill=\"none\"/>\n",
              "    <path d=\"M18.56 5.44l.94 2.06.94-2.06 2.06-.94-2.06-.94-.94-2.06-.94 2.06-2.06.94zm-11 1L8.5 8.5l.94-2.06 2.06-.94-2.06-.94L8.5 2.5l-.94 2.06-2.06.94zm10 10l.94 2.06.94-2.06 2.06-.94-2.06-.94-.94-2.06-.94 2.06-2.06.94z\"/><path d=\"M17.41 7.96l-1.37-1.37c-.4-.4-.92-.59-1.43-.59-.52 0-1.04.2-1.43.59L10.3 9.45l-7.72 7.72c-.78.78-.78 2.05 0 2.83L4 21.41c.39.39.9.59 1.41.59.51 0 1.02-.2 1.41-.59l7.78-7.78 2.81-2.81c.8-.78.8-2.07 0-2.86zM5.41 20L4 18.59l7.72-7.72 1.47 1.35L5.41 20z\"/>\n",
              "  </svg>\n",
              "      </button>\n",
              "      \n",
              "  <style>\n",
              "    .colab-df-container {\n",
              "      display:flex;\n",
              "      flex-wrap:wrap;\n",
              "      gap: 12px;\n",
              "    }\n",
              "\n",
              "    .colab-df-convert {\n",
              "      background-color: #E8F0FE;\n",
              "      border: none;\n",
              "      border-radius: 50%;\n",
              "      cursor: pointer;\n",
              "      display: none;\n",
              "      fill: #1967D2;\n",
              "      height: 32px;\n",
              "      padding: 0 0 0 0;\n",
              "      width: 32px;\n",
              "    }\n",
              "\n",
              "    .colab-df-convert:hover {\n",
              "      background-color: #E2EBFA;\n",
              "      box-shadow: 0px 1px 2px rgba(60, 64, 67, 0.3), 0px 1px 3px 1px rgba(60, 64, 67, 0.15);\n",
              "      fill: #174EA6;\n",
              "    }\n",
              "\n",
              "    [theme=dark] .colab-df-convert {\n",
              "      background-color: #3B4455;\n",
              "      fill: #D2E3FC;\n",
              "    }\n",
              "\n",
              "    [theme=dark] .colab-df-convert:hover {\n",
              "      background-color: #434B5C;\n",
              "      box-shadow: 0px 1px 3px 1px rgba(0, 0, 0, 0.15);\n",
              "      filter: drop-shadow(0px 1px 2px rgba(0, 0, 0, 0.3));\n",
              "      fill: #FFFFFF;\n",
              "    }\n",
              "  </style>\n",
              "\n",
              "      <script>\n",
              "        const buttonEl =\n",
              "          document.querySelector('#df-1af81e88-1e06-444a-b203-b0947cd1606e button.colab-df-convert');\n",
              "        buttonEl.style.display =\n",
              "          google.colab.kernel.accessAllowed ? 'block' : 'none';\n",
              "\n",
              "        async function convertToInteractive(key) {\n",
              "          const element = document.querySelector('#df-1af81e88-1e06-444a-b203-b0947cd1606e');\n",
              "          const dataTable =\n",
              "            await google.colab.kernel.invokeFunction('convertToInteractive',\n",
              "                                                     [key], {});\n",
              "          if (!dataTable) return;\n",
              "\n",
              "          const docLinkHtml = 'Like what you see? Visit the ' +\n",
              "            '<a target=\"_blank\" href=https://colab.research.google.com/notebooks/data_table.ipynb>data table notebook</a>'\n",
              "            + ' to learn more about interactive tables.';\n",
              "          element.innerHTML = '';\n",
              "          dataTable['output_type'] = 'display_data';\n",
              "          await google.colab.output.renderOutput(dataTable, element);\n",
              "          const docLink = document.createElement('div');\n",
              "          docLink.innerHTML = docLinkHtml;\n",
              "          element.appendChild(docLink);\n",
              "        }\n",
              "      </script>\n",
              "    </div>\n",
              "  </div>\n",
              "  "
            ]
          },
          "metadata": {},
          "execution_count": 59
        }
      ],
      "source": [
        "data5.head()"
      ]
    },
    {
      "cell_type": "code",
      "execution_count": 60,
      "metadata": {
        "colab": {
          "base_uri": "https://localhost:8080/",
          "height": 206
        },
        "id": "VVeTBdfKHoJt",
        "outputId": "8db448e2-2964-482d-8921-d2b8569e7e47"
      },
      "outputs": [
        {
          "output_type": "execute_result",
          "data": {
            "text/plain": [
              "      CustomerID DateOfemail        EmailType MailOpened MailClicked\n",
              "23820     C16368  2013-05-20  CustomizedEmail        yes          no\n",
              "23821     C16368  2013-02-05  CustomizedEmail        yes          no\n",
              "23822     C16368  2012-11-26  CustomizedEmail        yes          no\n",
              "23823     C16368  2013-05-30  CustomizedEmail        yes          no\n",
              "23824     C16368  2013-05-18  CustomizedEmail        yes          no"
            ],
            "text/html": [
              "\n",
              "  <div id=\"df-24d52979-5535-4ae0-a8b2-e7455cc80747\">\n",
              "    <div class=\"colab-df-container\">\n",
              "      <div>\n",
              "<style scoped>\n",
              "    .dataframe tbody tr th:only-of-type {\n",
              "        vertical-align: middle;\n",
              "    }\n",
              "\n",
              "    .dataframe tbody tr th {\n",
              "        vertical-align: top;\n",
              "    }\n",
              "\n",
              "    .dataframe thead th {\n",
              "        text-align: right;\n",
              "    }\n",
              "</style>\n",
              "<table border=\"1\" class=\"dataframe\">\n",
              "  <thead>\n",
              "    <tr style=\"text-align: right;\">\n",
              "      <th></th>\n",
              "      <th>CustomerID</th>\n",
              "      <th>DateOfemail</th>\n",
              "      <th>EmailType</th>\n",
              "      <th>MailOpened</th>\n",
              "      <th>MailClicked</th>\n",
              "    </tr>\n",
              "  </thead>\n",
              "  <tbody>\n",
              "    <tr>\n",
              "      <th>23820</th>\n",
              "      <td>C16368</td>\n",
              "      <td>2013-05-20</td>\n",
              "      <td>CustomizedEmail</td>\n",
              "      <td>yes</td>\n",
              "      <td>no</td>\n",
              "    </tr>\n",
              "    <tr>\n",
              "      <th>23821</th>\n",
              "      <td>C16368</td>\n",
              "      <td>2013-02-05</td>\n",
              "      <td>CustomizedEmail</td>\n",
              "      <td>yes</td>\n",
              "      <td>no</td>\n",
              "    </tr>\n",
              "    <tr>\n",
              "      <th>23822</th>\n",
              "      <td>C16368</td>\n",
              "      <td>2012-11-26</td>\n",
              "      <td>CustomizedEmail</td>\n",
              "      <td>yes</td>\n",
              "      <td>no</td>\n",
              "    </tr>\n",
              "    <tr>\n",
              "      <th>23823</th>\n",
              "      <td>C16368</td>\n",
              "      <td>2013-05-30</td>\n",
              "      <td>CustomizedEmail</td>\n",
              "      <td>yes</td>\n",
              "      <td>no</td>\n",
              "    </tr>\n",
              "    <tr>\n",
              "      <th>23824</th>\n",
              "      <td>C16368</td>\n",
              "      <td>2013-05-18</td>\n",
              "      <td>CustomizedEmail</td>\n",
              "      <td>yes</td>\n",
              "      <td>no</td>\n",
              "    </tr>\n",
              "  </tbody>\n",
              "</table>\n",
              "</div>\n",
              "      <button class=\"colab-df-convert\" onclick=\"convertToInteractive('df-24d52979-5535-4ae0-a8b2-e7455cc80747')\"\n",
              "              title=\"Convert this dataframe to an interactive table.\"\n",
              "              style=\"display:none;\">\n",
              "        \n",
              "  <svg xmlns=\"http://www.w3.org/2000/svg\" height=\"24px\"viewBox=\"0 0 24 24\"\n",
              "       width=\"24px\">\n",
              "    <path d=\"M0 0h24v24H0V0z\" fill=\"none\"/>\n",
              "    <path d=\"M18.56 5.44l.94 2.06.94-2.06 2.06-.94-2.06-.94-.94-2.06-.94 2.06-2.06.94zm-11 1L8.5 8.5l.94-2.06 2.06-.94-2.06-.94L8.5 2.5l-.94 2.06-2.06.94zm10 10l.94 2.06.94-2.06 2.06-.94-2.06-.94-.94-2.06-.94 2.06-2.06.94z\"/><path d=\"M17.41 7.96l-1.37-1.37c-.4-.4-.92-.59-1.43-.59-.52 0-1.04.2-1.43.59L10.3 9.45l-7.72 7.72c-.78.78-.78 2.05 0 2.83L4 21.41c.39.39.9.59 1.41.59.51 0 1.02-.2 1.41-.59l7.78-7.78 2.81-2.81c.8-.78.8-2.07 0-2.86zM5.41 20L4 18.59l7.72-7.72 1.47 1.35L5.41 20z\"/>\n",
              "  </svg>\n",
              "      </button>\n",
              "      \n",
              "  <style>\n",
              "    .colab-df-container {\n",
              "      display:flex;\n",
              "      flex-wrap:wrap;\n",
              "      gap: 12px;\n",
              "    }\n",
              "\n",
              "    .colab-df-convert {\n",
              "      background-color: #E8F0FE;\n",
              "      border: none;\n",
              "      border-radius: 50%;\n",
              "      cursor: pointer;\n",
              "      display: none;\n",
              "      fill: #1967D2;\n",
              "      height: 32px;\n",
              "      padding: 0 0 0 0;\n",
              "      width: 32px;\n",
              "    }\n",
              "\n",
              "    .colab-df-convert:hover {\n",
              "      background-color: #E2EBFA;\n",
              "      box-shadow: 0px 1px 2px rgba(60, 64, 67, 0.3), 0px 1px 3px 1px rgba(60, 64, 67, 0.15);\n",
              "      fill: #174EA6;\n",
              "    }\n",
              "\n",
              "    [theme=dark] .colab-df-convert {\n",
              "      background-color: #3B4455;\n",
              "      fill: #D2E3FC;\n",
              "    }\n",
              "\n",
              "    [theme=dark] .colab-df-convert:hover {\n",
              "      background-color: #434B5C;\n",
              "      box-shadow: 0px 1px 3px 1px rgba(0, 0, 0, 0.15);\n",
              "      filter: drop-shadow(0px 1px 2px rgba(0, 0, 0, 0.3));\n",
              "      fill: #FFFFFF;\n",
              "    }\n",
              "  </style>\n",
              "\n",
              "      <script>\n",
              "        const buttonEl =\n",
              "          document.querySelector('#df-24d52979-5535-4ae0-a8b2-e7455cc80747 button.colab-df-convert');\n",
              "        buttonEl.style.display =\n",
              "          google.colab.kernel.accessAllowed ? 'block' : 'none';\n",
              "\n",
              "        async function convertToInteractive(key) {\n",
              "          const element = document.querySelector('#df-24d52979-5535-4ae0-a8b2-e7455cc80747');\n",
              "          const dataTable =\n",
              "            await google.colab.kernel.invokeFunction('convertToInteractive',\n",
              "                                                     [key], {});\n",
              "          if (!dataTable) return;\n",
              "\n",
              "          const docLinkHtml = 'Like what you see? Visit the ' +\n",
              "            '<a target=\"_blank\" href=https://colab.research.google.com/notebooks/data_table.ipynb>data table notebook</a>'\n",
              "            + ' to learn more about interactive tables.';\n",
              "          element.innerHTML = '';\n",
              "          dataTable['output_type'] = 'display_data';\n",
              "          await google.colab.output.renderOutput(dataTable, element);\n",
              "          const docLink = document.createElement('div');\n",
              "          docLink.innerHTML = docLinkHtml;\n",
              "          element.appendChild(docLink);\n",
              "        }\n",
              "      </script>\n",
              "    </div>\n",
              "  </div>\n",
              "  "
            ]
          },
          "metadata": {},
          "execution_count": 60
        }
      ],
      "source": [
        "df4_2.head()"
      ]
    },
    {
      "cell_type": "markdown",
      "metadata": {
        "id": "4WHHbkfaHoJt"
      },
      "source": [
        "Again separating the mailclicked with yes and no"
      ]
    },
    {
      "cell_type": "code",
      "execution_count": 61,
      "metadata": {
        "id": "iH-kT3LlHoJt"
      },
      "outputs": [],
      "source": [
        "df4_5 = df4_2.loc[df4_2['MailClicked']=='yes']\n",
        "df4_6 = df4_2.loc[df4_2['MailClicked']=='no']"
      ]
    },
    {
      "cell_type": "markdown",
      "metadata": {
        "id": "cmVQXG84HoJt"
      },
      "source": [
        "Taking the count for yes and no for mail clicked"
      ]
    },
    {
      "cell_type": "code",
      "execution_count": 62,
      "metadata": {
        "colab": {
          "base_uri": "https://localhost:8080/",
          "height": 424
        },
        "id": "dLF9nXabHoJt",
        "outputId": "a611b747-fcb5-4b12-8281-45e8f875eea6"
      },
      "outputs": [
        {
          "output_type": "execute_result",
          "data": {
            "text/plain": [
              "     CustomerID  MailClicked\n",
              "0        C12116            2\n",
              "1        C12119            4\n",
              "2        C12123            5\n",
              "3        C12129            1\n",
              "4        C12130            1\n",
              "...         ...          ...\n",
              "8631     C42176           10\n",
              "8632     C42177            2\n",
              "8633     C42181            1\n",
              "8634     C42182            1\n",
              "8635     C42183            3\n",
              "\n",
              "[8636 rows x 2 columns]"
            ],
            "text/html": [
              "\n",
              "  <div id=\"df-255934df-822c-4198-b629-b42e34cc14c9\">\n",
              "    <div class=\"colab-df-container\">\n",
              "      <div>\n",
              "<style scoped>\n",
              "    .dataframe tbody tr th:only-of-type {\n",
              "        vertical-align: middle;\n",
              "    }\n",
              "\n",
              "    .dataframe tbody tr th {\n",
              "        vertical-align: top;\n",
              "    }\n",
              "\n",
              "    .dataframe thead th {\n",
              "        text-align: right;\n",
              "    }\n",
              "</style>\n",
              "<table border=\"1\" class=\"dataframe\">\n",
              "  <thead>\n",
              "    <tr style=\"text-align: right;\">\n",
              "      <th></th>\n",
              "      <th>CustomerID</th>\n",
              "      <th>MailClicked</th>\n",
              "    </tr>\n",
              "  </thead>\n",
              "  <tbody>\n",
              "    <tr>\n",
              "      <th>0</th>\n",
              "      <td>C12116</td>\n",
              "      <td>2</td>\n",
              "    </tr>\n",
              "    <tr>\n",
              "      <th>1</th>\n",
              "      <td>C12119</td>\n",
              "      <td>4</td>\n",
              "    </tr>\n",
              "    <tr>\n",
              "      <th>2</th>\n",
              "      <td>C12123</td>\n",
              "      <td>5</td>\n",
              "    </tr>\n",
              "    <tr>\n",
              "      <th>3</th>\n",
              "      <td>C12129</td>\n",
              "      <td>1</td>\n",
              "    </tr>\n",
              "    <tr>\n",
              "      <th>4</th>\n",
              "      <td>C12130</td>\n",
              "      <td>1</td>\n",
              "    </tr>\n",
              "    <tr>\n",
              "      <th>...</th>\n",
              "      <td>...</td>\n",
              "      <td>...</td>\n",
              "    </tr>\n",
              "    <tr>\n",
              "      <th>8631</th>\n",
              "      <td>C42176</td>\n",
              "      <td>10</td>\n",
              "    </tr>\n",
              "    <tr>\n",
              "      <th>8632</th>\n",
              "      <td>C42177</td>\n",
              "      <td>2</td>\n",
              "    </tr>\n",
              "    <tr>\n",
              "      <th>8633</th>\n",
              "      <td>C42181</td>\n",
              "      <td>1</td>\n",
              "    </tr>\n",
              "    <tr>\n",
              "      <th>8634</th>\n",
              "      <td>C42182</td>\n",
              "      <td>1</td>\n",
              "    </tr>\n",
              "    <tr>\n",
              "      <th>8635</th>\n",
              "      <td>C42183</td>\n",
              "      <td>3</td>\n",
              "    </tr>\n",
              "  </tbody>\n",
              "</table>\n",
              "<p>8636 rows × 2 columns</p>\n",
              "</div>\n",
              "      <button class=\"colab-df-convert\" onclick=\"convertToInteractive('df-255934df-822c-4198-b629-b42e34cc14c9')\"\n",
              "              title=\"Convert this dataframe to an interactive table.\"\n",
              "              style=\"display:none;\">\n",
              "        \n",
              "  <svg xmlns=\"http://www.w3.org/2000/svg\" height=\"24px\"viewBox=\"0 0 24 24\"\n",
              "       width=\"24px\">\n",
              "    <path d=\"M0 0h24v24H0V0z\" fill=\"none\"/>\n",
              "    <path d=\"M18.56 5.44l.94 2.06.94-2.06 2.06-.94-2.06-.94-.94-2.06-.94 2.06-2.06.94zm-11 1L8.5 8.5l.94-2.06 2.06-.94-2.06-.94L8.5 2.5l-.94 2.06-2.06.94zm10 10l.94 2.06.94-2.06 2.06-.94-2.06-.94-.94-2.06-.94 2.06-2.06.94z\"/><path d=\"M17.41 7.96l-1.37-1.37c-.4-.4-.92-.59-1.43-.59-.52 0-1.04.2-1.43.59L10.3 9.45l-7.72 7.72c-.78.78-.78 2.05 0 2.83L4 21.41c.39.39.9.59 1.41.59.51 0 1.02-.2 1.41-.59l7.78-7.78 2.81-2.81c.8-.78.8-2.07 0-2.86zM5.41 20L4 18.59l7.72-7.72 1.47 1.35L5.41 20z\"/>\n",
              "  </svg>\n",
              "      </button>\n",
              "      \n",
              "  <style>\n",
              "    .colab-df-container {\n",
              "      display:flex;\n",
              "      flex-wrap:wrap;\n",
              "      gap: 12px;\n",
              "    }\n",
              "\n",
              "    .colab-df-convert {\n",
              "      background-color: #E8F0FE;\n",
              "      border: none;\n",
              "      border-radius: 50%;\n",
              "      cursor: pointer;\n",
              "      display: none;\n",
              "      fill: #1967D2;\n",
              "      height: 32px;\n",
              "      padding: 0 0 0 0;\n",
              "      width: 32px;\n",
              "    }\n",
              "\n",
              "    .colab-df-convert:hover {\n",
              "      background-color: #E2EBFA;\n",
              "      box-shadow: 0px 1px 2px rgba(60, 64, 67, 0.3), 0px 1px 3px 1px rgba(60, 64, 67, 0.15);\n",
              "      fill: #174EA6;\n",
              "    }\n",
              "\n",
              "    [theme=dark] .colab-df-convert {\n",
              "      background-color: #3B4455;\n",
              "      fill: #D2E3FC;\n",
              "    }\n",
              "\n",
              "    [theme=dark] .colab-df-convert:hover {\n",
              "      background-color: #434B5C;\n",
              "      box-shadow: 0px 1px 3px 1px rgba(0, 0, 0, 0.15);\n",
              "      filter: drop-shadow(0px 1px 2px rgba(0, 0, 0, 0.3));\n",
              "      fill: #FFFFFF;\n",
              "    }\n",
              "  </style>\n",
              "\n",
              "      <script>\n",
              "        const buttonEl =\n",
              "          document.querySelector('#df-255934df-822c-4198-b629-b42e34cc14c9 button.colab-df-convert');\n",
              "        buttonEl.style.display =\n",
              "          google.colab.kernel.accessAllowed ? 'block' : 'none';\n",
              "\n",
              "        async function convertToInteractive(key) {\n",
              "          const element = document.querySelector('#df-255934df-822c-4198-b629-b42e34cc14c9');\n",
              "          const dataTable =\n",
              "            await google.colab.kernel.invokeFunction('convertToInteractive',\n",
              "                                                     [key], {});\n",
              "          if (!dataTable) return;\n",
              "\n",
              "          const docLinkHtml = 'Like what you see? Visit the ' +\n",
              "            '<a target=\"_blank\" href=https://colab.research.google.com/notebooks/data_table.ipynb>data table notebook</a>'\n",
              "            + ' to learn more about interactive tables.';\n",
              "          element.innerHTML = '';\n",
              "          dataTable['output_type'] = 'display_data';\n",
              "          await google.colab.output.renderOutput(dataTable, element);\n",
              "          const docLink = document.createElement('div');\n",
              "          docLink.innerHTML = docLinkHtml;\n",
              "          element.appendChild(docLink);\n",
              "        }\n",
              "      </script>\n",
              "    </div>\n",
              "  </div>\n",
              "  "
            ]
          },
          "metadata": {},
          "execution_count": 62
        }
      ],
      "source": [
        "d5 = df4_5.groupby(['CustomerID'])['MailClicked'].agg('count').reset_index()\n",
        "d6 = df4_6.groupby(['CustomerID'])['MailClicked'].agg('count').reset_index()\n",
        "d5"
      ]
    },
    {
      "cell_type": "markdown",
      "metadata": {
        "id": "kquWz6I3HoJu"
      },
      "source": [
        "Similary we merged the datasets according to customerids"
      ]
    },
    {
      "cell_type": "code",
      "execution_count": 63,
      "metadata": {
        "colab": {
          "base_uri": "https://localhost:8080/",
          "height": 206
        },
        "id": "CP4r_dmDHoJu",
        "outputId": "e3c0327f-9846-48bc-a6a6-549cbfda2136"
      },
      "outputs": [
        {
          "output_type": "execute_result",
          "data": {
            "text/plain": [
              "  CustomerID DateOfemail     EmailType MailOpened  MailClicked_x  CustomMails  \\\n",
              "0     C16368  2012-09-28  WelcomeEmail        yes  NotApplicable         29.0   \n",
              "1     C20345  2010-12-19  WelcomeEmail        yes  NotApplicable         95.0   \n",
              "2     C17683  2010-10-03  WelcomeEmail        yes  NotApplicable          NaN   \n",
              "3     C18647  2010-11-27  WelcomeEmail        yes  NotApplicable         30.0   \n",
              "4     C36692  2009-12-04  WelcomeEmail        yes  NotApplicable         64.0   \n",
              "\n",
              "   CustomMail_Open  CustomMail_No  MailClicked_y  \n",
              "0             29.0            NaN            1.0  \n",
              "1             88.0            7.0           10.0  \n",
              "2              NaN            NaN            NaN  \n",
              "3             27.0            3.0            4.0  \n",
              "4             18.0           46.0           10.0  "
            ],
            "text/html": [
              "\n",
              "  <div id=\"df-315316cd-a9c3-4f7f-a1a2-cd676772d592\">\n",
              "    <div class=\"colab-df-container\">\n",
              "      <div>\n",
              "<style scoped>\n",
              "    .dataframe tbody tr th:only-of-type {\n",
              "        vertical-align: middle;\n",
              "    }\n",
              "\n",
              "    .dataframe tbody tr th {\n",
              "        vertical-align: top;\n",
              "    }\n",
              "\n",
              "    .dataframe thead th {\n",
              "        text-align: right;\n",
              "    }\n",
              "</style>\n",
              "<table border=\"1\" class=\"dataframe\">\n",
              "  <thead>\n",
              "    <tr style=\"text-align: right;\">\n",
              "      <th></th>\n",
              "      <th>CustomerID</th>\n",
              "      <th>DateOfemail</th>\n",
              "      <th>EmailType</th>\n",
              "      <th>MailOpened</th>\n",
              "      <th>MailClicked_x</th>\n",
              "      <th>CustomMails</th>\n",
              "      <th>CustomMail_Open</th>\n",
              "      <th>CustomMail_No</th>\n",
              "      <th>MailClicked_y</th>\n",
              "    </tr>\n",
              "  </thead>\n",
              "  <tbody>\n",
              "    <tr>\n",
              "      <th>0</th>\n",
              "      <td>C16368</td>\n",
              "      <td>2012-09-28</td>\n",
              "      <td>WelcomeEmail</td>\n",
              "      <td>yes</td>\n",
              "      <td>NotApplicable</td>\n",
              "      <td>29.0</td>\n",
              "      <td>29.0</td>\n",
              "      <td>NaN</td>\n",
              "      <td>1.0</td>\n",
              "    </tr>\n",
              "    <tr>\n",
              "      <th>1</th>\n",
              "      <td>C20345</td>\n",
              "      <td>2010-12-19</td>\n",
              "      <td>WelcomeEmail</td>\n",
              "      <td>yes</td>\n",
              "      <td>NotApplicable</td>\n",
              "      <td>95.0</td>\n",
              "      <td>88.0</td>\n",
              "      <td>7.0</td>\n",
              "      <td>10.0</td>\n",
              "    </tr>\n",
              "    <tr>\n",
              "      <th>2</th>\n",
              "      <td>C17683</td>\n",
              "      <td>2010-10-03</td>\n",
              "      <td>WelcomeEmail</td>\n",
              "      <td>yes</td>\n",
              "      <td>NotApplicable</td>\n",
              "      <td>NaN</td>\n",
              "      <td>NaN</td>\n",
              "      <td>NaN</td>\n",
              "      <td>NaN</td>\n",
              "    </tr>\n",
              "    <tr>\n",
              "      <th>3</th>\n",
              "      <td>C18647</td>\n",
              "      <td>2010-11-27</td>\n",
              "      <td>WelcomeEmail</td>\n",
              "      <td>yes</td>\n",
              "      <td>NotApplicable</td>\n",
              "      <td>30.0</td>\n",
              "      <td>27.0</td>\n",
              "      <td>3.0</td>\n",
              "      <td>4.0</td>\n",
              "    </tr>\n",
              "    <tr>\n",
              "      <th>4</th>\n",
              "      <td>C36692</td>\n",
              "      <td>2009-12-04</td>\n",
              "      <td>WelcomeEmail</td>\n",
              "      <td>yes</td>\n",
              "      <td>NotApplicable</td>\n",
              "      <td>64.0</td>\n",
              "      <td>18.0</td>\n",
              "      <td>46.0</td>\n",
              "      <td>10.0</td>\n",
              "    </tr>\n",
              "  </tbody>\n",
              "</table>\n",
              "</div>\n",
              "      <button class=\"colab-df-convert\" onclick=\"convertToInteractive('df-315316cd-a9c3-4f7f-a1a2-cd676772d592')\"\n",
              "              title=\"Convert this dataframe to an interactive table.\"\n",
              "              style=\"display:none;\">\n",
              "        \n",
              "  <svg xmlns=\"http://www.w3.org/2000/svg\" height=\"24px\"viewBox=\"0 0 24 24\"\n",
              "       width=\"24px\">\n",
              "    <path d=\"M0 0h24v24H0V0z\" fill=\"none\"/>\n",
              "    <path d=\"M18.56 5.44l.94 2.06.94-2.06 2.06-.94-2.06-.94-.94-2.06-.94 2.06-2.06.94zm-11 1L8.5 8.5l.94-2.06 2.06-.94-2.06-.94L8.5 2.5l-.94 2.06-2.06.94zm10 10l.94 2.06.94-2.06 2.06-.94-2.06-.94-.94-2.06-.94 2.06-2.06.94z\"/><path d=\"M17.41 7.96l-1.37-1.37c-.4-.4-.92-.59-1.43-.59-.52 0-1.04.2-1.43.59L10.3 9.45l-7.72 7.72c-.78.78-.78 2.05 0 2.83L4 21.41c.39.39.9.59 1.41.59.51 0 1.02-.2 1.41-.59l7.78-7.78 2.81-2.81c.8-.78.8-2.07 0-2.86zM5.41 20L4 18.59l7.72-7.72 1.47 1.35L5.41 20z\"/>\n",
              "  </svg>\n",
              "      </button>\n",
              "      \n",
              "  <style>\n",
              "    .colab-df-container {\n",
              "      display:flex;\n",
              "      flex-wrap:wrap;\n",
              "      gap: 12px;\n",
              "    }\n",
              "\n",
              "    .colab-df-convert {\n",
              "      background-color: #E8F0FE;\n",
              "      border: none;\n",
              "      border-radius: 50%;\n",
              "      cursor: pointer;\n",
              "      display: none;\n",
              "      fill: #1967D2;\n",
              "      height: 32px;\n",
              "      padding: 0 0 0 0;\n",
              "      width: 32px;\n",
              "    }\n",
              "\n",
              "    .colab-df-convert:hover {\n",
              "      background-color: #E2EBFA;\n",
              "      box-shadow: 0px 1px 2px rgba(60, 64, 67, 0.3), 0px 1px 3px 1px rgba(60, 64, 67, 0.15);\n",
              "      fill: #174EA6;\n",
              "    }\n",
              "\n",
              "    [theme=dark] .colab-df-convert {\n",
              "      background-color: #3B4455;\n",
              "      fill: #D2E3FC;\n",
              "    }\n",
              "\n",
              "    [theme=dark] .colab-df-convert:hover {\n",
              "      background-color: #434B5C;\n",
              "      box-shadow: 0px 1px 3px 1px rgba(0, 0, 0, 0.15);\n",
              "      filter: drop-shadow(0px 1px 2px rgba(0, 0, 0, 0.3));\n",
              "      fill: #FFFFFF;\n",
              "    }\n",
              "  </style>\n",
              "\n",
              "      <script>\n",
              "        const buttonEl =\n",
              "          document.querySelector('#df-315316cd-a9c3-4f7f-a1a2-cd676772d592 button.colab-df-convert');\n",
              "        buttonEl.style.display =\n",
              "          google.colab.kernel.accessAllowed ? 'block' : 'none';\n",
              "\n",
              "        async function convertToInteractive(key) {\n",
              "          const element = document.querySelector('#df-315316cd-a9c3-4f7f-a1a2-cd676772d592');\n",
              "          const dataTable =\n",
              "            await google.colab.kernel.invokeFunction('convertToInteractive',\n",
              "                                                     [key], {});\n",
              "          if (!dataTable) return;\n",
              "\n",
              "          const docLinkHtml = 'Like what you see? Visit the ' +\n",
              "            '<a target=\"_blank\" href=https://colab.research.google.com/notebooks/data_table.ipynb>data table notebook</a>'\n",
              "            + ' to learn more about interactive tables.';\n",
              "          element.innerHTML = '';\n",
              "          dataTable['output_type'] = 'display_data';\n",
              "          await google.colab.output.renderOutput(dataTable, element);\n",
              "          const docLink = document.createElement('div');\n",
              "          docLink.innerHTML = docLinkHtml;\n",
              "          element.appendChild(docLink);\n",
              "        }\n",
              "      </script>\n",
              "    </div>\n",
              "  </div>\n",
              "  "
            ]
          },
          "metadata": {},
          "execution_count": 63
        }
      ],
      "source": [
        "data6 = pd.merge(data5,d5,on=['CustomerID'],how='outer')\n",
        "data6.head()"
      ]
    },
    {
      "cell_type": "code",
      "execution_count": 64,
      "metadata": {
        "colab": {
          "base_uri": "https://localhost:8080/",
          "height": 250
        },
        "id": "EHLdbV0LHoJu",
        "outputId": "4fec8dbc-4a77-4e09-dace-35e0b6ad34e0"
      },
      "outputs": [
        {
          "output_type": "execute_result",
          "data": {
            "text/plain": [
              "  CustomerID DateOfemail     EmailType MailOpened  MailClicked_x  CustomMails  \\\n",
              "0     C12116  2013-09-23  WelcomeEmail        yes  NotApplicable         31.0   \n",
              "1     C12117  2013-12-05  WelcomeEmail        yes  NotApplicable          NaN   \n",
              "2     C12118  2013-09-10  WelcomeEmail        yes  NotApplicable          NaN   \n",
              "3     C12119  2013-04-13  WelcomeEmail        yes  NotApplicable         41.0   \n",
              "4     C12120  2014-01-10  WelcomeEmail        yes  NotApplicable          NaN   \n",
              "\n",
              "   CustomMail_Open  CustomMail_No  MailClicked_y  MailClicked  \n",
              "0              4.0           27.0            2.0         29.0  \n",
              "1              NaN            NaN            NaN          NaN  \n",
              "2              NaN            NaN            NaN          NaN  \n",
              "3             13.0           28.0            4.0         37.0  \n",
              "4              NaN            NaN            NaN          NaN  "
            ],
            "text/html": [
              "\n",
              "  <div id=\"df-1cd238e2-8a9b-4ac5-95ab-2dff700ddb6d\">\n",
              "    <div class=\"colab-df-container\">\n",
              "      <div>\n",
              "<style scoped>\n",
              "    .dataframe tbody tr th:only-of-type {\n",
              "        vertical-align: middle;\n",
              "    }\n",
              "\n",
              "    .dataframe tbody tr th {\n",
              "        vertical-align: top;\n",
              "    }\n",
              "\n",
              "    .dataframe thead th {\n",
              "        text-align: right;\n",
              "    }\n",
              "</style>\n",
              "<table border=\"1\" class=\"dataframe\">\n",
              "  <thead>\n",
              "    <tr style=\"text-align: right;\">\n",
              "      <th></th>\n",
              "      <th>CustomerID</th>\n",
              "      <th>DateOfemail</th>\n",
              "      <th>EmailType</th>\n",
              "      <th>MailOpened</th>\n",
              "      <th>MailClicked_x</th>\n",
              "      <th>CustomMails</th>\n",
              "      <th>CustomMail_Open</th>\n",
              "      <th>CustomMail_No</th>\n",
              "      <th>MailClicked_y</th>\n",
              "      <th>MailClicked</th>\n",
              "    </tr>\n",
              "  </thead>\n",
              "  <tbody>\n",
              "    <tr>\n",
              "      <th>0</th>\n",
              "      <td>C12116</td>\n",
              "      <td>2013-09-23</td>\n",
              "      <td>WelcomeEmail</td>\n",
              "      <td>yes</td>\n",
              "      <td>NotApplicable</td>\n",
              "      <td>31.0</td>\n",
              "      <td>4.0</td>\n",
              "      <td>27.0</td>\n",
              "      <td>2.0</td>\n",
              "      <td>29.0</td>\n",
              "    </tr>\n",
              "    <tr>\n",
              "      <th>1</th>\n",
              "      <td>C12117</td>\n",
              "      <td>2013-12-05</td>\n",
              "      <td>WelcomeEmail</td>\n",
              "      <td>yes</td>\n",
              "      <td>NotApplicable</td>\n",
              "      <td>NaN</td>\n",
              "      <td>NaN</td>\n",
              "      <td>NaN</td>\n",
              "      <td>NaN</td>\n",
              "      <td>NaN</td>\n",
              "    </tr>\n",
              "    <tr>\n",
              "      <th>2</th>\n",
              "      <td>C12118</td>\n",
              "      <td>2013-09-10</td>\n",
              "      <td>WelcomeEmail</td>\n",
              "      <td>yes</td>\n",
              "      <td>NotApplicable</td>\n",
              "      <td>NaN</td>\n",
              "      <td>NaN</td>\n",
              "      <td>NaN</td>\n",
              "      <td>NaN</td>\n",
              "      <td>NaN</td>\n",
              "    </tr>\n",
              "    <tr>\n",
              "      <th>3</th>\n",
              "      <td>C12119</td>\n",
              "      <td>2013-04-13</td>\n",
              "      <td>WelcomeEmail</td>\n",
              "      <td>yes</td>\n",
              "      <td>NotApplicable</td>\n",
              "      <td>41.0</td>\n",
              "      <td>13.0</td>\n",
              "      <td>28.0</td>\n",
              "      <td>4.0</td>\n",
              "      <td>37.0</td>\n",
              "    </tr>\n",
              "    <tr>\n",
              "      <th>4</th>\n",
              "      <td>C12120</td>\n",
              "      <td>2014-01-10</td>\n",
              "      <td>WelcomeEmail</td>\n",
              "      <td>yes</td>\n",
              "      <td>NotApplicable</td>\n",
              "      <td>NaN</td>\n",
              "      <td>NaN</td>\n",
              "      <td>NaN</td>\n",
              "      <td>NaN</td>\n",
              "      <td>NaN</td>\n",
              "    </tr>\n",
              "  </tbody>\n",
              "</table>\n",
              "</div>\n",
              "      <button class=\"colab-df-convert\" onclick=\"convertToInteractive('df-1cd238e2-8a9b-4ac5-95ab-2dff700ddb6d')\"\n",
              "              title=\"Convert this dataframe to an interactive table.\"\n",
              "              style=\"display:none;\">\n",
              "        \n",
              "  <svg xmlns=\"http://www.w3.org/2000/svg\" height=\"24px\"viewBox=\"0 0 24 24\"\n",
              "       width=\"24px\">\n",
              "    <path d=\"M0 0h24v24H0V0z\" fill=\"none\"/>\n",
              "    <path d=\"M18.56 5.44l.94 2.06.94-2.06 2.06-.94-2.06-.94-.94-2.06-.94 2.06-2.06.94zm-11 1L8.5 8.5l.94-2.06 2.06-.94-2.06-.94L8.5 2.5l-.94 2.06-2.06.94zm10 10l.94 2.06.94-2.06 2.06-.94-2.06-.94-.94-2.06-.94 2.06-2.06.94z\"/><path d=\"M17.41 7.96l-1.37-1.37c-.4-.4-.92-.59-1.43-.59-.52 0-1.04.2-1.43.59L10.3 9.45l-7.72 7.72c-.78.78-.78 2.05 0 2.83L4 21.41c.39.39.9.59 1.41.59.51 0 1.02-.2 1.41-.59l7.78-7.78 2.81-2.81c.8-.78.8-2.07 0-2.86zM5.41 20L4 18.59l7.72-7.72 1.47 1.35L5.41 20z\"/>\n",
              "  </svg>\n",
              "      </button>\n",
              "      \n",
              "  <style>\n",
              "    .colab-df-container {\n",
              "      display:flex;\n",
              "      flex-wrap:wrap;\n",
              "      gap: 12px;\n",
              "    }\n",
              "\n",
              "    .colab-df-convert {\n",
              "      background-color: #E8F0FE;\n",
              "      border: none;\n",
              "      border-radius: 50%;\n",
              "      cursor: pointer;\n",
              "      display: none;\n",
              "      fill: #1967D2;\n",
              "      height: 32px;\n",
              "      padding: 0 0 0 0;\n",
              "      width: 32px;\n",
              "    }\n",
              "\n",
              "    .colab-df-convert:hover {\n",
              "      background-color: #E2EBFA;\n",
              "      box-shadow: 0px 1px 2px rgba(60, 64, 67, 0.3), 0px 1px 3px 1px rgba(60, 64, 67, 0.15);\n",
              "      fill: #174EA6;\n",
              "    }\n",
              "\n",
              "    [theme=dark] .colab-df-convert {\n",
              "      background-color: #3B4455;\n",
              "      fill: #D2E3FC;\n",
              "    }\n",
              "\n",
              "    [theme=dark] .colab-df-convert:hover {\n",
              "      background-color: #434B5C;\n",
              "      box-shadow: 0px 1px 3px 1px rgba(0, 0, 0, 0.15);\n",
              "      filter: drop-shadow(0px 1px 2px rgba(0, 0, 0, 0.3));\n",
              "      fill: #FFFFFF;\n",
              "    }\n",
              "  </style>\n",
              "\n",
              "      <script>\n",
              "        const buttonEl =\n",
              "          document.querySelector('#df-1cd238e2-8a9b-4ac5-95ab-2dff700ddb6d button.colab-df-convert');\n",
              "        buttonEl.style.display =\n",
              "          google.colab.kernel.accessAllowed ? 'block' : 'none';\n",
              "\n",
              "        async function convertToInteractive(key) {\n",
              "          const element = document.querySelector('#df-1cd238e2-8a9b-4ac5-95ab-2dff700ddb6d');\n",
              "          const dataTable =\n",
              "            await google.colab.kernel.invokeFunction('convertToInteractive',\n",
              "                                                     [key], {});\n",
              "          if (!dataTable) return;\n",
              "\n",
              "          const docLinkHtml = 'Like what you see? Visit the ' +\n",
              "            '<a target=\"_blank\" href=https://colab.research.google.com/notebooks/data_table.ipynb>data table notebook</a>'\n",
              "            + ' to learn more about interactive tables.';\n",
              "          element.innerHTML = '';\n",
              "          dataTable['output_type'] = 'display_data';\n",
              "          await google.colab.output.renderOutput(dataTable, element);\n",
              "          const docLink = document.createElement('div');\n",
              "          docLink.innerHTML = docLinkHtml;\n",
              "          element.appendChild(docLink);\n",
              "        }\n",
              "      </script>\n",
              "    </div>\n",
              "  </div>\n",
              "  "
            ]
          },
          "metadata": {},
          "execution_count": 64
        }
      ],
      "source": [
        "data7 = pd.merge(data6,d6,on=['CustomerID'],how='outer',sort=True)\n",
        "data7.head()"
      ]
    },
    {
      "cell_type": "markdown",
      "metadata": {
        "id": "A1-j2eZiHoJu"
      },
      "source": [
        "Renaming the columns "
      ]
    },
    {
      "cell_type": "code",
      "execution_count": 65,
      "metadata": {
        "id": "whnEC6u4HoJu"
      },
      "outputs": [],
      "source": [
        "data7 = data7.rename(columns={'MailClicked_x':'MailClicked','MailClicked_y':'MailClicked_Open','MailClicked':'MailClicked_No'})"
      ]
    },
    {
      "cell_type": "markdown",
      "metadata": {
        "id": "Kpe1o-e1HoJu"
      },
      "source": [
        "Finally we reduced the df4 dataset dimensions by pandas functions and reduced to data7"
      ]
    },
    {
      "cell_type": "code",
      "execution_count": 66,
      "metadata": {
        "colab": {
          "base_uri": "https://localhost:8080/",
          "height": 270
        },
        "id": "0b1UA-5mHoJu",
        "outputId": "8f3e7ca3-bf5c-4e8a-c546-c0c33ac46b80"
      },
      "outputs": [
        {
          "output_type": "execute_result",
          "data": {
            "text/plain": [
              "  CustomerID DateOfemail     EmailType MailOpened    MailClicked  CustomMails  \\\n",
              "0     C12116  2013-09-23  WelcomeEmail        yes  NotApplicable         31.0   \n",
              "1     C12117  2013-12-05  WelcomeEmail        yes  NotApplicable          NaN   \n",
              "2     C12118  2013-09-10  WelcomeEmail        yes  NotApplicable          NaN   \n",
              "3     C12119  2013-04-13  WelcomeEmail        yes  NotApplicable         41.0   \n",
              "4     C12120  2014-01-10  WelcomeEmail        yes  NotApplicable          NaN   \n",
              "\n",
              "   CustomMail_Open  CustomMail_No  MailClicked_Open  MailClicked_No  \n",
              "0              4.0           27.0               2.0            29.0  \n",
              "1              NaN            NaN               NaN             NaN  \n",
              "2              NaN            NaN               NaN             NaN  \n",
              "3             13.0           28.0               4.0            37.0  \n",
              "4              NaN            NaN               NaN             NaN  "
            ],
            "text/html": [
              "\n",
              "  <div id=\"df-245d2e4e-719a-4406-a054-d8d71969d35a\">\n",
              "    <div class=\"colab-df-container\">\n",
              "      <div>\n",
              "<style scoped>\n",
              "    .dataframe tbody tr th:only-of-type {\n",
              "        vertical-align: middle;\n",
              "    }\n",
              "\n",
              "    .dataframe tbody tr th {\n",
              "        vertical-align: top;\n",
              "    }\n",
              "\n",
              "    .dataframe thead th {\n",
              "        text-align: right;\n",
              "    }\n",
              "</style>\n",
              "<table border=\"1\" class=\"dataframe\">\n",
              "  <thead>\n",
              "    <tr style=\"text-align: right;\">\n",
              "      <th></th>\n",
              "      <th>CustomerID</th>\n",
              "      <th>DateOfemail</th>\n",
              "      <th>EmailType</th>\n",
              "      <th>MailOpened</th>\n",
              "      <th>MailClicked</th>\n",
              "      <th>CustomMails</th>\n",
              "      <th>CustomMail_Open</th>\n",
              "      <th>CustomMail_No</th>\n",
              "      <th>MailClicked_Open</th>\n",
              "      <th>MailClicked_No</th>\n",
              "    </tr>\n",
              "  </thead>\n",
              "  <tbody>\n",
              "    <tr>\n",
              "      <th>0</th>\n",
              "      <td>C12116</td>\n",
              "      <td>2013-09-23</td>\n",
              "      <td>WelcomeEmail</td>\n",
              "      <td>yes</td>\n",
              "      <td>NotApplicable</td>\n",
              "      <td>31.0</td>\n",
              "      <td>4.0</td>\n",
              "      <td>27.0</td>\n",
              "      <td>2.0</td>\n",
              "      <td>29.0</td>\n",
              "    </tr>\n",
              "    <tr>\n",
              "      <th>1</th>\n",
              "      <td>C12117</td>\n",
              "      <td>2013-12-05</td>\n",
              "      <td>WelcomeEmail</td>\n",
              "      <td>yes</td>\n",
              "      <td>NotApplicable</td>\n",
              "      <td>NaN</td>\n",
              "      <td>NaN</td>\n",
              "      <td>NaN</td>\n",
              "      <td>NaN</td>\n",
              "      <td>NaN</td>\n",
              "    </tr>\n",
              "    <tr>\n",
              "      <th>2</th>\n",
              "      <td>C12118</td>\n",
              "      <td>2013-09-10</td>\n",
              "      <td>WelcomeEmail</td>\n",
              "      <td>yes</td>\n",
              "      <td>NotApplicable</td>\n",
              "      <td>NaN</td>\n",
              "      <td>NaN</td>\n",
              "      <td>NaN</td>\n",
              "      <td>NaN</td>\n",
              "      <td>NaN</td>\n",
              "    </tr>\n",
              "    <tr>\n",
              "      <th>3</th>\n",
              "      <td>C12119</td>\n",
              "      <td>2013-04-13</td>\n",
              "      <td>WelcomeEmail</td>\n",
              "      <td>yes</td>\n",
              "      <td>NotApplicable</td>\n",
              "      <td>41.0</td>\n",
              "      <td>13.0</td>\n",
              "      <td>28.0</td>\n",
              "      <td>4.0</td>\n",
              "      <td>37.0</td>\n",
              "    </tr>\n",
              "    <tr>\n",
              "      <th>4</th>\n",
              "      <td>C12120</td>\n",
              "      <td>2014-01-10</td>\n",
              "      <td>WelcomeEmail</td>\n",
              "      <td>yes</td>\n",
              "      <td>NotApplicable</td>\n",
              "      <td>NaN</td>\n",
              "      <td>NaN</td>\n",
              "      <td>NaN</td>\n",
              "      <td>NaN</td>\n",
              "      <td>NaN</td>\n",
              "    </tr>\n",
              "  </tbody>\n",
              "</table>\n",
              "</div>\n",
              "      <button class=\"colab-df-convert\" onclick=\"convertToInteractive('df-245d2e4e-719a-4406-a054-d8d71969d35a')\"\n",
              "              title=\"Convert this dataframe to an interactive table.\"\n",
              "              style=\"display:none;\">\n",
              "        \n",
              "  <svg xmlns=\"http://www.w3.org/2000/svg\" height=\"24px\"viewBox=\"0 0 24 24\"\n",
              "       width=\"24px\">\n",
              "    <path d=\"M0 0h24v24H0V0z\" fill=\"none\"/>\n",
              "    <path d=\"M18.56 5.44l.94 2.06.94-2.06 2.06-.94-2.06-.94-.94-2.06-.94 2.06-2.06.94zm-11 1L8.5 8.5l.94-2.06 2.06-.94-2.06-.94L8.5 2.5l-.94 2.06-2.06.94zm10 10l.94 2.06.94-2.06 2.06-.94-2.06-.94-.94-2.06-.94 2.06-2.06.94z\"/><path d=\"M17.41 7.96l-1.37-1.37c-.4-.4-.92-.59-1.43-.59-.52 0-1.04.2-1.43.59L10.3 9.45l-7.72 7.72c-.78.78-.78 2.05 0 2.83L4 21.41c.39.39.9.59 1.41.59.51 0 1.02-.2 1.41-.59l7.78-7.78 2.81-2.81c.8-.78.8-2.07 0-2.86zM5.41 20L4 18.59l7.72-7.72 1.47 1.35L5.41 20z\"/>\n",
              "  </svg>\n",
              "      </button>\n",
              "      \n",
              "  <style>\n",
              "    .colab-df-container {\n",
              "      display:flex;\n",
              "      flex-wrap:wrap;\n",
              "      gap: 12px;\n",
              "    }\n",
              "\n",
              "    .colab-df-convert {\n",
              "      background-color: #E8F0FE;\n",
              "      border: none;\n",
              "      border-radius: 50%;\n",
              "      cursor: pointer;\n",
              "      display: none;\n",
              "      fill: #1967D2;\n",
              "      height: 32px;\n",
              "      padding: 0 0 0 0;\n",
              "      width: 32px;\n",
              "    }\n",
              "\n",
              "    .colab-df-convert:hover {\n",
              "      background-color: #E2EBFA;\n",
              "      box-shadow: 0px 1px 2px rgba(60, 64, 67, 0.3), 0px 1px 3px 1px rgba(60, 64, 67, 0.15);\n",
              "      fill: #174EA6;\n",
              "    }\n",
              "\n",
              "    [theme=dark] .colab-df-convert {\n",
              "      background-color: #3B4455;\n",
              "      fill: #D2E3FC;\n",
              "    }\n",
              "\n",
              "    [theme=dark] .colab-df-convert:hover {\n",
              "      background-color: #434B5C;\n",
              "      box-shadow: 0px 1px 3px 1px rgba(0, 0, 0, 0.15);\n",
              "      filter: drop-shadow(0px 1px 2px rgba(0, 0, 0, 0.3));\n",
              "      fill: #FFFFFF;\n",
              "    }\n",
              "  </style>\n",
              "\n",
              "      <script>\n",
              "        const buttonEl =\n",
              "          document.querySelector('#df-245d2e4e-719a-4406-a054-d8d71969d35a button.colab-df-convert');\n",
              "        buttonEl.style.display =\n",
              "          google.colab.kernel.accessAllowed ? 'block' : 'none';\n",
              "\n",
              "        async function convertToInteractive(key) {\n",
              "          const element = document.querySelector('#df-245d2e4e-719a-4406-a054-d8d71969d35a');\n",
              "          const dataTable =\n",
              "            await google.colab.kernel.invokeFunction('convertToInteractive',\n",
              "                                                     [key], {});\n",
              "          if (!dataTable) return;\n",
              "\n",
              "          const docLinkHtml = 'Like what you see? Visit the ' +\n",
              "            '<a target=\"_blank\" href=https://colab.research.google.com/notebooks/data_table.ipynb>data table notebook</a>'\n",
              "            + ' to learn more about interactive tables.';\n",
              "          element.innerHTML = '';\n",
              "          dataTable['output_type'] = 'display_data';\n",
              "          await google.colab.output.renderOutput(dataTable, element);\n",
              "          const docLink = document.createElement('div');\n",
              "          docLink.innerHTML = docLinkHtml;\n",
              "          element.appendChild(docLink);\n",
              "        }\n",
              "      </script>\n",
              "    </div>\n",
              "  </div>\n",
              "  "
            ]
          },
          "metadata": {},
          "execution_count": 66
        }
      ],
      "source": [
        "data7.head()"
      ]
    },
    {
      "cell_type": "markdown",
      "metadata": {
        "id": "R-MQLnUcHoJu"
      },
      "source": [
        "We can check the data7 shape which is modifing the df4"
      ]
    },
    {
      "cell_type": "code",
      "execution_count": 67,
      "metadata": {
        "colab": {
          "base_uri": "https://localhost:8080/"
        },
        "id": "U05f7BzyHoJu",
        "outputId": "077c4c00-4aac-48ad-9670-27b25c5562ae"
      },
      "outputs": [
        {
          "output_type": "execute_result",
          "data": {
            "text/plain": [
              "(23820, 10)"
            ]
          },
          "metadata": {},
          "execution_count": 67
        }
      ],
      "source": [
        "data7.shape"
      ]
    },
    {
      "cell_type": "code",
      "execution_count": 68,
      "metadata": {
        "colab": {
          "base_uri": "https://localhost:8080/"
        },
        "id": "Z64U4piTHoJu",
        "outputId": "c9424bd9-67b0-4bdd-87ad-10d0a3051b3d"
      },
      "outputs": [
        {
          "output_type": "execute_result",
          "data": {
            "text/plain": [
              "CustomerID          23820\n",
              "DateOfemail          2673\n",
              "EmailType               1\n",
              "MailOpened              1\n",
              "MailClicked             1\n",
              "CustomMails            83\n",
              "CustomMail_Open        60\n",
              "CustomMail_No          69\n",
              "MailClicked_Open       29\n",
              "MailClicked_No         79\n",
              "dtype: int64"
            ]
          },
          "metadata": {},
          "execution_count": 68
        }
      ],
      "source": [
        "data7.nunique()"
      ]
    },
    {
      "cell_type": "markdown",
      "metadata": {
        "id": "hFKEHB5ZHoJu"
      },
      "source": [
        "Merged the datasets"
      ]
    },
    {
      "cell_type": "code",
      "execution_count": 69,
      "metadata": {
        "id": "YNEyijSOHoJu"
      },
      "outputs": [],
      "source": [
        "data = pd.merge(data2,data7,on=['CustomerID'],how='outer',sort=True)"
      ]
    },
    {
      "cell_type": "code",
      "execution_count": 70,
      "metadata": {
        "colab": {
          "base_uri": "https://localhost:8080/",
          "height": 270
        },
        "id": "LRR3IacIHoJv",
        "outputId": "9d472b65-77db-42a5-cf72-d8bbf9b74b61"
      },
      "outputs": [
        {
          "output_type": "execute_result",
          "data": {
            "text/plain": [
              "  CustomerID RetentionPotential   City DateOfRegistration  \\\n",
              "0     C12116                Low  CITY3          9/23/2013   \n",
              "1     C12117                Low  CITY2          12/5/2013   \n",
              "2     C12118               High  CITY4          9/10/2013   \n",
              "3     C12119                Low  CITY2          4/13/2013   \n",
              "4     C12120                Low  CITY3          1/10/2014   \n",
              "\n",
              "   OnlineCommunication  AutomaticRefill  DoorstepDelivery  \\\n",
              "0                    0                0                 0   \n",
              "1                    1                0                 0   \n",
              "2                    1                0                 0   \n",
              "3                    0                0                 0   \n",
              "4                    1                0                 0   \n",
              "\n",
              "  PreferredDeliveryDay  OrderQuantity  No_Of_Orders DateOfemail     EmailType  \\\n",
              "0               Friday            115             3  2013-09-23  WelcomeEmail   \n",
              "1               Friday             41             1  2013-12-05  WelcomeEmail   \n",
              "2            Wednesday             41             1  2013-09-10  WelcomeEmail   \n",
              "3               Monday             52             1  2013-04-13  WelcomeEmail   \n",
              "4              Tuesday             31             1  2014-01-10  WelcomeEmail   \n",
              "\n",
              "  MailOpened    MailClicked  CustomMails  CustomMail_Open  CustomMail_No  \\\n",
              "0        yes  NotApplicable         31.0              4.0           27.0   \n",
              "1        yes  NotApplicable          NaN              NaN            NaN   \n",
              "2        yes  NotApplicable          NaN              NaN            NaN   \n",
              "3        yes  NotApplicable         41.0             13.0           28.0   \n",
              "4        yes  NotApplicable          NaN              NaN            NaN   \n",
              "\n",
              "   MailClicked_Open  MailClicked_No  \n",
              "0               2.0            29.0  \n",
              "1               NaN             NaN  \n",
              "2               NaN             NaN  \n",
              "3               4.0            37.0  \n",
              "4               NaN             NaN  "
            ],
            "text/html": [
              "\n",
              "  <div id=\"df-0257d4cc-d079-4a4c-8784-cf58eff21edd\">\n",
              "    <div class=\"colab-df-container\">\n",
              "      <div>\n",
              "<style scoped>\n",
              "    .dataframe tbody tr th:only-of-type {\n",
              "        vertical-align: middle;\n",
              "    }\n",
              "\n",
              "    .dataframe tbody tr th {\n",
              "        vertical-align: top;\n",
              "    }\n",
              "\n",
              "    .dataframe thead th {\n",
              "        text-align: right;\n",
              "    }\n",
              "</style>\n",
              "<table border=\"1\" class=\"dataframe\">\n",
              "  <thead>\n",
              "    <tr style=\"text-align: right;\">\n",
              "      <th></th>\n",
              "      <th>CustomerID</th>\n",
              "      <th>RetentionPotential</th>\n",
              "      <th>City</th>\n",
              "      <th>DateOfRegistration</th>\n",
              "      <th>OnlineCommunication</th>\n",
              "      <th>AutomaticRefill</th>\n",
              "      <th>DoorstepDelivery</th>\n",
              "      <th>PreferredDeliveryDay</th>\n",
              "      <th>OrderQuantity</th>\n",
              "      <th>No_Of_Orders</th>\n",
              "      <th>DateOfemail</th>\n",
              "      <th>EmailType</th>\n",
              "      <th>MailOpened</th>\n",
              "      <th>MailClicked</th>\n",
              "      <th>CustomMails</th>\n",
              "      <th>CustomMail_Open</th>\n",
              "      <th>CustomMail_No</th>\n",
              "      <th>MailClicked_Open</th>\n",
              "      <th>MailClicked_No</th>\n",
              "    </tr>\n",
              "  </thead>\n",
              "  <tbody>\n",
              "    <tr>\n",
              "      <th>0</th>\n",
              "      <td>C12116</td>\n",
              "      <td>Low</td>\n",
              "      <td>CITY3</td>\n",
              "      <td>9/23/2013</td>\n",
              "      <td>0</td>\n",
              "      <td>0</td>\n",
              "      <td>0</td>\n",
              "      <td>Friday</td>\n",
              "      <td>115</td>\n",
              "      <td>3</td>\n",
              "      <td>2013-09-23</td>\n",
              "      <td>WelcomeEmail</td>\n",
              "      <td>yes</td>\n",
              "      <td>NotApplicable</td>\n",
              "      <td>31.0</td>\n",
              "      <td>4.0</td>\n",
              "      <td>27.0</td>\n",
              "      <td>2.0</td>\n",
              "      <td>29.0</td>\n",
              "    </tr>\n",
              "    <tr>\n",
              "      <th>1</th>\n",
              "      <td>C12117</td>\n",
              "      <td>Low</td>\n",
              "      <td>CITY2</td>\n",
              "      <td>12/5/2013</td>\n",
              "      <td>1</td>\n",
              "      <td>0</td>\n",
              "      <td>0</td>\n",
              "      <td>Friday</td>\n",
              "      <td>41</td>\n",
              "      <td>1</td>\n",
              "      <td>2013-12-05</td>\n",
              "      <td>WelcomeEmail</td>\n",
              "      <td>yes</td>\n",
              "      <td>NotApplicable</td>\n",
              "      <td>NaN</td>\n",
              "      <td>NaN</td>\n",
              "      <td>NaN</td>\n",
              "      <td>NaN</td>\n",
              "      <td>NaN</td>\n",
              "    </tr>\n",
              "    <tr>\n",
              "      <th>2</th>\n",
              "      <td>C12118</td>\n",
              "      <td>High</td>\n",
              "      <td>CITY4</td>\n",
              "      <td>9/10/2013</td>\n",
              "      <td>1</td>\n",
              "      <td>0</td>\n",
              "      <td>0</td>\n",
              "      <td>Wednesday</td>\n",
              "      <td>41</td>\n",
              "      <td>1</td>\n",
              "      <td>2013-09-10</td>\n",
              "      <td>WelcomeEmail</td>\n",
              "      <td>yes</td>\n",
              "      <td>NotApplicable</td>\n",
              "      <td>NaN</td>\n",
              "      <td>NaN</td>\n",
              "      <td>NaN</td>\n",
              "      <td>NaN</td>\n",
              "      <td>NaN</td>\n",
              "    </tr>\n",
              "    <tr>\n",
              "      <th>3</th>\n",
              "      <td>C12119</td>\n",
              "      <td>Low</td>\n",
              "      <td>CITY2</td>\n",
              "      <td>4/13/2013</td>\n",
              "      <td>0</td>\n",
              "      <td>0</td>\n",
              "      <td>0</td>\n",
              "      <td>Monday</td>\n",
              "      <td>52</td>\n",
              "      <td>1</td>\n",
              "      <td>2013-04-13</td>\n",
              "      <td>WelcomeEmail</td>\n",
              "      <td>yes</td>\n",
              "      <td>NotApplicable</td>\n",
              "      <td>41.0</td>\n",
              "      <td>13.0</td>\n",
              "      <td>28.0</td>\n",
              "      <td>4.0</td>\n",
              "      <td>37.0</td>\n",
              "    </tr>\n",
              "    <tr>\n",
              "      <th>4</th>\n",
              "      <td>C12120</td>\n",
              "      <td>Low</td>\n",
              "      <td>CITY3</td>\n",
              "      <td>1/10/2014</td>\n",
              "      <td>1</td>\n",
              "      <td>0</td>\n",
              "      <td>0</td>\n",
              "      <td>Tuesday</td>\n",
              "      <td>31</td>\n",
              "      <td>1</td>\n",
              "      <td>2014-01-10</td>\n",
              "      <td>WelcomeEmail</td>\n",
              "      <td>yes</td>\n",
              "      <td>NotApplicable</td>\n",
              "      <td>NaN</td>\n",
              "      <td>NaN</td>\n",
              "      <td>NaN</td>\n",
              "      <td>NaN</td>\n",
              "      <td>NaN</td>\n",
              "    </tr>\n",
              "  </tbody>\n",
              "</table>\n",
              "</div>\n",
              "      <button class=\"colab-df-convert\" onclick=\"convertToInteractive('df-0257d4cc-d079-4a4c-8784-cf58eff21edd')\"\n",
              "              title=\"Convert this dataframe to an interactive table.\"\n",
              "              style=\"display:none;\">\n",
              "        \n",
              "  <svg xmlns=\"http://www.w3.org/2000/svg\" height=\"24px\"viewBox=\"0 0 24 24\"\n",
              "       width=\"24px\">\n",
              "    <path d=\"M0 0h24v24H0V0z\" fill=\"none\"/>\n",
              "    <path d=\"M18.56 5.44l.94 2.06.94-2.06 2.06-.94-2.06-.94-.94-2.06-.94 2.06-2.06.94zm-11 1L8.5 8.5l.94-2.06 2.06-.94-2.06-.94L8.5 2.5l-.94 2.06-2.06.94zm10 10l.94 2.06.94-2.06 2.06-.94-2.06-.94-.94-2.06-.94 2.06-2.06.94z\"/><path d=\"M17.41 7.96l-1.37-1.37c-.4-.4-.92-.59-1.43-.59-.52 0-1.04.2-1.43.59L10.3 9.45l-7.72 7.72c-.78.78-.78 2.05 0 2.83L4 21.41c.39.39.9.59 1.41.59.51 0 1.02-.2 1.41-.59l7.78-7.78 2.81-2.81c.8-.78.8-2.07 0-2.86zM5.41 20L4 18.59l7.72-7.72 1.47 1.35L5.41 20z\"/>\n",
              "  </svg>\n",
              "      </button>\n",
              "      \n",
              "  <style>\n",
              "    .colab-df-container {\n",
              "      display:flex;\n",
              "      flex-wrap:wrap;\n",
              "      gap: 12px;\n",
              "    }\n",
              "\n",
              "    .colab-df-convert {\n",
              "      background-color: #E8F0FE;\n",
              "      border: none;\n",
              "      border-radius: 50%;\n",
              "      cursor: pointer;\n",
              "      display: none;\n",
              "      fill: #1967D2;\n",
              "      height: 32px;\n",
              "      padding: 0 0 0 0;\n",
              "      width: 32px;\n",
              "    }\n",
              "\n",
              "    .colab-df-convert:hover {\n",
              "      background-color: #E2EBFA;\n",
              "      box-shadow: 0px 1px 2px rgba(60, 64, 67, 0.3), 0px 1px 3px 1px rgba(60, 64, 67, 0.15);\n",
              "      fill: #174EA6;\n",
              "    }\n",
              "\n",
              "    [theme=dark] .colab-df-convert {\n",
              "      background-color: #3B4455;\n",
              "      fill: #D2E3FC;\n",
              "    }\n",
              "\n",
              "    [theme=dark] .colab-df-convert:hover {\n",
              "      background-color: #434B5C;\n",
              "      box-shadow: 0px 1px 3px 1px rgba(0, 0, 0, 0.15);\n",
              "      filter: drop-shadow(0px 1px 2px rgba(0, 0, 0, 0.3));\n",
              "      fill: #FFFFFF;\n",
              "    }\n",
              "  </style>\n",
              "\n",
              "      <script>\n",
              "        const buttonEl =\n",
              "          document.querySelector('#df-0257d4cc-d079-4a4c-8784-cf58eff21edd button.colab-df-convert');\n",
              "        buttonEl.style.display =\n",
              "          google.colab.kernel.accessAllowed ? 'block' : 'none';\n",
              "\n",
              "        async function convertToInteractive(key) {\n",
              "          const element = document.querySelector('#df-0257d4cc-d079-4a4c-8784-cf58eff21edd');\n",
              "          const dataTable =\n",
              "            await google.colab.kernel.invokeFunction('convertToInteractive',\n",
              "                                                     [key], {});\n",
              "          if (!dataTable) return;\n",
              "\n",
              "          const docLinkHtml = 'Like what you see? Visit the ' +\n",
              "            '<a target=\"_blank\" href=https://colab.research.google.com/notebooks/data_table.ipynb>data table notebook</a>'\n",
              "            + ' to learn more about interactive tables.';\n",
              "          element.innerHTML = '';\n",
              "          dataTable['output_type'] = 'display_data';\n",
              "          await google.colab.output.renderOutput(dataTable, element);\n",
              "          const docLink = document.createElement('div');\n",
              "          docLink.innerHTML = docLinkHtml;\n",
              "          element.appendChild(docLink);\n",
              "        }\n",
              "      </script>\n",
              "    </div>\n",
              "  </div>\n",
              "  "
            ]
          },
          "metadata": {},
          "execution_count": 70
        }
      ],
      "source": [
        "data.head()"
      ]
    },
    {
      "cell_type": "code",
      "execution_count": 71,
      "metadata": {
        "colab": {
          "base_uri": "https://localhost:8080/"
        },
        "id": "ZqhbKs3KHoJv",
        "outputId": "17eed1a9-d650-47fc-b487-f76f06c15f4e"
      },
      "outputs": [
        {
          "output_type": "execute_result",
          "data": {
            "text/plain": [
              "(23820, 19)"
            ]
          },
          "metadata": {},
          "execution_count": 71
        }
      ],
      "source": [
        "data.shape"
      ]
    },
    {
      "cell_type": "code",
      "execution_count": 72,
      "metadata": {
        "colab": {
          "base_uri": "https://localhost:8080/"
        },
        "id": "cLDuKeQfHoJv",
        "outputId": "576c70ad-a8dc-40da-c655-290b86499387"
      },
      "outputs": [
        {
          "output_type": "execute_result",
          "data": {
            "text/plain": [
              "CustomerID                  0\n",
              "RetentionPotential          0\n",
              "City                        0\n",
              "DateOfRegistration          0\n",
              "OnlineCommunication         0\n",
              "AutomaticRefill             0\n",
              "DoorstepDelivery            0\n",
              "PreferredDeliveryDay        0\n",
              "OrderQuantity               0\n",
              "No_Of_Orders                0\n",
              "DateOfemail                 0\n",
              "EmailType                   0\n",
              "MailOpened                  0\n",
              "MailClicked                 0\n",
              "CustomMails              9709\n",
              "CustomMail_Open         11638\n",
              "CustomMail_No           10199\n",
              "MailClicked_Open        15184\n",
              "MailClicked_No           9752\n",
              "dtype: int64"
            ]
          },
          "metadata": {},
          "execution_count": 72
        }
      ],
      "source": [
        "data.isna().sum()"
      ]
    },
    {
      "cell_type": "markdown",
      "metadata": {
        "id": "aXoKfNTVHoJv"
      },
      "source": [
        "Since there are null values,so we are filling with 0\n",
        "Because the custom mails are having only few customers so remaining customers having the null values \n",
        "We can't fill it with mean,median "
      ]
    },
    {
      "cell_type": "code",
      "execution_count": 73,
      "metadata": {
        "id": "Hum5KeWZHoJv"
      },
      "outputs": [],
      "source": [
        "finaldata = data.fillna(0)"
      ]
    },
    {
      "cell_type": "code",
      "execution_count": 74,
      "metadata": {
        "colab": {
          "base_uri": "https://localhost:8080/"
        },
        "id": "aTWbWfuqHoJv",
        "outputId": "ea3391a0-93f6-4c13-d199-e59ec1dfe0c4"
      },
      "outputs": [
        {
          "output_type": "execute_result",
          "data": {
            "text/plain": [
              "CustomerID              0\n",
              "RetentionPotential      0\n",
              "City                    0\n",
              "DateOfRegistration      0\n",
              "OnlineCommunication     0\n",
              "AutomaticRefill         0\n",
              "DoorstepDelivery        0\n",
              "PreferredDeliveryDay    0\n",
              "OrderQuantity           0\n",
              "No_Of_Orders            0\n",
              "DateOfemail             0\n",
              "EmailType               0\n",
              "MailOpened              0\n",
              "MailClicked             0\n",
              "CustomMails             0\n",
              "CustomMail_Open         0\n",
              "CustomMail_No           0\n",
              "MailClicked_Open        0\n",
              "MailClicked_No          0\n",
              "dtype: int64"
            ]
          },
          "metadata": {},
          "execution_count": 74
        }
      ],
      "source": [
        "finaldata.isna().sum()"
      ]
    },
    {
      "cell_type": "code",
      "execution_count": 75,
      "metadata": {
        "colab": {
          "base_uri": "https://localhost:8080/"
        },
        "id": "6Qnr3wQYHoJv",
        "outputId": "89ce55dd-c1fc-4a98-c3a3-2135c710179f"
      },
      "outputs": [
        {
          "output_type": "execute_result",
          "data": {
            "text/plain": [
              "CustomerID               object\n",
              "RetentionPotential       object\n",
              "City                     object\n",
              "DateOfRegistration       object\n",
              "OnlineCommunication       int64\n",
              "AutomaticRefill           int64\n",
              "DoorstepDelivery          int64\n",
              "PreferredDeliveryDay     object\n",
              "OrderQuantity             int64\n",
              "No_Of_Orders              int64\n",
              "DateOfemail              object\n",
              "EmailType                object\n",
              "MailOpened               object\n",
              "MailClicked              object\n",
              "CustomMails             float64\n",
              "CustomMail_Open         float64\n",
              "CustomMail_No           float64\n",
              "MailClicked_Open        float64\n",
              "MailClicked_No          float64\n",
              "dtype: object"
            ]
          },
          "metadata": {},
          "execution_count": 75
        }
      ],
      "source": [
        "finaldata.dtypes"
      ]
    },
    {
      "cell_type": "code",
      "execution_count": 76,
      "metadata": {
        "colab": {
          "base_uri": "https://localhost:8080/"
        },
        "id": "8KwyDWI0HoJv",
        "outputId": "d4308b9c-35ee-49ed-fc98-168c0056c129"
      },
      "outputs": [
        {
          "output_type": "execute_result",
          "data": {
            "text/plain": [
              "(23820, 19)"
            ]
          },
          "metadata": {},
          "execution_count": 76
        }
      ],
      "source": [
        "finaldata.shape"
      ]
    },
    {
      "cell_type": "markdown",
      "metadata": {
        "id": "Mgbz4hXRHoJv"
      },
      "source": [
        "# Feature Engineering "
      ]
    },
    {
      "cell_type": "markdown",
      "metadata": {
        "id": "Ak2Du_k0HoJv"
      },
      "source": [
        "Adding the columns based on date of email and date of registration\n",
        "Converting those columns into mutliple columns based on date month year\n",
        "Dropping those columns also customerid bacause of unique values"
      ]
    },
    {
      "cell_type": "code",
      "execution_count": 77,
      "metadata": {
        "id": "DdG1JbEfJC9n"
      },
      "outputs": [],
      "source": [
        "id = finaldata['CustomerID']"
      ]
    },
    {
      "cell_type": "code",
      "execution_count": 78,
      "metadata": {
        "id": "ORegXBLdHoJv"
      },
      "outputs": [],
      "source": [
        "finaldata['MonthOfRegistration'] = pd.to_datetime(finaldata['DateOfRegistration']).dt.month\n",
        "finaldata['MonthOfemail'] = pd.to_datetime(finaldata['DateOfemail']).dt.month\n",
        "finaldata['YearOfRegistration'] = pd.to_datetime(finaldata['DateOfRegistration']).dt.year\n",
        "finaldata['YearOfemail'] = pd.to_datetime(finaldata['DateOfemail']).dt.year\n",
        "finaldata['Date_of_Registration'] = pd.to_datetime(finaldata['DateOfRegistration']).dt.day\n",
        "finaldata['Date_of_email'] = pd.to_datetime(finaldata['DateOfemail']).dt.day\n",
        "finaldata = finaldata.drop(['DateOfRegistration','DateOfemail','CustomerID'],axis=1)"
      ]
    },
    {
      "cell_type": "code",
      "execution_count": 79,
      "metadata": {
        "colab": {
          "base_uri": "https://localhost:8080/",
          "height": 300
        },
        "id": "uE6nOz87HoJw",
        "outputId": "37547b98-6a40-4226-b9ca-1da68ca38609"
      },
      "outputs": [
        {
          "output_type": "execute_result",
          "data": {
            "text/plain": [
              "  RetentionPotential   City  OnlineCommunication  AutomaticRefill  \\\n",
              "0                Low  CITY3                    0                0   \n",
              "1                Low  CITY2                    1                0   \n",
              "2               High  CITY4                    1                0   \n",
              "3                Low  CITY2                    0                0   \n",
              "4                Low  CITY3                    1                0   \n",
              "\n",
              "   DoorstepDelivery PreferredDeliveryDay  OrderQuantity  No_Of_Orders  \\\n",
              "0                 0               Friday            115             3   \n",
              "1                 0               Friday             41             1   \n",
              "2                 0            Wednesday             41             1   \n",
              "3                 0               Monday             52             1   \n",
              "4                 0              Tuesday             31             1   \n",
              "\n",
              "      EmailType MailOpened  ... CustomMail_Open  CustomMail_No  \\\n",
              "0  WelcomeEmail        yes  ...             4.0           27.0   \n",
              "1  WelcomeEmail        yes  ...             0.0            0.0   \n",
              "2  WelcomeEmail        yes  ...             0.0            0.0   \n",
              "3  WelcomeEmail        yes  ...            13.0           28.0   \n",
              "4  WelcomeEmail        yes  ...             0.0            0.0   \n",
              "\n",
              "   MailClicked_Open  MailClicked_No  MonthOfRegistration  MonthOfemail  \\\n",
              "0               2.0            29.0                    9             9   \n",
              "1               0.0             0.0                   12            12   \n",
              "2               0.0             0.0                    9             9   \n",
              "3               4.0            37.0                    4             4   \n",
              "4               0.0             0.0                    1             1   \n",
              "\n",
              "   YearOfRegistration  YearOfemail  Date_of_Registration  Date_of_email  \n",
              "0                2013         2013                    23             23  \n",
              "1                2013         2013                     5              5  \n",
              "2                2013         2013                    10             10  \n",
              "3                2013         2013                    13             13  \n",
              "4                2014         2014                    10             10  \n",
              "\n",
              "[5 rows x 22 columns]"
            ],
            "text/html": [
              "\n",
              "  <div id=\"df-4dff69d2-7b4e-4ac8-a991-fd6fb704f7de\">\n",
              "    <div class=\"colab-df-container\">\n",
              "      <div>\n",
              "<style scoped>\n",
              "    .dataframe tbody tr th:only-of-type {\n",
              "        vertical-align: middle;\n",
              "    }\n",
              "\n",
              "    .dataframe tbody tr th {\n",
              "        vertical-align: top;\n",
              "    }\n",
              "\n",
              "    .dataframe thead th {\n",
              "        text-align: right;\n",
              "    }\n",
              "</style>\n",
              "<table border=\"1\" class=\"dataframe\">\n",
              "  <thead>\n",
              "    <tr style=\"text-align: right;\">\n",
              "      <th></th>\n",
              "      <th>RetentionPotential</th>\n",
              "      <th>City</th>\n",
              "      <th>OnlineCommunication</th>\n",
              "      <th>AutomaticRefill</th>\n",
              "      <th>DoorstepDelivery</th>\n",
              "      <th>PreferredDeliveryDay</th>\n",
              "      <th>OrderQuantity</th>\n",
              "      <th>No_Of_Orders</th>\n",
              "      <th>EmailType</th>\n",
              "      <th>MailOpened</th>\n",
              "      <th>...</th>\n",
              "      <th>CustomMail_Open</th>\n",
              "      <th>CustomMail_No</th>\n",
              "      <th>MailClicked_Open</th>\n",
              "      <th>MailClicked_No</th>\n",
              "      <th>MonthOfRegistration</th>\n",
              "      <th>MonthOfemail</th>\n",
              "      <th>YearOfRegistration</th>\n",
              "      <th>YearOfemail</th>\n",
              "      <th>Date_of_Registration</th>\n",
              "      <th>Date_of_email</th>\n",
              "    </tr>\n",
              "  </thead>\n",
              "  <tbody>\n",
              "    <tr>\n",
              "      <th>0</th>\n",
              "      <td>Low</td>\n",
              "      <td>CITY3</td>\n",
              "      <td>0</td>\n",
              "      <td>0</td>\n",
              "      <td>0</td>\n",
              "      <td>Friday</td>\n",
              "      <td>115</td>\n",
              "      <td>3</td>\n",
              "      <td>WelcomeEmail</td>\n",
              "      <td>yes</td>\n",
              "      <td>...</td>\n",
              "      <td>4.0</td>\n",
              "      <td>27.0</td>\n",
              "      <td>2.0</td>\n",
              "      <td>29.0</td>\n",
              "      <td>9</td>\n",
              "      <td>9</td>\n",
              "      <td>2013</td>\n",
              "      <td>2013</td>\n",
              "      <td>23</td>\n",
              "      <td>23</td>\n",
              "    </tr>\n",
              "    <tr>\n",
              "      <th>1</th>\n",
              "      <td>Low</td>\n",
              "      <td>CITY2</td>\n",
              "      <td>1</td>\n",
              "      <td>0</td>\n",
              "      <td>0</td>\n",
              "      <td>Friday</td>\n",
              "      <td>41</td>\n",
              "      <td>1</td>\n",
              "      <td>WelcomeEmail</td>\n",
              "      <td>yes</td>\n",
              "      <td>...</td>\n",
              "      <td>0.0</td>\n",
              "      <td>0.0</td>\n",
              "      <td>0.0</td>\n",
              "      <td>0.0</td>\n",
              "      <td>12</td>\n",
              "      <td>12</td>\n",
              "      <td>2013</td>\n",
              "      <td>2013</td>\n",
              "      <td>5</td>\n",
              "      <td>5</td>\n",
              "    </tr>\n",
              "    <tr>\n",
              "      <th>2</th>\n",
              "      <td>High</td>\n",
              "      <td>CITY4</td>\n",
              "      <td>1</td>\n",
              "      <td>0</td>\n",
              "      <td>0</td>\n",
              "      <td>Wednesday</td>\n",
              "      <td>41</td>\n",
              "      <td>1</td>\n",
              "      <td>WelcomeEmail</td>\n",
              "      <td>yes</td>\n",
              "      <td>...</td>\n",
              "      <td>0.0</td>\n",
              "      <td>0.0</td>\n",
              "      <td>0.0</td>\n",
              "      <td>0.0</td>\n",
              "      <td>9</td>\n",
              "      <td>9</td>\n",
              "      <td>2013</td>\n",
              "      <td>2013</td>\n",
              "      <td>10</td>\n",
              "      <td>10</td>\n",
              "    </tr>\n",
              "    <tr>\n",
              "      <th>3</th>\n",
              "      <td>Low</td>\n",
              "      <td>CITY2</td>\n",
              "      <td>0</td>\n",
              "      <td>0</td>\n",
              "      <td>0</td>\n",
              "      <td>Monday</td>\n",
              "      <td>52</td>\n",
              "      <td>1</td>\n",
              "      <td>WelcomeEmail</td>\n",
              "      <td>yes</td>\n",
              "      <td>...</td>\n",
              "      <td>13.0</td>\n",
              "      <td>28.0</td>\n",
              "      <td>4.0</td>\n",
              "      <td>37.0</td>\n",
              "      <td>4</td>\n",
              "      <td>4</td>\n",
              "      <td>2013</td>\n",
              "      <td>2013</td>\n",
              "      <td>13</td>\n",
              "      <td>13</td>\n",
              "    </tr>\n",
              "    <tr>\n",
              "      <th>4</th>\n",
              "      <td>Low</td>\n",
              "      <td>CITY3</td>\n",
              "      <td>1</td>\n",
              "      <td>0</td>\n",
              "      <td>0</td>\n",
              "      <td>Tuesday</td>\n",
              "      <td>31</td>\n",
              "      <td>1</td>\n",
              "      <td>WelcomeEmail</td>\n",
              "      <td>yes</td>\n",
              "      <td>...</td>\n",
              "      <td>0.0</td>\n",
              "      <td>0.0</td>\n",
              "      <td>0.0</td>\n",
              "      <td>0.0</td>\n",
              "      <td>1</td>\n",
              "      <td>1</td>\n",
              "      <td>2014</td>\n",
              "      <td>2014</td>\n",
              "      <td>10</td>\n",
              "      <td>10</td>\n",
              "    </tr>\n",
              "  </tbody>\n",
              "</table>\n",
              "<p>5 rows × 22 columns</p>\n",
              "</div>\n",
              "      <button class=\"colab-df-convert\" onclick=\"convertToInteractive('df-4dff69d2-7b4e-4ac8-a991-fd6fb704f7de')\"\n",
              "              title=\"Convert this dataframe to an interactive table.\"\n",
              "              style=\"display:none;\">\n",
              "        \n",
              "  <svg xmlns=\"http://www.w3.org/2000/svg\" height=\"24px\"viewBox=\"0 0 24 24\"\n",
              "       width=\"24px\">\n",
              "    <path d=\"M0 0h24v24H0V0z\" fill=\"none\"/>\n",
              "    <path d=\"M18.56 5.44l.94 2.06.94-2.06 2.06-.94-2.06-.94-.94-2.06-.94 2.06-2.06.94zm-11 1L8.5 8.5l.94-2.06 2.06-.94-2.06-.94L8.5 2.5l-.94 2.06-2.06.94zm10 10l.94 2.06.94-2.06 2.06-.94-2.06-.94-.94-2.06-.94 2.06-2.06.94z\"/><path d=\"M17.41 7.96l-1.37-1.37c-.4-.4-.92-.59-1.43-.59-.52 0-1.04.2-1.43.59L10.3 9.45l-7.72 7.72c-.78.78-.78 2.05 0 2.83L4 21.41c.39.39.9.59 1.41.59.51 0 1.02-.2 1.41-.59l7.78-7.78 2.81-2.81c.8-.78.8-2.07 0-2.86zM5.41 20L4 18.59l7.72-7.72 1.47 1.35L5.41 20z\"/>\n",
              "  </svg>\n",
              "      </button>\n",
              "      \n",
              "  <style>\n",
              "    .colab-df-container {\n",
              "      display:flex;\n",
              "      flex-wrap:wrap;\n",
              "      gap: 12px;\n",
              "    }\n",
              "\n",
              "    .colab-df-convert {\n",
              "      background-color: #E8F0FE;\n",
              "      border: none;\n",
              "      border-radius: 50%;\n",
              "      cursor: pointer;\n",
              "      display: none;\n",
              "      fill: #1967D2;\n",
              "      height: 32px;\n",
              "      padding: 0 0 0 0;\n",
              "      width: 32px;\n",
              "    }\n",
              "\n",
              "    .colab-df-convert:hover {\n",
              "      background-color: #E2EBFA;\n",
              "      box-shadow: 0px 1px 2px rgba(60, 64, 67, 0.3), 0px 1px 3px 1px rgba(60, 64, 67, 0.15);\n",
              "      fill: #174EA6;\n",
              "    }\n",
              "\n",
              "    [theme=dark] .colab-df-convert {\n",
              "      background-color: #3B4455;\n",
              "      fill: #D2E3FC;\n",
              "    }\n",
              "\n",
              "    [theme=dark] .colab-df-convert:hover {\n",
              "      background-color: #434B5C;\n",
              "      box-shadow: 0px 1px 3px 1px rgba(0, 0, 0, 0.15);\n",
              "      filter: drop-shadow(0px 1px 2px rgba(0, 0, 0, 0.3));\n",
              "      fill: #FFFFFF;\n",
              "    }\n",
              "  </style>\n",
              "\n",
              "      <script>\n",
              "        const buttonEl =\n",
              "          document.querySelector('#df-4dff69d2-7b4e-4ac8-a991-fd6fb704f7de button.colab-df-convert');\n",
              "        buttonEl.style.display =\n",
              "          google.colab.kernel.accessAllowed ? 'block' : 'none';\n",
              "\n",
              "        async function convertToInteractive(key) {\n",
              "          const element = document.querySelector('#df-4dff69d2-7b4e-4ac8-a991-fd6fb704f7de');\n",
              "          const dataTable =\n",
              "            await google.colab.kernel.invokeFunction('convertToInteractive',\n",
              "                                                     [key], {});\n",
              "          if (!dataTable) return;\n",
              "\n",
              "          const docLinkHtml = 'Like what you see? Visit the ' +\n",
              "            '<a target=\"_blank\" href=https://colab.research.google.com/notebooks/data_table.ipynb>data table notebook</a>'\n",
              "            + ' to learn more about interactive tables.';\n",
              "          element.innerHTML = '';\n",
              "          dataTable['output_type'] = 'display_data';\n",
              "          await google.colab.output.renderOutput(dataTable, element);\n",
              "          const docLink = document.createElement('div');\n",
              "          docLink.innerHTML = docLinkHtml;\n",
              "          element.appendChild(docLink);\n",
              "        }\n",
              "      </script>\n",
              "    </div>\n",
              "  </div>\n",
              "  "
            ]
          },
          "metadata": {},
          "execution_count": 79
        }
      ],
      "source": [
        "finaldata.head()"
      ]
    },
    {
      "cell_type": "code",
      "execution_count": 80,
      "metadata": {
        "colab": {
          "base_uri": "https://localhost:8080/"
        },
        "id": "ChhxkJ8vHoJw",
        "outputId": "0a7b2d12-5f93-4624-b4d4-52820523ea61"
      },
      "outputs": [
        {
          "output_type": "execute_result",
          "data": {
            "text/plain": [
              "RetentionPotential         3\n",
              "City                       4\n",
              "OnlineCommunication        2\n",
              "AutomaticRefill            2\n",
              "DoorstepDelivery           2\n",
              "PreferredDeliveryDay       7\n",
              "OrderQuantity           2206\n",
              "No_Of_Orders             150\n",
              "EmailType                  1\n",
              "MailOpened                 1\n",
              "MailClicked                1\n",
              "CustomMails               84\n",
              "CustomMail_Open           61\n",
              "CustomMail_No             70\n",
              "MailClicked_Open          30\n",
              "MailClicked_No            80\n",
              "MonthOfRegistration       12\n",
              "MonthOfemail              12\n",
              "YearOfRegistration        11\n",
              "YearOfemail               11\n",
              "Date_of_Registration      31\n",
              "Date_of_email             31\n",
              "dtype: int64"
            ]
          },
          "metadata": {},
          "execution_count": 80
        }
      ],
      "source": [
        "finaldata.nunique()"
      ]
    },
    {
      "cell_type": "code",
      "execution_count": 81,
      "metadata": {
        "colab": {
          "base_uri": "https://localhost:8080/"
        },
        "id": "_4EpaRKPHoJw",
        "outputId": "4387cfbb-cb67-4453-d801-91e0c7eab431"
      },
      "outputs": [
        {
          "output_type": "execute_result",
          "data": {
            "text/plain": [
              "RetentionPotential       object\n",
              "City                     object\n",
              "OnlineCommunication       int64\n",
              "AutomaticRefill           int64\n",
              "DoorstepDelivery          int64\n",
              "PreferredDeliveryDay     object\n",
              "OrderQuantity             int64\n",
              "No_Of_Orders              int64\n",
              "EmailType                object\n",
              "MailOpened               object\n",
              "MailClicked              object\n",
              "CustomMails             float64\n",
              "CustomMail_Open         float64\n",
              "CustomMail_No           float64\n",
              "MailClicked_Open        float64\n",
              "MailClicked_No          float64\n",
              "MonthOfRegistration       int64\n",
              "MonthOfemail              int64\n",
              "YearOfRegistration        int64\n",
              "YearOfemail               int64\n",
              "Date_of_Registration      int64\n",
              "Date_of_email             int64\n",
              "dtype: object"
            ]
          },
          "metadata": {},
          "execution_count": 81
        }
      ],
      "source": [
        "finaldata.dtypes"
      ]
    },
    {
      "cell_type": "markdown",
      "metadata": {
        "id": "ximAeJl-HoJw"
      },
      "source": [
        "Since the OnlineCommunication,Doorstepdelivery and Automatic Refill are categorical columns but the dtypes is displaying in numerical.\n",
        "Convert them into categorical columns"
      ]
    },
    {
      "cell_type": "code",
      "execution_count": 82,
      "metadata": {
        "id": "jaqHqEhxHoJw"
      },
      "outputs": [],
      "source": [
        "finaldata['OnlineCommunication'] = finaldata['OnlineCommunication'].astype('object')\n",
        "finaldata['DoorstepDelivery'] = finaldata['DoorstepDelivery'].astype('object')\n",
        "finaldata['AutomaticRefill'] = finaldata['AutomaticRefill'].astype('object')"
      ]
    },
    {
      "cell_type": "markdown",
      "metadata": {
        "id": "tnNQEpy8HoJw"
      },
      "source": [
        "Separating the categorical and numerical columns "
      ]
    },
    {
      "cell_type": "code",
      "execution_count": 83,
      "metadata": {
        "id": "Smp_fXKOHoJw"
      },
      "outputs": [],
      "source": [
        "cat_cols = finaldata.select_dtypes(include='object').columns\n",
        "num_cols = finaldata.select_dtypes(exclude='object').columns"
      ]
    },
    {
      "cell_type": "markdown",
      "metadata": {
        "id": "6bFM6h6PHoJw"
      },
      "source": [
        "Converting the object dtypes into category"
      ]
    },
    {
      "cell_type": "code",
      "execution_count": 84,
      "metadata": {
        "id": "JWf9NQGaHoJw"
      },
      "outputs": [],
      "source": [
        "for col in cat_cols:\n",
        "    finaldata[col] = finaldata[col].astype('category')"
      ]
    },
    {
      "cell_type": "code",
      "execution_count": 85,
      "metadata": {
        "colab": {
          "base_uri": "https://localhost:8080/"
        },
        "id": "Pk5FyY_-HoJw",
        "outputId": "85aa998f-7433-492b-e50c-baee40ddbcc5"
      },
      "outputs": [
        {
          "output_type": "execute_result",
          "data": {
            "text/plain": [
              "RetentionPotential      category\n",
              "City                    category\n",
              "OnlineCommunication     category\n",
              "AutomaticRefill         category\n",
              "DoorstepDelivery        category\n",
              "PreferredDeliveryDay    category\n",
              "OrderQuantity              int64\n",
              "No_Of_Orders               int64\n",
              "EmailType               category\n",
              "MailOpened              category\n",
              "MailClicked             category\n",
              "CustomMails              float64\n",
              "CustomMail_Open          float64\n",
              "CustomMail_No            float64\n",
              "MailClicked_Open         float64\n",
              "MailClicked_No           float64\n",
              "MonthOfRegistration        int64\n",
              "MonthOfemail               int64\n",
              "YearOfRegistration         int64\n",
              "YearOfemail                int64\n",
              "Date_of_Registration       int64\n",
              "Date_of_email              int64\n",
              "dtype: object"
            ]
          },
          "metadata": {},
          "execution_count": 85
        }
      ],
      "source": [
        "finaldata.dtypes"
      ]
    },
    {
      "cell_type": "markdown",
      "metadata": {
        "id": "BaOmnqrrHoJw"
      },
      "source": [
        "Replacing the Retention Potential with values according to problem statement"
      ]
    },
    {
      "cell_type": "code",
      "execution_count": 86,
      "metadata": {
        "id": "9MNfwDRAHoJw"
      },
      "outputs": [],
      "source": [
        "finaldata['RetentionPotential'].replace(to_replace='High',value=0,inplace=True)\n",
        "finaldata['RetentionPotential'].replace(to_replace='Medium',value=1,inplace=True)\n",
        "finaldata['RetentionPotential'].replace(to_replace='Low',value=2,inplace=True)"
      ]
    },
    {
      "cell_type": "code",
      "execution_count": 87,
      "metadata": {
        "colab": {
          "base_uri": "https://localhost:8080/",
          "height": 300
        },
        "id": "I8tq-JLaHoJx",
        "outputId": "faecf00c-4471-403f-b4fb-2e3c47a95931"
      },
      "outputs": [
        {
          "output_type": "execute_result",
          "data": {
            "text/plain": [
              "  RetentionPotential   City OnlineCommunication AutomaticRefill  \\\n",
              "0                  2  CITY3                   0               0   \n",
              "1                  2  CITY2                   1               0   \n",
              "2                  0  CITY4                   1               0   \n",
              "3                  2  CITY2                   0               0   \n",
              "4                  2  CITY3                   1               0   \n",
              "\n",
              "  DoorstepDelivery PreferredDeliveryDay  OrderQuantity  No_Of_Orders  \\\n",
              "0                0               Friday            115             3   \n",
              "1                0               Friday             41             1   \n",
              "2                0            Wednesday             41             1   \n",
              "3                0               Monday             52             1   \n",
              "4                0              Tuesday             31             1   \n",
              "\n",
              "      EmailType MailOpened  ... CustomMail_Open  CustomMail_No  \\\n",
              "0  WelcomeEmail        yes  ...             4.0           27.0   \n",
              "1  WelcomeEmail        yes  ...             0.0            0.0   \n",
              "2  WelcomeEmail        yes  ...             0.0            0.0   \n",
              "3  WelcomeEmail        yes  ...            13.0           28.0   \n",
              "4  WelcomeEmail        yes  ...             0.0            0.0   \n",
              "\n",
              "   MailClicked_Open  MailClicked_No  MonthOfRegistration  MonthOfemail  \\\n",
              "0               2.0            29.0                    9             9   \n",
              "1               0.0             0.0                   12            12   \n",
              "2               0.0             0.0                    9             9   \n",
              "3               4.0            37.0                    4             4   \n",
              "4               0.0             0.0                    1             1   \n",
              "\n",
              "   YearOfRegistration  YearOfemail  Date_of_Registration  Date_of_email  \n",
              "0                2013         2013                    23             23  \n",
              "1                2013         2013                     5              5  \n",
              "2                2013         2013                    10             10  \n",
              "3                2013         2013                    13             13  \n",
              "4                2014         2014                    10             10  \n",
              "\n",
              "[5 rows x 22 columns]"
            ],
            "text/html": [
              "\n",
              "  <div id=\"df-1f472509-164b-4192-a9b1-56a9a64939e5\">\n",
              "    <div class=\"colab-df-container\">\n",
              "      <div>\n",
              "<style scoped>\n",
              "    .dataframe tbody tr th:only-of-type {\n",
              "        vertical-align: middle;\n",
              "    }\n",
              "\n",
              "    .dataframe tbody tr th {\n",
              "        vertical-align: top;\n",
              "    }\n",
              "\n",
              "    .dataframe thead th {\n",
              "        text-align: right;\n",
              "    }\n",
              "</style>\n",
              "<table border=\"1\" class=\"dataframe\">\n",
              "  <thead>\n",
              "    <tr style=\"text-align: right;\">\n",
              "      <th></th>\n",
              "      <th>RetentionPotential</th>\n",
              "      <th>City</th>\n",
              "      <th>OnlineCommunication</th>\n",
              "      <th>AutomaticRefill</th>\n",
              "      <th>DoorstepDelivery</th>\n",
              "      <th>PreferredDeliveryDay</th>\n",
              "      <th>OrderQuantity</th>\n",
              "      <th>No_Of_Orders</th>\n",
              "      <th>EmailType</th>\n",
              "      <th>MailOpened</th>\n",
              "      <th>...</th>\n",
              "      <th>CustomMail_Open</th>\n",
              "      <th>CustomMail_No</th>\n",
              "      <th>MailClicked_Open</th>\n",
              "      <th>MailClicked_No</th>\n",
              "      <th>MonthOfRegistration</th>\n",
              "      <th>MonthOfemail</th>\n",
              "      <th>YearOfRegistration</th>\n",
              "      <th>YearOfemail</th>\n",
              "      <th>Date_of_Registration</th>\n",
              "      <th>Date_of_email</th>\n",
              "    </tr>\n",
              "  </thead>\n",
              "  <tbody>\n",
              "    <tr>\n",
              "      <th>0</th>\n",
              "      <td>2</td>\n",
              "      <td>CITY3</td>\n",
              "      <td>0</td>\n",
              "      <td>0</td>\n",
              "      <td>0</td>\n",
              "      <td>Friday</td>\n",
              "      <td>115</td>\n",
              "      <td>3</td>\n",
              "      <td>WelcomeEmail</td>\n",
              "      <td>yes</td>\n",
              "      <td>...</td>\n",
              "      <td>4.0</td>\n",
              "      <td>27.0</td>\n",
              "      <td>2.0</td>\n",
              "      <td>29.0</td>\n",
              "      <td>9</td>\n",
              "      <td>9</td>\n",
              "      <td>2013</td>\n",
              "      <td>2013</td>\n",
              "      <td>23</td>\n",
              "      <td>23</td>\n",
              "    </tr>\n",
              "    <tr>\n",
              "      <th>1</th>\n",
              "      <td>2</td>\n",
              "      <td>CITY2</td>\n",
              "      <td>1</td>\n",
              "      <td>0</td>\n",
              "      <td>0</td>\n",
              "      <td>Friday</td>\n",
              "      <td>41</td>\n",
              "      <td>1</td>\n",
              "      <td>WelcomeEmail</td>\n",
              "      <td>yes</td>\n",
              "      <td>...</td>\n",
              "      <td>0.0</td>\n",
              "      <td>0.0</td>\n",
              "      <td>0.0</td>\n",
              "      <td>0.0</td>\n",
              "      <td>12</td>\n",
              "      <td>12</td>\n",
              "      <td>2013</td>\n",
              "      <td>2013</td>\n",
              "      <td>5</td>\n",
              "      <td>5</td>\n",
              "    </tr>\n",
              "    <tr>\n",
              "      <th>2</th>\n",
              "      <td>0</td>\n",
              "      <td>CITY4</td>\n",
              "      <td>1</td>\n",
              "      <td>0</td>\n",
              "      <td>0</td>\n",
              "      <td>Wednesday</td>\n",
              "      <td>41</td>\n",
              "      <td>1</td>\n",
              "      <td>WelcomeEmail</td>\n",
              "      <td>yes</td>\n",
              "      <td>...</td>\n",
              "      <td>0.0</td>\n",
              "      <td>0.0</td>\n",
              "      <td>0.0</td>\n",
              "      <td>0.0</td>\n",
              "      <td>9</td>\n",
              "      <td>9</td>\n",
              "      <td>2013</td>\n",
              "      <td>2013</td>\n",
              "      <td>10</td>\n",
              "      <td>10</td>\n",
              "    </tr>\n",
              "    <tr>\n",
              "      <th>3</th>\n",
              "      <td>2</td>\n",
              "      <td>CITY2</td>\n",
              "      <td>0</td>\n",
              "      <td>0</td>\n",
              "      <td>0</td>\n",
              "      <td>Monday</td>\n",
              "      <td>52</td>\n",
              "      <td>1</td>\n",
              "      <td>WelcomeEmail</td>\n",
              "      <td>yes</td>\n",
              "      <td>...</td>\n",
              "      <td>13.0</td>\n",
              "      <td>28.0</td>\n",
              "      <td>4.0</td>\n",
              "      <td>37.0</td>\n",
              "      <td>4</td>\n",
              "      <td>4</td>\n",
              "      <td>2013</td>\n",
              "      <td>2013</td>\n",
              "      <td>13</td>\n",
              "      <td>13</td>\n",
              "    </tr>\n",
              "    <tr>\n",
              "      <th>4</th>\n",
              "      <td>2</td>\n",
              "      <td>CITY3</td>\n",
              "      <td>1</td>\n",
              "      <td>0</td>\n",
              "      <td>0</td>\n",
              "      <td>Tuesday</td>\n",
              "      <td>31</td>\n",
              "      <td>1</td>\n",
              "      <td>WelcomeEmail</td>\n",
              "      <td>yes</td>\n",
              "      <td>...</td>\n",
              "      <td>0.0</td>\n",
              "      <td>0.0</td>\n",
              "      <td>0.0</td>\n",
              "      <td>0.0</td>\n",
              "      <td>1</td>\n",
              "      <td>1</td>\n",
              "      <td>2014</td>\n",
              "      <td>2014</td>\n",
              "      <td>10</td>\n",
              "      <td>10</td>\n",
              "    </tr>\n",
              "  </tbody>\n",
              "</table>\n",
              "<p>5 rows × 22 columns</p>\n",
              "</div>\n",
              "      <button class=\"colab-df-convert\" onclick=\"convertToInteractive('df-1f472509-164b-4192-a9b1-56a9a64939e5')\"\n",
              "              title=\"Convert this dataframe to an interactive table.\"\n",
              "              style=\"display:none;\">\n",
              "        \n",
              "  <svg xmlns=\"http://www.w3.org/2000/svg\" height=\"24px\"viewBox=\"0 0 24 24\"\n",
              "       width=\"24px\">\n",
              "    <path d=\"M0 0h24v24H0V0z\" fill=\"none\"/>\n",
              "    <path d=\"M18.56 5.44l.94 2.06.94-2.06 2.06-.94-2.06-.94-.94-2.06-.94 2.06-2.06.94zm-11 1L8.5 8.5l.94-2.06 2.06-.94-2.06-.94L8.5 2.5l-.94 2.06-2.06.94zm10 10l.94 2.06.94-2.06 2.06-.94-2.06-.94-.94-2.06-.94 2.06-2.06.94z\"/><path d=\"M17.41 7.96l-1.37-1.37c-.4-.4-.92-.59-1.43-.59-.52 0-1.04.2-1.43.59L10.3 9.45l-7.72 7.72c-.78.78-.78 2.05 0 2.83L4 21.41c.39.39.9.59 1.41.59.51 0 1.02-.2 1.41-.59l7.78-7.78 2.81-2.81c.8-.78.8-2.07 0-2.86zM5.41 20L4 18.59l7.72-7.72 1.47 1.35L5.41 20z\"/>\n",
              "  </svg>\n",
              "      </button>\n",
              "      \n",
              "  <style>\n",
              "    .colab-df-container {\n",
              "      display:flex;\n",
              "      flex-wrap:wrap;\n",
              "      gap: 12px;\n",
              "    }\n",
              "\n",
              "    .colab-df-convert {\n",
              "      background-color: #E8F0FE;\n",
              "      border: none;\n",
              "      border-radius: 50%;\n",
              "      cursor: pointer;\n",
              "      display: none;\n",
              "      fill: #1967D2;\n",
              "      height: 32px;\n",
              "      padding: 0 0 0 0;\n",
              "      width: 32px;\n",
              "    }\n",
              "\n",
              "    .colab-df-convert:hover {\n",
              "      background-color: #E2EBFA;\n",
              "      box-shadow: 0px 1px 2px rgba(60, 64, 67, 0.3), 0px 1px 3px 1px rgba(60, 64, 67, 0.15);\n",
              "      fill: #174EA6;\n",
              "    }\n",
              "\n",
              "    [theme=dark] .colab-df-convert {\n",
              "      background-color: #3B4455;\n",
              "      fill: #D2E3FC;\n",
              "    }\n",
              "\n",
              "    [theme=dark] .colab-df-convert:hover {\n",
              "      background-color: #434B5C;\n",
              "      box-shadow: 0px 1px 3px 1px rgba(0, 0, 0, 0.15);\n",
              "      filter: drop-shadow(0px 1px 2px rgba(0, 0, 0, 0.3));\n",
              "      fill: #FFFFFF;\n",
              "    }\n",
              "  </style>\n",
              "\n",
              "      <script>\n",
              "        const buttonEl =\n",
              "          document.querySelector('#df-1f472509-164b-4192-a9b1-56a9a64939e5 button.colab-df-convert');\n",
              "        buttonEl.style.display =\n",
              "          google.colab.kernel.accessAllowed ? 'block' : 'none';\n",
              "\n",
              "        async function convertToInteractive(key) {\n",
              "          const element = document.querySelector('#df-1f472509-164b-4192-a9b1-56a9a64939e5');\n",
              "          const dataTable =\n",
              "            await google.colab.kernel.invokeFunction('convertToInteractive',\n",
              "                                                     [key], {});\n",
              "          if (!dataTable) return;\n",
              "\n",
              "          const docLinkHtml = 'Like what you see? Visit the ' +\n",
              "            '<a target=\"_blank\" href=https://colab.research.google.com/notebooks/data_table.ipynb>data table notebook</a>'\n",
              "            + ' to learn more about interactive tables.';\n",
              "          element.innerHTML = '';\n",
              "          dataTable['output_type'] = 'display_data';\n",
              "          await google.colab.output.renderOutput(dataTable, element);\n",
              "          const docLink = document.createElement('div');\n",
              "          docLink.innerHTML = docLinkHtml;\n",
              "          element.appendChild(docLink);\n",
              "        }\n",
              "      </script>\n",
              "    </div>\n",
              "  </div>\n",
              "  "
            ]
          },
          "metadata": {},
          "execution_count": 87
        }
      ],
      "source": [
        "finaldata.head()"
      ]
    },
    {
      "cell_type": "markdown",
      "metadata": {
        "id": "-ejb0PRX6k0e"
      },
      "source": [
        "## Data Visualisation"
      ]
    },
    {
      "cell_type": "code",
      "execution_count": 88,
      "metadata": {
        "id": "Pk2ouDf56itl"
      },
      "outputs": [],
      "source": [
        "import matplotlib.pyplot as plt\n",
        "import seaborn as sns"
      ]
    },
    {
      "cell_type": "code",
      "execution_count": 89,
      "metadata": {
        "colab": {
          "base_uri": "https://localhost:8080/",
          "height": 528
        },
        "id": "ekEZmhTa60RR",
        "outputId": "b12c6ab4-5c50-4bd2-dc77-e080e48f648f"
      },
      "outputs": [
        {
          "output_type": "display_data",
          "data": {
            "text/plain": [
              "<Figure size 1080x1080 with 25 Axes>"
            ],
            "image/png": "[encoded data removed]"
          },
          "metadata": {
            "needs_background": "light"
          }
        }
      ],
      "source": [
        "finaldata.plot(kind='box',subplots=True,sharex=False,sharey=False,layout=(5,5),figsize=(15,15))\n",
        "plt.show()"
      ]
    },
    {
      "cell_type": "code",
      "execution_count": 90,
      "metadata": {
        "colab": {
          "base_uri": "https://localhost:8080/",
          "height": 295
        },
        "id": "yrPAqre2BhDP",
        "outputId": "565590b6-78ba-4426-a80a-8536d2eb3ec7"
      },
      "outputs": [
        {
          "output_type": "display_data",
          "data": {
            "text/plain": [
              "<Figure size 432x288 with 1 Axes>"
            ],
            "image/png": "[encoded data removed]"
          },
          "metadata": {
            "needs_background": "light"
          }
        }
      ],
      "source": [
        "#Countplot for Customers count in particular city\n",
        "sns.countplot('City', data=finaldata,order = finaldata['City'].value_counts().index)\n",
        "plt.title('Total number of customers in each city')\n",
        "plt.show()"
      ]
    },
    {
      "cell_type": "code",
      "execution_count": 91,
      "metadata": {
        "colab": {
          "base_uri": "https://localhost:8080/",
          "height": 295
        },
        "id": "tZ3NQrPnBg4q",
        "outputId": "11c97b3b-caf6-4379-994d-3b4442dbe3e2"
      },
      "outputs": [
        {
          "output_type": "display_data",
          "data": {
            "text/plain": [
              "<Figure size 432x288 with 1 Axes>"
            ],
            "image/png": "[encoded data removed]"
          },
          "metadata": {
            "needs_background": "light"
          }
        }
      ],
      "source": [
        "plt.grid()\n",
        "sns.countplot(x=finaldata['OnlineCommunication'])\n",
        "plt.title('Counts of Online Communication')\n",
        "plt.show()"
      ]
    },
    {
      "cell_type": "code",
      "execution_count": 92,
      "metadata": {
        "colab": {
          "base_uri": "https://localhost:8080/",
          "height": 295
        },
        "id": "Lrd7UkCUBgzN",
        "outputId": "2ccd778c-e6fd-404e-a85a-bcd742188212"
      },
      "outputs": [
        {
          "output_type": "display_data",
          "data": {
            "text/plain": [
              "<Figure size 432x288 with 1 Axes>"
            ],
            "image/png": "[encoded data removed]"
          },
          "metadata": {
            "needs_background": "light"
          }
        }
      ],
      "source": [
        "#Countplot for Customers count in preferred delivery day\n",
        "sns.countplot('PreferredDeliveryDay',data=finaldata,order = finaldata['PreferredDeliveryDay'].value_counts().index)\n",
        "plt.title('PreferredDelivery day ')\n",
        "plt.show()"
      ]
    },
    {
      "cell_type": "code",
      "execution_count": 93,
      "metadata": {
        "colab": {
          "base_uri": "https://localhost:8080/",
          "height": 295
        },
        "id": "Y_NH2HrABgwr",
        "outputId": "adf51bee-587f-4aee-9acd-510e0ee95732"
      },
      "outputs": [
        {
          "output_type": "display_data",
          "data": {
            "text/plain": [
              "<Figure size 432x288 with 1 Axes>"
            ],
            "image/png": "[encoded data removed]"
          },
          "metadata": {
            "needs_background": "light"
          }
        }
      ],
      "source": [
        "#Countplot for Customers count in each level of target variable\n",
        "sns.countplot('RetentionPotential', data=finaldata,order = finaldata['RetentionPotential'].value_counts().index)\n",
        "plt.title('Count of Customers in each segment of RetentionPotential')\n",
        "plt.show()"
      ]
    },
    {
      "cell_type": "code",
      "execution_count": 94,
      "metadata": {
        "colab": {
          "base_uri": "https://localhost:8080/",
          "height": 295
        },
        "id": "QClLe7OzBges",
        "outputId": "335ac1ad-ee4f-45e6-d0bd-1c73967f7d8b"
      },
      "outputs": [
        {
          "output_type": "display_data",
          "data": {
            "text/plain": [
              "<Figure size 432x288 with 1 Axes>"
            ],
            "image/png": "[encoded data removed]"
          },
          "metadata": {
            "needs_background": "light"
          }
        }
      ],
      "source": [
        "#Countplot for Customers count in Automatic Refill\n",
        "sns.countplot('AutomaticRefill', data=finaldata,order = finaldata['AutomaticRefill'].value_counts().index)\n",
        "plt.title('Count of Customers in Automatic Refill')\n",
        "plt.show()"
      ]
    },
    {
      "cell_type": "code",
      "execution_count": 95,
      "metadata": {
        "colab": {
          "base_uri": "https://localhost:8080/",
          "height": 295
        },
        "id": "oNMsbUiPBgS-",
        "outputId": "8751b22f-ba3d-4f16-9fee-56f063f89451"
      },
      "outputs": [
        {
          "output_type": "display_data",
          "data": {
            "text/plain": [
              "<Figure size 432x288 with 1 Axes>"
            ],
            "image/png": "[encoded data removed]"
          },
          "metadata": {
            "needs_background": "light"
          }
        }
      ],
      "source": [
        "#Countplot for Customers count in Automatic Refill\n",
        "sns.countplot('DoorstepDelivery', data=finaldata,order = finaldata['DoorstepDelivery'].value_counts().index)\n",
        "plt.title('Count of Customers in Door step Delivery')\n",
        "plt.show()"
      ]
    },
    {
      "cell_type": "code",
      "execution_count": 95,
      "metadata": {
        "id": "MVBRslv5IcVk"
      },
      "outputs": [],
      "source": []
    },
    {
      "cell_type": "code",
      "execution_count": 95,
      "metadata": {
        "id": "SY0s2KT3IcJ5"
      },
      "outputs": [],
      "source": []
    },
    {
      "cell_type": "code",
      "execution_count": 96,
      "metadata": {
        "id": "18GkYDSBHoJx"
      },
      "outputs": [],
      "source": [
        "X = finaldata.drop('RetentionPotential',axis=1)       #Dropping the target attribute"
      ]
    },
    {
      "cell_type": "code",
      "execution_count": 97,
      "metadata": {
        "id": "4rsU-ZO_HoJx"
      },
      "outputs": [],
      "source": [
        "y = finaldata['RetentionPotential']                  #Assinging the target attribute to y since it is a SuperVised ML"
      ]
    },
    {
      "cell_type": "markdown",
      "metadata": {
        "id": "e7o-43gMHoJx"
      },
      "source": [
        "# Train test Split"
      ]
    },
    {
      "cell_type": "markdown",
      "metadata": {
        "id": "xVVDUWH-HoJx"
      },
      "source": [
        "Splittng the dataset in train and test"
      ]
    },
    {
      "cell_type": "code",
      "execution_count": 98,
      "metadata": {
        "id": "ZSLdw3oOHoJx"
      },
      "outputs": [],
      "source": [
        "from sklearn.model_selection import train_test_split\n",
        "X_train,X_test,y_train,y_test = train_test_split(X,y,test_size=0.25,random_state=123)"
      ]
    },
    {
      "cell_type": "code",
      "execution_count": 99,
      "metadata": {
        "colab": {
          "base_uri": "https://localhost:8080/"
        },
        "id": "nIK2sgEdHoJx",
        "outputId": "5f6b47d2-7b32-47aa-edff-aa972f84f231"
      },
      "outputs": [
        {
          "output_type": "stream",
          "name": "stdout",
          "text": [
            "(17865, 21)\n",
            "(5955, 21)\n",
            "(17865,)\n",
            "(5955,)\n"
          ]
        }
      ],
      "source": [
        "print(X_train.shape)\n",
        "print(X_test.shape)\n",
        "print(y_train.shape)\n",
        "print(y_test.shape)"
      ]
    },
    {
      "cell_type": "code",
      "execution_count": 100,
      "metadata": {
        "colab": {
          "base_uri": "https://localhost:8080/"
        },
        "id": "ottMkTymHoJx",
        "outputId": "a9b1a3c0-bba4-4906-bfd6-7894168d280c"
      },
      "outputs": [
        {
          "output_type": "execute_result",
          "data": {
            "text/plain": [
              "2    14359\n",
              "0     2839\n",
              "1      667\n",
              "Name: RetentionPotential, dtype: int64"
            ]
          },
          "metadata": {},
          "execution_count": 100
        }
      ],
      "source": [
        "pd.value_counts(y_train)"
      ]
    },
    {
      "cell_type": "code",
      "execution_count": 101,
      "metadata": {
        "colab": {
          "base_uri": "https://localhost:8080/"
        },
        "id": "GHLZV9tJHoJx",
        "outputId": "e08320c6-1437-41d9-91d9-df4a64a84861"
      },
      "outputs": [
        {
          "output_type": "execute_result",
          "data": {
            "text/plain": [
              "2    4826\n",
              "0     917\n",
              "1     212\n",
              "Name: RetentionPotential, dtype: int64"
            ]
          },
          "metadata": {},
          "execution_count": 101
        }
      ],
      "source": [
        "pd.value_counts(y_test)"
      ]
    },
    {
      "cell_type": "markdown",
      "metadata": {
        "id": "5c6w1kQqHoJx"
      },
      "source": [
        "# Data preprocessing"
      ]
    },
    {
      "cell_type": "code",
      "execution_count": 102,
      "metadata": {
        "colab": {
          "base_uri": "https://localhost:8080/"
        },
        "id": "OQ68cmkFHoJx",
        "outputId": "79d6a975-cab5-4752-ab7d-bd9f43ee21d8"
      },
      "outputs": [
        {
          "output_type": "execute_result",
          "data": {
            "text/plain": [
              "CategoricalDtype(categories=[0, 2, 1], ordered=False)"
            ]
          },
          "metadata": {},
          "execution_count": 102
        }
      ],
      "source": [
        "y_train.dtypes"
      ]
    },
    {
      "cell_type": "code",
      "execution_count": 103,
      "metadata": {
        "colab": {
          "base_uri": "https://localhost:8080/"
        },
        "id": "0SqZxDkIHoJx",
        "outputId": "24b3ea44-b31b-47a4-b528-6c0fc655e585"
      },
      "outputs": [
        {
          "output_type": "execute_result",
          "data": {
            "text/plain": [
              "City                    category\n",
              "OnlineCommunication     category\n",
              "AutomaticRefill         category\n",
              "DoorstepDelivery        category\n",
              "PreferredDeliveryDay    category\n",
              "OrderQuantity              int64\n",
              "No_Of_Orders               int64\n",
              "EmailType               category\n",
              "MailOpened              category\n",
              "MailClicked             category\n",
              "CustomMails              float64\n",
              "CustomMail_Open          float64\n",
              "CustomMail_No            float64\n",
              "MailClicked_Open         float64\n",
              "MailClicked_No           float64\n",
              "MonthOfRegistration        int64\n",
              "MonthOfemail               int64\n",
              "YearOfRegistration         int64\n",
              "YearOfemail                int64\n",
              "Date_of_Registration       int64\n",
              "Date_of_email              int64\n",
              "dtype: object"
            ]
          },
          "metadata": {},
          "execution_count": 103
        }
      ],
      "source": [
        "X_train.dtypes"
      ]
    },
    {
      "cell_type": "code",
      "execution_count": 104,
      "metadata": {
        "id": "jkHlAFDPHoJx"
      },
      "outputs": [],
      "source": [
        "cat_attr = X_train.select_dtypes(include='category').columns\n",
        "num_attr = X_train.select_dtypes(exclude='category').columns"
      ]
    },
    {
      "cell_type": "markdown",
      "metadata": {
        "id": "Es93JEXVHoJy"
      },
      "source": [
        "Converting categorical columns into numerical arrays by One Hot Encoding"
      ]
    },
    {
      "cell_type": "code",
      "execution_count": 105,
      "metadata": {
        "id": "dh2fbWDcHoJy"
      },
      "outputs": [],
      "source": [
        "from sklearn.preprocessing import OneHotEncoder\n",
        "ohe = OneHotEncoder()\n",
        "ohe.fit(X_train[cat_attr])\n",
        "\n",
        "X_train_ohe = ohe.transform(X_train[cat_attr]).toarray()\n",
        "X_test_ohe = ohe.transform(X_test[cat_attr]).toarray()"
      ]
    },
    {
      "cell_type": "code",
      "execution_count": 106,
      "metadata": {
        "colab": {
          "base_uri": "https://localhost:8080/"
        },
        "id": "uHBlVTmiHoJy",
        "outputId": "8dd14396-ff21-447a-86cc-6f715877dafe"
      },
      "outputs": [
        {
          "output_type": "execute_result",
          "data": {
            "text/plain": [
              "(17865, 20)"
            ]
          },
          "metadata": {},
          "execution_count": 106
        }
      ],
      "source": [
        "X_train_ohe.shape"
      ]
    },
    {
      "cell_type": "markdown",
      "metadata": {
        "id": "gTjD5YKZHoJy"
      },
      "source": [
        "Standarising the numerical columns with StandardScaler"
      ]
    },
    {
      "cell_type": "code",
      "execution_count": 107,
      "metadata": {
        "id": "TD-lPIIfHoJy"
      },
      "outputs": [],
      "source": [
        "from sklearn.preprocessing import StandardScaler\n",
        "std = StandardScaler()\n",
        "std.fit(X_train[num_attr])\n",
        "\n",
        "X_train_std = std.transform(X_train[num_attr])\n",
        "X_test_std = std.transform(X_test[num_attr])"
      ]
    },
    {
      "cell_type": "code",
      "execution_count": 108,
      "metadata": {
        "colab": {
          "base_uri": "https://localhost:8080/"
        },
        "id": "Ho9s9mzNHoJy",
        "outputId": "20a02546-32c2-4070-81e3-63dcca8d53a9"
      },
      "outputs": [
        {
          "output_type": "execute_result",
          "data": {
            "text/plain": [
              "array([[ 0.57510151,  0.61536756,  0.8183563 , ..., -0.0940187 ,\n",
              "        -0.05085205, -0.05085205],\n",
              "       [ 0.09690567,  0.04546716, -1.0321418 , ..., -1.11291107,\n",
              "        -1.4456399 , -1.4456399 ],\n",
              "       [-0.19781321, -0.28019021,  0.51827552, ...,  1.94376605,\n",
              "        -0.28331669, -0.28331669],\n",
              "       ...,\n",
              "       [-0.22381781, -0.28019021,  0.86836976, ..., -1.11291107,\n",
              "        -0.05085205, -0.05085205],\n",
              "       [ 0.00444485, -0.03594718,  1.26847745, ..., -1.11291107,\n",
              "         1.3439358 ,  1.3439358 ],\n",
              "       [-0.23320837, -0.28019021,  0.8183563 , ...,  1.94376605,\n",
              "         0.29784492,  0.29784492]])"
            ]
          },
          "metadata": {},
          "execution_count": 108
        }
      ],
      "source": [
        "X_train_std"
      ]
    },
    {
      "cell_type": "markdown",
      "metadata": {
        "id": "4OMxNtLJHoJy"
      },
      "source": [
        "Merging the one hot encoding and standard scaling"
      ]
    },
    {
      "cell_type": "code",
      "execution_count": 109,
      "metadata": {
        "id": "2vUQyqElHoJ1"
      },
      "outputs": [],
      "source": [
        "X_train_con = np.concatenate([X_train_std, X_train_ohe], axis=1)\n",
        "X_test_con = np.concatenate([X_test_std, X_test_ohe], axis=1)"
      ]
    },
    {
      "cell_type": "code",
      "execution_count": 110,
      "metadata": {
        "colab": {
          "base_uri": "https://localhost:8080/"
        },
        "id": "VhX-U2wQHoJ1",
        "outputId": "7796c3b0-b5d4-4c66-8145-70bc28334133"
      },
      "outputs": [
        {
          "output_type": "execute_result",
          "data": {
            "text/plain": [
              "((17865, 33), (5955, 33))"
            ]
          },
          "metadata": {},
          "execution_count": 110
        }
      ],
      "source": [
        "X_train_con.shape ,X_test_con.shape"
      ]
    },
    {
      "cell_type": "markdown",
      "metadata": {
        "id": "NyKhv0QeHoJ2"
      },
      "source": [
        "Evaluation Model function"
      ]
    },
    {
      "cell_type": "code",
      "execution_count": 111,
      "metadata": {
        "id": "yZxUmZVpHoJ2"
      },
      "outputs": [],
      "source": [
        "from sklearn.metrics import confusion_matrix,classification_report,accuracy_score,recall_score\n",
        "def evaluate_model(act,pred):\n",
        "    print(confusion_matrix(act,pred))\n",
        "    print('Accuracy:',accuracy_score(act,pred))\n",
        "    print('Recall for Medium:',recall_score(act,pred,average='weighted',labels=[1]))"
      ]
    },
    {
      "cell_type": "markdown",
      "metadata": {
        "id": "Al4EHl8cHoJ2"
      },
      "source": [
        "# Model Building"
      ]
    },
    {
      "cell_type": "markdown",
      "metadata": {
        "id": "sEN65HJ6HoJ2"
      },
      "source": [
        "Model1 - Decision Tree Classifier"
      ]
    },
    {
      "cell_type": "code",
      "execution_count": 112,
      "metadata": {
        "id": "cKiHJyk9HoJ2"
      },
      "outputs": [],
      "source": [
        "from sklearn.tree import DecisionTreeClassifier\n",
        "model_dtc1 = DecisionTreeClassifier()\n",
        "model_dtc1 = model_dtc1.fit(X_train_con,y_train)"
      ]
    },
    {
      "cell_type": "code",
      "execution_count": 113,
      "metadata": {
        "id": "PNUsoTd-HoJ3"
      },
      "outputs": [],
      "source": [
        "y_train_m1 = model_dtc1.predict(X_train_con)\n",
        "y_test_m1 = model_dtc1.predict(X_test_con)"
      ]
    },
    {
      "cell_type": "code",
      "execution_count": 114,
      "metadata": {
        "colab": {
          "base_uri": "https://localhost:8080/"
        },
        "id": "UWIxWMNSHoJ3",
        "outputId": "a466d7da-a3d4-4ce7-8dbd-e662f317989e"
      },
      "outputs": [
        {
          "output_type": "stream",
          "name": "stdout",
          "text": [
            "--Train--\n",
            "[[ 2736     0   103]\n",
            " [    0   661     6]\n",
            " [  159     6 14194]]\n",
            "Accuracy: 0.9846627483907081\n",
            "Recall for Medium: 0.9910044977511244\n",
            "--Test--\n",
            "[[ 550   14  353]\n",
            " [  18  161   33]\n",
            " [ 380   29 4417]]\n",
            "Accuracy: 0.8611251049538203\n",
            "Recall for Medium: 0.7594339622641509\n"
          ]
        }
      ],
      "source": [
        "print('--Train--')\n",
        "evaluate_model(y_train,y_train_m1)\n",
        "print('--Test--')\n",
        "evaluate_model(y_test,y_test_m1)"
      ]
    },
    {
      "cell_type": "code",
      "execution_count": 114,
      "metadata": {
        "id": "7icUVCJVHoJ3"
      },
      "outputs": [],
      "source": []
    },
    {
      "cell_type": "markdown",
      "metadata": {
        "id": "Q8b4h_5rHoJ3"
      },
      "source": [
        "Model2 - Decision Tree Classifier with Hyperparameters"
      ]
    },
    {
      "cell_type": "code",
      "execution_count": 115,
      "metadata": {
        "id": "6-I8bDNNHoJ3"
      },
      "outputs": [],
      "source": [
        "from sklearn.model_selection import GridSearchCV"
      ]
    },
    {
      "cell_type": "code",
      "execution_count": 116,
      "metadata": {
        "id": "a7_aJAlFHoJ3"
      },
      "outputs": [],
      "source": [
        "param_grid_dtc1 = {\"criterion\": [\"gini\",\"entropy\"],\n",
        "                  \"max_depth\" : [5,7,9],\n",
        "                  \"max_features\" : [3,7,9],\n",
        "                  \"min_samples_leaf\" : [2,5,10],\n",
        "                  \"min_samples_split\":[4,8,12],\n",
        "                  \"max_leaf_nodes\":[2,6,10]}"
      ]
    },
    {
      "cell_type": "code",
      "execution_count": 117,
      "metadata": {
        "colab": {
          "base_uri": "https://localhost:8080/"
        },
        "id": "szQWm2fcHoJ3",
        "outputId": "f90387ce-1adc-414a-cf54-56ef7a853dce"
      },
      "outputs": [
        {
          "output_type": "stream",
          "name": "stdout",
          "text": [
            "Best Params: {'criterion': 'gini', 'max_depth': 9, 'max_features': 9, 'max_leaf_nodes': 10, 'min_samples_leaf': 10, 'min_samples_split': 12}\n",
            "Best Score: 0.8715924993003079\n"
          ]
        }
      ],
      "source": [
        "model_dtc2 = DecisionTreeClassifier()\n",
        "model_dtc2 = GridSearchCV(model_dtc2,param_grid_dtc1,cv=3)\n",
        "model_dtc2 = model_dtc2.fit(X_train_con,y_train)\n",
        "print('Best Params:',model_dtc2.best_params_)\n",
        "print('Best Score:',model_dtc2.best_score_)"
      ]
    },
    {
      "cell_type": "code",
      "execution_count": 118,
      "metadata": {
        "id": "zQB0neM-HoJ3"
      },
      "outputs": [],
      "source": [
        "y_train_m2 = model_dtc2.predict(X_train_con)\n",
        "y_test_m2 = model_dtc2.predict(X_test_con)"
      ]
    },
    {
      "cell_type": "code",
      "execution_count": 119,
      "metadata": {
        "colab": {
          "base_uri": "https://localhost:8080/"
        },
        "id": "zk36c7BTHoJ3",
        "outputId": "1e198e85-0212-4116-b395-3ea6dd09d1ae"
      },
      "outputs": [
        {
          "output_type": "stream",
          "name": "stdout",
          "text": [
            "--Train--\n",
            "[[ 1738    26  1075]\n",
            " [  125   401   141]\n",
            " [  714    15 13630]]\n",
            "Accuracy: 0.8826756227260005\n",
            "Recall for Medium: 0.6011994002998501\n",
            "--Test--\n",
            "[[ 552   11  354]\n",
            " [  37  122   53]\n",
            " [ 210    5 4611]]\n",
            "Accuracy: 0.887489504617968\n",
            "Recall for Medium: 0.5754716981132075\n"
          ]
        }
      ],
      "source": [
        "print('--Train--')\n",
        "evaluate_model(y_train,y_train_m2)\n",
        "print('--Test--')\n",
        "evaluate_model(y_test,y_test_m2)"
      ]
    },
    {
      "cell_type": "code",
      "execution_count": 119,
      "metadata": {
        "id": "wLi9rbVkHoJ4"
      },
      "outputs": [],
      "source": []
    },
    {
      "cell_type": "markdown",
      "metadata": {
        "id": "XfFMM1NLHoJ4"
      },
      "source": [
        "Model3 - Decision Tree Classifier with Another Hyperparameters"
      ]
    },
    {
      "cell_type": "code",
      "execution_count": 120,
      "metadata": {
        "id": "2kf9UP5FHoJ4"
      },
      "outputs": [],
      "source": [
        "param_grid_dtc2 = {\"criterion\": [\"gini\",\"entropy\"],\n",
        "                  \"max_depth\" : [10,15,20],\n",
        "                  \"max_features\" : [5,8,10],\n",
        "                  \"min_samples_leaf\" : [3,7,9],\n",
        "                  \"min_samples_split\":[10,15,20],\n",
        "                  \"max_leaf_nodes\":[4,8,12]}"
      ]
    },
    {
      "cell_type": "code",
      "execution_count": 121,
      "metadata": {
        "colab": {
          "base_uri": "https://localhost:8080/"
        },
        "id": "REGisorZHoJ4",
        "outputId": "89fff5f1-c91a-49ed-9c9c-29d925a53d55"
      },
      "outputs": [
        {
          "output_type": "stream",
          "name": "stdout",
          "text": [
            "Best Params: {'criterion': 'gini', 'max_depth': 20, 'max_features': 10, 'max_leaf_nodes': 12, 'min_samples_leaf': 3, 'min_samples_split': 15}\n",
            "Best Score: 0.8803806325216904\n"
          ]
        }
      ],
      "source": [
        "model_dtc3 = DecisionTreeClassifier()\n",
        "model_dtc3 = GridSearchCV(model_dtc3,param_grid_dtc2,cv=3)\n",
        "model_dtc3 = model_dtc3.fit(X_train_con,y_train)\n",
        "print('Best Params:',model_dtc3.best_params_)\n",
        "print('Best Score:',model_dtc3.best_score_)"
      ]
    },
    {
      "cell_type": "code",
      "execution_count": 122,
      "metadata": {
        "id": "RzbHTHE3HoJ4"
      },
      "outputs": [],
      "source": [
        "y_train_m3 = model_dtc3.predict(X_train_con)\n",
        "y_test_m3 = model_dtc3.predict(X_test_con)"
      ]
    },
    {
      "cell_type": "code",
      "execution_count": 123,
      "metadata": {
        "colab": {
          "base_uri": "https://localhost:8080/"
        },
        "id": "-hWhkB_GHoJ4",
        "outputId": "e2ffb8ad-39ac-4d41-cf6f-a10a7753e979"
      },
      "outputs": [
        {
          "output_type": "stream",
          "name": "stdout",
          "text": [
            "--Train--\n",
            "[[ 1681    69  1089]\n",
            " [  341   195   131]\n",
            " [  704    25 13630]]\n",
            "Accuracy: 0.8679541001959138\n",
            "Recall for Medium: 0.29235382308845576\n",
            "--Test--\n",
            "[[ 532   23  362]\n",
            " [ 109   58   45]\n",
            " [ 201   13 4612]]\n",
            "Accuracy: 0.873551637279597\n",
            "Recall for Medium: 0.27358490566037735\n"
          ]
        }
      ],
      "source": [
        "print('--Train--')\n",
        "evaluate_model(y_train,y_train_m3)\n",
        "print('--Test--')\n",
        "evaluate_model(y_test,y_test_m3)"
      ]
    },
    {
      "cell_type": "code",
      "execution_count": 123,
      "metadata": {
        "id": "UpWiBR3AHoJ4"
      },
      "outputs": [],
      "source": []
    },
    {
      "cell_type": "markdown",
      "metadata": {
        "id": "b7QqcZt-HoJ4"
      },
      "source": [
        "Model4 - Random Forest Classifier"
      ]
    },
    {
      "cell_type": "code",
      "execution_count": 124,
      "metadata": {
        "id": "YHvboaKnHoJ5"
      },
      "outputs": [],
      "source": [
        "from sklearn.ensemble import RandomForestClassifier\n",
        "model_rfc1 = RandomForestClassifier().fit(X_train_con,y_train)"
      ]
    },
    {
      "cell_type": "code",
      "execution_count": 125,
      "metadata": {
        "id": "gXfH_XveHoJ5"
      },
      "outputs": [],
      "source": [
        "y_train_m4 = model_rfc1.predict(X_train_con)\n",
        "y_test_m4 = model_rfc1.predict(X_test_con)"
      ]
    },
    {
      "cell_type": "code",
      "execution_count": 126,
      "metadata": {
        "colab": {
          "base_uri": "https://localhost:8080/"
        },
        "id": "KZLmYrTPHoJ5",
        "outputId": "b60de5a7-c227-400e-babd-b5467f7c6912"
      },
      "outputs": [
        {
          "output_type": "stream",
          "name": "stdout",
          "text": [
            "--Train--\n",
            "[[ 2656     0   183]\n",
            " [    0   656    11]\n",
            " [   79     1 14279]]\n",
            "Accuracy: 0.9846627483907081\n",
            "Recall for Medium: 0.9835082458770614\n",
            "--Test--\n",
            "[[ 562   14  341]\n",
            " [  18  154   40]\n",
            " [ 227    4 4595]]\n",
            "Accuracy: 0.891855583543241\n",
            "Recall for Medium: 0.7264150943396226\n"
          ]
        }
      ],
      "source": [
        "print('--Train--')\n",
        "evaluate_model(y_train,y_train_m4)\n",
        "print('--Test--')\n",
        "evaluate_model(y_test,y_test_m4)"
      ]
    },
    {
      "cell_type": "code",
      "execution_count": 126,
      "metadata": {
        "id": "6Uf7QiurHoJ5"
      },
      "outputs": [],
      "source": []
    },
    {
      "cell_type": "markdown",
      "metadata": {
        "id": "6QIvjd8mHoJ5"
      },
      "source": [
        "Model5 - Random Forest Classifier with Hyperparameters"
      ]
    },
    {
      "cell_type": "code",
      "execution_count": 127,
      "metadata": {
        "id": "OQ6daRXmHoJ5"
      },
      "outputs": [],
      "source": [
        "param_grid_rfc1 = {\"n_estimators\":[10,50,100],\n",
        "                 \"criterion\":[\"gini\",\"entropy\"],\n",
        "                 \"max_features\":[3,7,10],\n",
        "                 \"max_depth\":[5,9,15],\n",
        "                 \"max_leaf_nodes\":[10,15,25],\n",
        "                 \"min_samples_split\":[3,5,10]}"
      ]
    },
    {
      "cell_type": "code",
      "execution_count": 128,
      "metadata": {
        "colab": {
          "base_uri": "https://localhost:8080/"
        },
        "id": "3WvBYVB-HoJ5",
        "outputId": "13ae03c9-69cf-4dfe-f729-25bcc17d0267"
      },
      "outputs": [
        {
          "output_type": "stream",
          "name": "stdout",
          "text": [
            "Best Params: {'criterion': 'entropy', 'max_depth': 15, 'max_features': 10, 'max_leaf_nodes': 25, 'min_samples_split': 5, 'n_estimators': 100}\n",
            "Best Score: 0.8893366918555836\n"
          ]
        }
      ],
      "source": [
        "model_rfc2 = RandomForestClassifier()\n",
        "model_rfc2 = GridSearchCV(model_rfc2,param_grid_rfc1,cv=3).fit(X_train_con,y_train)\n",
        "print('Best Params:',model_rfc2.best_params_)\n",
        "print('Best Score:',model_rfc2.best_score_)"
      ]
    },
    {
      "cell_type": "code",
      "execution_count": 129,
      "metadata": {
        "id": "N5TRMdoKHoJ5"
      },
      "outputs": [],
      "source": [
        "y_train_m5 = model_rfc2.predict(X_train_con)\n",
        "y_test_m5 = model_rfc2.predict(X_test_con)"
      ]
    },
    {
      "cell_type": "code",
      "execution_count": 130,
      "metadata": {
        "colab": {
          "base_uri": "https://localhost:8080/"
        },
        "id": "q9SToBg8HoJ5",
        "outputId": "4bf4f658-fec3-4518-a877-eba7d1513bde"
      },
      "outputs": [
        {
          "output_type": "stream",
          "name": "stdout",
          "text": [
            "--Train--\n",
            "[[ 1785    49  1005]\n",
            " [   75   472   120]\n",
            " [  706    10 13643]]\n",
            "Accuracy: 0.8900083963056256\n",
            "Recall for Medium: 0.7076461769115442\n",
            "--Test--\n",
            "[[ 565   22  330]\n",
            " [  31  138   43]\n",
            " [ 199    4 4623]]\n",
            "Accuracy: 0.8943744752308984\n",
            "Recall for Medium: 0.6509433962264151\n"
          ]
        }
      ],
      "source": [
        "print('--Train--')\n",
        "evaluate_model(y_train,y_train_m5)\n",
        "print('--Test--')\n",
        "evaluate_model(y_test,y_test_m5)"
      ]
    },
    {
      "cell_type": "code",
      "execution_count": 130,
      "metadata": {
        "id": "1PBZl_N-HoJ5"
      },
      "outputs": [],
      "source": []
    },
    {
      "cell_type": "markdown",
      "metadata": {
        "id": "uiUiAYHvHoJ6"
      },
      "source": [
        "Model6 - Random Forest Classifier with another hyperparameters"
      ]
    },
    {
      "cell_type": "code",
      "execution_count": 131,
      "metadata": {
        "id": "ieeOeWAmHoJ6"
      },
      "outputs": [],
      "source": [
        "param_grid_rfc2 = {\"n_estimators\":[10,50,100],\n",
        "                 \"criterion\":[\"gini\",\"entropy\"],\n",
        "                 \"max_features\":[5,9,12,],\n",
        "                 \"max_depth\":[3,7,10],\n",
        "                 \"max_leaf_nodes\":[5,10,15],\n",
        "                 \"min_samples_split\":[4,6,8]}"
      ]
    },
    {
      "cell_type": "code",
      "execution_count": 132,
      "metadata": {
        "colab": {
          "base_uri": "https://localhost:8080/"
        },
        "id": "fYAlce14HoJ6",
        "outputId": "e6d797cb-e2ed-427d-c8a4-4106caaf9cc0"
      },
      "outputs": [
        {
          "output_type": "stream",
          "name": "stdout",
          "text": [
            "Best Params: {'criterion': 'entropy', 'max_depth': 10, 'max_features': 9, 'max_leaf_nodes': 15, 'min_samples_split': 4, 'n_estimators': 100}\n",
            "Best Score: 0.8881612090680101\n"
          ]
        }
      ],
      "source": [
        "model_rfc3 = RandomForestClassifier()\n",
        "model_rfc3 = GridSearchCV(model_rfc3,param_grid_rfc2,cv=3).fit(X_train_con,y_train)\n",
        "print('Best Params:',model_rfc3.best_params_)\n",
        "print('Best Score:',model_rfc3.best_score_)"
      ]
    },
    {
      "cell_type": "code",
      "execution_count": 133,
      "metadata": {
        "id": "nSobmYB1HoJ6"
      },
      "outputs": [],
      "source": [
        "y_train_m6 = model_rfc3.predict(X_train_con)\n",
        "y_test_m6 = model_rfc3.predict(X_test_con)"
      ]
    },
    {
      "cell_type": "code",
      "execution_count": 134,
      "metadata": {
        "colab": {
          "base_uri": "https://localhost:8080/"
        },
        "id": "Ogf-uLAbHoJ6",
        "outputId": "4fc180fa-da5a-45eb-f250-3fa11b0abbd8"
      },
      "outputs": [
        {
          "output_type": "stream",
          "name": "stdout",
          "text": [
            "--Train--\n",
            "[[ 1770    51  1018]\n",
            " [   78   467   122]\n",
            " [  704    12 13643]]\n",
            "Accuracy: 0.8888888888888888\n",
            "Recall for Medium: 0.7001499250374813\n",
            "--Test--\n",
            "[[ 565   21  331]\n",
            " [  26  141   45]\n",
            " [ 200    1 4625]]\n",
            "Accuracy: 0.8952141057934508\n",
            "Recall for Medium: 0.6650943396226415\n"
          ]
        }
      ],
      "source": [
        "print('--Train--')\n",
        "evaluate_model(y_train,y_train_m6)\n",
        "print('--Test--')\n",
        "evaluate_model(y_test,y_test_m6)"
      ]
    },
    {
      "cell_type": "code",
      "execution_count": 134,
      "metadata": {
        "id": "P5MpZMcfHoJ6"
      },
      "outputs": [],
      "source": []
    },
    {
      "cell_type": "markdown",
      "metadata": {
        "id": "VLBWDtC3HoJ6"
      },
      "source": [
        "Model7 - Logistic Regression"
      ]
    },
    {
      "cell_type": "code",
      "execution_count": 135,
      "metadata": {
        "id": "iKE2JSoOHoJ6"
      },
      "outputs": [],
      "source": [
        "from sklearn.linear_model import LogisticRegression\n",
        "model_log1 = LogisticRegression(multi_class='multinomial').fit(X_train_con,y_train)"
      ]
    },
    {
      "cell_type": "code",
      "execution_count": 136,
      "metadata": {
        "id": "GidDo1AxHoJ6"
      },
      "outputs": [],
      "source": [
        "y_train_m7 = model_log1.predict(X_train_con)\n",
        "y_test_m7 = model_log1.predict(X_test_con)"
      ]
    },
    {
      "cell_type": "code",
      "execution_count": 137,
      "metadata": {
        "colab": {
          "base_uri": "https://localhost:8080/"
        },
        "id": "koc8CRzuHoJ6",
        "outputId": "ccaddf40-2f53-49fb-f9f1-85bb9e8c8820"
      },
      "outputs": [
        {
          "output_type": "stream",
          "name": "stdout",
          "text": [
            "--Train--\n",
            "[[ 1264     4  1571]\n",
            " [   66   110   491]\n",
            " [  624    19 13716]]\n",
            "Accuracy: 0.8446683459277917\n",
            "Recall for Medium: 0.16491754122938532\n",
            "--Test--\n",
            "[[ 409    3  505]\n",
            " [  27   30  155]\n",
            " [ 169    4 4653]]\n",
            "Accuracy: 0.8550797649034425\n",
            "Recall for Medium: 0.14150943396226415\n"
          ]
        }
      ],
      "source": [
        "print('--Train--')\n",
        "evaluate_model(y_train,y_train_m7)\n",
        "print('--Test--')\n",
        "evaluate_model(y_test,y_test_m7)"
      ]
    },
    {
      "cell_type": "code",
      "execution_count": 137,
      "metadata": {
        "id": "5xegEpQRHoJ6"
      },
      "outputs": [],
      "source": []
    },
    {
      "cell_type": "markdown",
      "metadata": {
        "id": "VshNIMa2HoJ6"
      },
      "source": [
        "Model8 - Logistic Regression with Hyperparameters "
      ]
    },
    {
      "cell_type": "code",
      "execution_count": 138,
      "metadata": {
        "id": "OeyWJqtOHoJ6"
      },
      "outputs": [],
      "source": [
        "param_grid_logr = {'C':[0.01,0.1,1.0,10,100],\n",
        "                   'penalty':['l1','l2','elasticnet'],\n",
        "                   'solver':['newton-cg', 'lbfgs', 'sag', 'saga'],\n",
        "                   'tol':[0.0001,0.001,0.01,0.1,1]}"
      ]
    },
    {
      "cell_type": "code",
      "execution_count": 139,
      "metadata": {
        "colab": {
          "base_uri": "https://localhost:8080/"
        },
        "id": "qNANlOIVHoJ6",
        "outputId": "b7b31d34-5029-4b27-c931-96054bcf5e85"
      },
      "outputs": [
        {
          "output_type": "stream",
          "name": "stdout",
          "text": [
            "Best Params: {'C': 1.0, 'penalty': 'l2', 'solver': 'sag', 'tol': 0.1}\n",
            "Best Score: 0.844556395186118\n"
          ]
        }
      ],
      "source": [
        "model_log2 = LogisticRegression(multi_class='multinomial')\n",
        "model_log2 = GridSearchCV(model_log2,param_grid_logr,cv=3).fit(X_train_con,y_train)\n",
        "print('Best Params:',model_log2.best_params_)\n",
        "print('Best Score:',model_log2.best_score_)"
      ]
    },
    {
      "cell_type": "code",
      "execution_count": 140,
      "metadata": {
        "id": "EZMU146GHoJ6"
      },
      "outputs": [],
      "source": [
        "y_train_m8 = model_log2.predict(X_train_con)\n",
        "y_test_m8 = model_log2.predict(X_test_con)"
      ]
    },
    {
      "cell_type": "code",
      "execution_count": 141,
      "metadata": {
        "colab": {
          "base_uri": "https://localhost:8080/"
        },
        "id": "owNhyWAYHoJ6",
        "outputId": "49525653-50ca-4142-cee8-5aa2709117a8"
      },
      "outputs": [
        {
          "output_type": "stream",
          "name": "stdout",
          "text": [
            "--Train--\n",
            "[[ 1278     4  1557]\n",
            " [   93   101   473]\n",
            " [  623    17 13719]]\n",
            "Accuracy: 0.8451161488944864\n",
            "Recall for Medium: 0.15142428785607195\n",
            "--Test--\n",
            "[[ 411    2  504]\n",
            " [  32   27  153]\n",
            " [ 168    4 4654]]\n",
            "Accuracy: 0.8550797649034425\n",
            "Recall for Medium: 0.12735849056603774\n"
          ]
        }
      ],
      "source": [
        "print('--Train--')\n",
        "evaluate_model(y_train,y_train_m8)\n",
        "print('--Test--')\n",
        "evaluate_model(y_test,y_test_m8)"
      ]
    },
    {
      "cell_type": "code",
      "execution_count": 141,
      "metadata": {
        "id": "FKvEkAR7HoJ7"
      },
      "outputs": [],
      "source": []
    },
    {
      "cell_type": "markdown",
      "metadata": {
        "id": "Q2cIlmGXHoJ7"
      },
      "source": [
        "Model9 - KNeighbors Classifiers"
      ]
    },
    {
      "cell_type": "code",
      "execution_count": 142,
      "metadata": {
        "id": "e7COWmIaHoJ7"
      },
      "outputs": [],
      "source": [
        "from sklearn.neighbors import KNeighborsClassifier\n",
        "model_knn1 = KNeighborsClassifier().fit(X_train_con,y_train)"
      ]
    },
    {
      "cell_type": "code",
      "execution_count": 143,
      "metadata": {
        "id": "CWTyUVftHoJ7"
      },
      "outputs": [],
      "source": [
        "y_train_m9 = model_knn1.predict(X_train_con)\n",
        "y_test_m9 = model_knn1.predict(X_test_con)"
      ]
    },
    {
      "cell_type": "code",
      "execution_count": 144,
      "metadata": {
        "colab": {
          "base_uri": "https://localhost:8080/"
        },
        "id": "UoVparN9HoJ7",
        "outputId": "6efa6b4b-17fb-4c76-d006-c922d2f42a43"
      },
      "outputs": [
        {
          "output_type": "stream",
          "name": "stdout",
          "text": [
            "--Train--\n",
            "[[ 1903    13   923]\n",
            " [  254   248   165]\n",
            " [  575    14 13770]]\n",
            "Accuracy: 0.891183879093199\n",
            "Recall for Medium: 0.37181409295352325\n",
            "--Test--\n",
            "[[ 507   10  400]\n",
            " [  89   52   71]\n",
            " [ 250    8 4568]]\n",
            "Accuracy: 0.8609571788413098\n",
            "Recall for Medium: 0.24528301886792453\n"
          ]
        }
      ],
      "source": [
        "print('--Train--')\n",
        "evaluate_model(y_train,y_train_m9)\n",
        "print('--Test--')\n",
        "evaluate_model(y_test,y_test_m9)"
      ]
    },
    {
      "cell_type": "code",
      "execution_count": 144,
      "metadata": {
        "id": "Hfbsu2NVHoJ7"
      },
      "outputs": [],
      "source": []
    },
    {
      "cell_type": "markdown",
      "metadata": {
        "id": "FY6JfJsDHoJ7"
      },
      "source": [
        "Model 10  - KNearest Neighbors with hyperparameters"
      ]
    },
    {
      "cell_type": "code",
      "execution_count": 145,
      "metadata": {
        "id": "TXWRgf3kHoJ7"
      },
      "outputs": [],
      "source": [
        "n_neighbors = list(range(1,15))\n",
        "p=[1,2]\n",
        "#Convert to dictionary\n",
        "param_grid_knn = dict(n_neighbors=n_neighbors, p=p)"
      ]
    },
    {
      "cell_type": "code",
      "execution_count": 146,
      "metadata": {
        "colab": {
          "base_uri": "https://localhost:8080/"
        },
        "id": "RBXi3rRLHoJ7",
        "outputId": "15353487-57ec-4b63-bac9-9062ce522ecf"
      },
      "outputs": [
        {
          "output_type": "stream",
          "name": "stdout",
          "text": [
            "Best Params: {'n_neighbors': 9, 'p': 1}\n",
            "Best Score: 0.8535125762574741\n"
          ]
        }
      ],
      "source": [
        "model_knn2 = KNeighborsClassifier(n_neighbors)\n",
        "model_knn2 = GridSearchCV(model_knn2,param_grid_knn,cv=2).fit(X_train_con,y_train)\n",
        "print('Best Params:',model_knn2.best_params_)\n",
        "print('Best Score:',model_knn2.best_score_)"
      ]
    },
    {
      "cell_type": "code",
      "execution_count": 147,
      "metadata": {
        "id": "iu3oUbVBHoJ7"
      },
      "outputs": [],
      "source": [
        "y_train_m10 = model_knn2.predict(X_train_con)\n",
        "y_test_m10 = model_knn2.predict(X_test_con)"
      ]
    },
    {
      "cell_type": "code",
      "execution_count": 148,
      "metadata": {
        "colab": {
          "base_uri": "https://localhost:8080/"
        },
        "id": "FD4QY_NxHoJ7",
        "outputId": "ca85b485-7676-4c1b-a130-1f4d66813114"
      },
      "outputs": [
        {
          "output_type": "stream",
          "name": "stdout",
          "text": [
            "--Train--\n",
            "[[ 1709     3  1127]\n",
            " [  284   159   224]\n",
            " [  572     2 13785]]\n",
            "Accuracy: 0.876182479708928\n",
            "Recall for Medium: 0.2383808095952024\n",
            "--Test--\n",
            "[[ 485    3  429]\n",
            " [  98   35   79]\n",
            " [ 203    2 4621]]\n",
            "Accuracy: 0.8633081444164568\n",
            "Recall for Medium: 0.1650943396226415\n"
          ]
        }
      ],
      "source": [
        "print('--Train--')\n",
        "evaluate_model(y_train,y_train_m10)\n",
        "print('--Test--')\n",
        "evaluate_model(y_test,y_test_m10)"
      ]
    },
    {
      "cell_type": "code",
      "execution_count": 148,
      "metadata": {
        "id": "CvfnDH8nHoJ7"
      },
      "outputs": [],
      "source": []
    },
    {
      "cell_type": "markdown",
      "metadata": {
        "id": "MJum3JZ8HoJ7"
      },
      "source": [
        "Model 11 - XGB Classifier"
      ]
    },
    {
      "cell_type": "code",
      "execution_count": 149,
      "metadata": {
        "id": "tYgO67BRHoJ8"
      },
      "outputs": [],
      "source": [
        "from xgboost import XGBClassifier\n",
        "model_xgb1 = XGBClassifier().fit(X_train_con,y_train)"
      ]
    },
    {
      "cell_type": "code",
      "execution_count": 150,
      "metadata": {
        "id": "bZUzN8lzHoJ8"
      },
      "outputs": [],
      "source": [
        "y_train_m11 = model_xgb1.predict(X_train_con)\n",
        "y_test_m11 = model_xgb1.predict(X_test_con)"
      ]
    },
    {
      "cell_type": "code",
      "execution_count": 151,
      "metadata": {
        "colab": {
          "base_uri": "https://localhost:8080/"
        },
        "id": "iCirEbQDHoJ8",
        "outputId": "7f795916-05b5-40e3-8fdd-91cecb24d207"
      },
      "outputs": [
        {
          "output_type": "stream",
          "name": "stdout",
          "text": [
            "--Train--\n",
            "[[ 1651    22  1166]\n",
            " [   52   520    95]\n",
            " [  583    15 13761]]\n",
            "Accuracy: 0.8917996081724041\n",
            "Recall for Medium: 0.7796101949025487\n",
            "--Test--\n",
            "[[ 519   10  388]\n",
            " [  18  156   38]\n",
            " [ 173    4 4649]]\n",
            "Accuracy: 0.8940386230058774\n",
            "Recall for Medium: 0.7358490566037735\n"
          ]
        }
      ],
      "source": [
        "print('--Train--')\n",
        "evaluate_model(y_train,y_train_m11)\n",
        "print('--Test--')\n",
        "evaluate_model(y_test,y_test_m11)"
      ]
    },
    {
      "cell_type": "markdown",
      "metadata": {
        "id": "LiRjVkWxHoJ8"
      },
      "source": [
        "Upsampling with all models"
      ]
    },
    {
      "cell_type": "code",
      "execution_count": 152,
      "metadata": {
        "id": "k3TdZ8r8HoJ8"
      },
      "outputs": [],
      "source": [
        "from imblearn.over_sampling import SMOTE\n",
        "smote = SMOTE(random_state=100)\n",
        "X_train_sm, y_train_sm = smote.fit_resample(X_train_con, y_train)"
      ]
    },
    {
      "cell_type": "code",
      "execution_count": 153,
      "metadata": {
        "id": "IO8tX1teHoJ8"
      },
      "outputs": [],
      "source": [
        "dtc_sm = DecisionTreeClassifier().fit(X_train_sm,y_train_sm)\n",
        "\n",
        "rfc_sm = RandomForestClassifier().fit(X_train_sm,y_train_sm)\n",
        "\n",
        "log_sm = LogisticRegression(multi_class='multinomial').fit(X_train_sm,y_train_sm)\n",
        "\n",
        "knn_sm = KNeighborsClassifier().fit(X_train_sm,y_train_sm)\n",
        "\n",
        "xgb_sm = XGBClassifier().fit(X_train_sm,y_train_sm)"
      ]
    },
    {
      "cell_type": "code",
      "execution_count": 154,
      "metadata": {
        "id": "9EhfmrveHoJ8"
      },
      "outputs": [],
      "source": [
        "y_train_dtc_sm = dtc_sm.predict(X_train_sm)\n",
        "\n",
        "y_train_rfc_sm = rfc_sm.predict(X_train_sm)\n",
        "\n",
        "y_train_log_sm = log_sm.predict(X_train_sm)\n",
        "\n",
        "y_train_knn_sm = knn_sm.predict(X_train_sm)\n",
        "\n",
        "y_train_xgb_sm = xgb_sm.predict(X_train_sm)"
      ]
    },
    {
      "cell_type": "code",
      "execution_count": 155,
      "metadata": {
        "id": "DxPPXgDmHoJ8"
      },
      "outputs": [],
      "source": [
        "y_test_dtc_sm = dtc_sm.predict(X_test_con)\n",
        "\n",
        "y_test_rfc_sm = rfc_sm.predict(X_test_con)\n",
        "\n",
        "y_test_knn_sm = knn_sm.predict(X_test_con)\n",
        "\n",
        "y_test_log_sm = log_sm.predict(X_test_con)\n",
        "\n",
        "y_test_xgb_sm = xgb_sm.predict(X_test_con)"
      ]
    },
    {
      "cell_type": "code",
      "execution_count": 156,
      "metadata": {
        "id": "xfj7_CRKHoJ8"
      },
      "outputs": [],
      "source": [
        "def error_metrics(act,pred):\n",
        "    print('Accuracy:',accuracy_score(act,pred))\n",
        "    print('Recall:',recall_score(act,pred,average='weighted',labels=[1]))"
      ]
    },
    {
      "cell_type": "code",
      "execution_count": 157,
      "metadata": {
        "id": "ZEQalTMqHoJ8",
        "colab": {
          "base_uri": "https://localhost:8080/"
        },
        "outputId": "1a44fe2d-5d22-4171-88e7-5106a07f98d7"
      },
      "outputs": [
        {
          "output_type": "stream",
          "name": "stdout",
          "text": [
            "--Decision Tree --\n",
            "Accuracy: 0.9930589409661769\n",
            "Recall: 0.9997214290688766\n",
            "--Random Forest Train--\n",
            "Accuracy: 0.9930589409661769\n",
            "Recall: 0.9994428581377534\n",
            "--Logistic Regression Train--\n",
            "Accuracy: 0.784061099890893\n",
            "Recall: 0.8378020753534369\n",
            "--KNN Train--\n",
            "Accuracy: 0.9473036655291687\n",
            "Recall: 0.9983982171460408\n",
            "--Gradient Boost Train--\n",
            "Accuracy: 0.9137358683288066\n",
            "Recall: 0.9791071801657497\n"
          ]
        }
      ],
      "source": [
        "print('--Decision Tree --')\n",
        "error_metrics(y_train_sm,y_train_dtc_sm),\n",
        "print('--Random Forest Train--')\n",
        "error_metrics(y_train_sm,y_train_rfc_sm)\n",
        "print('--Logistic Regression Train--')\n",
        "error_metrics(y_train_sm,y_train_log_sm)\n",
        "print('--KNN Train--')\n",
        "error_metrics(y_train_sm,y_train_knn_sm)\n",
        "print('--Gradient Boost Train--')\n",
        "error_metrics(y_train_sm,y_train_xgb_sm)"
      ]
    },
    {
      "cell_type": "code",
      "execution_count": 158,
      "metadata": {
        "id": "-PkOUwdyHoJ8",
        "colab": {
          "base_uri": "https://localhost:8080/"
        },
        "outputId": "c092d9a4-9539-43e1-ffe2-b10a7708054c"
      },
      "outputs": [
        {
          "output_type": "stream",
          "name": "stdout",
          "text": [
            "--Decision Tree Test--\n",
            "Accuracy: 0.853904282115869\n",
            "Recall: 0.8066037735849056\n",
            "--Random Forest Test--\n",
            "Accuracy: 0.8879932829554996\n",
            "Recall: 0.8490566037735849\n",
            "--Logistic Regression Test--\n",
            "Accuracy: 0.6690176322418137\n",
            "Recall: 0.7877358490566038\n",
            "--KNN Test--\n",
            "Accuracy: 0.8104114189756507\n",
            "Recall: 0.4669811320754717\n",
            "--Gradient Boost Test--\n",
            "Accuracy: 0.836943744752309\n",
            "Recall: 0.8773584905660378\n"
          ]
        }
      ],
      "source": [
        "print('--Decision Tree Test--')\n",
        "error_metrics(y_test,y_test_dtc_sm)\n",
        "print('--Random Forest Test--')\n",
        "error_metrics(y_test,y_test_rfc_sm)\n",
        "print('--Logistic Regression Test--')\n",
        "error_metrics(y_test,y_test_log_sm)\n",
        "print('--KNN Test--')\n",
        "error_metrics(y_test,y_test_knn_sm)\n",
        "print('--Gradient Boost Test--')\n",
        "error_metrics(y_test,y_test_xgb_sm)"
      ]
    },
    {
      "cell_type": "code",
      "execution_count": 158,
      "metadata": {
        "id": "DoZRT_7iHoJ8"
      },
      "outputs": [],
      "source": []
    },
    {
      "cell_type": "code",
      "execution_count": 158,
      "metadata": {
        "id": "qRPa9tGVHoJ8"
      },
      "outputs": [],
      "source": []
    },
    {
      "cell_type": "code",
      "execution_count": 159,
      "metadata": {
        "id": "YJlCGQhUUgVC"
      },
      "outputs": [],
      "source": [
        "Models = ['model_dtc1','model_dtc2','model_dtc3','model_rfc1','model_rfc2','model_rfc3', \n",
        "          'model_log1','model_log2','model_knn1','model_knn2','model_xgb1',\n",
        "          'dtc_sm','rfc_sm','knn_sm','log_sm','xgb_sm']"
      ]
    },
    {
      "cell_type": "code",
      "execution_count": 159,
      "metadata": {
        "id": "aWYVm592Vgq5"
      },
      "outputs": [],
      "source": []
    },
    {
      "cell_type": "markdown",
      "metadata": {
        "id": "wll3mMW7HoJ9"
      },
      "source": [
        "# Test Data PreProcessing"
      ]
    },
    {
      "cell_type": "code",
      "execution_count": 160,
      "metadata": {
        "id": "eMycUmSpHoJ9"
      },
      "outputs": [],
      "source": [
        "dt1 = pd.read_csv('./Test.csv')\n",
        "dt2 = pd.read_csv('./Customerdata_Test.csv')\n",
        "dt3 = pd.read_csv('./transactionsdata_Test.csv')\n",
        "dt4 = pd.read_csv('./Emaildata_Test.csv')"
      ]
    },
    {
      "cell_type": "code",
      "execution_count": 161,
      "metadata": {
        "id": "7WVfePreHoJ9",
        "colab": {
          "base_uri": "https://localhost:8080/"
        },
        "outputId": "d6586d52-a363-4e00-cbd8-802123797b08"
      },
      "outputs": [
        {
          "output_type": "execute_result",
          "data": {
            "text/plain": [
              "((5955, 1), (5955, 7), (26768, 4), (129074, 6))"
            ]
          },
          "metadata": {},
          "execution_count": 161
        }
      ],
      "source": [
        "dt1.shape , dt2.shape , dt3.shape , dt4.shape"
      ]
    },
    {
      "cell_type": "code",
      "execution_count": 162,
      "metadata": {
        "id": "r8WEHqq4HoJ9",
        "colab": {
          "base_uri": "https://localhost:8080/"
        },
        "outputId": "cde703c7-8fa8-41e9-874e-a923d50186cb"
      },
      "outputs": [
        {
          "output_type": "stream",
          "name": "stdout",
          "text": [
            "Index(['CustomerID'], dtype='object')\n",
            "Index(['CustomerID', 'City', 'DateOfRegistration', 'OnlineCommunication',\n",
            "       'AutomaticRefill', 'DoorstepDelivery', 'PreferredDeliveryDay'],\n",
            "      dtype='object')\n",
            "Index(['CustomerID', 'DateOfOrder', 'timestamp', 'OrderQuantity'], dtype='object')\n",
            "Index(['CustomerID', 'DateOfemail', 'EmailType', 'timestamp', 'MailOpened',\n",
            "       'MailClicked'],\n",
            "      dtype='object')\n"
          ]
        }
      ],
      "source": [
        "print(dt1.columns)\n",
        "print(dt2.columns)\n",
        "print(dt3.columns)\n",
        "print(dt4.columns)"
      ]
    },
    {
      "cell_type": "code",
      "execution_count": 163,
      "metadata": {
        "id": "1gobQNqLHoJ9",
        "colab": {
          "base_uri": "https://localhost:8080/"
        },
        "outputId": "a38c3b0b-f2e5-474a-b119-4e34dd5713aa"
      },
      "outputs": [
        {
          "output_type": "execute_result",
          "data": {
            "text/plain": [
              "CustomerID    5955\n",
              "dtype: int64"
            ]
          },
          "metadata": {},
          "execution_count": 163
        }
      ],
      "source": [
        "dt1.nunique()"
      ]
    },
    {
      "cell_type": "code",
      "execution_count": 164,
      "metadata": {
        "id": "2Xe-12HCHoJ9",
        "colab": {
          "base_uri": "https://localhost:8080/"
        },
        "outputId": "e73d9e0f-18f0-412d-8242-3d69b1240d41"
      },
      "outputs": [
        {
          "output_type": "execute_result",
          "data": {
            "text/plain": [
              "CustomerID              5955\n",
              "City                       4\n",
              "DateOfRegistration      1631\n",
              "OnlineCommunication        2\n",
              "AutomaticRefill            2\n",
              "DoorstepDelivery           2\n",
              "PreferredDeliveryDay       7\n",
              "dtype: int64"
            ]
          },
          "metadata": {},
          "execution_count": 164
        }
      ],
      "source": [
        "dt2.nunique()"
      ]
    },
    {
      "cell_type": "code",
      "execution_count": 165,
      "metadata": {
        "id": "uD7EUxPUHoJ9",
        "colab": {
          "base_uri": "https://localhost:8080/"
        },
        "outputId": "e6f2bbd8-3bb9-4e6f-bac3-dd10e4c5796a"
      },
      "outputs": [
        {
          "output_type": "execute_result",
          "data": {
            "text/plain": [
              "CustomerID        5955\n",
              "DateOfOrder       2771\n",
              "timestamp        15326\n",
              "OrderQuantity      372\n",
              "dtype: int64"
            ]
          },
          "metadata": {},
          "execution_count": 165
        }
      ],
      "source": [
        "dt3.nunique()"
      ]
    },
    {
      "cell_type": "code",
      "execution_count": 166,
      "metadata": {
        "id": "8gh5AEkfHoJ9",
        "colab": {
          "base_uri": "https://localhost:8080/"
        },
        "outputId": "71d30f6a-e599-4ae7-be6d-27263dba8388"
      },
      "outputs": [
        {
          "output_type": "execute_result",
          "data": {
            "text/plain": [
              "CustomerID      5955\n",
              "DateOfemail     3149\n",
              "EmailType          2\n",
              "timestamp      14366\n",
              "MailOpened         2\n",
              "MailClicked        3\n",
              "dtype: int64"
            ]
          },
          "metadata": {},
          "execution_count": 166
        }
      ],
      "source": [
        "dt4.nunique()"
      ]
    },
    {
      "cell_type": "code",
      "execution_count": 167,
      "metadata": {
        "id": "BeJKUTveHoJ9"
      },
      "outputs": [],
      "source": [
        "dtest1 = pd.merge(dt1,dt2,on=['CustomerID'],how = 'inner')"
      ]
    },
    {
      "cell_type": "code",
      "execution_count": 168,
      "metadata": {
        "id": "o5vdDnxbHoJ9",
        "colab": {
          "base_uri": "https://localhost:8080/"
        },
        "outputId": "f981084e-c865-4ec4-bcc6-efbfcdfb06cb"
      },
      "outputs": [
        {
          "output_type": "execute_result",
          "data": {
            "text/plain": [
              "(5955, 7)"
            ]
          },
          "metadata": {},
          "execution_count": 168
        }
      ],
      "source": [
        "dtest1.shape"
      ]
    },
    {
      "cell_type": "code",
      "execution_count": 169,
      "metadata": {
        "id": "Ij1pN2IDHoJ9",
        "colab": {
          "base_uri": "https://localhost:8080/"
        },
        "outputId": "0f0c842c-08eb-49b4-9b54-97df3df011d9"
      },
      "outputs": [
        {
          "output_type": "execute_result",
          "data": {
            "text/plain": [
              "CustomerID              5955\n",
              "City                       4\n",
              "DateOfRegistration      1631\n",
              "OnlineCommunication        2\n",
              "AutomaticRefill            2\n",
              "DoorstepDelivery           2\n",
              "PreferredDeliveryDay       7\n",
              "dtype: int64"
            ]
          },
          "metadata": {},
          "execution_count": 169
        }
      ],
      "source": [
        "dtest1.nunique()"
      ]
    },
    {
      "cell_type": "code",
      "execution_count": 170,
      "metadata": {
        "id": "TS8OPwraHoJ9",
        "colab": {
          "base_uri": "https://localhost:8080/",
          "height": 206
        },
        "outputId": "57c39ca8-2443-43b1-f247-32acacc0b627"
      },
      "outputs": [
        {
          "output_type": "execute_result",
          "data": {
            "text/plain": [
              "  CustomerID   City DateOfRegistration  OnlineCommunication  AutomaticRefill  \\\n",
              "0     C12121  CITY1          12/4/2017                    1                0   \n",
              "1     C12132  CITY3         10/20/2013                    1                0   \n",
              "2     C12134  CITY3          9/18/2013                    1                0   \n",
              "3     C12135  CITY3          11/1/2017                    1                0   \n",
              "4     C12136  CITY2          9/28/2013                    1                0   \n",
              "\n",
              "   DoorstepDelivery PreferredDeliveryDay  \n",
              "0                 0               Friday  \n",
              "1                 0              Tuesday  \n",
              "2                 0               Monday  \n",
              "3                 1            Wednesday  \n",
              "4                 0             Thursday  "
            ],
            "text/html": [
              "\n",
              "  <div id=\"df-5479a124-f2e4-4122-8430-fe6c0653c0e1\">\n",
              "    <div class=\"colab-df-container\">\n",
              "      <div>\n",
              "<style scoped>\n",
              "    .dataframe tbody tr th:only-of-type {\n",
              "        vertical-align: middle;\n",
              "    }\n",
              "\n",
              "    .dataframe tbody tr th {\n",
              "        vertical-align: top;\n",
              "    }\n",
              "\n",
              "    .dataframe thead th {\n",
              "        text-align: right;\n",
              "    }\n",
              "</style>\n",
              "<table border=\"1\" class=\"dataframe\">\n",
              "  <thead>\n",
              "    <tr style=\"text-align: right;\">\n",
              "      <th></th>\n",
              "      <th>CustomerID</th>\n",
              "      <th>City</th>\n",
              "      <th>DateOfRegistration</th>\n",
              "      <th>OnlineCommunication</th>\n",
              "      <th>AutomaticRefill</th>\n",
              "      <th>DoorstepDelivery</th>\n",
              "      <th>PreferredDeliveryDay</th>\n",
              "    </tr>\n",
              "  </thead>\n",
              "  <tbody>\n",
              "    <tr>\n",
              "      <th>0</th>\n",
              "      <td>C12121</td>\n",
              "      <td>CITY1</td>\n",
              "      <td>12/4/2017</td>\n",
              "      <td>1</td>\n",
              "      <td>0</td>\n",
              "      <td>0</td>\n",
              "      <td>Friday</td>\n",
              "    </tr>\n",
              "    <tr>\n",
              "      <th>1</th>\n",
              "      <td>C12132</td>\n",
              "      <td>CITY3</td>\n",
              "      <td>10/20/2013</td>\n",
              "      <td>1</td>\n",
              "      <td>0</td>\n",
              "      <td>0</td>\n",
              "      <td>Tuesday</td>\n",
              "    </tr>\n",
              "    <tr>\n",
              "      <th>2</th>\n",
              "      <td>C12134</td>\n",
              "      <td>CITY3</td>\n",
              "      <td>9/18/2013</td>\n",
              "      <td>1</td>\n",
              "      <td>0</td>\n",
              "      <td>0</td>\n",
              "      <td>Monday</td>\n",
              "    </tr>\n",
              "    <tr>\n",
              "      <th>3</th>\n",
              "      <td>C12135</td>\n",
              "      <td>CITY3</td>\n",
              "      <td>11/1/2017</td>\n",
              "      <td>1</td>\n",
              "      <td>0</td>\n",
              "      <td>1</td>\n",
              "      <td>Wednesday</td>\n",
              "    </tr>\n",
              "    <tr>\n",
              "      <th>4</th>\n",
              "      <td>C12136</td>\n",
              "      <td>CITY2</td>\n",
              "      <td>9/28/2013</td>\n",
              "      <td>1</td>\n",
              "      <td>0</td>\n",
              "      <td>0</td>\n",
              "      <td>Thursday</td>\n",
              "    </tr>\n",
              "  </tbody>\n",
              "</table>\n",
              "</div>\n",
              "      <button class=\"colab-df-convert\" onclick=\"convertToInteractive('df-5479a124-f2e4-4122-8430-fe6c0653c0e1')\"\n",
              "              title=\"Convert this dataframe to an interactive table.\"\n",
              "              style=\"display:none;\">\n",
              "        \n",
              "  <svg xmlns=\"http://www.w3.org/2000/svg\" height=\"24px\"viewBox=\"0 0 24 24\"\n",
              "       width=\"24px\">\n",
              "    <path d=\"M0 0h24v24H0V0z\" fill=\"none\"/>\n",
              "    <path d=\"M18.56 5.44l.94 2.06.94-2.06 2.06-.94-2.06-.94-.94-2.06-.94 2.06-2.06.94zm-11 1L8.5 8.5l.94-2.06 2.06-.94-2.06-.94L8.5 2.5l-.94 2.06-2.06.94zm10 10l.94 2.06.94-2.06 2.06-.94-2.06-.94-.94-2.06-.94 2.06-2.06.94z\"/><path d=\"M17.41 7.96l-1.37-1.37c-.4-.4-.92-.59-1.43-.59-.52 0-1.04.2-1.43.59L10.3 9.45l-7.72 7.72c-.78.78-.78 2.05 0 2.83L4 21.41c.39.39.9.59 1.41.59.51 0 1.02-.2 1.41-.59l7.78-7.78 2.81-2.81c.8-.78.8-2.07 0-2.86zM5.41 20L4 18.59l7.72-7.72 1.47 1.35L5.41 20z\"/>\n",
              "  </svg>\n",
              "      </button>\n",
              "      \n",
              "  <style>\n",
              "    .colab-df-container {\n",
              "      display:flex;\n",
              "      flex-wrap:wrap;\n",
              "      gap: 12px;\n",
              "    }\n",
              "\n",
              "    .colab-df-convert {\n",
              "      background-color: #E8F0FE;\n",
              "      border: none;\n",
              "      border-radius: 50%;\n",
              "      cursor: pointer;\n",
              "      display: none;\n",
              "      fill: #1967D2;\n",
              "      height: 32px;\n",
              "      padding: 0 0 0 0;\n",
              "      width: 32px;\n",
              "    }\n",
              "\n",
              "    .colab-df-convert:hover {\n",
              "      background-color: #E2EBFA;\n",
              "      box-shadow: 0px 1px 2px rgba(60, 64, 67, 0.3), 0px 1px 3px 1px rgba(60, 64, 67, 0.15);\n",
              "      fill: #174EA6;\n",
              "    }\n",
              "\n",
              "    [theme=dark] .colab-df-convert {\n",
              "      background-color: #3B4455;\n",
              "      fill: #D2E3FC;\n",
              "    }\n",
              "\n",
              "    [theme=dark] .colab-df-convert:hover {\n",
              "      background-color: #434B5C;\n",
              "      box-shadow: 0px 1px 3px 1px rgba(0, 0, 0, 0.15);\n",
              "      filter: drop-shadow(0px 1px 2px rgba(0, 0, 0, 0.3));\n",
              "      fill: #FFFFFF;\n",
              "    }\n",
              "  </style>\n",
              "\n",
              "      <script>\n",
              "        const buttonEl =\n",
              "          document.querySelector('#df-5479a124-f2e4-4122-8430-fe6c0653c0e1 button.colab-df-convert');\n",
              "        buttonEl.style.display =\n",
              "          google.colab.kernel.accessAllowed ? 'block' : 'none';\n",
              "\n",
              "        async function convertToInteractive(key) {\n",
              "          const element = document.querySelector('#df-5479a124-f2e4-4122-8430-fe6c0653c0e1');\n",
              "          const dataTable =\n",
              "            await google.colab.kernel.invokeFunction('convertToInteractive',\n",
              "                                                     [key], {});\n",
              "          if (!dataTable) return;\n",
              "\n",
              "          const docLinkHtml = 'Like what you see? Visit the ' +\n",
              "            '<a target=\"_blank\" href=https://colab.research.google.com/notebooks/data_table.ipynb>data table notebook</a>'\n",
              "            + ' to learn more about interactive tables.';\n",
              "          element.innerHTML = '';\n",
              "          dataTable['output_type'] = 'display_data';\n",
              "          await google.colab.output.renderOutput(dataTable, element);\n",
              "          const docLink = document.createElement('div');\n",
              "          docLink.innerHTML = docLinkHtml;\n",
              "          element.appendChild(docLink);\n",
              "        }\n",
              "      </script>\n",
              "    </div>\n",
              "  </div>\n",
              "  "
            ]
          },
          "metadata": {},
          "execution_count": 170
        }
      ],
      "source": [
        "dtest1.head()"
      ]
    },
    {
      "cell_type": "code",
      "execution_count": 171,
      "metadata": {
        "id": "cRM9lxQSHoJ9",
        "colab": {
          "base_uri": "https://localhost:8080/"
        },
        "outputId": "7a2f3329-5561-4544-b06c-b3179f75c625"
      },
      "outputs": [
        {
          "output_type": "execute_result",
          "data": {
            "text/plain": [
              "CustomerID              0\n",
              "City                    0\n",
              "DateOfRegistration      0\n",
              "OnlineCommunication     0\n",
              "AutomaticRefill         0\n",
              "DoorstepDelivery        0\n",
              "PreferredDeliveryDay    0\n",
              "dtype: int64"
            ]
          },
          "metadata": {},
          "execution_count": 171
        }
      ],
      "source": [
        "dtest1.isna().sum()"
      ]
    },
    {
      "cell_type": "code",
      "execution_count": 172,
      "metadata": {
        "id": "7kPCb9FqHoJ-",
        "colab": {
          "base_uri": "https://localhost:8080/",
          "height": 206
        },
        "outputId": "148444f8-9647-45e5-a8b6-8da8122365e1"
      },
      "outputs": [
        {
          "output_type": "execute_result",
          "data": {
            "text/plain": [
              "  CustomerID   City DateOfRegistration  OnlineCommunication  AutomaticRefill  \\\n",
              "0     C12121  CITY1          12/4/2017                    1                0   \n",
              "1     C12132  CITY3         10/20/2013                    1                0   \n",
              "2     C12134  CITY3          9/18/2013                    1                0   \n",
              "3     C12135  CITY3          11/1/2017                    1                0   \n",
              "4     C12136  CITY2          9/28/2013                    1                0   \n",
              "\n",
              "   DoorstepDelivery PreferredDeliveryDay  \n",
              "0                 0               Friday  \n",
              "1                 0              Tuesday  \n",
              "2                 0               Monday  \n",
              "3                 1            Wednesday  \n",
              "4                 0             Thursday  "
            ],
            "text/html": [
              "\n",
              "  <div id=\"df-b1890948-553e-45b9-bc5a-5fc2977d0132\">\n",
              "    <div class=\"colab-df-container\">\n",
              "      <div>\n",
              "<style scoped>\n",
              "    .dataframe tbody tr th:only-of-type {\n",
              "        vertical-align: middle;\n",
              "    }\n",
              "\n",
              "    .dataframe tbody tr th {\n",
              "        vertical-align: top;\n",
              "    }\n",
              "\n",
              "    .dataframe thead th {\n",
              "        text-align: right;\n",
              "    }\n",
              "</style>\n",
              "<table border=\"1\" class=\"dataframe\">\n",
              "  <thead>\n",
              "    <tr style=\"text-align: right;\">\n",
              "      <th></th>\n",
              "      <th>CustomerID</th>\n",
              "      <th>City</th>\n",
              "      <th>DateOfRegistration</th>\n",
              "      <th>OnlineCommunication</th>\n",
              "      <th>AutomaticRefill</th>\n",
              "      <th>DoorstepDelivery</th>\n",
              "      <th>PreferredDeliveryDay</th>\n",
              "    </tr>\n",
              "  </thead>\n",
              "  <tbody>\n",
              "    <tr>\n",
              "      <th>0</th>\n",
              "      <td>C12121</td>\n",
              "      <td>CITY1</td>\n",
              "      <td>12/4/2017</td>\n",
              "      <td>1</td>\n",
              "      <td>0</td>\n",
              "      <td>0</td>\n",
              "      <td>Friday</td>\n",
              "    </tr>\n",
              "    <tr>\n",
              "      <th>1</th>\n",
              "      <td>C12132</td>\n",
              "      <td>CITY3</td>\n",
              "      <td>10/20/2013</td>\n",
              "      <td>1</td>\n",
              "      <td>0</td>\n",
              "      <td>0</td>\n",
              "      <td>Tuesday</td>\n",
              "    </tr>\n",
              "    <tr>\n",
              "      <th>2</th>\n",
              "      <td>C12134</td>\n",
              "      <td>CITY3</td>\n",
              "      <td>9/18/2013</td>\n",
              "      <td>1</td>\n",
              "      <td>0</td>\n",
              "      <td>0</td>\n",
              "      <td>Monday</td>\n",
              "    </tr>\n",
              "    <tr>\n",
              "      <th>3</th>\n",
              "      <td>C12135</td>\n",
              "      <td>CITY3</td>\n",
              "      <td>11/1/2017</td>\n",
              "      <td>1</td>\n",
              "      <td>0</td>\n",
              "      <td>1</td>\n",
              "      <td>Wednesday</td>\n",
              "    </tr>\n",
              "    <tr>\n",
              "      <th>4</th>\n",
              "      <td>C12136</td>\n",
              "      <td>CITY2</td>\n",
              "      <td>9/28/2013</td>\n",
              "      <td>1</td>\n",
              "      <td>0</td>\n",
              "      <td>0</td>\n",
              "      <td>Thursday</td>\n",
              "    </tr>\n",
              "  </tbody>\n",
              "</table>\n",
              "</div>\n",
              "      <button class=\"colab-df-convert\" onclick=\"convertToInteractive('df-b1890948-553e-45b9-bc5a-5fc2977d0132')\"\n",
              "              title=\"Convert this dataframe to an interactive table.\"\n",
              "              style=\"display:none;\">\n",
              "        \n",
              "  <svg xmlns=\"http://www.w3.org/2000/svg\" height=\"24px\"viewBox=\"0 0 24 24\"\n",
              "       width=\"24px\">\n",
              "    <path d=\"M0 0h24v24H0V0z\" fill=\"none\"/>\n",
              "    <path d=\"M18.56 5.44l.94 2.06.94-2.06 2.06-.94-2.06-.94-.94-2.06-.94 2.06-2.06.94zm-11 1L8.5 8.5l.94-2.06 2.06-.94-2.06-.94L8.5 2.5l-.94 2.06-2.06.94zm10 10l.94 2.06.94-2.06 2.06-.94-2.06-.94-.94-2.06-.94 2.06-2.06.94z\"/><path d=\"M17.41 7.96l-1.37-1.37c-.4-.4-.92-.59-1.43-.59-.52 0-1.04.2-1.43.59L10.3 9.45l-7.72 7.72c-.78.78-.78 2.05 0 2.83L4 21.41c.39.39.9.59 1.41.59.51 0 1.02-.2 1.41-.59l7.78-7.78 2.81-2.81c.8-.78.8-2.07 0-2.86zM5.41 20L4 18.59l7.72-7.72 1.47 1.35L5.41 20z\"/>\n",
              "  </svg>\n",
              "      </button>\n",
              "      \n",
              "  <style>\n",
              "    .colab-df-container {\n",
              "      display:flex;\n",
              "      flex-wrap:wrap;\n",
              "      gap: 12px;\n",
              "    }\n",
              "\n",
              "    .colab-df-convert {\n",
              "      background-color: #E8F0FE;\n",
              "      border: none;\n",
              "      border-radius: 50%;\n",
              "      cursor: pointer;\n",
              "      display: none;\n",
              "      fill: #1967D2;\n",
              "      height: 32px;\n",
              "      padding: 0 0 0 0;\n",
              "      width: 32px;\n",
              "    }\n",
              "\n",
              "    .colab-df-convert:hover {\n",
              "      background-color: #E2EBFA;\n",
              "      box-shadow: 0px 1px 2px rgba(60, 64, 67, 0.3), 0px 1px 3px 1px rgba(60, 64, 67, 0.15);\n",
              "      fill: #174EA6;\n",
              "    }\n",
              "\n",
              "    [theme=dark] .colab-df-convert {\n",
              "      background-color: #3B4455;\n",
              "      fill: #D2E3FC;\n",
              "    }\n",
              "\n",
              "    [theme=dark] .colab-df-convert:hover {\n",
              "      background-color: #434B5C;\n",
              "      box-shadow: 0px 1px 3px 1px rgba(0, 0, 0, 0.15);\n",
              "      filter: drop-shadow(0px 1px 2px rgba(0, 0, 0, 0.3));\n",
              "      fill: #FFFFFF;\n",
              "    }\n",
              "  </style>\n",
              "\n",
              "      <script>\n",
              "        const buttonEl =\n",
              "          document.querySelector('#df-b1890948-553e-45b9-bc5a-5fc2977d0132 button.colab-df-convert');\n",
              "        buttonEl.style.display =\n",
              "          google.colab.kernel.accessAllowed ? 'block' : 'none';\n",
              "\n",
              "        async function convertToInteractive(key) {\n",
              "          const element = document.querySelector('#df-b1890948-553e-45b9-bc5a-5fc2977d0132');\n",
              "          const dataTable =\n",
              "            await google.colab.kernel.invokeFunction('convertToInteractive',\n",
              "                                                     [key], {});\n",
              "          if (!dataTable) return;\n",
              "\n",
              "          const docLinkHtml = 'Like what you see? Visit the ' +\n",
              "            '<a target=\"_blank\" href=https://colab.research.google.com/notebooks/data_table.ipynb>data table notebook</a>'\n",
              "            + ' to learn more about interactive tables.';\n",
              "          element.innerHTML = '';\n",
              "          dataTable['output_type'] = 'display_data';\n",
              "          await google.colab.output.renderOutput(dataTable, element);\n",
              "          const docLink = document.createElement('div');\n",
              "          docLink.innerHTML = docLinkHtml;\n",
              "          element.appendChild(docLink);\n",
              "        }\n",
              "      </script>\n",
              "    </div>\n",
              "  </div>\n",
              "  "
            ]
          },
          "metadata": {},
          "execution_count": 172
        }
      ],
      "source": [
        "dtest1.head()"
      ]
    },
    {
      "cell_type": "code",
      "execution_count": 173,
      "metadata": {
        "id": "Cg8xcTTKHoJ-",
        "colab": {
          "base_uri": "https://localhost:8080/"
        },
        "outputId": "54670146-ff2e-4af0-a1ce-d9c791755b89"
      },
      "outputs": [
        {
          "output_type": "execute_result",
          "data": {
            "text/plain": [
              "CustomerID              5955\n",
              "City                       4\n",
              "DateOfRegistration      1631\n",
              "OnlineCommunication        2\n",
              "AutomaticRefill            2\n",
              "DoorstepDelivery           2\n",
              "PreferredDeliveryDay       7\n",
              "dtype: int64"
            ]
          },
          "metadata": {},
          "execution_count": 173
        }
      ],
      "source": [
        "dtest1.nunique()"
      ]
    },
    {
      "cell_type": "code",
      "execution_count": 174,
      "metadata": {
        "id": "zj3LIrZ1HoJ-"
      },
      "outputs": [],
      "source": [
        "dt3 = dt3.drop('timestamp',axis=1)"
      ]
    },
    {
      "cell_type": "code",
      "execution_count": 175,
      "metadata": {
        "id": "ceskEZ2wHoJ-",
        "colab": {
          "base_uri": "https://localhost:8080/"
        },
        "outputId": "834ce1eb-4eb4-4714-af28-9094964281e2"
      },
      "outputs": [
        {
          "output_type": "execute_result",
          "data": {
            "text/plain": [
              "CustomerID       5955\n",
              "DateOfOrder      2771\n",
              "OrderQuantity     372\n",
              "dtype: int64"
            ]
          },
          "metadata": {},
          "execution_count": 175
        }
      ],
      "source": [
        "dt3.nunique()"
      ]
    },
    {
      "cell_type": "code",
      "execution_count": 176,
      "metadata": {
        "id": "ewBXBWsLHoJ-"
      },
      "outputs": [],
      "source": [
        "dt4 = dt4.drop(['timestamp'],axis=1)"
      ]
    },
    {
      "cell_type": "code",
      "execution_count": 177,
      "metadata": {
        "id": "XdCWK9lXHoJ-",
        "colab": {
          "base_uri": "https://localhost:8080/"
        },
        "outputId": "04ef2b1c-e33d-4c81-eb87-dd2d3db191fc"
      },
      "outputs": [
        {
          "output_type": "execute_result",
          "data": {
            "text/plain": [
              "CustomerID     5955\n",
              "DateOfemail    3149\n",
              "EmailType         2\n",
              "MailOpened        2\n",
              "MailClicked       3\n",
              "dtype: int64"
            ]
          },
          "metadata": {},
          "execution_count": 177
        }
      ],
      "source": [
        "dt4.nunique()"
      ]
    },
    {
      "cell_type": "code",
      "execution_count": 178,
      "metadata": {
        "id": "AM8RXrIBHoJ-",
        "colab": {
          "base_uri": "https://localhost:8080/"
        },
        "outputId": "e3f03db7-120b-4392-9c32-095c14589992"
      },
      "outputs": [
        {
          "output_type": "execute_result",
          "data": {
            "text/plain": [
              "CustomizedEmail    123119\n",
              "WelcomeEmail         5955\n",
              "Name: EmailType, dtype: int64"
            ]
          },
          "metadata": {},
          "execution_count": 178
        }
      ],
      "source": [
        "dt4['EmailType'].value_counts()"
      ]
    },
    {
      "cell_type": "code",
      "execution_count": 179,
      "metadata": {
        "id": "6d_vMZHoHoJ-",
        "colab": {
          "base_uri": "https://localhost:8080/"
        },
        "outputId": "9c988f07-69a8-4527-dd9e-e26315668a6a"
      },
      "outputs": [
        {
          "output_type": "stream",
          "name": "stdout",
          "text": [
            "Index(['CustomerID', 'City', 'DateOfRegistration', 'OnlineCommunication',\n",
            "       'AutomaticRefill', 'DoorstepDelivery', 'PreferredDeliveryDay'],\n",
            "      dtype='object')\n",
            "Index(['CustomerID', 'DateOfOrder', 'OrderQuantity'], dtype='object')\n",
            "Index(['CustomerID', 'DateOfemail', 'EmailType', 'MailOpened', 'MailClicked'], dtype='object')\n"
          ]
        }
      ],
      "source": [
        "print(dtest1.columns)\n",
        "print(dt3.columns)\n",
        "print(dt4.columns)"
      ]
    },
    {
      "cell_type": "code",
      "execution_count": 180,
      "metadata": {
        "id": "YBAiGIzhHoJ-"
      },
      "outputs": [],
      "source": [
        "test1 = dt3.groupby(['CustomerID'])['OrderQuantity'].agg(sum).reset_index()"
      ]
    },
    {
      "cell_type": "code",
      "execution_count": 181,
      "metadata": {
        "id": "-JqzFK7mHoJ-"
      },
      "outputs": [],
      "source": [
        "new_t = dt3.groupby(['CustomerID'])['OrderQuantity'].count().reset_index()\n",
        "new_t = new_t.rename(columns={'OrderQuantity':'No_Of_Orders'})"
      ]
    },
    {
      "cell_type": "code",
      "execution_count": 182,
      "metadata": {
        "id": "dUxEfN3hHoJ-"
      },
      "outputs": [],
      "source": [
        "test1 = test1.merge(new_t,on='CustomerID')"
      ]
    },
    {
      "cell_type": "code",
      "execution_count": 183,
      "metadata": {
        "id": "q9m-qqD5HoJ-",
        "colab": {
          "base_uri": "https://localhost:8080/",
          "height": 206
        },
        "outputId": "7451d391-9f71-4a98-e1e5-0890f03e6ee0"
      },
      "outputs": [
        {
          "output_type": "execute_result",
          "data": {
            "text/plain": [
              "  CustomerID  OrderQuantity  No_Of_Orders\n",
              "0     C12121             52             1\n",
              "1     C12132             40             1\n",
              "2     C12134             40             1\n",
              "3     C12135             41             1\n",
              "4     C12136             79             1"
            ],
            "text/html": [
              "\n",
              "  <div id=\"df-7191e68f-3b00-4b96-bfdd-3d216846a938\">\n",
              "    <div class=\"colab-df-container\">\n",
              "      <div>\n",
              "<style scoped>\n",
              "    .dataframe tbody tr th:only-of-type {\n",
              "        vertical-align: middle;\n",
              "    }\n",
              "\n",
              "    .dataframe tbody tr th {\n",
              "        vertical-align: top;\n",
              "    }\n",
              "\n",
              "    .dataframe thead th {\n",
              "        text-align: right;\n",
              "    }\n",
              "</style>\n",
              "<table border=\"1\" class=\"dataframe\">\n",
              "  <thead>\n",
              "    <tr style=\"text-align: right;\">\n",
              "      <th></th>\n",
              "      <th>CustomerID</th>\n",
              "      <th>OrderQuantity</th>\n",
              "      <th>No_Of_Orders</th>\n",
              "    </tr>\n",
              "  </thead>\n",
              "  <tbody>\n",
              "    <tr>\n",
              "      <th>0</th>\n",
              "      <td>C12121</td>\n",
              "      <td>52</td>\n",
              "      <td>1</td>\n",
              "    </tr>\n",
              "    <tr>\n",
              "      <th>1</th>\n",
              "      <td>C12132</td>\n",
              "      <td>40</td>\n",
              "      <td>1</td>\n",
              "    </tr>\n",
              "    <tr>\n",
              "      <th>2</th>\n",
              "      <td>C12134</td>\n",
              "      <td>40</td>\n",
              "      <td>1</td>\n",
              "    </tr>\n",
              "    <tr>\n",
              "      <th>3</th>\n",
              "      <td>C12135</td>\n",
              "      <td>41</td>\n",
              "      <td>1</td>\n",
              "    </tr>\n",
              "    <tr>\n",
              "      <th>4</th>\n",
              "      <td>C12136</td>\n",
              "      <td>79</td>\n",
              "      <td>1</td>\n",
              "    </tr>\n",
              "  </tbody>\n",
              "</table>\n",
              "</div>\n",
              "      <button class=\"colab-df-convert\" onclick=\"convertToInteractive('df-7191e68f-3b00-4b96-bfdd-3d216846a938')\"\n",
              "              title=\"Convert this dataframe to an interactive table.\"\n",
              "              style=\"display:none;\">\n",
              "        \n",
              "  <svg xmlns=\"http://www.w3.org/2000/svg\" height=\"24px\"viewBox=\"0 0 24 24\"\n",
              "       width=\"24px\">\n",
              "    <path d=\"M0 0h24v24H0V0z\" fill=\"none\"/>\n",
              "    <path d=\"M18.56 5.44l.94 2.06.94-2.06 2.06-.94-2.06-.94-.94-2.06-.94 2.06-2.06.94zm-11 1L8.5 8.5l.94-2.06 2.06-.94-2.06-.94L8.5 2.5l-.94 2.06-2.06.94zm10 10l.94 2.06.94-2.06 2.06-.94-2.06-.94-.94-2.06-.94 2.06-2.06.94z\"/><path d=\"M17.41 7.96l-1.37-1.37c-.4-.4-.92-.59-1.43-.59-.52 0-1.04.2-1.43.59L10.3 9.45l-7.72 7.72c-.78.78-.78 2.05 0 2.83L4 21.41c.39.39.9.59 1.41.59.51 0 1.02-.2 1.41-.59l7.78-7.78 2.81-2.81c.8-.78.8-2.07 0-2.86zM5.41 20L4 18.59l7.72-7.72 1.47 1.35L5.41 20z\"/>\n",
              "  </svg>\n",
              "      </button>\n",
              "      \n",
              "  <style>\n",
              "    .colab-df-container {\n",
              "      display:flex;\n",
              "      flex-wrap:wrap;\n",
              "      gap: 12px;\n",
              "    }\n",
              "\n",
              "    .colab-df-convert {\n",
              "      background-color: #E8F0FE;\n",
              "      border: none;\n",
              "      border-radius: 50%;\n",
              "      cursor: pointer;\n",
              "      display: none;\n",
              "      fill: #1967D2;\n",
              "      height: 32px;\n",
              "      padding: 0 0 0 0;\n",
              "      width: 32px;\n",
              "    }\n",
              "\n",
              "    .colab-df-convert:hover {\n",
              "      background-color: #E2EBFA;\n",
              "      box-shadow: 0px 1px 2px rgba(60, 64, 67, 0.3), 0px 1px 3px 1px rgba(60, 64, 67, 0.15);\n",
              "      fill: #174EA6;\n",
              "    }\n",
              "\n",
              "    [theme=dark] .colab-df-convert {\n",
              "      background-color: #3B4455;\n",
              "      fill: #D2E3FC;\n",
              "    }\n",
              "\n",
              "    [theme=dark] .colab-df-convert:hover {\n",
              "      background-color: #434B5C;\n",
              "      box-shadow: 0px 1px 3px 1px rgba(0, 0, 0, 0.15);\n",
              "      filter: drop-shadow(0px 1px 2px rgba(0, 0, 0, 0.3));\n",
              "      fill: #FFFFFF;\n",
              "    }\n",
              "  </style>\n",
              "\n",
              "      <script>\n",
              "        const buttonEl =\n",
              "          document.querySelector('#df-7191e68f-3b00-4b96-bfdd-3d216846a938 button.colab-df-convert');\n",
              "        buttonEl.style.display =\n",
              "          google.colab.kernel.accessAllowed ? 'block' : 'none';\n",
              "\n",
              "        async function convertToInteractive(key) {\n",
              "          const element = document.querySelector('#df-7191e68f-3b00-4b96-bfdd-3d216846a938');\n",
              "          const dataTable =\n",
              "            await google.colab.kernel.invokeFunction('convertToInteractive',\n",
              "                                                     [key], {});\n",
              "          if (!dataTable) return;\n",
              "\n",
              "          const docLinkHtml = 'Like what you see? Visit the ' +\n",
              "            '<a target=\"_blank\" href=https://colab.research.google.com/notebooks/data_table.ipynb>data table notebook</a>'\n",
              "            + ' to learn more about interactive tables.';\n",
              "          element.innerHTML = '';\n",
              "          dataTable['output_type'] = 'display_data';\n",
              "          await google.colab.output.renderOutput(dataTable, element);\n",
              "          const docLink = document.createElement('div');\n",
              "          docLink.innerHTML = docLinkHtml;\n",
              "          element.appendChild(docLink);\n",
              "        }\n",
              "      </script>\n",
              "    </div>\n",
              "  </div>\n",
              "  "
            ]
          },
          "metadata": {},
          "execution_count": 183
        }
      ],
      "source": [
        "test1.head()"
      ]
    },
    {
      "cell_type": "code",
      "execution_count": 184,
      "metadata": {
        "id": "p3PeTQfKHoJ-",
        "colab": {
          "base_uri": "https://localhost:8080/"
        },
        "outputId": "28a028ae-7d05-4fea-fc3c-65af90f047dd"
      },
      "outputs": [
        {
          "output_type": "execute_result",
          "data": {
            "text/plain": [
              "(5955, 3)"
            ]
          },
          "metadata": {},
          "execution_count": 184
        }
      ],
      "source": [
        "test1.shape"
      ]
    },
    {
      "cell_type": "code",
      "execution_count": 185,
      "metadata": {
        "id": "xwTK--jvHoJ-",
        "colab": {
          "base_uri": "https://localhost:8080/",
          "height": 206
        },
        "outputId": "ddcb916c-0ab1-4195-d32b-0a41ff1dd926"
      },
      "outputs": [
        {
          "output_type": "execute_result",
          "data": {
            "text/plain": [
              "  CustomerID  OrderQuantity  No_Of_Orders\n",
              "0     C12121             52             1\n",
              "1     C12132             40             1\n",
              "2     C12134             40             1\n",
              "3     C12135             41             1\n",
              "4     C12136             79             1"
            ],
            "text/html": [
              "\n",
              "  <div id=\"df-7a9742b9-d995-4d49-b568-fa05a14c3074\">\n",
              "    <div class=\"colab-df-container\">\n",
              "      <div>\n",
              "<style scoped>\n",
              "    .dataframe tbody tr th:only-of-type {\n",
              "        vertical-align: middle;\n",
              "    }\n",
              "\n",
              "    .dataframe tbody tr th {\n",
              "        vertical-align: top;\n",
              "    }\n",
              "\n",
              "    .dataframe thead th {\n",
              "        text-align: right;\n",
              "    }\n",
              "</style>\n",
              "<table border=\"1\" class=\"dataframe\">\n",
              "  <thead>\n",
              "    <tr style=\"text-align: right;\">\n",
              "      <th></th>\n",
              "      <th>CustomerID</th>\n",
              "      <th>OrderQuantity</th>\n",
              "      <th>No_Of_Orders</th>\n",
              "    </tr>\n",
              "  </thead>\n",
              "  <tbody>\n",
              "    <tr>\n",
              "      <th>0</th>\n",
              "      <td>C12121</td>\n",
              "      <td>52</td>\n",
              "      <td>1</td>\n",
              "    </tr>\n",
              "    <tr>\n",
              "      <th>1</th>\n",
              "      <td>C12132</td>\n",
              "      <td>40</td>\n",
              "      <td>1</td>\n",
              "    </tr>\n",
              "    <tr>\n",
              "      <th>2</th>\n",
              "      <td>C12134</td>\n",
              "      <td>40</td>\n",
              "      <td>1</td>\n",
              "    </tr>\n",
              "    <tr>\n",
              "      <th>3</th>\n",
              "      <td>C12135</td>\n",
              "      <td>41</td>\n",
              "      <td>1</td>\n",
              "    </tr>\n",
              "    <tr>\n",
              "      <th>4</th>\n",
              "      <td>C12136</td>\n",
              "      <td>79</td>\n",
              "      <td>1</td>\n",
              "    </tr>\n",
              "  </tbody>\n",
              "</table>\n",
              "</div>\n",
              "      <button class=\"colab-df-convert\" onclick=\"convertToInteractive('df-7a9742b9-d995-4d49-b568-fa05a14c3074')\"\n",
              "              title=\"Convert this dataframe to an interactive table.\"\n",
              "              style=\"display:none;\">\n",
              "        \n",
              "  <svg xmlns=\"http://www.w3.org/2000/svg\" height=\"24px\"viewBox=\"0 0 24 24\"\n",
              "       width=\"24px\">\n",
              "    <path d=\"M0 0h24v24H0V0z\" fill=\"none\"/>\n",
              "    <path d=\"M18.56 5.44l.94 2.06.94-2.06 2.06-.94-2.06-.94-.94-2.06-.94 2.06-2.06.94zm-11 1L8.5 8.5l.94-2.06 2.06-.94-2.06-.94L8.5 2.5l-.94 2.06-2.06.94zm10 10l.94 2.06.94-2.06 2.06-.94-2.06-.94-.94-2.06-.94 2.06-2.06.94z\"/><path d=\"M17.41 7.96l-1.37-1.37c-.4-.4-.92-.59-1.43-.59-.52 0-1.04.2-1.43.59L10.3 9.45l-7.72 7.72c-.78.78-.78 2.05 0 2.83L4 21.41c.39.39.9.59 1.41.59.51 0 1.02-.2 1.41-.59l7.78-7.78 2.81-2.81c.8-.78.8-2.07 0-2.86zM5.41 20L4 18.59l7.72-7.72 1.47 1.35L5.41 20z\"/>\n",
              "  </svg>\n",
              "      </button>\n",
              "      \n",
              "  <style>\n",
              "    .colab-df-container {\n",
              "      display:flex;\n",
              "      flex-wrap:wrap;\n",
              "      gap: 12px;\n",
              "    }\n",
              "\n",
              "    .colab-df-convert {\n",
              "      background-color: #E8F0FE;\n",
              "      border: none;\n",
              "      border-radius: 50%;\n",
              "      cursor: pointer;\n",
              "      display: none;\n",
              "      fill: #1967D2;\n",
              "      height: 32px;\n",
              "      padding: 0 0 0 0;\n",
              "      width: 32px;\n",
              "    }\n",
              "\n",
              "    .colab-df-convert:hover {\n",
              "      background-color: #E2EBFA;\n",
              "      box-shadow: 0px 1px 2px rgba(60, 64, 67, 0.3), 0px 1px 3px 1px rgba(60, 64, 67, 0.15);\n",
              "      fill: #174EA6;\n",
              "    }\n",
              "\n",
              "    [theme=dark] .colab-df-convert {\n",
              "      background-color: #3B4455;\n",
              "      fill: #D2E3FC;\n",
              "    }\n",
              "\n",
              "    [theme=dark] .colab-df-convert:hover {\n",
              "      background-color: #434B5C;\n",
              "      box-shadow: 0px 1px 3px 1px rgba(0, 0, 0, 0.15);\n",
              "      filter: drop-shadow(0px 1px 2px rgba(0, 0, 0, 0.3));\n",
              "      fill: #FFFFFF;\n",
              "    }\n",
              "  </style>\n",
              "\n",
              "      <script>\n",
              "        const buttonEl =\n",
              "          document.querySelector('#df-7a9742b9-d995-4d49-b568-fa05a14c3074 button.colab-df-convert');\n",
              "        buttonEl.style.display =\n",
              "          google.colab.kernel.accessAllowed ? 'block' : 'none';\n",
              "\n",
              "        async function convertToInteractive(key) {\n",
              "          const element = document.querySelector('#df-7a9742b9-d995-4d49-b568-fa05a14c3074');\n",
              "          const dataTable =\n",
              "            await google.colab.kernel.invokeFunction('convertToInteractive',\n",
              "                                                     [key], {});\n",
              "          if (!dataTable) return;\n",
              "\n",
              "          const docLinkHtml = 'Like what you see? Visit the ' +\n",
              "            '<a target=\"_blank\" href=https://colab.research.google.com/notebooks/data_table.ipynb>data table notebook</a>'\n",
              "            + ' to learn more about interactive tables.';\n",
              "          element.innerHTML = '';\n",
              "          dataTable['output_type'] = 'display_data';\n",
              "          await google.colab.output.renderOutput(dataTable, element);\n",
              "          const docLink = document.createElement('div');\n",
              "          docLink.innerHTML = docLinkHtml;\n",
              "          element.appendChild(docLink);\n",
              "        }\n",
              "      </script>\n",
              "    </div>\n",
              "  </div>\n",
              "  "
            ]
          },
          "metadata": {},
          "execution_count": 185
        }
      ],
      "source": [
        "test1.head()"
      ]
    },
    {
      "cell_type": "code",
      "execution_count": 186,
      "metadata": {
        "id": "9O2Zg6w0HoJ_",
        "colab": {
          "base_uri": "https://localhost:8080/"
        },
        "outputId": "2dcc8f49-891f-40e2-8bd8-9ea6b7b87cb2"
      },
      "outputs": [
        {
          "output_type": "execute_result",
          "data": {
            "text/plain": [
              "(5955, 3)"
            ]
          },
          "metadata": {},
          "execution_count": 186
        }
      ],
      "source": [
        "test1.shape"
      ]
    },
    {
      "cell_type": "code",
      "execution_count": 187,
      "metadata": {
        "id": "p3HK9p4jHoJ_",
        "colab": {
          "base_uri": "https://localhost:8080/"
        },
        "outputId": "0ec0794e-c765-4b45-b6ea-d485c1791af7"
      },
      "outputs": [
        {
          "output_type": "execute_result",
          "data": {
            "text/plain": [
              "CustomerID       5955\n",
              "OrderQuantity    1030\n",
              "No_Of_Orders      106\n",
              "dtype: int64"
            ]
          },
          "metadata": {},
          "execution_count": 187
        }
      ],
      "source": [
        "test1.nunique()"
      ]
    },
    {
      "cell_type": "code",
      "execution_count": 188,
      "metadata": {
        "id": "K24BVGySHoJ_",
        "colab": {
          "base_uri": "https://localhost:8080/"
        },
        "outputId": "970ba342-c562-4aba-d88a-c3b27861c68a"
      },
      "outputs": [
        {
          "output_type": "execute_result",
          "data": {
            "text/plain": [
              "Index(['CustomerID', 'City', 'DateOfRegistration', 'OnlineCommunication',\n",
              "       'AutomaticRefill', 'DoorstepDelivery', 'PreferredDeliveryDay'],\n",
              "      dtype='object')"
            ]
          },
          "metadata": {},
          "execution_count": 188
        }
      ],
      "source": [
        "dtest1.columns"
      ]
    },
    {
      "cell_type": "code",
      "execution_count": 189,
      "metadata": {
        "id": "9188LV2pHoJ_"
      },
      "outputs": [],
      "source": [
        "dtest2 = pd.merge(dtest1,test1,on=['CustomerID'],how='inner')"
      ]
    },
    {
      "cell_type": "code",
      "execution_count": 190,
      "metadata": {
        "id": "LVFoZPwiHoJ_",
        "colab": {
          "base_uri": "https://localhost:8080/"
        },
        "outputId": "b1b24f2d-e4b0-44af-fc33-a76cb26df2ce"
      },
      "outputs": [
        {
          "output_type": "execute_result",
          "data": {
            "text/plain": [
              "(5955, 9)"
            ]
          },
          "metadata": {},
          "execution_count": 190
        }
      ],
      "source": [
        "dtest2.shape"
      ]
    },
    {
      "cell_type": "code",
      "execution_count": 191,
      "metadata": {
        "id": "TT2182zhHoJ_",
        "colab": {
          "base_uri": "https://localhost:8080/",
          "height": 270
        },
        "outputId": "5921354f-050f-4745-8e2f-6e64f6000c2c"
      },
      "outputs": [
        {
          "output_type": "execute_result",
          "data": {
            "text/plain": [
              "  CustomerID   City DateOfRegistration  OnlineCommunication  AutomaticRefill  \\\n",
              "0     C12121  CITY1          12/4/2017                    1                0   \n",
              "1     C12132  CITY3         10/20/2013                    1                0   \n",
              "2     C12134  CITY3          9/18/2013                    1                0   \n",
              "3     C12135  CITY3          11/1/2017                    1                0   \n",
              "4     C12136  CITY2          9/28/2013                    1                0   \n",
              "\n",
              "   DoorstepDelivery PreferredDeliveryDay  OrderQuantity  No_Of_Orders  \n",
              "0                 0               Friday             52             1  \n",
              "1                 0              Tuesday             40             1  \n",
              "2                 0               Monday             40             1  \n",
              "3                 1            Wednesday             41             1  \n",
              "4                 0             Thursday             79             1  "
            ],
            "text/html": [
              "\n",
              "  <div id=\"df-9b04ba37-a604-4b00-a36c-616948fc949e\">\n",
              "    <div class=\"colab-df-container\">\n",
              "      <div>\n",
              "<style scoped>\n",
              "    .dataframe tbody tr th:only-of-type {\n",
              "        vertical-align: middle;\n",
              "    }\n",
              "\n",
              "    .dataframe tbody tr th {\n",
              "        vertical-align: top;\n",
              "    }\n",
              "\n",
              "    .dataframe thead th {\n",
              "        text-align: right;\n",
              "    }\n",
              "</style>\n",
              "<table border=\"1\" class=\"dataframe\">\n",
              "  <thead>\n",
              "    <tr style=\"text-align: right;\">\n",
              "      <th></th>\n",
              "      <th>CustomerID</th>\n",
              "      <th>City</th>\n",
              "      <th>DateOfRegistration</th>\n",
              "      <th>OnlineCommunication</th>\n",
              "      <th>AutomaticRefill</th>\n",
              "      <th>DoorstepDelivery</th>\n",
              "      <th>PreferredDeliveryDay</th>\n",
              "      <th>OrderQuantity</th>\n",
              "      <th>No_Of_Orders</th>\n",
              "    </tr>\n",
              "  </thead>\n",
              "  <tbody>\n",
              "    <tr>\n",
              "      <th>0</th>\n",
              "      <td>C12121</td>\n",
              "      <td>CITY1</td>\n",
              "      <td>12/4/2017</td>\n",
              "      <td>1</td>\n",
              "      <td>0</td>\n",
              "      <td>0</td>\n",
              "      <td>Friday</td>\n",
              "      <td>52</td>\n",
              "      <td>1</td>\n",
              "    </tr>\n",
              "    <tr>\n",
              "      <th>1</th>\n",
              "      <td>C12132</td>\n",
              "      <td>CITY3</td>\n",
              "      <td>10/20/2013</td>\n",
              "      <td>1</td>\n",
              "      <td>0</td>\n",
              "      <td>0</td>\n",
              "      <td>Tuesday</td>\n",
              "      <td>40</td>\n",
              "      <td>1</td>\n",
              "    </tr>\n",
              "    <tr>\n",
              "      <th>2</th>\n",
              "      <td>C12134</td>\n",
              "      <td>CITY3</td>\n",
              "      <td>9/18/2013</td>\n",
              "      <td>1</td>\n",
              "      <td>0</td>\n",
              "      <td>0</td>\n",
              "      <td>Monday</td>\n",
              "      <td>40</td>\n",
              "      <td>1</td>\n",
              "    </tr>\n",
              "    <tr>\n",
              "      <th>3</th>\n",
              "      <td>C12135</td>\n",
              "      <td>CITY3</td>\n",
              "      <td>11/1/2017</td>\n",
              "      <td>1</td>\n",
              "      <td>0</td>\n",
              "      <td>1</td>\n",
              "      <td>Wednesday</td>\n",
              "      <td>41</td>\n",
              "      <td>1</td>\n",
              "    </tr>\n",
              "    <tr>\n",
              "      <th>4</th>\n",
              "      <td>C12136</td>\n",
              "      <td>CITY2</td>\n",
              "      <td>9/28/2013</td>\n",
              "      <td>1</td>\n",
              "      <td>0</td>\n",
              "      <td>0</td>\n",
              "      <td>Thursday</td>\n",
              "      <td>79</td>\n",
              "      <td>1</td>\n",
              "    </tr>\n",
              "  </tbody>\n",
              "</table>\n",
              "</div>\n",
              "      <button class=\"colab-df-convert\" onclick=\"convertToInteractive('df-9b04ba37-a604-4b00-a36c-616948fc949e')\"\n",
              "              title=\"Convert this dataframe to an interactive table.\"\n",
              "              style=\"display:none;\">\n",
              "        \n",
              "  <svg xmlns=\"http://www.w3.org/2000/svg\" height=\"24px\"viewBox=\"0 0 24 24\"\n",
              "       width=\"24px\">\n",
              "    <path d=\"M0 0h24v24H0V0z\" fill=\"none\"/>\n",
              "    <path d=\"M18.56 5.44l.94 2.06.94-2.06 2.06-.94-2.06-.94-.94-2.06-.94 2.06-2.06.94zm-11 1L8.5 8.5l.94-2.06 2.06-.94-2.06-.94L8.5 2.5l-.94 2.06-2.06.94zm10 10l.94 2.06.94-2.06 2.06-.94-2.06-.94-.94-2.06-.94 2.06-2.06.94z\"/><path d=\"M17.41 7.96l-1.37-1.37c-.4-.4-.92-.59-1.43-.59-.52 0-1.04.2-1.43.59L10.3 9.45l-7.72 7.72c-.78.78-.78 2.05 0 2.83L4 21.41c.39.39.9.59 1.41.59.51 0 1.02-.2 1.41-.59l7.78-7.78 2.81-2.81c.8-.78.8-2.07 0-2.86zM5.41 20L4 18.59l7.72-7.72 1.47 1.35L5.41 20z\"/>\n",
              "  </svg>\n",
              "      </button>\n",
              "      \n",
              "  <style>\n",
              "    .colab-df-container {\n",
              "      display:flex;\n",
              "      flex-wrap:wrap;\n",
              "      gap: 12px;\n",
              "    }\n",
              "\n",
              "    .colab-df-convert {\n",
              "      background-color: #E8F0FE;\n",
              "      border: none;\n",
              "      border-radius: 50%;\n",
              "      cursor: pointer;\n",
              "      display: none;\n",
              "      fill: #1967D2;\n",
              "      height: 32px;\n",
              "      padding: 0 0 0 0;\n",
              "      width: 32px;\n",
              "    }\n",
              "\n",
              "    .colab-df-convert:hover {\n",
              "      background-color: #E2EBFA;\n",
              "      box-shadow: 0px 1px 2px rgba(60, 64, 67, 0.3), 0px 1px 3px 1px rgba(60, 64, 67, 0.15);\n",
              "      fill: #174EA6;\n",
              "    }\n",
              "\n",
              "    [theme=dark] .colab-df-convert {\n",
              "      background-color: #3B4455;\n",
              "      fill: #D2E3FC;\n",
              "    }\n",
              "\n",
              "    [theme=dark] .colab-df-convert:hover {\n",
              "      background-color: #434B5C;\n",
              "      box-shadow: 0px 1px 3px 1px rgba(0, 0, 0, 0.15);\n",
              "      filter: drop-shadow(0px 1px 2px rgba(0, 0, 0, 0.3));\n",
              "      fill: #FFFFFF;\n",
              "    }\n",
              "  </style>\n",
              "\n",
              "      <script>\n",
              "        const buttonEl =\n",
              "          document.querySelector('#df-9b04ba37-a604-4b00-a36c-616948fc949e button.colab-df-convert');\n",
              "        buttonEl.style.display =\n",
              "          google.colab.kernel.accessAllowed ? 'block' : 'none';\n",
              "\n",
              "        async function convertToInteractive(key) {\n",
              "          const element = document.querySelector('#df-9b04ba37-a604-4b00-a36c-616948fc949e');\n",
              "          const dataTable =\n",
              "            await google.colab.kernel.invokeFunction('convertToInteractive',\n",
              "                                                     [key], {});\n",
              "          if (!dataTable) return;\n",
              "\n",
              "          const docLinkHtml = 'Like what you see? Visit the ' +\n",
              "            '<a target=\"_blank\" href=https://colab.research.google.com/notebooks/data_table.ipynb>data table notebook</a>'\n",
              "            + ' to learn more about interactive tables.';\n",
              "          element.innerHTML = '';\n",
              "          dataTable['output_type'] = 'display_data';\n",
              "          await google.colab.output.renderOutput(dataTable, element);\n",
              "          const docLink = document.createElement('div');\n",
              "          docLink.innerHTML = docLinkHtml;\n",
              "          element.appendChild(docLink);\n",
              "        }\n",
              "      </script>\n",
              "    </div>\n",
              "  </div>\n",
              "  "
            ]
          },
          "metadata": {},
          "execution_count": 191
        }
      ],
      "source": [
        "dtest2.head()"
      ]
    },
    {
      "cell_type": "code",
      "execution_count": 192,
      "metadata": {
        "id": "S6SQhmC5HoJ_",
        "colab": {
          "base_uri": "https://localhost:8080/"
        },
        "outputId": "098aba69-8796-4f06-b74b-b6f411f12f1d"
      },
      "outputs": [
        {
          "output_type": "execute_result",
          "data": {
            "text/plain": [
              "CustomerID              5955\n",
              "City                       4\n",
              "DateOfRegistration      1631\n",
              "OnlineCommunication        2\n",
              "AutomaticRefill            2\n",
              "DoorstepDelivery           2\n",
              "PreferredDeliveryDay       7\n",
              "OrderQuantity           1030\n",
              "No_Of_Orders             106\n",
              "dtype: int64"
            ]
          },
          "metadata": {},
          "execution_count": 192
        }
      ],
      "source": [
        "dtest2.nunique()"
      ]
    },
    {
      "cell_type": "code",
      "execution_count": 193,
      "metadata": {
        "id": "Y9w7_sbiHoJ_",
        "colab": {
          "base_uri": "https://localhost:8080/"
        },
        "outputId": "f33e47fb-ddac-433b-c589-d8aadd5eab72"
      },
      "outputs": [
        {
          "output_type": "execute_result",
          "data": {
            "text/plain": [
              "Index(['CustomerID', 'DateOfemail', 'EmailType', 'MailOpened', 'MailClicked'], dtype='object')"
            ]
          },
          "metadata": {},
          "execution_count": 193
        }
      ],
      "source": [
        "dt4.columns"
      ]
    },
    {
      "cell_type": "code",
      "execution_count": 194,
      "metadata": {
        "id": "o9kD-hDrHoJ_",
        "colab": {
          "base_uri": "https://localhost:8080/"
        },
        "outputId": "a1065b3d-bdfc-4ee7-d295-e1f30cc78909"
      },
      "outputs": [
        {
          "output_type": "execute_result",
          "data": {
            "text/plain": [
              "(129074, 5)"
            ]
          },
          "metadata": {},
          "execution_count": 194
        }
      ],
      "source": [
        "dt4.shape"
      ]
    },
    {
      "cell_type": "code",
      "execution_count": 195,
      "metadata": {
        "id": "m4NtFvHXHoJ_",
        "colab": {
          "base_uri": "https://localhost:8080/"
        },
        "outputId": "8886afec-264d-4f52-b670-6d9e7703442a"
      },
      "outputs": [
        {
          "output_type": "execute_result",
          "data": {
            "text/plain": [
              "CustomerID     5955\n",
              "DateOfemail    3149\n",
              "EmailType         2\n",
              "MailOpened        2\n",
              "MailClicked       3\n",
              "dtype: int64"
            ]
          },
          "metadata": {},
          "execution_count": 195
        }
      ],
      "source": [
        "dt4.nunique()"
      ]
    },
    {
      "cell_type": "code",
      "execution_count": 196,
      "metadata": {
        "id": "Z5MfLeCIHoJ_",
        "colab": {
          "base_uri": "https://localhost:8080/"
        },
        "outputId": "195f116b-4935-4b0d-8cee-a247a4fb9f71"
      },
      "outputs": [
        {
          "output_type": "execute_result",
          "data": {
            "text/plain": [
              "CustomizedEmail    123119\n",
              "WelcomeEmail         5955\n",
              "Name: EmailType, dtype: int64"
            ]
          },
          "metadata": {},
          "execution_count": 196
        }
      ],
      "source": [
        "dt4['EmailType'].value_counts()"
      ]
    },
    {
      "cell_type": "code",
      "execution_count": 197,
      "metadata": {
        "id": "X073oVpSHoKA"
      },
      "outputs": [],
      "source": [
        "dt4_1 = dt4.loc[dt4['EmailType'] == 'WelcomeEmail']"
      ]
    },
    {
      "cell_type": "code",
      "execution_count": 198,
      "metadata": {
        "id": "j38d8Be2HoKA",
        "colab": {
          "base_uri": "https://localhost:8080/",
          "height": 424
        },
        "outputId": "7defdfa4-5d93-4b07-9dfc-bb6ae431ce0c"
      },
      "outputs": [
        {
          "output_type": "execute_result",
          "data": {
            "text/plain": [
              "     CustomerID DateOfemail     EmailType MailOpened    MailClicked\n",
              "0        C17838  2010-10-22  WelcomeEmail        yes  NotApplicable\n",
              "1        C12403  2008-11-17  WelcomeEmail        yes  NotApplicable\n",
              "2        C19041  2011-01-24  WelcomeEmail        yes  NotApplicable\n",
              "3        C24069  2010-09-18  WelcomeEmail        yes  NotApplicable\n",
              "4        C26718  2010-10-02  WelcomeEmail        yes  NotApplicable\n",
              "...         ...         ...           ...        ...            ...\n",
              "5950     C32947  2018-01-17  WelcomeEmail        yes  NotApplicable\n",
              "5951     C28951  2018-01-17  WelcomeEmail        yes  NotApplicable\n",
              "5952     C38741  2018-01-17  WelcomeEmail        yes  NotApplicable\n",
              "5953     C20407  2018-01-17  WelcomeEmail        yes  NotApplicable\n",
              "5954     C27220  2018-01-17  WelcomeEmail        yes  NotApplicable\n",
              "\n",
              "[5955 rows x 5 columns]"
            ],
            "text/html": [
              "\n",
              "  <div id=\"df-0c8cd2b4-8bc9-4827-ae29-b55d01593bb8\">\n",
              "    <div class=\"colab-df-container\">\n",
              "      <div>\n",
              "<style scoped>\n",
              "    .dataframe tbody tr th:only-of-type {\n",
              "        vertical-align: middle;\n",
              "    }\n",
              "\n",
              "    .dataframe tbody tr th {\n",
              "        vertical-align: top;\n",
              "    }\n",
              "\n",
              "    .dataframe thead th {\n",
              "        text-align: right;\n",
              "    }\n",
              "</style>\n",
              "<table border=\"1\" class=\"dataframe\">\n",
              "  <thead>\n",
              "    <tr style=\"text-align: right;\">\n",
              "      <th></th>\n",
              "      <th>CustomerID</th>\n",
              "      <th>DateOfemail</th>\n",
              "      <th>EmailType</th>\n",
              "      <th>MailOpened</th>\n",
              "      <th>MailClicked</th>\n",
              "    </tr>\n",
              "  </thead>\n",
              "  <tbody>\n",
              "    <tr>\n",
              "      <th>0</th>\n",
              "      <td>C17838</td>\n",
              "      <td>2010-10-22</td>\n",
              "      <td>WelcomeEmail</td>\n",
              "      <td>yes</td>\n",
              "      <td>NotApplicable</td>\n",
              "    </tr>\n",
              "    <tr>\n",
              "      <th>1</th>\n",
              "      <td>C12403</td>\n",
              "      <td>2008-11-17</td>\n",
              "      <td>WelcomeEmail</td>\n",
              "      <td>yes</td>\n",
              "      <td>NotApplicable</td>\n",
              "    </tr>\n",
              "    <tr>\n",
              "      <th>2</th>\n",
              "      <td>C19041</td>\n",
              "      <td>2011-01-24</td>\n",
              "      <td>WelcomeEmail</td>\n",
              "      <td>yes</td>\n",
              "      <td>NotApplicable</td>\n",
              "    </tr>\n",
              "    <tr>\n",
              "      <th>3</th>\n",
              "      <td>C24069</td>\n",
              "      <td>2010-09-18</td>\n",
              "      <td>WelcomeEmail</td>\n",
              "      <td>yes</td>\n",
              "      <td>NotApplicable</td>\n",
              "    </tr>\n",
              "    <tr>\n",
              "      <th>4</th>\n",
              "      <td>C26718</td>\n",
              "      <td>2010-10-02</td>\n",
              "      <td>WelcomeEmail</td>\n",
              "      <td>yes</td>\n",
              "      <td>NotApplicable</td>\n",
              "    </tr>\n",
              "    <tr>\n",
              "      <th>...</th>\n",
              "      <td>...</td>\n",
              "      <td>...</td>\n",
              "      <td>...</td>\n",
              "      <td>...</td>\n",
              "      <td>...</td>\n",
              "    </tr>\n",
              "    <tr>\n",
              "      <th>5950</th>\n",
              "      <td>C32947</td>\n",
              "      <td>2018-01-17</td>\n",
              "      <td>WelcomeEmail</td>\n",
              "      <td>yes</td>\n",
              "      <td>NotApplicable</td>\n",
              "    </tr>\n",
              "    <tr>\n",
              "      <th>5951</th>\n",
              "      <td>C28951</td>\n",
              "      <td>2018-01-17</td>\n",
              "      <td>WelcomeEmail</td>\n",
              "      <td>yes</td>\n",
              "      <td>NotApplicable</td>\n",
              "    </tr>\n",
              "    <tr>\n",
              "      <th>5952</th>\n",
              "      <td>C38741</td>\n",
              "      <td>2018-01-17</td>\n",
              "      <td>WelcomeEmail</td>\n",
              "      <td>yes</td>\n",
              "      <td>NotApplicable</td>\n",
              "    </tr>\n",
              "    <tr>\n",
              "      <th>5953</th>\n",
              "      <td>C20407</td>\n",
              "      <td>2018-01-17</td>\n",
              "      <td>WelcomeEmail</td>\n",
              "      <td>yes</td>\n",
              "      <td>NotApplicable</td>\n",
              "    </tr>\n",
              "    <tr>\n",
              "      <th>5954</th>\n",
              "      <td>C27220</td>\n",
              "      <td>2018-01-17</td>\n",
              "      <td>WelcomeEmail</td>\n",
              "      <td>yes</td>\n",
              "      <td>NotApplicable</td>\n",
              "    </tr>\n",
              "  </tbody>\n",
              "</table>\n",
              "<p>5955 rows × 5 columns</p>\n",
              "</div>\n",
              "      <button class=\"colab-df-convert\" onclick=\"convertToInteractive('df-0c8cd2b4-8bc9-4827-ae29-b55d01593bb8')\"\n",
              "              title=\"Convert this dataframe to an interactive table.\"\n",
              "              style=\"display:none;\">\n",
              "        \n",
              "  <svg xmlns=\"http://www.w3.org/2000/svg\" height=\"24px\"viewBox=\"0 0 24 24\"\n",
              "       width=\"24px\">\n",
              "    <path d=\"M0 0h24v24H0V0z\" fill=\"none\"/>\n",
              "    <path d=\"M18.56 5.44l.94 2.06.94-2.06 2.06-.94-2.06-.94-.94-2.06-.94 2.06-2.06.94zm-11 1L8.5 8.5l.94-2.06 2.06-.94-2.06-.94L8.5 2.5l-.94 2.06-2.06.94zm10 10l.94 2.06.94-2.06 2.06-.94-2.06-.94-.94-2.06-.94 2.06-2.06.94z\"/><path d=\"M17.41 7.96l-1.37-1.37c-.4-.4-.92-.59-1.43-.59-.52 0-1.04.2-1.43.59L10.3 9.45l-7.72 7.72c-.78.78-.78 2.05 0 2.83L4 21.41c.39.39.9.59 1.41.59.51 0 1.02-.2 1.41-.59l7.78-7.78 2.81-2.81c.8-.78.8-2.07 0-2.86zM5.41 20L4 18.59l7.72-7.72 1.47 1.35L5.41 20z\"/>\n",
              "  </svg>\n",
              "      </button>\n",
              "      \n",
              "  <style>\n",
              "    .colab-df-container {\n",
              "      display:flex;\n",
              "      flex-wrap:wrap;\n",
              "      gap: 12px;\n",
              "    }\n",
              "\n",
              "    .colab-df-convert {\n",
              "      background-color: #E8F0FE;\n",
              "      border: none;\n",
              "      border-radius: 50%;\n",
              "      cursor: pointer;\n",
              "      display: none;\n",
              "      fill: #1967D2;\n",
              "      height: 32px;\n",
              "      padding: 0 0 0 0;\n",
              "      width: 32px;\n",
              "    }\n",
              "\n",
              "    .colab-df-convert:hover {\n",
              "      background-color: #E2EBFA;\n",
              "      box-shadow: 0px 1px 2px rgba(60, 64, 67, 0.3), 0px 1px 3px 1px rgba(60, 64, 67, 0.15);\n",
              "      fill: #174EA6;\n",
              "    }\n",
              "\n",
              "    [theme=dark] .colab-df-convert {\n",
              "      background-color: #3B4455;\n",
              "      fill: #D2E3FC;\n",
              "    }\n",
              "\n",
              "    [theme=dark] .colab-df-convert:hover {\n",
              "      background-color: #434B5C;\n",
              "      box-shadow: 0px 1px 3px 1px rgba(0, 0, 0, 0.15);\n",
              "      filter: drop-shadow(0px 1px 2px rgba(0, 0, 0, 0.3));\n",
              "      fill: #FFFFFF;\n",
              "    }\n",
              "  </style>\n",
              "\n",
              "      <script>\n",
              "        const buttonEl =\n",
              "          document.querySelector('#df-0c8cd2b4-8bc9-4827-ae29-b55d01593bb8 button.colab-df-convert');\n",
              "        buttonEl.style.display =\n",
              "          google.colab.kernel.accessAllowed ? 'block' : 'none';\n",
              "\n",
              "        async function convertToInteractive(key) {\n",
              "          const element = document.querySelector('#df-0c8cd2b4-8bc9-4827-ae29-b55d01593bb8');\n",
              "          const dataTable =\n",
              "            await google.colab.kernel.invokeFunction('convertToInteractive',\n",
              "                                                     [key], {});\n",
              "          if (!dataTable) return;\n",
              "\n",
              "          const docLinkHtml = 'Like what you see? Visit the ' +\n",
              "            '<a target=\"_blank\" href=https://colab.research.google.com/notebooks/data_table.ipynb>data table notebook</a>'\n",
              "            + ' to learn more about interactive tables.';\n",
              "          element.innerHTML = '';\n",
              "          dataTable['output_type'] = 'display_data';\n",
              "          await google.colab.output.renderOutput(dataTable, element);\n",
              "          const docLink = document.createElement('div');\n",
              "          docLink.innerHTML = docLinkHtml;\n",
              "          element.appendChild(docLink);\n",
              "        }\n",
              "      </script>\n",
              "    </div>\n",
              "  </div>\n",
              "  "
            ]
          },
          "metadata": {},
          "execution_count": 198
        }
      ],
      "source": [
        "dt4_1"
      ]
    },
    {
      "cell_type": "code",
      "execution_count": 199,
      "metadata": {
        "id": "vV7EFuW_HoKA",
        "colab": {
          "base_uri": "https://localhost:8080/"
        },
        "outputId": "e8c36583-b182-4bf0-bdae-ed1adddb1bd4"
      },
      "outputs": [
        {
          "output_type": "execute_result",
          "data": {
            "text/plain": [
              "NotApplicable    5955\n",
              "Name: MailClicked, dtype: int64"
            ]
          },
          "metadata": {},
          "execution_count": 199
        }
      ],
      "source": [
        "dt4_1['MailClicked'].value_counts()"
      ]
    },
    {
      "cell_type": "code",
      "execution_count": 200,
      "metadata": {
        "id": "yt15YpcpHoKA",
        "colab": {
          "base_uri": "https://localhost:8080/",
          "height": 424
        },
        "outputId": "83c00f11-5f72-4504-c8dc-d400199022a0"
      },
      "outputs": [
        {
          "output_type": "execute_result",
          "data": {
            "text/plain": [
              "       CustomerID DateOfemail        EmailType MailOpened MailClicked\n",
              "5955       C12403  2012-03-06  CustomizedEmail        yes          no\n",
              "5956       C12403  2009-10-13  CustomizedEmail        yes          no\n",
              "5957       C12403  2010-09-09  CustomizedEmail        yes          no\n",
              "5958       C12403  2011-02-13  CustomizedEmail        yes          no\n",
              "5959       C12403  2012-08-15  CustomizedEmail         no          no\n",
              "...           ...         ...              ...        ...         ...\n",
              "129069     C30169  2018-01-15  CustomizedEmail         no          no\n",
              "129070     C30169  2018-01-15  CustomizedEmail         no          no\n",
              "129071     C30169  2018-01-15  CustomizedEmail        yes         yes\n",
              "129072     C30169  2018-01-15  CustomizedEmail        yes          no\n",
              "129073     C30169  2018-01-15  CustomizedEmail        yes          no\n",
              "\n",
              "[123119 rows x 5 columns]"
            ],
            "text/html": [
              "\n",
              "  <div id=\"df-1513deb7-9285-4164-80e8-c604bd006e19\">\n",
              "    <div class=\"colab-df-container\">\n",
              "      <div>\n",
              "<style scoped>\n",
              "    .dataframe tbody tr th:only-of-type {\n",
              "        vertical-align: middle;\n",
              "    }\n",
              "\n",
              "    .dataframe tbody tr th {\n",
              "        vertical-align: top;\n",
              "    }\n",
              "\n",
              "    .dataframe thead th {\n",
              "        text-align: right;\n",
              "    }\n",
              "</style>\n",
              "<table border=\"1\" class=\"dataframe\">\n",
              "  <thead>\n",
              "    <tr style=\"text-align: right;\">\n",
              "      <th></th>\n",
              "      <th>CustomerID</th>\n",
              "      <th>DateOfemail</th>\n",
              "      <th>EmailType</th>\n",
              "      <th>MailOpened</th>\n",
              "      <th>MailClicked</th>\n",
              "    </tr>\n",
              "  </thead>\n",
              "  <tbody>\n",
              "    <tr>\n",
              "      <th>5955</th>\n",
              "      <td>C12403</td>\n",
              "      <td>2012-03-06</td>\n",
              "      <td>CustomizedEmail</td>\n",
              "      <td>yes</td>\n",
              "      <td>no</td>\n",
              "    </tr>\n",
              "    <tr>\n",
              "      <th>5956</th>\n",
              "      <td>C12403</td>\n",
              "      <td>2009-10-13</td>\n",
              "      <td>CustomizedEmail</td>\n",
              "      <td>yes</td>\n",
              "      <td>no</td>\n",
              "    </tr>\n",
              "    <tr>\n",
              "      <th>5957</th>\n",
              "      <td>C12403</td>\n",
              "      <td>2010-09-09</td>\n",
              "      <td>CustomizedEmail</td>\n",
              "      <td>yes</td>\n",
              "      <td>no</td>\n",
              "    </tr>\n",
              "    <tr>\n",
              "      <th>5958</th>\n",
              "      <td>C12403</td>\n",
              "      <td>2011-02-13</td>\n",
              "      <td>CustomizedEmail</td>\n",
              "      <td>yes</td>\n",
              "      <td>no</td>\n",
              "    </tr>\n",
              "    <tr>\n",
              "      <th>5959</th>\n",
              "      <td>C12403</td>\n",
              "      <td>2012-08-15</td>\n",
              "      <td>CustomizedEmail</td>\n",
              "      <td>no</td>\n",
              "      <td>no</td>\n",
              "    </tr>\n",
              "    <tr>\n",
              "      <th>...</th>\n",
              "      <td>...</td>\n",
              "      <td>...</td>\n",
              "      <td>...</td>\n",
              "      <td>...</td>\n",
              "      <td>...</td>\n",
              "    </tr>\n",
              "    <tr>\n",
              "      <th>129069</th>\n",
              "      <td>C30169</td>\n",
              "      <td>2018-01-15</td>\n",
              "      <td>CustomizedEmail</td>\n",
              "      <td>no</td>\n",
              "      <td>no</td>\n",
              "    </tr>\n",
              "    <tr>\n",
              "      <th>129070</th>\n",
              "      <td>C30169</td>\n",
              "      <td>2018-01-15</td>\n",
              "      <td>CustomizedEmail</td>\n",
              "      <td>no</td>\n",
              "      <td>no</td>\n",
              "    </tr>\n",
              "    <tr>\n",
              "      <th>129071</th>\n",
              "      <td>C30169</td>\n",
              "      <td>2018-01-15</td>\n",
              "      <td>CustomizedEmail</td>\n",
              "      <td>yes</td>\n",
              "      <td>yes</td>\n",
              "    </tr>\n",
              "    <tr>\n",
              "      <th>129072</th>\n",
              "      <td>C30169</td>\n",
              "      <td>2018-01-15</td>\n",
              "      <td>CustomizedEmail</td>\n",
              "      <td>yes</td>\n",
              "      <td>no</td>\n",
              "    </tr>\n",
              "    <tr>\n",
              "      <th>129073</th>\n",
              "      <td>C30169</td>\n",
              "      <td>2018-01-15</td>\n",
              "      <td>CustomizedEmail</td>\n",
              "      <td>yes</td>\n",
              "      <td>no</td>\n",
              "    </tr>\n",
              "  </tbody>\n",
              "</table>\n",
              "<p>123119 rows × 5 columns</p>\n",
              "</div>\n",
              "      <button class=\"colab-df-convert\" onclick=\"convertToInteractive('df-1513deb7-9285-4164-80e8-c604bd006e19')\"\n",
              "              title=\"Convert this dataframe to an interactive table.\"\n",
              "              style=\"display:none;\">\n",
              "        \n",
              "  <svg xmlns=\"http://www.w3.org/2000/svg\" height=\"24px\"viewBox=\"0 0 24 24\"\n",
              "       width=\"24px\">\n",
              "    <path d=\"M0 0h24v24H0V0z\" fill=\"none\"/>\n",
              "    <path d=\"M18.56 5.44l.94 2.06.94-2.06 2.06-.94-2.06-.94-.94-2.06-.94 2.06-2.06.94zm-11 1L8.5 8.5l.94-2.06 2.06-.94-2.06-.94L8.5 2.5l-.94 2.06-2.06.94zm10 10l.94 2.06.94-2.06 2.06-.94-2.06-.94-.94-2.06-.94 2.06-2.06.94z\"/><path d=\"M17.41 7.96l-1.37-1.37c-.4-.4-.92-.59-1.43-.59-.52 0-1.04.2-1.43.59L10.3 9.45l-7.72 7.72c-.78.78-.78 2.05 0 2.83L4 21.41c.39.39.9.59 1.41.59.51 0 1.02-.2 1.41-.59l7.78-7.78 2.81-2.81c.8-.78.8-2.07 0-2.86zM5.41 20L4 18.59l7.72-7.72 1.47 1.35L5.41 20z\"/>\n",
              "  </svg>\n",
              "      </button>\n",
              "      \n",
              "  <style>\n",
              "    .colab-df-container {\n",
              "      display:flex;\n",
              "      flex-wrap:wrap;\n",
              "      gap: 12px;\n",
              "    }\n",
              "\n",
              "    .colab-df-convert {\n",
              "      background-color: #E8F0FE;\n",
              "      border: none;\n",
              "      border-radius: 50%;\n",
              "      cursor: pointer;\n",
              "      display: none;\n",
              "      fill: #1967D2;\n",
              "      height: 32px;\n",
              "      padding: 0 0 0 0;\n",
              "      width: 32px;\n",
              "    }\n",
              "\n",
              "    .colab-df-convert:hover {\n",
              "      background-color: #E2EBFA;\n",
              "      box-shadow: 0px 1px 2px rgba(60, 64, 67, 0.3), 0px 1px 3px 1px rgba(60, 64, 67, 0.15);\n",
              "      fill: #174EA6;\n",
              "    }\n",
              "\n",
              "    [theme=dark] .colab-df-convert {\n",
              "      background-color: #3B4455;\n",
              "      fill: #D2E3FC;\n",
              "    }\n",
              "\n",
              "    [theme=dark] .colab-df-convert:hover {\n",
              "      background-color: #434B5C;\n",
              "      box-shadow: 0px 1px 3px 1px rgba(0, 0, 0, 0.15);\n",
              "      filter: drop-shadow(0px 1px 2px rgba(0, 0, 0, 0.3));\n",
              "      fill: #FFFFFF;\n",
              "    }\n",
              "  </style>\n",
              "\n",
              "      <script>\n",
              "        const buttonEl =\n",
              "          document.querySelector('#df-1513deb7-9285-4164-80e8-c604bd006e19 button.colab-df-convert');\n",
              "        buttonEl.style.display =\n",
              "          google.colab.kernel.accessAllowed ? 'block' : 'none';\n",
              "\n",
              "        async function convertToInteractive(key) {\n",
              "          const element = document.querySelector('#df-1513deb7-9285-4164-80e8-c604bd006e19');\n",
              "          const dataTable =\n",
              "            await google.colab.kernel.invokeFunction('convertToInteractive',\n",
              "                                                     [key], {});\n",
              "          if (!dataTable) return;\n",
              "\n",
              "          const docLinkHtml = 'Like what you see? Visit the ' +\n",
              "            '<a target=\"_blank\" href=https://colab.research.google.com/notebooks/data_table.ipynb>data table notebook</a>'\n",
              "            + ' to learn more about interactive tables.';\n",
              "          element.innerHTML = '';\n",
              "          dataTable['output_type'] = 'display_data';\n",
              "          await google.colab.output.renderOutput(dataTable, element);\n",
              "          const docLink = document.createElement('div');\n",
              "          docLink.innerHTML = docLinkHtml;\n",
              "          element.appendChild(docLink);\n",
              "        }\n",
              "      </script>\n",
              "    </div>\n",
              "  </div>\n",
              "  "
            ]
          },
          "metadata": {},
          "execution_count": 200
        }
      ],
      "source": [
        "dt4_2 = dt4.loc[dt4['EmailType'] == 'CustomizedEmail']\n",
        "dt4_2"
      ]
    },
    {
      "cell_type": "code",
      "execution_count": 201,
      "metadata": {
        "id": "xrXTMm1DHoKA",
        "colab": {
          "base_uri": "https://localhost:8080/"
        },
        "outputId": "1005bb76-bf0c-40e7-ec5f-a1e8e68e9f43"
      },
      "outputs": [
        {
          "output_type": "execute_result",
          "data": {
            "text/plain": [
              "no     116201\n",
              "yes      6918\n",
              "Name: MailClicked, dtype: int64"
            ]
          },
          "metadata": {},
          "execution_count": 201
        }
      ],
      "source": [
        "dt4_2['MailClicked'].value_counts()"
      ]
    },
    {
      "cell_type": "code",
      "execution_count": 202,
      "metadata": {
        "id": "WZwCi5eMHoKA"
      },
      "outputs": [],
      "source": [
        "test2 = dt4_2.groupby(['CustomerID'])['EmailType'].agg('count').reset_index()"
      ]
    },
    {
      "cell_type": "code",
      "execution_count": 203,
      "metadata": {
        "id": "2Yh8cUVDHoKA",
        "colab": {
          "base_uri": "https://localhost:8080/",
          "height": 424
        },
        "outputId": "5cc0c4a6-2963-45ae-a3a4-b532fbf6da59"
      },
      "outputs": [
        {
          "output_type": "execute_result",
          "data": {
            "text/plain": [
              "     CustomerID  EmailType\n",
              "0        C12121         24\n",
              "1        C12135         29\n",
              "2        C12136         41\n",
              "3        C12157         27\n",
              "4        C12163         46\n",
              "...         ...        ...\n",
              "3493     C42147         36\n",
              "3494     C42148         46\n",
              "3495     C42151         45\n",
              "3496     C42153         10\n",
              "3497     C42167         49\n",
              "\n",
              "[3498 rows x 2 columns]"
            ],
            "text/html": [
              "\n",
              "  <div id=\"df-606b14bd-33b7-46f8-8f49-41003256a1da\">\n",
              "    <div class=\"colab-df-container\">\n",
              "      <div>\n",
              "<style scoped>\n",
              "    .dataframe tbody tr th:only-of-type {\n",
              "        vertical-align: middle;\n",
              "    }\n",
              "\n",
              "    .dataframe tbody tr th {\n",
              "        vertical-align: top;\n",
              "    }\n",
              "\n",
              "    .dataframe thead th {\n",
              "        text-align: right;\n",
              "    }\n",
              "</style>\n",
              "<table border=\"1\" class=\"dataframe\">\n",
              "  <thead>\n",
              "    <tr style=\"text-align: right;\">\n",
              "      <th></th>\n",
              "      <th>CustomerID</th>\n",
              "      <th>EmailType</th>\n",
              "    </tr>\n",
              "  </thead>\n",
              "  <tbody>\n",
              "    <tr>\n",
              "      <th>0</th>\n",
              "      <td>C12121</td>\n",
              "      <td>24</td>\n",
              "    </tr>\n",
              "    <tr>\n",
              "      <th>1</th>\n",
              "      <td>C12135</td>\n",
              "      <td>29</td>\n",
              "    </tr>\n",
              "    <tr>\n",
              "      <th>2</th>\n",
              "      <td>C12136</td>\n",
              "      <td>41</td>\n",
              "    </tr>\n",
              "    <tr>\n",
              "      <th>3</th>\n",
              "      <td>C12157</td>\n",
              "      <td>27</td>\n",
              "    </tr>\n",
              "    <tr>\n",
              "      <th>4</th>\n",
              "      <td>C12163</td>\n",
              "      <td>46</td>\n",
              "    </tr>\n",
              "    <tr>\n",
              "      <th>...</th>\n",
              "      <td>...</td>\n",
              "      <td>...</td>\n",
              "    </tr>\n",
              "    <tr>\n",
              "      <th>3493</th>\n",
              "      <td>C42147</td>\n",
              "      <td>36</td>\n",
              "    </tr>\n",
              "    <tr>\n",
              "      <th>3494</th>\n",
              "      <td>C42148</td>\n",
              "      <td>46</td>\n",
              "    </tr>\n",
              "    <tr>\n",
              "      <th>3495</th>\n",
              "      <td>C42151</td>\n",
              "      <td>45</td>\n",
              "    </tr>\n",
              "    <tr>\n",
              "      <th>3496</th>\n",
              "      <td>C42153</td>\n",
              "      <td>10</td>\n",
              "    </tr>\n",
              "    <tr>\n",
              "      <th>3497</th>\n",
              "      <td>C42167</td>\n",
              "      <td>49</td>\n",
              "    </tr>\n",
              "  </tbody>\n",
              "</table>\n",
              "<p>3498 rows × 2 columns</p>\n",
              "</div>\n",
              "      <button class=\"colab-df-convert\" onclick=\"convertToInteractive('df-606b14bd-33b7-46f8-8f49-41003256a1da')\"\n",
              "              title=\"Convert this dataframe to an interactive table.\"\n",
              "              style=\"display:none;\">\n",
              "        \n",
              "  <svg xmlns=\"http://www.w3.org/2000/svg\" height=\"24px\"viewBox=\"0 0 24 24\"\n",
              "       width=\"24px\">\n",
              "    <path d=\"M0 0h24v24H0V0z\" fill=\"none\"/>\n",
              "    <path d=\"M18.56 5.44l.94 2.06.94-2.06 2.06-.94-2.06-.94-.94-2.06-.94 2.06-2.06.94zm-11 1L8.5 8.5l.94-2.06 2.06-.94-2.06-.94L8.5 2.5l-.94 2.06-2.06.94zm10 10l.94 2.06.94-2.06 2.06-.94-2.06-.94-.94-2.06-.94 2.06-2.06.94z\"/><path d=\"M17.41 7.96l-1.37-1.37c-.4-.4-.92-.59-1.43-.59-.52 0-1.04.2-1.43.59L10.3 9.45l-7.72 7.72c-.78.78-.78 2.05 0 2.83L4 21.41c.39.39.9.59 1.41.59.51 0 1.02-.2 1.41-.59l7.78-7.78 2.81-2.81c.8-.78.8-2.07 0-2.86zM5.41 20L4 18.59l7.72-7.72 1.47 1.35L5.41 20z\"/>\n",
              "  </svg>\n",
              "      </button>\n",
              "      \n",
              "  <style>\n",
              "    .colab-df-container {\n",
              "      display:flex;\n",
              "      flex-wrap:wrap;\n",
              "      gap: 12px;\n",
              "    }\n",
              "\n",
              "    .colab-df-convert {\n",
              "      background-color: #E8F0FE;\n",
              "      border: none;\n",
              "      border-radius: 50%;\n",
              "      cursor: pointer;\n",
              "      display: none;\n",
              "      fill: #1967D2;\n",
              "      height: 32px;\n",
              "      padding: 0 0 0 0;\n",
              "      width: 32px;\n",
              "    }\n",
              "\n",
              "    .colab-df-convert:hover {\n",
              "      background-color: #E2EBFA;\n",
              "      box-shadow: 0px 1px 2px rgba(60, 64, 67, 0.3), 0px 1px 3px 1px rgba(60, 64, 67, 0.15);\n",
              "      fill: #174EA6;\n",
              "    }\n",
              "\n",
              "    [theme=dark] .colab-df-convert {\n",
              "      background-color: #3B4455;\n",
              "      fill: #D2E3FC;\n",
              "    }\n",
              "\n",
              "    [theme=dark] .colab-df-convert:hover {\n",
              "      background-color: #434B5C;\n",
              "      box-shadow: 0px 1px 3px 1px rgba(0, 0, 0, 0.15);\n",
              "      filter: drop-shadow(0px 1px 2px rgba(0, 0, 0, 0.3));\n",
              "      fill: #FFFFFF;\n",
              "    }\n",
              "  </style>\n",
              "\n",
              "      <script>\n",
              "        const buttonEl =\n",
              "          document.querySelector('#df-606b14bd-33b7-46f8-8f49-41003256a1da button.colab-df-convert');\n",
              "        buttonEl.style.display =\n",
              "          google.colab.kernel.accessAllowed ? 'block' : 'none';\n",
              "\n",
              "        async function convertToInteractive(key) {\n",
              "          const element = document.querySelector('#df-606b14bd-33b7-46f8-8f49-41003256a1da');\n",
              "          const dataTable =\n",
              "            await google.colab.kernel.invokeFunction('convertToInteractive',\n",
              "                                                     [key], {});\n",
              "          if (!dataTable) return;\n",
              "\n",
              "          const docLinkHtml = 'Like what you see? Visit the ' +\n",
              "            '<a target=\"_blank\" href=https://colab.research.google.com/notebooks/data_table.ipynb>data table notebook</a>'\n",
              "            + ' to learn more about interactive tables.';\n",
              "          element.innerHTML = '';\n",
              "          dataTable['output_type'] = 'display_data';\n",
              "          await google.colab.output.renderOutput(dataTable, element);\n",
              "          const docLink = document.createElement('div');\n",
              "          docLink.innerHTML = docLinkHtml;\n",
              "          element.appendChild(docLink);\n",
              "        }\n",
              "      </script>\n",
              "    </div>\n",
              "  </div>\n",
              "  "
            ]
          },
          "metadata": {},
          "execution_count": 203
        }
      ],
      "source": [
        "test2"
      ]
    },
    {
      "cell_type": "code",
      "execution_count": 204,
      "metadata": {
        "id": "QuyLQ-qXHoKA",
        "colab": {
          "base_uri": "https://localhost:8080/",
          "height": 206
        },
        "outputId": "877779bb-362a-4df6-b7e4-fefde937ef41"
      },
      "outputs": [
        {
          "output_type": "execute_result",
          "data": {
            "text/plain": [
              "  CustomerID DateOfemail   EmailType_x MailOpened    MailClicked  EmailType_y\n",
              "0     C17838  2010-10-22  WelcomeEmail        yes  NotApplicable          NaN\n",
              "1     C12403  2008-11-17  WelcomeEmail        yes  NotApplicable         46.0\n",
              "2     C19041  2011-01-24  WelcomeEmail        yes  NotApplicable         60.0\n",
              "3     C24069  2010-09-18  WelcomeEmail        yes  NotApplicable         45.0\n",
              "4     C26718  2010-10-02  WelcomeEmail        yes  NotApplicable         13.0"
            ],
            "text/html": [
              "\n",
              "  <div id=\"df-01e59da6-1168-4c4e-8d9a-117ac281ea1c\">\n",
              "    <div class=\"colab-df-container\">\n",
              "      <div>\n",
              "<style scoped>\n",
              "    .dataframe tbody tr th:only-of-type {\n",
              "        vertical-align: middle;\n",
              "    }\n",
              "\n",
              "    .dataframe tbody tr th {\n",
              "        vertical-align: top;\n",
              "    }\n",
              "\n",
              "    .dataframe thead th {\n",
              "        text-align: right;\n",
              "    }\n",
              "</style>\n",
              "<table border=\"1\" class=\"dataframe\">\n",
              "  <thead>\n",
              "    <tr style=\"text-align: right;\">\n",
              "      <th></th>\n",
              "      <th>CustomerID</th>\n",
              "      <th>DateOfemail</th>\n",
              "      <th>EmailType_x</th>\n",
              "      <th>MailOpened</th>\n",
              "      <th>MailClicked</th>\n",
              "      <th>EmailType_y</th>\n",
              "    </tr>\n",
              "  </thead>\n",
              "  <tbody>\n",
              "    <tr>\n",
              "      <th>0</th>\n",
              "      <td>C17838</td>\n",
              "      <td>2010-10-22</td>\n",
              "      <td>WelcomeEmail</td>\n",
              "      <td>yes</td>\n",
              "      <td>NotApplicable</td>\n",
              "      <td>NaN</td>\n",
              "    </tr>\n",
              "    <tr>\n",
              "      <th>1</th>\n",
              "      <td>C12403</td>\n",
              "      <td>2008-11-17</td>\n",
              "      <td>WelcomeEmail</td>\n",
              "      <td>yes</td>\n",
              "      <td>NotApplicable</td>\n",
              "      <td>46.0</td>\n",
              "    </tr>\n",
              "    <tr>\n",
              "      <th>2</th>\n",
              "      <td>C19041</td>\n",
              "      <td>2011-01-24</td>\n",
              "      <td>WelcomeEmail</td>\n",
              "      <td>yes</td>\n",
              "      <td>NotApplicable</td>\n",
              "      <td>60.0</td>\n",
              "    </tr>\n",
              "    <tr>\n",
              "      <th>3</th>\n",
              "      <td>C24069</td>\n",
              "      <td>2010-09-18</td>\n",
              "      <td>WelcomeEmail</td>\n",
              "      <td>yes</td>\n",
              "      <td>NotApplicable</td>\n",
              "      <td>45.0</td>\n",
              "    </tr>\n",
              "    <tr>\n",
              "      <th>4</th>\n",
              "      <td>C26718</td>\n",
              "      <td>2010-10-02</td>\n",
              "      <td>WelcomeEmail</td>\n",
              "      <td>yes</td>\n",
              "      <td>NotApplicable</td>\n",
              "      <td>13.0</td>\n",
              "    </tr>\n",
              "  </tbody>\n",
              "</table>\n",
              "</div>\n",
              "      <button class=\"colab-df-convert\" onclick=\"convertToInteractive('df-01e59da6-1168-4c4e-8d9a-117ac281ea1c')\"\n",
              "              title=\"Convert this dataframe to an interactive table.\"\n",
              "              style=\"display:none;\">\n",
              "        \n",
              "  <svg xmlns=\"http://www.w3.org/2000/svg\" height=\"24px\"viewBox=\"0 0 24 24\"\n",
              "       width=\"24px\">\n",
              "    <path d=\"M0 0h24v24H0V0z\" fill=\"none\"/>\n",
              "    <path d=\"M18.56 5.44l.94 2.06.94-2.06 2.06-.94-2.06-.94-.94-2.06-.94 2.06-2.06.94zm-11 1L8.5 8.5l.94-2.06 2.06-.94-2.06-.94L8.5 2.5l-.94 2.06-2.06.94zm10 10l.94 2.06.94-2.06 2.06-.94-2.06-.94-.94-2.06-.94 2.06-2.06.94z\"/><path d=\"M17.41 7.96l-1.37-1.37c-.4-.4-.92-.59-1.43-.59-.52 0-1.04.2-1.43.59L10.3 9.45l-7.72 7.72c-.78.78-.78 2.05 0 2.83L4 21.41c.39.39.9.59 1.41.59.51 0 1.02-.2 1.41-.59l7.78-7.78 2.81-2.81c.8-.78.8-2.07 0-2.86zM5.41 20L4 18.59l7.72-7.72 1.47 1.35L5.41 20z\"/>\n",
              "  </svg>\n",
              "      </button>\n",
              "      \n",
              "  <style>\n",
              "    .colab-df-container {\n",
              "      display:flex;\n",
              "      flex-wrap:wrap;\n",
              "      gap: 12px;\n",
              "    }\n",
              "\n",
              "    .colab-df-convert {\n",
              "      background-color: #E8F0FE;\n",
              "      border: none;\n",
              "      border-radius: 50%;\n",
              "      cursor: pointer;\n",
              "      display: none;\n",
              "      fill: #1967D2;\n",
              "      height: 32px;\n",
              "      padding: 0 0 0 0;\n",
              "      width: 32px;\n",
              "    }\n",
              "\n",
              "    .colab-df-convert:hover {\n",
              "      background-color: #E2EBFA;\n",
              "      box-shadow: 0px 1px 2px rgba(60, 64, 67, 0.3), 0px 1px 3px 1px rgba(60, 64, 67, 0.15);\n",
              "      fill: #174EA6;\n",
              "    }\n",
              "\n",
              "    [theme=dark] .colab-df-convert {\n",
              "      background-color: #3B4455;\n",
              "      fill: #D2E3FC;\n",
              "    }\n",
              "\n",
              "    [theme=dark] .colab-df-convert:hover {\n",
              "      background-color: #434B5C;\n",
              "      box-shadow: 0px 1px 3px 1px rgba(0, 0, 0, 0.15);\n",
              "      filter: drop-shadow(0px 1px 2px rgba(0, 0, 0, 0.3));\n",
              "      fill: #FFFFFF;\n",
              "    }\n",
              "  </style>\n",
              "\n",
              "      <script>\n",
              "        const buttonEl =\n",
              "          document.querySelector('#df-01e59da6-1168-4c4e-8d9a-117ac281ea1c button.colab-df-convert');\n",
              "        buttonEl.style.display =\n",
              "          google.colab.kernel.accessAllowed ? 'block' : 'none';\n",
              "\n",
              "        async function convertToInteractive(key) {\n",
              "          const element = document.querySelector('#df-01e59da6-1168-4c4e-8d9a-117ac281ea1c');\n",
              "          const dataTable =\n",
              "            await google.colab.kernel.invokeFunction('convertToInteractive',\n",
              "                                                     [key], {});\n",
              "          if (!dataTable) return;\n",
              "\n",
              "          const docLinkHtml = 'Like what you see? Visit the ' +\n",
              "            '<a target=\"_blank\" href=https://colab.research.google.com/notebooks/data_table.ipynb>data table notebook</a>'\n",
              "            + ' to learn more about interactive tables.';\n",
              "          element.innerHTML = '';\n",
              "          dataTable['output_type'] = 'display_data';\n",
              "          await google.colab.output.renderOutput(dataTable, element);\n",
              "          const docLink = document.createElement('div');\n",
              "          docLink.innerHTML = docLinkHtml;\n",
              "          element.appendChild(docLink);\n",
              "        }\n",
              "      </script>\n",
              "    </div>\n",
              "  </div>\n",
              "  "
            ]
          },
          "metadata": {},
          "execution_count": 204
        }
      ],
      "source": [
        "dtest3 = pd.merge(dt4_1,test2,on=['CustomerID'],how='outer')\n",
        "dtest3.head()"
      ]
    },
    {
      "cell_type": "code",
      "execution_count": 205,
      "metadata": {
        "id": "c47AKar5HoKA"
      },
      "outputs": [],
      "source": [
        "dtest3 = dtest3.rename(columns={'EmailType_x':'EmailType','EmailType_y':'CustomMails'})"
      ]
    },
    {
      "cell_type": "code",
      "execution_count": 206,
      "metadata": {
        "id": "ivQBas1rHoKA",
        "colab": {
          "base_uri": "https://localhost:8080/",
          "height": 206
        },
        "outputId": "cee090ca-d219-495f-a96a-e2b144ed5dbe"
      },
      "outputs": [
        {
          "output_type": "execute_result",
          "data": {
            "text/plain": [
              "  CustomerID DateOfemail     EmailType MailOpened    MailClicked  CustomMails\n",
              "0     C17838  2010-10-22  WelcomeEmail        yes  NotApplicable          NaN\n",
              "1     C12403  2008-11-17  WelcomeEmail        yes  NotApplicable         46.0\n",
              "2     C19041  2011-01-24  WelcomeEmail        yes  NotApplicable         60.0\n",
              "3     C24069  2010-09-18  WelcomeEmail        yes  NotApplicable         45.0\n",
              "4     C26718  2010-10-02  WelcomeEmail        yes  NotApplicable         13.0"
            ],
            "text/html": [
              "\n",
              "  <div id=\"df-1b8d4f4f-7711-42df-ae84-5c6a805429ec\">\n",
              "    <div class=\"colab-df-container\">\n",
              "      <div>\n",
              "<style scoped>\n",
              "    .dataframe tbody tr th:only-of-type {\n",
              "        vertical-align: middle;\n",
              "    }\n",
              "\n",
              "    .dataframe tbody tr th {\n",
              "        vertical-align: top;\n",
              "    }\n",
              "\n",
              "    .dataframe thead th {\n",
              "        text-align: right;\n",
              "    }\n",
              "</style>\n",
              "<table border=\"1\" class=\"dataframe\">\n",
              "  <thead>\n",
              "    <tr style=\"text-align: right;\">\n",
              "      <th></th>\n",
              "      <th>CustomerID</th>\n",
              "      <th>DateOfemail</th>\n",
              "      <th>EmailType</th>\n",
              "      <th>MailOpened</th>\n",
              "      <th>MailClicked</th>\n",
              "      <th>CustomMails</th>\n",
              "    </tr>\n",
              "  </thead>\n",
              "  <tbody>\n",
              "    <tr>\n",
              "      <th>0</th>\n",
              "      <td>C17838</td>\n",
              "      <td>2010-10-22</td>\n",
              "      <td>WelcomeEmail</td>\n",
              "      <td>yes</td>\n",
              "      <td>NotApplicable</td>\n",
              "      <td>NaN</td>\n",
              "    </tr>\n",
              "    <tr>\n",
              "      <th>1</th>\n",
              "      <td>C12403</td>\n",
              "      <td>2008-11-17</td>\n",
              "      <td>WelcomeEmail</td>\n",
              "      <td>yes</td>\n",
              "      <td>NotApplicable</td>\n",
              "      <td>46.0</td>\n",
              "    </tr>\n",
              "    <tr>\n",
              "      <th>2</th>\n",
              "      <td>C19041</td>\n",
              "      <td>2011-01-24</td>\n",
              "      <td>WelcomeEmail</td>\n",
              "      <td>yes</td>\n",
              "      <td>NotApplicable</td>\n",
              "      <td>60.0</td>\n",
              "    </tr>\n",
              "    <tr>\n",
              "      <th>3</th>\n",
              "      <td>C24069</td>\n",
              "      <td>2010-09-18</td>\n",
              "      <td>WelcomeEmail</td>\n",
              "      <td>yes</td>\n",
              "      <td>NotApplicable</td>\n",
              "      <td>45.0</td>\n",
              "    </tr>\n",
              "    <tr>\n",
              "      <th>4</th>\n",
              "      <td>C26718</td>\n",
              "      <td>2010-10-02</td>\n",
              "      <td>WelcomeEmail</td>\n",
              "      <td>yes</td>\n",
              "      <td>NotApplicable</td>\n",
              "      <td>13.0</td>\n",
              "    </tr>\n",
              "  </tbody>\n",
              "</table>\n",
              "</div>\n",
              "      <button class=\"colab-df-convert\" onclick=\"convertToInteractive('df-1b8d4f4f-7711-42df-ae84-5c6a805429ec')\"\n",
              "              title=\"Convert this dataframe to an interactive table.\"\n",
              "              style=\"display:none;\">\n",
              "        \n",
              "  <svg xmlns=\"http://www.w3.org/2000/svg\" height=\"24px\"viewBox=\"0 0 24 24\"\n",
              "       width=\"24px\">\n",
              "    <path d=\"M0 0h24v24H0V0z\" fill=\"none\"/>\n",
              "    <path d=\"M18.56 5.44l.94 2.06.94-2.06 2.06-.94-2.06-.94-.94-2.06-.94 2.06-2.06.94zm-11 1L8.5 8.5l.94-2.06 2.06-.94-2.06-.94L8.5 2.5l-.94 2.06-2.06.94zm10 10l.94 2.06.94-2.06 2.06-.94-2.06-.94-.94-2.06-.94 2.06-2.06.94z\"/><path d=\"M17.41 7.96l-1.37-1.37c-.4-.4-.92-.59-1.43-.59-.52 0-1.04.2-1.43.59L10.3 9.45l-7.72 7.72c-.78.78-.78 2.05 0 2.83L4 21.41c.39.39.9.59 1.41.59.51 0 1.02-.2 1.41-.59l7.78-7.78 2.81-2.81c.8-.78.8-2.07 0-2.86zM5.41 20L4 18.59l7.72-7.72 1.47 1.35L5.41 20z\"/>\n",
              "  </svg>\n",
              "      </button>\n",
              "      \n",
              "  <style>\n",
              "    .colab-df-container {\n",
              "      display:flex;\n",
              "      flex-wrap:wrap;\n",
              "      gap: 12px;\n",
              "    }\n",
              "\n",
              "    .colab-df-convert {\n",
              "      background-color: #E8F0FE;\n",
              "      border: none;\n",
              "      border-radius: 50%;\n",
              "      cursor: pointer;\n",
              "      display: none;\n",
              "      fill: #1967D2;\n",
              "      height: 32px;\n",
              "      padding: 0 0 0 0;\n",
              "      width: 32px;\n",
              "    }\n",
              "\n",
              "    .colab-df-convert:hover {\n",
              "      background-color: #E2EBFA;\n",
              "      box-shadow: 0px 1px 2px rgba(60, 64, 67, 0.3), 0px 1px 3px 1px rgba(60, 64, 67, 0.15);\n",
              "      fill: #174EA6;\n",
              "    }\n",
              "\n",
              "    [theme=dark] .colab-df-convert {\n",
              "      background-color: #3B4455;\n",
              "      fill: #D2E3FC;\n",
              "    }\n",
              "\n",
              "    [theme=dark] .colab-df-convert:hover {\n",
              "      background-color: #434B5C;\n",
              "      box-shadow: 0px 1px 3px 1px rgba(0, 0, 0, 0.15);\n",
              "      filter: drop-shadow(0px 1px 2px rgba(0, 0, 0, 0.3));\n",
              "      fill: #FFFFFF;\n",
              "    }\n",
              "  </style>\n",
              "\n",
              "      <script>\n",
              "        const buttonEl =\n",
              "          document.querySelector('#df-1b8d4f4f-7711-42df-ae84-5c6a805429ec button.colab-df-convert');\n",
              "        buttonEl.style.display =\n",
              "          google.colab.kernel.accessAllowed ? 'block' : 'none';\n",
              "\n",
              "        async function convertToInteractive(key) {\n",
              "          const element = document.querySelector('#df-1b8d4f4f-7711-42df-ae84-5c6a805429ec');\n",
              "          const dataTable =\n",
              "            await google.colab.kernel.invokeFunction('convertToInteractive',\n",
              "                                                     [key], {});\n",
              "          if (!dataTable) return;\n",
              "\n",
              "          const docLinkHtml = 'Like what you see? Visit the ' +\n",
              "            '<a target=\"_blank\" href=https://colab.research.google.com/notebooks/data_table.ipynb>data table notebook</a>'\n",
              "            + ' to learn more about interactive tables.';\n",
              "          element.innerHTML = '';\n",
              "          dataTable['output_type'] = 'display_data';\n",
              "          await google.colab.output.renderOutput(dataTable, element);\n",
              "          const docLink = document.createElement('div');\n",
              "          docLink.innerHTML = docLinkHtml;\n",
              "          element.appendChild(docLink);\n",
              "        }\n",
              "      </script>\n",
              "    </div>\n",
              "  </div>\n",
              "  "
            ]
          },
          "metadata": {},
          "execution_count": 206
        }
      ],
      "source": [
        "dtest3.head()"
      ]
    },
    {
      "cell_type": "code",
      "execution_count": 207,
      "metadata": {
        "id": "ECQumPwyHoKA",
        "colab": {
          "base_uri": "https://localhost:8080/",
          "height": 206
        },
        "outputId": "d80e10a2-0946-49f6-f3d5-77acefc3ae09"
      },
      "outputs": [
        {
          "output_type": "execute_result",
          "data": {
            "text/plain": [
              "     CustomerID DateOfemail        EmailType MailOpened MailClicked\n",
              "5955     C12403  2012-03-06  CustomizedEmail        yes          no\n",
              "5956     C12403  2009-10-13  CustomizedEmail        yes          no\n",
              "5957     C12403  2010-09-09  CustomizedEmail        yes          no\n",
              "5958     C12403  2011-02-13  CustomizedEmail        yes          no\n",
              "5959     C12403  2012-08-15  CustomizedEmail         no          no"
            ],
            "text/html": [
              "\n",
              "  <div id=\"df-68da0dc8-5e66-4e92-a61f-79eff3b90766\">\n",
              "    <div class=\"colab-df-container\">\n",
              "      <div>\n",
              "<style scoped>\n",
              "    .dataframe tbody tr th:only-of-type {\n",
              "        vertical-align: middle;\n",
              "    }\n",
              "\n",
              "    .dataframe tbody tr th {\n",
              "        vertical-align: top;\n",
              "    }\n",
              "\n",
              "    .dataframe thead th {\n",
              "        text-align: right;\n",
              "    }\n",
              "</style>\n",
              "<table border=\"1\" class=\"dataframe\">\n",
              "  <thead>\n",
              "    <tr style=\"text-align: right;\">\n",
              "      <th></th>\n",
              "      <th>CustomerID</th>\n",
              "      <th>DateOfemail</th>\n",
              "      <th>EmailType</th>\n",
              "      <th>MailOpened</th>\n",
              "      <th>MailClicked</th>\n",
              "    </tr>\n",
              "  </thead>\n",
              "  <tbody>\n",
              "    <tr>\n",
              "      <th>5955</th>\n",
              "      <td>C12403</td>\n",
              "      <td>2012-03-06</td>\n",
              "      <td>CustomizedEmail</td>\n",
              "      <td>yes</td>\n",
              "      <td>no</td>\n",
              "    </tr>\n",
              "    <tr>\n",
              "      <th>5956</th>\n",
              "      <td>C12403</td>\n",
              "      <td>2009-10-13</td>\n",
              "      <td>CustomizedEmail</td>\n",
              "      <td>yes</td>\n",
              "      <td>no</td>\n",
              "    </tr>\n",
              "    <tr>\n",
              "      <th>5957</th>\n",
              "      <td>C12403</td>\n",
              "      <td>2010-09-09</td>\n",
              "      <td>CustomizedEmail</td>\n",
              "      <td>yes</td>\n",
              "      <td>no</td>\n",
              "    </tr>\n",
              "    <tr>\n",
              "      <th>5958</th>\n",
              "      <td>C12403</td>\n",
              "      <td>2011-02-13</td>\n",
              "      <td>CustomizedEmail</td>\n",
              "      <td>yes</td>\n",
              "      <td>no</td>\n",
              "    </tr>\n",
              "    <tr>\n",
              "      <th>5959</th>\n",
              "      <td>C12403</td>\n",
              "      <td>2012-08-15</td>\n",
              "      <td>CustomizedEmail</td>\n",
              "      <td>no</td>\n",
              "      <td>no</td>\n",
              "    </tr>\n",
              "  </tbody>\n",
              "</table>\n",
              "</div>\n",
              "      <button class=\"colab-df-convert\" onclick=\"convertToInteractive('df-68da0dc8-5e66-4e92-a61f-79eff3b90766')\"\n",
              "              title=\"Convert this dataframe to an interactive table.\"\n",
              "              style=\"display:none;\">\n",
              "        \n",
              "  <svg xmlns=\"http://www.w3.org/2000/svg\" height=\"24px\"viewBox=\"0 0 24 24\"\n",
              "       width=\"24px\">\n",
              "    <path d=\"M0 0h24v24H0V0z\" fill=\"none\"/>\n",
              "    <path d=\"M18.56 5.44l.94 2.06.94-2.06 2.06-.94-2.06-.94-.94-2.06-.94 2.06-2.06.94zm-11 1L8.5 8.5l.94-2.06 2.06-.94-2.06-.94L8.5 2.5l-.94 2.06-2.06.94zm10 10l.94 2.06.94-2.06 2.06-.94-2.06-.94-.94-2.06-.94 2.06-2.06.94z\"/><path d=\"M17.41 7.96l-1.37-1.37c-.4-.4-.92-.59-1.43-.59-.52 0-1.04.2-1.43.59L10.3 9.45l-7.72 7.72c-.78.78-.78 2.05 0 2.83L4 21.41c.39.39.9.59 1.41.59.51 0 1.02-.2 1.41-.59l7.78-7.78 2.81-2.81c.8-.78.8-2.07 0-2.86zM5.41 20L4 18.59l7.72-7.72 1.47 1.35L5.41 20z\"/>\n",
              "  </svg>\n",
              "      </button>\n",
              "      \n",
              "  <style>\n",
              "    .colab-df-container {\n",
              "      display:flex;\n",
              "      flex-wrap:wrap;\n",
              "      gap: 12px;\n",
              "    }\n",
              "\n",
              "    .colab-df-convert {\n",
              "      background-color: #E8F0FE;\n",
              "      border: none;\n",
              "      border-radius: 50%;\n",
              "      cursor: pointer;\n",
              "      display: none;\n",
              "      fill: #1967D2;\n",
              "      height: 32px;\n",
              "      padding: 0 0 0 0;\n",
              "      width: 32px;\n",
              "    }\n",
              "\n",
              "    .colab-df-convert:hover {\n",
              "      background-color: #E2EBFA;\n",
              "      box-shadow: 0px 1px 2px rgba(60, 64, 67, 0.3), 0px 1px 3px 1px rgba(60, 64, 67, 0.15);\n",
              "      fill: #174EA6;\n",
              "    }\n",
              "\n",
              "    [theme=dark] .colab-df-convert {\n",
              "      background-color: #3B4455;\n",
              "      fill: #D2E3FC;\n",
              "    }\n",
              "\n",
              "    [theme=dark] .colab-df-convert:hover {\n",
              "      background-color: #434B5C;\n",
              "      box-shadow: 0px 1px 3px 1px rgba(0, 0, 0, 0.15);\n",
              "      filter: drop-shadow(0px 1px 2px rgba(0, 0, 0, 0.3));\n",
              "      fill: #FFFFFF;\n",
              "    }\n",
              "  </style>\n",
              "\n",
              "      <script>\n",
              "        const buttonEl =\n",
              "          document.querySelector('#df-68da0dc8-5e66-4e92-a61f-79eff3b90766 button.colab-df-convert');\n",
              "        buttonEl.style.display =\n",
              "          google.colab.kernel.accessAllowed ? 'block' : 'none';\n",
              "\n",
              "        async function convertToInteractive(key) {\n",
              "          const element = document.querySelector('#df-68da0dc8-5e66-4e92-a61f-79eff3b90766');\n",
              "          const dataTable =\n",
              "            await google.colab.kernel.invokeFunction('convertToInteractive',\n",
              "                                                     [key], {});\n",
              "          if (!dataTable) return;\n",
              "\n",
              "          const docLinkHtml = 'Like what you see? Visit the ' +\n",
              "            '<a target=\"_blank\" href=https://colab.research.google.com/notebooks/data_table.ipynb>data table notebook</a>'\n",
              "            + ' to learn more about interactive tables.';\n",
              "          element.innerHTML = '';\n",
              "          dataTable['output_type'] = 'display_data';\n",
              "          await google.colab.output.renderOutput(dataTable, element);\n",
              "          const docLink = document.createElement('div');\n",
              "          docLink.innerHTML = docLinkHtml;\n",
              "          element.appendChild(docLink);\n",
              "        }\n",
              "      </script>\n",
              "    </div>\n",
              "  </div>\n",
              "  "
            ]
          },
          "metadata": {},
          "execution_count": 207
        }
      ],
      "source": [
        "dt4_2.head()"
      ]
    },
    {
      "cell_type": "code",
      "execution_count": 208,
      "metadata": {
        "id": "bHAU2816HoKA"
      },
      "outputs": [],
      "source": [
        "dt4_3 = dt4_2.loc[dt4_2['MailOpened']=='yes']\n",
        "dt4_4 = dt4_2.loc[dt4_2['MailOpened']=='no']"
      ]
    },
    {
      "cell_type": "code",
      "execution_count": 209,
      "metadata": {
        "id": "BRwh3mE-HoKA"
      },
      "outputs": [],
      "source": [
        "test3 = dt4_3.groupby(['CustomerID'])['MailOpened'].agg('count').reset_index()\n",
        "test4 = dt4_4.groupby(['CustomerID'])['MailOpened'].agg('count').reset_index()"
      ]
    },
    {
      "cell_type": "code",
      "execution_count": 210,
      "metadata": {
        "id": "2SeL-ejjHoKA",
        "colab": {
          "base_uri": "https://localhost:8080/",
          "height": 424
        },
        "outputId": "b743c333-5462-446b-dc00-b43f816156c6"
      },
      "outputs": [
        {
          "output_type": "execute_result",
          "data": {
            "text/plain": [
              "     CustomerID  MailOpened\n",
              "0        C12121          16\n",
              "1        C12135          21\n",
              "2        C12136          38\n",
              "3        C12157          14\n",
              "4        C12163          45\n",
              "...         ...         ...\n",
              "3372     C42147          25\n",
              "3373     C42148          40\n",
              "3374     C42151          36\n",
              "3375     C42153           8\n",
              "3376     C42167          46\n",
              "\n",
              "[3377 rows x 2 columns]"
            ],
            "text/html": [
              "\n",
              "  <div id=\"df-aad49da7-5f44-465d-8d46-802b7b5c0cba\">\n",
              "    <div class=\"colab-df-container\">\n",
              "      <div>\n",
              "<style scoped>\n",
              "    .dataframe tbody tr th:only-of-type {\n",
              "        vertical-align: middle;\n",
              "    }\n",
              "\n",
              "    .dataframe tbody tr th {\n",
              "        vertical-align: top;\n",
              "    }\n",
              "\n",
              "    .dataframe thead th {\n",
              "        text-align: right;\n",
              "    }\n",
              "</style>\n",
              "<table border=\"1\" class=\"dataframe\">\n",
              "  <thead>\n",
              "    <tr style=\"text-align: right;\">\n",
              "      <th></th>\n",
              "      <th>CustomerID</th>\n",
              "      <th>MailOpened</th>\n",
              "    </tr>\n",
              "  </thead>\n",
              "  <tbody>\n",
              "    <tr>\n",
              "      <th>0</th>\n",
              "      <td>C12121</td>\n",
              "      <td>16</td>\n",
              "    </tr>\n",
              "    <tr>\n",
              "      <th>1</th>\n",
              "      <td>C12135</td>\n",
              "      <td>21</td>\n",
              "    </tr>\n",
              "    <tr>\n",
              "      <th>2</th>\n",
              "      <td>C12136</td>\n",
              "      <td>38</td>\n",
              "    </tr>\n",
              "    <tr>\n",
              "      <th>3</th>\n",
              "      <td>C12157</td>\n",
              "      <td>14</td>\n",
              "    </tr>\n",
              "    <tr>\n",
              "      <th>4</th>\n",
              "      <td>C12163</td>\n",
              "      <td>45</td>\n",
              "    </tr>\n",
              "    <tr>\n",
              "      <th>...</th>\n",
              "      <td>...</td>\n",
              "      <td>...</td>\n",
              "    </tr>\n",
              "    <tr>\n",
              "      <th>3372</th>\n",
              "      <td>C42147</td>\n",
              "      <td>25</td>\n",
              "    </tr>\n",
              "    <tr>\n",
              "      <th>3373</th>\n",
              "      <td>C42148</td>\n",
              "      <td>40</td>\n",
              "    </tr>\n",
              "    <tr>\n",
              "      <th>3374</th>\n",
              "      <td>C42151</td>\n",
              "      <td>36</td>\n",
              "    </tr>\n",
              "    <tr>\n",
              "      <th>3375</th>\n",
              "      <td>C42153</td>\n",
              "      <td>8</td>\n",
              "    </tr>\n",
              "    <tr>\n",
              "      <th>3376</th>\n",
              "      <td>C42167</td>\n",
              "      <td>46</td>\n",
              "    </tr>\n",
              "  </tbody>\n",
              "</table>\n",
              "<p>3377 rows × 2 columns</p>\n",
              "</div>\n",
              "      <button class=\"colab-df-convert\" onclick=\"convertToInteractive('df-aad49da7-5f44-465d-8d46-802b7b5c0cba')\"\n",
              "              title=\"Convert this dataframe to an interactive table.\"\n",
              "              style=\"display:none;\">\n",
              "        \n",
              "  <svg xmlns=\"http://www.w3.org/2000/svg\" height=\"24px\"viewBox=\"0 0 24 24\"\n",
              "       width=\"24px\">\n",
              "    <path d=\"M0 0h24v24H0V0z\" fill=\"none\"/>\n",
              "    <path d=\"M18.56 5.44l.94 2.06.94-2.06 2.06-.94-2.06-.94-.94-2.06-.94 2.06-2.06.94zm-11 1L8.5 8.5l.94-2.06 2.06-.94-2.06-.94L8.5 2.5l-.94 2.06-2.06.94zm10 10l.94 2.06.94-2.06 2.06-.94-2.06-.94-.94-2.06-.94 2.06-2.06.94z\"/><path d=\"M17.41 7.96l-1.37-1.37c-.4-.4-.92-.59-1.43-.59-.52 0-1.04.2-1.43.59L10.3 9.45l-7.72 7.72c-.78.78-.78 2.05 0 2.83L4 21.41c.39.39.9.59 1.41.59.51 0 1.02-.2 1.41-.59l7.78-7.78 2.81-2.81c.8-.78.8-2.07 0-2.86zM5.41 20L4 18.59l7.72-7.72 1.47 1.35L5.41 20z\"/>\n",
              "  </svg>\n",
              "      </button>\n",
              "      \n",
              "  <style>\n",
              "    .colab-df-container {\n",
              "      display:flex;\n",
              "      flex-wrap:wrap;\n",
              "      gap: 12px;\n",
              "    }\n",
              "\n",
              "    .colab-df-convert {\n",
              "      background-color: #E8F0FE;\n",
              "      border: none;\n",
              "      border-radius: 50%;\n",
              "      cursor: pointer;\n",
              "      display: none;\n",
              "      fill: #1967D2;\n",
              "      height: 32px;\n",
              "      padding: 0 0 0 0;\n",
              "      width: 32px;\n",
              "    }\n",
              "\n",
              "    .colab-df-convert:hover {\n",
              "      background-color: #E2EBFA;\n",
              "      box-shadow: 0px 1px 2px rgba(60, 64, 67, 0.3), 0px 1px 3px 1px rgba(60, 64, 67, 0.15);\n",
              "      fill: #174EA6;\n",
              "    }\n",
              "\n",
              "    [theme=dark] .colab-df-convert {\n",
              "      background-color: #3B4455;\n",
              "      fill: #D2E3FC;\n",
              "    }\n",
              "\n",
              "    [theme=dark] .colab-df-convert:hover {\n",
              "      background-color: #434B5C;\n",
              "      box-shadow: 0px 1px 3px 1px rgba(0, 0, 0, 0.15);\n",
              "      filter: drop-shadow(0px 1px 2px rgba(0, 0, 0, 0.3));\n",
              "      fill: #FFFFFF;\n",
              "    }\n",
              "  </style>\n",
              "\n",
              "      <script>\n",
              "        const buttonEl =\n",
              "          document.querySelector('#df-aad49da7-5f44-465d-8d46-802b7b5c0cba button.colab-df-convert');\n",
              "        buttonEl.style.display =\n",
              "          google.colab.kernel.accessAllowed ? 'block' : 'none';\n",
              "\n",
              "        async function convertToInteractive(key) {\n",
              "          const element = document.querySelector('#df-aad49da7-5f44-465d-8d46-802b7b5c0cba');\n",
              "          const dataTable =\n",
              "            await google.colab.kernel.invokeFunction('convertToInteractive',\n",
              "                                                     [key], {});\n",
              "          if (!dataTable) return;\n",
              "\n",
              "          const docLinkHtml = 'Like what you see? Visit the ' +\n",
              "            '<a target=\"_blank\" href=https://colab.research.google.com/notebooks/data_table.ipynb>data table notebook</a>'\n",
              "            + ' to learn more about interactive tables.';\n",
              "          element.innerHTML = '';\n",
              "          dataTable['output_type'] = 'display_data';\n",
              "          await google.colab.output.renderOutput(dataTable, element);\n",
              "          const docLink = document.createElement('div');\n",
              "          docLink.innerHTML = docLinkHtml;\n",
              "          element.appendChild(docLink);\n",
              "        }\n",
              "      </script>\n",
              "    </div>\n",
              "  </div>\n",
              "  "
            ]
          },
          "metadata": {},
          "execution_count": 210
        }
      ],
      "source": [
        "test4"
      ]
    },
    {
      "cell_type": "code",
      "execution_count": 211,
      "metadata": {
        "id": "ZQ9Mt-hgHoKA",
        "colab": {
          "base_uri": "https://localhost:8080/",
          "height": 424
        },
        "outputId": "39c4a71b-3628-4abb-b67a-b36894946b34"
      },
      "outputs": [
        {
          "output_type": "execute_result",
          "data": {
            "text/plain": [
              "     CustomerID DateOfemail     EmailType MailOpened_x    MailClicked  \\\n",
              "0        C17838  2010-10-22  WelcomeEmail          yes  NotApplicable   \n",
              "1        C12403  2008-11-17  WelcomeEmail          yes  NotApplicable   \n",
              "2        C19041  2011-01-24  WelcomeEmail          yes  NotApplicable   \n",
              "3        C24069  2010-09-18  WelcomeEmail          yes  NotApplicable   \n",
              "4        C26718  2010-10-02  WelcomeEmail          yes  NotApplicable   \n",
              "...         ...         ...           ...          ...            ...   \n",
              "5950     C32947  2018-01-17  WelcomeEmail          yes  NotApplicable   \n",
              "5951     C28951  2018-01-17  WelcomeEmail          yes  NotApplicable   \n",
              "5952     C38741  2018-01-17  WelcomeEmail          yes  NotApplicable   \n",
              "5953     C20407  2018-01-17  WelcomeEmail          yes  NotApplicable   \n",
              "5954     C27220  2018-01-17  WelcomeEmail          yes  NotApplicable   \n",
              "\n",
              "      CustomMails  MailOpened_y  \n",
              "0             NaN           NaN  \n",
              "1            46.0          37.0  \n",
              "2            60.0          26.0  \n",
              "3            45.0           NaN  \n",
              "4            13.0           8.0  \n",
              "...           ...           ...  \n",
              "5950          NaN           NaN  \n",
              "5951          NaN           NaN  \n",
              "5952          NaN           NaN  \n",
              "5953          NaN           NaN  \n",
              "5954          NaN           NaN  \n",
              "\n",
              "[5955 rows x 7 columns]"
            ],
            "text/html": [
              "\n",
              "  <div id=\"df-d533c299-d281-4309-9ff5-05e2588cf9ac\">\n",
              "    <div class=\"colab-df-container\">\n",
              "      <div>\n",
              "<style scoped>\n",
              "    .dataframe tbody tr th:only-of-type {\n",
              "        vertical-align: middle;\n",
              "    }\n",
              "\n",
              "    .dataframe tbody tr th {\n",
              "        vertical-align: top;\n",
              "    }\n",
              "\n",
              "    .dataframe thead th {\n",
              "        text-align: right;\n",
              "    }\n",
              "</style>\n",
              "<table border=\"1\" class=\"dataframe\">\n",
              "  <thead>\n",
              "    <tr style=\"text-align: right;\">\n",
              "      <th></th>\n",
              "      <th>CustomerID</th>\n",
              "      <th>DateOfemail</th>\n",
              "      <th>EmailType</th>\n",
              "      <th>MailOpened_x</th>\n",
              "      <th>MailClicked</th>\n",
              "      <th>CustomMails</th>\n",
              "      <th>MailOpened_y</th>\n",
              "    </tr>\n",
              "  </thead>\n",
              "  <tbody>\n",
              "    <tr>\n",
              "      <th>0</th>\n",
              "      <td>C17838</td>\n",
              "      <td>2010-10-22</td>\n",
              "      <td>WelcomeEmail</td>\n",
              "      <td>yes</td>\n",
              "      <td>NotApplicable</td>\n",
              "      <td>NaN</td>\n",
              "      <td>NaN</td>\n",
              "    </tr>\n",
              "    <tr>\n",
              "      <th>1</th>\n",
              "      <td>C12403</td>\n",
              "      <td>2008-11-17</td>\n",
              "      <td>WelcomeEmail</td>\n",
              "      <td>yes</td>\n",
              "      <td>NotApplicable</td>\n",
              "      <td>46.0</td>\n",
              "      <td>37.0</td>\n",
              "    </tr>\n",
              "    <tr>\n",
              "      <th>2</th>\n",
              "      <td>C19041</td>\n",
              "      <td>2011-01-24</td>\n",
              "      <td>WelcomeEmail</td>\n",
              "      <td>yes</td>\n",
              "      <td>NotApplicable</td>\n",
              "      <td>60.0</td>\n",
              "      <td>26.0</td>\n",
              "    </tr>\n",
              "    <tr>\n",
              "      <th>3</th>\n",
              "      <td>C24069</td>\n",
              "      <td>2010-09-18</td>\n",
              "      <td>WelcomeEmail</td>\n",
              "      <td>yes</td>\n",
              "      <td>NotApplicable</td>\n",
              "      <td>45.0</td>\n",
              "      <td>NaN</td>\n",
              "    </tr>\n",
              "    <tr>\n",
              "      <th>4</th>\n",
              "      <td>C26718</td>\n",
              "      <td>2010-10-02</td>\n",
              "      <td>WelcomeEmail</td>\n",
              "      <td>yes</td>\n",
              "      <td>NotApplicable</td>\n",
              "      <td>13.0</td>\n",
              "      <td>8.0</td>\n",
              "    </tr>\n",
              "    <tr>\n",
              "      <th>...</th>\n",
              "      <td>...</td>\n",
              "      <td>...</td>\n",
              "      <td>...</td>\n",
              "      <td>...</td>\n",
              "      <td>...</td>\n",
              "      <td>...</td>\n",
              "      <td>...</td>\n",
              "    </tr>\n",
              "    <tr>\n",
              "      <th>5950</th>\n",
              "      <td>C32947</td>\n",
              "      <td>2018-01-17</td>\n",
              "      <td>WelcomeEmail</td>\n",
              "      <td>yes</td>\n",
              "      <td>NotApplicable</td>\n",
              "      <td>NaN</td>\n",
              "      <td>NaN</td>\n",
              "    </tr>\n",
              "    <tr>\n",
              "      <th>5951</th>\n",
              "      <td>C28951</td>\n",
              "      <td>2018-01-17</td>\n",
              "      <td>WelcomeEmail</td>\n",
              "      <td>yes</td>\n",
              "      <td>NotApplicable</td>\n",
              "      <td>NaN</td>\n",
              "      <td>NaN</td>\n",
              "    </tr>\n",
              "    <tr>\n",
              "      <th>5952</th>\n",
              "      <td>C38741</td>\n",
              "      <td>2018-01-17</td>\n",
              "      <td>WelcomeEmail</td>\n",
              "      <td>yes</td>\n",
              "      <td>NotApplicable</td>\n",
              "      <td>NaN</td>\n",
              "      <td>NaN</td>\n",
              "    </tr>\n",
              "    <tr>\n",
              "      <th>5953</th>\n",
              "      <td>C20407</td>\n",
              "      <td>2018-01-17</td>\n",
              "      <td>WelcomeEmail</td>\n",
              "      <td>yes</td>\n",
              "      <td>NotApplicable</td>\n",
              "      <td>NaN</td>\n",
              "      <td>NaN</td>\n",
              "    </tr>\n",
              "    <tr>\n",
              "      <th>5954</th>\n",
              "      <td>C27220</td>\n",
              "      <td>2018-01-17</td>\n",
              "      <td>WelcomeEmail</td>\n",
              "      <td>yes</td>\n",
              "      <td>NotApplicable</td>\n",
              "      <td>NaN</td>\n",
              "      <td>NaN</td>\n",
              "    </tr>\n",
              "  </tbody>\n",
              "</table>\n",
              "<p>5955 rows × 7 columns</p>\n",
              "</div>\n",
              "      <button class=\"colab-df-convert\" onclick=\"convertToInteractive('df-d533c299-d281-4309-9ff5-05e2588cf9ac')\"\n",
              "              title=\"Convert this dataframe to an interactive table.\"\n",
              "              style=\"display:none;\">\n",
              "        \n",
              "  <svg xmlns=\"http://www.w3.org/2000/svg\" height=\"24px\"viewBox=\"0 0 24 24\"\n",
              "       width=\"24px\">\n",
              "    <path d=\"M0 0h24v24H0V0z\" fill=\"none\"/>\n",
              "    <path d=\"M18.56 5.44l.94 2.06.94-2.06 2.06-.94-2.06-.94-.94-2.06-.94 2.06-2.06.94zm-11 1L8.5 8.5l.94-2.06 2.06-.94-2.06-.94L8.5 2.5l-.94 2.06-2.06.94zm10 10l.94 2.06.94-2.06 2.06-.94-2.06-.94-.94-2.06-.94 2.06-2.06.94z\"/><path d=\"M17.41 7.96l-1.37-1.37c-.4-.4-.92-.59-1.43-.59-.52 0-1.04.2-1.43.59L10.3 9.45l-7.72 7.72c-.78.78-.78 2.05 0 2.83L4 21.41c.39.39.9.59 1.41.59.51 0 1.02-.2 1.41-.59l7.78-7.78 2.81-2.81c.8-.78.8-2.07 0-2.86zM5.41 20L4 18.59l7.72-7.72 1.47 1.35L5.41 20z\"/>\n",
              "  </svg>\n",
              "      </button>\n",
              "      \n",
              "  <style>\n",
              "    .colab-df-container {\n",
              "      display:flex;\n",
              "      flex-wrap:wrap;\n",
              "      gap: 12px;\n",
              "    }\n",
              "\n",
              "    .colab-df-convert {\n",
              "      background-color: #E8F0FE;\n",
              "      border: none;\n",
              "      border-radius: 50%;\n",
              "      cursor: pointer;\n",
              "      display: none;\n",
              "      fill: #1967D2;\n",
              "      height: 32px;\n",
              "      padding: 0 0 0 0;\n",
              "      width: 32px;\n",
              "    }\n",
              "\n",
              "    .colab-df-convert:hover {\n",
              "      background-color: #E2EBFA;\n",
              "      box-shadow: 0px 1px 2px rgba(60, 64, 67, 0.3), 0px 1px 3px 1px rgba(60, 64, 67, 0.15);\n",
              "      fill: #174EA6;\n",
              "    }\n",
              "\n",
              "    [theme=dark] .colab-df-convert {\n",
              "      background-color: #3B4455;\n",
              "      fill: #D2E3FC;\n",
              "    }\n",
              "\n",
              "    [theme=dark] .colab-df-convert:hover {\n",
              "      background-color: #434B5C;\n",
              "      box-shadow: 0px 1px 3px 1px rgba(0, 0, 0, 0.15);\n",
              "      filter: drop-shadow(0px 1px 2px rgba(0, 0, 0, 0.3));\n",
              "      fill: #FFFFFF;\n",
              "    }\n",
              "  </style>\n",
              "\n",
              "      <script>\n",
              "        const buttonEl =\n",
              "          document.querySelector('#df-d533c299-d281-4309-9ff5-05e2588cf9ac button.colab-df-convert');\n",
              "        buttonEl.style.display =\n",
              "          google.colab.kernel.accessAllowed ? 'block' : 'none';\n",
              "\n",
              "        async function convertToInteractive(key) {\n",
              "          const element = document.querySelector('#df-d533c299-d281-4309-9ff5-05e2588cf9ac');\n",
              "          const dataTable =\n",
              "            await google.colab.kernel.invokeFunction('convertToInteractive',\n",
              "                                                     [key], {});\n",
              "          if (!dataTable) return;\n",
              "\n",
              "          const docLinkHtml = 'Like what you see? Visit the ' +\n",
              "            '<a target=\"_blank\" href=https://colab.research.google.com/notebooks/data_table.ipynb>data table notebook</a>'\n",
              "            + ' to learn more about interactive tables.';\n",
              "          element.innerHTML = '';\n",
              "          dataTable['output_type'] = 'display_data';\n",
              "          await google.colab.output.renderOutput(dataTable, element);\n",
              "          const docLink = document.createElement('div');\n",
              "          docLink.innerHTML = docLinkHtml;\n",
              "          element.appendChild(docLink);\n",
              "        }\n",
              "      </script>\n",
              "    </div>\n",
              "  </div>\n",
              "  "
            ]
          },
          "metadata": {},
          "execution_count": 211
        }
      ],
      "source": [
        "dtest4 = pd.merge(dtest3,test3,on=['CustomerID'],how='outer')\n",
        "dtest4"
      ]
    },
    {
      "cell_type": "code",
      "execution_count": 212,
      "metadata": {
        "id": "psyOfETcHoKB",
        "colab": {
          "base_uri": "https://localhost:8080/",
          "height": 206
        },
        "outputId": "0fc5f7c4-bea6-46fa-c7ba-2c87d5105052"
      },
      "outputs": [
        {
          "output_type": "execute_result",
          "data": {
            "text/plain": [
              "  CustomerID DateOfemail     EmailType MailOpened_x    MailClicked  \\\n",
              "0     C17838  2010-10-22  WelcomeEmail          yes  NotApplicable   \n",
              "1     C12403  2008-11-17  WelcomeEmail          yes  NotApplicable   \n",
              "2     C19041  2011-01-24  WelcomeEmail          yes  NotApplicable   \n",
              "3     C24069  2010-09-18  WelcomeEmail          yes  NotApplicable   \n",
              "4     C26718  2010-10-02  WelcomeEmail          yes  NotApplicable   \n",
              "\n",
              "   CustomMails  MailOpened_y  MailOpened  \n",
              "0          NaN           NaN         NaN  \n",
              "1         46.0          37.0         9.0  \n",
              "2         60.0          26.0        34.0  \n",
              "3         45.0           NaN        45.0  \n",
              "4         13.0           8.0         5.0  "
            ],
            "text/html": [
              "\n",
              "  <div id=\"df-c5ec1785-e1a8-4c10-b002-94a46a1b6c89\">\n",
              "    <div class=\"colab-df-container\">\n",
              "      <div>\n",
              "<style scoped>\n",
              "    .dataframe tbody tr th:only-of-type {\n",
              "        vertical-align: middle;\n",
              "    }\n",
              "\n",
              "    .dataframe tbody tr th {\n",
              "        vertical-align: top;\n",
              "    }\n",
              "\n",
              "    .dataframe thead th {\n",
              "        text-align: right;\n",
              "    }\n",
              "</style>\n",
              "<table border=\"1\" class=\"dataframe\">\n",
              "  <thead>\n",
              "    <tr style=\"text-align: right;\">\n",
              "      <th></th>\n",
              "      <th>CustomerID</th>\n",
              "      <th>DateOfemail</th>\n",
              "      <th>EmailType</th>\n",
              "      <th>MailOpened_x</th>\n",
              "      <th>MailClicked</th>\n",
              "      <th>CustomMails</th>\n",
              "      <th>MailOpened_y</th>\n",
              "      <th>MailOpened</th>\n",
              "    </tr>\n",
              "  </thead>\n",
              "  <tbody>\n",
              "    <tr>\n",
              "      <th>0</th>\n",
              "      <td>C17838</td>\n",
              "      <td>2010-10-22</td>\n",
              "      <td>WelcomeEmail</td>\n",
              "      <td>yes</td>\n",
              "      <td>NotApplicable</td>\n",
              "      <td>NaN</td>\n",
              "      <td>NaN</td>\n",
              "      <td>NaN</td>\n",
              "    </tr>\n",
              "    <tr>\n",
              "      <th>1</th>\n",
              "      <td>C12403</td>\n",
              "      <td>2008-11-17</td>\n",
              "      <td>WelcomeEmail</td>\n",
              "      <td>yes</td>\n",
              "      <td>NotApplicable</td>\n",
              "      <td>46.0</td>\n",
              "      <td>37.0</td>\n",
              "      <td>9.0</td>\n",
              "    </tr>\n",
              "    <tr>\n",
              "      <th>2</th>\n",
              "      <td>C19041</td>\n",
              "      <td>2011-01-24</td>\n",
              "      <td>WelcomeEmail</td>\n",
              "      <td>yes</td>\n",
              "      <td>NotApplicable</td>\n",
              "      <td>60.0</td>\n",
              "      <td>26.0</td>\n",
              "      <td>34.0</td>\n",
              "    </tr>\n",
              "    <tr>\n",
              "      <th>3</th>\n",
              "      <td>C24069</td>\n",
              "      <td>2010-09-18</td>\n",
              "      <td>WelcomeEmail</td>\n",
              "      <td>yes</td>\n",
              "      <td>NotApplicable</td>\n",
              "      <td>45.0</td>\n",
              "      <td>NaN</td>\n",
              "      <td>45.0</td>\n",
              "    </tr>\n",
              "    <tr>\n",
              "      <th>4</th>\n",
              "      <td>C26718</td>\n",
              "      <td>2010-10-02</td>\n",
              "      <td>WelcomeEmail</td>\n",
              "      <td>yes</td>\n",
              "      <td>NotApplicable</td>\n",
              "      <td>13.0</td>\n",
              "      <td>8.0</td>\n",
              "      <td>5.0</td>\n",
              "    </tr>\n",
              "  </tbody>\n",
              "</table>\n",
              "</div>\n",
              "      <button class=\"colab-df-convert\" onclick=\"convertToInteractive('df-c5ec1785-e1a8-4c10-b002-94a46a1b6c89')\"\n",
              "              title=\"Convert this dataframe to an interactive table.\"\n",
              "              style=\"display:none;\">\n",
              "        \n",
              "  <svg xmlns=\"http://www.w3.org/2000/svg\" height=\"24px\"viewBox=\"0 0 24 24\"\n",
              "       width=\"24px\">\n",
              "    <path d=\"M0 0h24v24H0V0z\" fill=\"none\"/>\n",
              "    <path d=\"M18.56 5.44l.94 2.06.94-2.06 2.06-.94-2.06-.94-.94-2.06-.94 2.06-2.06.94zm-11 1L8.5 8.5l.94-2.06 2.06-.94-2.06-.94L8.5 2.5l-.94 2.06-2.06.94zm10 10l.94 2.06.94-2.06 2.06-.94-2.06-.94-.94-2.06-.94 2.06-2.06.94z\"/><path d=\"M17.41 7.96l-1.37-1.37c-.4-.4-.92-.59-1.43-.59-.52 0-1.04.2-1.43.59L10.3 9.45l-7.72 7.72c-.78.78-.78 2.05 0 2.83L4 21.41c.39.39.9.59 1.41.59.51 0 1.02-.2 1.41-.59l7.78-7.78 2.81-2.81c.8-.78.8-2.07 0-2.86zM5.41 20L4 18.59l7.72-7.72 1.47 1.35L5.41 20z\"/>\n",
              "  </svg>\n",
              "      </button>\n",
              "      \n",
              "  <style>\n",
              "    .colab-df-container {\n",
              "      display:flex;\n",
              "      flex-wrap:wrap;\n",
              "      gap: 12px;\n",
              "    }\n",
              "\n",
              "    .colab-df-convert {\n",
              "      background-color: #E8F0FE;\n",
              "      border: none;\n",
              "      border-radius: 50%;\n",
              "      cursor: pointer;\n",
              "      display: none;\n",
              "      fill: #1967D2;\n",
              "      height: 32px;\n",
              "      padding: 0 0 0 0;\n",
              "      width: 32px;\n",
              "    }\n",
              "\n",
              "    .colab-df-convert:hover {\n",
              "      background-color: #E2EBFA;\n",
              "      box-shadow: 0px 1px 2px rgba(60, 64, 67, 0.3), 0px 1px 3px 1px rgba(60, 64, 67, 0.15);\n",
              "      fill: #174EA6;\n",
              "    }\n",
              "\n",
              "    [theme=dark] .colab-df-convert {\n",
              "      background-color: #3B4455;\n",
              "      fill: #D2E3FC;\n",
              "    }\n",
              "\n",
              "    [theme=dark] .colab-df-convert:hover {\n",
              "      background-color: #434B5C;\n",
              "      box-shadow: 0px 1px 3px 1px rgba(0, 0, 0, 0.15);\n",
              "      filter: drop-shadow(0px 1px 2px rgba(0, 0, 0, 0.3));\n",
              "      fill: #FFFFFF;\n",
              "    }\n",
              "  </style>\n",
              "\n",
              "      <script>\n",
              "        const buttonEl =\n",
              "          document.querySelector('#df-c5ec1785-e1a8-4c10-b002-94a46a1b6c89 button.colab-df-convert');\n",
              "        buttonEl.style.display =\n",
              "          google.colab.kernel.accessAllowed ? 'block' : 'none';\n",
              "\n",
              "        async function convertToInteractive(key) {\n",
              "          const element = document.querySelector('#df-c5ec1785-e1a8-4c10-b002-94a46a1b6c89');\n",
              "          const dataTable =\n",
              "            await google.colab.kernel.invokeFunction('convertToInteractive',\n",
              "                                                     [key], {});\n",
              "          if (!dataTable) return;\n",
              "\n",
              "          const docLinkHtml = 'Like what you see? Visit the ' +\n",
              "            '<a target=\"_blank\" href=https://colab.research.google.com/notebooks/data_table.ipynb>data table notebook</a>'\n",
              "            + ' to learn more about interactive tables.';\n",
              "          element.innerHTML = '';\n",
              "          dataTable['output_type'] = 'display_data';\n",
              "          await google.colab.output.renderOutput(dataTable, element);\n",
              "          const docLink = document.createElement('div');\n",
              "          docLink.innerHTML = docLinkHtml;\n",
              "          element.appendChild(docLink);\n",
              "        }\n",
              "      </script>\n",
              "    </div>\n",
              "  </div>\n",
              "  "
            ]
          },
          "metadata": {},
          "execution_count": 212
        }
      ],
      "source": [
        "dtest5 = pd.merge(dtest4,test4,on=['CustomerID'],how='outer')\n",
        "dtest5.head()"
      ]
    },
    {
      "cell_type": "code",
      "execution_count": 213,
      "metadata": {
        "id": "qQ-T5v7THoKB"
      },
      "outputs": [],
      "source": [
        "dtest5 = dtest5.rename(columns={'MailOpened_x':'MailOpened','MailOpened_y':'CustomMail_Open','MailOpened':'CustomMail_No'})"
      ]
    },
    {
      "cell_type": "code",
      "execution_count": 214,
      "metadata": {
        "id": "ggPCAEUOHoKB",
        "colab": {
          "base_uri": "https://localhost:8080/",
          "height": 206
        },
        "outputId": "9632d0c7-c071-4c7d-98df-c9ea8b837427"
      },
      "outputs": [
        {
          "output_type": "execute_result",
          "data": {
            "text/plain": [
              "  CustomerID DateOfemail     EmailType MailOpened    MailClicked  CustomMails  \\\n",
              "0     C17838  2010-10-22  WelcomeEmail        yes  NotApplicable          NaN   \n",
              "1     C12403  2008-11-17  WelcomeEmail        yes  NotApplicable         46.0   \n",
              "2     C19041  2011-01-24  WelcomeEmail        yes  NotApplicable         60.0   \n",
              "3     C24069  2010-09-18  WelcomeEmail        yes  NotApplicable         45.0   \n",
              "4     C26718  2010-10-02  WelcomeEmail        yes  NotApplicable         13.0   \n",
              "\n",
              "   CustomMail_Open  CustomMail_No  \n",
              "0              NaN            NaN  \n",
              "1             37.0            9.0  \n",
              "2             26.0           34.0  \n",
              "3              NaN           45.0  \n",
              "4              8.0            5.0  "
            ],
            "text/html": [
              "\n",
              "  <div id=\"df-29e84b93-376c-48a1-84b6-398e5dc5b007\">\n",
              "    <div class=\"colab-df-container\">\n",
              "      <div>\n",
              "<style scoped>\n",
              "    .dataframe tbody tr th:only-of-type {\n",
              "        vertical-align: middle;\n",
              "    }\n",
              "\n",
              "    .dataframe tbody tr th {\n",
              "        vertical-align: top;\n",
              "    }\n",
              "\n",
              "    .dataframe thead th {\n",
              "        text-align: right;\n",
              "    }\n",
              "</style>\n",
              "<table border=\"1\" class=\"dataframe\">\n",
              "  <thead>\n",
              "    <tr style=\"text-align: right;\">\n",
              "      <th></th>\n",
              "      <th>CustomerID</th>\n",
              "      <th>DateOfemail</th>\n",
              "      <th>EmailType</th>\n",
              "      <th>MailOpened</th>\n",
              "      <th>MailClicked</th>\n",
              "      <th>CustomMails</th>\n",
              "      <th>CustomMail_Open</th>\n",
              "      <th>CustomMail_No</th>\n",
              "    </tr>\n",
              "  </thead>\n",
              "  <tbody>\n",
              "    <tr>\n",
              "      <th>0</th>\n",
              "      <td>C17838</td>\n",
              "      <td>2010-10-22</td>\n",
              "      <td>WelcomeEmail</td>\n",
              "      <td>yes</td>\n",
              "      <td>NotApplicable</td>\n",
              "      <td>NaN</td>\n",
              "      <td>NaN</td>\n",
              "      <td>NaN</td>\n",
              "    </tr>\n",
              "    <tr>\n",
              "      <th>1</th>\n",
              "      <td>C12403</td>\n",
              "      <td>2008-11-17</td>\n",
              "      <td>WelcomeEmail</td>\n",
              "      <td>yes</td>\n",
              "      <td>NotApplicable</td>\n",
              "      <td>46.0</td>\n",
              "      <td>37.0</td>\n",
              "      <td>9.0</td>\n",
              "    </tr>\n",
              "    <tr>\n",
              "      <th>2</th>\n",
              "      <td>C19041</td>\n",
              "      <td>2011-01-24</td>\n",
              "      <td>WelcomeEmail</td>\n",
              "      <td>yes</td>\n",
              "      <td>NotApplicable</td>\n",
              "      <td>60.0</td>\n",
              "      <td>26.0</td>\n",
              "      <td>34.0</td>\n",
              "    </tr>\n",
              "    <tr>\n",
              "      <th>3</th>\n",
              "      <td>C24069</td>\n",
              "      <td>2010-09-18</td>\n",
              "      <td>WelcomeEmail</td>\n",
              "      <td>yes</td>\n",
              "      <td>NotApplicable</td>\n",
              "      <td>45.0</td>\n",
              "      <td>NaN</td>\n",
              "      <td>45.0</td>\n",
              "    </tr>\n",
              "    <tr>\n",
              "      <th>4</th>\n",
              "      <td>C26718</td>\n",
              "      <td>2010-10-02</td>\n",
              "      <td>WelcomeEmail</td>\n",
              "      <td>yes</td>\n",
              "      <td>NotApplicable</td>\n",
              "      <td>13.0</td>\n",
              "      <td>8.0</td>\n",
              "      <td>5.0</td>\n",
              "    </tr>\n",
              "  </tbody>\n",
              "</table>\n",
              "</div>\n",
              "      <button class=\"colab-df-convert\" onclick=\"convertToInteractive('df-29e84b93-376c-48a1-84b6-398e5dc5b007')\"\n",
              "              title=\"Convert this dataframe to an interactive table.\"\n",
              "              style=\"display:none;\">\n",
              "        \n",
              "  <svg xmlns=\"http://www.w3.org/2000/svg\" height=\"24px\"viewBox=\"0 0 24 24\"\n",
              "       width=\"24px\">\n",
              "    <path d=\"M0 0h24v24H0V0z\" fill=\"none\"/>\n",
              "    <path d=\"M18.56 5.44l.94 2.06.94-2.06 2.06-.94-2.06-.94-.94-2.06-.94 2.06-2.06.94zm-11 1L8.5 8.5l.94-2.06 2.06-.94-2.06-.94L8.5 2.5l-.94 2.06-2.06.94zm10 10l.94 2.06.94-2.06 2.06-.94-2.06-.94-.94-2.06-.94 2.06-2.06.94z\"/><path d=\"M17.41 7.96l-1.37-1.37c-.4-.4-.92-.59-1.43-.59-.52 0-1.04.2-1.43.59L10.3 9.45l-7.72 7.72c-.78.78-.78 2.05 0 2.83L4 21.41c.39.39.9.59 1.41.59.51 0 1.02-.2 1.41-.59l7.78-7.78 2.81-2.81c.8-.78.8-2.07 0-2.86zM5.41 20L4 18.59l7.72-7.72 1.47 1.35L5.41 20z\"/>\n",
              "  </svg>\n",
              "      </button>\n",
              "      \n",
              "  <style>\n",
              "    .colab-df-container {\n",
              "      display:flex;\n",
              "      flex-wrap:wrap;\n",
              "      gap: 12px;\n",
              "    }\n",
              "\n",
              "    .colab-df-convert {\n",
              "      background-color: #E8F0FE;\n",
              "      border: none;\n",
              "      border-radius: 50%;\n",
              "      cursor: pointer;\n",
              "      display: none;\n",
              "      fill: #1967D2;\n",
              "      height: 32px;\n",
              "      padding: 0 0 0 0;\n",
              "      width: 32px;\n",
              "    }\n",
              "\n",
              "    .colab-df-convert:hover {\n",
              "      background-color: #E2EBFA;\n",
              "      box-shadow: 0px 1px 2px rgba(60, 64, 67, 0.3), 0px 1px 3px 1px rgba(60, 64, 67, 0.15);\n",
              "      fill: #174EA6;\n",
              "    }\n",
              "\n",
              "    [theme=dark] .colab-df-convert {\n",
              "      background-color: #3B4455;\n",
              "      fill: #D2E3FC;\n",
              "    }\n",
              "\n",
              "    [theme=dark] .colab-df-convert:hover {\n",
              "      background-color: #434B5C;\n",
              "      box-shadow: 0px 1px 3px 1px rgba(0, 0, 0, 0.15);\n",
              "      filter: drop-shadow(0px 1px 2px rgba(0, 0, 0, 0.3));\n",
              "      fill: #FFFFFF;\n",
              "    }\n",
              "  </style>\n",
              "\n",
              "      <script>\n",
              "        const buttonEl =\n",
              "          document.querySelector('#df-29e84b93-376c-48a1-84b6-398e5dc5b007 button.colab-df-convert');\n",
              "        buttonEl.style.display =\n",
              "          google.colab.kernel.accessAllowed ? 'block' : 'none';\n",
              "\n",
              "        async function convertToInteractive(key) {\n",
              "          const element = document.querySelector('#df-29e84b93-376c-48a1-84b6-398e5dc5b007');\n",
              "          const dataTable =\n",
              "            await google.colab.kernel.invokeFunction('convertToInteractive',\n",
              "                                                     [key], {});\n",
              "          if (!dataTable) return;\n",
              "\n",
              "          const docLinkHtml = 'Like what you see? Visit the ' +\n",
              "            '<a target=\"_blank\" href=https://colab.research.google.com/notebooks/data_table.ipynb>data table notebook</a>'\n",
              "            + ' to learn more about interactive tables.';\n",
              "          element.innerHTML = '';\n",
              "          dataTable['output_type'] = 'display_data';\n",
              "          await google.colab.output.renderOutput(dataTable, element);\n",
              "          const docLink = document.createElement('div');\n",
              "          docLink.innerHTML = docLinkHtml;\n",
              "          element.appendChild(docLink);\n",
              "        }\n",
              "      </script>\n",
              "    </div>\n",
              "  </div>\n",
              "  "
            ]
          },
          "metadata": {},
          "execution_count": 214
        }
      ],
      "source": [
        "dtest5.head()"
      ]
    },
    {
      "cell_type": "code",
      "execution_count": 215,
      "metadata": {
        "id": "FNWWMJfNHoKB",
        "colab": {
          "base_uri": "https://localhost:8080/",
          "height": 206
        },
        "outputId": "0f9fbddf-9c49-46bb-c898-f5852c7b9bb4"
      },
      "outputs": [
        {
          "output_type": "execute_result",
          "data": {
            "text/plain": [
              "     CustomerID DateOfemail        EmailType MailOpened MailClicked\n",
              "5955     C12403  2012-03-06  CustomizedEmail        yes          no\n",
              "5956     C12403  2009-10-13  CustomizedEmail        yes          no\n",
              "5957     C12403  2010-09-09  CustomizedEmail        yes          no\n",
              "5958     C12403  2011-02-13  CustomizedEmail        yes          no\n",
              "5959     C12403  2012-08-15  CustomizedEmail         no          no"
            ],
            "text/html": [
              "\n",
              "  <div id=\"df-d58c1768-1240-4f7d-81c3-29b98b26737e\">\n",
              "    <div class=\"colab-df-container\">\n",
              "      <div>\n",
              "<style scoped>\n",
              "    .dataframe tbody tr th:only-of-type {\n",
              "        vertical-align: middle;\n",
              "    }\n",
              "\n",
              "    .dataframe tbody tr th {\n",
              "        vertical-align: top;\n",
              "    }\n",
              "\n",
              "    .dataframe thead th {\n",
              "        text-align: right;\n",
              "    }\n",
              "</style>\n",
              "<table border=\"1\" class=\"dataframe\">\n",
              "  <thead>\n",
              "    <tr style=\"text-align: right;\">\n",
              "      <th></th>\n",
              "      <th>CustomerID</th>\n",
              "      <th>DateOfemail</th>\n",
              "      <th>EmailType</th>\n",
              "      <th>MailOpened</th>\n",
              "      <th>MailClicked</th>\n",
              "    </tr>\n",
              "  </thead>\n",
              "  <tbody>\n",
              "    <tr>\n",
              "      <th>5955</th>\n",
              "      <td>C12403</td>\n",
              "      <td>2012-03-06</td>\n",
              "      <td>CustomizedEmail</td>\n",
              "      <td>yes</td>\n",
              "      <td>no</td>\n",
              "    </tr>\n",
              "    <tr>\n",
              "      <th>5956</th>\n",
              "      <td>C12403</td>\n",
              "      <td>2009-10-13</td>\n",
              "      <td>CustomizedEmail</td>\n",
              "      <td>yes</td>\n",
              "      <td>no</td>\n",
              "    </tr>\n",
              "    <tr>\n",
              "      <th>5957</th>\n",
              "      <td>C12403</td>\n",
              "      <td>2010-09-09</td>\n",
              "      <td>CustomizedEmail</td>\n",
              "      <td>yes</td>\n",
              "      <td>no</td>\n",
              "    </tr>\n",
              "    <tr>\n",
              "      <th>5958</th>\n",
              "      <td>C12403</td>\n",
              "      <td>2011-02-13</td>\n",
              "      <td>CustomizedEmail</td>\n",
              "      <td>yes</td>\n",
              "      <td>no</td>\n",
              "    </tr>\n",
              "    <tr>\n",
              "      <th>5959</th>\n",
              "      <td>C12403</td>\n",
              "      <td>2012-08-15</td>\n",
              "      <td>CustomizedEmail</td>\n",
              "      <td>no</td>\n",
              "      <td>no</td>\n",
              "    </tr>\n",
              "  </tbody>\n",
              "</table>\n",
              "</div>\n",
              "      <button class=\"colab-df-convert\" onclick=\"convertToInteractive('df-d58c1768-1240-4f7d-81c3-29b98b26737e')\"\n",
              "              title=\"Convert this dataframe to an interactive table.\"\n",
              "              style=\"display:none;\">\n",
              "        \n",
              "  <svg xmlns=\"http://www.w3.org/2000/svg\" height=\"24px\"viewBox=\"0 0 24 24\"\n",
              "       width=\"24px\">\n",
              "    <path d=\"M0 0h24v24H0V0z\" fill=\"none\"/>\n",
              "    <path d=\"M18.56 5.44l.94 2.06.94-2.06 2.06-.94-2.06-.94-.94-2.06-.94 2.06-2.06.94zm-11 1L8.5 8.5l.94-2.06 2.06-.94-2.06-.94L8.5 2.5l-.94 2.06-2.06.94zm10 10l.94 2.06.94-2.06 2.06-.94-2.06-.94-.94-2.06-.94 2.06-2.06.94z\"/><path d=\"M17.41 7.96l-1.37-1.37c-.4-.4-.92-.59-1.43-.59-.52 0-1.04.2-1.43.59L10.3 9.45l-7.72 7.72c-.78.78-.78 2.05 0 2.83L4 21.41c.39.39.9.59 1.41.59.51 0 1.02-.2 1.41-.59l7.78-7.78 2.81-2.81c.8-.78.8-2.07 0-2.86zM5.41 20L4 18.59l7.72-7.72 1.47 1.35L5.41 20z\"/>\n",
              "  </svg>\n",
              "      </button>\n",
              "      \n",
              "  <style>\n",
              "    .colab-df-container {\n",
              "      display:flex;\n",
              "      flex-wrap:wrap;\n",
              "      gap: 12px;\n",
              "    }\n",
              "\n",
              "    .colab-df-convert {\n",
              "      background-color: #E8F0FE;\n",
              "      border: none;\n",
              "      border-radius: 50%;\n",
              "      cursor: pointer;\n",
              "      display: none;\n",
              "      fill: #1967D2;\n",
              "      height: 32px;\n",
              "      padding: 0 0 0 0;\n",
              "      width: 32px;\n",
              "    }\n",
              "\n",
              "    .colab-df-convert:hover {\n",
              "      background-color: #E2EBFA;\n",
              "      box-shadow: 0px 1px 2px rgba(60, 64, 67, 0.3), 0px 1px 3px 1px rgba(60, 64, 67, 0.15);\n",
              "      fill: #174EA6;\n",
              "    }\n",
              "\n",
              "    [theme=dark] .colab-df-convert {\n",
              "      background-color: #3B4455;\n",
              "      fill: #D2E3FC;\n",
              "    }\n",
              "\n",
              "    [theme=dark] .colab-df-convert:hover {\n",
              "      background-color: #434B5C;\n",
              "      box-shadow: 0px 1px 3px 1px rgba(0, 0, 0, 0.15);\n",
              "      filter: drop-shadow(0px 1px 2px rgba(0, 0, 0, 0.3));\n",
              "      fill: #FFFFFF;\n",
              "    }\n",
              "  </style>\n",
              "\n",
              "      <script>\n",
              "        const buttonEl =\n",
              "          document.querySelector('#df-d58c1768-1240-4f7d-81c3-29b98b26737e button.colab-df-convert');\n",
              "        buttonEl.style.display =\n",
              "          google.colab.kernel.accessAllowed ? 'block' : 'none';\n",
              "\n",
              "        async function convertToInteractive(key) {\n",
              "          const element = document.querySelector('#df-d58c1768-1240-4f7d-81c3-29b98b26737e');\n",
              "          const dataTable =\n",
              "            await google.colab.kernel.invokeFunction('convertToInteractive',\n",
              "                                                     [key], {});\n",
              "          if (!dataTable) return;\n",
              "\n",
              "          const docLinkHtml = 'Like what you see? Visit the ' +\n",
              "            '<a target=\"_blank\" href=https://colab.research.google.com/notebooks/data_table.ipynb>data table notebook</a>'\n",
              "            + ' to learn more about interactive tables.';\n",
              "          element.innerHTML = '';\n",
              "          dataTable['output_type'] = 'display_data';\n",
              "          await google.colab.output.renderOutput(dataTable, element);\n",
              "          const docLink = document.createElement('div');\n",
              "          docLink.innerHTML = docLinkHtml;\n",
              "          element.appendChild(docLink);\n",
              "        }\n",
              "      </script>\n",
              "    </div>\n",
              "  </div>\n",
              "  "
            ]
          },
          "metadata": {},
          "execution_count": 215
        }
      ],
      "source": [
        "dt4_2.head()"
      ]
    },
    {
      "cell_type": "code",
      "execution_count": 216,
      "metadata": {
        "id": "KF1ltX2EHoKB"
      },
      "outputs": [],
      "source": [
        "dt4_5 = dt4_2.loc[dt4_2['MailClicked']=='yes']\n",
        "dt4_6 = dt4_2.loc[dt4_2['MailClicked']=='no']"
      ]
    },
    {
      "cell_type": "code",
      "execution_count": 217,
      "metadata": {
        "id": "BlEh6dohHoKB",
        "colab": {
          "base_uri": "https://localhost:8080/",
          "height": 424
        },
        "outputId": "9ca269af-6e06-4a88-de0f-d3089dddf302"
      },
      "outputs": [
        {
          "output_type": "execute_result",
          "data": {
            "text/plain": [
              "     CustomerID  MailClicked\n",
              "0        C12121           21\n",
              "1        C12135           24\n",
              "2        C12136           40\n",
              "3        C12157           27\n",
              "4        C12163           46\n",
              "...         ...          ...\n",
              "3479     C42147           31\n",
              "3480     C42148           44\n",
              "3481     C42151           42\n",
              "3482     C42153            9\n",
              "3483     C42167           48\n",
              "\n",
              "[3484 rows x 2 columns]"
            ],
            "text/html": [
              "\n",
              "  <div id=\"df-39d2124c-3590-4e42-ba4e-7f7d85cd84ef\">\n",
              "    <div class=\"colab-df-container\">\n",
              "      <div>\n",
              "<style scoped>\n",
              "    .dataframe tbody tr th:only-of-type {\n",
              "        vertical-align: middle;\n",
              "    }\n",
              "\n",
              "    .dataframe tbody tr th {\n",
              "        vertical-align: top;\n",
              "    }\n",
              "\n",
              "    .dataframe thead th {\n",
              "        text-align: right;\n",
              "    }\n",
              "</style>\n",
              "<table border=\"1\" class=\"dataframe\">\n",
              "  <thead>\n",
              "    <tr style=\"text-align: right;\">\n",
              "      <th></th>\n",
              "      <th>CustomerID</th>\n",
              "      <th>MailClicked</th>\n",
              "    </tr>\n",
              "  </thead>\n",
              "  <tbody>\n",
              "    <tr>\n",
              "      <th>0</th>\n",
              "      <td>C12121</td>\n",
              "      <td>21</td>\n",
              "    </tr>\n",
              "    <tr>\n",
              "      <th>1</th>\n",
              "      <td>C12135</td>\n",
              "      <td>24</td>\n",
              "    </tr>\n",
              "    <tr>\n",
              "      <th>2</th>\n",
              "      <td>C12136</td>\n",
              "      <td>40</td>\n",
              "    </tr>\n",
              "    <tr>\n",
              "      <th>3</th>\n",
              "      <td>C12157</td>\n",
              "      <td>27</td>\n",
              "    </tr>\n",
              "    <tr>\n",
              "      <th>4</th>\n",
              "      <td>C12163</td>\n",
              "      <td>46</td>\n",
              "    </tr>\n",
              "    <tr>\n",
              "      <th>...</th>\n",
              "      <td>...</td>\n",
              "      <td>...</td>\n",
              "    </tr>\n",
              "    <tr>\n",
              "      <th>3479</th>\n",
              "      <td>C42147</td>\n",
              "      <td>31</td>\n",
              "    </tr>\n",
              "    <tr>\n",
              "      <th>3480</th>\n",
              "      <td>C42148</td>\n",
              "      <td>44</td>\n",
              "    </tr>\n",
              "    <tr>\n",
              "      <th>3481</th>\n",
              "      <td>C42151</td>\n",
              "      <td>42</td>\n",
              "    </tr>\n",
              "    <tr>\n",
              "      <th>3482</th>\n",
              "      <td>C42153</td>\n",
              "      <td>9</td>\n",
              "    </tr>\n",
              "    <tr>\n",
              "      <th>3483</th>\n",
              "      <td>C42167</td>\n",
              "      <td>48</td>\n",
              "    </tr>\n",
              "  </tbody>\n",
              "</table>\n",
              "<p>3484 rows × 2 columns</p>\n",
              "</div>\n",
              "      <button class=\"colab-df-convert\" onclick=\"convertToInteractive('df-39d2124c-3590-4e42-ba4e-7f7d85cd84ef')\"\n",
              "              title=\"Convert this dataframe to an interactive table.\"\n",
              "              style=\"display:none;\">\n",
              "        \n",
              "  <svg xmlns=\"http://www.w3.org/2000/svg\" height=\"24px\"viewBox=\"0 0 24 24\"\n",
              "       width=\"24px\">\n",
              "    <path d=\"M0 0h24v24H0V0z\" fill=\"none\"/>\n",
              "    <path d=\"M18.56 5.44l.94 2.06.94-2.06 2.06-.94-2.06-.94-.94-2.06-.94 2.06-2.06.94zm-11 1L8.5 8.5l.94-2.06 2.06-.94-2.06-.94L8.5 2.5l-.94 2.06-2.06.94zm10 10l.94 2.06.94-2.06 2.06-.94-2.06-.94-.94-2.06-.94 2.06-2.06.94z\"/><path d=\"M17.41 7.96l-1.37-1.37c-.4-.4-.92-.59-1.43-.59-.52 0-1.04.2-1.43.59L10.3 9.45l-7.72 7.72c-.78.78-.78 2.05 0 2.83L4 21.41c.39.39.9.59 1.41.59.51 0 1.02-.2 1.41-.59l7.78-7.78 2.81-2.81c.8-.78.8-2.07 0-2.86zM5.41 20L4 18.59l7.72-7.72 1.47 1.35L5.41 20z\"/>\n",
              "  </svg>\n",
              "      </button>\n",
              "      \n",
              "  <style>\n",
              "    .colab-df-container {\n",
              "      display:flex;\n",
              "      flex-wrap:wrap;\n",
              "      gap: 12px;\n",
              "    }\n",
              "\n",
              "    .colab-df-convert {\n",
              "      background-color: #E8F0FE;\n",
              "      border: none;\n",
              "      border-radius: 50%;\n",
              "      cursor: pointer;\n",
              "      display: none;\n",
              "      fill: #1967D2;\n",
              "      height: 32px;\n",
              "      padding: 0 0 0 0;\n",
              "      width: 32px;\n",
              "    }\n",
              "\n",
              "    .colab-df-convert:hover {\n",
              "      background-color: #E2EBFA;\n",
              "      box-shadow: 0px 1px 2px rgba(60, 64, 67, 0.3), 0px 1px 3px 1px rgba(60, 64, 67, 0.15);\n",
              "      fill: #174EA6;\n",
              "    }\n",
              "\n",
              "    [theme=dark] .colab-df-convert {\n",
              "      background-color: #3B4455;\n",
              "      fill: #D2E3FC;\n",
              "    }\n",
              "\n",
              "    [theme=dark] .colab-df-convert:hover {\n",
              "      background-color: #434B5C;\n",
              "      box-shadow: 0px 1px 3px 1px rgba(0, 0, 0, 0.15);\n",
              "      filter: drop-shadow(0px 1px 2px rgba(0, 0, 0, 0.3));\n",
              "      fill: #FFFFFF;\n",
              "    }\n",
              "  </style>\n",
              "\n",
              "      <script>\n",
              "        const buttonEl =\n",
              "          document.querySelector('#df-39d2124c-3590-4e42-ba4e-7f7d85cd84ef button.colab-df-convert');\n",
              "        buttonEl.style.display =\n",
              "          google.colab.kernel.accessAllowed ? 'block' : 'none';\n",
              "\n",
              "        async function convertToInteractive(key) {\n",
              "          const element = document.querySelector('#df-39d2124c-3590-4e42-ba4e-7f7d85cd84ef');\n",
              "          const dataTable =\n",
              "            await google.colab.kernel.invokeFunction('convertToInteractive',\n",
              "                                                     [key], {});\n",
              "          if (!dataTable) return;\n",
              "\n",
              "          const docLinkHtml = 'Like what you see? Visit the ' +\n",
              "            '<a target=\"_blank\" href=https://colab.research.google.com/notebooks/data_table.ipynb>data table notebook</a>'\n",
              "            + ' to learn more about interactive tables.';\n",
              "          element.innerHTML = '';\n",
              "          dataTable['output_type'] = 'display_data';\n",
              "          await google.colab.output.renderOutput(dataTable, element);\n",
              "          const docLink = document.createElement('div');\n",
              "          docLink.innerHTML = docLinkHtml;\n",
              "          element.appendChild(docLink);\n",
              "        }\n",
              "      </script>\n",
              "    </div>\n",
              "  </div>\n",
              "  "
            ]
          },
          "metadata": {},
          "execution_count": 217
        }
      ],
      "source": [
        "test5 = dt4_5.groupby(['CustomerID'])['MailClicked'].agg('count').reset_index()\n",
        "test6 = dt4_6.groupby(['CustomerID'])['MailClicked'].agg('count').reset_index()\n",
        "test6"
      ]
    },
    {
      "cell_type": "code",
      "execution_count": 218,
      "metadata": {
        "id": "YQl2iOi0HoKB",
        "colab": {
          "base_uri": "https://localhost:8080/",
          "height": 206
        },
        "outputId": "ff52fdf1-e1dc-46db-f52e-1d1770d57fda"
      },
      "outputs": [
        {
          "output_type": "execute_result",
          "data": {
            "text/plain": [
              "  CustomerID DateOfemail     EmailType MailOpened  MailClicked_x  CustomMails  \\\n",
              "0     C17838  2010-10-22  WelcomeEmail        yes  NotApplicable          NaN   \n",
              "1     C12403  2008-11-17  WelcomeEmail        yes  NotApplicable         46.0   \n",
              "2     C19041  2011-01-24  WelcomeEmail        yes  NotApplicable         60.0   \n",
              "3     C24069  2010-09-18  WelcomeEmail        yes  NotApplicable         45.0   \n",
              "4     C26718  2010-10-02  WelcomeEmail        yes  NotApplicable         13.0   \n",
              "\n",
              "   CustomMail_Open  CustomMail_No  MailClicked_y  \n",
              "0              NaN            NaN            NaN  \n",
              "1             37.0            9.0            7.0  \n",
              "2             26.0           34.0            4.0  \n",
              "3              NaN           45.0            NaN  \n",
              "4              8.0            5.0            2.0  "
            ],
            "text/html": [
              "\n",
              "  <div id=\"df-09db3974-97f1-4048-9ef4-b38f9c47464b\">\n",
              "    <div class=\"colab-df-container\">\n",
              "      <div>\n",
              "<style scoped>\n",
              "    .dataframe tbody tr th:only-of-type {\n",
              "        vertical-align: middle;\n",
              "    }\n",
              "\n",
              "    .dataframe tbody tr th {\n",
              "        vertical-align: top;\n",
              "    }\n",
              "\n",
              "    .dataframe thead th {\n",
              "        text-align: right;\n",
              "    }\n",
              "</style>\n",
              "<table border=\"1\" class=\"dataframe\">\n",
              "  <thead>\n",
              "    <tr style=\"text-align: right;\">\n",
              "      <th></th>\n",
              "      <th>CustomerID</th>\n",
              "      <th>DateOfemail</th>\n",
              "      <th>EmailType</th>\n",
              "      <th>MailOpened</th>\n",
              "      <th>MailClicked_x</th>\n",
              "      <th>CustomMails</th>\n",
              "      <th>CustomMail_Open</th>\n",
              "      <th>CustomMail_No</th>\n",
              "      <th>MailClicked_y</th>\n",
              "    </tr>\n",
              "  </thead>\n",
              "  <tbody>\n",
              "    <tr>\n",
              "      <th>0</th>\n",
              "      <td>C17838</td>\n",
              "      <td>2010-10-22</td>\n",
              "      <td>WelcomeEmail</td>\n",
              "      <td>yes</td>\n",
              "      <td>NotApplicable</td>\n",
              "      <td>NaN</td>\n",
              "      <td>NaN</td>\n",
              "      <td>NaN</td>\n",
              "      <td>NaN</td>\n",
              "    </tr>\n",
              "    <tr>\n",
              "      <th>1</th>\n",
              "      <td>C12403</td>\n",
              "      <td>2008-11-17</td>\n",
              "      <td>WelcomeEmail</td>\n",
              "      <td>yes</td>\n",
              "      <td>NotApplicable</td>\n",
              "      <td>46.0</td>\n",
              "      <td>37.0</td>\n",
              "      <td>9.0</td>\n",
              "      <td>7.0</td>\n",
              "    </tr>\n",
              "    <tr>\n",
              "      <th>2</th>\n",
              "      <td>C19041</td>\n",
              "      <td>2011-01-24</td>\n",
              "      <td>WelcomeEmail</td>\n",
              "      <td>yes</td>\n",
              "      <td>NotApplicable</td>\n",
              "      <td>60.0</td>\n",
              "      <td>26.0</td>\n",
              "      <td>34.0</td>\n",
              "      <td>4.0</td>\n",
              "    </tr>\n",
              "    <tr>\n",
              "      <th>3</th>\n",
              "      <td>C24069</td>\n",
              "      <td>2010-09-18</td>\n",
              "      <td>WelcomeEmail</td>\n",
              "      <td>yes</td>\n",
              "      <td>NotApplicable</td>\n",
              "      <td>45.0</td>\n",
              "      <td>NaN</td>\n",
              "      <td>45.0</td>\n",
              "      <td>NaN</td>\n",
              "    </tr>\n",
              "    <tr>\n",
              "      <th>4</th>\n",
              "      <td>C26718</td>\n",
              "      <td>2010-10-02</td>\n",
              "      <td>WelcomeEmail</td>\n",
              "      <td>yes</td>\n",
              "      <td>NotApplicable</td>\n",
              "      <td>13.0</td>\n",
              "      <td>8.0</td>\n",
              "      <td>5.0</td>\n",
              "      <td>2.0</td>\n",
              "    </tr>\n",
              "  </tbody>\n",
              "</table>\n",
              "</div>\n",
              "      <button class=\"colab-df-convert\" onclick=\"convertToInteractive('df-09db3974-97f1-4048-9ef4-b38f9c47464b')\"\n",
              "              title=\"Convert this dataframe to an interactive table.\"\n",
              "              style=\"display:none;\">\n",
              "        \n",
              "  <svg xmlns=\"http://www.w3.org/2000/svg\" height=\"24px\"viewBox=\"0 0 24 24\"\n",
              "       width=\"24px\">\n",
              "    <path d=\"M0 0h24v24H0V0z\" fill=\"none\"/>\n",
              "    <path d=\"M18.56 5.44l.94 2.06.94-2.06 2.06-.94-2.06-.94-.94-2.06-.94 2.06-2.06.94zm-11 1L8.5 8.5l.94-2.06 2.06-.94-2.06-.94L8.5 2.5l-.94 2.06-2.06.94zm10 10l.94 2.06.94-2.06 2.06-.94-2.06-.94-.94-2.06-.94 2.06-2.06.94z\"/><path d=\"M17.41 7.96l-1.37-1.37c-.4-.4-.92-.59-1.43-.59-.52 0-1.04.2-1.43.59L10.3 9.45l-7.72 7.72c-.78.78-.78 2.05 0 2.83L4 21.41c.39.39.9.59 1.41.59.51 0 1.02-.2 1.41-.59l7.78-7.78 2.81-2.81c.8-.78.8-2.07 0-2.86zM5.41 20L4 18.59l7.72-7.72 1.47 1.35L5.41 20z\"/>\n",
              "  </svg>\n",
              "      </button>\n",
              "      \n",
              "  <style>\n",
              "    .colab-df-container {\n",
              "      display:flex;\n",
              "      flex-wrap:wrap;\n",
              "      gap: 12px;\n",
              "    }\n",
              "\n",
              "    .colab-df-convert {\n",
              "      background-color: #E8F0FE;\n",
              "      border: none;\n",
              "      border-radius: 50%;\n",
              "      cursor: pointer;\n",
              "      display: none;\n",
              "      fill: #1967D2;\n",
              "      height: 32px;\n",
              "      padding: 0 0 0 0;\n",
              "      width: 32px;\n",
              "    }\n",
              "\n",
              "    .colab-df-convert:hover {\n",
              "      background-color: #E2EBFA;\n",
              "      box-shadow: 0px 1px 2px rgba(60, 64, 67, 0.3), 0px 1px 3px 1px rgba(60, 64, 67, 0.15);\n",
              "      fill: #174EA6;\n",
              "    }\n",
              "\n",
              "    [theme=dark] .colab-df-convert {\n",
              "      background-color: #3B4455;\n",
              "      fill: #D2E3FC;\n",
              "    }\n",
              "\n",
              "    [theme=dark] .colab-df-convert:hover {\n",
              "      background-color: #434B5C;\n",
              "      box-shadow: 0px 1px 3px 1px rgba(0, 0, 0, 0.15);\n",
              "      filter: drop-shadow(0px 1px 2px rgba(0, 0, 0, 0.3));\n",
              "      fill: #FFFFFF;\n",
              "    }\n",
              "  </style>\n",
              "\n",
              "      <script>\n",
              "        const buttonEl =\n",
              "          document.querySelector('#df-09db3974-97f1-4048-9ef4-b38f9c47464b button.colab-df-convert');\n",
              "        buttonEl.style.display =\n",
              "          google.colab.kernel.accessAllowed ? 'block' : 'none';\n",
              "\n",
              "        async function convertToInteractive(key) {\n",
              "          const element = document.querySelector('#df-09db3974-97f1-4048-9ef4-b38f9c47464b');\n",
              "          const dataTable =\n",
              "            await google.colab.kernel.invokeFunction('convertToInteractive',\n",
              "                                                     [key], {});\n",
              "          if (!dataTable) return;\n",
              "\n",
              "          const docLinkHtml = 'Like what you see? Visit the ' +\n",
              "            '<a target=\"_blank\" href=https://colab.research.google.com/notebooks/data_table.ipynb>data table notebook</a>'\n",
              "            + ' to learn more about interactive tables.';\n",
              "          element.innerHTML = '';\n",
              "          dataTable['output_type'] = 'display_data';\n",
              "          await google.colab.output.renderOutput(dataTable, element);\n",
              "          const docLink = document.createElement('div');\n",
              "          docLink.innerHTML = docLinkHtml;\n",
              "          element.appendChild(docLink);\n",
              "        }\n",
              "      </script>\n",
              "    </div>\n",
              "  </div>\n",
              "  "
            ]
          },
          "metadata": {},
          "execution_count": 218
        }
      ],
      "source": [
        "dtest6 = pd.merge(dtest5,test5,on=['CustomerID'],how='outer')\n",
        "dtest6.head()"
      ]
    },
    {
      "cell_type": "code",
      "execution_count": 219,
      "metadata": {
        "id": "LQ1TahXtHoKB",
        "colab": {
          "base_uri": "https://localhost:8080/",
          "height": 250
        },
        "outputId": "1c57644f-d58a-40ba-c3df-08ecc17741e6"
      },
      "outputs": [
        {
          "output_type": "execute_result",
          "data": {
            "text/plain": [
              "  CustomerID DateOfemail     EmailType MailOpened  MailClicked_x  CustomMails  \\\n",
              "0     C12121  2017-12-04  WelcomeEmail        yes  NotApplicable         24.0   \n",
              "1     C12132  2013-10-20  WelcomeEmail        yes  NotApplicable          NaN   \n",
              "2     C12134  2013-09-18  WelcomeEmail        yes  NotApplicable          NaN   \n",
              "3     C12135  2017-11-01  WelcomeEmail        yes  NotApplicable         29.0   \n",
              "4     C12136  2013-09-28  WelcomeEmail        yes  NotApplicable         41.0   \n",
              "\n",
              "   CustomMail_Open  CustomMail_No  MailClicked_y  MailClicked  \n",
              "0              8.0           16.0            3.0         21.0  \n",
              "1              NaN            NaN            NaN          NaN  \n",
              "2              NaN            NaN            NaN          NaN  \n",
              "3              8.0           21.0            5.0         24.0  \n",
              "4              3.0           38.0            1.0         40.0  "
            ],
            "text/html": [
              "\n",
              "  <div id=\"df-5d56fb7d-0d62-4cd1-992f-72ae9a4fb969\">\n",
              "    <div class=\"colab-df-container\">\n",
              "      <div>\n",
              "<style scoped>\n",
              "    .dataframe tbody tr th:only-of-type {\n",
              "        vertical-align: middle;\n",
              "    }\n",
              "\n",
              "    .dataframe tbody tr th {\n",
              "        vertical-align: top;\n",
              "    }\n",
              "\n",
              "    .dataframe thead th {\n",
              "        text-align: right;\n",
              "    }\n",
              "</style>\n",
              "<table border=\"1\" class=\"dataframe\">\n",
              "  <thead>\n",
              "    <tr style=\"text-align: right;\">\n",
              "      <th></th>\n",
              "      <th>CustomerID</th>\n",
              "      <th>DateOfemail</th>\n",
              "      <th>EmailType</th>\n",
              "      <th>MailOpened</th>\n",
              "      <th>MailClicked_x</th>\n",
              "      <th>CustomMails</th>\n",
              "      <th>CustomMail_Open</th>\n",
              "      <th>CustomMail_No</th>\n",
              "      <th>MailClicked_y</th>\n",
              "      <th>MailClicked</th>\n",
              "    </tr>\n",
              "  </thead>\n",
              "  <tbody>\n",
              "    <tr>\n",
              "      <th>0</th>\n",
              "      <td>C12121</td>\n",
              "      <td>2017-12-04</td>\n",
              "      <td>WelcomeEmail</td>\n",
              "      <td>yes</td>\n",
              "      <td>NotApplicable</td>\n",
              "      <td>24.0</td>\n",
              "      <td>8.0</td>\n",
              "      <td>16.0</td>\n",
              "      <td>3.0</td>\n",
              "      <td>21.0</td>\n",
              "    </tr>\n",
              "    <tr>\n",
              "      <th>1</th>\n",
              "      <td>C12132</td>\n",
              "      <td>2013-10-20</td>\n",
              "      <td>WelcomeEmail</td>\n",
              "      <td>yes</td>\n",
              "      <td>NotApplicable</td>\n",
              "      <td>NaN</td>\n",
              "      <td>NaN</td>\n",
              "      <td>NaN</td>\n",
              "      <td>NaN</td>\n",
              "      <td>NaN</td>\n",
              "    </tr>\n",
              "    <tr>\n",
              "      <th>2</th>\n",
              "      <td>C12134</td>\n",
              "      <td>2013-09-18</td>\n",
              "      <td>WelcomeEmail</td>\n",
              "      <td>yes</td>\n",
              "      <td>NotApplicable</td>\n",
              "      <td>NaN</td>\n",
              "      <td>NaN</td>\n",
              "      <td>NaN</td>\n",
              "      <td>NaN</td>\n",
              "      <td>NaN</td>\n",
              "    </tr>\n",
              "    <tr>\n",
              "      <th>3</th>\n",
              "      <td>C12135</td>\n",
              "      <td>2017-11-01</td>\n",
              "      <td>WelcomeEmail</td>\n",
              "      <td>yes</td>\n",
              "      <td>NotApplicable</td>\n",
              "      <td>29.0</td>\n",
              "      <td>8.0</td>\n",
              "      <td>21.0</td>\n",
              "      <td>5.0</td>\n",
              "      <td>24.0</td>\n",
              "    </tr>\n",
              "    <tr>\n",
              "      <th>4</th>\n",
              "      <td>C12136</td>\n",
              "      <td>2013-09-28</td>\n",
              "      <td>WelcomeEmail</td>\n",
              "      <td>yes</td>\n",
              "      <td>NotApplicable</td>\n",
              "      <td>41.0</td>\n",
              "      <td>3.0</td>\n",
              "      <td>38.0</td>\n",
              "      <td>1.0</td>\n",
              "      <td>40.0</td>\n",
              "    </tr>\n",
              "  </tbody>\n",
              "</table>\n",
              "</div>\n",
              "      <button class=\"colab-df-convert\" onclick=\"convertToInteractive('df-5d56fb7d-0d62-4cd1-992f-72ae9a4fb969')\"\n",
              "              title=\"Convert this dataframe to an interactive table.\"\n",
              "              style=\"display:none;\">\n",
              "        \n",
              "  <svg xmlns=\"http://www.w3.org/2000/svg\" height=\"24px\"viewBox=\"0 0 24 24\"\n",
              "       width=\"24px\">\n",
              "    <path d=\"M0 0h24v24H0V0z\" fill=\"none\"/>\n",
              "    <path d=\"M18.56 5.44l.94 2.06.94-2.06 2.06-.94-2.06-.94-.94-2.06-.94 2.06-2.06.94zm-11 1L8.5 8.5l.94-2.06 2.06-.94-2.06-.94L8.5 2.5l-.94 2.06-2.06.94zm10 10l.94 2.06.94-2.06 2.06-.94-2.06-.94-.94-2.06-.94 2.06-2.06.94z\"/><path d=\"M17.41 7.96l-1.37-1.37c-.4-.4-.92-.59-1.43-.59-.52 0-1.04.2-1.43.59L10.3 9.45l-7.72 7.72c-.78.78-.78 2.05 0 2.83L4 21.41c.39.39.9.59 1.41.59.51 0 1.02-.2 1.41-.59l7.78-7.78 2.81-2.81c.8-.78.8-2.07 0-2.86zM5.41 20L4 18.59l7.72-7.72 1.47 1.35L5.41 20z\"/>\n",
              "  </svg>\n",
              "      </button>\n",
              "      \n",
              "  <style>\n",
              "    .colab-df-container {\n",
              "      display:flex;\n",
              "      flex-wrap:wrap;\n",
              "      gap: 12px;\n",
              "    }\n",
              "\n",
              "    .colab-df-convert {\n",
              "      background-color: #E8F0FE;\n",
              "      border: none;\n",
              "      border-radius: 50%;\n",
              "      cursor: pointer;\n",
              "      display: none;\n",
              "      fill: #1967D2;\n",
              "      height: 32px;\n",
              "      padding: 0 0 0 0;\n",
              "      width: 32px;\n",
              "    }\n",
              "\n",
              "    .colab-df-convert:hover {\n",
              "      background-color: #E2EBFA;\n",
              "      box-shadow: 0px 1px 2px rgba(60, 64, 67, 0.3), 0px 1px 3px 1px rgba(60, 64, 67, 0.15);\n",
              "      fill: #174EA6;\n",
              "    }\n",
              "\n",
              "    [theme=dark] .colab-df-convert {\n",
              "      background-color: #3B4455;\n",
              "      fill: #D2E3FC;\n",
              "    }\n",
              "\n",
              "    [theme=dark] .colab-df-convert:hover {\n",
              "      background-color: #434B5C;\n",
              "      box-shadow: 0px 1px 3px 1px rgba(0, 0, 0, 0.15);\n",
              "      filter: drop-shadow(0px 1px 2px rgba(0, 0, 0, 0.3));\n",
              "      fill: #FFFFFF;\n",
              "    }\n",
              "  </style>\n",
              "\n",
              "      <script>\n",
              "        const buttonEl =\n",
              "          document.querySelector('#df-5d56fb7d-0d62-4cd1-992f-72ae9a4fb969 button.colab-df-convert');\n",
              "        buttonEl.style.display =\n",
              "          google.colab.kernel.accessAllowed ? 'block' : 'none';\n",
              "\n",
              "        async function convertToInteractive(key) {\n",
              "          const element = document.querySelector('#df-5d56fb7d-0d62-4cd1-992f-72ae9a4fb969');\n",
              "          const dataTable =\n",
              "            await google.colab.kernel.invokeFunction('convertToInteractive',\n",
              "                                                     [key], {});\n",
              "          if (!dataTable) return;\n",
              "\n",
              "          const docLinkHtml = 'Like what you see? Visit the ' +\n",
              "            '<a target=\"_blank\" href=https://colab.research.google.com/notebooks/data_table.ipynb>data table notebook</a>'\n",
              "            + ' to learn more about interactive tables.';\n",
              "          element.innerHTML = '';\n",
              "          dataTable['output_type'] = 'display_data';\n",
              "          await google.colab.output.renderOutput(dataTable, element);\n",
              "          const docLink = document.createElement('div');\n",
              "          docLink.innerHTML = docLinkHtml;\n",
              "          element.appendChild(docLink);\n",
              "        }\n",
              "      </script>\n",
              "    </div>\n",
              "  </div>\n",
              "  "
            ]
          },
          "metadata": {},
          "execution_count": 219
        }
      ],
      "source": [
        "dtest7 = pd.merge(dtest6,test6,on=['CustomerID'],how='outer',sort=True)\n",
        "dtest7.head()"
      ]
    },
    {
      "cell_type": "code",
      "execution_count": 220,
      "metadata": {
        "id": "UznrJR4HHoKB"
      },
      "outputs": [],
      "source": [
        "dtest7 = dtest7.rename(columns={'MailClicked_x':'MailClicked','MailClicked_y':'MailClicked_Open','MailClicked':'MailClicked_No'})"
      ]
    },
    {
      "cell_type": "code",
      "execution_count": 221,
      "metadata": {
        "id": "yLB44ULPHoKB",
        "colab": {
          "base_uri": "https://localhost:8080/",
          "height": 270
        },
        "outputId": "8b585dca-f329-4afd-aedc-7a6e5aa2993c"
      },
      "outputs": [
        {
          "output_type": "execute_result",
          "data": {
            "text/plain": [
              "  CustomerID DateOfemail     EmailType MailOpened    MailClicked  CustomMails  \\\n",
              "0     C12121  2017-12-04  WelcomeEmail        yes  NotApplicable         24.0   \n",
              "1     C12132  2013-10-20  WelcomeEmail        yes  NotApplicable          NaN   \n",
              "2     C12134  2013-09-18  WelcomeEmail        yes  NotApplicable          NaN   \n",
              "3     C12135  2017-11-01  WelcomeEmail        yes  NotApplicable         29.0   \n",
              "4     C12136  2013-09-28  WelcomeEmail        yes  NotApplicable         41.0   \n",
              "\n",
              "   CustomMail_Open  CustomMail_No  MailClicked_Open  MailClicked_No  \n",
              "0              8.0           16.0               3.0            21.0  \n",
              "1              NaN            NaN               NaN             NaN  \n",
              "2              NaN            NaN               NaN             NaN  \n",
              "3              8.0           21.0               5.0            24.0  \n",
              "4              3.0           38.0               1.0            40.0  "
            ],
            "text/html": [
              "\n",
              "  <div id=\"df-d393bbbe-56da-464e-91f1-cd5f4898c0f7\">\n",
              "    <div class=\"colab-df-container\">\n",
              "      <div>\n",
              "<style scoped>\n",
              "    .dataframe tbody tr th:only-of-type {\n",
              "        vertical-align: middle;\n",
              "    }\n",
              "\n",
              "    .dataframe tbody tr th {\n",
              "        vertical-align: top;\n",
              "    }\n",
              "\n",
              "    .dataframe thead th {\n",
              "        text-align: right;\n",
              "    }\n",
              "</style>\n",
              "<table border=\"1\" class=\"dataframe\">\n",
              "  <thead>\n",
              "    <tr style=\"text-align: right;\">\n",
              "      <th></th>\n",
              "      <th>CustomerID</th>\n",
              "      <th>DateOfemail</th>\n",
              "      <th>EmailType</th>\n",
              "      <th>MailOpened</th>\n",
              "      <th>MailClicked</th>\n",
              "      <th>CustomMails</th>\n",
              "      <th>CustomMail_Open</th>\n",
              "      <th>CustomMail_No</th>\n",
              "      <th>MailClicked_Open</th>\n",
              "      <th>MailClicked_No</th>\n",
              "    </tr>\n",
              "  </thead>\n",
              "  <tbody>\n",
              "    <tr>\n",
              "      <th>0</th>\n",
              "      <td>C12121</td>\n",
              "      <td>2017-12-04</td>\n",
              "      <td>WelcomeEmail</td>\n",
              "      <td>yes</td>\n",
              "      <td>NotApplicable</td>\n",
              "      <td>24.0</td>\n",
              "      <td>8.0</td>\n",
              "      <td>16.0</td>\n",
              "      <td>3.0</td>\n",
              "      <td>21.0</td>\n",
              "    </tr>\n",
              "    <tr>\n",
              "      <th>1</th>\n",
              "      <td>C12132</td>\n",
              "      <td>2013-10-20</td>\n",
              "      <td>WelcomeEmail</td>\n",
              "      <td>yes</td>\n",
              "      <td>NotApplicable</td>\n",
              "      <td>NaN</td>\n",
              "      <td>NaN</td>\n",
              "      <td>NaN</td>\n",
              "      <td>NaN</td>\n",
              "      <td>NaN</td>\n",
              "    </tr>\n",
              "    <tr>\n",
              "      <th>2</th>\n",
              "      <td>C12134</td>\n",
              "      <td>2013-09-18</td>\n",
              "      <td>WelcomeEmail</td>\n",
              "      <td>yes</td>\n",
              "      <td>NotApplicable</td>\n",
              "      <td>NaN</td>\n",
              "      <td>NaN</td>\n",
              "      <td>NaN</td>\n",
              "      <td>NaN</td>\n",
              "      <td>NaN</td>\n",
              "    </tr>\n",
              "    <tr>\n",
              "      <th>3</th>\n",
              "      <td>C12135</td>\n",
              "      <td>2017-11-01</td>\n",
              "      <td>WelcomeEmail</td>\n",
              "      <td>yes</td>\n",
              "      <td>NotApplicable</td>\n",
              "      <td>29.0</td>\n",
              "      <td>8.0</td>\n",
              "      <td>21.0</td>\n",
              "      <td>5.0</td>\n",
              "      <td>24.0</td>\n",
              "    </tr>\n",
              "    <tr>\n",
              "      <th>4</th>\n",
              "      <td>C12136</td>\n",
              "      <td>2013-09-28</td>\n",
              "      <td>WelcomeEmail</td>\n",
              "      <td>yes</td>\n",
              "      <td>NotApplicable</td>\n",
              "      <td>41.0</td>\n",
              "      <td>3.0</td>\n",
              "      <td>38.0</td>\n",
              "      <td>1.0</td>\n",
              "      <td>40.0</td>\n",
              "    </tr>\n",
              "  </tbody>\n",
              "</table>\n",
              "</div>\n",
              "      <button class=\"colab-df-convert\" onclick=\"convertToInteractive('df-d393bbbe-56da-464e-91f1-cd5f4898c0f7')\"\n",
              "              title=\"Convert this dataframe to an interactive table.\"\n",
              "              style=\"display:none;\">\n",
              "        \n",
              "  <svg xmlns=\"http://www.w3.org/2000/svg\" height=\"24px\"viewBox=\"0 0 24 24\"\n",
              "       width=\"24px\">\n",
              "    <path d=\"M0 0h24v24H0V0z\" fill=\"none\"/>\n",
              "    <path d=\"M18.56 5.44l.94 2.06.94-2.06 2.06-.94-2.06-.94-.94-2.06-.94 2.06-2.06.94zm-11 1L8.5 8.5l.94-2.06 2.06-.94-2.06-.94L8.5 2.5l-.94 2.06-2.06.94zm10 10l.94 2.06.94-2.06 2.06-.94-2.06-.94-.94-2.06-.94 2.06-2.06.94z\"/><path d=\"M17.41 7.96l-1.37-1.37c-.4-.4-.92-.59-1.43-.59-.52 0-1.04.2-1.43.59L10.3 9.45l-7.72 7.72c-.78.78-.78 2.05 0 2.83L4 21.41c.39.39.9.59 1.41.59.51 0 1.02-.2 1.41-.59l7.78-7.78 2.81-2.81c.8-.78.8-2.07 0-2.86zM5.41 20L4 18.59l7.72-7.72 1.47 1.35L5.41 20z\"/>\n",
              "  </svg>\n",
              "      </button>\n",
              "      \n",
              "  <style>\n",
              "    .colab-df-container {\n",
              "      display:flex;\n",
              "      flex-wrap:wrap;\n",
              "      gap: 12px;\n",
              "    }\n",
              "\n",
              "    .colab-df-convert {\n",
              "      background-color: #E8F0FE;\n",
              "      border: none;\n",
              "      border-radius: 50%;\n",
              "      cursor: pointer;\n",
              "      display: none;\n",
              "      fill: #1967D2;\n",
              "      height: 32px;\n",
              "      padding: 0 0 0 0;\n",
              "      width: 32px;\n",
              "    }\n",
              "\n",
              "    .colab-df-convert:hover {\n",
              "      background-color: #E2EBFA;\n",
              "      box-shadow: 0px 1px 2px rgba(60, 64, 67, 0.3), 0px 1px 3px 1px rgba(60, 64, 67, 0.15);\n",
              "      fill: #174EA6;\n",
              "    }\n",
              "\n",
              "    [theme=dark] .colab-df-convert {\n",
              "      background-color: #3B4455;\n",
              "      fill: #D2E3FC;\n",
              "    }\n",
              "\n",
              "    [theme=dark] .colab-df-convert:hover {\n",
              "      background-color: #434B5C;\n",
              "      box-shadow: 0px 1px 3px 1px rgba(0, 0, 0, 0.15);\n",
              "      filter: drop-shadow(0px 1px 2px rgba(0, 0, 0, 0.3));\n",
              "      fill: #FFFFFF;\n",
              "    }\n",
              "  </style>\n",
              "\n",
              "      <script>\n",
              "        const buttonEl =\n",
              "          document.querySelector('#df-d393bbbe-56da-464e-91f1-cd5f4898c0f7 button.colab-df-convert');\n",
              "        buttonEl.style.display =\n",
              "          google.colab.kernel.accessAllowed ? 'block' : 'none';\n",
              "\n",
              "        async function convertToInteractive(key) {\n",
              "          const element = document.querySelector('#df-d393bbbe-56da-464e-91f1-cd5f4898c0f7');\n",
              "          const dataTable =\n",
              "            await google.colab.kernel.invokeFunction('convertToInteractive',\n",
              "                                                     [key], {});\n",
              "          if (!dataTable) return;\n",
              "\n",
              "          const docLinkHtml = 'Like what you see? Visit the ' +\n",
              "            '<a target=\"_blank\" href=https://colab.research.google.com/notebooks/data_table.ipynb>data table notebook</a>'\n",
              "            + ' to learn more about interactive tables.';\n",
              "          element.innerHTML = '';\n",
              "          dataTable['output_type'] = 'display_data';\n",
              "          await google.colab.output.renderOutput(dataTable, element);\n",
              "          const docLink = document.createElement('div');\n",
              "          docLink.innerHTML = docLinkHtml;\n",
              "          element.appendChild(docLink);\n",
              "        }\n",
              "      </script>\n",
              "    </div>\n",
              "  </div>\n",
              "  "
            ]
          },
          "metadata": {},
          "execution_count": 221
        }
      ],
      "source": [
        "dtest7.head()"
      ]
    },
    {
      "cell_type": "code",
      "execution_count": 222,
      "metadata": {
        "id": "xsSH1B8aHoKB",
        "colab": {
          "base_uri": "https://localhost:8080/"
        },
        "outputId": "91982500-e6a8-4849-c6c9-1becdd5fe0c8"
      },
      "outputs": [
        {
          "output_type": "execute_result",
          "data": {
            "text/plain": [
              "(5955, 10)"
            ]
          },
          "metadata": {},
          "execution_count": 222
        }
      ],
      "source": [
        "dtest7.shape"
      ]
    },
    {
      "cell_type": "code",
      "execution_count": 223,
      "metadata": {
        "id": "FCFTDE5sHoKB",
        "colab": {
          "base_uri": "https://localhost:8080/"
        },
        "outputId": "d57d8f42-49f5-419a-fc60-2bd9ddc913b1"
      },
      "outputs": [
        {
          "output_type": "execute_result",
          "data": {
            "text/plain": [
              "CustomerID          5955\n",
              "DateOfemail         1631\n",
              "EmailType              1\n",
              "MailOpened             1\n",
              "MailClicked            1\n",
              "CustomMails           75\n",
              "CustomMail_Open       51\n",
              "CustomMail_No         63\n",
              "MailClicked_Open      22\n",
              "MailClicked_No        72\n",
              "dtype: int64"
            ]
          },
          "metadata": {},
          "execution_count": 223
        }
      ],
      "source": [
        "dtest7.nunique()"
      ]
    },
    {
      "cell_type": "code",
      "execution_count": 224,
      "metadata": {
        "id": "18RQTCH3HoKB"
      },
      "outputs": [],
      "source": [
        "dtest = pd.merge(dtest2,dtest7,on=['CustomerID'],how='outer',sort=True)"
      ]
    },
    {
      "cell_type": "code",
      "execution_count": 225,
      "metadata": {
        "id": "k5Y_9OjTHoKB",
        "colab": {
          "base_uri": "https://localhost:8080/",
          "height": 270
        },
        "outputId": "aaaaf0ae-f9e3-4baa-8b6d-c55f7e80165f"
      },
      "outputs": [
        {
          "output_type": "execute_result",
          "data": {
            "text/plain": [
              "  CustomerID   City DateOfRegistration  OnlineCommunication  AutomaticRefill  \\\n",
              "0     C12121  CITY1          12/4/2017                    1                0   \n",
              "1     C12132  CITY3         10/20/2013                    1                0   \n",
              "2     C12134  CITY3          9/18/2013                    1                0   \n",
              "3     C12135  CITY3          11/1/2017                    1                0   \n",
              "4     C12136  CITY2          9/28/2013                    1                0   \n",
              "\n",
              "   DoorstepDelivery PreferredDeliveryDay  OrderQuantity  No_Of_Orders  \\\n",
              "0                 0               Friday             52             1   \n",
              "1                 0              Tuesday             40             1   \n",
              "2                 0               Monday             40             1   \n",
              "3                 1            Wednesday             41             1   \n",
              "4                 0             Thursday             79             1   \n",
              "\n",
              "  DateOfemail     EmailType MailOpened    MailClicked  CustomMails  \\\n",
              "0  2017-12-04  WelcomeEmail        yes  NotApplicable         24.0   \n",
              "1  2013-10-20  WelcomeEmail        yes  NotApplicable          NaN   \n",
              "2  2013-09-18  WelcomeEmail        yes  NotApplicable          NaN   \n",
              "3  2017-11-01  WelcomeEmail        yes  NotApplicable         29.0   \n",
              "4  2013-09-28  WelcomeEmail        yes  NotApplicable         41.0   \n",
              "\n",
              "   CustomMail_Open  CustomMail_No  MailClicked_Open  MailClicked_No  \n",
              "0              8.0           16.0               3.0            21.0  \n",
              "1              NaN            NaN               NaN             NaN  \n",
              "2              NaN            NaN               NaN             NaN  \n",
              "3              8.0           21.0               5.0            24.0  \n",
              "4              3.0           38.0               1.0            40.0  "
            ],
            "text/html": [
              "\n",
              "  <div id=\"df-a0c410ca-3a12-4153-8c8e-050b08a2231e\">\n",
              "    <div class=\"colab-df-container\">\n",
              "      <div>\n",
              "<style scoped>\n",
              "    .dataframe tbody tr th:only-of-type {\n",
              "        vertical-align: middle;\n",
              "    }\n",
              "\n",
              "    .dataframe tbody tr th {\n",
              "        vertical-align: top;\n",
              "    }\n",
              "\n",
              "    .dataframe thead th {\n",
              "        text-align: right;\n",
              "    }\n",
              "</style>\n",
              "<table border=\"1\" class=\"dataframe\">\n",
              "  <thead>\n",
              "    <tr style=\"text-align: right;\">\n",
              "      <th></th>\n",
              "      <th>CustomerID</th>\n",
              "      <th>City</th>\n",
              "      <th>DateOfRegistration</th>\n",
              "      <th>OnlineCommunication</th>\n",
              "      <th>AutomaticRefill</th>\n",
              "      <th>DoorstepDelivery</th>\n",
              "      <th>PreferredDeliveryDay</th>\n",
              "      <th>OrderQuantity</th>\n",
              "      <th>No_Of_Orders</th>\n",
              "      <th>DateOfemail</th>\n",
              "      <th>EmailType</th>\n",
              "      <th>MailOpened</th>\n",
              "      <th>MailClicked</th>\n",
              "      <th>CustomMails</th>\n",
              "      <th>CustomMail_Open</th>\n",
              "      <th>CustomMail_No</th>\n",
              "      <th>MailClicked_Open</th>\n",
              "      <th>MailClicked_No</th>\n",
              "    </tr>\n",
              "  </thead>\n",
              "  <tbody>\n",
              "    <tr>\n",
              "      <th>0</th>\n",
              "      <td>C12121</td>\n",
              "      <td>CITY1</td>\n",
              "      <td>12/4/2017</td>\n",
              "      <td>1</td>\n",
              "      <td>0</td>\n",
              "      <td>0</td>\n",
              "      <td>Friday</td>\n",
              "      <td>52</td>\n",
              "      <td>1</td>\n",
              "      <td>2017-12-04</td>\n",
              "      <td>WelcomeEmail</td>\n",
              "      <td>yes</td>\n",
              "      <td>NotApplicable</td>\n",
              "      <td>24.0</td>\n",
              "      <td>8.0</td>\n",
              "      <td>16.0</td>\n",
              "      <td>3.0</td>\n",
              "      <td>21.0</td>\n",
              "    </tr>\n",
              "    <tr>\n",
              "      <th>1</th>\n",
              "      <td>C12132</td>\n",
              "      <td>CITY3</td>\n",
              "      <td>10/20/2013</td>\n",
              "      <td>1</td>\n",
              "      <td>0</td>\n",
              "      <td>0</td>\n",
              "      <td>Tuesday</td>\n",
              "      <td>40</td>\n",
              "      <td>1</td>\n",
              "      <td>2013-10-20</td>\n",
              "      <td>WelcomeEmail</td>\n",
              "      <td>yes</td>\n",
              "      <td>NotApplicable</td>\n",
              "      <td>NaN</td>\n",
              "      <td>NaN</td>\n",
              "      <td>NaN</td>\n",
              "      <td>NaN</td>\n",
              "      <td>NaN</td>\n",
              "    </tr>\n",
              "    <tr>\n",
              "      <th>2</th>\n",
              "      <td>C12134</td>\n",
              "      <td>CITY3</td>\n",
              "      <td>9/18/2013</td>\n",
              "      <td>1</td>\n",
              "      <td>0</td>\n",
              "      <td>0</td>\n",
              "      <td>Monday</td>\n",
              "      <td>40</td>\n",
              "      <td>1</td>\n",
              "      <td>2013-09-18</td>\n",
              "      <td>WelcomeEmail</td>\n",
              "      <td>yes</td>\n",
              "      <td>NotApplicable</td>\n",
              "      <td>NaN</td>\n",
              "      <td>NaN</td>\n",
              "      <td>NaN</td>\n",
              "      <td>NaN</td>\n",
              "      <td>NaN</td>\n",
              "    </tr>\n",
              "    <tr>\n",
              "      <th>3</th>\n",
              "      <td>C12135</td>\n",
              "      <td>CITY3</td>\n",
              "      <td>11/1/2017</td>\n",
              "      <td>1</td>\n",
              "      <td>0</td>\n",
              "      <td>1</td>\n",
              "      <td>Wednesday</td>\n",
              "      <td>41</td>\n",
              "      <td>1</td>\n",
              "      <td>2017-11-01</td>\n",
              "      <td>WelcomeEmail</td>\n",
              "      <td>yes</td>\n",
              "      <td>NotApplicable</td>\n",
              "      <td>29.0</td>\n",
              "      <td>8.0</td>\n",
              "      <td>21.0</td>\n",
              "      <td>5.0</td>\n",
              "      <td>24.0</td>\n",
              "    </tr>\n",
              "    <tr>\n",
              "      <th>4</th>\n",
              "      <td>C12136</td>\n",
              "      <td>CITY2</td>\n",
              "      <td>9/28/2013</td>\n",
              "      <td>1</td>\n",
              "      <td>0</td>\n",
              "      <td>0</td>\n",
              "      <td>Thursday</td>\n",
              "      <td>79</td>\n",
              "      <td>1</td>\n",
              "      <td>2013-09-28</td>\n",
              "      <td>WelcomeEmail</td>\n",
              "      <td>yes</td>\n",
              "      <td>NotApplicable</td>\n",
              "      <td>41.0</td>\n",
              "      <td>3.0</td>\n",
              "      <td>38.0</td>\n",
              "      <td>1.0</td>\n",
              "      <td>40.0</td>\n",
              "    </tr>\n",
              "  </tbody>\n",
              "</table>\n",
              "</div>\n",
              "      <button class=\"colab-df-convert\" onclick=\"convertToInteractive('df-a0c410ca-3a12-4153-8c8e-050b08a2231e')\"\n",
              "              title=\"Convert this dataframe to an interactive table.\"\n",
              "              style=\"display:none;\">\n",
              "        \n",
              "  <svg xmlns=\"http://www.w3.org/2000/svg\" height=\"24px\"viewBox=\"0 0 24 24\"\n",
              "       width=\"24px\">\n",
              "    <path d=\"M0 0h24v24H0V0z\" fill=\"none\"/>\n",
              "    <path d=\"M18.56 5.44l.94 2.06.94-2.06 2.06-.94-2.06-.94-.94-2.06-.94 2.06-2.06.94zm-11 1L8.5 8.5l.94-2.06 2.06-.94-2.06-.94L8.5 2.5l-.94 2.06-2.06.94zm10 10l.94 2.06.94-2.06 2.06-.94-2.06-.94-.94-2.06-.94 2.06-2.06.94z\"/><path d=\"M17.41 7.96l-1.37-1.37c-.4-.4-.92-.59-1.43-.59-.52 0-1.04.2-1.43.59L10.3 9.45l-7.72 7.72c-.78.78-.78 2.05 0 2.83L4 21.41c.39.39.9.59 1.41.59.51 0 1.02-.2 1.41-.59l7.78-7.78 2.81-2.81c.8-.78.8-2.07 0-2.86zM5.41 20L4 18.59l7.72-7.72 1.47 1.35L5.41 20z\"/>\n",
              "  </svg>\n",
              "      </button>\n",
              "      \n",
              "  <style>\n",
              "    .colab-df-container {\n",
              "      display:flex;\n",
              "      flex-wrap:wrap;\n",
              "      gap: 12px;\n",
              "    }\n",
              "\n",
              "    .colab-df-convert {\n",
              "      background-color: #E8F0FE;\n",
              "      border: none;\n",
              "      border-radius: 50%;\n",
              "      cursor: pointer;\n",
              "      display: none;\n",
              "      fill: #1967D2;\n",
              "      height: 32px;\n",
              "      padding: 0 0 0 0;\n",
              "      width: 32px;\n",
              "    }\n",
              "\n",
              "    .colab-df-convert:hover {\n",
              "      background-color: #E2EBFA;\n",
              "      box-shadow: 0px 1px 2px rgba(60, 64, 67, 0.3), 0px 1px 3px 1px rgba(60, 64, 67, 0.15);\n",
              "      fill: #174EA6;\n",
              "    }\n",
              "\n",
              "    [theme=dark] .colab-df-convert {\n",
              "      background-color: #3B4455;\n",
              "      fill: #D2E3FC;\n",
              "    }\n",
              "\n",
              "    [theme=dark] .colab-df-convert:hover {\n",
              "      background-color: #434B5C;\n",
              "      box-shadow: 0px 1px 3px 1px rgba(0, 0, 0, 0.15);\n",
              "      filter: drop-shadow(0px 1px 2px rgba(0, 0, 0, 0.3));\n",
              "      fill: #FFFFFF;\n",
              "    }\n",
              "  </style>\n",
              "\n",
              "      <script>\n",
              "        const buttonEl =\n",
              "          document.querySelector('#df-a0c410ca-3a12-4153-8c8e-050b08a2231e button.colab-df-convert');\n",
              "        buttonEl.style.display =\n",
              "          google.colab.kernel.accessAllowed ? 'block' : 'none';\n",
              "\n",
              "        async function convertToInteractive(key) {\n",
              "          const element = document.querySelector('#df-a0c410ca-3a12-4153-8c8e-050b08a2231e');\n",
              "          const dataTable =\n",
              "            await google.colab.kernel.invokeFunction('convertToInteractive',\n",
              "                                                     [key], {});\n",
              "          if (!dataTable) return;\n",
              "\n",
              "          const docLinkHtml = 'Like what you see? Visit the ' +\n",
              "            '<a target=\"_blank\" href=https://colab.research.google.com/notebooks/data_table.ipynb>data table notebook</a>'\n",
              "            + ' to learn more about interactive tables.';\n",
              "          element.innerHTML = '';\n",
              "          dataTable['output_type'] = 'display_data';\n",
              "          await google.colab.output.renderOutput(dataTable, element);\n",
              "          const docLink = document.createElement('div');\n",
              "          docLink.innerHTML = docLinkHtml;\n",
              "          element.appendChild(docLink);\n",
              "        }\n",
              "      </script>\n",
              "    </div>\n",
              "  </div>\n",
              "  "
            ]
          },
          "metadata": {},
          "execution_count": 225
        }
      ],
      "source": [
        "dtest.head()"
      ]
    },
    {
      "cell_type": "code",
      "execution_count": 226,
      "metadata": {
        "id": "FlCRMn6MHoKC",
        "colab": {
          "base_uri": "https://localhost:8080/"
        },
        "outputId": "34ebca2c-50e2-4fa8-adb5-1ac93d6378b0"
      },
      "outputs": [
        {
          "output_type": "execute_result",
          "data": {
            "text/plain": [
              "(5955, 18)"
            ]
          },
          "metadata": {},
          "execution_count": 226
        }
      ],
      "source": [
        "dtest.shape"
      ]
    },
    {
      "cell_type": "code",
      "execution_count": 227,
      "metadata": {
        "id": "sL_e4AEAHoKC",
        "colab": {
          "base_uri": "https://localhost:8080/"
        },
        "outputId": "9de4a7a2-7f77-4ea9-9919-7c60ef1590b3"
      },
      "outputs": [
        {
          "output_type": "execute_result",
          "data": {
            "text/plain": [
              "CustomerID                 0\n",
              "City                       0\n",
              "DateOfRegistration         0\n",
              "OnlineCommunication        0\n",
              "AutomaticRefill            0\n",
              "DoorstepDelivery           0\n",
              "PreferredDeliveryDay       0\n",
              "OrderQuantity              0\n",
              "No_Of_Orders               0\n",
              "DateOfemail                0\n",
              "EmailType                  0\n",
              "MailOpened                 0\n",
              "MailClicked                0\n",
              "CustomMails             2457\n",
              "CustomMail_Open         2949\n",
              "CustomMail_No           2578\n",
              "MailClicked_Open        3786\n",
              "MailClicked_No          2471\n",
              "dtype: int64"
            ]
          },
          "metadata": {},
          "execution_count": 227
        }
      ],
      "source": [
        "dtest.isna().sum()"
      ]
    },
    {
      "cell_type": "code",
      "execution_count": 228,
      "metadata": {
        "id": "nMH2ePa0HoKC"
      },
      "outputs": [],
      "source": [
        "finaldtest = dtest.fillna(0)"
      ]
    },
    {
      "cell_type": "code",
      "execution_count": 229,
      "metadata": {
        "id": "BucyG_qIHoKC",
        "colab": {
          "base_uri": "https://localhost:8080/"
        },
        "outputId": "709fc1b1-de57-4d8c-d941-0e4887c051e4"
      },
      "outputs": [
        {
          "output_type": "execute_result",
          "data": {
            "text/plain": [
              "CustomerID              0\n",
              "City                    0\n",
              "DateOfRegistration      0\n",
              "OnlineCommunication     0\n",
              "AutomaticRefill         0\n",
              "DoorstepDelivery        0\n",
              "PreferredDeliveryDay    0\n",
              "OrderQuantity           0\n",
              "No_Of_Orders            0\n",
              "DateOfemail             0\n",
              "EmailType               0\n",
              "MailOpened              0\n",
              "MailClicked             0\n",
              "CustomMails             0\n",
              "CustomMail_Open         0\n",
              "CustomMail_No           0\n",
              "MailClicked_Open        0\n",
              "MailClicked_No          0\n",
              "dtype: int64"
            ]
          },
          "metadata": {},
          "execution_count": 229
        }
      ],
      "source": [
        "finaldtest.isna().sum()"
      ]
    },
    {
      "cell_type": "code",
      "execution_count": 230,
      "metadata": {
        "id": "mHzc-LhkHoKC",
        "colab": {
          "base_uri": "https://localhost:8080/"
        },
        "outputId": "ed3c3401-9827-4f6b-e305-4dd675797b69"
      },
      "outputs": [
        {
          "output_type": "execute_result",
          "data": {
            "text/plain": [
              "CustomerID               object\n",
              "City                     object\n",
              "DateOfRegistration       object\n",
              "OnlineCommunication       int64\n",
              "AutomaticRefill           int64\n",
              "DoorstepDelivery          int64\n",
              "PreferredDeliveryDay     object\n",
              "OrderQuantity             int64\n",
              "No_Of_Orders              int64\n",
              "DateOfemail              object\n",
              "EmailType                object\n",
              "MailOpened               object\n",
              "MailClicked              object\n",
              "CustomMails             float64\n",
              "CustomMail_Open         float64\n",
              "CustomMail_No           float64\n",
              "MailClicked_Open        float64\n",
              "MailClicked_No          float64\n",
              "dtype: object"
            ]
          },
          "metadata": {},
          "execution_count": 230
        }
      ],
      "source": [
        "finaldtest.dtypes"
      ]
    },
    {
      "cell_type": "code",
      "execution_count": 231,
      "metadata": {
        "id": "YgxE9oUpHoKC",
        "colab": {
          "base_uri": "https://localhost:8080/"
        },
        "outputId": "ce9ad2a0-15b3-4a45-d170-47d6e37a5188"
      },
      "outputs": [
        {
          "output_type": "execute_result",
          "data": {
            "text/plain": [
              "(5955, 18)"
            ]
          },
          "metadata": {},
          "execution_count": 231
        }
      ],
      "source": [
        "finaldtest.shape"
      ]
    },
    {
      "cell_type": "code",
      "execution_count": 232,
      "metadata": {
        "id": "pR3JsEhEHoKC"
      },
      "outputs": [],
      "source": [
        "a = finaldtest['CustomerID']"
      ]
    },
    {
      "cell_type": "code",
      "execution_count": 233,
      "metadata": {
        "id": "mbLV9pdoHoKC"
      },
      "outputs": [],
      "source": [
        "finaldtest['MonthOfRegistration'] = pd.to_datetime(finaldtest['DateOfRegistration']).dt.month\n",
        "finaldtest['MonthOfemail'] = pd.to_datetime(finaldtest['DateOfemail']).dt.month\n",
        "finaldtest['YearOfRegistration'] = pd.to_datetime(finaldtest['DateOfRegistration']).dt.year\n",
        "finaldtest['YearOfemail'] = pd.to_datetime(finaldtest['DateOfemail']).dt.year\n",
        "finaldtest['Date_of_Registration'] = pd.to_datetime(finaldtest['DateOfRegistration']).dt.day\n",
        "finaldtest['Date_of_email'] = pd.to_datetime(finaldtest['DateOfemail']).dt.day\n",
        "finaldtest = finaldtest.drop(['DateOfRegistration','DateOfemail','CustomerID'],axis=1)"
      ]
    },
    {
      "cell_type": "code",
      "execution_count": 234,
      "metadata": {
        "id": "7dP7L44-HoKC",
        "colab": {
          "base_uri": "https://localhost:8080/",
          "height": 300
        },
        "outputId": "1406f692-a4db-4375-b207-070e59689e5c"
      },
      "outputs": [
        {
          "output_type": "execute_result",
          "data": {
            "text/plain": [
              "    City  OnlineCommunication  AutomaticRefill  DoorstepDelivery  \\\n",
              "0  CITY1                    1                0                 0   \n",
              "1  CITY3                    1                0                 0   \n",
              "2  CITY3                    1                0                 0   \n",
              "3  CITY3                    1                0                 1   \n",
              "4  CITY2                    1                0                 0   \n",
              "\n",
              "  PreferredDeliveryDay  OrderQuantity  No_Of_Orders     EmailType MailOpened  \\\n",
              "0               Friday             52             1  WelcomeEmail        yes   \n",
              "1              Tuesday             40             1  WelcomeEmail        yes   \n",
              "2               Monday             40             1  WelcomeEmail        yes   \n",
              "3            Wednesday             41             1  WelcomeEmail        yes   \n",
              "4             Thursday             79             1  WelcomeEmail        yes   \n",
              "\n",
              "     MailClicked  ...  CustomMail_Open  CustomMail_No  MailClicked_Open  \\\n",
              "0  NotApplicable  ...              8.0           16.0               3.0   \n",
              "1  NotApplicable  ...              0.0            0.0               0.0   \n",
              "2  NotApplicable  ...              0.0            0.0               0.0   \n",
              "3  NotApplicable  ...              8.0           21.0               5.0   \n",
              "4  NotApplicable  ...              3.0           38.0               1.0   \n",
              "\n",
              "   MailClicked_No  MonthOfRegistration  MonthOfemail  YearOfRegistration  \\\n",
              "0            21.0                   12            12                2017   \n",
              "1             0.0                   10            10                2013   \n",
              "2             0.0                    9             9                2013   \n",
              "3            24.0                   11            11                2017   \n",
              "4            40.0                    9             9                2013   \n",
              "\n",
              "   YearOfemail  Date_of_Registration  Date_of_email  \n",
              "0         2017                     4              4  \n",
              "1         2013                    20             20  \n",
              "2         2013                    18             18  \n",
              "3         2017                     1              1  \n",
              "4         2013                    28             28  \n",
              "\n",
              "[5 rows x 21 columns]"
            ],
            "text/html": [
              "\n",
              "  <div id=\"df-081a2300-9f9f-41e2-8880-fcc9eebb538b\">\n",
              "    <div class=\"colab-df-container\">\n",
              "      <div>\n",
              "<style scoped>\n",
              "    .dataframe tbody tr th:only-of-type {\n",
              "        vertical-align: middle;\n",
              "    }\n",
              "\n",
              "    .dataframe tbody tr th {\n",
              "        vertical-align: top;\n",
              "    }\n",
              "\n",
              "    .dataframe thead th {\n",
              "        text-align: right;\n",
              "    }\n",
              "</style>\n",
              "<table border=\"1\" class=\"dataframe\">\n",
              "  <thead>\n",
              "    <tr style=\"text-align: right;\">\n",
              "      <th></th>\n",
              "      <th>City</th>\n",
              "      <th>OnlineCommunication</th>\n",
              "      <th>AutomaticRefill</th>\n",
              "      <th>DoorstepDelivery</th>\n",
              "      <th>PreferredDeliveryDay</th>\n",
              "      <th>OrderQuantity</th>\n",
              "      <th>No_Of_Orders</th>\n",
              "      <th>EmailType</th>\n",
              "      <th>MailOpened</th>\n",
              "      <th>MailClicked</th>\n",
              "      <th>...</th>\n",
              "      <th>CustomMail_Open</th>\n",
              "      <th>CustomMail_No</th>\n",
              "      <th>MailClicked_Open</th>\n",
              "      <th>MailClicked_No</th>\n",
              "      <th>MonthOfRegistration</th>\n",
              "      <th>MonthOfemail</th>\n",
              "      <th>YearOfRegistration</th>\n",
              "      <th>YearOfemail</th>\n",
              "      <th>Date_of_Registration</th>\n",
              "      <th>Date_of_email</th>\n",
              "    </tr>\n",
              "  </thead>\n",
              "  <tbody>\n",
              "    <tr>\n",
              "      <th>0</th>\n",
              "      <td>CITY1</td>\n",
              "      <td>1</td>\n",
              "      <td>0</td>\n",
              "      <td>0</td>\n",
              "      <td>Friday</td>\n",
              "      <td>52</td>\n",
              "      <td>1</td>\n",
              "      <td>WelcomeEmail</td>\n",
              "      <td>yes</td>\n",
              "      <td>NotApplicable</td>\n",
              "      <td>...</td>\n",
              "      <td>8.0</td>\n",
              "      <td>16.0</td>\n",
              "      <td>3.0</td>\n",
              "      <td>21.0</td>\n",
              "      <td>12</td>\n",
              "      <td>12</td>\n",
              "      <td>2017</td>\n",
              "      <td>2017</td>\n",
              "      <td>4</td>\n",
              "      <td>4</td>\n",
              "    </tr>\n",
              "    <tr>\n",
              "      <th>1</th>\n",
              "      <td>CITY3</td>\n",
              "      <td>1</td>\n",
              "      <td>0</td>\n",
              "      <td>0</td>\n",
              "      <td>Tuesday</td>\n",
              "      <td>40</td>\n",
              "      <td>1</td>\n",
              "      <td>WelcomeEmail</td>\n",
              "      <td>yes</td>\n",
              "      <td>NotApplicable</td>\n",
              "      <td>...</td>\n",
              "      <td>0.0</td>\n",
              "      <td>0.0</td>\n",
              "      <td>0.0</td>\n",
              "      <td>0.0</td>\n",
              "      <td>10</td>\n",
              "      <td>10</td>\n",
              "      <td>2013</td>\n",
              "      <td>2013</td>\n",
              "      <td>20</td>\n",
              "      <td>20</td>\n",
              "    </tr>\n",
              "    <tr>\n",
              "      <th>2</th>\n",
              "      <td>CITY3</td>\n",
              "      <td>1</td>\n",
              "      <td>0</td>\n",
              "      <td>0</td>\n",
              "      <td>Monday</td>\n",
              "      <td>40</td>\n",
              "      <td>1</td>\n",
              "      <td>WelcomeEmail</td>\n",
              "      <td>yes</td>\n",
              "      <td>NotApplicable</td>\n",
              "      <td>...</td>\n",
              "      <td>0.0</td>\n",
              "      <td>0.0</td>\n",
              "      <td>0.0</td>\n",
              "      <td>0.0</td>\n",
              "      <td>9</td>\n",
              "      <td>9</td>\n",
              "      <td>2013</td>\n",
              "      <td>2013</td>\n",
              "      <td>18</td>\n",
              "      <td>18</td>\n",
              "    </tr>\n",
              "    <tr>\n",
              "      <th>3</th>\n",
              "      <td>CITY3</td>\n",
              "      <td>1</td>\n",
              "      <td>0</td>\n",
              "      <td>1</td>\n",
              "      <td>Wednesday</td>\n",
              "      <td>41</td>\n",
              "      <td>1</td>\n",
              "      <td>WelcomeEmail</td>\n",
              "      <td>yes</td>\n",
              "      <td>NotApplicable</td>\n",
              "      <td>...</td>\n",
              "      <td>8.0</td>\n",
              "      <td>21.0</td>\n",
              "      <td>5.0</td>\n",
              "      <td>24.0</td>\n",
              "      <td>11</td>\n",
              "      <td>11</td>\n",
              "      <td>2017</td>\n",
              "      <td>2017</td>\n",
              "      <td>1</td>\n",
              "      <td>1</td>\n",
              "    </tr>\n",
              "    <tr>\n",
              "      <th>4</th>\n",
              "      <td>CITY2</td>\n",
              "      <td>1</td>\n",
              "      <td>0</td>\n",
              "      <td>0</td>\n",
              "      <td>Thursday</td>\n",
              "      <td>79</td>\n",
              "      <td>1</td>\n",
              "      <td>WelcomeEmail</td>\n",
              "      <td>yes</td>\n",
              "      <td>NotApplicable</td>\n",
              "      <td>...</td>\n",
              "      <td>3.0</td>\n",
              "      <td>38.0</td>\n",
              "      <td>1.0</td>\n",
              "      <td>40.0</td>\n",
              "      <td>9</td>\n",
              "      <td>9</td>\n",
              "      <td>2013</td>\n",
              "      <td>2013</td>\n",
              "      <td>28</td>\n",
              "      <td>28</td>\n",
              "    </tr>\n",
              "  </tbody>\n",
              "</table>\n",
              "<p>5 rows × 21 columns</p>\n",
              "</div>\n",
              "      <button class=\"colab-df-convert\" onclick=\"convertToInteractive('df-081a2300-9f9f-41e2-8880-fcc9eebb538b')\"\n",
              "              title=\"Convert this dataframe to an interactive table.\"\n",
              "              style=\"display:none;\">\n",
              "        \n",
              "  <svg xmlns=\"http://www.w3.org/2000/svg\" height=\"24px\"viewBox=\"0 0 24 24\"\n",
              "       width=\"24px\">\n",
              "    <path d=\"M0 0h24v24H0V0z\" fill=\"none\"/>\n",
              "    <path d=\"M18.56 5.44l.94 2.06.94-2.06 2.06-.94-2.06-.94-.94-2.06-.94 2.06-2.06.94zm-11 1L8.5 8.5l.94-2.06 2.06-.94-2.06-.94L8.5 2.5l-.94 2.06-2.06.94zm10 10l.94 2.06.94-2.06 2.06-.94-2.06-.94-.94-2.06-.94 2.06-2.06.94z\"/><path d=\"M17.41 7.96l-1.37-1.37c-.4-.4-.92-.59-1.43-.59-.52 0-1.04.2-1.43.59L10.3 9.45l-7.72 7.72c-.78.78-.78 2.05 0 2.83L4 21.41c.39.39.9.59 1.41.59.51 0 1.02-.2 1.41-.59l7.78-7.78 2.81-2.81c.8-.78.8-2.07 0-2.86zM5.41 20L4 18.59l7.72-7.72 1.47 1.35L5.41 20z\"/>\n",
              "  </svg>\n",
              "      </button>\n",
              "      \n",
              "  <style>\n",
              "    .colab-df-container {\n",
              "      display:flex;\n",
              "      flex-wrap:wrap;\n",
              "      gap: 12px;\n",
              "    }\n",
              "\n",
              "    .colab-df-convert {\n",
              "      background-color: #E8F0FE;\n",
              "      border: none;\n",
              "      border-radius: 50%;\n",
              "      cursor: pointer;\n",
              "      display: none;\n",
              "      fill: #1967D2;\n",
              "      height: 32px;\n",
              "      padding: 0 0 0 0;\n",
              "      width: 32px;\n",
              "    }\n",
              "\n",
              "    .colab-df-convert:hover {\n",
              "      background-color: #E2EBFA;\n",
              "      box-shadow: 0px 1px 2px rgba(60, 64, 67, 0.3), 0px 1px 3px 1px rgba(60, 64, 67, 0.15);\n",
              "      fill: #174EA6;\n",
              "    }\n",
              "\n",
              "    [theme=dark] .colab-df-convert {\n",
              "      background-color: #3B4455;\n",
              "      fill: #D2E3FC;\n",
              "    }\n",
              "\n",
              "    [theme=dark] .colab-df-convert:hover {\n",
              "      background-color: #434B5C;\n",
              "      box-shadow: 0px 1px 3px 1px rgba(0, 0, 0, 0.15);\n",
              "      filter: drop-shadow(0px 1px 2px rgba(0, 0, 0, 0.3));\n",
              "      fill: #FFFFFF;\n",
              "    }\n",
              "  </style>\n",
              "\n",
              "      <script>\n",
              "        const buttonEl =\n",
              "          document.querySelector('#df-081a2300-9f9f-41e2-8880-fcc9eebb538b button.colab-df-convert');\n",
              "        buttonEl.style.display =\n",
              "          google.colab.kernel.accessAllowed ? 'block' : 'none';\n",
              "\n",
              "        async function convertToInteractive(key) {\n",
              "          const element = document.querySelector('#df-081a2300-9f9f-41e2-8880-fcc9eebb538b');\n",
              "          const dataTable =\n",
              "            await google.colab.kernel.invokeFunction('convertToInteractive',\n",
              "                                                     [key], {});\n",
              "          if (!dataTable) return;\n",
              "\n",
              "          const docLinkHtml = 'Like what you see? Visit the ' +\n",
              "            '<a target=\"_blank\" href=https://colab.research.google.com/notebooks/data_table.ipynb>data table notebook</a>'\n",
              "            + ' to learn more about interactive tables.';\n",
              "          element.innerHTML = '';\n",
              "          dataTable['output_type'] = 'display_data';\n",
              "          await google.colab.output.renderOutput(dataTable, element);\n",
              "          const docLink = document.createElement('div');\n",
              "          docLink.innerHTML = docLinkHtml;\n",
              "          element.appendChild(docLink);\n",
              "        }\n",
              "      </script>\n",
              "    </div>\n",
              "  </div>\n",
              "  "
            ]
          },
          "metadata": {},
          "execution_count": 234
        }
      ],
      "source": [
        "finaldtest.head()"
      ]
    },
    {
      "cell_type": "code",
      "execution_count": 235,
      "metadata": {
        "id": "WzCAUYjZHoKC",
        "colab": {
          "base_uri": "https://localhost:8080/"
        },
        "outputId": "c9cde209-9ba6-4b64-b886-8a876a541f3b"
      },
      "outputs": [
        {
          "output_type": "execute_result",
          "data": {
            "text/plain": [
              "City                       4\n",
              "OnlineCommunication        2\n",
              "AutomaticRefill            2\n",
              "DoorstepDelivery           2\n",
              "PreferredDeliveryDay       7\n",
              "OrderQuantity           1030\n",
              "No_Of_Orders             106\n",
              "EmailType                  1\n",
              "MailOpened                 1\n",
              "MailClicked                1\n",
              "CustomMails               76\n",
              "CustomMail_Open           52\n",
              "CustomMail_No             64\n",
              "MailClicked_Open          23\n",
              "MailClicked_No            73\n",
              "MonthOfRegistration       12\n",
              "MonthOfemail              12\n",
              "YearOfRegistration        11\n",
              "YearOfemail               11\n",
              "Date_of_Registration      31\n",
              "Date_of_email             31\n",
              "dtype: int64"
            ]
          },
          "metadata": {},
          "execution_count": 235
        }
      ],
      "source": [
        "finaldtest.nunique()"
      ]
    },
    {
      "cell_type": "code",
      "execution_count": 236,
      "metadata": {
        "id": "0P-AbYLSHoKC",
        "colab": {
          "base_uri": "https://localhost:8080/"
        },
        "outputId": "abd8c920-6a2d-4e1e-d96f-12f415b3a789"
      },
      "outputs": [
        {
          "output_type": "execute_result",
          "data": {
            "text/plain": [
              "City                    0\n",
              "OnlineCommunication     0\n",
              "AutomaticRefill         0\n",
              "DoorstepDelivery        0\n",
              "PreferredDeliveryDay    0\n",
              "OrderQuantity           0\n",
              "No_Of_Orders            0\n",
              "EmailType               0\n",
              "MailOpened              0\n",
              "MailClicked             0\n",
              "CustomMails             0\n",
              "CustomMail_Open         0\n",
              "CustomMail_No           0\n",
              "MailClicked_Open        0\n",
              "MailClicked_No          0\n",
              "MonthOfRegistration     0\n",
              "MonthOfemail            0\n",
              "YearOfRegistration      0\n",
              "YearOfemail             0\n",
              "Date_of_Registration    0\n",
              "Date_of_email           0\n",
              "dtype: int64"
            ]
          },
          "metadata": {},
          "execution_count": 236
        }
      ],
      "source": [
        "finaldtest.isna().sum()"
      ]
    },
    {
      "cell_type": "code",
      "execution_count": 237,
      "metadata": {
        "id": "aWU41oyGHoKC",
        "colab": {
          "base_uri": "https://localhost:8080/"
        },
        "outputId": "d104f05d-55d1-4dac-e304-cc2cf814aa83"
      },
      "outputs": [
        {
          "output_type": "execute_result",
          "data": {
            "text/plain": [
              "City                     object\n",
              "OnlineCommunication       int64\n",
              "AutomaticRefill           int64\n",
              "DoorstepDelivery          int64\n",
              "PreferredDeliveryDay     object\n",
              "OrderQuantity             int64\n",
              "No_Of_Orders              int64\n",
              "EmailType                object\n",
              "MailOpened               object\n",
              "MailClicked              object\n",
              "CustomMails             float64\n",
              "CustomMail_Open         float64\n",
              "CustomMail_No           float64\n",
              "MailClicked_Open        float64\n",
              "MailClicked_No          float64\n",
              "MonthOfRegistration       int64\n",
              "MonthOfemail              int64\n",
              "YearOfRegistration        int64\n",
              "YearOfemail               int64\n",
              "Date_of_Registration      int64\n",
              "Date_of_email             int64\n",
              "dtype: object"
            ]
          },
          "metadata": {},
          "execution_count": 237
        }
      ],
      "source": [
        "finaldtest.dtypes"
      ]
    },
    {
      "cell_type": "code",
      "execution_count": 238,
      "metadata": {
        "id": "8UwFqMl3HoKC"
      },
      "outputs": [],
      "source": [
        "finaldtest['OnlineCommunication'] = finaldtest['OnlineCommunication'].astype('object')\n",
        "finaldtest['DoorstepDelivery'] = finaldtest['DoorstepDelivery'].astype('object')\n",
        "finaldtest['AutomaticRefill'] = finaldtest['AutomaticRefill'].astype('object')"
      ]
    },
    {
      "cell_type": "code",
      "execution_count": 239,
      "metadata": {
        "id": "UxG8271OHoKD"
      },
      "outputs": [],
      "source": [
        "cat_cols = finaldtest.select_dtypes(include='object').columns\n",
        "num_cols = finaldtest.select_dtypes(exclude='object').columns"
      ]
    },
    {
      "cell_type": "code",
      "execution_count": 240,
      "metadata": {
        "id": "sLYprzKqHoKD"
      },
      "outputs": [],
      "source": [
        "for col in cat_cols:\n",
        "    finaldtest[col] = finaldtest[col].astype('category')"
      ]
    },
    {
      "cell_type": "code",
      "execution_count": 241,
      "metadata": {
        "id": "JPQaq4yvHoKD",
        "colab": {
          "base_uri": "https://localhost:8080/"
        },
        "outputId": "b50d0572-bef6-4f21-c9aa-262377c5cff6"
      },
      "outputs": [
        {
          "output_type": "execute_result",
          "data": {
            "text/plain": [
              "City                    category\n",
              "OnlineCommunication     category\n",
              "AutomaticRefill         category\n",
              "DoorstepDelivery        category\n",
              "PreferredDeliveryDay    category\n",
              "OrderQuantity              int64\n",
              "No_Of_Orders               int64\n",
              "EmailType               category\n",
              "MailOpened              category\n",
              "MailClicked             category\n",
              "CustomMails              float64\n",
              "CustomMail_Open          float64\n",
              "CustomMail_No            float64\n",
              "MailClicked_Open         float64\n",
              "MailClicked_No           float64\n",
              "MonthOfRegistration        int64\n",
              "MonthOfemail               int64\n",
              "YearOfRegistration         int64\n",
              "YearOfemail                int64\n",
              "Date_of_Registration       int64\n",
              "Date_of_email              int64\n",
              "dtype: object"
            ]
          },
          "metadata": {},
          "execution_count": 241
        }
      ],
      "source": [
        "finaldtest.dtypes"
      ]
    },
    {
      "cell_type": "code",
      "execution_count": 242,
      "metadata": {
        "id": "HeL2pD5LHoKD"
      },
      "outputs": [],
      "source": [
        "finaldtest_ohe = ohe.transform(finaldtest[cat_attr]).toarray()"
      ]
    },
    {
      "cell_type": "code",
      "execution_count": 243,
      "metadata": {
        "id": "aZVYsEPgHoKD"
      },
      "outputs": [],
      "source": [
        "finaldtest_std = std.transform(finaldtest[num_attr])"
      ]
    },
    {
      "cell_type": "code",
      "execution_count": 244,
      "metadata": {
        "id": "7yF-4Q08HoKD"
      },
      "outputs": [],
      "source": [
        "finaldtest_con = np.concatenate([finaldtest_ohe,finaldtest_std],axis=1)"
      ]
    },
    {
      "cell_type": "code",
      "execution_count": 244,
      "metadata": {
        "id": "i95I6kmJHoKD"
      },
      "outputs": [],
      "source": []
    },
    {
      "cell_type": "code",
      "execution_count": 245,
      "metadata": {
        "id": "rDBmfMSmHoKD"
      },
      "outputs": [],
      "source": [
        "models = [model_dtc1,model_dtc2,model_dtc3,model_rfc1,model_rfc2,model_rfc3,\n",
        "         model_log1,model_log2,model_knn1,model_xgb1,\n",
        "         dtc_sm,rfc_sm,knn_sm,log_sm,xgb_sm]"
      ]
    },
    {
      "cell_type": "code",
      "execution_count": 245,
      "metadata": {
        "id": "IlCtKOv8HoKD"
      },
      "outputs": [],
      "source": []
    },
    {
      "cell_type": "code",
      "execution_count": 246,
      "metadata": {
        "id": "EDl-Vi3tHoKD"
      },
      "outputs": [],
      "source": [
        "Models = ['model_dtc1','model_dtc2','model_dtc3','model_rfc1','model_rfc2','model_rfc3',\n",
        "         'model_log1','model_log2','model_knn1','model_xgb1',\n",
        "         'dtc_sm','rfc_sm','knn_sm','log_sm','xgb_sm']"
      ]
    },
    {
      "cell_type": "code",
      "execution_count": 247,
      "metadata": {
        "id": "y-deyBb5HoKD",
        "colab": {
          "base_uri": "https://localhost:8080/"
        },
        "outputId": "50e55351-a1e1-47c2-df37-e17bb00c8b04"
      },
      "outputs": [
        {
          "output_type": "stream",
          "name": "stdout",
          "text": [
            "[array([2, 2, 2, ..., 0, 1, 2]), array([2, 2, 2, ..., 2, 2, 2]), array([2, 2, 2, ..., 2, 2, 2]), array([2, 2, 2, ..., 2, 2, 2]), array([2, 2, 2, ..., 2, 2, 2]), array([2, 2, 2, ..., 2, 2, 2]), array([2, 2, 2, ..., 2, 2, 0]), array([2, 2, 2, ..., 2, 2, 0]), array([2, 2, 2, ..., 2, 2, 2]), array([2, 2, 2, ..., 2, 2, 2]), array([2, 1, 1, ..., 2, 1, 1]), array([2, 2, 2, ..., 2, 2, 2]), array([2, 2, 2, ..., 2, 2, 2]), array([2, 2, 0, ..., 2, 2, 0]), array([1, 2, 2, ..., 1, 1, 2])]\n"
          ]
        }
      ],
      "source": [
        "list1 = []\n",
        "for model in models:\n",
        "    predictions = model.predict(finaldtest_con)\n",
        "    list1.append(predictions)\n",
        "print(list1)"
      ]
    },
    {
      "cell_type": "code",
      "execution_count": 248,
      "metadata": {
        "id": "4UDY2XlBHoKD"
      },
      "outputs": [],
      "source": [
        "model_df = pd.DataFrame(data=list1).T"
      ]
    },
    {
      "cell_type": "code",
      "execution_count": 249,
      "metadata": {
        "id": "VAGwPYecHoKD",
        "colab": {
          "base_uri": "https://localhost:8080/",
          "height": 206
        },
        "outputId": "7cc93853-497b-4b20-c398-649aa30e0064"
      },
      "outputs": [
        {
          "output_type": "execute_result",
          "data": {
            "text/plain": [
              "   0   1   2   3   4   5   6   7   8   9   10  11  12  13  14\n",
              "0   2   2   2   2   2   2   2   2   2   2   2   2   2   2   1\n",
              "1   2   2   2   2   2   2   2   2   2   2   1   2   2   2   2\n",
              "2   2   2   2   2   2   2   2   2   2   2   1   2   2   0   2\n",
              "3   2   2   2   2   2   2   2   2   2   2   1   2   2   2   2\n",
              "4   1   2   2   2   2   2   2   2   2   2   2   2   1   1   1"
            ],
            "text/html": [
              "\n",
              "  <div id=\"df-93a39887-713d-4418-947d-0d0683eef54a\">\n",
              "    <div class=\"colab-df-container\">\n",
              "      <div>\n",
              "<style scoped>\n",
              "    .dataframe tbody tr th:only-of-type {\n",
              "        vertical-align: middle;\n",
              "    }\n",
              "\n",
              "    .dataframe tbody tr th {\n",
              "        vertical-align: top;\n",
              "    }\n",
              "\n",
              "    .dataframe thead th {\n",
              "        text-align: right;\n",
              "    }\n",
              "</style>\n",
              "<table border=\"1\" class=\"dataframe\">\n",
              "  <thead>\n",
              "    <tr style=\"text-align: right;\">\n",
              "      <th></th>\n",
              "      <th>0</th>\n",
              "      <th>1</th>\n",
              "      <th>2</th>\n",
              "      <th>3</th>\n",
              "      <th>4</th>\n",
              "      <th>5</th>\n",
              "      <th>6</th>\n",
              "      <th>7</th>\n",
              "      <th>8</th>\n",
              "      <th>9</th>\n",
              "      <th>10</th>\n",
              "      <th>11</th>\n",
              "      <th>12</th>\n",
              "      <th>13</th>\n",
              "      <th>14</th>\n",
              "    </tr>\n",
              "  </thead>\n",
              "  <tbody>\n",
              "    <tr>\n",
              "      <th>0</th>\n",
              "      <td>2</td>\n",
              "      <td>2</td>\n",
              "      <td>2</td>\n",
              "      <td>2</td>\n",
              "      <td>2</td>\n",
              "      <td>2</td>\n",
              "      <td>2</td>\n",
              "      <td>2</td>\n",
              "      <td>2</td>\n",
              "      <td>2</td>\n",
              "      <td>2</td>\n",
              "      <td>2</td>\n",
              "      <td>2</td>\n",
              "      <td>2</td>\n",
              "      <td>1</td>\n",
              "    </tr>\n",
              "    <tr>\n",
              "      <th>1</th>\n",
              "      <td>2</td>\n",
              "      <td>2</td>\n",
              "      <td>2</td>\n",
              "      <td>2</td>\n",
              "      <td>2</td>\n",
              "      <td>2</td>\n",
              "      <td>2</td>\n",
              "      <td>2</td>\n",
              "      <td>2</td>\n",
              "      <td>2</td>\n",
              "      <td>1</td>\n",
              "      <td>2</td>\n",
              "      <td>2</td>\n",
              "      <td>2</td>\n",
              "      <td>2</td>\n",
              "    </tr>\n",
              "    <tr>\n",
              "      <th>2</th>\n",
              "      <td>2</td>\n",
              "      <td>2</td>\n",
              "      <td>2</td>\n",
              "      <td>2</td>\n",
              "      <td>2</td>\n",
              "      <td>2</td>\n",
              "      <td>2</td>\n",
              "      <td>2</td>\n",
              "      <td>2</td>\n",
              "      <td>2</td>\n",
              "      <td>1</td>\n",
              "      <td>2</td>\n",
              "      <td>2</td>\n",
              "      <td>0</td>\n",
              "      <td>2</td>\n",
              "    </tr>\n",
              "    <tr>\n",
              "      <th>3</th>\n",
              "      <td>2</td>\n",
              "      <td>2</td>\n",
              "      <td>2</td>\n",
              "      <td>2</td>\n",
              "      <td>2</td>\n",
              "      <td>2</td>\n",
              "      <td>2</td>\n",
              "      <td>2</td>\n",
              "      <td>2</td>\n",
              "      <td>2</td>\n",
              "      <td>1</td>\n",
              "      <td>2</td>\n",
              "      <td>2</td>\n",
              "      <td>2</td>\n",
              "      <td>2</td>\n",
              "    </tr>\n",
              "    <tr>\n",
              "      <th>4</th>\n",
              "      <td>1</td>\n",
              "      <td>2</td>\n",
              "      <td>2</td>\n",
              "      <td>2</td>\n",
              "      <td>2</td>\n",
              "      <td>2</td>\n",
              "      <td>2</td>\n",
              "      <td>2</td>\n",
              "      <td>2</td>\n",
              "      <td>2</td>\n",
              "      <td>2</td>\n",
              "      <td>2</td>\n",
              "      <td>1</td>\n",
              "      <td>1</td>\n",
              "      <td>1</td>\n",
              "    </tr>\n",
              "  </tbody>\n",
              "</table>\n",
              "</div>\n",
              "      <button class=\"colab-df-convert\" onclick=\"convertToInteractive('df-93a39887-713d-4418-947d-0d0683eef54a')\"\n",
              "              title=\"Convert this dataframe to an interactive table.\"\n",
              "              style=\"display:none;\">\n",
              "        \n",
              "  <svg xmlns=\"http://www.w3.org/2000/svg\" height=\"24px\"viewBox=\"0 0 24 24\"\n",
              "       width=\"24px\">\n",
              "    <path d=\"M0 0h24v24H0V0z\" fill=\"none\"/>\n",
              "    <path d=\"M18.56 5.44l.94 2.06.94-2.06 2.06-.94-2.06-.94-.94-2.06-.94 2.06-2.06.94zm-11 1L8.5 8.5l.94-2.06 2.06-.94-2.06-.94L8.5 2.5l-.94 2.06-2.06.94zm10 10l.94 2.06.94-2.06 2.06-.94-2.06-.94-.94-2.06-.94 2.06-2.06.94z\"/><path d=\"M17.41 7.96l-1.37-1.37c-.4-.4-.92-.59-1.43-.59-.52 0-1.04.2-1.43.59L10.3 9.45l-7.72 7.72c-.78.78-.78 2.05 0 2.83L4 21.41c.39.39.9.59 1.41.59.51 0 1.02-.2 1.41-.59l7.78-7.78 2.81-2.81c.8-.78.8-2.07 0-2.86zM5.41 20L4 18.59l7.72-7.72 1.47 1.35L5.41 20z\"/>\n",
              "  </svg>\n",
              "      </button>\n",
              "      \n",
              "  <style>\n",
              "    .colab-df-container {\n",
              "      display:flex;\n",
              "      flex-wrap:wrap;\n",
              "      gap: 12px;\n",
              "    }\n",
              "\n",
              "    .colab-df-convert {\n",
              "      background-color: #E8F0FE;\n",
              "      border: none;\n",
              "      border-radius: 50%;\n",
              "      cursor: pointer;\n",
              "      display: none;\n",
              "      fill: #1967D2;\n",
              "      height: 32px;\n",
              "      padding: 0 0 0 0;\n",
              "      width: 32px;\n",
              "    }\n",
              "\n",
              "    .colab-df-convert:hover {\n",
              "      background-color: #E2EBFA;\n",
              "      box-shadow: 0px 1px 2px rgba(60, 64, 67, 0.3), 0px 1px 3px 1px rgba(60, 64, 67, 0.15);\n",
              "      fill: #174EA6;\n",
              "    }\n",
              "\n",
              "    [theme=dark] .colab-df-convert {\n",
              "      background-color: #3B4455;\n",
              "      fill: #D2E3FC;\n",
              "    }\n",
              "\n",
              "    [theme=dark] .colab-df-convert:hover {\n",
              "      background-color: #434B5C;\n",
              "      box-shadow: 0px 1px 3px 1px rgba(0, 0, 0, 0.15);\n",
              "      filter: drop-shadow(0px 1px 2px rgba(0, 0, 0, 0.3));\n",
              "      fill: #FFFFFF;\n",
              "    }\n",
              "  </style>\n",
              "\n",
              "      <script>\n",
              "        const buttonEl =\n",
              "          document.querySelector('#df-93a39887-713d-4418-947d-0d0683eef54a button.colab-df-convert');\n",
              "        buttonEl.style.display =\n",
              "          google.colab.kernel.accessAllowed ? 'block' : 'none';\n",
              "\n",
              "        async function convertToInteractive(key) {\n",
              "          const element = document.querySelector('#df-93a39887-713d-4418-947d-0d0683eef54a');\n",
              "          const dataTable =\n",
              "            await google.colab.kernel.invokeFunction('convertToInteractive',\n",
              "                                                     [key], {});\n",
              "          if (!dataTable) return;\n",
              "\n",
              "          const docLinkHtml = 'Like what you see? Visit the ' +\n",
              "            '<a target=\"_blank\" href=https://colab.research.google.com/notebooks/data_table.ipynb>data table notebook</a>'\n",
              "            + ' to learn more about interactive tables.';\n",
              "          element.innerHTML = '';\n",
              "          dataTable['output_type'] = 'display_data';\n",
              "          await google.colab.output.renderOutput(dataTable, element);\n",
              "          const docLink = document.createElement('div');\n",
              "          docLink.innerHTML = docLinkHtml;\n",
              "          element.appendChild(docLink);\n",
              "        }\n",
              "      </script>\n",
              "    </div>\n",
              "  </div>\n",
              "  "
            ]
          },
          "metadata": {},
          "execution_count": 249
        }
      ],
      "source": [
        "model_df.head()"
      ]
    },
    {
      "cell_type": "code",
      "execution_count": 250,
      "metadata": {
        "id": "iNQOaNTqHoKD",
        "colab": {
          "base_uri": "https://localhost:8080/",
          "height": 270
        },
        "outputId": "a6487990-85fc-41e0-d14f-c2d772ec28be"
      },
      "outputs": [
        {
          "output_type": "execute_result",
          "data": {
            "text/plain": [
              "   model_dtc1  model_dtc2  model_dtc3  model_rfc1  model_rfc2  model_rfc3  \\\n",
              "0           2           2           2           2           2           2   \n",
              "1           2           2           2           2           2           2   \n",
              "2           2           2           2           2           2           2   \n",
              "3           2           2           2           2           2           2   \n",
              "4           1           2           2           2           2           2   \n",
              "\n",
              "   model_log1  model_log2  model_knn1  model_xgb1  dtc_sm  rfc_sm  knn_sm  \\\n",
              "0           2           2           2           2       2       2       2   \n",
              "1           2           2           2           2       1       2       2   \n",
              "2           2           2           2           2       1       2       2   \n",
              "3           2           2           2           2       1       2       2   \n",
              "4           2           2           2           2       2       2       1   \n",
              "\n",
              "   log_sm  xgb_sm  \n",
              "0       2       1  \n",
              "1       2       2  \n",
              "2       0       2  \n",
              "3       2       2  \n",
              "4       1       1  "
            ],
            "text/html": [
              "\n",
              "  <div id=\"df-373fc631-0aba-48a2-aaee-212f0413b238\">\n",
              "    <div class=\"colab-df-container\">\n",
              "      <div>\n",
              "<style scoped>\n",
              "    .dataframe tbody tr th:only-of-type {\n",
              "        vertical-align: middle;\n",
              "    }\n",
              "\n",
              "    .dataframe tbody tr th {\n",
              "        vertical-align: top;\n",
              "    }\n",
              "\n",
              "    .dataframe thead th {\n",
              "        text-align: right;\n",
              "    }\n",
              "</style>\n",
              "<table border=\"1\" class=\"dataframe\">\n",
              "  <thead>\n",
              "    <tr style=\"text-align: right;\">\n",
              "      <th></th>\n",
              "      <th>model_dtc1</th>\n",
              "      <th>model_dtc2</th>\n",
              "      <th>model_dtc3</th>\n",
              "      <th>model_rfc1</th>\n",
              "      <th>model_rfc2</th>\n",
              "      <th>model_rfc3</th>\n",
              "      <th>model_log1</th>\n",
              "      <th>model_log2</th>\n",
              "      <th>model_knn1</th>\n",
              "      <th>model_xgb1</th>\n",
              "      <th>dtc_sm</th>\n",
              "      <th>rfc_sm</th>\n",
              "      <th>knn_sm</th>\n",
              "      <th>log_sm</th>\n",
              "      <th>xgb_sm</th>\n",
              "    </tr>\n",
              "  </thead>\n",
              "  <tbody>\n",
              "    <tr>\n",
              "      <th>0</th>\n",
              "      <td>2</td>\n",
              "      <td>2</td>\n",
              "      <td>2</td>\n",
              "      <td>2</td>\n",
              "      <td>2</td>\n",
              "      <td>2</td>\n",
              "      <td>2</td>\n",
              "      <td>2</td>\n",
              "      <td>2</td>\n",
              "      <td>2</td>\n",
              "      <td>2</td>\n",
              "      <td>2</td>\n",
              "      <td>2</td>\n",
              "      <td>2</td>\n",
              "      <td>1</td>\n",
              "    </tr>\n",
              "    <tr>\n",
              "      <th>1</th>\n",
              "      <td>2</td>\n",
              "      <td>2</td>\n",
              "      <td>2</td>\n",
              "      <td>2</td>\n",
              "      <td>2</td>\n",
              "      <td>2</td>\n",
              "      <td>2</td>\n",
              "      <td>2</td>\n",
              "      <td>2</td>\n",
              "      <td>2</td>\n",
              "      <td>1</td>\n",
              "      <td>2</td>\n",
              "      <td>2</td>\n",
              "      <td>2</td>\n",
              "      <td>2</td>\n",
              "    </tr>\n",
              "    <tr>\n",
              "      <th>2</th>\n",
              "      <td>2</td>\n",
              "      <td>2</td>\n",
              "      <td>2</td>\n",
              "      <td>2</td>\n",
              "      <td>2</td>\n",
              "      <td>2</td>\n",
              "      <td>2</td>\n",
              "      <td>2</td>\n",
              "      <td>2</td>\n",
              "      <td>2</td>\n",
              "      <td>1</td>\n",
              "      <td>2</td>\n",
              "      <td>2</td>\n",
              "      <td>0</td>\n",
              "      <td>2</td>\n",
              "    </tr>\n",
              "    <tr>\n",
              "      <th>3</th>\n",
              "      <td>2</td>\n",
              "      <td>2</td>\n",
              "      <td>2</td>\n",
              "      <td>2</td>\n",
              "      <td>2</td>\n",
              "      <td>2</td>\n",
              "      <td>2</td>\n",
              "      <td>2</td>\n",
              "      <td>2</td>\n",
              "      <td>2</td>\n",
              "      <td>1</td>\n",
              "      <td>2</td>\n",
              "      <td>2</td>\n",
              "      <td>2</td>\n",
              "      <td>2</td>\n",
              "    </tr>\n",
              "    <tr>\n",
              "      <th>4</th>\n",
              "      <td>1</td>\n",
              "      <td>2</td>\n",
              "      <td>2</td>\n",
              "      <td>2</td>\n",
              "      <td>2</td>\n",
              "      <td>2</td>\n",
              "      <td>2</td>\n",
              "      <td>2</td>\n",
              "      <td>2</td>\n",
              "      <td>2</td>\n",
              "      <td>2</td>\n",
              "      <td>2</td>\n",
              "      <td>1</td>\n",
              "      <td>1</td>\n",
              "      <td>1</td>\n",
              "    </tr>\n",
              "  </tbody>\n",
              "</table>\n",
              "</div>\n",
              "      <button class=\"colab-df-convert\" onclick=\"convertToInteractive('df-373fc631-0aba-48a2-aaee-212f0413b238')\"\n",
              "              title=\"Convert this dataframe to an interactive table.\"\n",
              "              style=\"display:none;\">\n",
              "        \n",
              "  <svg xmlns=\"http://www.w3.org/2000/svg\" height=\"24px\"viewBox=\"0 0 24 24\"\n",
              "       width=\"24px\">\n",
              "    <path d=\"M0 0h24v24H0V0z\" fill=\"none\"/>\n",
              "    <path d=\"M18.56 5.44l.94 2.06.94-2.06 2.06-.94-2.06-.94-.94-2.06-.94 2.06-2.06.94zm-11 1L8.5 8.5l.94-2.06 2.06-.94-2.06-.94L8.5 2.5l-.94 2.06-2.06.94zm10 10l.94 2.06.94-2.06 2.06-.94-2.06-.94-.94-2.06-.94 2.06-2.06.94z\"/><path d=\"M17.41 7.96l-1.37-1.37c-.4-.4-.92-.59-1.43-.59-.52 0-1.04.2-1.43.59L10.3 9.45l-7.72 7.72c-.78.78-.78 2.05 0 2.83L4 21.41c.39.39.9.59 1.41.59.51 0 1.02-.2 1.41-.59l7.78-7.78 2.81-2.81c.8-.78.8-2.07 0-2.86zM5.41 20L4 18.59l7.72-7.72 1.47 1.35L5.41 20z\"/>\n",
              "  </svg>\n",
              "      </button>\n",
              "      \n",
              "  <style>\n",
              "    .colab-df-container {\n",
              "      display:flex;\n",
              "      flex-wrap:wrap;\n",
              "      gap: 12px;\n",
              "    }\n",
              "\n",
              "    .colab-df-convert {\n",
              "      background-color: #E8F0FE;\n",
              "      border: none;\n",
              "      border-radius: 50%;\n",
              "      cursor: pointer;\n",
              "      display: none;\n",
              "      fill: #1967D2;\n",
              "      height: 32px;\n",
              "      padding: 0 0 0 0;\n",
              "      width: 32px;\n",
              "    }\n",
              "\n",
              "    .colab-df-convert:hover {\n",
              "      background-color: #E2EBFA;\n",
              "      box-shadow: 0px 1px 2px rgba(60, 64, 67, 0.3), 0px 1px 3px 1px rgba(60, 64, 67, 0.15);\n",
              "      fill: #174EA6;\n",
              "    }\n",
              "\n",
              "    [theme=dark] .colab-df-convert {\n",
              "      background-color: #3B4455;\n",
              "      fill: #D2E3FC;\n",
              "    }\n",
              "\n",
              "    [theme=dark] .colab-df-convert:hover {\n",
              "      background-color: #434B5C;\n",
              "      box-shadow: 0px 1px 3px 1px rgba(0, 0, 0, 0.15);\n",
              "      filter: drop-shadow(0px 1px 2px rgba(0, 0, 0, 0.3));\n",
              "      fill: #FFFFFF;\n",
              "    }\n",
              "  </style>\n",
              "\n",
              "      <script>\n",
              "        const buttonEl =\n",
              "          document.querySelector('#df-373fc631-0aba-48a2-aaee-212f0413b238 button.colab-df-convert');\n",
              "        buttonEl.style.display =\n",
              "          google.colab.kernel.accessAllowed ? 'block' : 'none';\n",
              "\n",
              "        async function convertToInteractive(key) {\n",
              "          const element = document.querySelector('#df-373fc631-0aba-48a2-aaee-212f0413b238');\n",
              "          const dataTable =\n",
              "            await google.colab.kernel.invokeFunction('convertToInteractive',\n",
              "                                                     [key], {});\n",
              "          if (!dataTable) return;\n",
              "\n",
              "          const docLinkHtml = 'Like what you see? Visit the ' +\n",
              "            '<a target=\"_blank\" href=https://colab.research.google.com/notebooks/data_table.ipynb>data table notebook</a>'\n",
              "            + ' to learn more about interactive tables.';\n",
              "          element.innerHTML = '';\n",
              "          dataTable['output_type'] = 'display_data';\n",
              "          await google.colab.output.renderOutput(dataTable, element);\n",
              "          const docLink = document.createElement('div');\n",
              "          docLink.innerHTML = docLinkHtml;\n",
              "          element.appendChild(docLink);\n",
              "        }\n",
              "      </script>\n",
              "    </div>\n",
              "  </div>\n",
              "  "
            ]
          },
          "metadata": {},
          "execution_count": 250
        }
      ],
      "source": [
        "model_df.columns = Models\n",
        "model_df.head()"
      ]
    },
    {
      "cell_type": "code",
      "execution_count": 251,
      "metadata": {
        "id": "fjIe27ulHoKD",
        "colab": {
          "base_uri": "https://localhost:8080/"
        },
        "outputId": "e849388b-553f-410c-9a6c-e3b4ec5a8b16"
      },
      "outputs": [
        {
          "output_type": "stream",
          "name": "stdout",
          "text": [
            "\n",
            " 2    3892\n",
            "1    1635\n",
            "0     428\n",
            "Name: model_dtc1, dtype: int64\n",
            "\n",
            " 2    5955\n",
            "Name: model_dtc2, dtype: int64\n",
            "\n",
            " 2    5955\n",
            "Name: model_dtc3, dtype: int64\n",
            "\n",
            " 2    5955\n",
            "Name: model_rfc1, dtype: int64\n",
            "\n",
            " 2    5955\n",
            "Name: model_rfc2, dtype: int64\n",
            "\n",
            " 2    5955\n",
            "Name: model_rfc3, dtype: int64\n",
            "\n",
            " 2    3863\n",
            "0    2078\n",
            "1      14\n",
            "Name: model_log1, dtype: int64\n",
            "\n",
            " 2    4792\n",
            "0    1127\n",
            "1      36\n",
            "Name: model_log2, dtype: int64\n",
            "\n",
            " 2    5951\n",
            "0       4\n",
            "Name: model_knn1, dtype: int64\n",
            "\n",
            " 2    5955\n",
            "Name: model_xgb1, dtype: int64\n",
            "\n",
            " 2    4421\n",
            "1    1534\n",
            "Name: dtc_sm, dtype: int64\n",
            "\n",
            " 2    5667\n",
            "1     288\n",
            "Name: rfc_sm, dtype: int64\n",
            "\n",
            " 2    5319\n",
            "1     340\n",
            "0     296\n",
            "Name: knn_sm, dtype: int64\n",
            "\n",
            " 2    3526\n",
            "0    2193\n",
            "1     236\n",
            "Name: log_sm, dtype: int64\n",
            "\n",
            " 1    4250\n",
            "2    1705\n",
            "Name: xgb_sm, dtype: int64\n"
          ]
        }
      ],
      "source": [
        "for i in model_df.columns:\n",
        "    print('\\n',model_df[i].value_counts())"
      ]
    },
    {
      "cell_type": "code",
      "execution_count": 251,
      "metadata": {
        "id": "d57K8Y_hHoKE"
      },
      "outputs": [],
      "source": []
    },
    {
      "cell_type": "markdown",
      "metadata": {
        "id": "hH9KGbZ6HoKE"
      },
      "source": [
        "# Predicting the different models with testdata"
      ]
    },
    {
      "cell_type": "code",
      "execution_count": 252,
      "metadata": {
        "id": "yFAvguYNHoKE"
      },
      "outputs": [],
      "source": [
        "predicted_model = xgb_sm.predict(finaldtest_con)"
      ]
    },
    {
      "cell_type": "code",
      "execution_count": 253,
      "metadata": {
        "id": "0_XNj3wmHoKE",
        "colab": {
          "base_uri": "https://localhost:8080/"
        },
        "outputId": "99784baa-2a1a-4e83-fe2f-4e3f5fc41717"
      },
      "outputs": [
        {
          "output_type": "execute_result",
          "data": {
            "text/plain": [
              "array([1, 2, 2, ..., 1, 1, 2])"
            ]
          },
          "metadata": {},
          "execution_count": 253
        }
      ],
      "source": [
        "predicted_model"
      ]
    },
    {
      "cell_type": "markdown",
      "metadata": {
        "id": "O84z68dTHoKE"
      },
      "source": [
        "Assinging them to column by adding to the data frame"
      ]
    },
    {
      "cell_type": "code",
      "execution_count": 254,
      "metadata": {
        "id": "f_WUp3kqHoKE"
      },
      "outputs": [],
      "source": [
        "finaldtest['RetentionPotential'] = predicted_model"
      ]
    },
    {
      "cell_type": "code",
      "execution_count": 255,
      "metadata": {
        "id": "hgVT4H-xHoKE",
        "colab": {
          "base_uri": "https://localhost:8080/",
          "height": 300
        },
        "outputId": "09308f7e-50c0-482a-a82e-a0ee17c1c983"
      },
      "outputs": [
        {
          "output_type": "execute_result",
          "data": {
            "text/plain": [
              "    City OnlineCommunication AutomaticRefill DoorstepDelivery  \\\n",
              "0  CITY1                   1               0                0   \n",
              "1  CITY3                   1               0                0   \n",
              "2  CITY3                   1               0                0   \n",
              "3  CITY3                   1               0                1   \n",
              "4  CITY2                   1               0                0   \n",
              "\n",
              "  PreferredDeliveryDay  OrderQuantity  No_Of_Orders     EmailType MailOpened  \\\n",
              "0               Friday             52             1  WelcomeEmail        yes   \n",
              "1              Tuesday             40             1  WelcomeEmail        yes   \n",
              "2               Monday             40             1  WelcomeEmail        yes   \n",
              "3            Wednesday             41             1  WelcomeEmail        yes   \n",
              "4             Thursday             79             1  WelcomeEmail        yes   \n",
              "\n",
              "     MailClicked  ...  CustomMail_No  MailClicked_Open  MailClicked_No  \\\n",
              "0  NotApplicable  ...           16.0               3.0            21.0   \n",
              "1  NotApplicable  ...            0.0               0.0             0.0   \n",
              "2  NotApplicable  ...            0.0               0.0             0.0   \n",
              "3  NotApplicable  ...           21.0               5.0            24.0   \n",
              "4  NotApplicable  ...           38.0               1.0            40.0   \n",
              "\n",
              "   MonthOfRegistration  MonthOfemail  YearOfRegistration  YearOfemail  \\\n",
              "0                   12            12                2017         2017   \n",
              "1                   10            10                2013         2013   \n",
              "2                    9             9                2013         2013   \n",
              "3                   11            11                2017         2017   \n",
              "4                    9             9                2013         2013   \n",
              "\n",
              "   Date_of_Registration  Date_of_email  RetentionPotential  \n",
              "0                     4              4                   1  \n",
              "1                    20             20                   2  \n",
              "2                    18             18                   2  \n",
              "3                     1              1                   2  \n",
              "4                    28             28                   1  \n",
              "\n",
              "[5 rows x 22 columns]"
            ],
            "text/html": [
              "\n",
              "  <div id=\"df-ec5d47d6-b822-4b67-80ae-d00cf8ceff00\">\n",
              "    <div class=\"colab-df-container\">\n",
              "      <div>\n",
              "<style scoped>\n",
              "    .dataframe tbody tr th:only-of-type {\n",
              "        vertical-align: middle;\n",
              "    }\n",
              "\n",
              "    .dataframe tbody tr th {\n",
              "        vertical-align: top;\n",
              "    }\n",
              "\n",
              "    .dataframe thead th {\n",
              "        text-align: right;\n",
              "    }\n",
              "</style>\n",
              "<table border=\"1\" class=\"dataframe\">\n",
              "  <thead>\n",
              "    <tr style=\"text-align: right;\">\n",
              "      <th></th>\n",
              "      <th>City</th>\n",
              "      <th>OnlineCommunication</th>\n",
              "      <th>AutomaticRefill</th>\n",
              "      <th>DoorstepDelivery</th>\n",
              "      <th>PreferredDeliveryDay</th>\n",
              "      <th>OrderQuantity</th>\n",
              "      <th>No_Of_Orders</th>\n",
              "      <th>EmailType</th>\n",
              "      <th>MailOpened</th>\n",
              "      <th>MailClicked</th>\n",
              "      <th>...</th>\n",
              "      <th>CustomMail_No</th>\n",
              "      <th>MailClicked_Open</th>\n",
              "      <th>MailClicked_No</th>\n",
              "      <th>MonthOfRegistration</th>\n",
              "      <th>MonthOfemail</th>\n",
              "      <th>YearOfRegistration</th>\n",
              "      <th>YearOfemail</th>\n",
              "      <th>Date_of_Registration</th>\n",
              "      <th>Date_of_email</th>\n",
              "      <th>RetentionPotential</th>\n",
              "    </tr>\n",
              "  </thead>\n",
              "  <tbody>\n",
              "    <tr>\n",
              "      <th>0</th>\n",
              "      <td>CITY1</td>\n",
              "      <td>1</td>\n",
              "      <td>0</td>\n",
              "      <td>0</td>\n",
              "      <td>Friday</td>\n",
              "      <td>52</td>\n",
              "      <td>1</td>\n",
              "      <td>WelcomeEmail</td>\n",
              "      <td>yes</td>\n",
              "      <td>NotApplicable</td>\n",
              "      <td>...</td>\n",
              "      <td>16.0</td>\n",
              "      <td>3.0</td>\n",
              "      <td>21.0</td>\n",
              "      <td>12</td>\n",
              "      <td>12</td>\n",
              "      <td>2017</td>\n",
              "      <td>2017</td>\n",
              "      <td>4</td>\n",
              "      <td>4</td>\n",
              "      <td>1</td>\n",
              "    </tr>\n",
              "    <tr>\n",
              "      <th>1</th>\n",
              "      <td>CITY3</td>\n",
              "      <td>1</td>\n",
              "      <td>0</td>\n",
              "      <td>0</td>\n",
              "      <td>Tuesday</td>\n",
              "      <td>40</td>\n",
              "      <td>1</td>\n",
              "      <td>WelcomeEmail</td>\n",
              "      <td>yes</td>\n",
              "      <td>NotApplicable</td>\n",
              "      <td>...</td>\n",
              "      <td>0.0</td>\n",
              "      <td>0.0</td>\n",
              "      <td>0.0</td>\n",
              "      <td>10</td>\n",
              "      <td>10</td>\n",
              "      <td>2013</td>\n",
              "      <td>2013</td>\n",
              "      <td>20</td>\n",
              "      <td>20</td>\n",
              "      <td>2</td>\n",
              "    </tr>\n",
              "    <tr>\n",
              "      <th>2</th>\n",
              "      <td>CITY3</td>\n",
              "      <td>1</td>\n",
              "      <td>0</td>\n",
              "      <td>0</td>\n",
              "      <td>Monday</td>\n",
              "      <td>40</td>\n",
              "      <td>1</td>\n",
              "      <td>WelcomeEmail</td>\n",
              "      <td>yes</td>\n",
              "      <td>NotApplicable</td>\n",
              "      <td>...</td>\n",
              "      <td>0.0</td>\n",
              "      <td>0.0</td>\n",
              "      <td>0.0</td>\n",
              "      <td>9</td>\n",
              "      <td>9</td>\n",
              "      <td>2013</td>\n",
              "      <td>2013</td>\n",
              "      <td>18</td>\n",
              "      <td>18</td>\n",
              "      <td>2</td>\n",
              "    </tr>\n",
              "    <tr>\n",
              "      <th>3</th>\n",
              "      <td>CITY3</td>\n",
              "      <td>1</td>\n",
              "      <td>0</td>\n",
              "      <td>1</td>\n",
              "      <td>Wednesday</td>\n",
              "      <td>41</td>\n",
              "      <td>1</td>\n",
              "      <td>WelcomeEmail</td>\n",
              "      <td>yes</td>\n",
              "      <td>NotApplicable</td>\n",
              "      <td>...</td>\n",
              "      <td>21.0</td>\n",
              "      <td>5.0</td>\n",
              "      <td>24.0</td>\n",
              "      <td>11</td>\n",
              "      <td>11</td>\n",
              "      <td>2017</td>\n",
              "      <td>2017</td>\n",
              "      <td>1</td>\n",
              "      <td>1</td>\n",
              "      <td>2</td>\n",
              "    </tr>\n",
              "    <tr>\n",
              "      <th>4</th>\n",
              "      <td>CITY2</td>\n",
              "      <td>1</td>\n",
              "      <td>0</td>\n",
              "      <td>0</td>\n",
              "      <td>Thursday</td>\n",
              "      <td>79</td>\n",
              "      <td>1</td>\n",
              "      <td>WelcomeEmail</td>\n",
              "      <td>yes</td>\n",
              "      <td>NotApplicable</td>\n",
              "      <td>...</td>\n",
              "      <td>38.0</td>\n",
              "      <td>1.0</td>\n",
              "      <td>40.0</td>\n",
              "      <td>9</td>\n",
              "      <td>9</td>\n",
              "      <td>2013</td>\n",
              "      <td>2013</td>\n",
              "      <td>28</td>\n",
              "      <td>28</td>\n",
              "      <td>1</td>\n",
              "    </tr>\n",
              "  </tbody>\n",
              "</table>\n",
              "<p>5 rows × 22 columns</p>\n",
              "</div>\n",
              "      <button class=\"colab-df-convert\" onclick=\"convertToInteractive('df-ec5d47d6-b822-4b67-80ae-d00cf8ceff00')\"\n",
              "              title=\"Convert this dataframe to an interactive table.\"\n",
              "              style=\"display:none;\">\n",
              "        \n",
              "  <svg xmlns=\"http://www.w3.org/2000/svg\" height=\"24px\"viewBox=\"0 0 24 24\"\n",
              "       width=\"24px\">\n",
              "    <path d=\"M0 0h24v24H0V0z\" fill=\"none\"/>\n",
              "    <path d=\"M18.56 5.44l.94 2.06.94-2.06 2.06-.94-2.06-.94-.94-2.06-.94 2.06-2.06.94zm-11 1L8.5 8.5l.94-2.06 2.06-.94-2.06-.94L8.5 2.5l-.94 2.06-2.06.94zm10 10l.94 2.06.94-2.06 2.06-.94-2.06-.94-.94-2.06-.94 2.06-2.06.94z\"/><path d=\"M17.41 7.96l-1.37-1.37c-.4-.4-.92-.59-1.43-.59-.52 0-1.04.2-1.43.59L10.3 9.45l-7.72 7.72c-.78.78-.78 2.05 0 2.83L4 21.41c.39.39.9.59 1.41.59.51 0 1.02-.2 1.41-.59l7.78-7.78 2.81-2.81c.8-.78.8-2.07 0-2.86zM5.41 20L4 18.59l7.72-7.72 1.47 1.35L5.41 20z\"/>\n",
              "  </svg>\n",
              "      </button>\n",
              "      \n",
              "  <style>\n",
              "    .colab-df-container {\n",
              "      display:flex;\n",
              "      flex-wrap:wrap;\n",
              "      gap: 12px;\n",
              "    }\n",
              "\n",
              "    .colab-df-convert {\n",
              "      background-color: #E8F0FE;\n",
              "      border: none;\n",
              "      border-radius: 50%;\n",
              "      cursor: pointer;\n",
              "      display: none;\n",
              "      fill: #1967D2;\n",
              "      height: 32px;\n",
              "      padding: 0 0 0 0;\n",
              "      width: 32px;\n",
              "    }\n",
              "\n",
              "    .colab-df-convert:hover {\n",
              "      background-color: #E2EBFA;\n",
              "      box-shadow: 0px 1px 2px rgba(60, 64, 67, 0.3), 0px 1px 3px 1px rgba(60, 64, 67, 0.15);\n",
              "      fill: #174EA6;\n",
              "    }\n",
              "\n",
              "    [theme=dark] .colab-df-convert {\n",
              "      background-color: #3B4455;\n",
              "      fill: #D2E3FC;\n",
              "    }\n",
              "\n",
              "    [theme=dark] .colab-df-convert:hover {\n",
              "      background-color: #434B5C;\n",
              "      box-shadow: 0px 1px 3px 1px rgba(0, 0, 0, 0.15);\n",
              "      filter: drop-shadow(0px 1px 2px rgba(0, 0, 0, 0.3));\n",
              "      fill: #FFFFFF;\n",
              "    }\n",
              "  </style>\n",
              "\n",
              "      <script>\n",
              "        const buttonEl =\n",
              "          document.querySelector('#df-ec5d47d6-b822-4b67-80ae-d00cf8ceff00 button.colab-df-convert');\n",
              "        buttonEl.style.display =\n",
              "          google.colab.kernel.accessAllowed ? 'block' : 'none';\n",
              "\n",
              "        async function convertToInteractive(key) {\n",
              "          const element = document.querySelector('#df-ec5d47d6-b822-4b67-80ae-d00cf8ceff00');\n",
              "          const dataTable =\n",
              "            await google.colab.kernel.invokeFunction('convertToInteractive',\n",
              "                                                     [key], {});\n",
              "          if (!dataTable) return;\n",
              "\n",
              "          const docLinkHtml = 'Like what you see? Visit the ' +\n",
              "            '<a target=\"_blank\" href=https://colab.research.google.com/notebooks/data_table.ipynb>data table notebook</a>'\n",
              "            + ' to learn more about interactive tables.';\n",
              "          element.innerHTML = '';\n",
              "          dataTable['output_type'] = 'display_data';\n",
              "          await google.colab.output.renderOutput(dataTable, element);\n",
              "          const docLink = document.createElement('div');\n",
              "          docLink.innerHTML = docLinkHtml;\n",
              "          element.appendChild(docLink);\n",
              "        }\n",
              "      </script>\n",
              "    </div>\n",
              "  </div>\n",
              "  "
            ]
          },
          "metadata": {},
          "execution_count": 255
        }
      ],
      "source": [
        "finaldtest.head()"
      ]
    },
    {
      "cell_type": "code",
      "execution_count": 256,
      "metadata": {
        "id": "Dwj5lNvQHoKE",
        "colab": {
          "base_uri": "https://localhost:8080/"
        },
        "outputId": "430925fd-fa08-41be-ed2f-27de1f2c981e"
      },
      "outputs": [
        {
          "output_type": "execute_result",
          "data": {
            "text/plain": [
              "1    4250\n",
              "2    1705\n",
              "Name: RetentionPotential, dtype: int64"
            ]
          },
          "metadata": {},
          "execution_count": 256
        }
      ],
      "source": [
        "finaldtest['RetentionPotential'].value_counts()"
      ]
    },
    {
      "cell_type": "code",
      "execution_count": 257,
      "metadata": {
        "id": "kyU88a_fHoKE"
      },
      "outputs": [],
      "source": [
        "finaldtest['CustomerID'] = a"
      ]
    },
    {
      "cell_type": "code",
      "execution_count": 258,
      "metadata": {
        "id": "5EUNA5U6HoKE",
        "colab": {
          "base_uri": "https://localhost:8080/",
          "height": 205
        },
        "outputId": "59f17ec2-ed5d-485f-d14a-d0454ddc130a"
      },
      "outputs": [
        {
          "output_type": "execute_result",
          "data": {
            "text/plain": [
              "    City OnlineCommunication AutomaticRefill DoorstepDelivery  \\\n",
              "0  CITY1                   1               0                0   \n",
              "1  CITY3                   1               0                0   \n",
              "\n",
              "  PreferredDeliveryDay  OrderQuantity  No_Of_Orders     EmailType MailOpened  \\\n",
              "0               Friday             52             1  WelcomeEmail        yes   \n",
              "1              Tuesday             40             1  WelcomeEmail        yes   \n",
              "\n",
              "     MailClicked  ...  MailClicked_Open  MailClicked_No  MonthOfRegistration  \\\n",
              "0  NotApplicable  ...               3.0            21.0                   12   \n",
              "1  NotApplicable  ...               0.0             0.0                   10   \n",
              "\n",
              "   MonthOfemail  YearOfRegistration  YearOfemail  Date_of_Registration  \\\n",
              "0            12                2017         2017                     4   \n",
              "1            10                2013         2013                    20   \n",
              "\n",
              "   Date_of_email  RetentionPotential  CustomerID  \n",
              "0              4                   1      C12121  \n",
              "1             20                   2      C12132  \n",
              "\n",
              "[2 rows x 23 columns]"
            ],
            "text/html": [
              "\n",
              "  <div id=\"df-80a6b33f-388d-4d5a-8ce8-b61017bc2b16\">\n",
              "    <div class=\"colab-df-container\">\n",
              "      <div>\n",
              "<style scoped>\n",
              "    .dataframe tbody tr th:only-of-type {\n",
              "        vertical-align: middle;\n",
              "    }\n",
              "\n",
              "    .dataframe tbody tr th {\n",
              "        vertical-align: top;\n",
              "    }\n",
              "\n",
              "    .dataframe thead th {\n",
              "        text-align: right;\n",
              "    }\n",
              "</style>\n",
              "<table border=\"1\" class=\"dataframe\">\n",
              "  <thead>\n",
              "    <tr style=\"text-align: right;\">\n",
              "      <th></th>\n",
              "      <th>City</th>\n",
              "      <th>OnlineCommunication</th>\n",
              "      <th>AutomaticRefill</th>\n",
              "      <th>DoorstepDelivery</th>\n",
              "      <th>PreferredDeliveryDay</th>\n",
              "      <th>OrderQuantity</th>\n",
              "      <th>No_Of_Orders</th>\n",
              "      <th>EmailType</th>\n",
              "      <th>MailOpened</th>\n",
              "      <th>MailClicked</th>\n",
              "      <th>...</th>\n",
              "      <th>MailClicked_Open</th>\n",
              "      <th>MailClicked_No</th>\n",
              "      <th>MonthOfRegistration</th>\n",
              "      <th>MonthOfemail</th>\n",
              "      <th>YearOfRegistration</th>\n",
              "      <th>YearOfemail</th>\n",
              "      <th>Date_of_Registration</th>\n",
              "      <th>Date_of_email</th>\n",
              "      <th>RetentionPotential</th>\n",
              "      <th>CustomerID</th>\n",
              "    </tr>\n",
              "  </thead>\n",
              "  <tbody>\n",
              "    <tr>\n",
              "      <th>0</th>\n",
              "      <td>CITY1</td>\n",
              "      <td>1</td>\n",
              "      <td>0</td>\n",
              "      <td>0</td>\n",
              "      <td>Friday</td>\n",
              "      <td>52</td>\n",
              "      <td>1</td>\n",
              "      <td>WelcomeEmail</td>\n",
              "      <td>yes</td>\n",
              "      <td>NotApplicable</td>\n",
              "      <td>...</td>\n",
              "      <td>3.0</td>\n",
              "      <td>21.0</td>\n",
              "      <td>12</td>\n",
              "      <td>12</td>\n",
              "      <td>2017</td>\n",
              "      <td>2017</td>\n",
              "      <td>4</td>\n",
              "      <td>4</td>\n",
              "      <td>1</td>\n",
              "      <td>C12121</td>\n",
              "    </tr>\n",
              "    <tr>\n",
              "      <th>1</th>\n",
              "      <td>CITY3</td>\n",
              "      <td>1</td>\n",
              "      <td>0</td>\n",
              "      <td>0</td>\n",
              "      <td>Tuesday</td>\n",
              "      <td>40</td>\n",
              "      <td>1</td>\n",
              "      <td>WelcomeEmail</td>\n",
              "      <td>yes</td>\n",
              "      <td>NotApplicable</td>\n",
              "      <td>...</td>\n",
              "      <td>0.0</td>\n",
              "      <td>0.0</td>\n",
              "      <td>10</td>\n",
              "      <td>10</td>\n",
              "      <td>2013</td>\n",
              "      <td>2013</td>\n",
              "      <td>20</td>\n",
              "      <td>20</td>\n",
              "      <td>2</td>\n",
              "      <td>C12132</td>\n",
              "    </tr>\n",
              "  </tbody>\n",
              "</table>\n",
              "<p>2 rows × 23 columns</p>\n",
              "</div>\n",
              "      <button class=\"colab-df-convert\" onclick=\"convertToInteractive('df-80a6b33f-388d-4d5a-8ce8-b61017bc2b16')\"\n",
              "              title=\"Convert this dataframe to an interactive table.\"\n",
              "              style=\"display:none;\">\n",
              "        \n",
              "  <svg xmlns=\"http://www.w3.org/2000/svg\" height=\"24px\"viewBox=\"0 0 24 24\"\n",
              "       width=\"24px\">\n",
              "    <path d=\"M0 0h24v24H0V0z\" fill=\"none\"/>\n",
              "    <path d=\"M18.56 5.44l.94 2.06.94-2.06 2.06-.94-2.06-.94-.94-2.06-.94 2.06-2.06.94zm-11 1L8.5 8.5l.94-2.06 2.06-.94-2.06-.94L8.5 2.5l-.94 2.06-2.06.94zm10 10l.94 2.06.94-2.06 2.06-.94-2.06-.94-.94-2.06-.94 2.06-2.06.94z\"/><path d=\"M17.41 7.96l-1.37-1.37c-.4-.4-.92-.59-1.43-.59-.52 0-1.04.2-1.43.59L10.3 9.45l-7.72 7.72c-.78.78-.78 2.05 0 2.83L4 21.41c.39.39.9.59 1.41.59.51 0 1.02-.2 1.41-.59l7.78-7.78 2.81-2.81c.8-.78.8-2.07 0-2.86zM5.41 20L4 18.59l7.72-7.72 1.47 1.35L5.41 20z\"/>\n",
              "  </svg>\n",
              "      </button>\n",
              "      \n",
              "  <style>\n",
              "    .colab-df-container {\n",
              "      display:flex;\n",
              "      flex-wrap:wrap;\n",
              "      gap: 12px;\n",
              "    }\n",
              "\n",
              "    .colab-df-convert {\n",
              "      background-color: #E8F0FE;\n",
              "      border: none;\n",
              "      border-radius: 50%;\n",
              "      cursor: pointer;\n",
              "      display: none;\n",
              "      fill: #1967D2;\n",
              "      height: 32px;\n",
              "      padding: 0 0 0 0;\n",
              "      width: 32px;\n",
              "    }\n",
              "\n",
              "    .colab-df-convert:hover {\n",
              "      background-color: #E2EBFA;\n",
              "      box-shadow: 0px 1px 2px rgba(60, 64, 67, 0.3), 0px 1px 3px 1px rgba(60, 64, 67, 0.15);\n",
              "      fill: #174EA6;\n",
              "    }\n",
              "\n",
              "    [theme=dark] .colab-df-convert {\n",
              "      background-color: #3B4455;\n",
              "      fill: #D2E3FC;\n",
              "    }\n",
              "\n",
              "    [theme=dark] .colab-df-convert:hover {\n",
              "      background-color: #434B5C;\n",
              "      box-shadow: 0px 1px 3px 1px rgba(0, 0, 0, 0.15);\n",
              "      filter: drop-shadow(0px 1px 2px rgba(0, 0, 0, 0.3));\n",
              "      fill: #FFFFFF;\n",
              "    }\n",
              "  </style>\n",
              "\n",
              "      <script>\n",
              "        const buttonEl =\n",
              "          document.querySelector('#df-80a6b33f-388d-4d5a-8ce8-b61017bc2b16 button.colab-df-convert');\n",
              "        buttonEl.style.display =\n",
              "          google.colab.kernel.accessAllowed ? 'block' : 'none';\n",
              "\n",
              "        async function convertToInteractive(key) {\n",
              "          const element = document.querySelector('#df-80a6b33f-388d-4d5a-8ce8-b61017bc2b16');\n",
              "          const dataTable =\n",
              "            await google.colab.kernel.invokeFunction('convertToInteractive',\n",
              "                                                     [key], {});\n",
              "          if (!dataTable) return;\n",
              "\n",
              "          const docLinkHtml = 'Like what you see? Visit the ' +\n",
              "            '<a target=\"_blank\" href=https://colab.research.google.com/notebooks/data_table.ipynb>data table notebook</a>'\n",
              "            + ' to learn more about interactive tables.';\n",
              "          element.innerHTML = '';\n",
              "          dataTable['output_type'] = 'display_data';\n",
              "          await google.colab.output.renderOutput(dataTable, element);\n",
              "          const docLink = document.createElement('div');\n",
              "          docLink.innerHTML = docLinkHtml;\n",
              "          element.appendChild(docLink);\n",
              "        }\n",
              "      </script>\n",
              "    </div>\n",
              "  </div>\n",
              "  "
            ]
          },
          "metadata": {},
          "execution_count": 258
        }
      ],
      "source": [
        "finaldtest.head(2)"
      ]
    },
    {
      "cell_type": "code",
      "execution_count": 259,
      "metadata": {
        "id": "GWIdUmPfHoKE"
      },
      "outputs": [],
      "source": [
        "predicteddata = finaldtest[['CustomerID','RetentionPotential']]"
      ]
    },
    {
      "cell_type": "code",
      "execution_count": 260,
      "metadata": {
        "id": "gR9DHvLsHoKE"
      },
      "outputs": [],
      "source": [
        "predicteddata.to_csv('SravanKumar_Venigalla_RPL_FinalHack.csv',index=False)"
      ]
    },
    {
      "cell_type": "code",
      "execution_count": 261,
      "metadata": {
        "id": "WE0vBowTHoKE",
        "colab": {
          "base_uri": "https://localhost:8080/",
          "height": 206
        },
        "outputId": "8a1b2dbb-7973-4c0d-c58c-2a367126ff9e"
      },
      "outputs": [
        {
          "output_type": "execute_result",
          "data": {
            "text/plain": [
              "  CustomerID  RetentionPotential\n",
              "0     C12121                   1\n",
              "1     C12132                   2\n",
              "2     C12134                   2\n",
              "3     C12135                   2\n",
              "4     C12136                   1"
            ],
            "text/html": [
              "\n",
              "  <div id=\"df-cc15b335-9049-4536-b29a-62e574264768\">\n",
              "    <div class=\"colab-df-container\">\n",
              "      <div>\n",
              "<style scoped>\n",
              "    .dataframe tbody tr th:only-of-type {\n",
              "        vertical-align: middle;\n",
              "    }\n",
              "\n",
              "    .dataframe tbody tr th {\n",
              "        vertical-align: top;\n",
              "    }\n",
              "\n",
              "    .dataframe thead th {\n",
              "        text-align: right;\n",
              "    }\n",
              "</style>\n",
              "<table border=\"1\" class=\"dataframe\">\n",
              "  <thead>\n",
              "    <tr style=\"text-align: right;\">\n",
              "      <th></th>\n",
              "      <th>CustomerID</th>\n",
              "      <th>RetentionPotential</th>\n",
              "    </tr>\n",
              "  </thead>\n",
              "  <tbody>\n",
              "    <tr>\n",
              "      <th>0</th>\n",
              "      <td>C12121</td>\n",
              "      <td>1</td>\n",
              "    </tr>\n",
              "    <tr>\n",
              "      <th>1</th>\n",
              "      <td>C12132</td>\n",
              "      <td>2</td>\n",
              "    </tr>\n",
              "    <tr>\n",
              "      <th>2</th>\n",
              "      <td>C12134</td>\n",
              "      <td>2</td>\n",
              "    </tr>\n",
              "    <tr>\n",
              "      <th>3</th>\n",
              "      <td>C12135</td>\n",
              "      <td>2</td>\n",
              "    </tr>\n",
              "    <tr>\n",
              "      <th>4</th>\n",
              "      <td>C12136</td>\n",
              "      <td>1</td>\n",
              "    </tr>\n",
              "  </tbody>\n",
              "</table>\n",
              "</div>\n",
              "      <button class=\"colab-df-convert\" onclick=\"convertToInteractive('df-cc15b335-9049-4536-b29a-62e574264768')\"\n",
              "              title=\"Convert this dataframe to an interactive table.\"\n",
              "              style=\"display:none;\">\n",
              "        \n",
              "  <svg xmlns=\"http://www.w3.org/2000/svg\" height=\"24px\"viewBox=\"0 0 24 24\"\n",
              "       width=\"24px\">\n",
              "    <path d=\"M0 0h24v24H0V0z\" fill=\"none\"/>\n",
              "    <path d=\"M18.56 5.44l.94 2.06.94-2.06 2.06-.94-2.06-.94-.94-2.06-.94 2.06-2.06.94zm-11 1L8.5 8.5l.94-2.06 2.06-.94-2.06-.94L8.5 2.5l-.94 2.06-2.06.94zm10 10l.94 2.06.94-2.06 2.06-.94-2.06-.94-.94-2.06-.94 2.06-2.06.94z\"/><path d=\"M17.41 7.96l-1.37-1.37c-.4-.4-.92-.59-1.43-.59-.52 0-1.04.2-1.43.59L10.3 9.45l-7.72 7.72c-.78.78-.78 2.05 0 2.83L4 21.41c.39.39.9.59 1.41.59.51 0 1.02-.2 1.41-.59l7.78-7.78 2.81-2.81c.8-.78.8-2.07 0-2.86zM5.41 20L4 18.59l7.72-7.72 1.47 1.35L5.41 20z\"/>\n",
              "  </svg>\n",
              "      </button>\n",
              "      \n",
              "  <style>\n",
              "    .colab-df-container {\n",
              "      display:flex;\n",
              "      flex-wrap:wrap;\n",
              "      gap: 12px;\n",
              "    }\n",
              "\n",
              "    .colab-df-convert {\n",
              "      background-color: #E8F0FE;\n",
              "      border: none;\n",
              "      border-radius: 50%;\n",
              "      cursor: pointer;\n",
              "      display: none;\n",
              "      fill: #1967D2;\n",
              "      height: 32px;\n",
              "      padding: 0 0 0 0;\n",
              "      width: 32px;\n",
              "    }\n",
              "\n",
              "    .colab-df-convert:hover {\n",
              "      background-color: #E2EBFA;\n",
              "      box-shadow: 0px 1px 2px rgba(60, 64, 67, 0.3), 0px 1px 3px 1px rgba(60, 64, 67, 0.15);\n",
              "      fill: #174EA6;\n",
              "    }\n",
              "\n",
              "    [theme=dark] .colab-df-convert {\n",
              "      background-color: #3B4455;\n",
              "      fill: #D2E3FC;\n",
              "    }\n",
              "\n",
              "    [theme=dark] .colab-df-convert:hover {\n",
              "      background-color: #434B5C;\n",
              "      box-shadow: 0px 1px 3px 1px rgba(0, 0, 0, 0.15);\n",
              "      filter: drop-shadow(0px 1px 2px rgba(0, 0, 0, 0.3));\n",
              "      fill: #FFFFFF;\n",
              "    }\n",
              "  </style>\n",
              "\n",
              "      <script>\n",
              "        const buttonEl =\n",
              "          document.querySelector('#df-cc15b335-9049-4536-b29a-62e574264768 button.colab-df-convert');\n",
              "        buttonEl.style.display =\n",
              "          google.colab.kernel.accessAllowed ? 'block' : 'none';\n",
              "\n",
              "        async function convertToInteractive(key) {\n",
              "          const element = document.querySelector('#df-cc15b335-9049-4536-b29a-62e574264768');\n",
              "          const dataTable =\n",
              "            await google.colab.kernel.invokeFunction('convertToInteractive',\n",
              "                                                     [key], {});\n",
              "          if (!dataTable) return;\n",
              "\n",
              "          const docLinkHtml = 'Like what you see? Visit the ' +\n",
              "            '<a target=\"_blank\" href=https://colab.research.google.com/notebooks/data_table.ipynb>data table notebook</a>'\n",
              "            + ' to learn more about interactive tables.';\n",
              "          element.innerHTML = '';\n",
              "          dataTable['output_type'] = 'display_data';\n",
              "          await google.colab.output.renderOutput(dataTable, element);\n",
              "          const docLink = document.createElement('div');\n",
              "          docLink.innerHTML = docLinkHtml;\n",
              "          element.appendChild(docLink);\n",
              "        }\n",
              "      </script>\n",
              "    </div>\n",
              "  </div>\n",
              "  "
            ]
          },
          "metadata": {},
          "execution_count": 261
        }
      ],
      "source": [
        "predicteddata.head()"
      ]
    }
  ],
  "metadata": {
    "colab": {
      "provenance": []
    },
    "kernelspec": {
      "display_name": "Python 3",
      "language": "python",
      "name": "python3"
    },
    "language_info": {
      "codemirror_mode": {
        "name": "ipython",
        "version": 3
      },
      "file_extension": ".py",
      "mimetype": "text/x-python",
      "name": "python",
      "nbconvert_exporter": "python",
      "pygments_lexer": "ipython3",
      "version": "3.6.5"
    }
  },
  "nbformat": 4,
  "nbformat_minor": 0
}